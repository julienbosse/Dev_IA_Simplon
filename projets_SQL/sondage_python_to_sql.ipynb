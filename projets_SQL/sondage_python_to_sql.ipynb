{
 "metadata": {
  "language_info": {
   "codemirror_mode": {
    "name": "ipython",
    "version": 3
   },
   "file_extension": ".py",
   "mimetype": "text/x-python",
   "name": "python",
   "nbconvert_exporter": "python",
   "pygments_lexer": "ipython3",
   "version": "3.8.5"
  },
  "orig_nbformat": 2,
  "kernelspec": {
   "name": "python385jvsc74a57bd064b474f71659f9be32f34132c3eef93d33d176ead871b80ca6db3fa26bc83f65",
   "display_name": "Python 3.8.5 64-bit ('base': conda)"
  }
 },
 "nbformat": 4,
 "nbformat_minor": 2,
 "cells": [
  {
   "cell_type": "code",
   "execution_count": 1,
   "metadata": {},
   "outputs": [],
   "source": [
    "import json\n",
    "from sqlalchemy import create_engine\n",
    "import pandas as pd \n",
    "import numpy as np\n",
    "\n",
    "with open(\"sql_credentials.json\") as file:\n",
    "    data = json.load(file)\n",
    "    myUser = data[\"user\"]\n",
    "    myPassword = data[\"password\"]\n",
    "    myHost = data[\"host\"]\n",
    "\n",
    "def connect_db(user, password, host, bd):\n",
    "    s = \"mysql+pymysql://\"\n",
    "    s += user+\":\"+password+\"@\"+host+\"/\"+bd\n",
    "    return create_engine(s)\n",
    "\n",
    "survey = connect_db(myUser,myPassword,myHost,\"survey\")\n",
    "\n",
    "data = pd.read_excel(\"jeux_donnees/Data_Professional_Salary_Survey_Responses_1.xlsx\")\n",
    "data[\"HowManyCompanies\"]=data[\"HowManyCompanies\"].apply(str)\n"
   ]
  },
  {
   "cell_type": "code",
   "execution_count": 52,
   "metadata": {},
   "outputs": [
    {
     "output_type": "execute_result",
     "data": {
      "text/plain": [
       "   sdg_id  sdg_year\n",
       "0       1      2021\n",
       "1       2      2020\n",
       "2       3      2019\n",
       "3       4      2018\n",
       "4       5      2017"
      ],
      "text/html": "<div>\n<style scoped>\n    .dataframe tbody tr th:only-of-type {\n        vertical-align: middle;\n    }\n\n    .dataframe tbody tr th {\n        vertical-align: top;\n    }\n\n    .dataframe thead th {\n        text-align: right;\n    }\n</style>\n<table border=\"1\" class=\"dataframe\">\n  <thead>\n    <tr style=\"text-align: right;\">\n      <th></th>\n      <th>sdg_id</th>\n      <th>sdg_year</th>\n    </tr>\n  </thead>\n  <tbody>\n    <tr>\n      <th>0</th>\n      <td>1</td>\n      <td>2021</td>\n    </tr>\n    <tr>\n      <th>1</th>\n      <td>2</td>\n      <td>2020</td>\n    </tr>\n    <tr>\n      <th>2</th>\n      <td>3</td>\n      <td>2019</td>\n    </tr>\n    <tr>\n      <th>3</th>\n      <td>4</td>\n      <td>2018</td>\n    </tr>\n    <tr>\n      <th>4</th>\n      <td>5</td>\n      <td>2017</td>\n    </tr>\n  </tbody>\n</table>\n</div>"
     },
     "metadata": {},
     "execution_count": 52
    }
   ],
   "source": [
    "table_sondage = pd.read_sql_query(\"SELECT * FROM sondage\", survey)\n",
    "table_sondage[\"sdg_year\"] = data[\"Survey Year\"]\n",
    "table_sondage.drop_duplicates(inplace=True)\n",
    "table_sondage.to_sql('sondage', if_exists='append', con=survey, index=False)\n",
    "\n",
    "pd.read_sql_query(\"select * from sondage\", survey)\n"
   ]
  },
  {
   "cell_type": "code",
   "execution_count": 54,
   "metadata": {},
   "outputs": [
    {
     "output_type": "error",
     "ename": "IntegrityError",
     "evalue": "(pymysql.err.IntegrityError) (1062, \"Duplicate entry '1' for key 'PRIMARY'\")\n[SQL: INSERT INTO country (ctr_id, ctr_name) VALUES (%(ctr_id)s, %(ctr_name)s)]\n[parameters: ({'ctr_id': 1, 'ctr_name': 'Sweden'}, {'ctr_id': 2, 'ctr_name': 'United States'}, {'ctr_id': 3, 'ctr_name': 'United States'}, {'ctr_id': 4, 'ctr_name': 'United Kingdom'}, {'ctr_id': 5, 'ctr_name': 'United States'}, {'ctr_id': 6, 'ctr_name': 'Pakistan'}, {'ctr_id': 7, 'ctr_name': 'United States'}, {'ctr_id': 8, 'ctr_name': 'United States'}  ... displaying 10 of 97 total bound parameter sets ...  {'ctr_id': 96, 'ctr_name': 'United States'}, {'ctr_id': 97, 'ctr_name': 'United States'})]\n(Background on this error at: http://sqlalche.me/e/13/gkpj)",
     "traceback": [
      "\u001b[0;31m---------------------------------------------------------------------------\u001b[0m",
      "\u001b[0;31mIntegrityError\u001b[0m                            Traceback (most recent call last)",
      "\u001b[0;32m~/anaconda3/lib/python3.8/site-packages/sqlalchemy/engine/base.py\u001b[0m in \u001b[0;36m_execute_context\u001b[0;34m(self, dialect, constructor, statement, parameters, *args)\u001b[0m\n\u001b[1;32m   1255\u001b[0m                 \u001b[0;32mif\u001b[0m \u001b[0;32mnot\u001b[0m \u001b[0mevt_handled\u001b[0m\u001b[0;34m:\u001b[0m\u001b[0;34m\u001b[0m\u001b[0;34m\u001b[0m\u001b[0m\n\u001b[0;32m-> 1256\u001b[0;31m                     self.dialect.do_executemany(\n\u001b[0m\u001b[1;32m   1257\u001b[0m                         \u001b[0mcursor\u001b[0m\u001b[0;34m,\u001b[0m \u001b[0mstatement\u001b[0m\u001b[0;34m,\u001b[0m \u001b[0mparameters\u001b[0m\u001b[0;34m,\u001b[0m \u001b[0mcontext\u001b[0m\u001b[0;34m\u001b[0m\u001b[0;34m\u001b[0m\u001b[0m\n",
      "\u001b[0;32m~/anaconda3/lib/python3.8/site-packages/sqlalchemy/dialects/mysql/mysqldb.py\u001b[0m in \u001b[0;36mdo_executemany\u001b[0;34m(self, cursor, statement, parameters, context)\u001b[0m\n\u001b[1;32m    147\u001b[0m     \u001b[0;32mdef\u001b[0m \u001b[0mdo_executemany\u001b[0m\u001b[0;34m(\u001b[0m\u001b[0mself\u001b[0m\u001b[0;34m,\u001b[0m \u001b[0mcursor\u001b[0m\u001b[0;34m,\u001b[0m \u001b[0mstatement\u001b[0m\u001b[0;34m,\u001b[0m \u001b[0mparameters\u001b[0m\u001b[0;34m,\u001b[0m \u001b[0mcontext\u001b[0m\u001b[0;34m=\u001b[0m\u001b[0;32mNone\u001b[0m\u001b[0;34m)\u001b[0m\u001b[0;34m:\u001b[0m\u001b[0;34m\u001b[0m\u001b[0;34m\u001b[0m\u001b[0m\n\u001b[0;32m--> 148\u001b[0;31m         \u001b[0mrowcount\u001b[0m \u001b[0;34m=\u001b[0m \u001b[0mcursor\u001b[0m\u001b[0;34m.\u001b[0m\u001b[0mexecutemany\u001b[0m\u001b[0;34m(\u001b[0m\u001b[0mstatement\u001b[0m\u001b[0;34m,\u001b[0m \u001b[0mparameters\u001b[0m\u001b[0;34m)\u001b[0m\u001b[0;34m\u001b[0m\u001b[0;34m\u001b[0m\u001b[0m\n\u001b[0m\u001b[1;32m    149\u001b[0m         \u001b[0;32mif\u001b[0m \u001b[0mcontext\u001b[0m \u001b[0;32mis\u001b[0m \u001b[0;32mnot\u001b[0m \u001b[0;32mNone\u001b[0m\u001b[0;34m:\u001b[0m\u001b[0;34m\u001b[0m\u001b[0;34m\u001b[0m\u001b[0m\n",
      "\u001b[0;32m~/anaconda3/lib/python3.8/site-packages/pymysql/cursors.py\u001b[0m in \u001b[0;36mexecutemany\u001b[0;34m(self, query, args)\u001b[0m\n\u001b[1;32m    172\u001b[0m             \u001b[0;32massert\u001b[0m \u001b[0mq_values\u001b[0m\u001b[0;34m[\u001b[0m\u001b[0;36m0\u001b[0m\u001b[0;34m]\u001b[0m \u001b[0;34m==\u001b[0m \u001b[0;34m\"(\"\u001b[0m \u001b[0;32mand\u001b[0m \u001b[0mq_values\u001b[0m\u001b[0;34m[\u001b[0m\u001b[0;34m-\u001b[0m\u001b[0;36m1\u001b[0m\u001b[0;34m]\u001b[0m \u001b[0;34m==\u001b[0m \u001b[0;34m\")\"\u001b[0m\u001b[0;34m\u001b[0m\u001b[0;34m\u001b[0m\u001b[0m\n\u001b[0;32m--> 173\u001b[0;31m             return self._do_execute_many(\n\u001b[0m\u001b[1;32m    174\u001b[0m                 \u001b[0mq_prefix\u001b[0m\u001b[0;34m,\u001b[0m\u001b[0;34m\u001b[0m\u001b[0;34m\u001b[0m\u001b[0m\n",
      "\u001b[0;32m~/anaconda3/lib/python3.8/site-packages/pymysql/cursors.py\u001b[0m in \u001b[0;36m_do_execute_many\u001b[0;34m(self, prefix, values, postfix, args, max_stmt_length, encoding)\u001b[0m\n\u001b[1;32m    210\u001b[0m             \u001b[0msql\u001b[0m \u001b[0;34m+=\u001b[0m \u001b[0mv\u001b[0m\u001b[0;34m\u001b[0m\u001b[0;34m\u001b[0m\u001b[0m\n\u001b[0;32m--> 211\u001b[0;31m         \u001b[0mrows\u001b[0m \u001b[0;34m+=\u001b[0m \u001b[0mself\u001b[0m\u001b[0;34m.\u001b[0m\u001b[0mexecute\u001b[0m\u001b[0;34m(\u001b[0m\u001b[0msql\u001b[0m \u001b[0;34m+\u001b[0m \u001b[0mpostfix\u001b[0m\u001b[0;34m)\u001b[0m\u001b[0;34m\u001b[0m\u001b[0;34m\u001b[0m\u001b[0m\n\u001b[0m\u001b[1;32m    212\u001b[0m         \u001b[0mself\u001b[0m\u001b[0;34m.\u001b[0m\u001b[0mrowcount\u001b[0m \u001b[0;34m=\u001b[0m \u001b[0mrows\u001b[0m\u001b[0;34m\u001b[0m\u001b[0;34m\u001b[0m\u001b[0m\n",
      "\u001b[0;32m~/anaconda3/lib/python3.8/site-packages/pymysql/cursors.py\u001b[0m in \u001b[0;36mexecute\u001b[0;34m(self, query, args)\u001b[0m\n\u001b[1;32m    147\u001b[0m \u001b[0;34m\u001b[0m\u001b[0m\n\u001b[0;32m--> 148\u001b[0;31m         \u001b[0mresult\u001b[0m \u001b[0;34m=\u001b[0m \u001b[0mself\u001b[0m\u001b[0;34m.\u001b[0m\u001b[0m_query\u001b[0m\u001b[0;34m(\u001b[0m\u001b[0mquery\u001b[0m\u001b[0;34m)\u001b[0m\u001b[0;34m\u001b[0m\u001b[0;34m\u001b[0m\u001b[0m\n\u001b[0m\u001b[1;32m    149\u001b[0m         \u001b[0mself\u001b[0m\u001b[0;34m.\u001b[0m\u001b[0m_executed\u001b[0m \u001b[0;34m=\u001b[0m \u001b[0mquery\u001b[0m\u001b[0;34m\u001b[0m\u001b[0;34m\u001b[0m\u001b[0m\n",
      "\u001b[0;32m~/anaconda3/lib/python3.8/site-packages/pymysql/cursors.py\u001b[0m in \u001b[0;36m_query\u001b[0;34m(self, q)\u001b[0m\n\u001b[1;32m    309\u001b[0m         \u001b[0mself\u001b[0m\u001b[0;34m.\u001b[0m\u001b[0m_clear_result\u001b[0m\u001b[0;34m(\u001b[0m\u001b[0;34m)\u001b[0m\u001b[0;34m\u001b[0m\u001b[0;34m\u001b[0m\u001b[0m\n\u001b[0;32m--> 310\u001b[0;31m         \u001b[0mconn\u001b[0m\u001b[0;34m.\u001b[0m\u001b[0mquery\u001b[0m\u001b[0;34m(\u001b[0m\u001b[0mq\u001b[0m\u001b[0;34m)\u001b[0m\u001b[0;34m\u001b[0m\u001b[0;34m\u001b[0m\u001b[0m\n\u001b[0m\u001b[1;32m    311\u001b[0m         \u001b[0mself\u001b[0m\u001b[0;34m.\u001b[0m\u001b[0m_do_get_result\u001b[0m\u001b[0;34m(\u001b[0m\u001b[0;34m)\u001b[0m\u001b[0;34m\u001b[0m\u001b[0;34m\u001b[0m\u001b[0m\n",
      "\u001b[0;32m~/anaconda3/lib/python3.8/site-packages/pymysql/connections.py\u001b[0m in \u001b[0;36mquery\u001b[0;34m(self, sql, unbuffered)\u001b[0m\n\u001b[1;32m    547\u001b[0m         \u001b[0mself\u001b[0m\u001b[0;34m.\u001b[0m\u001b[0m_execute_command\u001b[0m\u001b[0;34m(\u001b[0m\u001b[0mCOMMAND\u001b[0m\u001b[0;34m.\u001b[0m\u001b[0mCOM_QUERY\u001b[0m\u001b[0;34m,\u001b[0m \u001b[0msql\u001b[0m\u001b[0;34m)\u001b[0m\u001b[0;34m\u001b[0m\u001b[0;34m\u001b[0m\u001b[0m\n\u001b[0;32m--> 548\u001b[0;31m         \u001b[0mself\u001b[0m\u001b[0;34m.\u001b[0m\u001b[0m_affected_rows\u001b[0m \u001b[0;34m=\u001b[0m \u001b[0mself\u001b[0m\u001b[0;34m.\u001b[0m\u001b[0m_read_query_result\u001b[0m\u001b[0;34m(\u001b[0m\u001b[0munbuffered\u001b[0m\u001b[0;34m=\u001b[0m\u001b[0munbuffered\u001b[0m\u001b[0;34m)\u001b[0m\u001b[0;34m\u001b[0m\u001b[0;34m\u001b[0m\u001b[0m\n\u001b[0m\u001b[1;32m    549\u001b[0m         \u001b[0;32mreturn\u001b[0m \u001b[0mself\u001b[0m\u001b[0;34m.\u001b[0m\u001b[0m_affected_rows\u001b[0m\u001b[0;34m\u001b[0m\u001b[0;34m\u001b[0m\u001b[0m\n",
      "\u001b[0;32m~/anaconda3/lib/python3.8/site-packages/pymysql/connections.py\u001b[0m in \u001b[0;36m_read_query_result\u001b[0;34m(self, unbuffered)\u001b[0m\n\u001b[1;32m    774\u001b[0m             \u001b[0mresult\u001b[0m \u001b[0;34m=\u001b[0m \u001b[0mMySQLResult\u001b[0m\u001b[0;34m(\u001b[0m\u001b[0mself\u001b[0m\u001b[0;34m)\u001b[0m\u001b[0;34m\u001b[0m\u001b[0;34m\u001b[0m\u001b[0m\n\u001b[0;32m--> 775\u001b[0;31m             \u001b[0mresult\u001b[0m\u001b[0;34m.\u001b[0m\u001b[0mread\u001b[0m\u001b[0;34m(\u001b[0m\u001b[0;34m)\u001b[0m\u001b[0;34m\u001b[0m\u001b[0;34m\u001b[0m\u001b[0m\n\u001b[0m\u001b[1;32m    776\u001b[0m         \u001b[0mself\u001b[0m\u001b[0;34m.\u001b[0m\u001b[0m_result\u001b[0m \u001b[0;34m=\u001b[0m \u001b[0mresult\u001b[0m\u001b[0;34m\u001b[0m\u001b[0;34m\u001b[0m\u001b[0m\n",
      "\u001b[0;32m~/anaconda3/lib/python3.8/site-packages/pymysql/connections.py\u001b[0m in \u001b[0;36mread\u001b[0;34m(self)\u001b[0m\n\u001b[1;32m   1155\u001b[0m         \u001b[0;32mtry\u001b[0m\u001b[0;34m:\u001b[0m\u001b[0;34m\u001b[0m\u001b[0;34m\u001b[0m\u001b[0m\n\u001b[0;32m-> 1156\u001b[0;31m             \u001b[0mfirst_packet\u001b[0m \u001b[0;34m=\u001b[0m \u001b[0mself\u001b[0m\u001b[0;34m.\u001b[0m\u001b[0mconnection\u001b[0m\u001b[0;34m.\u001b[0m\u001b[0m_read_packet\u001b[0m\u001b[0;34m(\u001b[0m\u001b[0;34m)\u001b[0m\u001b[0;34m\u001b[0m\u001b[0;34m\u001b[0m\u001b[0m\n\u001b[0m\u001b[1;32m   1157\u001b[0m \u001b[0;34m\u001b[0m\u001b[0m\n",
      "\u001b[0;32m~/anaconda3/lib/python3.8/site-packages/pymysql/connections.py\u001b[0m in \u001b[0;36m_read_packet\u001b[0;34m(self, packet_type)\u001b[0m\n\u001b[1;32m    724\u001b[0m                 \u001b[0mself\u001b[0m\u001b[0;34m.\u001b[0m\u001b[0m_result\u001b[0m\u001b[0;34m.\u001b[0m\u001b[0munbuffered_active\u001b[0m \u001b[0;34m=\u001b[0m \u001b[0;32mFalse\u001b[0m\u001b[0;34m\u001b[0m\u001b[0;34m\u001b[0m\u001b[0m\n\u001b[0;32m--> 725\u001b[0;31m             \u001b[0mpacket\u001b[0m\u001b[0;34m.\u001b[0m\u001b[0mraise_for_error\u001b[0m\u001b[0;34m(\u001b[0m\u001b[0;34m)\u001b[0m\u001b[0;34m\u001b[0m\u001b[0;34m\u001b[0m\u001b[0m\n\u001b[0m\u001b[1;32m    726\u001b[0m         \u001b[0;32mreturn\u001b[0m \u001b[0mpacket\u001b[0m\u001b[0;34m\u001b[0m\u001b[0;34m\u001b[0m\u001b[0m\n",
      "\u001b[0;32m~/anaconda3/lib/python3.8/site-packages/pymysql/protocol.py\u001b[0m in \u001b[0;36mraise_for_error\u001b[0;34m(self)\u001b[0m\n\u001b[1;32m    220\u001b[0m             \u001b[0mprint\u001b[0m\u001b[0;34m(\u001b[0m\u001b[0;34m\"errno =\"\u001b[0m\u001b[0;34m,\u001b[0m \u001b[0merrno\u001b[0m\u001b[0;34m)\u001b[0m\u001b[0;34m\u001b[0m\u001b[0;34m\u001b[0m\u001b[0m\n\u001b[0;32m--> 221\u001b[0;31m         \u001b[0merr\u001b[0m\u001b[0;34m.\u001b[0m\u001b[0mraise_mysql_exception\u001b[0m\u001b[0;34m(\u001b[0m\u001b[0mself\u001b[0m\u001b[0;34m.\u001b[0m\u001b[0m_data\u001b[0m\u001b[0;34m)\u001b[0m\u001b[0;34m\u001b[0m\u001b[0;34m\u001b[0m\u001b[0m\n\u001b[0m\u001b[1;32m    222\u001b[0m \u001b[0;34m\u001b[0m\u001b[0m\n",
      "\u001b[0;32m~/anaconda3/lib/python3.8/site-packages/pymysql/err.py\u001b[0m in \u001b[0;36mraise_mysql_exception\u001b[0;34m(data)\u001b[0m\n\u001b[1;32m    142\u001b[0m         \u001b[0merrorclass\u001b[0m \u001b[0;34m=\u001b[0m \u001b[0mInternalError\u001b[0m \u001b[0;32mif\u001b[0m \u001b[0merrno\u001b[0m \u001b[0;34m<\u001b[0m \u001b[0;36m1000\u001b[0m \u001b[0;32melse\u001b[0m \u001b[0mOperationalError\u001b[0m\u001b[0;34m\u001b[0m\u001b[0;34m\u001b[0m\u001b[0m\n\u001b[0;32m--> 143\u001b[0;31m     \u001b[0;32mraise\u001b[0m \u001b[0merrorclass\u001b[0m\u001b[0;34m(\u001b[0m\u001b[0merrno\u001b[0m\u001b[0;34m,\u001b[0m \u001b[0merrval\u001b[0m\u001b[0;34m)\u001b[0m\u001b[0;34m\u001b[0m\u001b[0;34m\u001b[0m\u001b[0m\n\u001b[0m",
      "\u001b[0;31mIntegrityError\u001b[0m: (1062, \"Duplicate entry '1' for key 'PRIMARY'\")",
      "\nThe above exception was the direct cause of the following exception:\n",
      "\u001b[0;31mIntegrityError\u001b[0m                            Traceback (most recent call last)",
      "\u001b[0;32m<ipython-input-54-224aad5ab333>\u001b[0m in \u001b[0;36m<module>\u001b[0;34m\u001b[0m\n\u001b[1;32m      2\u001b[0m \u001b[0mtable_country\u001b[0m\u001b[0;34m[\u001b[0m\u001b[0mtable_country\u001b[0m\u001b[0;34m.\u001b[0m\u001b[0mcolumns\u001b[0m\u001b[0;34m[\u001b[0m\u001b[0;36m1\u001b[0m\u001b[0;34m]\u001b[0m\u001b[0;34m]\u001b[0m \u001b[0;34m=\u001b[0m \u001b[0mdata\u001b[0m\u001b[0;34m[\u001b[0m\u001b[0;34m\"Country\"\u001b[0m\u001b[0;34m]\u001b[0m\u001b[0;34m\u001b[0m\u001b[0;34m\u001b[0m\u001b[0m\n\u001b[1;32m      3\u001b[0m \u001b[0mtable_country\u001b[0m\u001b[0;34m.\u001b[0m\u001b[0mdrop_duplicates\u001b[0m\u001b[0;34m(\u001b[0m\u001b[0minplace\u001b[0m\u001b[0;34m=\u001b[0m\u001b[0;32mTrue\u001b[0m\u001b[0;34m)\u001b[0m\u001b[0;34m\u001b[0m\u001b[0;34m\u001b[0m\u001b[0m\n\u001b[0;32m----> 4\u001b[0;31m \u001b[0mtable_country\u001b[0m\u001b[0;34m.\u001b[0m\u001b[0mto_sql\u001b[0m\u001b[0;34m(\u001b[0m\u001b[0;34m'country'\u001b[0m\u001b[0;34m,\u001b[0m \u001b[0mif_exists\u001b[0m\u001b[0;34m=\u001b[0m\u001b[0;34m'append'\u001b[0m\u001b[0;34m,\u001b[0m \u001b[0mcon\u001b[0m\u001b[0;34m=\u001b[0m\u001b[0msurvey\u001b[0m\u001b[0;34m,\u001b[0m \u001b[0mindex\u001b[0m\u001b[0;34m=\u001b[0m\u001b[0;32mFalse\u001b[0m\u001b[0;34m)\u001b[0m\u001b[0;34m\u001b[0m\u001b[0;34m\u001b[0m\u001b[0m\n\u001b[0m\u001b[1;32m      5\u001b[0m \u001b[0;34m\u001b[0m\u001b[0m\n\u001b[1;32m      6\u001b[0m \u001b[0mpd\u001b[0m\u001b[0;34m.\u001b[0m\u001b[0mread_sql_query\u001b[0m\u001b[0;34m(\u001b[0m\u001b[0;34m\"select * from country\"\u001b[0m\u001b[0;34m,\u001b[0m \u001b[0msurvey\u001b[0m\u001b[0;34m)\u001b[0m\u001b[0;34m\u001b[0m\u001b[0;34m\u001b[0m\u001b[0m\n",
      "\u001b[0;32m~/anaconda3/lib/python3.8/site-packages/pandas/core/generic.py\u001b[0m in \u001b[0;36mto_sql\u001b[0;34m(self, name, con, schema, if_exists, index, index_label, chunksize, dtype, method)\u001b[0m\n\u001b[1;32m   2603\u001b[0m         \u001b[0;32mfrom\u001b[0m \u001b[0mpandas\u001b[0m\u001b[0;34m.\u001b[0m\u001b[0mio\u001b[0m \u001b[0;32mimport\u001b[0m \u001b[0msql\u001b[0m\u001b[0;34m\u001b[0m\u001b[0;34m\u001b[0m\u001b[0m\n\u001b[1;32m   2604\u001b[0m \u001b[0;34m\u001b[0m\u001b[0m\n\u001b[0;32m-> 2605\u001b[0;31m         sql.to_sql(\n\u001b[0m\u001b[1;32m   2606\u001b[0m             \u001b[0mself\u001b[0m\u001b[0;34m,\u001b[0m\u001b[0;34m\u001b[0m\u001b[0;34m\u001b[0m\u001b[0m\n\u001b[1;32m   2607\u001b[0m             \u001b[0mname\u001b[0m\u001b[0;34m,\u001b[0m\u001b[0;34m\u001b[0m\u001b[0;34m\u001b[0m\u001b[0m\n",
      "\u001b[0;32m~/anaconda3/lib/python3.8/site-packages/pandas/io/sql.py\u001b[0m in \u001b[0;36mto_sql\u001b[0;34m(frame, name, con, schema, if_exists, index, index_label, chunksize, dtype, method)\u001b[0m\n\u001b[1;32m    587\u001b[0m         )\n\u001b[1;32m    588\u001b[0m \u001b[0;34m\u001b[0m\u001b[0m\n\u001b[0;32m--> 589\u001b[0;31m     pandas_sql.to_sql(\n\u001b[0m\u001b[1;32m    590\u001b[0m         \u001b[0mframe\u001b[0m\u001b[0;34m,\u001b[0m\u001b[0;34m\u001b[0m\u001b[0;34m\u001b[0m\u001b[0m\n\u001b[1;32m    591\u001b[0m         \u001b[0mname\u001b[0m\u001b[0;34m,\u001b[0m\u001b[0;34m\u001b[0m\u001b[0;34m\u001b[0m\u001b[0m\n",
      "\u001b[0;32m~/anaconda3/lib/python3.8/site-packages/pandas/io/sql.py\u001b[0m in \u001b[0;36mto_sql\u001b[0;34m(self, frame, name, if_exists, index, index_label, schema, chunksize, dtype, method)\u001b[0m\n\u001b[1;32m   1404\u001b[0m                 \u001b[0;32mraise\u001b[0m \u001b[0mValueError\u001b[0m\u001b[0;34m(\u001b[0m\u001b[0;34m\"inf cannot be used with MySQL\"\u001b[0m\u001b[0;34m)\u001b[0m \u001b[0;32mfrom\u001b[0m \u001b[0merr\u001b[0m\u001b[0;34m\u001b[0m\u001b[0;34m\u001b[0m\u001b[0m\n\u001b[1;32m   1405\u001b[0m             \u001b[0;32melse\u001b[0m\u001b[0;34m:\u001b[0m\u001b[0;34m\u001b[0m\u001b[0;34m\u001b[0m\u001b[0m\n\u001b[0;32m-> 1406\u001b[0;31m                 \u001b[0;32mraise\u001b[0m \u001b[0merr\u001b[0m\u001b[0;34m\u001b[0m\u001b[0;34m\u001b[0m\u001b[0m\n\u001b[0m\u001b[1;32m   1407\u001b[0m \u001b[0;34m\u001b[0m\u001b[0m\n\u001b[1;32m   1408\u001b[0m         \u001b[0;32mif\u001b[0m \u001b[0;32mnot\u001b[0m \u001b[0mname\u001b[0m\u001b[0;34m.\u001b[0m\u001b[0misdigit\u001b[0m\u001b[0;34m(\u001b[0m\u001b[0;34m)\u001b[0m \u001b[0;32mand\u001b[0m \u001b[0;32mnot\u001b[0m \u001b[0mname\u001b[0m\u001b[0;34m.\u001b[0m\u001b[0mislower\u001b[0m\u001b[0;34m(\u001b[0m\u001b[0;34m)\u001b[0m\u001b[0;34m:\u001b[0m\u001b[0;34m\u001b[0m\u001b[0;34m\u001b[0m\u001b[0m\n",
      "\u001b[0;32m~/anaconda3/lib/python3.8/site-packages/pandas/io/sql.py\u001b[0m in \u001b[0;36mto_sql\u001b[0;34m(self, frame, name, if_exists, index, index_label, schema, chunksize, dtype, method)\u001b[0m\n\u001b[1;32m   1396\u001b[0m \u001b[0;34m\u001b[0m\u001b[0m\n\u001b[1;32m   1397\u001b[0m         \u001b[0;32mtry\u001b[0m\u001b[0;34m:\u001b[0m\u001b[0;34m\u001b[0m\u001b[0;34m\u001b[0m\u001b[0m\n\u001b[0;32m-> 1398\u001b[0;31m             \u001b[0mtable\u001b[0m\u001b[0;34m.\u001b[0m\u001b[0minsert\u001b[0m\u001b[0;34m(\u001b[0m\u001b[0mchunksize\u001b[0m\u001b[0;34m,\u001b[0m \u001b[0mmethod\u001b[0m\u001b[0;34m=\u001b[0m\u001b[0mmethod\u001b[0m\u001b[0;34m)\u001b[0m\u001b[0;34m\u001b[0m\u001b[0;34m\u001b[0m\u001b[0m\n\u001b[0m\u001b[1;32m   1399\u001b[0m         \u001b[0;32mexcept\u001b[0m \u001b[0mexc\u001b[0m\u001b[0;34m.\u001b[0m\u001b[0mSQLAlchemyError\u001b[0m \u001b[0;32mas\u001b[0m \u001b[0merr\u001b[0m\u001b[0;34m:\u001b[0m\u001b[0;34m\u001b[0m\u001b[0;34m\u001b[0m\u001b[0m\n\u001b[1;32m   1400\u001b[0m             \u001b[0;31m# GH34431\u001b[0m\u001b[0;34m\u001b[0m\u001b[0;34m\u001b[0m\u001b[0;34m\u001b[0m\u001b[0m\n",
      "\u001b[0;32m~/anaconda3/lib/python3.8/site-packages/pandas/io/sql.py\u001b[0m in \u001b[0;36minsert\u001b[0;34m(self, chunksize, method)\u001b[0m\n\u001b[1;32m    828\u001b[0m \u001b[0;34m\u001b[0m\u001b[0m\n\u001b[1;32m    829\u001b[0m                 \u001b[0mchunk_iter\u001b[0m \u001b[0;34m=\u001b[0m \u001b[0mzip\u001b[0m\u001b[0;34m(\u001b[0m\u001b[0;34m*\u001b[0m\u001b[0;34m[\u001b[0m\u001b[0marr\u001b[0m\u001b[0;34m[\u001b[0m\u001b[0mstart_i\u001b[0m\u001b[0;34m:\u001b[0m\u001b[0mend_i\u001b[0m\u001b[0;34m]\u001b[0m \u001b[0;32mfor\u001b[0m \u001b[0marr\u001b[0m \u001b[0;32min\u001b[0m \u001b[0mdata_list\u001b[0m\u001b[0;34m]\u001b[0m\u001b[0;34m)\u001b[0m\u001b[0;34m\u001b[0m\u001b[0;34m\u001b[0m\u001b[0m\n\u001b[0;32m--> 830\u001b[0;31m                 \u001b[0mexec_insert\u001b[0m\u001b[0;34m(\u001b[0m\u001b[0mconn\u001b[0m\u001b[0;34m,\u001b[0m \u001b[0mkeys\u001b[0m\u001b[0;34m,\u001b[0m \u001b[0mchunk_iter\u001b[0m\u001b[0;34m)\u001b[0m\u001b[0;34m\u001b[0m\u001b[0;34m\u001b[0m\u001b[0m\n\u001b[0m\u001b[1;32m    831\u001b[0m \u001b[0;34m\u001b[0m\u001b[0m\n\u001b[1;32m    832\u001b[0m     def _query_iterator(\n",
      "\u001b[0;32m~/anaconda3/lib/python3.8/site-packages/pandas/io/sql.py\u001b[0m in \u001b[0;36m_execute_insert\u001b[0;34m(self, conn, keys, data_iter)\u001b[0m\n\u001b[1;32m    745\u001b[0m         \"\"\"\n\u001b[1;32m    746\u001b[0m         \u001b[0mdata\u001b[0m \u001b[0;34m=\u001b[0m \u001b[0;34m[\u001b[0m\u001b[0mdict\u001b[0m\u001b[0;34m(\u001b[0m\u001b[0mzip\u001b[0m\u001b[0;34m(\u001b[0m\u001b[0mkeys\u001b[0m\u001b[0;34m,\u001b[0m \u001b[0mrow\u001b[0m\u001b[0;34m)\u001b[0m\u001b[0;34m)\u001b[0m \u001b[0;32mfor\u001b[0m \u001b[0mrow\u001b[0m \u001b[0;32min\u001b[0m \u001b[0mdata_iter\u001b[0m\u001b[0;34m]\u001b[0m\u001b[0;34m\u001b[0m\u001b[0;34m\u001b[0m\u001b[0m\n\u001b[0;32m--> 747\u001b[0;31m         \u001b[0mconn\u001b[0m\u001b[0;34m.\u001b[0m\u001b[0mexecute\u001b[0m\u001b[0;34m(\u001b[0m\u001b[0mself\u001b[0m\u001b[0;34m.\u001b[0m\u001b[0mtable\u001b[0m\u001b[0;34m.\u001b[0m\u001b[0minsert\u001b[0m\u001b[0;34m(\u001b[0m\u001b[0;34m)\u001b[0m\u001b[0;34m,\u001b[0m \u001b[0mdata\u001b[0m\u001b[0;34m)\u001b[0m\u001b[0;34m\u001b[0m\u001b[0;34m\u001b[0m\u001b[0m\n\u001b[0m\u001b[1;32m    748\u001b[0m \u001b[0;34m\u001b[0m\u001b[0m\n\u001b[1;32m    749\u001b[0m     \u001b[0;32mdef\u001b[0m \u001b[0m_execute_insert_multi\u001b[0m\u001b[0;34m(\u001b[0m\u001b[0mself\u001b[0m\u001b[0;34m,\u001b[0m \u001b[0mconn\u001b[0m\u001b[0;34m,\u001b[0m \u001b[0mkeys\u001b[0m\u001b[0;34m,\u001b[0m \u001b[0mdata_iter\u001b[0m\u001b[0;34m)\u001b[0m\u001b[0;34m:\u001b[0m\u001b[0;34m\u001b[0m\u001b[0;34m\u001b[0m\u001b[0m\n",
      "\u001b[0;32m~/anaconda3/lib/python3.8/site-packages/sqlalchemy/engine/base.py\u001b[0m in \u001b[0;36mexecute\u001b[0;34m(self, object_, *multiparams, **params)\u001b[0m\n\u001b[1;32m   1009\u001b[0m             )\n\u001b[1;32m   1010\u001b[0m         \u001b[0;32melse\u001b[0m\u001b[0;34m:\u001b[0m\u001b[0;34m\u001b[0m\u001b[0;34m\u001b[0m\u001b[0m\n\u001b[0;32m-> 1011\u001b[0;31m             \u001b[0;32mreturn\u001b[0m \u001b[0mmeth\u001b[0m\u001b[0;34m(\u001b[0m\u001b[0mself\u001b[0m\u001b[0;34m,\u001b[0m \u001b[0mmultiparams\u001b[0m\u001b[0;34m,\u001b[0m \u001b[0mparams\u001b[0m\u001b[0;34m)\u001b[0m\u001b[0;34m\u001b[0m\u001b[0;34m\u001b[0m\u001b[0m\n\u001b[0m\u001b[1;32m   1012\u001b[0m \u001b[0;34m\u001b[0m\u001b[0m\n\u001b[1;32m   1013\u001b[0m     \u001b[0;32mdef\u001b[0m \u001b[0m_execute_function\u001b[0m\u001b[0;34m(\u001b[0m\u001b[0mself\u001b[0m\u001b[0;34m,\u001b[0m \u001b[0mfunc\u001b[0m\u001b[0;34m,\u001b[0m \u001b[0mmultiparams\u001b[0m\u001b[0;34m,\u001b[0m \u001b[0mparams\u001b[0m\u001b[0;34m)\u001b[0m\u001b[0;34m:\u001b[0m\u001b[0;34m\u001b[0m\u001b[0;34m\u001b[0m\u001b[0m\n",
      "\u001b[0;32m~/anaconda3/lib/python3.8/site-packages/sqlalchemy/sql/elements.py\u001b[0m in \u001b[0;36m_execute_on_connection\u001b[0;34m(self, connection, multiparams, params)\u001b[0m\n\u001b[1;32m    296\u001b[0m     \u001b[0;32mdef\u001b[0m \u001b[0m_execute_on_connection\u001b[0m\u001b[0;34m(\u001b[0m\u001b[0mself\u001b[0m\u001b[0;34m,\u001b[0m \u001b[0mconnection\u001b[0m\u001b[0;34m,\u001b[0m \u001b[0mmultiparams\u001b[0m\u001b[0;34m,\u001b[0m \u001b[0mparams\u001b[0m\u001b[0;34m)\u001b[0m\u001b[0;34m:\u001b[0m\u001b[0;34m\u001b[0m\u001b[0;34m\u001b[0m\u001b[0m\n\u001b[1;32m    297\u001b[0m         \u001b[0;32mif\u001b[0m \u001b[0mself\u001b[0m\u001b[0;34m.\u001b[0m\u001b[0msupports_execution\u001b[0m\u001b[0;34m:\u001b[0m\u001b[0;34m\u001b[0m\u001b[0;34m\u001b[0m\u001b[0m\n\u001b[0;32m--> 298\u001b[0;31m             \u001b[0;32mreturn\u001b[0m \u001b[0mconnection\u001b[0m\u001b[0;34m.\u001b[0m\u001b[0m_execute_clauseelement\u001b[0m\u001b[0;34m(\u001b[0m\u001b[0mself\u001b[0m\u001b[0;34m,\u001b[0m \u001b[0mmultiparams\u001b[0m\u001b[0;34m,\u001b[0m \u001b[0mparams\u001b[0m\u001b[0;34m)\u001b[0m\u001b[0;34m\u001b[0m\u001b[0;34m\u001b[0m\u001b[0m\n\u001b[0m\u001b[1;32m    299\u001b[0m         \u001b[0;32melse\u001b[0m\u001b[0;34m:\u001b[0m\u001b[0;34m\u001b[0m\u001b[0;34m\u001b[0m\u001b[0m\n\u001b[1;32m    300\u001b[0m             \u001b[0;32mraise\u001b[0m \u001b[0mexc\u001b[0m\u001b[0;34m.\u001b[0m\u001b[0mObjectNotExecutableError\u001b[0m\u001b[0;34m(\u001b[0m\u001b[0mself\u001b[0m\u001b[0;34m)\u001b[0m\u001b[0;34m\u001b[0m\u001b[0;34m\u001b[0m\u001b[0m\n",
      "\u001b[0;32m~/anaconda3/lib/python3.8/site-packages/sqlalchemy/engine/base.py\u001b[0m in \u001b[0;36m_execute_clauseelement\u001b[0;34m(self, elem, multiparams, params)\u001b[0m\n\u001b[1;32m   1122\u001b[0m             )\n\u001b[1;32m   1123\u001b[0m \u001b[0;34m\u001b[0m\u001b[0m\n\u001b[0;32m-> 1124\u001b[0;31m         ret = self._execute_context(\n\u001b[0m\u001b[1;32m   1125\u001b[0m             \u001b[0mdialect\u001b[0m\u001b[0;34m,\u001b[0m\u001b[0;34m\u001b[0m\u001b[0;34m\u001b[0m\u001b[0m\n\u001b[1;32m   1126\u001b[0m             \u001b[0mdialect\u001b[0m\u001b[0;34m.\u001b[0m\u001b[0mexecution_ctx_cls\u001b[0m\u001b[0;34m.\u001b[0m\u001b[0m_init_compiled\u001b[0m\u001b[0;34m,\u001b[0m\u001b[0;34m\u001b[0m\u001b[0;34m\u001b[0m\u001b[0m\n",
      "\u001b[0;32m~/anaconda3/lib/python3.8/site-packages/sqlalchemy/engine/base.py\u001b[0m in \u001b[0;36m_execute_context\u001b[0;34m(self, dialect, constructor, statement, parameters, *args)\u001b[0m\n\u001b[1;32m   1314\u001b[0m \u001b[0;34m\u001b[0m\u001b[0m\n\u001b[1;32m   1315\u001b[0m         \u001b[0;32mexcept\u001b[0m \u001b[0mBaseException\u001b[0m \u001b[0;32mas\u001b[0m \u001b[0me\u001b[0m\u001b[0;34m:\u001b[0m\u001b[0;34m\u001b[0m\u001b[0;34m\u001b[0m\u001b[0m\n\u001b[0;32m-> 1316\u001b[0;31m             self._handle_dbapi_exception(\n\u001b[0m\u001b[1;32m   1317\u001b[0m                 \u001b[0me\u001b[0m\u001b[0;34m,\u001b[0m \u001b[0mstatement\u001b[0m\u001b[0;34m,\u001b[0m \u001b[0mparameters\u001b[0m\u001b[0;34m,\u001b[0m \u001b[0mcursor\u001b[0m\u001b[0;34m,\u001b[0m \u001b[0mcontext\u001b[0m\u001b[0;34m\u001b[0m\u001b[0;34m\u001b[0m\u001b[0m\n\u001b[1;32m   1318\u001b[0m             )\n",
      "\u001b[0;32m~/anaconda3/lib/python3.8/site-packages/sqlalchemy/engine/base.py\u001b[0m in \u001b[0;36m_handle_dbapi_exception\u001b[0;34m(self, e, statement, parameters, cursor, context)\u001b[0m\n\u001b[1;32m   1508\u001b[0m                 \u001b[0mutil\u001b[0m\u001b[0;34m.\u001b[0m\u001b[0mraise_\u001b[0m\u001b[0;34m(\u001b[0m\u001b[0mnewraise\u001b[0m\u001b[0;34m,\u001b[0m \u001b[0mwith_traceback\u001b[0m\u001b[0;34m=\u001b[0m\u001b[0mexc_info\u001b[0m\u001b[0;34m[\u001b[0m\u001b[0;36m2\u001b[0m\u001b[0;34m]\u001b[0m\u001b[0;34m,\u001b[0m \u001b[0mfrom_\u001b[0m\u001b[0;34m=\u001b[0m\u001b[0me\u001b[0m\u001b[0;34m)\u001b[0m\u001b[0;34m\u001b[0m\u001b[0;34m\u001b[0m\u001b[0m\n\u001b[1;32m   1509\u001b[0m             \u001b[0;32melif\u001b[0m \u001b[0mshould_wrap\u001b[0m\u001b[0;34m:\u001b[0m\u001b[0;34m\u001b[0m\u001b[0;34m\u001b[0m\u001b[0m\n\u001b[0;32m-> 1510\u001b[0;31m                 util.raise_(\n\u001b[0m\u001b[1;32m   1511\u001b[0m                     \u001b[0msqlalchemy_exception\u001b[0m\u001b[0;34m,\u001b[0m \u001b[0mwith_traceback\u001b[0m\u001b[0;34m=\u001b[0m\u001b[0mexc_info\u001b[0m\u001b[0;34m[\u001b[0m\u001b[0;36m2\u001b[0m\u001b[0;34m]\u001b[0m\u001b[0;34m,\u001b[0m \u001b[0mfrom_\u001b[0m\u001b[0;34m=\u001b[0m\u001b[0me\u001b[0m\u001b[0;34m\u001b[0m\u001b[0;34m\u001b[0m\u001b[0m\n\u001b[1;32m   1512\u001b[0m                 )\n",
      "\u001b[0;32m~/anaconda3/lib/python3.8/site-packages/sqlalchemy/util/compat.py\u001b[0m in \u001b[0;36mraise_\u001b[0;34m(***failed resolving arguments***)\u001b[0m\n\u001b[1;32m    180\u001b[0m \u001b[0;34m\u001b[0m\u001b[0m\n\u001b[1;32m    181\u001b[0m         \u001b[0;32mtry\u001b[0m\u001b[0;34m:\u001b[0m\u001b[0;34m\u001b[0m\u001b[0;34m\u001b[0m\u001b[0m\n\u001b[0;32m--> 182\u001b[0;31m             \u001b[0;32mraise\u001b[0m \u001b[0mexception\u001b[0m\u001b[0;34m\u001b[0m\u001b[0;34m\u001b[0m\u001b[0m\n\u001b[0m\u001b[1;32m    183\u001b[0m         \u001b[0;32mfinally\u001b[0m\u001b[0;34m:\u001b[0m\u001b[0;34m\u001b[0m\u001b[0;34m\u001b[0m\u001b[0m\n\u001b[1;32m    184\u001b[0m             \u001b[0;31m# credit to\u001b[0m\u001b[0;34m\u001b[0m\u001b[0;34m\u001b[0m\u001b[0;34m\u001b[0m\u001b[0m\n",
      "\u001b[0;32m~/anaconda3/lib/python3.8/site-packages/sqlalchemy/engine/base.py\u001b[0m in \u001b[0;36m_execute_context\u001b[0;34m(self, dialect, constructor, statement, parameters, *args)\u001b[0m\n\u001b[1;32m   1254\u001b[0m                             \u001b[0;32mbreak\u001b[0m\u001b[0;34m\u001b[0m\u001b[0;34m\u001b[0m\u001b[0m\n\u001b[1;32m   1255\u001b[0m                 \u001b[0;32mif\u001b[0m \u001b[0;32mnot\u001b[0m \u001b[0mevt_handled\u001b[0m\u001b[0;34m:\u001b[0m\u001b[0;34m\u001b[0m\u001b[0;34m\u001b[0m\u001b[0m\n\u001b[0;32m-> 1256\u001b[0;31m                     self.dialect.do_executemany(\n\u001b[0m\u001b[1;32m   1257\u001b[0m                         \u001b[0mcursor\u001b[0m\u001b[0;34m,\u001b[0m \u001b[0mstatement\u001b[0m\u001b[0;34m,\u001b[0m \u001b[0mparameters\u001b[0m\u001b[0;34m,\u001b[0m \u001b[0mcontext\u001b[0m\u001b[0;34m\u001b[0m\u001b[0;34m\u001b[0m\u001b[0m\n\u001b[1;32m   1258\u001b[0m                     )\n",
      "\u001b[0;32m~/anaconda3/lib/python3.8/site-packages/sqlalchemy/dialects/mysql/mysqldb.py\u001b[0m in \u001b[0;36mdo_executemany\u001b[0;34m(self, cursor, statement, parameters, context)\u001b[0m\n\u001b[1;32m    146\u001b[0m \u001b[0;34m\u001b[0m\u001b[0m\n\u001b[1;32m    147\u001b[0m     \u001b[0;32mdef\u001b[0m \u001b[0mdo_executemany\u001b[0m\u001b[0;34m(\u001b[0m\u001b[0mself\u001b[0m\u001b[0;34m,\u001b[0m \u001b[0mcursor\u001b[0m\u001b[0;34m,\u001b[0m \u001b[0mstatement\u001b[0m\u001b[0;34m,\u001b[0m \u001b[0mparameters\u001b[0m\u001b[0;34m,\u001b[0m \u001b[0mcontext\u001b[0m\u001b[0;34m=\u001b[0m\u001b[0;32mNone\u001b[0m\u001b[0;34m)\u001b[0m\u001b[0;34m:\u001b[0m\u001b[0;34m\u001b[0m\u001b[0;34m\u001b[0m\u001b[0m\n\u001b[0;32m--> 148\u001b[0;31m         \u001b[0mrowcount\u001b[0m \u001b[0;34m=\u001b[0m \u001b[0mcursor\u001b[0m\u001b[0;34m.\u001b[0m\u001b[0mexecutemany\u001b[0m\u001b[0;34m(\u001b[0m\u001b[0mstatement\u001b[0m\u001b[0;34m,\u001b[0m \u001b[0mparameters\u001b[0m\u001b[0;34m)\u001b[0m\u001b[0;34m\u001b[0m\u001b[0;34m\u001b[0m\u001b[0m\n\u001b[0m\u001b[1;32m    149\u001b[0m         \u001b[0;32mif\u001b[0m \u001b[0mcontext\u001b[0m \u001b[0;32mis\u001b[0m \u001b[0;32mnot\u001b[0m \u001b[0;32mNone\u001b[0m\u001b[0;34m:\u001b[0m\u001b[0;34m\u001b[0m\u001b[0;34m\u001b[0m\u001b[0m\n\u001b[1;32m    150\u001b[0m             \u001b[0mcontext\u001b[0m\u001b[0;34m.\u001b[0m\u001b[0m_rowcount\u001b[0m \u001b[0;34m=\u001b[0m \u001b[0mrowcount\u001b[0m\u001b[0;34m\u001b[0m\u001b[0;34m\u001b[0m\u001b[0m\n",
      "\u001b[0;32m~/anaconda3/lib/python3.8/site-packages/pymysql/cursors.py\u001b[0m in \u001b[0;36mexecutemany\u001b[0;34m(self, query, args)\u001b[0m\n\u001b[1;32m    171\u001b[0m             \u001b[0mq_postfix\u001b[0m \u001b[0;34m=\u001b[0m \u001b[0mm\u001b[0m\u001b[0;34m.\u001b[0m\u001b[0mgroup\u001b[0m\u001b[0;34m(\u001b[0m\u001b[0;36m3\u001b[0m\u001b[0;34m)\u001b[0m \u001b[0;32mor\u001b[0m \u001b[0;34m\"\"\u001b[0m\u001b[0;34m\u001b[0m\u001b[0;34m\u001b[0m\u001b[0m\n\u001b[1;32m    172\u001b[0m             \u001b[0;32massert\u001b[0m \u001b[0mq_values\u001b[0m\u001b[0;34m[\u001b[0m\u001b[0;36m0\u001b[0m\u001b[0;34m]\u001b[0m \u001b[0;34m==\u001b[0m \u001b[0;34m\"(\"\u001b[0m \u001b[0;32mand\u001b[0m \u001b[0mq_values\u001b[0m\u001b[0;34m[\u001b[0m\u001b[0;34m-\u001b[0m\u001b[0;36m1\u001b[0m\u001b[0;34m]\u001b[0m \u001b[0;34m==\u001b[0m \u001b[0;34m\")\"\u001b[0m\u001b[0;34m\u001b[0m\u001b[0;34m\u001b[0m\u001b[0m\n\u001b[0;32m--> 173\u001b[0;31m             return self._do_execute_many(\n\u001b[0m\u001b[1;32m    174\u001b[0m                 \u001b[0mq_prefix\u001b[0m\u001b[0;34m,\u001b[0m\u001b[0;34m\u001b[0m\u001b[0;34m\u001b[0m\u001b[0m\n\u001b[1;32m    175\u001b[0m                 \u001b[0mq_values\u001b[0m\u001b[0;34m,\u001b[0m\u001b[0;34m\u001b[0m\u001b[0;34m\u001b[0m\u001b[0m\n",
      "\u001b[0;32m~/anaconda3/lib/python3.8/site-packages/pymysql/cursors.py\u001b[0m in \u001b[0;36m_do_execute_many\u001b[0;34m(self, prefix, values, postfix, args, max_stmt_length, encoding)\u001b[0m\n\u001b[1;32m    209\u001b[0m                 \u001b[0msql\u001b[0m \u001b[0;34m+=\u001b[0m \u001b[0;34mb\",\"\u001b[0m\u001b[0;34m\u001b[0m\u001b[0;34m\u001b[0m\u001b[0m\n\u001b[1;32m    210\u001b[0m             \u001b[0msql\u001b[0m \u001b[0;34m+=\u001b[0m \u001b[0mv\u001b[0m\u001b[0;34m\u001b[0m\u001b[0;34m\u001b[0m\u001b[0m\n\u001b[0;32m--> 211\u001b[0;31m         \u001b[0mrows\u001b[0m \u001b[0;34m+=\u001b[0m \u001b[0mself\u001b[0m\u001b[0;34m.\u001b[0m\u001b[0mexecute\u001b[0m\u001b[0;34m(\u001b[0m\u001b[0msql\u001b[0m \u001b[0;34m+\u001b[0m \u001b[0mpostfix\u001b[0m\u001b[0;34m)\u001b[0m\u001b[0;34m\u001b[0m\u001b[0;34m\u001b[0m\u001b[0m\n\u001b[0m\u001b[1;32m    212\u001b[0m         \u001b[0mself\u001b[0m\u001b[0;34m.\u001b[0m\u001b[0mrowcount\u001b[0m \u001b[0;34m=\u001b[0m \u001b[0mrows\u001b[0m\u001b[0;34m\u001b[0m\u001b[0;34m\u001b[0m\u001b[0m\n\u001b[1;32m    213\u001b[0m         \u001b[0;32mreturn\u001b[0m \u001b[0mrows\u001b[0m\u001b[0;34m\u001b[0m\u001b[0;34m\u001b[0m\u001b[0m\n",
      "\u001b[0;32m~/anaconda3/lib/python3.8/site-packages/pymysql/cursors.py\u001b[0m in \u001b[0;36mexecute\u001b[0;34m(self, query, args)\u001b[0m\n\u001b[1;32m    146\u001b[0m         \u001b[0mquery\u001b[0m \u001b[0;34m=\u001b[0m \u001b[0mself\u001b[0m\u001b[0;34m.\u001b[0m\u001b[0mmogrify\u001b[0m\u001b[0;34m(\u001b[0m\u001b[0mquery\u001b[0m\u001b[0;34m,\u001b[0m \u001b[0margs\u001b[0m\u001b[0;34m)\u001b[0m\u001b[0;34m\u001b[0m\u001b[0;34m\u001b[0m\u001b[0m\n\u001b[1;32m    147\u001b[0m \u001b[0;34m\u001b[0m\u001b[0m\n\u001b[0;32m--> 148\u001b[0;31m         \u001b[0mresult\u001b[0m \u001b[0;34m=\u001b[0m \u001b[0mself\u001b[0m\u001b[0;34m.\u001b[0m\u001b[0m_query\u001b[0m\u001b[0;34m(\u001b[0m\u001b[0mquery\u001b[0m\u001b[0;34m)\u001b[0m\u001b[0;34m\u001b[0m\u001b[0;34m\u001b[0m\u001b[0m\n\u001b[0m\u001b[1;32m    149\u001b[0m         \u001b[0mself\u001b[0m\u001b[0;34m.\u001b[0m\u001b[0m_executed\u001b[0m \u001b[0;34m=\u001b[0m \u001b[0mquery\u001b[0m\u001b[0;34m\u001b[0m\u001b[0;34m\u001b[0m\u001b[0m\n\u001b[1;32m    150\u001b[0m         \u001b[0;32mreturn\u001b[0m \u001b[0mresult\u001b[0m\u001b[0;34m\u001b[0m\u001b[0;34m\u001b[0m\u001b[0m\n",
      "\u001b[0;32m~/anaconda3/lib/python3.8/site-packages/pymysql/cursors.py\u001b[0m in \u001b[0;36m_query\u001b[0;34m(self, q)\u001b[0m\n\u001b[1;32m    308\u001b[0m         \u001b[0mself\u001b[0m\u001b[0;34m.\u001b[0m\u001b[0m_last_executed\u001b[0m \u001b[0;34m=\u001b[0m \u001b[0mq\u001b[0m\u001b[0;34m\u001b[0m\u001b[0;34m\u001b[0m\u001b[0m\n\u001b[1;32m    309\u001b[0m         \u001b[0mself\u001b[0m\u001b[0;34m.\u001b[0m\u001b[0m_clear_result\u001b[0m\u001b[0;34m(\u001b[0m\u001b[0;34m)\u001b[0m\u001b[0;34m\u001b[0m\u001b[0;34m\u001b[0m\u001b[0m\n\u001b[0;32m--> 310\u001b[0;31m         \u001b[0mconn\u001b[0m\u001b[0;34m.\u001b[0m\u001b[0mquery\u001b[0m\u001b[0;34m(\u001b[0m\u001b[0mq\u001b[0m\u001b[0;34m)\u001b[0m\u001b[0;34m\u001b[0m\u001b[0;34m\u001b[0m\u001b[0m\n\u001b[0m\u001b[1;32m    311\u001b[0m         \u001b[0mself\u001b[0m\u001b[0;34m.\u001b[0m\u001b[0m_do_get_result\u001b[0m\u001b[0;34m(\u001b[0m\u001b[0;34m)\u001b[0m\u001b[0;34m\u001b[0m\u001b[0;34m\u001b[0m\u001b[0m\n\u001b[1;32m    312\u001b[0m         \u001b[0;32mreturn\u001b[0m \u001b[0mself\u001b[0m\u001b[0;34m.\u001b[0m\u001b[0mrowcount\u001b[0m\u001b[0;34m\u001b[0m\u001b[0;34m\u001b[0m\u001b[0m\n",
      "\u001b[0;32m~/anaconda3/lib/python3.8/site-packages/pymysql/connections.py\u001b[0m in \u001b[0;36mquery\u001b[0;34m(self, sql, unbuffered)\u001b[0m\n\u001b[1;32m    546\u001b[0m             \u001b[0msql\u001b[0m \u001b[0;34m=\u001b[0m \u001b[0msql\u001b[0m\u001b[0;34m.\u001b[0m\u001b[0mencode\u001b[0m\u001b[0;34m(\u001b[0m\u001b[0mself\u001b[0m\u001b[0;34m.\u001b[0m\u001b[0mencoding\u001b[0m\u001b[0;34m,\u001b[0m \u001b[0;34m\"surrogateescape\"\u001b[0m\u001b[0;34m)\u001b[0m\u001b[0;34m\u001b[0m\u001b[0;34m\u001b[0m\u001b[0m\n\u001b[1;32m    547\u001b[0m         \u001b[0mself\u001b[0m\u001b[0;34m.\u001b[0m\u001b[0m_execute_command\u001b[0m\u001b[0;34m(\u001b[0m\u001b[0mCOMMAND\u001b[0m\u001b[0;34m.\u001b[0m\u001b[0mCOM_QUERY\u001b[0m\u001b[0;34m,\u001b[0m \u001b[0msql\u001b[0m\u001b[0;34m)\u001b[0m\u001b[0;34m\u001b[0m\u001b[0;34m\u001b[0m\u001b[0m\n\u001b[0;32m--> 548\u001b[0;31m         \u001b[0mself\u001b[0m\u001b[0;34m.\u001b[0m\u001b[0m_affected_rows\u001b[0m \u001b[0;34m=\u001b[0m \u001b[0mself\u001b[0m\u001b[0;34m.\u001b[0m\u001b[0m_read_query_result\u001b[0m\u001b[0;34m(\u001b[0m\u001b[0munbuffered\u001b[0m\u001b[0;34m=\u001b[0m\u001b[0munbuffered\u001b[0m\u001b[0;34m)\u001b[0m\u001b[0;34m\u001b[0m\u001b[0;34m\u001b[0m\u001b[0m\n\u001b[0m\u001b[1;32m    549\u001b[0m         \u001b[0;32mreturn\u001b[0m \u001b[0mself\u001b[0m\u001b[0;34m.\u001b[0m\u001b[0m_affected_rows\u001b[0m\u001b[0;34m\u001b[0m\u001b[0;34m\u001b[0m\u001b[0m\n\u001b[1;32m    550\u001b[0m \u001b[0;34m\u001b[0m\u001b[0m\n",
      "\u001b[0;32m~/anaconda3/lib/python3.8/site-packages/pymysql/connections.py\u001b[0m in \u001b[0;36m_read_query_result\u001b[0;34m(self, unbuffered)\u001b[0m\n\u001b[1;32m    773\u001b[0m         \u001b[0;32melse\u001b[0m\u001b[0;34m:\u001b[0m\u001b[0;34m\u001b[0m\u001b[0;34m\u001b[0m\u001b[0m\n\u001b[1;32m    774\u001b[0m             \u001b[0mresult\u001b[0m \u001b[0;34m=\u001b[0m \u001b[0mMySQLResult\u001b[0m\u001b[0;34m(\u001b[0m\u001b[0mself\u001b[0m\u001b[0;34m)\u001b[0m\u001b[0;34m\u001b[0m\u001b[0;34m\u001b[0m\u001b[0m\n\u001b[0;32m--> 775\u001b[0;31m             \u001b[0mresult\u001b[0m\u001b[0;34m.\u001b[0m\u001b[0mread\u001b[0m\u001b[0;34m(\u001b[0m\u001b[0;34m)\u001b[0m\u001b[0;34m\u001b[0m\u001b[0;34m\u001b[0m\u001b[0m\n\u001b[0m\u001b[1;32m    776\u001b[0m         \u001b[0mself\u001b[0m\u001b[0;34m.\u001b[0m\u001b[0m_result\u001b[0m \u001b[0;34m=\u001b[0m \u001b[0mresult\u001b[0m\u001b[0;34m\u001b[0m\u001b[0;34m\u001b[0m\u001b[0m\n\u001b[1;32m    777\u001b[0m         \u001b[0;32mif\u001b[0m \u001b[0mresult\u001b[0m\u001b[0;34m.\u001b[0m\u001b[0mserver_status\u001b[0m \u001b[0;32mis\u001b[0m \u001b[0;32mnot\u001b[0m \u001b[0;32mNone\u001b[0m\u001b[0;34m:\u001b[0m\u001b[0;34m\u001b[0m\u001b[0;34m\u001b[0m\u001b[0m\n",
      "\u001b[0;32m~/anaconda3/lib/python3.8/site-packages/pymysql/connections.py\u001b[0m in \u001b[0;36mread\u001b[0;34m(self)\u001b[0m\n\u001b[1;32m   1154\u001b[0m     \u001b[0;32mdef\u001b[0m \u001b[0mread\u001b[0m\u001b[0;34m(\u001b[0m\u001b[0mself\u001b[0m\u001b[0;34m)\u001b[0m\u001b[0;34m:\u001b[0m\u001b[0;34m\u001b[0m\u001b[0;34m\u001b[0m\u001b[0m\n\u001b[1;32m   1155\u001b[0m         \u001b[0;32mtry\u001b[0m\u001b[0;34m:\u001b[0m\u001b[0;34m\u001b[0m\u001b[0;34m\u001b[0m\u001b[0m\n\u001b[0;32m-> 1156\u001b[0;31m             \u001b[0mfirst_packet\u001b[0m \u001b[0;34m=\u001b[0m \u001b[0mself\u001b[0m\u001b[0;34m.\u001b[0m\u001b[0mconnection\u001b[0m\u001b[0;34m.\u001b[0m\u001b[0m_read_packet\u001b[0m\u001b[0;34m(\u001b[0m\u001b[0;34m)\u001b[0m\u001b[0;34m\u001b[0m\u001b[0;34m\u001b[0m\u001b[0m\n\u001b[0m\u001b[1;32m   1157\u001b[0m \u001b[0;34m\u001b[0m\u001b[0m\n\u001b[1;32m   1158\u001b[0m             \u001b[0;32mif\u001b[0m \u001b[0mfirst_packet\u001b[0m\u001b[0;34m.\u001b[0m\u001b[0mis_ok_packet\u001b[0m\u001b[0;34m(\u001b[0m\u001b[0;34m)\u001b[0m\u001b[0;34m:\u001b[0m\u001b[0;34m\u001b[0m\u001b[0;34m\u001b[0m\u001b[0m\n",
      "\u001b[0;32m~/anaconda3/lib/python3.8/site-packages/pymysql/connections.py\u001b[0m in \u001b[0;36m_read_packet\u001b[0;34m(self, packet_type)\u001b[0m\n\u001b[1;32m    723\u001b[0m             \u001b[0;32mif\u001b[0m \u001b[0mself\u001b[0m\u001b[0;34m.\u001b[0m\u001b[0m_result\u001b[0m \u001b[0;32mis\u001b[0m \u001b[0;32mnot\u001b[0m \u001b[0;32mNone\u001b[0m \u001b[0;32mand\u001b[0m \u001b[0mself\u001b[0m\u001b[0;34m.\u001b[0m\u001b[0m_result\u001b[0m\u001b[0;34m.\u001b[0m\u001b[0munbuffered_active\u001b[0m \u001b[0;32mis\u001b[0m \u001b[0;32mTrue\u001b[0m\u001b[0;34m:\u001b[0m\u001b[0;34m\u001b[0m\u001b[0;34m\u001b[0m\u001b[0m\n\u001b[1;32m    724\u001b[0m                 \u001b[0mself\u001b[0m\u001b[0;34m.\u001b[0m\u001b[0m_result\u001b[0m\u001b[0;34m.\u001b[0m\u001b[0munbuffered_active\u001b[0m \u001b[0;34m=\u001b[0m \u001b[0;32mFalse\u001b[0m\u001b[0;34m\u001b[0m\u001b[0;34m\u001b[0m\u001b[0m\n\u001b[0;32m--> 725\u001b[0;31m             \u001b[0mpacket\u001b[0m\u001b[0;34m.\u001b[0m\u001b[0mraise_for_error\u001b[0m\u001b[0;34m(\u001b[0m\u001b[0;34m)\u001b[0m\u001b[0;34m\u001b[0m\u001b[0;34m\u001b[0m\u001b[0m\n\u001b[0m\u001b[1;32m    726\u001b[0m         \u001b[0;32mreturn\u001b[0m \u001b[0mpacket\u001b[0m\u001b[0;34m\u001b[0m\u001b[0;34m\u001b[0m\u001b[0m\n\u001b[1;32m    727\u001b[0m \u001b[0;34m\u001b[0m\u001b[0m\n",
      "\u001b[0;32m~/anaconda3/lib/python3.8/site-packages/pymysql/protocol.py\u001b[0m in \u001b[0;36mraise_for_error\u001b[0;34m(self)\u001b[0m\n\u001b[1;32m    219\u001b[0m         \u001b[0;32mif\u001b[0m \u001b[0mDEBUG\u001b[0m\u001b[0;34m:\u001b[0m\u001b[0;34m\u001b[0m\u001b[0;34m\u001b[0m\u001b[0m\n\u001b[1;32m    220\u001b[0m             \u001b[0mprint\u001b[0m\u001b[0;34m(\u001b[0m\u001b[0;34m\"errno =\"\u001b[0m\u001b[0;34m,\u001b[0m \u001b[0merrno\u001b[0m\u001b[0;34m)\u001b[0m\u001b[0;34m\u001b[0m\u001b[0;34m\u001b[0m\u001b[0m\n\u001b[0;32m--> 221\u001b[0;31m         \u001b[0merr\u001b[0m\u001b[0;34m.\u001b[0m\u001b[0mraise_mysql_exception\u001b[0m\u001b[0;34m(\u001b[0m\u001b[0mself\u001b[0m\u001b[0;34m.\u001b[0m\u001b[0m_data\u001b[0m\u001b[0;34m)\u001b[0m\u001b[0;34m\u001b[0m\u001b[0;34m\u001b[0m\u001b[0m\n\u001b[0m\u001b[1;32m    222\u001b[0m \u001b[0;34m\u001b[0m\u001b[0m\n\u001b[1;32m    223\u001b[0m     \u001b[0;32mdef\u001b[0m \u001b[0mdump\u001b[0m\u001b[0;34m(\u001b[0m\u001b[0mself\u001b[0m\u001b[0;34m)\u001b[0m\u001b[0;34m:\u001b[0m\u001b[0;34m\u001b[0m\u001b[0;34m\u001b[0m\u001b[0m\n",
      "\u001b[0;32m~/anaconda3/lib/python3.8/site-packages/pymysql/err.py\u001b[0m in \u001b[0;36mraise_mysql_exception\u001b[0;34m(data)\u001b[0m\n\u001b[1;32m    141\u001b[0m     \u001b[0;32mif\u001b[0m \u001b[0merrorclass\u001b[0m \u001b[0;32mis\u001b[0m \u001b[0;32mNone\u001b[0m\u001b[0;34m:\u001b[0m\u001b[0;34m\u001b[0m\u001b[0;34m\u001b[0m\u001b[0m\n\u001b[1;32m    142\u001b[0m         \u001b[0merrorclass\u001b[0m \u001b[0;34m=\u001b[0m \u001b[0mInternalError\u001b[0m \u001b[0;32mif\u001b[0m \u001b[0merrno\u001b[0m \u001b[0;34m<\u001b[0m \u001b[0;36m1000\u001b[0m \u001b[0;32melse\u001b[0m \u001b[0mOperationalError\u001b[0m\u001b[0;34m\u001b[0m\u001b[0;34m\u001b[0m\u001b[0m\n\u001b[0;32m--> 143\u001b[0;31m     \u001b[0;32mraise\u001b[0m \u001b[0merrorclass\u001b[0m\u001b[0;34m(\u001b[0m\u001b[0merrno\u001b[0m\u001b[0;34m,\u001b[0m \u001b[0merrval\u001b[0m\u001b[0;34m)\u001b[0m\u001b[0;34m\u001b[0m\u001b[0;34m\u001b[0m\u001b[0m\n\u001b[0m",
      "\u001b[0;31mIntegrityError\u001b[0m: (pymysql.err.IntegrityError) (1062, \"Duplicate entry '1' for key 'PRIMARY'\")\n[SQL: INSERT INTO country (ctr_id, ctr_name) VALUES (%(ctr_id)s, %(ctr_name)s)]\n[parameters: ({'ctr_id': 1, 'ctr_name': 'Sweden'}, {'ctr_id': 2, 'ctr_name': 'United States'}, {'ctr_id': 3, 'ctr_name': 'United States'}, {'ctr_id': 4, 'ctr_name': 'United Kingdom'}, {'ctr_id': 5, 'ctr_name': 'United States'}, {'ctr_id': 6, 'ctr_name': 'Pakistan'}, {'ctr_id': 7, 'ctr_name': 'United States'}, {'ctr_id': 8, 'ctr_name': 'United States'}  ... displaying 10 of 97 total bound parameter sets ...  {'ctr_id': 96, 'ctr_name': 'United States'}, {'ctr_id': 97, 'ctr_name': 'United States'})]\n(Background on this error at: http://sqlalche.me/e/13/gkpj)"
     ]
    }
   ],
   "source": [
    "table_country = pd.read_sql_query(\"SELECT * FROM country\", survey)\n",
    "table_country[table_country.columns[1]] = data[\"Country\"]\n",
    "table_country.drop_duplicates(inplace=True)\n",
    "table_country.to_sql('country', if_exists='append', con=survey, index=False)\n",
    "\n",
    "pd.read_sql_query(\"select * from country\", survey)\n"
   ]
  },
  {
   "cell_type": "code",
   "execution_count": 55,
   "metadata": {},
   "outputs": [
    {
     "output_type": "execute_result",
     "data": {
      "text/plain": [
       "    ctr_id        ctr_name\n",
       "0        1          Sweden\n",
       "1        2   United States\n",
       "2        3  United Kingdom\n",
       "3        4        Pakistan\n",
       "4        5        Paraguay\n",
       "..     ...             ...\n",
       "92      93         Albania\n",
       "93      94         Bolivia\n",
       "94      95         Vietnam\n",
       "95      96         Bermuda\n",
       "96      97           Kenya\n",
       "\n",
       "[97 rows x 2 columns]"
      ],
      "text/html": "<div>\n<style scoped>\n    .dataframe tbody tr th:only-of-type {\n        vertical-align: middle;\n    }\n\n    .dataframe tbody tr th {\n        vertical-align: top;\n    }\n\n    .dataframe thead th {\n        text-align: right;\n    }\n</style>\n<table border=\"1\" class=\"dataframe\">\n  <thead>\n    <tr style=\"text-align: right;\">\n      <th></th>\n      <th>ctr_id</th>\n      <th>ctr_name</th>\n    </tr>\n  </thead>\n  <tbody>\n    <tr>\n      <th>0</th>\n      <td>1</td>\n      <td>Sweden</td>\n    </tr>\n    <tr>\n      <th>1</th>\n      <td>2</td>\n      <td>United States</td>\n    </tr>\n    <tr>\n      <th>2</th>\n      <td>3</td>\n      <td>United Kingdom</td>\n    </tr>\n    <tr>\n      <th>3</th>\n      <td>4</td>\n      <td>Pakistan</td>\n    </tr>\n    <tr>\n      <th>4</th>\n      <td>5</td>\n      <td>Paraguay</td>\n    </tr>\n    <tr>\n      <th>...</th>\n      <td>...</td>\n      <td>...</td>\n    </tr>\n    <tr>\n      <th>92</th>\n      <td>93</td>\n      <td>Albania</td>\n    </tr>\n    <tr>\n      <th>93</th>\n      <td>94</td>\n      <td>Bolivia</td>\n    </tr>\n    <tr>\n      <th>94</th>\n      <td>95</td>\n      <td>Vietnam</td>\n    </tr>\n    <tr>\n      <th>95</th>\n      <td>96</td>\n      <td>Bermuda</td>\n    </tr>\n    <tr>\n      <th>96</th>\n      <td>97</td>\n      <td>Kenya</td>\n    </tr>\n  </tbody>\n</table>\n<p>97 rows × 2 columns</p>\n</div>"
     },
     "metadata": {},
     "execution_count": 55
    }
   ],
   "source": [
    "pd.read_sql_query(\"select * from country\", survey)"
   ]
  },
  {
   "cell_type": "code",
   "execution_count": 66,
   "metadata": {},
   "outputs": [
    {
     "output_type": "stream",
     "name": "stderr",
     "text": [
      "<ipython-input-66-90f81341a6b7>:1: SettingWithCopyWarning: \nA value is trying to be set on a copy of a slice from a DataFrame.\nTry using .loc[row_indexer,col_indexer] = value instead\n\nSee the caveats in the documentation: https://pandas.pydata.org/pandas-docs/stable/user_guide/indexing.html#returning-a-view-versus-a-copy\n  table_looking_job[table_looking_job.columns[1]] = data[\"LookingForAnotherJob\"]\n<ipython-input-66-90f81341a6b7>:2: SettingWithCopyWarning: \nA value is trying to be set on a copy of a slice from a DataFrame\n\nSee the caveats in the documentation: https://pandas.pydata.org/pandas-docs/stable/user_guide/indexing.html#returning-a-view-versus-a-copy\n  table_looking_job.drop_duplicates(inplace=True)\n"
     ]
    },
    {
     "output_type": "execute_result",
     "data": {
      "text/plain": [
       "   look_id                                  look_job\n",
       "0        1                                        No\n",
       "1        2    Yes, but only passively (just curious)\n",
       "2        3  Yes, actively looking for something else"
      ],
      "text/html": "<div>\n<style scoped>\n    .dataframe tbody tr th:only-of-type {\n        vertical-align: middle;\n    }\n\n    .dataframe tbody tr th {\n        vertical-align: top;\n    }\n\n    .dataframe thead th {\n        text-align: right;\n    }\n</style>\n<table border=\"1\" class=\"dataframe\">\n  <thead>\n    <tr style=\"text-align: right;\">\n      <th></th>\n      <th>look_id</th>\n      <th>look_job</th>\n    </tr>\n  </thead>\n  <tbody>\n    <tr>\n      <th>0</th>\n      <td>1</td>\n      <td>No</td>\n    </tr>\n    <tr>\n      <th>1</th>\n      <td>2</td>\n      <td>Yes, but only passively (just curious)</td>\n    </tr>\n    <tr>\n      <th>2</th>\n      <td>3</td>\n      <td>Yes, actively looking for something else</td>\n    </tr>\n  </tbody>\n</table>\n</div>"
     },
     "metadata": {},
     "execution_count": 66
    }
   ],
   "source": [
    "table_looking_job = pd.read_sql_query(\"SELECT * FROM looking_job\", survey)\n",
    "table_looking_job[table_looking_job.columns[1]] = data[\"LookingForAnotherJob\"]\n",
    "table_looking_job.drop_duplicates(inplace=True)\n",
    "\n",
    "table_looking_job = table_looking_job[table_looking_job[table_looking_job.columns[1]] != \"Not Asked\"]\n",
    "\n",
    "table_looking_job.to_sql('looking_job', if_exists='append', con=survey, index=False)\n",
    "\n",
    "pd.read_sql_query(\"select * from looking_job\", survey)\n"
   ]
  },
  {
   "cell_type": "code",
   "execution_count": 69,
   "metadata": {},
   "outputs": [
    {
     "output_type": "execute_result",
     "data": {
      "text/plain": [
       "   look_id                                  look_job\n",
       "0        1                                        No\n",
       "1        2    Yes, but only passively (just curious)\n",
       "2        3  Yes, actively looking for something else"
      ],
      "text/html": "<div>\n<style scoped>\n    .dataframe tbody tr th:only-of-type {\n        vertical-align: middle;\n    }\n\n    .dataframe tbody tr th {\n        vertical-align: top;\n    }\n\n    .dataframe thead th {\n        text-align: right;\n    }\n</style>\n<table border=\"1\" class=\"dataframe\">\n  <thead>\n    <tr style=\"text-align: right;\">\n      <th></th>\n      <th>look_id</th>\n      <th>look_job</th>\n    </tr>\n  </thead>\n  <tbody>\n    <tr>\n      <th>0</th>\n      <td>1</td>\n      <td>No</td>\n    </tr>\n    <tr>\n      <th>1</th>\n      <td>2</td>\n      <td>Yes, but only passively (just curious)</td>\n    </tr>\n    <tr>\n      <th>2</th>\n      <td>3</td>\n      <td>Yes, actively looking for something else</td>\n    </tr>\n  </tbody>\n</table>\n</div>"
     },
     "metadata": {},
     "execution_count": 69
    }
   ],
   "source": [
    "table_education = pd.read_sql_query(\"SELECT * FROM education\", survey)\n",
    "table_education[table_education.columns[1]] = data[\"Education\"]\n",
    "table_education.drop_duplicates(inplace=True)\n",
    "\n",
    "table_education = table_education[table_education[table_education.columns[1]] != \"Not Asked\"]\n",
    "\n",
    "table_education.to_sql('education', if_exists='append', con=survey, index=False)\n",
    "\n",
    "pd.read_sql_query(\"select * from education\", survey)\n",
    "\n"
   ]
  },
  {
   "cell_type": "code",
   "execution_count": 70,
   "metadata": {},
   "outputs": [
    {
     "output_type": "execute_result",
     "data": {
      "text/plain": [
       "   edu_id                   edu_title\n",
       "0       1         Bachelors (4 years)\n",
       "1       2  None (no degree completed)\n",
       "2       3                     Masters\n",
       "3       4        Associates (2 years)\n",
       "4       5               Doctorate/PhD"
      ],
      "text/html": "<div>\n<style scoped>\n    .dataframe tbody tr th:only-of-type {\n        vertical-align: middle;\n    }\n\n    .dataframe tbody tr th {\n        vertical-align: top;\n    }\n\n    .dataframe thead th {\n        text-align: right;\n    }\n</style>\n<table border=\"1\" class=\"dataframe\">\n  <thead>\n    <tr style=\"text-align: right;\">\n      <th></th>\n      <th>edu_id</th>\n      <th>edu_title</th>\n    </tr>\n  </thead>\n  <tbody>\n    <tr>\n      <th>0</th>\n      <td>1</td>\n      <td>Bachelors (4 years)</td>\n    </tr>\n    <tr>\n      <th>1</th>\n      <td>2</td>\n      <td>None (no degree completed)</td>\n    </tr>\n    <tr>\n      <th>2</th>\n      <td>3</td>\n      <td>Masters</td>\n    </tr>\n    <tr>\n      <th>3</th>\n      <td>4</td>\n      <td>Associates (2 years)</td>\n    </tr>\n    <tr>\n      <th>4</th>\n      <td>5</td>\n      <td>Doctorate/PhD</td>\n    </tr>\n  </tbody>\n</table>\n</div>"
     },
     "metadata": {},
     "execution_count": 70
    }
   ],
   "source": [
    "pd.read_sql_query(\"select * from education\", survey)"
   ]
  },
  {
   "cell_type": "code",
   "execution_count": 82,
   "metadata": {},
   "outputs": [
    {
     "output_type": "execute_result",
     "data": {
      "text/plain": [
       "   pop_id              pop_name\n",
       "0       1      <= 20,000 (town)\n",
       "1       2      1M+ (metropolis)\n",
       "2       3  300K-1M (large city)\n",
       "3       4      100K-299K (city)\n",
       "4       5  20K-99K (large town)"
      ],
      "text/html": "<div>\n<style scoped>\n    .dataframe tbody tr th:only-of-type {\n        vertical-align: middle;\n    }\n\n    .dataframe tbody tr th {\n        vertical-align: top;\n    }\n\n    .dataframe thead th {\n        text-align: right;\n    }\n</style>\n<table border=\"1\" class=\"dataframe\">\n  <thead>\n    <tr style=\"text-align: right;\">\n      <th></th>\n      <th>pop_id</th>\n      <th>pop_name</th>\n    </tr>\n  </thead>\n  <tbody>\n    <tr>\n      <th>0</th>\n      <td>1</td>\n      <td>&lt;= 20,000 (town)</td>\n    </tr>\n    <tr>\n      <th>1</th>\n      <td>2</td>\n      <td>1M+ (metropolis)</td>\n    </tr>\n    <tr>\n      <th>2</th>\n      <td>3</td>\n      <td>300K-1M (large city)</td>\n    </tr>\n    <tr>\n      <th>3</th>\n      <td>4</td>\n      <td>100K-299K (city)</td>\n    </tr>\n    <tr>\n      <th>4</th>\n      <td>5</td>\n      <td>20K-99K (large town)</td>\n    </tr>\n  </tbody>\n</table>\n</div>"
     },
     "metadata": {},
     "execution_count": 82
    }
   ],
   "source": [
    "table_largest_city = pd.read_sql_query(\"SELECT * FROM largest_city\", survey)\n",
    "table_largest_city[table_largest_city.columns[1]] = data[\"PopulationOfLargestCityWithin20Miles\"]\n",
    "table_largest_city.drop_duplicates(inplace=True)\n",
    "\n",
    "table_largest_city = table_largest_city[table_largest_city[table_largest_city.columns[1]] != \"Not Asked\"]\n",
    "\n",
    "table_largest_city.to_sql('largest_city', if_exists='append', con=survey, index=False)\n",
    "\n",
    "pd.read_sql_query(\"select * from largest_city\", survey)"
   ]
  },
  {
   "cell_type": "code",
   "execution_count": 83,
   "metadata": {},
   "outputs": [
    {
     "output_type": "execute_result",
     "data": {
      "text/plain": [
       "   mcp_id                                 mcp_many_companies\n",
       "0       1  1 (this is the only company where I've had thi...\n",
       "1       2                                                  5\n",
       "2       3                                                  4\n",
       "3       4  2 (I worked at another similar position elsewh...\n",
       "4       5                                                  3\n",
       "5       6                                          6 or more"
      ],
      "text/html": "<div>\n<style scoped>\n    .dataframe tbody tr th:only-of-type {\n        vertical-align: middle;\n    }\n\n    .dataframe tbody tr th {\n        vertical-align: top;\n    }\n\n    .dataframe thead th {\n        text-align: right;\n    }\n</style>\n<table border=\"1\" class=\"dataframe\">\n  <thead>\n    <tr style=\"text-align: right;\">\n      <th></th>\n      <th>mcp_id</th>\n      <th>mcp_many_companies</th>\n    </tr>\n  </thead>\n  <tbody>\n    <tr>\n      <th>0</th>\n      <td>1</td>\n      <td>1 (this is the only company where I've had thi...</td>\n    </tr>\n    <tr>\n      <th>1</th>\n      <td>2</td>\n      <td>5</td>\n    </tr>\n    <tr>\n      <th>2</th>\n      <td>3</td>\n      <td>4</td>\n    </tr>\n    <tr>\n      <th>3</th>\n      <td>4</td>\n      <td>2 (I worked at another similar position elsewh...</td>\n    </tr>\n    <tr>\n      <th>4</th>\n      <td>5</td>\n      <td>3</td>\n    </tr>\n    <tr>\n      <th>5</th>\n      <td>6</td>\n      <td>6 or more</td>\n    </tr>\n  </tbody>\n</table>\n</div>"
     },
     "metadata": {},
     "execution_count": 83
    }
   ],
   "source": [
    "table_how_many_companies = pd.read_sql_query(\"SELECT * FROM how_many_companies\", survey)\n",
    "table_how_many_companies[table_how_many_companies.columns[1]] = data[\"HowManyCompanies\"]\n",
    "table_how_many_companies.drop_duplicates(inplace=True)\n",
    "\n",
    "table_how_many_companies = table_how_many_companies[table_how_many_companies[table_how_many_companies.columns[1]] != \"Not Asked\"]\n",
    "\n",
    "table_how_many_companies.to_sql('how_many_companies', if_exists='append', con=survey, index=False)\n",
    "\n",
    "pd.read_sql_query(\"select * from how_many_companies\", survey)"
   ]
  },
  {
   "cell_type": "code",
   "execution_count": 90,
   "metadata": {},
   "outputs": [
    {
     "output_type": "execute_result",
     "data": {
      "text/plain": [
       "   emp_id                                         emp_status\n",
       "0       1                                 Full time employee\n",
       "1       2  Full time employee of a consulting/contracting...\n",
       "2       3  Independent consultant, contractor, freelancer...\n",
       "3       4                                          Part time\n",
       "4       5         Independent or freelancer or company owner"
      ],
      "text/html": "<div>\n<style scoped>\n    .dataframe tbody tr th:only-of-type {\n        vertical-align: middle;\n    }\n\n    .dataframe tbody tr th {\n        vertical-align: top;\n    }\n\n    .dataframe thead th {\n        text-align: right;\n    }\n</style>\n<table border=\"1\" class=\"dataframe\">\n  <thead>\n    <tr style=\"text-align: right;\">\n      <th></th>\n      <th>emp_id</th>\n      <th>emp_status</th>\n    </tr>\n  </thead>\n  <tbody>\n    <tr>\n      <th>0</th>\n      <td>1</td>\n      <td>Full time employee</td>\n    </tr>\n    <tr>\n      <th>1</th>\n      <td>2</td>\n      <td>Full time employee of a consulting/contracting...</td>\n    </tr>\n    <tr>\n      <th>2</th>\n      <td>3</td>\n      <td>Independent consultant, contractor, freelancer...</td>\n    </tr>\n    <tr>\n      <th>3</th>\n      <td>4</td>\n      <td>Part time</td>\n    </tr>\n    <tr>\n      <th>4</th>\n      <td>5</td>\n      <td>Independent or freelancer or company owner</td>\n    </tr>\n  </tbody>\n</table>\n</div>"
     },
     "metadata": {},
     "execution_count": 90
    }
   ],
   "source": [
    "table_employment_status = pd.read_sql_query(\"SELECT * FROM employment_status\", survey)\n",
    "table_employment_status[table_employment_status.columns[1]] = data[\"EmploymentStatus\"]\n",
    "table_employment_status.drop_duplicates(inplace=True)\n",
    "\n",
    "table_employment_status = table_employment_status[table_employment_status[table_employment_status.columns[1]] != \"Not Asked\"]\n",
    "\n",
    "table_employment_status.to_sql('employment_status', if_exists='append', con=survey, index=False)\n",
    "\n",
    "pd.read_sql_query(\"select * from employment_status\", survey)"
   ]
  },
  {
   "cell_type": "code",
   "execution_count": 92,
   "metadata": {},
   "outputs": [
    {
     "output_type": "execute_result",
     "data": {
      "text/plain": [
       "   sec_id                               sec_name\n",
       "0       1                       Private business\n",
       "1       2  Education (K-12, college, university)\n",
       "2       3              State/province government\n",
       "3       4                       Local government\n",
       "4       5                             Non-profit\n",
       "5       6                     Federal government\n",
       "6       7                                Student"
      ],
      "text/html": "<div>\n<style scoped>\n    .dataframe tbody tr th:only-of-type {\n        vertical-align: middle;\n    }\n\n    .dataframe tbody tr th {\n        vertical-align: top;\n    }\n\n    .dataframe thead th {\n        text-align: right;\n    }\n</style>\n<table border=\"1\" class=\"dataframe\">\n  <thead>\n    <tr style=\"text-align: right;\">\n      <th></th>\n      <th>sec_id</th>\n      <th>sec_name</th>\n    </tr>\n  </thead>\n  <tbody>\n    <tr>\n      <th>0</th>\n      <td>1</td>\n      <td>Private business</td>\n    </tr>\n    <tr>\n      <th>1</th>\n      <td>2</td>\n      <td>Education (K-12, college, university)</td>\n    </tr>\n    <tr>\n      <th>2</th>\n      <td>3</td>\n      <td>State/province government</td>\n    </tr>\n    <tr>\n      <th>3</th>\n      <td>4</td>\n      <td>Local government</td>\n    </tr>\n    <tr>\n      <th>4</th>\n      <td>5</td>\n      <td>Non-profit</td>\n    </tr>\n    <tr>\n      <th>5</th>\n      <td>6</td>\n      <td>Federal government</td>\n    </tr>\n    <tr>\n      <th>6</th>\n      <td>7</td>\n      <td>Student</td>\n    </tr>\n  </tbody>\n</table>\n</div>"
     },
     "metadata": {},
     "execution_count": 92
    }
   ],
   "source": [
    "column_employment_sector = pd.read_sql_query(\"select * from employment_sector\", survey).columns\n",
    "column_employment_sector\n",
    "\n",
    "employment_sector = pd.DataFrame(columns = column_employment_sector)\n",
    "employment_sector['sec_name'] = data['EmploymentSector']\n",
    "employment_sector.drop_duplicates(inplace=True)\n",
    "\n",
    "employment_sector.to_sql('employment_sector', if_exists='append', con=survey, index=False)\n",
    "\n",
    "pd.read_sql_query(\"select * from employment_sector\", survey)\n"
   ]
  },
  {
   "cell_type": "code",
   "execution_count": 193,
   "metadata": {},
   "outputs": [
    {
     "output_type": "execute_result",
     "data": {
      "text/plain": [
       "   cert_id                         cert_name\n",
       "0        7                  No, I never have\n",
       "1        8  Yes, and they're currently valid\n",
       "2        9             Yes, but they expired"
      ],
      "text/html": "<div>\n<style scoped>\n    .dataframe tbody tr th:only-of-type {\n        vertical-align: middle;\n    }\n\n    .dataframe tbody tr th {\n        vertical-align: top;\n    }\n\n    .dataframe thead th {\n        text-align: right;\n    }\n</style>\n<table border=\"1\" class=\"dataframe\">\n  <thead>\n    <tr style=\"text-align: right;\">\n      <th></th>\n      <th>cert_id</th>\n      <th>cert_name</th>\n    </tr>\n  </thead>\n  <tbody>\n    <tr>\n      <th>0</th>\n      <td>7</td>\n      <td>No, I never have</td>\n    </tr>\n    <tr>\n      <th>1</th>\n      <td>8</td>\n      <td>Yes, and they're currently valid</td>\n    </tr>\n    <tr>\n      <th>2</th>\n      <td>9</td>\n      <td>Yes, but they expired</td>\n    </tr>\n  </tbody>\n</table>\n</div>"
     },
     "metadata": {},
     "execution_count": 193
    }
   ],
   "source": [
    "column_certification = pd.read_sql_query(\"select * from certification limit 1\", survey).columns\n",
    "column_certification\n",
    "\n",
    "data_certification_sans_asked = data[data[\"Certifications\"] != \"Not Asked\"]\n",
    "certification = pd.DataFrame(columns = column_certification)\n",
    "certification['cert_name'] = data_certification_sans_asked['Certifications']\n",
    "certification.drop_duplicates(inplace=True)\n",
    "\n",
    "certification.to_sql('certification', if_exists='append', con=survey, index=False)\n",
    "\n",
    "pd.read_sql_query(\"SELECT * FROM certification\", survey)"
   ]
  },
  {
   "cell_type": "code",
   "execution_count": 104,
   "metadata": {},
   "outputs": [
    {
     "output_type": "execute_result",
     "data": {
      "text/plain": [
       "   cap_id                                        cap_plan\n",
       "0       1          Stay with the same employer, same role\n",
       "1       2                               Prefer not to say\n",
       "2       3                 Change both employers and roles\n",
       "3       4   Stay with the same role, but change employers\n",
       "4       5  Stay with the same employer,  but change roles"
      ],
      "text/html": "<div>\n<style scoped>\n    .dataframe tbody tr th:only-of-type {\n        vertical-align: middle;\n    }\n\n    .dataframe tbody tr th {\n        vertical-align: top;\n    }\n\n    .dataframe thead th {\n        text-align: right;\n    }\n</style>\n<table border=\"1\" class=\"dataframe\">\n  <thead>\n    <tr style=\"text-align: right;\">\n      <th></th>\n      <th>cap_id</th>\n      <th>cap_plan</th>\n    </tr>\n  </thead>\n  <tbody>\n    <tr>\n      <th>0</th>\n      <td>1</td>\n      <td>Stay with the same employer, same role</td>\n    </tr>\n    <tr>\n      <th>1</th>\n      <td>2</td>\n      <td>Prefer not to say</td>\n    </tr>\n    <tr>\n      <th>2</th>\n      <td>3</td>\n      <td>Change both employers and roles</td>\n    </tr>\n    <tr>\n      <th>3</th>\n      <td>4</td>\n      <td>Stay with the same role, but change employers</td>\n    </tr>\n    <tr>\n      <th>4</th>\n      <td>5</td>\n      <td>Stay with the same employer,  but change roles</td>\n    </tr>\n  </tbody>\n</table>\n</div>"
     },
     "metadata": {},
     "execution_count": 104
    }
   ],
   "source": [
    "table_career_plan = pd.read_sql_query(\"SELECT * FROM carreer_plan\", survey)\n",
    "table_career_plan[table_career_plan.columns[1]] = data[\"CareerPlansThisYear\"]\n",
    "table_career_plan.drop_duplicates(inplace=True)\n",
    "\n",
    "table_career_plan = table_career_plan[table_career_plan[table_career_plan.columns[1]] != \"Not Asked\"]\n",
    "\n",
    "table_career_plan.to_sql('carreer_plan', if_exists='append', con=survey, index=False)\n",
    "\n",
    "pd.read_sql_query(\"select * from carreer_plan\", survey)"
   ]
  },
  {
   "cell_type": "code",
   "execution_count": 11,
   "metadata": {},
   "outputs": [
    {
     "output_type": "execute_result",
     "data": {
      "text/plain": [
       "    job_id                                           job_name\n",
       "0       24  Developer: Business Intelligence (SSRS, PowerB...\n",
       "1       25  DBA (Production Focus - build & troubleshoot s...\n",
       "2       26  DBA (General - splits time evenly between writ...\n",
       "3       27                                            Manager\n",
       "4       28                  Developer: App code (C#, JS, etc)\n",
       "5       29                                   Developer: T-SQL\n",
       "6       30                                          Architect\n",
       "7       31  DBA (Development Focus - tunes queries, indexe...\n",
       "8       32                                           Engineer\n",
       "9       33                                            Analyst\n",
       "10      34                                              Other\n",
       "11      35                                     Data Scientist\n",
       "12      36                                                DBA\n",
       "13      37                        Principal database engineer\n",
       "14      38                   DevOps, Sr Software Engineer DBA\n",
       "15      39                                        Technician \n",
       "16      40                                Database Specialist\n",
       "17      41                                         Consultant\n",
       "18      42                              Systems Administrator\n",
       "19      43                                              Sales\n",
       "20      44                                 DBA / BI Developer\n",
       "21      45                                     Sr Consultant \n",
       "22      46                               Analytics consultant"
      ],
      "text/html": "<div>\n<style scoped>\n    .dataframe tbody tr th:only-of-type {\n        vertical-align: middle;\n    }\n\n    .dataframe tbody tr th {\n        vertical-align: top;\n    }\n\n    .dataframe thead th {\n        text-align: right;\n    }\n</style>\n<table border=\"1\" class=\"dataframe\">\n  <thead>\n    <tr style=\"text-align: right;\">\n      <th></th>\n      <th>job_id</th>\n      <th>job_name</th>\n    </tr>\n  </thead>\n  <tbody>\n    <tr>\n      <th>0</th>\n      <td>24</td>\n      <td>Developer: Business Intelligence (SSRS, PowerB...</td>\n    </tr>\n    <tr>\n      <th>1</th>\n      <td>25</td>\n      <td>DBA (Production Focus - build &amp; troubleshoot s...</td>\n    </tr>\n    <tr>\n      <th>2</th>\n      <td>26</td>\n      <td>DBA (General - splits time evenly between writ...</td>\n    </tr>\n    <tr>\n      <th>3</th>\n      <td>27</td>\n      <td>Manager</td>\n    </tr>\n    <tr>\n      <th>4</th>\n      <td>28</td>\n      <td>Developer: App code (C#, JS, etc)</td>\n    </tr>\n    <tr>\n      <th>5</th>\n      <td>29</td>\n      <td>Developer: T-SQL</td>\n    </tr>\n    <tr>\n      <th>6</th>\n      <td>30</td>\n      <td>Architect</td>\n    </tr>\n    <tr>\n      <th>7</th>\n      <td>31</td>\n      <td>DBA (Development Focus - tunes queries, indexe...</td>\n    </tr>\n    <tr>\n      <th>8</th>\n      <td>32</td>\n      <td>Engineer</td>\n    </tr>\n    <tr>\n      <th>9</th>\n      <td>33</td>\n      <td>Analyst</td>\n    </tr>\n    <tr>\n      <th>10</th>\n      <td>34</td>\n      <td>Other</td>\n    </tr>\n    <tr>\n      <th>11</th>\n      <td>35</td>\n      <td>Data Scientist</td>\n    </tr>\n    <tr>\n      <th>12</th>\n      <td>36</td>\n      <td>DBA</td>\n    </tr>\n    <tr>\n      <th>13</th>\n      <td>37</td>\n      <td>Principal database engineer</td>\n    </tr>\n    <tr>\n      <th>14</th>\n      <td>38</td>\n      <td>DevOps, Sr Software Engineer DBA</td>\n    </tr>\n    <tr>\n      <th>15</th>\n      <td>39</td>\n      <td>Technician</td>\n    </tr>\n    <tr>\n      <th>16</th>\n      <td>40</td>\n      <td>Database Specialist</td>\n    </tr>\n    <tr>\n      <th>17</th>\n      <td>41</td>\n      <td>Consultant</td>\n    </tr>\n    <tr>\n      <th>18</th>\n      <td>42</td>\n      <td>Systems Administrator</td>\n    </tr>\n    <tr>\n      <th>19</th>\n      <td>43</td>\n      <td>Sales</td>\n    </tr>\n    <tr>\n      <th>20</th>\n      <td>44</td>\n      <td>DBA / BI Developer</td>\n    </tr>\n    <tr>\n      <th>21</th>\n      <td>45</td>\n      <td>Sr Consultant</td>\n    </tr>\n    <tr>\n      <th>22</th>\n      <td>46</td>\n      <td>Analytics consultant</td>\n    </tr>\n  </tbody>\n</table>\n</div>"
     },
     "metadata": {},
     "execution_count": 11
    }
   ],
   "source": [
    "table_job = pd.read_sql_query(\"SELECT * FROM job\", survey)\n",
    "table_job[table_job.columns[1]] = data[\"JobTitle\"]\n",
    "table_job.drop_duplicates(inplace=True)\n",
    "\n",
    "table_job = table_job[table_job[table_job.columns[1]] != \"Not Asked\"]\n",
    "\n",
    "table_job.to_sql('job', if_exists='append', con=survey, index=False)\n",
    "\n",
    "pd.read_sql_query(\"select * from job\", survey)"
   ]
  },
  {
   "cell_type": "code",
   "execution_count": 16,
   "metadata": {},
   "outputs": [
    {
     "output_type": "execute_result",
     "data": {
      "text/plain": [
       "    db_id                  db_name\n",
       "0       1     Microsoft SQL Server\n",
       "1       2               PostgreSQL\n",
       "2       3                    Other\n",
       "3       4             Azure SQL DB\n",
       "4       5         Microsoft Access\n",
       "5       6                   Oracle\n",
       "6       7            MySQL/MariaDB\n",
       "7       8  Amazon RDS (any flavor)\n",
       "8       9                  MongoDB\n",
       "9      10                      DB2\n",
       "10     11                Cassandra\n",
       "11     12                   SQLite\n",
       "12     13                      SAP\n",
       "13     14                 Teradata\n",
       "14     15            Elasticsearch"
      ],
      "text/html": "<div>\n<style scoped>\n    .dataframe tbody tr th:only-of-type {\n        vertical-align: middle;\n    }\n\n    .dataframe tbody tr th {\n        vertical-align: top;\n    }\n\n    .dataframe thead th {\n        text-align: right;\n    }\n</style>\n<table border=\"1\" class=\"dataframe\">\n  <thead>\n    <tr style=\"text-align: right;\">\n      <th></th>\n      <th>db_id</th>\n      <th>db_name</th>\n    </tr>\n  </thead>\n  <tbody>\n    <tr>\n      <th>0</th>\n      <td>1</td>\n      <td>Microsoft SQL Server</td>\n    </tr>\n    <tr>\n      <th>1</th>\n      <td>2</td>\n      <td>PostgreSQL</td>\n    </tr>\n    <tr>\n      <th>2</th>\n      <td>3</td>\n      <td>Other</td>\n    </tr>\n    <tr>\n      <th>3</th>\n      <td>4</td>\n      <td>Azure SQL DB</td>\n    </tr>\n    <tr>\n      <th>4</th>\n      <td>5</td>\n      <td>Microsoft Access</td>\n    </tr>\n    <tr>\n      <th>5</th>\n      <td>6</td>\n      <td>Oracle</td>\n    </tr>\n    <tr>\n      <th>6</th>\n      <td>7</td>\n      <td>MySQL/MariaDB</td>\n    </tr>\n    <tr>\n      <th>7</th>\n      <td>8</td>\n      <td>Amazon RDS (any flavor)</td>\n    </tr>\n    <tr>\n      <th>8</th>\n      <td>9</td>\n      <td>MongoDB</td>\n    </tr>\n    <tr>\n      <th>9</th>\n      <td>10</td>\n      <td>DB2</td>\n    </tr>\n    <tr>\n      <th>10</th>\n      <td>11</td>\n      <td>Cassandra</td>\n    </tr>\n    <tr>\n      <th>11</th>\n      <td>12</td>\n      <td>SQLite</td>\n    </tr>\n    <tr>\n      <th>12</th>\n      <td>13</td>\n      <td>SAP</td>\n    </tr>\n    <tr>\n      <th>13</th>\n      <td>14</td>\n      <td>Teradata</td>\n    </tr>\n    <tr>\n      <th>14</th>\n      <td>15</td>\n      <td>Elasticsearch</td>\n    </tr>\n  </tbody>\n</table>\n</div>"
     },
     "metadata": {},
     "execution_count": 16
    }
   ],
   "source": [
    "table_database = pd.read_sql_query(\"SELECT * FROM db\", survey)\n",
    "table_database[table_database.columns[1]] = data[\"PrimaryDatabase\"]\n",
    "table_database.drop_duplicates(inplace=True)\n",
    "\n",
    "table_database = table_database[table_database[table_database.columns[1]] != \"Not Asked\"]\n",
    "\n",
    "table_database\n",
    "\n",
    "table_database.to_sql('db', if_exists='append', con=survey, index=False)\n",
    "\n",
    "pd.read_sql_query(\"select * from db\", survey)"
   ]
  },
  {
   "cell_type": "code",
   "execution_count": 33,
   "metadata": {
    "tags": []
   },
   "outputs": [
    {
     "output_type": "execute_result",
     "data": {
      "text/plain": [
       "   tas_id                          tas_name\n",
       "0       1                      Manual tasks\n",
       "1       2             Meetings & management\n",
       "2       3                          Projects\n",
       "3       4  Build scripts & automation tools\n",
       "4       5                  On-call 24/7/365\n",
       "5       6                               R&D\n",
       "6       7     On-call as part of a rotation\n",
       "7       8                 Training/teaching"
      ],
      "text/html": "<div>\n<style scoped>\n    .dataframe tbody tr th:only-of-type {\n        vertical-align: middle;\n    }\n\n    .dataframe tbody tr th {\n        vertical-align: top;\n    }\n\n    .dataframe thead th {\n        text-align: right;\n    }\n</style>\n<table border=\"1\" class=\"dataframe\">\n  <thead>\n    <tr style=\"text-align: right;\">\n      <th></th>\n      <th>tas_id</th>\n      <th>tas_name</th>\n    </tr>\n  </thead>\n  <tbody>\n    <tr>\n      <th>0</th>\n      <td>1</td>\n      <td>Manual tasks</td>\n    </tr>\n    <tr>\n      <th>1</th>\n      <td>2</td>\n      <td>Meetings &amp; management</td>\n    </tr>\n    <tr>\n      <th>2</th>\n      <td>3</td>\n      <td>Projects</td>\n    </tr>\n    <tr>\n      <th>3</th>\n      <td>4</td>\n      <td>Build scripts &amp; automation tools</td>\n    </tr>\n    <tr>\n      <th>4</th>\n      <td>5</td>\n      <td>On-call 24/7/365</td>\n    </tr>\n    <tr>\n      <th>5</th>\n      <td>6</td>\n      <td>R&amp;D</td>\n    </tr>\n    <tr>\n      <th>6</th>\n      <td>7</td>\n      <td>On-call as part of a rotation</td>\n    </tr>\n    <tr>\n      <th>7</th>\n      <td>8</td>\n      <td>Training/teaching</td>\n    </tr>\n  </tbody>\n</table>\n</div>"
     },
     "metadata": {},
     "execution_count": 33
    }
   ],
   "source": [
    "table_task = pd.read_sql_query(\"SELECT * FROM task\", survey)\n",
    "table_task[table_task.columns[1]] = data[\"KindsOfTasksPerformed\"]\n",
    "table_task.drop_duplicates(inplace=True)\n",
    "\n",
    "table_task = table_task[table_task[table_task.columns[1]] != \"Not Asked\"]\n",
    "\n",
    "a = table_task[table_task.columns[1]].tolist()\n",
    "s = ', '.join(map(str,a))\n",
    "\n",
    "l=s.split(\", \")\n",
    "\n",
    "ld = pd.DataFrame(l)\n",
    "ld.drop_duplicates(inplace=True)\n",
    "\n",
    "ld = ld[ld[ld.columns[0]] != \"nan\" ]\n",
    "\n",
    "table_task = pd.read_sql_query(\"SELECT * FROM task\", survey) # Re définition de table_task\n",
    "table_task[\"tas_name\"]=ld[0]\n",
    "\n",
    "table_task.to_sql('task', if_exists='append', con=survey, index=False)\n",
    "\n",
    "pd.read_sql_query(\"select * from task\", survey)"
   ]
  },
  {
   "cell_type": "code",
   "execution_count": 148,
   "metadata": {},
   "outputs": [
    {
     "output_type": "execute_result",
     "data": {
      "text/plain": [
       "Empty DataFrame\n",
       "Columns: [sgi_id, timestamp, salary_usd, postal_code, years_with_db, manage_staff, years_with_job, other_people, company_employee, database_servers, eduction_computer, hours_worked, telecommute, newest_version, oldest_version, gender, sdg_id, ctr_id, primary_db_id, emp_id, job_id, mcp_id, edu_id, cert_id, pop_id, sec_id, look_id, cap_id]\n",
       "Index: []\n",
       "\n",
       "[0 rows x 28 columns]"
      ],
      "text/html": "<div>\n<style scoped>\n    .dataframe tbody tr th:only-of-type {\n        vertical-align: middle;\n    }\n\n    .dataframe tbody tr th {\n        vertical-align: top;\n    }\n\n    .dataframe thead th {\n        text-align: right;\n    }\n</style>\n<table border=\"1\" class=\"dataframe\">\n  <thead>\n    <tr style=\"text-align: right;\">\n      <th></th>\n      <th>sgi_id</th>\n      <th>timestamp</th>\n      <th>salary_usd</th>\n      <th>postal_code</th>\n      <th>years_with_db</th>\n      <th>manage_staff</th>\n      <th>years_with_job</th>\n      <th>other_people</th>\n      <th>company_employee</th>\n      <th>database_servers</th>\n      <th>...</th>\n      <th>primary_db_id</th>\n      <th>emp_id</th>\n      <th>job_id</th>\n      <th>mcp_id</th>\n      <th>edu_id</th>\n      <th>cert_id</th>\n      <th>pop_id</th>\n      <th>sec_id</th>\n      <th>look_id</th>\n      <th>cap_id</th>\n    </tr>\n  </thead>\n  <tbody>\n  </tbody>\n</table>\n<p>0 rows × 28 columns</p>\n</div>"
     },
     "metadata": {},
     "execution_count": 148
    }
   ],
   "source": [
    "table_sondage_item = pd.read_sql_query(\"SELECT * FROM sondage_item\", survey)\n",
    "table_sondage_item"
   ]
  },
  {
   "cell_type": "code",
   "execution_count": 66,
   "metadata": {},
   "outputs": [],
   "source": [
    "table_database = pd.read_sql_query(\"SELECT * FROM db\", survey)"
   ]
  },
  {
   "cell_type": "code",
   "execution_count": 68,
   "metadata": {},
   "outputs": [
    {
     "output_type": "execute_result",
     "data": {
      "text/plain": [
       "3"
      ]
     },
     "metadata": {},
     "execution_count": 68
    }
   ],
   "source": [
    "int(table_database[table_database.columns[0]][(table_database[table_database.columns[1]]==\"Other\")==True])"
   ]
  },
  {
   "cell_type": "code",
   "execution_count": 195,
   "metadata": {
    "tags": []
   },
   "outputs": [
    {
     "output_type": "stream",
     "name": "stdout",
     "text": [
      "Timestamp\n",
      "SalaryUSD\n",
      "PostalCode\n",
      "YearsWithThisDatabase\n",
      "ManageStaff\n",
      "YearsWithThisTypeOfJob\n",
      "OtherPeopleOnYourTeam\n",
      "CompanyEmployeesOverall\n",
      "DatabaseServers\n",
      "EducationIsComputerRelated\n",
      "HoursWorkedPerWeek\n",
      "TelecommuteDaysPerWeek\n",
      "NewestVersionInProduction\n",
      "OldestVersionInProduction\n",
      "Gender\n",
      "Survey Year\n",
      "EmploymentSector\n",
      "LookingForAnotherJob\n",
      "CareerPlansThisYear\n",
      "Country\n",
      "PrimaryDatabase\n",
      "EmploymentStatus\n",
      "JobTitle\n",
      "HowManyCompanies\n",
      "Education\n",
      "Certifications\n",
      "PopulationOfLargestCityWithin20Miles\n"
     ]
    }
   ],
   "source": [
    "pd.options.mode.chained_assignment = None\n",
    "\n",
    "table_sondage_item = pd.read_sql_query(\"SELECT * FROM sondage_item\", survey)\n",
    "table_sondage_item\n",
    "\n",
    "dic = {\n",
    "    'timestamp':'Timestamp',\n",
    "    'salary_usd':'SalaryUSD',\n",
    "    'postal_code':'PostalCode',\n",
    "    'years_with_db':'YearsWithThisDatabase',\n",
    "    'manage_staff':'ManageStaff',\n",
    "    'years_with_job':'YearsWithThisTypeOfJob',\n",
    "    'other_people':'OtherPeopleOnYourTeam',\n",
    "    'company_employee':'CompanyEmployeesOverall',\n",
    "    'database_servers':'DatabaseServers',\n",
    "    'eduction_computer':'EducationIsComputerRelated',\n",
    "    'hours_worked':'HoursWorkedPerWeek',\n",
    "    'telecommute':'TelecommuteDaysPerWeek',\n",
    "    'newest_version':'NewestVersionInProduction',\n",
    "    'oldest_version':'OldestVersionInProduction',\n",
    "    'gender':'Gender',\n",
    "    \"sdg_id\":\"Survey Year\",\n",
    "    \"sec_id\":\"EmploymentSector\",\n",
    "    \"look_id\":\"LookingForAnotherJob\",\n",
    "    \"cap_id\":\"CareerPlansThisYear\",\n",
    "    \"ctr_id\":\"Country\",\n",
    "    \"primary_db_id\":\"PrimaryDatabase\",\n",
    "    \"emp_id\":\"EmploymentStatus\",\n",
    "    \"job_id\":\"JobTitle\",\n",
    "    \"mcp_id\":\"HowManyCompanies\",\n",
    "    \"edu_id\":\"Education\",\n",
    "    \"cert_id\":\"Certifications\",\n",
    "    \"pop_id\":\"PopulationOfLargestCityWithin20Miles\"\n",
    "    }\n",
    "\n",
    "dic_df = {}\n",
    "\n",
    "dic_df[\"sdg_id\"] = pd.read_sql_query(\"SELECT * FROM sondage\", survey)\n",
    "dic_df[\"sec_id\"] = pd.read_sql_query(\"SELECT * FROM employment_sector\", survey)\n",
    "dic_df[\"look_id\"] = pd.read_sql_query(\"SELECT * FROM looking_job\", survey)\n",
    "dic_df[\"cap_id\"] = pd.read_sql_query(\"SELECT * FROM carreer_plan\", survey)\n",
    "dic_df[\"ctr_id\"] = pd.read_sql_query(\"SELECT * FROM country\", survey)\n",
    "dic_df[\"primary_db_id\"] = pd.read_sql_query(\"SELECT * FROM db\", survey)\n",
    "dic_df[\"emp_id\"] = pd.read_sql_query(\"SELECT * FROM employment_status\", survey)\n",
    "dic_df[\"job_id\"] = pd.read_sql_query(\"SELECT * FROM job\", survey)\n",
    "dic_df[\"mcp_id\"] = pd.read_sql_query(\"SELECT * FROM how_many_companies\", survey)\n",
    "dic_df[\"edu_id\"] = pd.read_sql_query(\"SELECT * FROM education\", survey)\n",
    "dic_df[\"cert_id\"] = pd.read_sql_query(\"SELECT * FROM certification\", survey)\n",
    "dic_df[\"pop_id\"] = pd.read_sql_query(\"SELECT * FROM largest_city\", survey)\n",
    "\n",
    "import functools\n",
    "\n",
    "def trouver_index(valeur, table):\n",
    "    return int(table[table.columns[0]][(table[table.columns[1]]==valeur)==True])\n",
    "\n",
    "for cle,colonne in dic.items():\n",
    "    print(colonne)\n",
    "    if cle[-2:]==\"id\":\n",
    "        for i in data[colonne].index:\n",
    "            if data[colonne][i] == \"Not Asked\" :\n",
    "                table_sondage_item[cle][i] = \"Not Asked\"\n",
    "            else:\n",
    "                table_sondage_item[cle][i] = trouver_index(data[colonne][i], dic_df[cle])\n",
    "    else:\n",
    "        table_sondage_item[cle]=data[colonne]\n"
   ]
  },
  {
   "cell_type": "code",
   "execution_count": 196,
   "metadata": {},
   "outputs": [
    {
     "output_type": "execute_result",
     "data": {
      "text/plain": [
       "      sgi_id               timestamp  salary_usd postal_code  years_with_db  \\\n",
       "0        NaN 2020-12-10 08:22:42.696     65000.0         NaN              4   \n",
       "1        NaN 2020-12-10 08:23:22.242    145000.0       76063             15   \n",
       "2        NaN 2020-12-10 08:23:37.909    105000.0       43240             12   \n",
       "3        NaN 2020-12-10 08:23:48.152     46482.0         NaN             10   \n",
       "4        NaN 2020-12-10 08:24:03.600     98800.0         468              5   \n",
       "...      ...                     ...         ...         ...            ...   \n",
       "10336    NaN 2017-01-14 15:50:23.936     36549.0   Not Asked              3   \n",
       "10337    NaN 2017-01-15 01:01:21.212     65000.0   Not Asked              7   \n",
       "10338    NaN 2017-01-15 03:25:47.422     85000.0   Not Asked             17   \n",
       "10339    NaN 2017-01-15 03:37:35.305     90000.0   Not Asked              8   \n",
       "10340    NaN 2017-01-15 03:37:59.149     23000.0   Not Asked              4   \n",
       "\n",
       "      manage_staff  years_with_job other_people company_employee  \\\n",
       "0              Yes               4         None                2   \n",
       "1               No              25         None               74   \n",
       "2              Yes               6            1              500   \n",
       "3               No               5         None               35   \n",
       "4               No               5         None               50   \n",
       "...            ...             ...          ...              ...   \n",
       "10336           No               1            1        Not Asked   \n",
       "10337          Yes               3            5        Not Asked   \n",
       "10338           No              17            1        Not Asked   \n",
       "10339           No               3            1        Not Asked   \n",
       "10340           No               9            3        Not Asked   \n",
       "\n",
       "      database_servers  ... primary_db_id emp_id job_id     mcp_id     edu_id  \\\n",
       "0            Not Asked  ...             1      1     24          1  Not Asked   \n",
       "1            Not Asked  ...             1      1     25          2  Not Asked   \n",
       "2            Not Asked  ...             1      1     26          3  Not Asked   \n",
       "3            Not Asked  ...             1      1     25          4  Not Asked   \n",
       "4            Not Asked  ...             1      1     24          1  Not Asked   \n",
       "...                ...  ...           ...    ...    ...        ...        ...   \n",
       "10336               42  ...             1      1     36  Not Asked          2   \n",
       "10337               40  ...             1      1     36  Not Asked          1   \n",
       "10338              200  ...             1      1     34  Not Asked          1   \n",
       "10339               80  ...             1      1     36  Not Asked          3   \n",
       "10340               10  ...             1      1     30  Not Asked          2   \n",
       "\n",
       "         cert_id     pop_id sec_id    look_id     cap_id  \n",
       "0      Not Asked          1      1  Not Asked          1  \n",
       "1      Not Asked          2      1  Not Asked          1  \n",
       "2      Not Asked          3      1  Not Asked          1  \n",
       "3      Not Asked          3      2  Not Asked          1  \n",
       "4      Not Asked          4      1  Not Asked          1  \n",
       "...          ...        ...    ...        ...        ...  \n",
       "10336          7  Not Asked      1          1  Not Asked  \n",
       "10337          7  Not Asked      1          2  Not Asked  \n",
       "10338          7  Not Asked      1          2  Not Asked  \n",
       "10339          8  Not Asked      1          3  Not Asked  \n",
       "10340          8  Not Asked      1          2  Not Asked  \n",
       "\n",
       "[10341 rows x 28 columns]"
      ],
      "text/html": "<div>\n<style scoped>\n    .dataframe tbody tr th:only-of-type {\n        vertical-align: middle;\n    }\n\n    .dataframe tbody tr th {\n        vertical-align: top;\n    }\n\n    .dataframe thead th {\n        text-align: right;\n    }\n</style>\n<table border=\"1\" class=\"dataframe\">\n  <thead>\n    <tr style=\"text-align: right;\">\n      <th></th>\n      <th>sgi_id</th>\n      <th>timestamp</th>\n      <th>salary_usd</th>\n      <th>postal_code</th>\n      <th>years_with_db</th>\n      <th>manage_staff</th>\n      <th>years_with_job</th>\n      <th>other_people</th>\n      <th>company_employee</th>\n      <th>database_servers</th>\n      <th>...</th>\n      <th>primary_db_id</th>\n      <th>emp_id</th>\n      <th>job_id</th>\n      <th>mcp_id</th>\n      <th>edu_id</th>\n      <th>cert_id</th>\n      <th>pop_id</th>\n      <th>sec_id</th>\n      <th>look_id</th>\n      <th>cap_id</th>\n    </tr>\n  </thead>\n  <tbody>\n    <tr>\n      <th>0</th>\n      <td>NaN</td>\n      <td>2020-12-10 08:22:42.696</td>\n      <td>65000.0</td>\n      <td>NaN</td>\n      <td>4</td>\n      <td>Yes</td>\n      <td>4</td>\n      <td>None</td>\n      <td>2</td>\n      <td>Not Asked</td>\n      <td>...</td>\n      <td>1</td>\n      <td>1</td>\n      <td>24</td>\n      <td>1</td>\n      <td>Not Asked</td>\n      <td>Not Asked</td>\n      <td>1</td>\n      <td>1</td>\n      <td>Not Asked</td>\n      <td>1</td>\n    </tr>\n    <tr>\n      <th>1</th>\n      <td>NaN</td>\n      <td>2020-12-10 08:23:22.242</td>\n      <td>145000.0</td>\n      <td>76063</td>\n      <td>15</td>\n      <td>No</td>\n      <td>25</td>\n      <td>None</td>\n      <td>74</td>\n      <td>Not Asked</td>\n      <td>...</td>\n      <td>1</td>\n      <td>1</td>\n      <td>25</td>\n      <td>2</td>\n      <td>Not Asked</td>\n      <td>Not Asked</td>\n      <td>2</td>\n      <td>1</td>\n      <td>Not Asked</td>\n      <td>1</td>\n    </tr>\n    <tr>\n      <th>2</th>\n      <td>NaN</td>\n      <td>2020-12-10 08:23:37.909</td>\n      <td>105000.0</td>\n      <td>43240</td>\n      <td>12</td>\n      <td>Yes</td>\n      <td>6</td>\n      <td>1</td>\n      <td>500</td>\n      <td>Not Asked</td>\n      <td>...</td>\n      <td>1</td>\n      <td>1</td>\n      <td>26</td>\n      <td>3</td>\n      <td>Not Asked</td>\n      <td>Not Asked</td>\n      <td>3</td>\n      <td>1</td>\n      <td>Not Asked</td>\n      <td>1</td>\n    </tr>\n    <tr>\n      <th>3</th>\n      <td>NaN</td>\n      <td>2020-12-10 08:23:48.152</td>\n      <td>46482.0</td>\n      <td>NaN</td>\n      <td>10</td>\n      <td>No</td>\n      <td>5</td>\n      <td>None</td>\n      <td>35</td>\n      <td>Not Asked</td>\n      <td>...</td>\n      <td>1</td>\n      <td>1</td>\n      <td>25</td>\n      <td>4</td>\n      <td>Not Asked</td>\n      <td>Not Asked</td>\n      <td>3</td>\n      <td>2</td>\n      <td>Not Asked</td>\n      <td>1</td>\n    </tr>\n    <tr>\n      <th>4</th>\n      <td>NaN</td>\n      <td>2020-12-10 08:24:03.600</td>\n      <td>98800.0</td>\n      <td>468</td>\n      <td>5</td>\n      <td>No</td>\n      <td>5</td>\n      <td>None</td>\n      <td>50</td>\n      <td>Not Asked</td>\n      <td>...</td>\n      <td>1</td>\n      <td>1</td>\n      <td>24</td>\n      <td>1</td>\n      <td>Not Asked</td>\n      <td>Not Asked</td>\n      <td>4</td>\n      <td>1</td>\n      <td>Not Asked</td>\n      <td>1</td>\n    </tr>\n    <tr>\n      <th>...</th>\n      <td>...</td>\n      <td>...</td>\n      <td>...</td>\n      <td>...</td>\n      <td>...</td>\n      <td>...</td>\n      <td>...</td>\n      <td>...</td>\n      <td>...</td>\n      <td>...</td>\n      <td>...</td>\n      <td>...</td>\n      <td>...</td>\n      <td>...</td>\n      <td>...</td>\n      <td>...</td>\n      <td>...</td>\n      <td>...</td>\n      <td>...</td>\n      <td>...</td>\n      <td>...</td>\n    </tr>\n    <tr>\n      <th>10336</th>\n      <td>NaN</td>\n      <td>2017-01-14 15:50:23.936</td>\n      <td>36549.0</td>\n      <td>Not Asked</td>\n      <td>3</td>\n      <td>No</td>\n      <td>1</td>\n      <td>1</td>\n      <td>Not Asked</td>\n      <td>42</td>\n      <td>...</td>\n      <td>1</td>\n      <td>1</td>\n      <td>36</td>\n      <td>Not Asked</td>\n      <td>2</td>\n      <td>7</td>\n      <td>Not Asked</td>\n      <td>1</td>\n      <td>1</td>\n      <td>Not Asked</td>\n    </tr>\n    <tr>\n      <th>10337</th>\n      <td>NaN</td>\n      <td>2017-01-15 01:01:21.212</td>\n      <td>65000.0</td>\n      <td>Not Asked</td>\n      <td>7</td>\n      <td>Yes</td>\n      <td>3</td>\n      <td>5</td>\n      <td>Not Asked</td>\n      <td>40</td>\n      <td>...</td>\n      <td>1</td>\n      <td>1</td>\n      <td>36</td>\n      <td>Not Asked</td>\n      <td>1</td>\n      <td>7</td>\n      <td>Not Asked</td>\n      <td>1</td>\n      <td>2</td>\n      <td>Not Asked</td>\n    </tr>\n    <tr>\n      <th>10338</th>\n      <td>NaN</td>\n      <td>2017-01-15 03:25:47.422</td>\n      <td>85000.0</td>\n      <td>Not Asked</td>\n      <td>17</td>\n      <td>No</td>\n      <td>17</td>\n      <td>1</td>\n      <td>Not Asked</td>\n      <td>200</td>\n      <td>...</td>\n      <td>1</td>\n      <td>1</td>\n      <td>34</td>\n      <td>Not Asked</td>\n      <td>1</td>\n      <td>7</td>\n      <td>Not Asked</td>\n      <td>1</td>\n      <td>2</td>\n      <td>Not Asked</td>\n    </tr>\n    <tr>\n      <th>10339</th>\n      <td>NaN</td>\n      <td>2017-01-15 03:37:35.305</td>\n      <td>90000.0</td>\n      <td>Not Asked</td>\n      <td>8</td>\n      <td>No</td>\n      <td>3</td>\n      <td>1</td>\n      <td>Not Asked</td>\n      <td>80</td>\n      <td>...</td>\n      <td>1</td>\n      <td>1</td>\n      <td>36</td>\n      <td>Not Asked</td>\n      <td>3</td>\n      <td>8</td>\n      <td>Not Asked</td>\n      <td>1</td>\n      <td>3</td>\n      <td>Not Asked</td>\n    </tr>\n    <tr>\n      <th>10340</th>\n      <td>NaN</td>\n      <td>2017-01-15 03:37:59.149</td>\n      <td>23000.0</td>\n      <td>Not Asked</td>\n      <td>4</td>\n      <td>No</td>\n      <td>9</td>\n      <td>3</td>\n      <td>Not Asked</td>\n      <td>10</td>\n      <td>...</td>\n      <td>1</td>\n      <td>1</td>\n      <td>30</td>\n      <td>Not Asked</td>\n      <td>2</td>\n      <td>8</td>\n      <td>Not Asked</td>\n      <td>1</td>\n      <td>2</td>\n      <td>Not Asked</td>\n    </tr>\n  </tbody>\n</table>\n<p>10341 rows × 28 columns</p>\n</div>"
     },
     "metadata": {},
     "execution_count": 196
    }
   ],
   "source": [
    "table_sondage_item"
   ]
  },
  {
   "cell_type": "code",
   "execution_count": 205,
   "metadata": {},
   "outputs": [
    {
     "output_type": "execute_result",
     "data": {
      "text/plain": [
       "       sgi_id               timestamp  salary_usd postal_code  years_with_db  \\\n",
       "0         NaN 2020-12-10 08:22:42.696     65000.0         NaN              4   \n",
       "1         NaN 2020-12-10 08:23:22.242    145000.0       76063             15   \n",
       "2         NaN 2020-12-10 08:23:37.909    105000.0       43240             12   \n",
       "3         NaN 2020-12-10 08:23:48.152     46482.0         NaN             10   \n",
       "4         NaN 2020-12-10 08:24:03.600     98800.0         468              5   \n",
       "...       ...                     ...         ...         ...            ...   \n",
       "10336     NaN 2017-01-14 15:50:23.936     36549.0         NaN              3   \n",
       "10337     NaN 2017-01-15 01:01:21.212     65000.0         NaN              7   \n",
       "10338     NaN 2017-01-15 03:25:47.422     85000.0         NaN             17   \n",
       "10339     NaN 2017-01-15 03:37:35.305     90000.0         NaN              8   \n",
       "10340     NaN 2017-01-15 03:37:59.149     23000.0         NaN              4   \n",
       "\n",
       "      manage_staff  years_with_job other_people company_employee  \\\n",
       "0              Yes               4         None                2   \n",
       "1               No              25         None               74   \n",
       "2              Yes               6            1              500   \n",
       "3               No               5         None               35   \n",
       "4               No               5         None               50   \n",
       "...            ...             ...          ...              ...   \n",
       "10336           No               1            1              NaN   \n",
       "10337          Yes               3            5              NaN   \n",
       "10338           No              17            1              NaN   \n",
       "10339           No               3            1              NaN   \n",
       "10340           No               9            3              NaN   \n",
       "\n",
       "       database_servers  ... primary_db_id  emp_id job_id mcp_id edu_id  \\\n",
       "0                   NaN  ...             1       1     24    1.0    NaN   \n",
       "1                   NaN  ...             1       1     25    2.0    NaN   \n",
       "2                   NaN  ...             1       1     26    3.0    NaN   \n",
       "3                   NaN  ...             1       1     25    4.0    NaN   \n",
       "4                   NaN  ...             1       1     24    1.0    NaN   \n",
       "...                 ...  ...           ...     ...    ...    ...    ...   \n",
       "10336              42.0  ...             1       1     36    NaN    2.0   \n",
       "10337              40.0  ...             1       1     36    NaN    1.0   \n",
       "10338             200.0  ...             1       1     34    NaN    1.0   \n",
       "10339              80.0  ...             1       1     36    NaN    3.0   \n",
       "10340              10.0  ...             1       1     30    NaN    2.0   \n",
       "\n",
       "      cert_id  pop_id  sec_id  look_id  cap_id  \n",
       "0         NaN     1.0       1      NaN     1.0  \n",
       "1         NaN     2.0       1      NaN     1.0  \n",
       "2         NaN     3.0       1      NaN     1.0  \n",
       "3         NaN     3.0       2      NaN     1.0  \n",
       "4         NaN     4.0       1      NaN     1.0  \n",
       "...       ...     ...     ...      ...     ...  \n",
       "10336     7.0     NaN       1      1.0     NaN  \n",
       "10337     7.0     NaN       1      2.0     NaN  \n",
       "10338     7.0     NaN       1      2.0     NaN  \n",
       "10339     8.0     NaN       1      3.0     NaN  \n",
       "10340     8.0     NaN       1      2.0     NaN  \n",
       "\n",
       "[10341 rows x 28 columns]"
      ],
      "text/html": "<div>\n<style scoped>\n    .dataframe tbody tr th:only-of-type {\n        vertical-align: middle;\n    }\n\n    .dataframe tbody tr th {\n        vertical-align: top;\n    }\n\n    .dataframe thead th {\n        text-align: right;\n    }\n</style>\n<table border=\"1\" class=\"dataframe\">\n  <thead>\n    <tr style=\"text-align: right;\">\n      <th></th>\n      <th>sgi_id</th>\n      <th>timestamp</th>\n      <th>salary_usd</th>\n      <th>postal_code</th>\n      <th>years_with_db</th>\n      <th>manage_staff</th>\n      <th>years_with_job</th>\n      <th>other_people</th>\n      <th>company_employee</th>\n      <th>database_servers</th>\n      <th>...</th>\n      <th>primary_db_id</th>\n      <th>emp_id</th>\n      <th>job_id</th>\n      <th>mcp_id</th>\n      <th>edu_id</th>\n      <th>cert_id</th>\n      <th>pop_id</th>\n      <th>sec_id</th>\n      <th>look_id</th>\n      <th>cap_id</th>\n    </tr>\n  </thead>\n  <tbody>\n    <tr>\n      <th>0</th>\n      <td>NaN</td>\n      <td>2020-12-10 08:22:42.696</td>\n      <td>65000.0</td>\n      <td>NaN</td>\n      <td>4</td>\n      <td>Yes</td>\n      <td>4</td>\n      <td>None</td>\n      <td>2</td>\n      <td>NaN</td>\n      <td>...</td>\n      <td>1</td>\n      <td>1</td>\n      <td>24</td>\n      <td>1.0</td>\n      <td>NaN</td>\n      <td>NaN</td>\n      <td>1.0</td>\n      <td>1</td>\n      <td>NaN</td>\n      <td>1.0</td>\n    </tr>\n    <tr>\n      <th>1</th>\n      <td>NaN</td>\n      <td>2020-12-10 08:23:22.242</td>\n      <td>145000.0</td>\n      <td>76063</td>\n      <td>15</td>\n      <td>No</td>\n      <td>25</td>\n      <td>None</td>\n      <td>74</td>\n      <td>NaN</td>\n      <td>...</td>\n      <td>1</td>\n      <td>1</td>\n      <td>25</td>\n      <td>2.0</td>\n      <td>NaN</td>\n      <td>NaN</td>\n      <td>2.0</td>\n      <td>1</td>\n      <td>NaN</td>\n      <td>1.0</td>\n    </tr>\n    <tr>\n      <th>2</th>\n      <td>NaN</td>\n      <td>2020-12-10 08:23:37.909</td>\n      <td>105000.0</td>\n      <td>43240</td>\n      <td>12</td>\n      <td>Yes</td>\n      <td>6</td>\n      <td>1</td>\n      <td>500</td>\n      <td>NaN</td>\n      <td>...</td>\n      <td>1</td>\n      <td>1</td>\n      <td>26</td>\n      <td>3.0</td>\n      <td>NaN</td>\n      <td>NaN</td>\n      <td>3.0</td>\n      <td>1</td>\n      <td>NaN</td>\n      <td>1.0</td>\n    </tr>\n    <tr>\n      <th>3</th>\n      <td>NaN</td>\n      <td>2020-12-10 08:23:48.152</td>\n      <td>46482.0</td>\n      <td>NaN</td>\n      <td>10</td>\n      <td>No</td>\n      <td>5</td>\n      <td>None</td>\n      <td>35</td>\n      <td>NaN</td>\n      <td>...</td>\n      <td>1</td>\n      <td>1</td>\n      <td>25</td>\n      <td>4.0</td>\n      <td>NaN</td>\n      <td>NaN</td>\n      <td>3.0</td>\n      <td>2</td>\n      <td>NaN</td>\n      <td>1.0</td>\n    </tr>\n    <tr>\n      <th>4</th>\n      <td>NaN</td>\n      <td>2020-12-10 08:24:03.600</td>\n      <td>98800.0</td>\n      <td>468</td>\n      <td>5</td>\n      <td>No</td>\n      <td>5</td>\n      <td>None</td>\n      <td>50</td>\n      <td>NaN</td>\n      <td>...</td>\n      <td>1</td>\n      <td>1</td>\n      <td>24</td>\n      <td>1.0</td>\n      <td>NaN</td>\n      <td>NaN</td>\n      <td>4.0</td>\n      <td>1</td>\n      <td>NaN</td>\n      <td>1.0</td>\n    </tr>\n    <tr>\n      <th>...</th>\n      <td>...</td>\n      <td>...</td>\n      <td>...</td>\n      <td>...</td>\n      <td>...</td>\n      <td>...</td>\n      <td>...</td>\n      <td>...</td>\n      <td>...</td>\n      <td>...</td>\n      <td>...</td>\n      <td>...</td>\n      <td>...</td>\n      <td>...</td>\n      <td>...</td>\n      <td>...</td>\n      <td>...</td>\n      <td>...</td>\n      <td>...</td>\n      <td>...</td>\n      <td>...</td>\n    </tr>\n    <tr>\n      <th>10336</th>\n      <td>NaN</td>\n      <td>2017-01-14 15:50:23.936</td>\n      <td>36549.0</td>\n      <td>NaN</td>\n      <td>3</td>\n      <td>No</td>\n      <td>1</td>\n      <td>1</td>\n      <td>NaN</td>\n      <td>42.0</td>\n      <td>...</td>\n      <td>1</td>\n      <td>1</td>\n      <td>36</td>\n      <td>NaN</td>\n      <td>2.0</td>\n      <td>7.0</td>\n      <td>NaN</td>\n      <td>1</td>\n      <td>1.0</td>\n      <td>NaN</td>\n    </tr>\n    <tr>\n      <th>10337</th>\n      <td>NaN</td>\n      <td>2017-01-15 01:01:21.212</td>\n      <td>65000.0</td>\n      <td>NaN</td>\n      <td>7</td>\n      <td>Yes</td>\n      <td>3</td>\n      <td>5</td>\n      <td>NaN</td>\n      <td>40.0</td>\n      <td>...</td>\n      <td>1</td>\n      <td>1</td>\n      <td>36</td>\n      <td>NaN</td>\n      <td>1.0</td>\n      <td>7.0</td>\n      <td>NaN</td>\n      <td>1</td>\n      <td>2.0</td>\n      <td>NaN</td>\n    </tr>\n    <tr>\n      <th>10338</th>\n      <td>NaN</td>\n      <td>2017-01-15 03:25:47.422</td>\n      <td>85000.0</td>\n      <td>NaN</td>\n      <td>17</td>\n      <td>No</td>\n      <td>17</td>\n      <td>1</td>\n      <td>NaN</td>\n      <td>200.0</td>\n      <td>...</td>\n      <td>1</td>\n      <td>1</td>\n      <td>34</td>\n      <td>NaN</td>\n      <td>1.0</td>\n      <td>7.0</td>\n      <td>NaN</td>\n      <td>1</td>\n      <td>2.0</td>\n      <td>NaN</td>\n    </tr>\n    <tr>\n      <th>10339</th>\n      <td>NaN</td>\n      <td>2017-01-15 03:37:35.305</td>\n      <td>90000.0</td>\n      <td>NaN</td>\n      <td>8</td>\n      <td>No</td>\n      <td>3</td>\n      <td>1</td>\n      <td>NaN</td>\n      <td>80.0</td>\n      <td>...</td>\n      <td>1</td>\n      <td>1</td>\n      <td>36</td>\n      <td>NaN</td>\n      <td>3.0</td>\n      <td>8.0</td>\n      <td>NaN</td>\n      <td>1</td>\n      <td>3.0</td>\n      <td>NaN</td>\n    </tr>\n    <tr>\n      <th>10340</th>\n      <td>NaN</td>\n      <td>2017-01-15 03:37:59.149</td>\n      <td>23000.0</td>\n      <td>NaN</td>\n      <td>4</td>\n      <td>No</td>\n      <td>9</td>\n      <td>3</td>\n      <td>NaN</td>\n      <td>10.0</td>\n      <td>...</td>\n      <td>1</td>\n      <td>1</td>\n      <td>30</td>\n      <td>NaN</td>\n      <td>2.0</td>\n      <td>8.0</td>\n      <td>NaN</td>\n      <td>1</td>\n      <td>2.0</td>\n      <td>NaN</td>\n    </tr>\n  </tbody>\n</table>\n<p>10341 rows × 28 columns</p>\n</div>"
     },
     "metadata": {},
     "execution_count": 205
    }
   ],
   "source": [
    "table_sondage_item = table_sondage_item.replace(\"Not Asked\",np.nan)\n",
    "table_sondage_item"
   ]
  },
  {
   "cell_type": "code",
   "execution_count": 212,
   "metadata": {},
   "outputs": [
    {
     "output_type": "execute_result",
     "data": {
      "text/plain": [
       "0        NaN\n",
       "1        NaN\n",
       "2        NaN\n",
       "3        NaN\n",
       "4        NaN\n",
       "        ... \n",
       "10336    NaN\n",
       "10337    1.0\n",
       "10338    0.0\n",
       "10339    1.0\n",
       "10340    1.0\n",
       "Name: eduction_computer, Length: 10341, dtype: float64"
      ]
     },
     "metadata": {},
     "execution_count": 212
    }
   ],
   "source": [
    "table_sondage_item[\"manage_staff\"] = table_sondage_item[\"manage_staff\"].replace(\"Yes\",1)\n",
    "table_sondage_item[\"manage_staff\"] = table_sondage_item[\"manage_staff\"].replace(\"No\",0)\n",
    "\n",
    "table_sondage_item[\"eduction_computer\"]  = table_sondage_item[\"eduction_computer\"].replace(\"Yes\",int(1))\n",
    "table_sondage_item[\"eduction_computer\"] = table_sondage_item[\"eduction_computer\"].replace(\"No\",int(0))\n",
    "table_sondage_item[\"eduction_computer\"]\n",
    "\n"
   ]
  },
  {
   "cell_type": "code",
   "execution_count": 216,
   "metadata": {},
   "outputs": [
    {
     "output_type": "execute_result",
     "data": {
      "text/plain": [
       "0        None\n",
       "1        None\n",
       "2           1\n",
       "3        None\n",
       "4        None\n",
       "         ... \n",
       "10336       1\n",
       "10337       5\n",
       "10338       1\n",
       "10339       1\n",
       "10340       3\n",
       "Name: other_people, Length: 10341, dtype: object"
      ]
     },
     "metadata": {},
     "execution_count": 216
    }
   ],
   "source": [
    "table_sondage_item[\"other_people\"]  = table_sondage_item[\"other_people\"].replace(0,\"None\")\n",
    "table_sondage_item[\"other_people\"]"
   ]
  },
  {
   "cell_type": "code",
   "execution_count": 229,
   "metadata": {},
   "outputs": [
    {
     "output_type": "execute_result",
     "data": {
      "text/plain": [
       "0        NaN\n",
       "1        NaN\n",
       "2        NaN\n",
       "3        NaN\n",
       "4        NaN\n",
       "        ... \n",
       "10336    0.0\n",
       "10337    1.0\n",
       "10338    1.0\n",
       "10339    5.0\n",
       "10340    0.0\n",
       "Name: telecommute, Length: 10341, dtype: float64"
      ]
     },
     "metadata": {},
     "execution_count": 229
    }
   ],
   "source": [
    "table_sondage_item[\"telecommute\"] = table_sondage_item[\"telecommute\"].replace(\"None, or less than 1 day per week\",0)\n",
    "table_sondage_item[\"telecommute\"] = table_sondage_item[\"telecommute\"].replace(\"5 or more\",5)\n",
    "table_sondage_item[\"telecommute\"]"
   ]
  },
  {
   "cell_type": "code",
   "execution_count": 232,
   "metadata": {},
   "outputs": [],
   "source": [
    "table_sondage_item.to_sql('sondage_item', if_exists='append', con=survey, index=False)"
   ]
  },
  {
   "cell_type": "code",
   "execution_count": 233,
   "metadata": {},
   "outputs": [
    {
     "output_type": "execute_result",
     "data": {
      "text/plain": [
       "       sgi_id           timestamp  salary_usd postal_code  years_with_db  \\\n",
       "0       44938 2020-12-10 08:22:43     65000.0        None              4   \n",
       "1       44939 2020-12-10 08:23:22    145000.0       76063             15   \n",
       "2       44940 2020-12-10 08:23:38    105000.0       43240             12   \n",
       "3       44941 2020-12-10 08:23:48     46482.0        None             10   \n",
       "4       44942 2020-12-10 08:24:04     98800.0         468              5   \n",
       "...       ...                 ...         ...         ...            ...   \n",
       "10336   55274 2017-01-14 15:50:24     36549.0        None              3   \n",
       "10337   55275 2017-01-15 01:01:21     65000.0        None              7   \n",
       "10338   55276 2017-01-15 03:25:47     85000.0        None             17   \n",
       "10339   55277 2017-01-15 03:37:35     90000.0        None              8   \n",
       "10340   55278 2017-01-15 03:37:59     23000.0        None              4   \n",
       "\n",
       "       manage_staff  years_with_job other_people company_employee  \\\n",
       "0                 1               4         None                2   \n",
       "1                 0              25         None               74   \n",
       "2                 1               6            1              500   \n",
       "3                 0               5         None               35   \n",
       "4                 0               5         None               50   \n",
       "...             ...             ...          ...              ...   \n",
       "10336             0               1            1             None   \n",
       "10337             1               3            5             None   \n",
       "10338             0              17            1             None   \n",
       "10339             0               3            1             None   \n",
       "10340             0               9            3             None   \n",
       "\n",
       "       database_servers  ...  primary_db_id  emp_id  job_id mcp_id edu_id  \\\n",
       "0                   NaN  ...              1       1      24    1.0    NaN   \n",
       "1                   NaN  ...              1       1      25    2.0    NaN   \n",
       "2                   NaN  ...              1       1      26    3.0    NaN   \n",
       "3                   NaN  ...              1       1      25    4.0    NaN   \n",
       "4                   NaN  ...              1       1      24    1.0    NaN   \n",
       "...                 ...  ...            ...     ...     ...    ...    ...   \n",
       "10336              42.0  ...              1       1      36    NaN    2.0   \n",
       "10337              40.0  ...              1       1      36    NaN    1.0   \n",
       "10338             200.0  ...              1       1      34    NaN    1.0   \n",
       "10339              80.0  ...              1       1      36    NaN    3.0   \n",
       "10340              10.0  ...              1       1      30    NaN    2.0   \n",
       "\n",
       "      cert_id  pop_id  sec_id  look_id  cap_id  \n",
       "0         NaN     1.0       1      NaN     1.0  \n",
       "1         NaN     2.0       1      NaN     1.0  \n",
       "2         NaN     3.0       1      NaN     1.0  \n",
       "3         NaN     3.0       2      NaN     1.0  \n",
       "4         NaN     4.0       1      NaN     1.0  \n",
       "...       ...     ...     ...      ...     ...  \n",
       "10336     7.0     NaN       1      1.0     NaN  \n",
       "10337     7.0     NaN       1      2.0     NaN  \n",
       "10338     7.0     NaN       1      2.0     NaN  \n",
       "10339     8.0     NaN       1      3.0     NaN  \n",
       "10340     8.0     NaN       1      2.0     NaN  \n",
       "\n",
       "[10341 rows x 28 columns]"
      ],
      "text/html": "<div>\n<style scoped>\n    .dataframe tbody tr th:only-of-type {\n        vertical-align: middle;\n    }\n\n    .dataframe tbody tr th {\n        vertical-align: top;\n    }\n\n    .dataframe thead th {\n        text-align: right;\n    }\n</style>\n<table border=\"1\" class=\"dataframe\">\n  <thead>\n    <tr style=\"text-align: right;\">\n      <th></th>\n      <th>sgi_id</th>\n      <th>timestamp</th>\n      <th>salary_usd</th>\n      <th>postal_code</th>\n      <th>years_with_db</th>\n      <th>manage_staff</th>\n      <th>years_with_job</th>\n      <th>other_people</th>\n      <th>company_employee</th>\n      <th>database_servers</th>\n      <th>...</th>\n      <th>primary_db_id</th>\n      <th>emp_id</th>\n      <th>job_id</th>\n      <th>mcp_id</th>\n      <th>edu_id</th>\n      <th>cert_id</th>\n      <th>pop_id</th>\n      <th>sec_id</th>\n      <th>look_id</th>\n      <th>cap_id</th>\n    </tr>\n  </thead>\n  <tbody>\n    <tr>\n      <th>0</th>\n      <td>44938</td>\n      <td>2020-12-10 08:22:43</td>\n      <td>65000.0</td>\n      <td>None</td>\n      <td>4</td>\n      <td>1</td>\n      <td>4</td>\n      <td>None</td>\n      <td>2</td>\n      <td>NaN</td>\n      <td>...</td>\n      <td>1</td>\n      <td>1</td>\n      <td>24</td>\n      <td>1.0</td>\n      <td>NaN</td>\n      <td>NaN</td>\n      <td>1.0</td>\n      <td>1</td>\n      <td>NaN</td>\n      <td>1.0</td>\n    </tr>\n    <tr>\n      <th>1</th>\n      <td>44939</td>\n      <td>2020-12-10 08:23:22</td>\n      <td>145000.0</td>\n      <td>76063</td>\n      <td>15</td>\n      <td>0</td>\n      <td>25</td>\n      <td>None</td>\n      <td>74</td>\n      <td>NaN</td>\n      <td>...</td>\n      <td>1</td>\n      <td>1</td>\n      <td>25</td>\n      <td>2.0</td>\n      <td>NaN</td>\n      <td>NaN</td>\n      <td>2.0</td>\n      <td>1</td>\n      <td>NaN</td>\n      <td>1.0</td>\n    </tr>\n    <tr>\n      <th>2</th>\n      <td>44940</td>\n      <td>2020-12-10 08:23:38</td>\n      <td>105000.0</td>\n      <td>43240</td>\n      <td>12</td>\n      <td>1</td>\n      <td>6</td>\n      <td>1</td>\n      <td>500</td>\n      <td>NaN</td>\n      <td>...</td>\n      <td>1</td>\n      <td>1</td>\n      <td>26</td>\n      <td>3.0</td>\n      <td>NaN</td>\n      <td>NaN</td>\n      <td>3.0</td>\n      <td>1</td>\n      <td>NaN</td>\n      <td>1.0</td>\n    </tr>\n    <tr>\n      <th>3</th>\n      <td>44941</td>\n      <td>2020-12-10 08:23:48</td>\n      <td>46482.0</td>\n      <td>None</td>\n      <td>10</td>\n      <td>0</td>\n      <td>5</td>\n      <td>None</td>\n      <td>35</td>\n      <td>NaN</td>\n      <td>...</td>\n      <td>1</td>\n      <td>1</td>\n      <td>25</td>\n      <td>4.0</td>\n      <td>NaN</td>\n      <td>NaN</td>\n      <td>3.0</td>\n      <td>2</td>\n      <td>NaN</td>\n      <td>1.0</td>\n    </tr>\n    <tr>\n      <th>4</th>\n      <td>44942</td>\n      <td>2020-12-10 08:24:04</td>\n      <td>98800.0</td>\n      <td>468</td>\n      <td>5</td>\n      <td>0</td>\n      <td>5</td>\n      <td>None</td>\n      <td>50</td>\n      <td>NaN</td>\n      <td>...</td>\n      <td>1</td>\n      <td>1</td>\n      <td>24</td>\n      <td>1.0</td>\n      <td>NaN</td>\n      <td>NaN</td>\n      <td>4.0</td>\n      <td>1</td>\n      <td>NaN</td>\n      <td>1.0</td>\n    </tr>\n    <tr>\n      <th>...</th>\n      <td>...</td>\n      <td>...</td>\n      <td>...</td>\n      <td>...</td>\n      <td>...</td>\n      <td>...</td>\n      <td>...</td>\n      <td>...</td>\n      <td>...</td>\n      <td>...</td>\n      <td>...</td>\n      <td>...</td>\n      <td>...</td>\n      <td>...</td>\n      <td>...</td>\n      <td>...</td>\n      <td>...</td>\n      <td>...</td>\n      <td>...</td>\n      <td>...</td>\n      <td>...</td>\n    </tr>\n    <tr>\n      <th>10336</th>\n      <td>55274</td>\n      <td>2017-01-14 15:50:24</td>\n      <td>36549.0</td>\n      <td>None</td>\n      <td>3</td>\n      <td>0</td>\n      <td>1</td>\n      <td>1</td>\n      <td>None</td>\n      <td>42.0</td>\n      <td>...</td>\n      <td>1</td>\n      <td>1</td>\n      <td>36</td>\n      <td>NaN</td>\n      <td>2.0</td>\n      <td>7.0</td>\n      <td>NaN</td>\n      <td>1</td>\n      <td>1.0</td>\n      <td>NaN</td>\n    </tr>\n    <tr>\n      <th>10337</th>\n      <td>55275</td>\n      <td>2017-01-15 01:01:21</td>\n      <td>65000.0</td>\n      <td>None</td>\n      <td>7</td>\n      <td>1</td>\n      <td>3</td>\n      <td>5</td>\n      <td>None</td>\n      <td>40.0</td>\n      <td>...</td>\n      <td>1</td>\n      <td>1</td>\n      <td>36</td>\n      <td>NaN</td>\n      <td>1.0</td>\n      <td>7.0</td>\n      <td>NaN</td>\n      <td>1</td>\n      <td>2.0</td>\n      <td>NaN</td>\n    </tr>\n    <tr>\n      <th>10338</th>\n      <td>55276</td>\n      <td>2017-01-15 03:25:47</td>\n      <td>85000.0</td>\n      <td>None</td>\n      <td>17</td>\n      <td>0</td>\n      <td>17</td>\n      <td>1</td>\n      <td>None</td>\n      <td>200.0</td>\n      <td>...</td>\n      <td>1</td>\n      <td>1</td>\n      <td>34</td>\n      <td>NaN</td>\n      <td>1.0</td>\n      <td>7.0</td>\n      <td>NaN</td>\n      <td>1</td>\n      <td>2.0</td>\n      <td>NaN</td>\n    </tr>\n    <tr>\n      <th>10339</th>\n      <td>55277</td>\n      <td>2017-01-15 03:37:35</td>\n      <td>90000.0</td>\n      <td>None</td>\n      <td>8</td>\n      <td>0</td>\n      <td>3</td>\n      <td>1</td>\n      <td>None</td>\n      <td>80.0</td>\n      <td>...</td>\n      <td>1</td>\n      <td>1</td>\n      <td>36</td>\n      <td>NaN</td>\n      <td>3.0</td>\n      <td>8.0</td>\n      <td>NaN</td>\n      <td>1</td>\n      <td>3.0</td>\n      <td>NaN</td>\n    </tr>\n    <tr>\n      <th>10340</th>\n      <td>55278</td>\n      <td>2017-01-15 03:37:59</td>\n      <td>23000.0</td>\n      <td>None</td>\n      <td>4</td>\n      <td>0</td>\n      <td>9</td>\n      <td>3</td>\n      <td>None</td>\n      <td>10.0</td>\n      <td>...</td>\n      <td>1</td>\n      <td>1</td>\n      <td>30</td>\n      <td>NaN</td>\n      <td>2.0</td>\n      <td>8.0</td>\n      <td>NaN</td>\n      <td>1</td>\n      <td>2.0</td>\n      <td>NaN</td>\n    </tr>\n  </tbody>\n</table>\n<p>10341 rows × 28 columns</p>\n</div>"
     },
     "metadata": {},
     "execution_count": 233
    }
   ],
   "source": [
    "pd.read_sql_query(\"SELECT * FROM sondage_item\", survey)"
   ]
  },
  {
   "cell_type": "code",
   "execution_count": 2,
   "metadata": {},
   "outputs": [
    {
     "output_type": "execute_result",
     "data": {
      "text/plain": [
       "       Survey Year               Timestamp  SalaryUSD         Country  \\\n",
       "0             2021 2020-12-10 08:22:42.696    65000.0          Sweden   \n",
       "1             2021 2020-12-10 08:23:22.242   145000.0   United States   \n",
       "2             2021 2020-12-10 08:23:37.909   105000.0   United States   \n",
       "3             2021 2020-12-10 08:23:48.152    46482.0  United Kingdom   \n",
       "4             2021 2020-12-10 08:24:03.600    98800.0   United States   \n",
       "...            ...                     ...        ...             ...   \n",
       "10336         2017 2017-01-14 15:50:23.936    36549.0  United Kingdom   \n",
       "10337         2017 2017-01-15 01:01:21.212    65000.0    Saudi Arabia   \n",
       "10338         2017 2017-01-15 03:25:47.422    85000.0     Netherlands   \n",
       "10339         2017 2017-01-15 03:37:35.305    90000.0   United States   \n",
       "10340         2017 2017-01-15 03:37:59.149    23000.0        Portugal   \n",
       "\n",
       "      PostalCode       PrimaryDatabase  YearsWithThisDatabase  \\\n",
       "0            NaN  Microsoft SQL Server                      4   \n",
       "1          76063  Microsoft SQL Server                     15   \n",
       "2          43240  Microsoft SQL Server                     12   \n",
       "3            NaN  Microsoft SQL Server                     10   \n",
       "4            468  Microsoft SQL Server                      5   \n",
       "...          ...                   ...                    ...   \n",
       "10336  Not Asked  Microsoft SQL Server                      3   \n",
       "10337  Not Asked  Microsoft SQL Server                      7   \n",
       "10338  Not Asked  Microsoft SQL Server                     17   \n",
       "10339  Not Asked  Microsoft SQL Server                      8   \n",
       "10340  Not Asked  Microsoft SQL Server                      4   \n",
       "\n",
       "                                        OtherDatabases    EmploymentStatus  \\\n",
       "0                                 Microsoft SQL Server  Full time employee   \n",
       "1                            Azure SQL DB (any flavor)  Full time employee   \n",
       "2                PostgreSQL, Azure SQL DB (any flavor)  Full time employee   \n",
       "3                            Azure SQL DB (any flavor)  Full time employee   \n",
       "4                                                  DB2  Full time employee   \n",
       "...                                                ...                 ...   \n",
       "10336                                              NaN  Full time employee   \n",
       "10337  Oracle, MySQL/MariaDB, Microsoft Access, SQLite  Full time employee   \n",
       "10338                                           Oracle  Full time employee   \n",
       "10339                                    MySQL/MariaDB  Full time employee   \n",
       "10340                PostgreSQL, DB2, Microsoft Access  Full time employee   \n",
       "\n",
       "                                                JobTitle  ...  \\\n",
       "0      Developer: Business Intelligence (SSRS, PowerB...  ...   \n",
       "1      DBA (Production Focus - build & troubleshoot s...  ...   \n",
       "2      DBA (General - splits time evenly between writ...  ...   \n",
       "3      DBA (Production Focus - build & troubleshoot s...  ...   \n",
       "4      Developer: Business Intelligence (SSRS, PowerB...  ...   \n",
       "...                                                  ...  ...   \n",
       "10336                                                DBA  ...   \n",
       "10337                                                DBA  ...   \n",
       "10338                                              Other  ...   \n",
       "10339                                                DBA  ...   \n",
       "10340                                          Architect  ...   \n",
       "\n",
       "      NewestVersionInProduction  OldestVersionInProduction  \\\n",
       "0               SQL Server 2016            SQL Server 2016   \n",
       "1               SQL Server 2019            SQL Server 2014   \n",
       "2               SQL Server 2017          SQL Server 2008R2   \n",
       "3               SQL Server 2019            SQL Server 2012   \n",
       "4               SQL Server 2019            SQL Server 2012   \n",
       "...                         ...                        ...   \n",
       "10336                 Not Asked                  Not Asked   \n",
       "10337                 Not Asked                  Not Asked   \n",
       "10338                 Not Asked                  Not Asked   \n",
       "10339                 Not Asked                  Not Asked   \n",
       "10340                 Not Asked                  Not Asked   \n",
       "\n",
       "      PopulationOfLargestCityWithin20Miles  \\\n",
       "0                         <= 20,000 (town)   \n",
       "1                         1M+ (metropolis)   \n",
       "2                     300K-1M (large city)   \n",
       "3                     300K-1M (large city)   \n",
       "4                         100K-299K (city)   \n",
       "...                                    ...   \n",
       "10336                            Not Asked   \n",
       "10337                            Not Asked   \n",
       "10338                            Not Asked   \n",
       "10339                            Not Asked   \n",
       "10340                            Not Asked   \n",
       "\n",
       "                            EmploymentSector  \\\n",
       "0                           Private business   \n",
       "1                           Private business   \n",
       "2                           Private business   \n",
       "3      Education (K-12, college, university)   \n",
       "4                           Private business   \n",
       "...                                      ...   \n",
       "10336                       Private business   \n",
       "10337                       Private business   \n",
       "10338                       Private business   \n",
       "10339                       Private business   \n",
       "10340                       Private business   \n",
       "\n",
       "                           LookingForAnotherJob  \\\n",
       "0                                     Not Asked   \n",
       "1                                     Not Asked   \n",
       "2                                     Not Asked   \n",
       "3                                     Not Asked   \n",
       "4                                     Not Asked   \n",
       "...                                         ...   \n",
       "10336                                        No   \n",
       "10337    Yes, but only passively (just curious)   \n",
       "10338    Yes, but only passively (just curious)   \n",
       "10339  Yes, actively looking for something else   \n",
       "10340    Yes, but only passively (just curious)   \n",
       "\n",
       "                          CareerPlansThisYear     Gender OtherJobDuties  \\\n",
       "0      Stay with the same employer, same role       Male      Not Asked   \n",
       "1      Stay with the same employer, same role       Male      Not Asked   \n",
       "2      Stay with the same employer, same role       Male      Not Asked   \n",
       "3      Stay with the same employer, same role       Male      Not Asked   \n",
       "4      Stay with the same employer, same role       Male      Not Asked   \n",
       "...                                       ...        ...            ...   \n",
       "10336                               Not Asked  Not Asked      Not Asked   \n",
       "10337                               Not Asked  Not Asked      Not Asked   \n",
       "10338                               Not Asked  Not Asked      Not Asked   \n",
       "10339                               Not Asked  Not Asked      Not Asked   \n",
       "10340                               Not Asked  Not Asked      Not Asked   \n",
       "\n",
       "      KindsOfTasksPerformed Counter  \n",
       "0                 Not Asked       1  \n",
       "1                 Not Asked       1  \n",
       "2                 Not Asked       1  \n",
       "3                 Not Asked       1  \n",
       "4                 Not Asked       1  \n",
       "...                     ...     ...  \n",
       "10336             Not Asked       1  \n",
       "10337             Not Asked       1  \n",
       "10338             Not Asked       1  \n",
       "10339             Not Asked       1  \n",
       "10340             Not Asked       1  \n",
       "\n",
       "[10341 rows x 31 columns]"
      ],
      "text/html": "<div>\n<style scoped>\n    .dataframe tbody tr th:only-of-type {\n        vertical-align: middle;\n    }\n\n    .dataframe tbody tr th {\n        vertical-align: top;\n    }\n\n    .dataframe thead th {\n        text-align: right;\n    }\n</style>\n<table border=\"1\" class=\"dataframe\">\n  <thead>\n    <tr style=\"text-align: right;\">\n      <th></th>\n      <th>Survey Year</th>\n      <th>Timestamp</th>\n      <th>SalaryUSD</th>\n      <th>Country</th>\n      <th>PostalCode</th>\n      <th>PrimaryDatabase</th>\n      <th>YearsWithThisDatabase</th>\n      <th>OtherDatabases</th>\n      <th>EmploymentStatus</th>\n      <th>JobTitle</th>\n      <th>...</th>\n      <th>NewestVersionInProduction</th>\n      <th>OldestVersionInProduction</th>\n      <th>PopulationOfLargestCityWithin20Miles</th>\n      <th>EmploymentSector</th>\n      <th>LookingForAnotherJob</th>\n      <th>CareerPlansThisYear</th>\n      <th>Gender</th>\n      <th>OtherJobDuties</th>\n      <th>KindsOfTasksPerformed</th>\n      <th>Counter</th>\n    </tr>\n  </thead>\n  <tbody>\n    <tr>\n      <th>0</th>\n      <td>2021</td>\n      <td>2020-12-10 08:22:42.696</td>\n      <td>65000.0</td>\n      <td>Sweden</td>\n      <td>NaN</td>\n      <td>Microsoft SQL Server</td>\n      <td>4</td>\n      <td>Microsoft SQL Server</td>\n      <td>Full time employee</td>\n      <td>Developer: Business Intelligence (SSRS, PowerB...</td>\n      <td>...</td>\n      <td>SQL Server 2016</td>\n      <td>SQL Server 2016</td>\n      <td>&lt;= 20,000 (town)</td>\n      <td>Private business</td>\n      <td>Not Asked</td>\n      <td>Stay with the same employer, same role</td>\n      <td>Male</td>\n      <td>Not Asked</td>\n      <td>Not Asked</td>\n      <td>1</td>\n    </tr>\n    <tr>\n      <th>1</th>\n      <td>2021</td>\n      <td>2020-12-10 08:23:22.242</td>\n      <td>145000.0</td>\n      <td>United States</td>\n      <td>76063</td>\n      <td>Microsoft SQL Server</td>\n      <td>15</td>\n      <td>Azure SQL DB (any flavor)</td>\n      <td>Full time employee</td>\n      <td>DBA (Production Focus - build &amp; troubleshoot s...</td>\n      <td>...</td>\n      <td>SQL Server 2019</td>\n      <td>SQL Server 2014</td>\n      <td>1M+ (metropolis)</td>\n      <td>Private business</td>\n      <td>Not Asked</td>\n      <td>Stay with the same employer, same role</td>\n      <td>Male</td>\n      <td>Not Asked</td>\n      <td>Not Asked</td>\n      <td>1</td>\n    </tr>\n    <tr>\n      <th>2</th>\n      <td>2021</td>\n      <td>2020-12-10 08:23:37.909</td>\n      <td>105000.0</td>\n      <td>United States</td>\n      <td>43240</td>\n      <td>Microsoft SQL Server</td>\n      <td>12</td>\n      <td>PostgreSQL, Azure SQL DB (any flavor)</td>\n      <td>Full time employee</td>\n      <td>DBA (General - splits time evenly between writ...</td>\n      <td>...</td>\n      <td>SQL Server 2017</td>\n      <td>SQL Server 2008R2</td>\n      <td>300K-1M (large city)</td>\n      <td>Private business</td>\n      <td>Not Asked</td>\n      <td>Stay with the same employer, same role</td>\n      <td>Male</td>\n      <td>Not Asked</td>\n      <td>Not Asked</td>\n      <td>1</td>\n    </tr>\n    <tr>\n      <th>3</th>\n      <td>2021</td>\n      <td>2020-12-10 08:23:48.152</td>\n      <td>46482.0</td>\n      <td>United Kingdom</td>\n      <td>NaN</td>\n      <td>Microsoft SQL Server</td>\n      <td>10</td>\n      <td>Azure SQL DB (any flavor)</td>\n      <td>Full time employee</td>\n      <td>DBA (Production Focus - build &amp; troubleshoot s...</td>\n      <td>...</td>\n      <td>SQL Server 2019</td>\n      <td>SQL Server 2012</td>\n      <td>300K-1M (large city)</td>\n      <td>Education (K-12, college, university)</td>\n      <td>Not Asked</td>\n      <td>Stay with the same employer, same role</td>\n      <td>Male</td>\n      <td>Not Asked</td>\n      <td>Not Asked</td>\n      <td>1</td>\n    </tr>\n    <tr>\n      <th>4</th>\n      <td>2021</td>\n      <td>2020-12-10 08:24:03.600</td>\n      <td>98800.0</td>\n      <td>United States</td>\n      <td>468</td>\n      <td>Microsoft SQL Server</td>\n      <td>5</td>\n      <td>DB2</td>\n      <td>Full time employee</td>\n      <td>Developer: Business Intelligence (SSRS, PowerB...</td>\n      <td>...</td>\n      <td>SQL Server 2019</td>\n      <td>SQL Server 2012</td>\n      <td>100K-299K (city)</td>\n      <td>Private business</td>\n      <td>Not Asked</td>\n      <td>Stay with the same employer, same role</td>\n      <td>Male</td>\n      <td>Not Asked</td>\n      <td>Not Asked</td>\n      <td>1</td>\n    </tr>\n    <tr>\n      <th>...</th>\n      <td>...</td>\n      <td>...</td>\n      <td>...</td>\n      <td>...</td>\n      <td>...</td>\n      <td>...</td>\n      <td>...</td>\n      <td>...</td>\n      <td>...</td>\n      <td>...</td>\n      <td>...</td>\n      <td>...</td>\n      <td>...</td>\n      <td>...</td>\n      <td>...</td>\n      <td>...</td>\n      <td>...</td>\n      <td>...</td>\n      <td>...</td>\n      <td>...</td>\n      <td>...</td>\n    </tr>\n    <tr>\n      <th>10336</th>\n      <td>2017</td>\n      <td>2017-01-14 15:50:23.936</td>\n      <td>36549.0</td>\n      <td>United Kingdom</td>\n      <td>Not Asked</td>\n      <td>Microsoft SQL Server</td>\n      <td>3</td>\n      <td>NaN</td>\n      <td>Full time employee</td>\n      <td>DBA</td>\n      <td>...</td>\n      <td>Not Asked</td>\n      <td>Not Asked</td>\n      <td>Not Asked</td>\n      <td>Private business</td>\n      <td>No</td>\n      <td>Not Asked</td>\n      <td>Not Asked</td>\n      <td>Not Asked</td>\n      <td>Not Asked</td>\n      <td>1</td>\n    </tr>\n    <tr>\n      <th>10337</th>\n      <td>2017</td>\n      <td>2017-01-15 01:01:21.212</td>\n      <td>65000.0</td>\n      <td>Saudi Arabia</td>\n      <td>Not Asked</td>\n      <td>Microsoft SQL Server</td>\n      <td>7</td>\n      <td>Oracle, MySQL/MariaDB, Microsoft Access, SQLite</td>\n      <td>Full time employee</td>\n      <td>DBA</td>\n      <td>...</td>\n      <td>Not Asked</td>\n      <td>Not Asked</td>\n      <td>Not Asked</td>\n      <td>Private business</td>\n      <td>Yes, but only passively (just curious)</td>\n      <td>Not Asked</td>\n      <td>Not Asked</td>\n      <td>Not Asked</td>\n      <td>Not Asked</td>\n      <td>1</td>\n    </tr>\n    <tr>\n      <th>10338</th>\n      <td>2017</td>\n      <td>2017-01-15 03:25:47.422</td>\n      <td>85000.0</td>\n      <td>Netherlands</td>\n      <td>Not Asked</td>\n      <td>Microsoft SQL Server</td>\n      <td>17</td>\n      <td>Oracle</td>\n      <td>Full time employee</td>\n      <td>Other</td>\n      <td>...</td>\n      <td>Not Asked</td>\n      <td>Not Asked</td>\n      <td>Not Asked</td>\n      <td>Private business</td>\n      <td>Yes, but only passively (just curious)</td>\n      <td>Not Asked</td>\n      <td>Not Asked</td>\n      <td>Not Asked</td>\n      <td>Not Asked</td>\n      <td>1</td>\n    </tr>\n    <tr>\n      <th>10339</th>\n      <td>2017</td>\n      <td>2017-01-15 03:37:35.305</td>\n      <td>90000.0</td>\n      <td>United States</td>\n      <td>Not Asked</td>\n      <td>Microsoft SQL Server</td>\n      <td>8</td>\n      <td>MySQL/MariaDB</td>\n      <td>Full time employee</td>\n      <td>DBA</td>\n      <td>...</td>\n      <td>Not Asked</td>\n      <td>Not Asked</td>\n      <td>Not Asked</td>\n      <td>Private business</td>\n      <td>Yes, actively looking for something else</td>\n      <td>Not Asked</td>\n      <td>Not Asked</td>\n      <td>Not Asked</td>\n      <td>Not Asked</td>\n      <td>1</td>\n    </tr>\n    <tr>\n      <th>10340</th>\n      <td>2017</td>\n      <td>2017-01-15 03:37:59.149</td>\n      <td>23000.0</td>\n      <td>Portugal</td>\n      <td>Not Asked</td>\n      <td>Microsoft SQL Server</td>\n      <td>4</td>\n      <td>PostgreSQL, DB2, Microsoft Access</td>\n      <td>Full time employee</td>\n      <td>Architect</td>\n      <td>...</td>\n      <td>Not Asked</td>\n      <td>Not Asked</td>\n      <td>Not Asked</td>\n      <td>Private business</td>\n      <td>Yes, but only passively (just curious)</td>\n      <td>Not Asked</td>\n      <td>Not Asked</td>\n      <td>Not Asked</td>\n      <td>Not Asked</td>\n      <td>1</td>\n    </tr>\n  </tbody>\n</table>\n<p>10341 rows × 31 columns</p>\n</div>"
     },
     "metadata": {},
     "execution_count": 2
    }
   ],
   "source": [
    "data"
   ]
  },
  {
   "source": [
    "# Tables d'associations\n",
    "\n",
    "Kinds of tasks performed\n",
    "\n",
    "Other duties\n",
    "\n",
    "Other databases\n",
    "\n",
    "## 1. Taks performed"
   ],
   "cell_type": "markdown",
   "metadata": {}
  },
  {
   "cell_type": "code",
   "execution_count": 2,
   "metadata": {},
   "outputs": [
    {
     "output_type": "execute_result",
     "data": {
      "text/plain": [
       "'Build scripts & automation tools, Manual tasks, On-call 24/7/365'"
      ]
     },
     "metadata": {},
     "execution_count": 2
    }
   ],
   "source": [
    "data[\"KindsOfTasksPerformed\"][4323]"
   ]
  },
  {
   "cell_type": "code",
   "execution_count": 3,
   "metadata": {},
   "outputs": [],
   "source": [
    "data = pd.read_excel(\"jeux_donnees/Data_Professional_Salary_Survey_Responses_1.xlsx\")\n",
    "data[\"HowManyCompanies\"]=data[\"HowManyCompanies\"].apply(str)\n",
    "\n",
    "sondage_item = pd.read_sql_query(\"SELECT * FROM sondage_item\", survey)\n",
    "task = pd.read_sql_query(\"SELECT * FROM task\", survey)"
   ]
  },
  {
   "cell_type": "code",
   "execution_count": 4,
   "metadata": {},
   "outputs": [
    {
     "output_type": "execute_result",
     "data": {
      "text/plain": [
       "   tas_id                          tas_name\n",
       "0       1                      Manual tasks\n",
       "1       2             Meetings & management\n",
       "2       3                          Projects\n",
       "3       4  Build scripts & automation tools\n",
       "4       5                  On-call 24/7/365\n",
       "5       6                               R&D\n",
       "6       7     On-call as part of a rotation\n",
       "7       8                 Training/teaching"
      ],
      "text/html": "<div>\n<style scoped>\n    .dataframe tbody tr th:only-of-type {\n        vertical-align: middle;\n    }\n\n    .dataframe tbody tr th {\n        vertical-align: top;\n    }\n\n    .dataframe thead th {\n        text-align: right;\n    }\n</style>\n<table border=\"1\" class=\"dataframe\">\n  <thead>\n    <tr style=\"text-align: right;\">\n      <th></th>\n      <th>tas_id</th>\n      <th>tas_name</th>\n    </tr>\n  </thead>\n  <tbody>\n    <tr>\n      <th>0</th>\n      <td>1</td>\n      <td>Manual tasks</td>\n    </tr>\n    <tr>\n      <th>1</th>\n      <td>2</td>\n      <td>Meetings &amp; management</td>\n    </tr>\n    <tr>\n      <th>2</th>\n      <td>3</td>\n      <td>Projects</td>\n    </tr>\n    <tr>\n      <th>3</th>\n      <td>4</td>\n      <td>Build scripts &amp; automation tools</td>\n    </tr>\n    <tr>\n      <th>4</th>\n      <td>5</td>\n      <td>On-call 24/7/365</td>\n    </tr>\n    <tr>\n      <th>5</th>\n      <td>6</td>\n      <td>R&amp;D</td>\n    </tr>\n    <tr>\n      <th>6</th>\n      <td>7</td>\n      <td>On-call as part of a rotation</td>\n    </tr>\n    <tr>\n      <th>7</th>\n      <td>8</td>\n      <td>Training/teaching</td>\n    </tr>\n  </tbody>\n</table>\n</div>"
     },
     "metadata": {},
     "execution_count": 4
    }
   ],
   "source": [
    "task"
   ]
  },
  {
   "cell_type": "code",
   "execution_count": 6,
   "metadata": {
    "tags": []
   },
   "outputs": [],
   "source": [
    "pd.options.mode.chained_assignment = None\n",
    "\n",
    "def trouver_index(valeur, table):\n",
    "    return int(table[table.columns[0]][(table[table.columns[1]]==valeur)==True])\n",
    "\n",
    "l=[]\n",
    "for i in range(len(sondage_item)):\n",
    "    if type(data[\"KindsOfTasksPerformed\"][i]) != str :\n",
    "        l.append([\"Not Asked\"])\n",
    "    else :\n",
    "        l.append(data[\"KindsOfTasksPerformed\"][i].split(\", \")) \n",
    "\n",
    "liste_sgi_id = []\n",
    "liste_tasks = []\n",
    "\n",
    "for i in range(len(l)):\n",
    "    for j in l[i] :\n",
    "        liste_sgi_id.append(sondage_item[\"sgi_id\"][i])\n",
    "        liste_tasks.append(j)\n",
    "\n",
    "df_task_performed = pd.DataFrame()\n",
    "df_task_performed[\"sgi_id\"] = liste_sgi_id\n",
    "df_task_performed[\"tas_id\"] = liste_tasks\n",
    "\n",
    "for i in df_task_performed.index:\n",
    "    if df_task_performed[\"tas_id\"][i] == \"Not Asked\" :\n",
    "        df_task_performed = df_task_performed.drop([i])\n",
    "    else:\n",
    "        df_task_performed[\"tas_id\"][i] = trouver_index(df_task_performed[\"tas_id\"][i], task)\n"
   ]
  },
  {
   "cell_type": "code",
   "execution_count": 11,
   "metadata": {},
   "outputs": [
    {
     "output_type": "execute_result",
     "data": {
      "text/plain": [
       "       sgi_id tas_id\n",
       "3470    48408      1\n",
       "3471    48408      2\n",
       "3472    48408      3\n",
       "3473    48409      4\n",
       "3474    48409      1\n",
       "...       ...    ...\n",
       "19051   52379      3\n",
       "19052   52379      8\n",
       "19053   52380      2\n",
       "19054   52380      5\n",
       "19055   52380      3\n",
       "\n",
       "[15381 rows x 2 columns]"
      ],
      "text/html": "<div>\n<style scoped>\n    .dataframe tbody tr th:only-of-type {\n        vertical-align: middle;\n    }\n\n    .dataframe tbody tr th {\n        vertical-align: top;\n    }\n\n    .dataframe thead th {\n        text-align: right;\n    }\n</style>\n<table border=\"1\" class=\"dataframe\">\n  <thead>\n    <tr style=\"text-align: right;\">\n      <th></th>\n      <th>sgi_id</th>\n      <th>tas_id</th>\n    </tr>\n  </thead>\n  <tbody>\n    <tr>\n      <th>3470</th>\n      <td>48408</td>\n      <td>1</td>\n    </tr>\n    <tr>\n      <th>3471</th>\n      <td>48408</td>\n      <td>2</td>\n    </tr>\n    <tr>\n      <th>3472</th>\n      <td>48408</td>\n      <td>3</td>\n    </tr>\n    <tr>\n      <th>3473</th>\n      <td>48409</td>\n      <td>4</td>\n    </tr>\n    <tr>\n      <th>3474</th>\n      <td>48409</td>\n      <td>1</td>\n    </tr>\n    <tr>\n      <th>...</th>\n      <td>...</td>\n      <td>...</td>\n    </tr>\n    <tr>\n      <th>19051</th>\n      <td>52379</td>\n      <td>3</td>\n    </tr>\n    <tr>\n      <th>19052</th>\n      <td>52379</td>\n      <td>8</td>\n    </tr>\n    <tr>\n      <th>19053</th>\n      <td>52380</td>\n      <td>2</td>\n    </tr>\n    <tr>\n      <th>19054</th>\n      <td>52380</td>\n      <td>5</td>\n    </tr>\n    <tr>\n      <th>19055</th>\n      <td>52380</td>\n      <td>3</td>\n    </tr>\n  </tbody>\n</table>\n<p>15381 rows × 2 columns</p>\n</div>"
     },
     "metadata": {},
     "execution_count": 11
    }
   ],
   "source": [
    "df_task_performed"
   ]
  },
  {
   "cell_type": "code",
   "execution_count": 73,
   "metadata": {},
   "outputs": [],
   "source": [
    "df_task_performed.to_sql('task_performed', if_exists='append', con=survey, index=False)"
   ]
  },
  {
   "source": [
    "## 2. Other duties"
   ],
   "cell_type": "markdown",
   "metadata": {}
  },
  {
   "cell_type": "code",
   "execution_count": 5,
   "metadata": {},
   "outputs": [
    {
     "output_type": "execute_result",
     "data": {
      "text/plain": [
       "    job_id                                           job_name\n",
       "0       26  DBA (General - splits time evenly between writ...\n",
       "1       31  DBA (Development Focus - tunes queries, indexe...\n",
       "2       25  DBA (Production Focus - build & troubleshoot s...\n",
       "3       24  Developer: Business Intelligence (SSRS, PowerB...\n",
       "4       28                  Developer: App code (C#, JS, etc)\n",
       "5       38                   DevOps, Sr Software Engineer DBA\n",
       "6       37                        Principal database engineer\n",
       "7       42                              Systems Administrator\n",
       "8       46                               Analytics consultant\n",
       "9       40                                Database Specialist\n",
       "10      44                                 DBA / BI Developer\n",
       "11      29                                   Developer: T-SQL\n",
       "12      45                                     Sr Consultant \n",
       "13      35                                     Data Scientist\n",
       "14      39                                        Technician \n",
       "15      41                                         Consultant\n",
       "16      30                                          Architect\n",
       "17      32                                           Engineer\n",
       "18      33                                            Analyst\n",
       "19      27                                            Manager\n",
       "20      34                                              Other\n",
       "21      43                                              Sales\n",
       "22      36                                                DBA"
      ],
      "text/html": "<div>\n<style scoped>\n    .dataframe tbody tr th:only-of-type {\n        vertical-align: middle;\n    }\n\n    .dataframe tbody tr th {\n        vertical-align: top;\n    }\n\n    .dataframe thead th {\n        text-align: right;\n    }\n</style>\n<table border=\"1\" class=\"dataframe\">\n  <thead>\n    <tr style=\"text-align: right;\">\n      <th></th>\n      <th>job_id</th>\n      <th>job_name</th>\n    </tr>\n  </thead>\n  <tbody>\n    <tr>\n      <th>0</th>\n      <td>26</td>\n      <td>DBA (General - splits time evenly between writ...</td>\n    </tr>\n    <tr>\n      <th>1</th>\n      <td>31</td>\n      <td>DBA (Development Focus - tunes queries, indexe...</td>\n    </tr>\n    <tr>\n      <th>2</th>\n      <td>25</td>\n      <td>DBA (Production Focus - build &amp; troubleshoot s...</td>\n    </tr>\n    <tr>\n      <th>3</th>\n      <td>24</td>\n      <td>Developer: Business Intelligence (SSRS, PowerB...</td>\n    </tr>\n    <tr>\n      <th>4</th>\n      <td>28</td>\n      <td>Developer: App code (C#, JS, etc)</td>\n    </tr>\n    <tr>\n      <th>5</th>\n      <td>38</td>\n      <td>DevOps, Sr Software Engineer DBA</td>\n    </tr>\n    <tr>\n      <th>6</th>\n      <td>37</td>\n      <td>Principal database engineer</td>\n    </tr>\n    <tr>\n      <th>7</th>\n      <td>42</td>\n      <td>Systems Administrator</td>\n    </tr>\n    <tr>\n      <th>8</th>\n      <td>46</td>\n      <td>Analytics consultant</td>\n    </tr>\n    <tr>\n      <th>9</th>\n      <td>40</td>\n      <td>Database Specialist</td>\n    </tr>\n    <tr>\n      <th>10</th>\n      <td>44</td>\n      <td>DBA / BI Developer</td>\n    </tr>\n    <tr>\n      <th>11</th>\n      <td>29</td>\n      <td>Developer: T-SQL</td>\n    </tr>\n    <tr>\n      <th>12</th>\n      <td>45</td>\n      <td>Sr Consultant</td>\n    </tr>\n    <tr>\n      <th>13</th>\n      <td>35</td>\n      <td>Data Scientist</td>\n    </tr>\n    <tr>\n      <th>14</th>\n      <td>39</td>\n      <td>Technician</td>\n    </tr>\n    <tr>\n      <th>15</th>\n      <td>41</td>\n      <td>Consultant</td>\n    </tr>\n    <tr>\n      <th>16</th>\n      <td>30</td>\n      <td>Architect</td>\n    </tr>\n    <tr>\n      <th>17</th>\n      <td>32</td>\n      <td>Engineer</td>\n    </tr>\n    <tr>\n      <th>18</th>\n      <td>33</td>\n      <td>Analyst</td>\n    </tr>\n    <tr>\n      <th>19</th>\n      <td>27</td>\n      <td>Manager</td>\n    </tr>\n    <tr>\n      <th>20</th>\n      <td>34</td>\n      <td>Other</td>\n    </tr>\n    <tr>\n      <th>21</th>\n      <td>43</td>\n      <td>Sales</td>\n    </tr>\n    <tr>\n      <th>22</th>\n      <td>36</td>\n      <td>DBA</td>\n    </tr>\n  </tbody>\n</table>\n</div>"
     },
     "metadata": {},
     "execution_count": 5
    }
   ],
   "source": [
    "data = pd.read_excel(\"jeux_donnees/Data_Professional_Salary_Survey_Responses_1.xlsx\")\n",
    "data[\"HowManyCompanies\"]=data[\"HowManyCompanies\"].apply(str)\n",
    "\n",
    "sondage_item = pd.read_sql_query(\"SELECT * FROM sondage_item\", survey)\n",
    "job = pd.read_sql_query(\"SELECT * FROM job\", survey)\n",
    "\n",
    "job.index = job['job_name'].str.len()\n",
    "job = job.sort_index(ascending=False).reset_index(drop=True)\n",
    "job"
   ]
  },
  {
   "cell_type": "code",
   "execution_count": 6,
   "metadata": {},
   "outputs": [],
   "source": [
    "pd.options.mode.chained_assignment = None\n",
    "\n",
    "def trouver_index(valeur, table):\n",
    "    return int(table[table.columns[0]][(table[table.columns[1]]==valeur)==True])\n",
    "\n",
    "l=[]\n",
    "\n",
    "for i in range(len(sondage_item)):\n",
    "    if type(data[\"OtherJobDuties\"][i]) != str :\n",
    "        l.append([\"Not Asked\"])\n",
    "    else :\n",
    "        ljob=[]\n",
    "        for j in job[\"job_name\"]:\n",
    "            if j in data[\"OtherJobDuties\"][i]:\n",
    "                ljob.append(j)\n",
    "                data[\"OtherJobDuties\"][i] = data[\"OtherJobDuties\"][i].replace(j,\" \")\n",
    "        l.append(ljob)\n",
    "\n",
    "liste_sgi_id = []\n",
    "liste_jobs = []\n",
    "\n",
    "for i in range(len(l)):\n",
    "    for j in l[i] :\n",
    "        liste_sgi_id.append(sondage_item[\"sgi_id\"][i])\n",
    "        liste_jobs.append(j)\n",
    "\n",
    "df_other_duties = pd.DataFrame()\n",
    "df_other_duties[\"sgi_id\"] = liste_sgi_id\n",
    "df_other_duties[\"job_id\"] = liste_jobs\n",
    "\n",
    "for i in df_other_duties.index:\n",
    "    if df_other_duties[\"job_id\"][i] == \"Not Asked\" :\n",
    "        df_other_duties = df_other_duties.drop([i])\n",
    "    else:\n",
    "        df_other_duties[\"job_id\"][i] = trouver_index(df_other_duties[\"job_id\"][i], job)"
   ]
  },
  {
   "cell_type": "code",
   "execution_count": null,
   "metadata": {},
   "outputs": [],
   "source": []
  },
  {
   "cell_type": "code",
   "execution_count": 7,
   "metadata": {},
   "outputs": [],
   "source": [
    "df_other_duties.to_sql('other_duties', if_exists='append', con=survey, index=False)"
   ]
  },
  {
   "source": [
    "## 3. Other databases"
   ],
   "cell_type": "markdown",
   "metadata": {}
  },
  {
   "cell_type": "code",
   "execution_count": 2,
   "metadata": {},
   "outputs": [
    {
     "output_type": "execute_result",
     "data": {
      "text/plain": [
       "    db_id                  db_name\n",
       "0       1     Microsoft SQL Server\n",
       "1       2               PostgreSQL\n",
       "2       3                    Other\n",
       "3       4             Azure SQL DB\n",
       "4       5         Microsoft Access\n",
       "5       6                   Oracle\n",
       "6       7            MySQL/MariaDB\n",
       "7       8  Amazon RDS (any flavor)\n",
       "8       9                  MongoDB\n",
       "9      10                      DB2\n",
       "10     11                Cassandra\n",
       "11     12                   SQLite\n",
       "12     13                      SAP\n",
       "13     14                 Teradata\n",
       "14     15            Elasticsearch"
      ],
      "text/html": "<div>\n<style scoped>\n    .dataframe tbody tr th:only-of-type {\n        vertical-align: middle;\n    }\n\n    .dataframe tbody tr th {\n        vertical-align: top;\n    }\n\n    .dataframe thead th {\n        text-align: right;\n    }\n</style>\n<table border=\"1\" class=\"dataframe\">\n  <thead>\n    <tr style=\"text-align: right;\">\n      <th></th>\n      <th>db_id</th>\n      <th>db_name</th>\n    </tr>\n  </thead>\n  <tbody>\n    <tr>\n      <th>0</th>\n      <td>1</td>\n      <td>Microsoft SQL Server</td>\n    </tr>\n    <tr>\n      <th>1</th>\n      <td>2</td>\n      <td>PostgreSQL</td>\n    </tr>\n    <tr>\n      <th>2</th>\n      <td>3</td>\n      <td>Other</td>\n    </tr>\n    <tr>\n      <th>3</th>\n      <td>4</td>\n      <td>Azure SQL DB</td>\n    </tr>\n    <tr>\n      <th>4</th>\n      <td>5</td>\n      <td>Microsoft Access</td>\n    </tr>\n    <tr>\n      <th>5</th>\n      <td>6</td>\n      <td>Oracle</td>\n    </tr>\n    <tr>\n      <th>6</th>\n      <td>7</td>\n      <td>MySQL/MariaDB</td>\n    </tr>\n    <tr>\n      <th>7</th>\n      <td>8</td>\n      <td>Amazon RDS (any flavor)</td>\n    </tr>\n    <tr>\n      <th>8</th>\n      <td>9</td>\n      <td>MongoDB</td>\n    </tr>\n    <tr>\n      <th>9</th>\n      <td>10</td>\n      <td>DB2</td>\n    </tr>\n    <tr>\n      <th>10</th>\n      <td>11</td>\n      <td>Cassandra</td>\n    </tr>\n    <tr>\n      <th>11</th>\n      <td>12</td>\n      <td>SQLite</td>\n    </tr>\n    <tr>\n      <th>12</th>\n      <td>13</td>\n      <td>SAP</td>\n    </tr>\n    <tr>\n      <th>13</th>\n      <td>14</td>\n      <td>Teradata</td>\n    </tr>\n    <tr>\n      <th>14</th>\n      <td>15</td>\n      <td>Elasticsearch</td>\n    </tr>\n  </tbody>\n</table>\n</div>"
     },
     "metadata": {},
     "execution_count": 2
    }
   ],
   "source": [
    "sondage_item = pd.read_sql_query(\"SELECT * FROM sondage_item\", survey)\n",
    "db = pd.read_sql_query(\"SELECT * FROM db\", survey)\n",
    "db"
   ]
  },
  {
   "cell_type": "code",
   "execution_count": 3,
   "metadata": {
    "tags": []
   },
   "outputs": [],
   "source": [
    "pd.options.mode.chained_assignment = None\n",
    "\n",
    "def trouver_index(valeur, table):\n",
    "    return int(table[table.columns[0]][(table[table.columns[1]]==valeur)==True])\n",
    "\n",
    "l=[]\n",
    "\n",
    "for i in range(len(sondage_item)):\n",
    "    if type(data[\"OtherDatabases\"][i]) != str :\n",
    "        l.append([\"Not Asked\"])\n",
    "    elif \", \" in data[\"OtherDatabases\"][i]:\n",
    "        l.append(data[\"OtherDatabases\"][i].split(\", \"))\n",
    "    else :\n",
    "        l.append([data[\"OtherDatabases\"][i]])\n",
    "\n",
    "liste_sgi_id = []\n",
    "liste_dbs = []\n",
    "\n",
    "for i in range(len(l)):\n",
    "    for j in l[i] :\n",
    "        liste_sgi_id.append(sondage_item[\"sgi_id\"][i])\n",
    "        liste_dbs.append(j)\n",
    "\n",
    "df_other_databases = pd.DataFrame()\n",
    "df_other_databases[\"sgi_id\"] = liste_sgi_id\n",
    "df_other_databases[\"db_id\"] = liste_dbs\n",
    "\n",
    "a = df_other_databases[\"db_id\"].drop_duplicates().to_list()\n",
    "\n",
    "\n",
    "a.pop(9)\n",
    "a.pop(124)\n",
    "a.pop(21)\n",
    "a[109] = \"Elasticsearch (not a database, so much so an indexing engine)\"\n",
    "a.pop(110)\n",
    "a[255] = 'SAP HANA (yep, \"SAP\" doesnt tell it enough)'\n",
    "a.pop(256)\n",
    "a[389] = \"progress\"\n",
    "a[390] = \"informix\"\n",
    "b = a.copy()\n",
    "a.sort(key=len,reverse=True)\n",
    "\n",
    "for i in range(len(a)):\n",
    "    if a[i][0]==\" \":\n",
    "        a[i]=a[i][1:]\n",
    "    if a[i][-1]==\" \":\n",
    "        a[i]=a[i][:-1]"
   ]
  },
  {
   "cell_type": "code",
   "execution_count": 4,
   "metadata": {},
   "outputs": [
    {
     "output_type": "execute_result",
     "data": {
      "text/plain": [
       "['foxpro developer with c# customers have there own SQL server and we must make it work',\n",
       " 'Elasticsearch (not a database, so much so an indexing engine)',\n",
       " 'SAP HANA (yep, \"SAP\" doesnt tell it enough)',\n",
       " 'HANA (SAP is also MAXDATA and few others)',\n",
       " 'Sybase (only with a gun to my head)',\n",
       " 'This is embarrassing: Pervasive SQL',\n",
       " 'Various AWS flavors of db services',\n",
       " 'Azure SQL DW and Azure DocumentDB',\n",
       " 'Sybase Adaptive Server Enterprise',\n",
       " 'Too identifying/specific to list',\n",
       " 'MS SQL Server on Azure IaaS VM',\n",
       " 'Application Insights Analytics',\n",
       " 'Some old dbs file system shit',\n",
       " 'Netezza - built on PostGreSQL',\n",
       " 'Apache Delta Lake / Parquett',\n",
       " \"Ignition's internal database\",\n",
       " 'Hadoop based data structures',\n",
       " 'Parallel DataWarehouse / APS',\n",
       " 'Data General ISAM Databases',\n",
       " 'Azure SQL Managed Instance',\n",
       " 'Azure SQL DB (any flavor)',\n",
       " 'Tibco Data Virtualization',\n",
       " 'SAP MaxDB and Sybase ASE',\n",
       " 'Azure SQL data warehouse',\n",
       " 'Azure SQL Data Warehouse',\n",
       " 'Cisco Information Server',\n",
       " 'Azure Sql Data Warehouse',\n",
       " \"Informix - but it's crap\",\n",
       " 'Microsoft Visual FoxPro',\n",
       " 'Hadoop/Hive/HBASE/Kylin',\n",
       " 'Parallel Data Warehouse',\n",
       " 'Azure SQL Datawarehouse',\n",
       " 'Sybase Advantage Server',\n",
       " 'Sybase/SAP SQL Anywhere',\n",
       " 'Google database service',\n",
       " 'Cloudera Hadoop / Hive',\n",
       " 'SQL Server on Azure VM',\n",
       " 'Hadoop (HBase,etc...)',\n",
       " 'SQL Anywhere - Sybase',\n",
       " 'Proprietary flat file',\n",
       " 'Google Cloud Platform',\n",
       " 'SingleStore (MemSQL)',\n",
       " 'Azure Data Warehouse',\n",
       " 'Informix IDS and XPS',\n",
       " 'Sybase SQL Anywhere',\n",
       " 'Hadoop/SPARK on EMR',\n",
       " 'SYBase SQL Anywhere',\n",
       " 'Red Brick Warehouse',\n",
       " 'Azure Data Explorer',\n",
       " 'sybase sql anywhere',\n",
       " 'FoxPro and Firebolt',\n",
       " 'Azure SQL Analytics',\n",
       " 'InterBase/FireBird',\n",
       " 'Intersystems Cache',\n",
       " 'Sybase,Adabas,IDMS',\n",
       " 'InterSystems Cache',\n",
       " 'Advantage Database',\n",
       " 'IDMS/R (mainframe)',\n",
       " 'Sybase. Ne really.',\n",
       " 'IBM Netezza (bleh)',\n",
       " 'both Azure and AWS',\n",
       " 'InterSystems Caché',\n",
       " 'Sybase SQLAnywhere',\n",
       " 'Analysis Services',\n",
       " 'Intersystem Cache',\n",
       " 'Infodata  SQLBase',\n",
       " 'Progress OpenEdge',\n",
       " 'Hadoop/hive/hbase',\n",
       " 'OpenEdge Progress',\n",
       " 'SAP SQL Anywhere',\n",
       " 'Google Cloud SQL',\n",
       " 'Hyperion Essbase',\n",
       " 'Hyperion/Essbase',\n",
       " 'Google big query',\n",
       " 'Apache Spark SQL',\n",
       " 'Borland DBase IV',\n",
       " 'Google Big Query',\n",
       " 'Unisys Mainframe',\n",
       " 'Sybase Progress',\n",
       " 'Pick / UniVerse',\n",
       " 'Google bigquery',\n",
       " 'SQL Anywhere 12',\n",
       " 'UniVerse (Pick)',\n",
       " 'Azure data lake',\n",
       " 'Amazon Redshift',\n",
       " 'Azure Data Lake',\n",
       " 'Power bi / ssas',\n",
       " 'sybase and Unix',\n",
       " 'Amazon DynamoDB',\n",
       " 'Google BigQuery',\n",
       " 'too identifying',\n",
       " 'Hive and HBase',\n",
       " 'Dbase / Foxpro',\n",
       " 'Natural ADABAS',\n",
       " 'Progress [eb2]',\n",
       " 'Big Data stack',\n",
       " 'SAP Sybase ASE',\n",
       " 'Google Spanner',\n",
       " 'MS DocumentDB',\n",
       " 'ElasticSearch',\n",
       " 'Microsofy APS',\n",
       " 'elasticsearch',\n",
       " 'Unisys DMS II',\n",
       " 'Apache Ignite',\n",
       " 'Visual FoxPro',\n",
       " 'Microsoft APS',\n",
       " 'GCP Datastore',\n",
       " 'Pervasive SQL',\n",
       " 'SAP/Sybase IQ',\n",
       " 'IIBM Informix',\n",
       " 'FileMaker Pro',\n",
       " 'Hadoop/Impala',\n",
       " 'Azure Synapse',\n",
       " 'Sybase SQL IQ',\n",
       " 'Google cloud',\n",
       " 'AWS redshift',\n",
       " 'IBM Informix',\n",
       " 'EnterpriseDB',\n",
       " 'Microsoft CE',\n",
       " 'Blob Storage',\n",
       " 'Apache Spark',\n",
       " 'S3 Data lake',\n",
       " 'Azure Tables',\n",
       " 'Azure SQL DW',\n",
       " 'SQL Anywhere',\n",
       " 'Apache Derby',\n",
       " 'PROGRESS 4GL',\n",
       " 'AWS Redshift',\n",
       " 'AWS Netptune',\n",
       " 'Informix IDS',\n",
       " 'informatica',\n",
       " 'Hadoop/Hive',\n",
       " 'FoxPro 2.5B',\n",
       " 'SAP S4/HANA',\n",
       " 'Yellowbrick',\n",
       " 'IBM Netezza',\n",
       " 'iSeries DB2',\n",
       " 'Apache Hive',\n",
       " 'SqlAnywhere',\n",
       " 'DataBricks',\n",
       " 'Oracle RDB',\n",
       " 'BerkeleyDB',\n",
       " 'CA-datacom',\n",
       " 'Sybase SQL',\n",
       " 'ClickHouse',\n",
       " 'CA-Datacom',\n",
       " 'salesforce',\n",
       " 'DocumentDB',\n",
       " 'AWS Athena',\n",
       " 'UNISYS DMS',\n",
       " 'HP Vertica',\n",
       " 'Clickhouse',\n",
       " 'Sybase ASE',\n",
       " 'Salesforce',\n",
       " 'couch base',\n",
       " 'Postgresql',\n",
       " 'Powershell',\n",
       " 'AWS Aurora',\n",
       " 'IBM domino',\n",
       " 'Databricks',\n",
       " 'Data Lakes',\n",
       " 'Dell Boomi',\n",
       " 'sybase ASE',\n",
       " 'Interbase',\n",
       " 'Greenplum',\n",
       " 'IBM AS400',\n",
       " 'greenplum',\n",
       " 'IMS DB/DC',\n",
       " 'SyBase IQ',\n",
       " '4D Server',\n",
       " 'FileMaker',\n",
       " 'Couchbase',\n",
       " 'Marklogic',\n",
       " 'CouchBase',\n",
       " 'Cockroach',\n",
       " 'MarkLogic',\n",
       " 'spark sql',\n",
       " 'Cache,IBM',\n",
       " 'Fasttrack',\n",
       " 'couchbase',\n",
       " 'Advantage',\n",
       " 'AlphaFour',\n",
       " 'Cosmos DB',\n",
       " 'ExtremeDB',\n",
       " 'HP Tandem',\n",
       " 'HDInsight',\n",
       " 'homegrown',\n",
       " 'Pervasive',\n",
       " 'snowflake',\n",
       " 'pervasive',\n",
       " 'Sybase IQ',\n",
       " 'Snowflake',\n",
       " 'Altibase',\n",
       " 'Informix',\n",
       " 'DynamoDB',\n",
       " 'InfluxDB',\n",
       " 'ArangoDB',\n",
       " 'BigQuery',\n",
       " 'progress',\n",
       " 'Redshift',\n",
       " 'Imfluxdb',\n",
       " 'FireBird',\n",
       " 'Progress',\n",
       " 'redshift',\n",
       " 'Influxdb',\n",
       " 'SybaseIQ',\n",
       " 'DynamoBD',\n",
       " 'Firebird',\n",
       " 'DataEase',\n",
       " 'OrientDB',\n",
       " 'Cloudera',\n",
       " 'Raven DB',\n",
       " 'DataFlex',\n",
       " 'RedShift',\n",
       " 'SAP HANA',\n",
       " 'Kinetica',\n",
       " 'Clustrix',\n",
       " 'UniVerse',\n",
       " 'Providex',\n",
       " 'Azure DW',\n",
       " 'firebird',\n",
       " 'Dynamodb',\n",
       " 'informix',\n",
       " 'SQL Base',\n",
       " 'Dataflex',\n",
       " 'OpenEdge',\n",
       " 'CosmosDB',\n",
       " 'GraphDB',\n",
       " 'SAP 300',\n",
       " 'Couchdb',\n",
       " 'netezza',\n",
       " 'CA-IDMS',\n",
       " 'RocksDB',\n",
       " 'Elastic',\n",
       " 'vertica',\n",
       " 'Multics',\n",
       " 'IBM DB2',\n",
       " 'Clipper',\n",
       " 'unidata',\n",
       " 'Unidata',\n",
       " 'BTRIEVE',\n",
       " 'MonetDB',\n",
       " 'DerbyDB',\n",
       " 'CouchDB',\n",
       " 'RavenDB',\n",
       " 'Symitar',\n",
       " 'CosmoDB',\n",
       " 'CouchDb',\n",
       " 'Vertica',\n",
       " 'Datacom',\n",
       " 'Paradox',\n",
       " 'M/Cache',\n",
       " 'Ingress',\n",
       " 'Essbase',\n",
       " 'Btrieve',\n",
       " 'dbVista',\n",
       " 'Netezza',\n",
       " 'DBase 3',\n",
       " 'DB2 400',\n",
       " 'CoachDB',\n",
       " 'SAP ASE',\n",
       " 'RavenDb',\n",
       " 'SQLBase',\n",
       " 'MariaDB',\n",
       " 'Adabas',\n",
       " 'Dynamo',\n",
       " 'WinSQL',\n",
       " 'Actian',\n",
       " 'dBaseX',\n",
       " 'ingres',\n",
       " 'Aurora',\n",
       " 'Foxpro',\n",
       " 'Access',\n",
       " 'AS 400',\n",
       " 'foxpro',\n",
       " 'Hadoop',\n",
       " 'MemSql',\n",
       " 'Cosmos',\n",
       " 'LiteDB',\n",
       " 'Ingres',\n",
       " 'Mx/SQL',\n",
       " 'Exasol',\n",
       " 'Citrix',\n",
       " 'adabas',\n",
       " 'SAP IQ',\n",
       " 'FoxPro',\n",
       " 'Presto',\n",
       " 'Impala',\n",
       " 'MemSQL',\n",
       " 'Unisys',\n",
       " 'sybase',\n",
       " 'ADABAS',\n",
       " 'Memsql',\n",
       " 'Sybase',\n",
       " 'Splunk',\n",
       " 'INGRES',\n",
       " 'hadoop',\n",
       " 'SyBase',\n",
       " 'MS APS',\n",
       " 'CACHE',\n",
       " 'Druid',\n",
       " 'MUMPS',\n",
       " 'Excel',\n",
       " 'neo4j',\n",
       " 'Couch',\n",
       " 'AS400',\n",
       " 'Caché',\n",
       " 'DBase',\n",
       " 'Cache',\n",
       " 'Dbase',\n",
       " 'HBase',\n",
       " 'Neo4j',\n",
       " 'Neo4J',\n",
       " 'Mysql',\n",
       " 'MySQL',\n",
       " 'Raven',\n",
       " 'redis',\n",
       " 'Spark',\n",
       " 'Redis',\n",
       " 'SCADA',\n",
       " 'Focus',\n",
       " 'dBase',\n",
       " 'Kafka',\n",
       " 'as400',\n",
       " 'Rbase',\n",
       " 'HBASE',\n",
       " 'MAPR',\n",
       " 'PICK',\n",
       " 'LLAP',\n",
       " 'SOLR',\n",
       " 'SSRS',\n",
       " 'RDMS',\n",
       " 'Hana',\n",
       " 'IDMS',\n",
       " 'Riak',\n",
       " 'None',\n",
       " 'hive',\n",
       " 'HANA',\n",
       " 'Epic',\n",
       " 'HPCC',\n",
       " 'Hdfs',\n",
       " 'Kudu',\n",
       " 'JADE',\n",
       " 'JSON',\n",
       " 'Solr',\n",
       " 'Hive',\n",
       " 'HIVE',\n",
       " 'DB3',\n",
       " 'APS',\n",
       " 'GBQ',\n",
       " 'TM1',\n",
       " 'QIX',\n",
       " 'Udb',\n",
       " 'rdb',\n",
       " 'GCP',\n",
       " 'SAS',\n",
       " 'ASE',\n",
       " 'DB4',\n",
       " 'IMS',\n",
       " '4D',\n",
       " 'H2',\n",
       " 'Gp',\n",
       " 'T',\n",
       " 'M']"
      ]
     },
     "metadata": {},
     "execution_count": 4
    }
   ],
   "source": [
    "new_dbs = list(set(a.copy()))\n",
    "new_dbs.sort(key=len,reverse=True)\n",
    "\n",
    "old_dbs = pd.read_sql_query(\"SELECT * FROM db\",survey)\n",
    "old_dbs = old_dbs[\"db_name\"].to_list()\n",
    "\n",
    "for old_db in old_dbs:\n",
    "    if old_db in new_dbs :\n",
    "        new_dbs.remove(old_db)\n",
    "\n",
    "new_dbs"
   ]
  },
  {
   "cell_type": "code",
   "execution_count": 24,
   "metadata": {},
   "outputs": [
    {
     "output_type": "execute_result",
     "data": {
      "text/plain": [
       "                           db_name  db_id\n",
       "10  MS SQL Server on Azure IaaS VM    NaN\n",
       "11  Application Insights Analytics    NaN\n",
       "12   Some old dbs file system shit    NaN\n",
       "13   Netezza - built on PostGreSQL    NaN\n",
       "14    Apache Delta Lake / Parquett    NaN\n",
       "15    Ignition's internal database    NaN\n",
       "16    Hadoop based data structures    NaN\n",
       "17    Parallel DataWarehouse / APS    NaN\n",
       "18     Data General ISAM Databases    NaN\n",
       "19      Azure SQL Managed Instance    NaN\n",
       "20       Azure SQL DB (any flavor)    NaN\n",
       "21       Tibco Data Virtualization    NaN\n",
       "22        SAP MaxDB and Sybase ASE    NaN\n",
       "23        Azure SQL data warehouse    NaN\n",
       "24        Azure SQL Data Warehouse    NaN\n",
       "25        Cisco Information Server    NaN\n",
       "26        Azure Sql Data Warehouse    NaN\n",
       "27        Informix - but it's crap    NaN\n",
       "28         Microsoft Visual FoxPro    NaN\n",
       "29         Hadoop/Hive/HBASE/Kylin    NaN\n",
       "30         Parallel Data Warehouse    NaN\n",
       "31         Azure SQL Datawarehouse    NaN\n",
       "32         Sybase Advantage Server    NaN\n",
       "33         Sybase/SAP SQL Anywhere    NaN\n",
       "34         Google database service    NaN\n",
       "35          Cloudera Hadoop / Hive    NaN\n",
       "36          SQL Server on Azure VM    NaN\n",
       "37           Hadoop (HBase,etc...)    NaN\n",
       "38           SQL Anywhere - Sybase    NaN\n",
       "39           Proprietary flat file    NaN"
      ],
      "text/html": "<div>\n<style scoped>\n    .dataframe tbody tr th:only-of-type {\n        vertical-align: middle;\n    }\n\n    .dataframe tbody tr th {\n        vertical-align: top;\n    }\n\n    .dataframe thead th {\n        text-align: right;\n    }\n</style>\n<table border=\"1\" class=\"dataframe\">\n  <thead>\n    <tr style=\"text-align: right;\">\n      <th></th>\n      <th>db_name</th>\n      <th>db_id</th>\n    </tr>\n  </thead>\n  <tbody>\n    <tr>\n      <th>10</th>\n      <td>MS SQL Server on Azure IaaS VM</td>\n      <td>NaN</td>\n    </tr>\n    <tr>\n      <th>11</th>\n      <td>Application Insights Analytics</td>\n      <td>NaN</td>\n    </tr>\n    <tr>\n      <th>12</th>\n      <td>Some old dbs file system shit</td>\n      <td>NaN</td>\n    </tr>\n    <tr>\n      <th>13</th>\n      <td>Netezza - built on PostGreSQL</td>\n      <td>NaN</td>\n    </tr>\n    <tr>\n      <th>14</th>\n      <td>Apache Delta Lake / Parquett</td>\n      <td>NaN</td>\n    </tr>\n    <tr>\n      <th>15</th>\n      <td>Ignition's internal database</td>\n      <td>NaN</td>\n    </tr>\n    <tr>\n      <th>16</th>\n      <td>Hadoop based data structures</td>\n      <td>NaN</td>\n    </tr>\n    <tr>\n      <th>17</th>\n      <td>Parallel DataWarehouse / APS</td>\n      <td>NaN</td>\n    </tr>\n    <tr>\n      <th>18</th>\n      <td>Data General ISAM Databases</td>\n      <td>NaN</td>\n    </tr>\n    <tr>\n      <th>19</th>\n      <td>Azure SQL Managed Instance</td>\n      <td>NaN</td>\n    </tr>\n    <tr>\n      <th>20</th>\n      <td>Azure SQL DB (any flavor)</td>\n      <td>NaN</td>\n    </tr>\n    <tr>\n      <th>21</th>\n      <td>Tibco Data Virtualization</td>\n      <td>NaN</td>\n    </tr>\n    <tr>\n      <th>22</th>\n      <td>SAP MaxDB and Sybase ASE</td>\n      <td>NaN</td>\n    </tr>\n    <tr>\n      <th>23</th>\n      <td>Azure SQL data warehouse</td>\n      <td>NaN</td>\n    </tr>\n    <tr>\n      <th>24</th>\n      <td>Azure SQL Data Warehouse</td>\n      <td>NaN</td>\n    </tr>\n    <tr>\n      <th>25</th>\n      <td>Cisco Information Server</td>\n      <td>NaN</td>\n    </tr>\n    <tr>\n      <th>26</th>\n      <td>Azure Sql Data Warehouse</td>\n      <td>NaN</td>\n    </tr>\n    <tr>\n      <th>27</th>\n      <td>Informix - but it's crap</td>\n      <td>NaN</td>\n    </tr>\n    <tr>\n      <th>28</th>\n      <td>Microsoft Visual FoxPro</td>\n      <td>NaN</td>\n    </tr>\n    <tr>\n      <th>29</th>\n      <td>Hadoop/Hive/HBASE/Kylin</td>\n      <td>NaN</td>\n    </tr>\n    <tr>\n      <th>30</th>\n      <td>Parallel Data Warehouse</td>\n      <td>NaN</td>\n    </tr>\n    <tr>\n      <th>31</th>\n      <td>Azure SQL Datawarehouse</td>\n      <td>NaN</td>\n    </tr>\n    <tr>\n      <th>32</th>\n      <td>Sybase Advantage Server</td>\n      <td>NaN</td>\n    </tr>\n    <tr>\n      <th>33</th>\n      <td>Sybase/SAP SQL Anywhere</td>\n      <td>NaN</td>\n    </tr>\n    <tr>\n      <th>34</th>\n      <td>Google database service</td>\n      <td>NaN</td>\n    </tr>\n    <tr>\n      <th>35</th>\n      <td>Cloudera Hadoop / Hive</td>\n      <td>NaN</td>\n    </tr>\n    <tr>\n      <th>36</th>\n      <td>SQL Server on Azure VM</td>\n      <td>NaN</td>\n    </tr>\n    <tr>\n      <th>37</th>\n      <td>Hadoop (HBase,etc...)</td>\n      <td>NaN</td>\n    </tr>\n    <tr>\n      <th>38</th>\n      <td>SQL Anywhere - Sybase</td>\n      <td>NaN</td>\n    </tr>\n    <tr>\n      <th>39</th>\n      <td>Proprietary flat file</td>\n      <td>NaN</td>\n    </tr>\n  </tbody>\n</table>\n</div>"
     },
     "metadata": {},
     "execution_count": 24
    }
   ],
   "source": [
    "table_db2 = pd.DataFrame()\n",
    "table_db2[\"db_name\"]=new_dbs\n",
    "table_db2[\"db_id\"]=np.nan\n",
    "\n",
    "db = pd.read_sql_query(\"SELECT * FROM db\", survey)"
   ]
  },
  {
   "cell_type": "code",
   "execution_count": 22,
   "metadata": {},
   "outputs": [],
   "source": [
    "# table_db2.to_sql('db', if_exists='append', con=survey, index=False)"
   ]
  },
  {
   "cell_type": "code",
   "execution_count": 61,
   "metadata": {},
   "outputs": [
    {
     "output_type": "execute_result",
     "data": {
      "text/plain": [
       "     db_id                                            db_name\n",
       "0       16  foxpro developer with c# customers have there ...\n",
       "1       17  Elasticsearch (not a database, so much so an i...\n",
       "2       18        SAP HANA (yep, \"SAP\" doesnt tell it enough)\n",
       "3       19          HANA (SAP is also MAXDATA and few others)\n",
       "4       21                This is embarrassing: Pervasive SQL\n",
       "..     ...                                                ...\n",
       "374    375                                                 4D\n",
       "375    376                                                 H2\n",
       "376    377                                                 Gp\n",
       "377    378                                                  T\n",
       "378    379                                                  M\n",
       "\n",
       "[379 rows x 2 columns]"
      ],
      "text/html": "<div>\n<style scoped>\n    .dataframe tbody tr th:only-of-type {\n        vertical-align: middle;\n    }\n\n    .dataframe tbody tr th {\n        vertical-align: top;\n    }\n\n    .dataframe thead th {\n        text-align: right;\n    }\n</style>\n<table border=\"1\" class=\"dataframe\">\n  <thead>\n    <tr style=\"text-align: right;\">\n      <th></th>\n      <th>db_id</th>\n      <th>db_name</th>\n    </tr>\n  </thead>\n  <tbody>\n    <tr>\n      <th>0</th>\n      <td>16</td>\n      <td>foxpro developer with c# customers have there ...</td>\n    </tr>\n    <tr>\n      <th>1</th>\n      <td>17</td>\n      <td>Elasticsearch (not a database, so much so an i...</td>\n    </tr>\n    <tr>\n      <th>2</th>\n      <td>18</td>\n      <td>SAP HANA (yep, \"SAP\" doesnt tell it enough)</td>\n    </tr>\n    <tr>\n      <th>3</th>\n      <td>19</td>\n      <td>HANA (SAP is also MAXDATA and few others)</td>\n    </tr>\n    <tr>\n      <th>4</th>\n      <td>21</td>\n      <td>This is embarrassing: Pervasive SQL</td>\n    </tr>\n    <tr>\n      <th>...</th>\n      <td>...</td>\n      <td>...</td>\n    </tr>\n    <tr>\n      <th>374</th>\n      <td>375</td>\n      <td>4D</td>\n    </tr>\n    <tr>\n      <th>375</th>\n      <td>376</td>\n      <td>H2</td>\n    </tr>\n    <tr>\n      <th>376</th>\n      <td>377</td>\n      <td>Gp</td>\n    </tr>\n    <tr>\n      <th>377</th>\n      <td>378</td>\n      <td>T</td>\n    </tr>\n    <tr>\n      <th>378</th>\n      <td>379</td>\n      <td>M</td>\n    </tr>\n  </tbody>\n</table>\n<p>379 rows × 2 columns</p>\n</div>"
     },
     "metadata": {},
     "execution_count": 61
    }
   ],
   "source": [
    "data = pd.read_excel(\"jeux_donnees/Data_Professional_Salary_Survey_Responses_1.xlsx\")\n",
    "data[\"HowManyCompanies\"]=data[\"HowManyCompanies\"].apply(str)\n",
    "\n",
    "sondage_item = pd.read_sql_query(\"SELECT * FROM sondage_item\", survey)\n",
    "db = pd.read_sql_query(\"SELECT * FROM db\", survey)\n",
    "db.index = db['db_name'].str.len()\n",
    "db = db.sort_index(ascending=False).reset_index(drop=True)\n",
    "db"
   ]
  },
  {
   "cell_type": "code",
   "execution_count": 58,
   "metadata": {},
   "outputs": [],
   "source": [
    "pd.options.mode.chained_assignment = None\n",
    "\n",
    "def trouver_index(valeur, table):\n",
    "    return int(table[table.columns[0]][(table[table.columns[1]]==valeur)==True])\n",
    "\n",
    "l=[]\n",
    "\n",
    "for i in range(len(sondage_item)):\n",
    "    if type(data[\"OtherDatabases\"][i]) != str :\n",
    "        l.append([\"Not Asked\"])\n",
    "    else :\n",
    "        ldb=[]\n",
    "        for j in db[\"db_name\"]:\n",
    "            if j in data[\"OtherDatabases\"][i]:\n",
    "                ldb.append(j)\n",
    "                data[\"OtherDatabases\"][i] = data[\"OtherDatabases\"][i].replace(j,\" \")\n",
    "        l.append(ldb)\n",
    "\n",
    "liste_sgi_id = []\n",
    "liste_dbs = []\n",
    "\n",
    "for i in range(len(l)):\n",
    "    for j in l[i] :\n",
    "        liste_sgi_id.append(sondage_item[\"sgi_id\"][i])\n",
    "        liste_dbs.append(j)\n",
    "\n",
    "df_other_databases = pd.DataFrame()\n",
    "df_other_databases[\"sgi_id\"] = liste_sgi_id\n",
    "df_other_databases[\"db_id\"] = liste_dbs\n",
    "\n",
    "for i in df_other_databases.index:\n",
    "    if df_other_databases[\"db_id\"][i] == \"Not Asked\" :\n",
    "        df_other_databases = df_other_databases.drop([i])\n",
    "    else:\n",
    "        df_other_databases[\"db_id\"][i] = trouver_index(df_other_databases[\"db_id\"][i], db)"
   ]
  },
  {
   "cell_type": "code",
   "execution_count": 71,
   "metadata": {},
   "outputs": [
    {
     "output_type": "execute_result",
     "data": {
      "text/plain": [
       "       sgi_id db_id\n",
       "0       44938     1\n",
       "1       44939    36\n",
       "2       44940    36\n",
       "3       44940     2\n",
       "4       44941    36\n",
       "...       ...   ...\n",
       "23258   55276     6\n",
       "23259   55277     7\n",
       "23260   55278     5\n",
       "23261   55278     2\n",
       "23262   55278    10\n",
       "\n",
       "[21319 rows x 2 columns]"
      ],
      "text/html": "<div>\n<style scoped>\n    .dataframe tbody tr th:only-of-type {\n        vertical-align: middle;\n    }\n\n    .dataframe tbody tr th {\n        vertical-align: top;\n    }\n\n    .dataframe thead th {\n        text-align: right;\n    }\n</style>\n<table border=\"1\" class=\"dataframe\">\n  <thead>\n    <tr style=\"text-align: right;\">\n      <th></th>\n      <th>sgi_id</th>\n      <th>db_id</th>\n    </tr>\n  </thead>\n  <tbody>\n    <tr>\n      <th>0</th>\n      <td>44938</td>\n      <td>1</td>\n    </tr>\n    <tr>\n      <th>1</th>\n      <td>44939</td>\n      <td>36</td>\n    </tr>\n    <tr>\n      <th>2</th>\n      <td>44940</td>\n      <td>36</td>\n    </tr>\n    <tr>\n      <th>3</th>\n      <td>44940</td>\n      <td>2</td>\n    </tr>\n    <tr>\n      <th>4</th>\n      <td>44941</td>\n      <td>36</td>\n    </tr>\n    <tr>\n      <th>...</th>\n      <td>...</td>\n      <td>...</td>\n    </tr>\n    <tr>\n      <th>23258</th>\n      <td>55276</td>\n      <td>6</td>\n    </tr>\n    <tr>\n      <th>23259</th>\n      <td>55277</td>\n      <td>7</td>\n    </tr>\n    <tr>\n      <th>23260</th>\n      <td>55278</td>\n      <td>5</td>\n    </tr>\n    <tr>\n      <th>23261</th>\n      <td>55278</td>\n      <td>2</td>\n    </tr>\n    <tr>\n      <th>23262</th>\n      <td>55278</td>\n      <td>10</td>\n    </tr>\n  </tbody>\n</table>\n<p>21319 rows × 2 columns</p>\n</div>"
     },
     "metadata": {},
     "execution_count": 71
    }
   ],
   "source": [
    "df_other_databases"
   ]
  },
  {
   "cell_type": "code",
   "execution_count": 74,
   "metadata": {},
   "outputs": [],
   "source": [
    "df_other_databases.to_sql('other_database', if_exists='append', con=survey, index=False)"
   ]
  },
  {
   "cell_type": "code",
   "execution_count": null,
   "metadata": {},
   "outputs": [],
   "source": []
  }
 ]
}