{
 "metadata": {
  "language_info": {
   "codemirror_mode": {
    "name": "ipython",
    "version": 3
   },
   "file_extension": ".py",
   "mimetype": "text/x-python",
   "name": "python",
   "nbconvert_exporter": "python",
   "pygments_lexer": "ipython3",
   "version": "3.8.5"
  },
  "orig_nbformat": 2,
  "kernelspec": {
   "name": "python385jvsc74a57bd04ad1113733ce155ce9cb43bdc3e17679916cd44516b0bf0a5049a72e2a7064d4",
   "display_name": "Python 3.8.5 64-bit ('base': conda)"
  }
 },
 "nbformat": 4,
 "nbformat_minor": 2,
 "cells": [
  {
   "source": [
    "## Exemple vu précedemment\n"
   ],
   "cell_type": "markdown",
   "metadata": {}
  },
  {
   "cell_type": "code",
   "execution_count": 2,
   "metadata": {},
   "outputs": [
    {
     "output_type": "stream",
     "name": "stdout",
     "text": [
      "Un texte \nUn texte  HTML  avec des balises et même \nUn texte  HTML  avec des balises et même \n"
     ]
    }
   ],
   "source": [
    "\n",
    "from re import sub\n",
    "s = \"Un texte <strong> HTML </strong> avec des balises\"\n",
    "s += \" et même <script type='text/javascript'>\"\n",
    "\n",
    "s1 = sub(\"<.*>\", \"\", s)\n",
    "s2 = sub(\"<[a-z\\\\/'=\\s]*>\", \"\", s)\n",
    "s3 = sub(\"<[^>]*>\", \"\", s)\n",
    "\n",
    "print(s1)\n",
    "print(s2)\n",
    "print(s3)"
   ]
  },
  {
   "source": [
    "## Exercice \n",
    "\n",
    "### 1. Proposez une fonction balise2dico(t) qui renvoie un dictionnaire des balises issues d’une chaîne de caractères t, indexées par le numéro du 1 er caractère de la balise dans le texte."
   ],
   "cell_type": "markdown",
   "metadata": {}
  },
  {
   "source": [
    "### 2. Proposez une fonction interpreter ( qui supprime les balise d’un texte mais, lorsqu'un bloc de texte est compris entre une balise <h*> (l’* représentant un chiffre), fait passer le bloc en majuscules."
   ],
   "cell_type": "markdown",
   "metadata": {}
  }
 ]
}