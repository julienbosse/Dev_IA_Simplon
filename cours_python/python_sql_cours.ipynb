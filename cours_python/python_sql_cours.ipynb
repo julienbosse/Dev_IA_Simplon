{
 "metadata": {
  "language_info": {
   "codemirror_mode": {
    "name": "ipython",
    "version": 3
   },
   "file_extension": ".py",
   "mimetype": "text/x-python",
   "name": "python",
   "nbconvert_exporter": "python",
   "pygments_lexer": "ipython3",
   "version": "3.8.5"
  },
  "orig_nbformat": 2,
  "kernelspec": {
   "name": "python385jvsc74a57bd064b474f71659f9be32f34132c3eef93d33d176ead871b80ca6db3fa26bc83f65",
   "display_name": "Python 3.8.5 64-bit ('base': conda)"
  }
 },
 "nbformat": 4,
 "nbformat_minor": 2,
 "cells": [
  {
   "source": [
    "## Interface utilisateur pour Sakila\n",
    "1. Créer un foncrtion connect_db() qui prendra en entrée un dictionnaire contenant un nom d’utilisateur, un mot de passe, un host et le nom d’une base de données.\n",
    "2. Créer une fonction new_customer() qui va permettre l’insertion d’un nouveau client dans la table customer en demandant à un utilisateur de saisir les données, ainsi que son adresse pour remplir les tables address, city et country. Faire attention au contrainte d’intégrité."
   ],
   "cell_type": "markdown",
   "metadata": {}
  },
  {
   "cell_type": "code",
   "execution_count": 2,
   "metadata": {},
   "outputs": [],
   "source": [
    "from sqlalchemy import create_engine\n",
    "import pandas as pd \n",
    "\n",
    "def connect_db(user, password, host, bd):\n",
    "    s = \"mysql+pymysql://\"\n",
    "    s += user+\":\"+password+\"@\"+host+\"/\"+bd\n",
    "    return create_engine(s)\n",
    "\n",
    "def new_customer(engine):\n",
    "\n",
    "    print(\"Informations client\")\n",
    "    nom = (input(\"Nom :\")).upper()\n",
    "    print(nom)\n",
    "    prenom = (input(\"Prénom :\")).upper()\n",
    "    print(prenom)\n",
    "    email = input(\"Email :\")\n",
    "    print(email)\n",
    "    phone = input(\"Téléphone :\")\n",
    "    print(phone)\n",
    "    print(\"Adresse\")\n",
    "    address = input(\"Adresse (ligne1) :\")\n",
    "    print(address)\n",
    "    address2 = input(\"Adresse (ligne2) :\")\n",
    "    print(address2)\n",
    "    city = input(\"Ville :\")\n",
    "    print(city)\n",
    "    postal_code = input(\"Code postal :\")\n",
    "    print(postal_code)\n",
    "    country = input(\"Pays : \")\n",
    "    print(country)\n",
    "\n",
    "    listCountries = pd.read_sql_query(\"SELECT * FROM country;\", engine)\n",
    "\n",
    "    if country not in list(listCountries[\"country\"]):\n",
    "        print(\"Pays pas présent\")\n",
    "        s = \"INSERT INTO country (country) VALUES ('%s');\" %(country)\n",
    "        engine.execute(s)\n",
    "\n",
    "    listCities = pd.read_sql_query(\"SELECT * FROM city;\", engine)\n",
    "\n",
    "    if city not in list(listCities[\"city\"]):\n",
    "        print(\"Ville pas présente\")\n",
    "        s = \"INSERT INTO city (city, country_id) VALUES ('%s', (SELECT country_id FROM country WHERE country = '%s' LIMIT 1) );\" %(city,country)\n",
    "        engine.execute(s)\n",
    "\n",
    "\n",
    "    listAddresses = pd.read_sql_query(\"SELECT * FROM address;\", engine)\n",
    "    listAddresses = listAdresses.fillna(\" \")\n",
    "    listAddresses[\"concatenee\"] = listAddresses[\"address\"]+\" \"+listAddresses[\"address2\"]+\" \"+listAddresses[\"postal_code\"]\n",
    "\n",
    "    if (address+\" \"+address2+\" \"+postal_code) not in list(listAddresses[\"concatenee\"]):\n",
    "        s = \"INSERT INTO address (address, address2, district, city_id, postal_code, phone, location) VALUES ('%s', '%s', ' ', (SELECT city_id FROM city WHERE city = '%s' LIMIT 1), '%s', '%s', ST_GeomFromWKB(X'0101000000000000000000F03F000000000000F03F'));\" %(address, address2, city, postal_code, phone)\n",
    "        engine.execute(s)\n",
    "\n",
    "\n",
    "    s = \"INSERT INTO customer (store_id, first_name, last_name, email, address_id, active, create_date) \"\n",
    "    s += \"VALUES (1, '%s', '%s', '%s', (SELECT address_id FROM address WHERE address = '%s' AND address2 = '%s' AND postal_code = '%s'), 1, CURRENT_DATE());\" %(nom, prenom, email, address, address2, postal_code)\n",
    "\n",
    "    return engine.execute(s)"
   ]
  },
  {
   "cell_type": "code",
   "execution_count": 3,
   "metadata": {},
   "outputs": [],
   "source": [
    "sakila = connect_db(\"julien\", \"simplon21\", \"localhost\", \"sakila\")\n",
    "\n",
    "#queryNewCustomer = new_customer(sakila)"
   ]
  },
  {
   "source": [
    "3. Ecrire une fonction qui va afficher l’historique de location d’un client.\n",
    "\n"
   ],
   "cell_type": "markdown",
   "metadata": {}
  },
  {
   "cell_type": "code",
   "execution_count": 11,
   "metadata": {},
   "outputs": [],
   "source": [
    "import pandas as pd\n",
    "\n",
    "def historique(nom,prenom,engine):\n",
    "\n",
    "    s = \"SELECT r.rental_date, f.title \"\n",
    "    s += \"FROM customer as c \"\n",
    "    s += \"JOIN rental as r ON c.customer_id = r.customer_id \"\n",
    "    s += \"JOIN inventory as i ON r.inventory_id = i.inventory_id \"\n",
    "    s += \"JOIN film as f ON i.film_id = f.film_id \"\n",
    "    s += \"WHERE (concat(c.first_name,' ', c.last_name) = '%s %s')\" %(prenom.upper(),nom.upper())\n",
    "\n",
    "    histo = pd.read_sql_query(s, engine)\n",
    "\n",
    "    return histo"
   ]
  },
  {
   "cell_type": "code",
   "execution_count": 12,
   "metadata": {},
   "outputs": [
    {
     "output_type": "execute_result",
     "data": {
      "text/plain": [
       "           rental_date                   title\n",
       "0  2005-08-01 08:51:04        ADAPTATION HOLES\n",
       "1  2005-07-29 03:58:49       AMISTAD MIDSUMMER\n",
       "2  2005-06-18 08:41:48            ATTACKS HATE\n",
       "3  2005-08-22 20:03:46        BIKINI BORROWERS\n",
       "4  2005-06-16 15:18:57             CLOSER BANG\n",
       "5  2005-07-09 16:38:01  CONFIDENTIAL INTERVIEW\n",
       "6  2005-08-18 03:57:29       DALMATIONS SWEDEN\n",
       "7  2005-06-15 18:02:53        DETECTIVE VISION\n",
       "8  2005-07-28 09:04:45         DOORS PRESIDENT\n",
       "9  2005-07-11 10:13:46     EXPECATIONS NATURAL\n",
       "10 2005-06-15 21:08:46           FERRIS MOTHER\n",
       "11 2005-08-02 18:01:38        FINDING ANACONDA\n",
       "12 2005-07-08 03:17:05             FIRE WOLVES\n",
       "13 2005-08-22 19:41:37   FIREBALL PHILADELPHIA\n",
       "14 2005-08-22 01:27:57   FIREBALL PHILADELPHIA\n",
       "15 2005-07-28 17:33:39              FROST HEAD\n",
       "16 2005-07-31 02:42:18         JEEPERS WEDDING\n",
       "17 2005-08-19 13:56:54           JUMANJI BLADE\n",
       "18 2005-07-27 11:31:22               LUCK OPUS\n",
       "19 2005-08-17 12:37:54            MINDS TRUMAN\n",
       "20 2005-06-15 00:54:12         MUSKETEERS WAIT\n",
       "21 2005-08-19 09:55:16          PATIENT SISTER\n",
       "22 2005-05-25 11:30:37          PATIENT SISTER\n",
       "23 2005-08-02 15:36:52               RACER EGG\n",
       "24 2005-07-08 07:33:56          SATURDAY LAMBS\n",
       "25 2005-06-18 13:33:59           SAVANNAH TOWN\n",
       "26 2005-07-09 13:24:07          SNATCH SLIPPER\n",
       "27 2005-05-28 10:35:23       TALENTED HOMICIDE\n",
       "28 2005-08-21 23:33:57    UNFORGIVEN ZOOLANDER\n",
       "29 2005-07-28 16:18:23      USUAL UNTOUCHABLES\n",
       "30 2005-07-28 19:20:07            WOMEN DORADO\n",
       "31 2005-06-21 06:24:45              YOUTH KICK"
      ],
      "text/html": "<div>\n<style scoped>\n    .dataframe tbody tr th:only-of-type {\n        vertical-align: middle;\n    }\n\n    .dataframe tbody tr th {\n        vertical-align: top;\n    }\n\n    .dataframe thead th {\n        text-align: right;\n    }\n</style>\n<table border=\"1\" class=\"dataframe\">\n  <thead>\n    <tr style=\"text-align: right;\">\n      <th></th>\n      <th>rental_date</th>\n      <th>title</th>\n    </tr>\n  </thead>\n  <tbody>\n    <tr>\n      <th>0</th>\n      <td>2005-08-01 08:51:04</td>\n      <td>ADAPTATION HOLES</td>\n    </tr>\n    <tr>\n      <th>1</th>\n      <td>2005-07-29 03:58:49</td>\n      <td>AMISTAD MIDSUMMER</td>\n    </tr>\n    <tr>\n      <th>2</th>\n      <td>2005-06-18 08:41:48</td>\n      <td>ATTACKS HATE</td>\n    </tr>\n    <tr>\n      <th>3</th>\n      <td>2005-08-22 20:03:46</td>\n      <td>BIKINI BORROWERS</td>\n    </tr>\n    <tr>\n      <th>4</th>\n      <td>2005-06-16 15:18:57</td>\n      <td>CLOSER BANG</td>\n    </tr>\n    <tr>\n      <th>5</th>\n      <td>2005-07-09 16:38:01</td>\n      <td>CONFIDENTIAL INTERVIEW</td>\n    </tr>\n    <tr>\n      <th>6</th>\n      <td>2005-08-18 03:57:29</td>\n      <td>DALMATIONS SWEDEN</td>\n    </tr>\n    <tr>\n      <th>7</th>\n      <td>2005-06-15 18:02:53</td>\n      <td>DETECTIVE VISION</td>\n    </tr>\n    <tr>\n      <th>8</th>\n      <td>2005-07-28 09:04:45</td>\n      <td>DOORS PRESIDENT</td>\n    </tr>\n    <tr>\n      <th>9</th>\n      <td>2005-07-11 10:13:46</td>\n      <td>EXPECATIONS NATURAL</td>\n    </tr>\n    <tr>\n      <th>10</th>\n      <td>2005-06-15 21:08:46</td>\n      <td>FERRIS MOTHER</td>\n    </tr>\n    <tr>\n      <th>11</th>\n      <td>2005-08-02 18:01:38</td>\n      <td>FINDING ANACONDA</td>\n    </tr>\n    <tr>\n      <th>12</th>\n      <td>2005-07-08 03:17:05</td>\n      <td>FIRE WOLVES</td>\n    </tr>\n    <tr>\n      <th>13</th>\n      <td>2005-08-22 19:41:37</td>\n      <td>FIREBALL PHILADELPHIA</td>\n    </tr>\n    <tr>\n      <th>14</th>\n      <td>2005-08-22 01:27:57</td>\n      <td>FIREBALL PHILADELPHIA</td>\n    </tr>\n    <tr>\n      <th>15</th>\n      <td>2005-07-28 17:33:39</td>\n      <td>FROST HEAD</td>\n    </tr>\n    <tr>\n      <th>16</th>\n      <td>2005-07-31 02:42:18</td>\n      <td>JEEPERS WEDDING</td>\n    </tr>\n    <tr>\n      <th>17</th>\n      <td>2005-08-19 13:56:54</td>\n      <td>JUMANJI BLADE</td>\n    </tr>\n    <tr>\n      <th>18</th>\n      <td>2005-07-27 11:31:22</td>\n      <td>LUCK OPUS</td>\n    </tr>\n    <tr>\n      <th>19</th>\n      <td>2005-08-17 12:37:54</td>\n      <td>MINDS TRUMAN</td>\n    </tr>\n    <tr>\n      <th>20</th>\n      <td>2005-06-15 00:54:12</td>\n      <td>MUSKETEERS WAIT</td>\n    </tr>\n    <tr>\n      <th>21</th>\n      <td>2005-08-19 09:55:16</td>\n      <td>PATIENT SISTER</td>\n    </tr>\n    <tr>\n      <th>22</th>\n      <td>2005-05-25 11:30:37</td>\n      <td>PATIENT SISTER</td>\n    </tr>\n    <tr>\n      <th>23</th>\n      <td>2005-08-02 15:36:52</td>\n      <td>RACER EGG</td>\n    </tr>\n    <tr>\n      <th>24</th>\n      <td>2005-07-08 07:33:56</td>\n      <td>SATURDAY LAMBS</td>\n    </tr>\n    <tr>\n      <th>25</th>\n      <td>2005-06-18 13:33:59</td>\n      <td>SAVANNAH TOWN</td>\n    </tr>\n    <tr>\n      <th>26</th>\n      <td>2005-07-09 13:24:07</td>\n      <td>SNATCH SLIPPER</td>\n    </tr>\n    <tr>\n      <th>27</th>\n      <td>2005-05-28 10:35:23</td>\n      <td>TALENTED HOMICIDE</td>\n    </tr>\n    <tr>\n      <th>28</th>\n      <td>2005-08-21 23:33:57</td>\n      <td>UNFORGIVEN ZOOLANDER</td>\n    </tr>\n    <tr>\n      <th>29</th>\n      <td>2005-07-28 16:18:23</td>\n      <td>USUAL UNTOUCHABLES</td>\n    </tr>\n    <tr>\n      <th>30</th>\n      <td>2005-07-28 19:20:07</td>\n      <td>WOMEN DORADO</td>\n    </tr>\n    <tr>\n      <th>31</th>\n      <td>2005-06-21 06:24:45</td>\n      <td>YOUTH KICK</td>\n    </tr>\n  </tbody>\n</table>\n</div>"
     },
     "metadata": {},
     "execution_count": 12
    }
   ],
   "source": [
    "sakila = connect_db(\"julien\", \"simplon21\", \"localhost\", \"sakila\")\n",
    "\n",
    "hist = historique(\"smith\",\"mary\",sakila)\n",
    "hist"
   ]
  },
  {
   "source": [
    "4. D’après vous quels seraient les indicateurs graphiques les plus pertinents pour suivre\n",
    "l’évolution du business de location de vidéos ?\n",
    "- Avec Matplotlib et Seaborn rédiger trois fonctions qui vont vous permettre\n",
    "d’afficher les trois graphiques permettant de suivre au mieux la rentabilité de\n",
    "l’affaire."
   ],
   "cell_type": "markdown",
   "metadata": {}
  },
  {
   "source": [],
   "cell_type": "markdown",
   "metadata": {}
  }
 ]
}