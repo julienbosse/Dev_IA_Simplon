{
 "metadata": {
  "language_info": {
   "codemirror_mode": {
    "name": "ipython",
    "version": 3
   },
   "file_extension": ".py",
   "mimetype": "text/x-python",
   "name": "python",
   "nbconvert_exporter": "python",
   "pygments_lexer": "ipython3",
   "version": "3.9.2"
  },
  "orig_nbformat": 2,
  "kernelspec": {
   "name": "python3",
   "display_name": "Python 3.9.2 64-bit (windows store)",
   "metadata": {
    "interpreter": {
     "hash": "573797387f4d626279ccb9a2b9003bf2eb8d8d757dfafe04a876963e5b7976cc"
    }
   }
  }
 },
 "nbformat": 4,
 "nbformat_minor": 2,
 "cells": [
  {
   "source": [
    "## Cours\n",
    "\n",
    "### 1. Tuples"
   ],
   "cell_type": "markdown",
   "metadata": {}
  },
  {
   "cell_type": "code",
   "execution_count": 1,
   "metadata": {},
   "outputs": [
    {
     "output_type": "stream",
     "name": "stdout",
     "text": [
      "<class 'tuple'>\n(1, 'deux', 3, 4, 5)\n"
     ]
    }
   ],
   "source": [
    "# Comme un liste mais immutable, on ne peut modifier, rajouter, supprimer un élément\n",
    "\n",
    "mon_tuple = (1,\"deux\",3,4,5)\n",
    "print(type(mon_tuple))\n",
    "print(mon_tuple)"
   ]
  },
  {
   "cell_type": "code",
   "execution_count": 2,
   "metadata": {},
   "outputs": [
    {
     "output_type": "execute_result",
     "data": {
      "text/plain": [
       "1"
      ]
     },
     "metadata": {},
     "execution_count": 2
    }
   ],
   "source": [
    "mon_tuple[0]"
   ]
  },
  {
   "cell_type": "code",
   "execution_count": 4,
   "metadata": {},
   "outputs": [
    {
     "output_type": "error",
     "ename": "TypeError",
     "evalue": "'tuple' object does not support item assignment",
     "traceback": [
      "\u001b[1;31m---------------------------------------------------------------------------\u001b[0m",
      "\u001b[1;31mTypeError\u001b[0m                                 Traceback (most recent call last)",
      "\u001b[1;32m<ipython-input-4-5a4b944ad511>\u001b[0m in \u001b[0;36m<module>\u001b[1;34m\u001b[0m\n\u001b[1;32m----> 1\u001b[1;33m \u001b[0mmon_tuple\u001b[0m\u001b[1;33m[\u001b[0m\u001b[1;36m2\u001b[0m\u001b[1;33m]\u001b[0m \u001b[1;33m=\u001b[0m \u001b[1;36m2\u001b[0m\u001b[1;33m\u001b[0m\u001b[1;33m\u001b[0m\u001b[0m\n\u001b[0m",
      "\u001b[1;31mTypeError\u001b[0m: 'tuple' object does not support item assignment"
     ]
    }
   ],
   "source": [
    "mon_tuple[2] = 2"
   ]
  },
  {
   "cell_type": "code",
   "execution_count": 6,
   "metadata": {},
   "outputs": [
    {
     "output_type": "stream",
     "name": "stdout",
     "text": [
      "1 2\n3 4\n7 4\n"
     ]
    }
   ],
   "source": [
    "# Assignation multiple\n",
    "\n",
    "(a,b) = (1,2)\n",
    "print(a,b)\n",
    "\n",
    "a,b = (3,4)\n",
    "print(a,b)\n",
    "\n",
    "a = 7\n",
    "print(a,b)\n",
    "\n",
    "# On peut modifier la valeur de la variable mais on peut pas changer de variable\n"
   ]
  },
  {
   "source": [
    "### 2. Dictionnaires"
   ],
   "cell_type": "markdown",
   "metadata": {}
  },
  {
   "cell_type": "code",
   "execution_count": 11,
   "metadata": {},
   "outputs": [
    {
     "output_type": "stream",
     "name": "stdout",
     "text": [
      "{'Anthony': 15, 'Marie': 12, 'Julien': 'absent', 'Mohammad': 9, 'Brahiman': 17}\n"
     ]
    }
   ],
   "source": [
    "# Couples clé : valeur\n",
    "\n",
    "notes_eleves = {\n",
    "    \"Anthony\" : 15,\n",
    "    \"Marie\" : 12,\n",
    "    \"Julien\" : \"absent\",\n",
    "    \"Mohammad\" : 9,\n",
    "    \"Brahiman\" : 17\n",
    "}\n",
    "\n",
    "print(notes_eleves)"
   ]
  },
  {
   "cell_type": "code",
   "execution_count": 12,
   "metadata": {},
   "outputs": [
    {
     "output_type": "stream",
     "name": "stdout",
     "text": [
      "15\n"
     ]
    }
   ],
   "source": [
    "# Permet d'accéder aux valeurs en donnant la clé\n",
    "print(notes_eleves[\"Anthony\"])"
   ]
  },
  {
   "cell_type": "code",
   "execution_count": 13,
   "metadata": {},
   "outputs": [
    {
     "output_type": "stream",
     "name": "stdout",
     "text": [
      "{'Anthony': 15, 'Marie': 12, 'Julien': 14, 'Mohammad': 9, 'Brahiman': 17}\n"
     ]
    }
   ],
   "source": [
    "# Modifier un couple clé:valeur existant\n",
    "notes_eleves[\"Julien\"] = 14\n",
    "print(notes_eleves)"
   ]
  },
  {
   "cell_type": "code",
   "execution_count": 14,
   "metadata": {},
   "outputs": [
    {
     "output_type": "stream",
     "name": "stdout",
     "text": [
      "{'Anthony': 15, 'Marie': 12, 'Julien': 14, 'Mohammad': 9, 'Brahiman': 17, 'Rafik': 'Formateur'}\n"
     ]
    }
   ],
   "source": [
    "# Ajouter un nouveau couple clé:valeur\n",
    "notes_eleves[\"Rafik\"] = \"Formateur\"\n",
    "print(notes_eleves)"
   ]
  },
  {
   "cell_type": "code",
   "execution_count": 15,
   "metadata": {},
   "outputs": [
    {
     "output_type": "stream",
     "name": "stdout",
     "text": [
      "dict_keys(['Anthony', 'Marie', 'Julien', 'Mohammad', 'Brahiman', 'Rafik'])\n"
     ]
    }
   ],
   "source": [
    "# méthode .keys() qui retourne la liste des clés \n",
    "print(notes_eleves.keys())"
   ]
  },
  {
   "cell_type": "code",
   "execution_count": 24,
   "metadata": {},
   "outputs": [
    {
     "output_type": "stream",
     "name": "stdout",
     "text": [
      "Keys:\nAnthony\nMarie\nJulien\nMohammad\nBrahiman\nRafik\n\nValues:\n15\n12\n14\n9\n17\nFormateur\n"
     ]
    }
   ],
   "source": [
    "# itérer sur chaque élément soit par clés-valeur, soit juste par les clés, soit juste par les valeurs\n",
    "print(\"Keys:\")\n",
    "for i in notes_eleves.keys():\n",
    "    print(i)\n",
    "print(\"\\nValues:\")\n",
    "for i in notes_eleves.values():\n",
    "    print(i)"
   ]
  },
  {
   "cell_type": "code",
   "execution_count": 26,
   "metadata": {},
   "outputs": [
    {
     "output_type": "stream",
     "name": "stdout",
     "text": [
      "dict_items([('Anthony', 15), ('Marie', 12), ('Julien', 14), ('Mohammad', 9), ('Brahiman', 17), ('Rafik', 'Formateur')])\n"
     ]
    }
   ],
   "source": [
    "# méthode .items() retourne uneliste et chacun des éléments de la liste est un tuple qui contient le couple clé valeur\n",
    "\n",
    "print(notes_eleves.items())"
   ]
  },
  {
   "cell_type": "code",
   "execution_count": 28,
   "metadata": {},
   "outputs": [
    {
     "output_type": "stream",
     "name": "stdout",
     "text": [
      "Anthony 15\nMarie 12\nJulien 14\nMohammad 9\nBrahiman 17\nRafik Formateur\n"
     ]
    }
   ],
   "source": [
    "for i,j in notes_eleves.items():\n",
    "    print(i,j)"
   ]
  },
  {
   "source": [
    "### 3. Fonctions"
   ],
   "cell_type": "markdown",
   "metadata": {}
  },
  {
   "cell_type": "code",
   "execution_count": 33,
   "metadata": {},
   "outputs": [
    {
     "output_type": "stream",
     "name": "stdout",
     "text": [
      "46.8\n"
     ]
    }
   ],
   "source": [
    "def PrixTTC(prixHT):\n",
    "    TVA = 0.2\n",
    "    return prixHT*(1+TVA)\n",
    "\n",
    "prixHT1 = 18\n",
    "prixHT2 = 21\n",
    "\n",
    "TotalTTC = PrixTTC(prixHT1) + PrixTTC(prixHT2)\n",
    "print(TotalTTC)"
   ]
  },
  {
   "cell_type": "code",
   "execution_count": 37,
   "metadata": {},
   "outputs": [
    {
     "output_type": "stream",
     "name": "stdout",
     "text": [
      "30.4\n46.8\n"
     ]
    }
   ],
   "source": [
    "# Nommer les paramètres\n",
    "def PrixTTC(prixHT,TVA):\n",
    "    return prixHT*(1+TVA)\n",
    "\n",
    "TotalTTC = PrixTTC(18,0.2) + PrixTTC(0.4,21)\n",
    "print(TotalTTC)\n",
    "\n",
    "TotalTTC = PrixTTC(prixHT=18,TVA=0.2) + PrixTTC(TVA=0.2,prixHT=21)\n",
    "print(TotalTTC)"
   ]
  },
  {
   "cell_type": "code",
   "execution_count": 40,
   "metadata": {},
   "outputs": [
    {
     "output_type": "stream",
     "name": "stdout",
     "text": [
      "120.0\n120.0\n110.00000000000001\n110.00000000000001\n110.00000000000001\n"
     ]
    }
   ],
   "source": [
    "# Paramètres par défaut\n",
    "def PrixTTC(prixHT,TVA=0.2):\n",
    "    return prixHT*(1+TVA)\n",
    "\n",
    "# Syntaxe utilisant la valeur par défaut\n",
    "print(PrixTTC(prixHT=100))\n",
    "print(PrixTTC(100))\n",
    "\n",
    "# Syntaxe avec TVA de 10%\n",
    "print(PrixTTC(prixHT=100,TVA=0.1))\n",
    "print(PrixTTC(100,0.1))\n",
    "print(PrixTTC(100,TVA=0.1))"
   ]
  },
  {
   "cell_type": "code",
   "execution_count": 41,
   "metadata": {},
   "outputs": [
    {
     "output_type": "stream",
     "name": "stdout",
     "text": [
      "a : [5, 8]\nb : [5, 8]\nc : [5, 8]\n"
     ]
    }
   ],
   "source": [
    "# Passer et retourner un argument de type liste\n",
    "\n",
    "def test(a):\n",
    "    a[0] = 5\n",
    "    a[1] = 8\n",
    "    print(\"a :\",a)\n",
    "    return a\n",
    "\n",
    "b = [1,2]\n",
    "c = test(b)\n",
    "\n",
    "print(\"b :\",b)\n",
    "print(\"c :\",c)"
   ]
  },
  {
   "source": [
    "## Pratique\n",
    "\n",
    "### 1. Calculer le minimum d'une liste\n",
    "\n",
    "Écrivez une fonction qui reçoit une liste de taille quelconque et qui retourne le plus petit nombre contenu dans cette liste. Testez votre programme sur un exemple. On suppose que la liste n’est pas vide."
   ],
   "cell_type": "markdown",
   "metadata": {}
  },
  {
   "cell_type": "code",
   "execution_count": 89,
   "metadata": {},
   "outputs": [
    {
     "output_type": "stream",
     "name": "stdout",
     "text": [
      "-1\nListe vide\n-1\n"
     ]
    }
   ],
   "source": [
    "\n",
    "def minimum(liste):\n",
    "\n",
    "    try:\n",
    "        min = liste[0]\n",
    "        for i in liste:\n",
    "            if i<min:\n",
    "                min = i\n",
    "    except IndexError:\n",
    "        return \"Liste vide\"\n",
    "\n",
    "    return min\n",
    "\n",
    "def minimum2(liste):\n",
    "\n",
    "    try:\n",
    "        liste.sort()\n",
    "        min = liste[0]\n",
    "    except IndexError:\n",
    "        return \"Liste vide\"\n",
    "\n",
    "    return min\n",
    "\n",
    "print(minimum([1,2,3,4,5,6,7,8,9,10,-1]))\n",
    "print(minimum([]))\n",
    "print(minimum2([1,2,3,4,5,6,7,8,9,10,-1]))"
   ]
  },
  {
   "source": [
    "### 2. Calculer la durée de remboursement d'un prêt\n",
    "\n",
    "Vous voulez acheter un bien immobilier de 200 000 €. Une banque vous propose un taux d’intérêt de 1,2 % par an, soit 0,1 % par mois. Nous oublions les frais d’assurance et de gestion. La question est la suivante : en donnant le montant mensuel de vos remboursements, donnez la durée du prêt en mois et la somme totale des intérêts versés à la banque.\n"
   ],
   "cell_type": "markdown",
   "metadata": {}
  },
  {
   "cell_type": "code",
   "execution_count": 93,
   "metadata": {},
   "outputs": [
    {
     "output_type": "stream",
     "name": "stdout",
     "text": [
      "Durée en mois : 224\nPrix du prêt : 23254.94 €\n"
     ]
    }
   ],
   "source": [
    "def pret(mensualite):\n",
    "\n",
    "    montant = 200000\n",
    "    tauxInterets = 1.2/(12*100)\n",
    "\n",
    "    sommeInterets = 0\n",
    "    duree = 0\n",
    "\n",
    "    while montant > mensualite:\n",
    "\n",
    "        # Calcul de l'interet pour ce mois\n",
    "        interet = montant*tauxInterets\n",
    "\n",
    "        # Calcul du montant du remboursement\n",
    "        remboursement = mensualite - interet\n",
    "\n",
    "        # Calcul du montant restant à rembourser\n",
    "        montant -= remboursement\n",
    "\n",
    "        # Calcul du prix total du pret (somme des interets)\n",
    "        sommeInterets += interet\n",
    "\n",
    "        duree+=1\n",
    "        \n",
    "    duree+=1\n",
    "    return duree, sommeInterets\n",
    "\n",
    "duree, sommeInterets = pret(1000)\n",
    "print(\"Durée en mois :\",duree)\n",
    "print(\"Prix du prêt :\",round(sommeInterets,2), \"€\")"
   ]
  },
  {
   "cell_type": "code",
   "execution_count": null,
   "metadata": {},
   "outputs": [],
   "source": []
  }
 ]
}