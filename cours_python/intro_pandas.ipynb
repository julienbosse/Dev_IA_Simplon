{
 "metadata": {
  "language_info": {
   "codemirror_mode": {
    "name": "ipython",
    "version": 3
   },
   "file_extension": ".py",
   "mimetype": "text/x-python",
   "name": "python",
   "nbconvert_exporter": "python",
   "pygments_lexer": "ipython3",
   "version": "3.8.5"
  },
  "orig_nbformat": 2,
  "kernelspec": {
   "name": "python385jvsc74a57bd04ad1113733ce155ce9cb43bdc3e17679916cd44516b0bf0a5049a72e2a7064d4",
   "display_name": "Python 3.8.5 64-bit ('base': conda)"
  }
 },
 "nbformat": 4,
 "nbformat_minor": 2,
 "cells": [
  {
   "source": [
    "## La bibliothèque Pandas\n",
    "\n",
    "On peut créer un dataframe à partir d'une array NumPy"
   ],
   "cell_type": "markdown",
   "metadata": {}
  },
  {
   "cell_type": "code",
   "execution_count": 4,
   "metadata": {},
   "outputs": [
    {
     "output_type": "execute_result",
     "data": {
      "text/plain": [
       "      A     B    C     D\n",
       "a1  1.1   2.0  3.3   4.0\n",
       "a2  2.7  10.0  5.4   7.0\n",
       "a3  5.3   9.0  1.5  15.0"
      ],
      "text/html": "<div>\n<style scoped>\n    .dataframe tbody tr th:only-of-type {\n        vertical-align: middle;\n    }\n\n    .dataframe tbody tr th {\n        vertical-align: top;\n    }\n\n    .dataframe thead th {\n        text-align: right;\n    }\n</style>\n<table border=\"1\" class=\"dataframe\">\n  <thead>\n    <tr style=\"text-align: right;\">\n      <th></th>\n      <th>A</th>\n      <th>B</th>\n      <th>C</th>\n      <th>D</th>\n    </tr>\n  </thead>\n  <tbody>\n    <tr>\n      <th>a1</th>\n      <td>1.1</td>\n      <td>2.0</td>\n      <td>3.3</td>\n      <td>4.0</td>\n    </tr>\n    <tr>\n      <th>a2</th>\n      <td>2.7</td>\n      <td>10.0</td>\n      <td>5.4</td>\n      <td>7.0</td>\n    </tr>\n    <tr>\n      <th>a3</th>\n      <td>5.3</td>\n      <td>9.0</td>\n      <td>1.5</td>\n      <td>15.0</td>\n    </tr>\n  </tbody>\n</table>\n</div>"
     },
     "metadata": {},
     "execution_count": 4
    }
   ],
   "source": [
    "import pandas as pd \n",
    "import numpy as np \n",
    "\n",
    "ar = np.array([[1.1,2,3.3,4],[2.7,10,5.4,7],[5.3,9,1.5,15]]) \n",
    "df = pd.DataFrame(ar, index=['a1','a2','a3'], columns = ['A','B','C','D'])\n",
    "df\n",
    "\n",
    "# Problème, avec un array toutes les valeurs doivent être de même type."
   ]
  },
  {
   "source": [],
   "cell_type": "markdown",
   "metadata": {}
  }
 ]
}