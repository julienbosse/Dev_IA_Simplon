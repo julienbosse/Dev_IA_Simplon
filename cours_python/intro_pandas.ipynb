{
 "metadata": {
  "language_info": {
   "codemirror_mode": {
    "name": "ipython",
    "version": 3
   },
   "file_extension": ".py",
   "mimetype": "text/x-python",
   "name": "python",
   "nbconvert_exporter": "python",
   "pygments_lexer": "ipython3",
   "version": "3.8.5"
  },
  "orig_nbformat": 2,
  "kernelspec": {
   "name": "python385jvsc74a57bd04ad1113733ce155ce9cb43bdc3e17679916cd44516b0bf0a5049a72e2a7064d4",
   "display_name": "Python 3.8.5 64-bit ('base': conda)"
  }
 },
 "nbformat": 4,
 "nbformat_minor": 2,
 "cells": [
  {
   "source": [
    "## La bibliothèque Pandas\n",
    "\n",
    "On peut créer un dataframe à partir d'une array NumPy"
   ],
   "cell_type": "markdown",
   "metadata": {}
  },
  {
   "cell_type": "code",
   "execution_count": 8,
   "metadata": {},
   "outputs": [
    {
     "output_type": "execute_result",
     "data": {
      "text/plain": [
       "      A     B    C     D\n",
       "a1  1.1   2.0  3.3   4.0\n",
       "a2  2.7  10.0  5.4   7.0\n",
       "a3  5.3   9.0  1.5  15.0"
      ],
      "text/html": "<div>\n<style scoped>\n    .dataframe tbody tr th:only-of-type {\n        vertical-align: middle;\n    }\n\n    .dataframe tbody tr th {\n        vertical-align: top;\n    }\n\n    .dataframe thead th {\n        text-align: right;\n    }\n</style>\n<table border=\"1\" class=\"dataframe\">\n  <thead>\n    <tr style=\"text-align: right;\">\n      <th></th>\n      <th>A</th>\n      <th>B</th>\n      <th>C</th>\n      <th>D</th>\n    </tr>\n  </thead>\n  <tbody>\n    <tr>\n      <th>a1</th>\n      <td>1.1</td>\n      <td>2.0</td>\n      <td>3.3</td>\n      <td>4.0</td>\n    </tr>\n    <tr>\n      <th>a2</th>\n      <td>2.7</td>\n      <td>10.0</td>\n      <td>5.4</td>\n      <td>7.0</td>\n    </tr>\n    <tr>\n      <th>a3</th>\n      <td>5.3</td>\n      <td>9.0</td>\n      <td>1.5</td>\n      <td>15.0</td>\n    </tr>\n  </tbody>\n</table>\n</div>"
     },
     "metadata": {},
     "execution_count": 8
    }
   ],
   "source": [
    "import pandas as pd \n",
    "import numpy as np \n",
    "\n",
    "ar = np.array([[1.1,2,3.3,4],[2.7,10,5.4,7],[5.3,9,1.5,15]]) \n",
    "\n",
    "df = pd.DataFrame(ar, index=['a1','a2','a3'], columns = ['A','B','C','D'])\n",
    "df\n",
    "\n",
    "# Problème, avec un array toutes les valeurs doivent être de même type."
   ]
  },
  {
   "source": [
    "On peut aussi créer le df avec un dictionnaire"
   ],
   "cell_type": "markdown",
   "metadata": {}
  },
  {
   "cell_type": "code",
   "execution_count": 9,
   "metadata": {},
   "outputs": [
    {
     "output_type": "execute_result",
     "data": {
      "text/plain": [
       "    Float  Int   Str\n",
       "a1    1.1    2  mot1\n",
       "a2    2.7   10  mot2\n",
       "a3    5.3    9  mot3"
      ],
      "text/html": "<div>\n<style scoped>\n    .dataframe tbody tr th:only-of-type {\n        vertical-align: middle;\n    }\n\n    .dataframe tbody tr th {\n        vertical-align: top;\n    }\n\n    .dataframe thead th {\n        text-align: right;\n    }\n</style>\n<table border=\"1\" class=\"dataframe\">\n  <thead>\n    <tr style=\"text-align: right;\">\n      <th></th>\n      <th>Float</th>\n      <th>Int</th>\n      <th>Str</th>\n    </tr>\n  </thead>\n  <tbody>\n    <tr>\n      <th>a1</th>\n      <td>1.1</td>\n      <td>2</td>\n      <td>mot1</td>\n    </tr>\n    <tr>\n      <th>a2</th>\n      <td>2.7</td>\n      <td>10</td>\n      <td>mot2</td>\n    </tr>\n    <tr>\n      <th>a3</th>\n      <td>5.3</td>\n      <td>9</td>\n      <td>mot3</td>\n    </tr>\n  </tbody>\n</table>\n</div>"
     },
     "metadata": {},
     "execution_count": 9
    }
   ],
   "source": [
    "dic = {\"Float\": [1.1,2.7,5.3], \"Int\": [2,10,9], \"Str\": [\"mot1\",\"mot2\",\"mot3\"]}\n",
    "\n",
    "df = pd.DataFrame(dic, index = [\"a1\",\"a2\",\"a3\"])\n",
    "df"
   ]
  },
  {
   "source": [
    "## Lire un fichier CSV avec pandas\n",
    "\n",
    "- Importer la librairie pandas\n",
    "- Ustiliser la donction pandas.read_csv() pour lire le fichier \"food_info.csv\"\n",
    "- Utiliser les fonctions type() et print() pour afficher le type de food_info et confirmer qu'il s'agit d'un objet dataframe"
   ],
   "cell_type": "markdown",
   "metadata": {}
  },
  {
   "cell_type": "code",
   "execution_count": 15,
   "metadata": {},
   "outputs": [
    {
     "output_type": "stream",
     "name": "stdout",
     "text": [
      "<class 'pandas.core.frame.DataFrame'>\n\n      NDB_No                   Shrt_Desc  Water_(g)  Energ_Kcal  Protein_(g)  \\\n0       1001            BUTTER WITH SALT      15.87         717         0.85   \n1       1002    BUTTER WHIPPED WITH SALT      15.87         717         0.85   \n2       1003        BUTTER OIL ANHYDROUS       0.24         876         0.28   \n3       1004                 CHEESE BLUE      42.41         353        21.40   \n4       1005                CHEESE BRICK      41.11         371        23.24   \n...      ...                         ...        ...         ...          ...   \n8613   83110             MACKEREL SALTED      43.00         305        18.50   \n8614   90240  SCALLOP (BAY&SEA) CKD STMD      70.25         111        20.54   \n8615   90480                  SYRUP CANE      26.00         269         0.00   \n8616   90560                   SNAIL RAW      79.20          90        16.10   \n8617   93600            TURTLE GREEN RAW      78.50          89        19.80   \n\n      Lipid_Tot_(g)  Ash_(g)  Carbohydrt_(g)  Fiber_TD_(g)  Sugar_Tot_(g)  \\\n0             81.11     2.11            0.06           0.0           0.06   \n1             81.11     2.11            0.06           0.0           0.06   \n2             99.48     0.00            0.00           0.0           0.00   \n3             28.74     5.11            2.34           0.0           0.50   \n4             29.68     3.18            2.79           0.0           0.51   \n...             ...      ...             ...           ...            ...   \n8613          25.10    13.40            0.00           0.0           0.00   \n8614           0.84     2.97            5.41           0.0           0.00   \n8615           0.00     0.86           73.14           0.0          73.20   \n8616           1.40     1.30            2.00           0.0           0.00   \n8617           0.50     1.20            0.00           0.0           0.00   \n\n      ...  Vit_A_IU  Vit_A_RAE  Vit_E_(mg)  Vit_D_mcg  Vit_D_IU  Vit_K_(mcg)  \\\n0     ...    2499.0      684.0        2.32        1.5      60.0          7.0   \n1     ...    2499.0      684.0        2.32        1.5      60.0          7.0   \n2     ...    3069.0      840.0        2.80        1.8      73.0          8.6   \n3     ...     721.0      198.0        0.25        0.5      21.0          2.4   \n4     ...    1080.0      292.0        0.26        0.5      22.0          2.5   \n...   ...       ...        ...         ...        ...       ...          ...   \n8613  ...     157.0       47.0        2.38       25.2    1006.0          7.8   \n8614  ...       5.0        2.0        0.00        0.0       2.0          0.0   \n8615  ...       0.0        0.0        0.00        0.0       0.0          0.0   \n8616  ...     100.0       30.0        5.00        0.0       0.0          0.1   \n8617  ...     100.0       30.0        0.50        0.0       0.0          0.1   \n\n      FA_Sat_(g)  FA_Mono_(g)  FA_Poly_(g)  Cholestrl_(mg)  \n0         51.368       21.021        3.043           215.0  \n1         50.489       23.426        3.012           219.0  \n2         61.924       28.732        3.694           256.0  \n3         18.669        7.778        0.800            75.0  \n4         18.764        8.598        0.784            94.0  \n...          ...          ...          ...             ...  \n8613       7.148        8.320        6.210            95.0  \n8614       0.218        0.082        0.222            41.0  \n8615       0.000        0.000        0.000             0.0  \n8616       0.361        0.259        0.252            50.0  \n8617       0.127        0.088        0.170            50.0  \n\n[8618 rows x 36 columns]\n"
     ]
    }
   ],
   "source": [
    "food_info = pd.read_csv(\"jeux_de_donnees/food_info.csv\")\n",
    "print(type(food_info))\n",
    "print()\n",
    "print(food_info)"
   ]
  },
  {
   "cell_type": "code",
   "execution_count": 14,
   "metadata": {},
   "outputs": [
    {
     "output_type": "execute_result",
     "data": {
      "text/plain": [
       "      NDB_No                   Shrt_Desc  Water_(g)  Energ_Kcal  Protein_(g)  \\\n",
       "0       1001            BUTTER WITH SALT      15.87         717         0.85   \n",
       "1       1002    BUTTER WHIPPED WITH SALT      15.87         717         0.85   \n",
       "2       1003        BUTTER OIL ANHYDROUS       0.24         876         0.28   \n",
       "3       1004                 CHEESE BLUE      42.41         353        21.40   \n",
       "4       1005                CHEESE BRICK      41.11         371        23.24   \n",
       "...      ...                         ...        ...         ...          ...   \n",
       "8613   83110             MACKEREL SALTED      43.00         305        18.50   \n",
       "8614   90240  SCALLOP (BAY&SEA) CKD STMD      70.25         111        20.54   \n",
       "8615   90480                  SYRUP CANE      26.00         269         0.00   \n",
       "8616   90560                   SNAIL RAW      79.20          90        16.10   \n",
       "8617   93600            TURTLE GREEN RAW      78.50          89        19.80   \n",
       "\n",
       "      Lipid_Tot_(g)  Ash_(g)  Carbohydrt_(g)  Fiber_TD_(g)  Sugar_Tot_(g)  \\\n",
       "0             81.11     2.11            0.06           0.0           0.06   \n",
       "1             81.11     2.11            0.06           0.0           0.06   \n",
       "2             99.48     0.00            0.00           0.0           0.00   \n",
       "3             28.74     5.11            2.34           0.0           0.50   \n",
       "4             29.68     3.18            2.79           0.0           0.51   \n",
       "...             ...      ...             ...           ...            ...   \n",
       "8613          25.10    13.40            0.00           0.0           0.00   \n",
       "8614           0.84     2.97            5.41           0.0           0.00   \n",
       "8615           0.00     0.86           73.14           0.0          73.20   \n",
       "8616           1.40     1.30            2.00           0.0           0.00   \n",
       "8617           0.50     1.20            0.00           0.0           0.00   \n",
       "\n",
       "      ...  Vit_A_IU  Vit_A_RAE  Vit_E_(mg)  Vit_D_mcg  Vit_D_IU  Vit_K_(mcg)  \\\n",
       "0     ...    2499.0      684.0        2.32        1.5      60.0          7.0   \n",
       "1     ...    2499.0      684.0        2.32        1.5      60.0          7.0   \n",
       "2     ...    3069.0      840.0        2.80        1.8      73.0          8.6   \n",
       "3     ...     721.0      198.0        0.25        0.5      21.0          2.4   \n",
       "4     ...    1080.0      292.0        0.26        0.5      22.0          2.5   \n",
       "...   ...       ...        ...         ...        ...       ...          ...   \n",
       "8613  ...     157.0       47.0        2.38       25.2    1006.0          7.8   \n",
       "8614  ...       5.0        2.0        0.00        0.0       2.0          0.0   \n",
       "8615  ...       0.0        0.0        0.00        0.0       0.0          0.0   \n",
       "8616  ...     100.0       30.0        5.00        0.0       0.0          0.1   \n",
       "8617  ...     100.0       30.0        0.50        0.0       0.0          0.1   \n",
       "\n",
       "      FA_Sat_(g)  FA_Mono_(g)  FA_Poly_(g)  Cholestrl_(mg)  \n",
       "0         51.368       21.021        3.043           215.0  \n",
       "1         50.489       23.426        3.012           219.0  \n",
       "2         61.924       28.732        3.694           256.0  \n",
       "3         18.669        7.778        0.800            75.0  \n",
       "4         18.764        8.598        0.784            94.0  \n",
       "...          ...          ...          ...             ...  \n",
       "8613       7.148        8.320        6.210            95.0  \n",
       "8614       0.218        0.082        0.222            41.0  \n",
       "8615       0.000        0.000        0.000             0.0  \n",
       "8616       0.361        0.259        0.252            50.0  \n",
       "8617       0.127        0.088        0.170            50.0  \n",
       "\n",
       "[8618 rows x 36 columns]"
      ],
      "text/html": "<div>\n<style scoped>\n    .dataframe tbody tr th:only-of-type {\n        vertical-align: middle;\n    }\n\n    .dataframe tbody tr th {\n        vertical-align: top;\n    }\n\n    .dataframe thead th {\n        text-align: right;\n    }\n</style>\n<table border=\"1\" class=\"dataframe\">\n  <thead>\n    <tr style=\"text-align: right;\">\n      <th></th>\n      <th>NDB_No</th>\n      <th>Shrt_Desc</th>\n      <th>Water_(g)</th>\n      <th>Energ_Kcal</th>\n      <th>Protein_(g)</th>\n      <th>Lipid_Tot_(g)</th>\n      <th>Ash_(g)</th>\n      <th>Carbohydrt_(g)</th>\n      <th>Fiber_TD_(g)</th>\n      <th>Sugar_Tot_(g)</th>\n      <th>...</th>\n      <th>Vit_A_IU</th>\n      <th>Vit_A_RAE</th>\n      <th>Vit_E_(mg)</th>\n      <th>Vit_D_mcg</th>\n      <th>Vit_D_IU</th>\n      <th>Vit_K_(mcg)</th>\n      <th>FA_Sat_(g)</th>\n      <th>FA_Mono_(g)</th>\n      <th>FA_Poly_(g)</th>\n      <th>Cholestrl_(mg)</th>\n    </tr>\n  </thead>\n  <tbody>\n    <tr>\n      <th>0</th>\n      <td>1001</td>\n      <td>BUTTER WITH SALT</td>\n      <td>15.87</td>\n      <td>717</td>\n      <td>0.85</td>\n      <td>81.11</td>\n      <td>2.11</td>\n      <td>0.06</td>\n      <td>0.0</td>\n      <td>0.06</td>\n      <td>...</td>\n      <td>2499.0</td>\n      <td>684.0</td>\n      <td>2.32</td>\n      <td>1.5</td>\n      <td>60.0</td>\n      <td>7.0</td>\n      <td>51.368</td>\n      <td>21.021</td>\n      <td>3.043</td>\n      <td>215.0</td>\n    </tr>\n    <tr>\n      <th>1</th>\n      <td>1002</td>\n      <td>BUTTER WHIPPED WITH SALT</td>\n      <td>15.87</td>\n      <td>717</td>\n      <td>0.85</td>\n      <td>81.11</td>\n      <td>2.11</td>\n      <td>0.06</td>\n      <td>0.0</td>\n      <td>0.06</td>\n      <td>...</td>\n      <td>2499.0</td>\n      <td>684.0</td>\n      <td>2.32</td>\n      <td>1.5</td>\n      <td>60.0</td>\n      <td>7.0</td>\n      <td>50.489</td>\n      <td>23.426</td>\n      <td>3.012</td>\n      <td>219.0</td>\n    </tr>\n    <tr>\n      <th>2</th>\n      <td>1003</td>\n      <td>BUTTER OIL ANHYDROUS</td>\n      <td>0.24</td>\n      <td>876</td>\n      <td>0.28</td>\n      <td>99.48</td>\n      <td>0.00</td>\n      <td>0.00</td>\n      <td>0.0</td>\n      <td>0.00</td>\n      <td>...</td>\n      <td>3069.0</td>\n      <td>840.0</td>\n      <td>2.80</td>\n      <td>1.8</td>\n      <td>73.0</td>\n      <td>8.6</td>\n      <td>61.924</td>\n      <td>28.732</td>\n      <td>3.694</td>\n      <td>256.0</td>\n    </tr>\n    <tr>\n      <th>3</th>\n      <td>1004</td>\n      <td>CHEESE BLUE</td>\n      <td>42.41</td>\n      <td>353</td>\n      <td>21.40</td>\n      <td>28.74</td>\n      <td>5.11</td>\n      <td>2.34</td>\n      <td>0.0</td>\n      <td>0.50</td>\n      <td>...</td>\n      <td>721.0</td>\n      <td>198.0</td>\n      <td>0.25</td>\n      <td>0.5</td>\n      <td>21.0</td>\n      <td>2.4</td>\n      <td>18.669</td>\n      <td>7.778</td>\n      <td>0.800</td>\n      <td>75.0</td>\n    </tr>\n    <tr>\n      <th>4</th>\n      <td>1005</td>\n      <td>CHEESE BRICK</td>\n      <td>41.11</td>\n      <td>371</td>\n      <td>23.24</td>\n      <td>29.68</td>\n      <td>3.18</td>\n      <td>2.79</td>\n      <td>0.0</td>\n      <td>0.51</td>\n      <td>...</td>\n      <td>1080.0</td>\n      <td>292.0</td>\n      <td>0.26</td>\n      <td>0.5</td>\n      <td>22.0</td>\n      <td>2.5</td>\n      <td>18.764</td>\n      <td>8.598</td>\n      <td>0.784</td>\n      <td>94.0</td>\n    </tr>\n    <tr>\n      <th>...</th>\n      <td>...</td>\n      <td>...</td>\n      <td>...</td>\n      <td>...</td>\n      <td>...</td>\n      <td>...</td>\n      <td>...</td>\n      <td>...</td>\n      <td>...</td>\n      <td>...</td>\n      <td>...</td>\n      <td>...</td>\n      <td>...</td>\n      <td>...</td>\n      <td>...</td>\n      <td>...</td>\n      <td>...</td>\n      <td>...</td>\n      <td>...</td>\n      <td>...</td>\n      <td>...</td>\n    </tr>\n    <tr>\n      <th>8613</th>\n      <td>83110</td>\n      <td>MACKEREL SALTED</td>\n      <td>43.00</td>\n      <td>305</td>\n      <td>18.50</td>\n      <td>25.10</td>\n      <td>13.40</td>\n      <td>0.00</td>\n      <td>0.0</td>\n      <td>0.00</td>\n      <td>...</td>\n      <td>157.0</td>\n      <td>47.0</td>\n      <td>2.38</td>\n      <td>25.2</td>\n      <td>1006.0</td>\n      <td>7.8</td>\n      <td>7.148</td>\n      <td>8.320</td>\n      <td>6.210</td>\n      <td>95.0</td>\n    </tr>\n    <tr>\n      <th>8614</th>\n      <td>90240</td>\n      <td>SCALLOP (BAY&amp;SEA) CKD STMD</td>\n      <td>70.25</td>\n      <td>111</td>\n      <td>20.54</td>\n      <td>0.84</td>\n      <td>2.97</td>\n      <td>5.41</td>\n      <td>0.0</td>\n      <td>0.00</td>\n      <td>...</td>\n      <td>5.0</td>\n      <td>2.0</td>\n      <td>0.00</td>\n      <td>0.0</td>\n      <td>2.0</td>\n      <td>0.0</td>\n      <td>0.218</td>\n      <td>0.082</td>\n      <td>0.222</td>\n      <td>41.0</td>\n    </tr>\n    <tr>\n      <th>8615</th>\n      <td>90480</td>\n      <td>SYRUP CANE</td>\n      <td>26.00</td>\n      <td>269</td>\n      <td>0.00</td>\n      <td>0.00</td>\n      <td>0.86</td>\n      <td>73.14</td>\n      <td>0.0</td>\n      <td>73.20</td>\n      <td>...</td>\n      <td>0.0</td>\n      <td>0.0</td>\n      <td>0.00</td>\n      <td>0.0</td>\n      <td>0.0</td>\n      <td>0.0</td>\n      <td>0.000</td>\n      <td>0.000</td>\n      <td>0.000</td>\n      <td>0.0</td>\n    </tr>\n    <tr>\n      <th>8616</th>\n      <td>90560</td>\n      <td>SNAIL RAW</td>\n      <td>79.20</td>\n      <td>90</td>\n      <td>16.10</td>\n      <td>1.40</td>\n      <td>1.30</td>\n      <td>2.00</td>\n      <td>0.0</td>\n      <td>0.00</td>\n      <td>...</td>\n      <td>100.0</td>\n      <td>30.0</td>\n      <td>5.00</td>\n      <td>0.0</td>\n      <td>0.0</td>\n      <td>0.1</td>\n      <td>0.361</td>\n      <td>0.259</td>\n      <td>0.252</td>\n      <td>50.0</td>\n    </tr>\n    <tr>\n      <th>8617</th>\n      <td>93600</td>\n      <td>TURTLE GREEN RAW</td>\n      <td>78.50</td>\n      <td>89</td>\n      <td>19.80</td>\n      <td>0.50</td>\n      <td>1.20</td>\n      <td>0.00</td>\n      <td>0.0</td>\n      <td>0.00</td>\n      <td>...</td>\n      <td>100.0</td>\n      <td>30.0</td>\n      <td>0.50</td>\n      <td>0.0</td>\n      <td>0.0</td>\n      <td>0.1</td>\n      <td>0.127</td>\n      <td>0.088</td>\n      <td>0.170</td>\n      <td>50.0</td>\n    </tr>\n  </tbody>\n</table>\n<p>8618 rows × 36 columns</p>\n</div>"
     },
     "metadata": {},
     "execution_count": 14
    }
   ],
   "source": [
    "food_info"
   ]
  },
  {
   "source": [
    "## Sélectionner une ligne\n",
    "\n",
    "- Assigner la 100e ligne du dataframe food_info à la variable row_100\n",
    "- Afficher le résultat"
   ],
   "cell_type": "markdown",
   "metadata": {}
  },
  {
   "cell_type": "code",
   "execution_count": 27,
   "metadata": {},
   "outputs": [
    {
     "output_type": "stream",
     "name": "stdout",
     "text": [
      "<class 'pandas.core.series.Series'>\n"
     ]
    },
    {
     "output_type": "execute_result",
     "data": {
      "text/plain": [
       "NDB_No                                  1111\n",
       "Shrt_Desc          MILK SHAKES THICK VANILLA\n",
       "Water_(g)                              74.45\n",
       "Energ_Kcal                               112\n",
       "Protein_(g)                             3.86\n",
       "Lipid_Tot_(g)                           3.03\n",
       "Ash_(g)                                 0.91\n",
       "Carbohydrt_(g)                         17.75\n",
       "Fiber_TD_(g)                               0\n",
       "Sugar_Tot_(g)                          17.75\n",
       "Calcium_(mg)                             146\n",
       "Iron_(mg)                                0.1\n",
       "Magnesium_(mg)                            12\n",
       "Phosphorus_(mg)                          115\n",
       "Potassium_(mg)                           183\n",
       "Sodium_(mg)                               95\n",
       "Zinc_(mg)                               0.39\n",
       "Copper_(mg)                            0.051\n",
       "Manganese_(mg)                         0.014\n",
       "Selenium_(mcg)                           2.3\n",
       "Vit_C_(mg)                                 0\n",
       "Thiamin_(mg)                            0.03\n",
       "Riboflavin_(mg)                        0.195\n",
       "Niacin_(mg)                            0.146\n",
       "Vit_B6_(mg)                            0.042\n",
       "Vit_B12_(mcg)                           0.52\n",
       "Vit_A_IU                                  91\n",
       "Vit_A_RAE                                 25\n",
       "Vit_E_(mg)                              0.05\n",
       "Vit_D_mcg                                1.2\n",
       "Vit_D_IU                                  48\n",
       "Vit_K_(mcg)                              0.2\n",
       "FA_Sat_(g)                             1.886\n",
       "FA_Mono_(g)                            0.875\n",
       "FA_Poly_(g)                            0.113\n",
       "Cholestrl_(mg)                            12\n",
       "Name: 99, dtype: object"
      ]
     },
     "metadata": {},
     "execution_count": 27
    }
   ],
   "source": [
    "row_100 = food_info.loc[99]\n",
    "print(type(row_100))\n",
    "row_100"
   ]
  },
  {
   "source": [
    "## Sélectionner plusieurs lignes\n",
    "\n",
    "- Sélectionner les 5 AVANT-dernières lignes de food_info et assigner le résultat à la variable last_rows\n"
   ],
   "cell_type": "markdown",
   "metadata": {}
  },
  {
   "cell_type": "code",
   "execution_count": 30,
   "metadata": {},
   "outputs": [
    {
     "output_type": "stream",
     "name": "stdout",
     "text": [
      "<class 'pandas.core.frame.DataFrame'>\n"
     ]
    },
    {
     "output_type": "execute_result",
     "data": {
      "text/plain": [
       "      NDB_No                   Shrt_Desc  Water_(g)  Energ_Kcal  Protein_(g)  \\\n",
       "8612   80200               FROG LEGS RAW      81.90          73        16.40   \n",
       "8613   83110             MACKEREL SALTED      43.00         305        18.50   \n",
       "8614   90240  SCALLOP (BAY&SEA) CKD STMD      70.25         111        20.54   \n",
       "8615   90480                  SYRUP CANE      26.00         269         0.00   \n",
       "8616   90560                   SNAIL RAW      79.20          90        16.10   \n",
       "\n",
       "      Lipid_Tot_(g)  Ash_(g)  Carbohydrt_(g)  Fiber_TD_(g)  Sugar_Tot_(g)  \\\n",
       "8612           0.30     1.40            0.00           0.0            0.0   \n",
       "8613          25.10    13.40            0.00           0.0            0.0   \n",
       "8614           0.84     2.97            5.41           0.0            0.0   \n",
       "8615           0.00     0.86           73.14           0.0           73.2   \n",
       "8616           1.40     1.30            2.00           0.0            0.0   \n",
       "\n",
       "      ...  Vit_A_IU  Vit_A_RAE  Vit_E_(mg)  Vit_D_mcg  Vit_D_IU  Vit_K_(mcg)  \\\n",
       "8612  ...      50.0       15.0        1.00        0.2       8.0          0.1   \n",
       "8613  ...     157.0       47.0        2.38       25.2    1006.0          7.8   \n",
       "8614  ...       5.0        2.0        0.00        0.0       2.0          0.0   \n",
       "8615  ...       0.0        0.0        0.00        0.0       0.0          0.0   \n",
       "8616  ...     100.0       30.0        5.00        0.0       0.0          0.1   \n",
       "\n",
       "      FA_Sat_(g)  FA_Mono_(g)  FA_Poly_(g)  Cholestrl_(mg)  \n",
       "8612       0.076        0.053        0.102            50.0  \n",
       "8613       7.148        8.320        6.210            95.0  \n",
       "8614       0.218        0.082        0.222            41.0  \n",
       "8615       0.000        0.000        0.000             0.0  \n",
       "8616       0.361        0.259        0.252            50.0  \n",
       "\n",
       "[5 rows x 36 columns]"
      ],
      "text/html": "<div>\n<style scoped>\n    .dataframe tbody tr th:only-of-type {\n        vertical-align: middle;\n    }\n\n    .dataframe tbody tr th {\n        vertical-align: top;\n    }\n\n    .dataframe thead th {\n        text-align: right;\n    }\n</style>\n<table border=\"1\" class=\"dataframe\">\n  <thead>\n    <tr style=\"text-align: right;\">\n      <th></th>\n      <th>NDB_No</th>\n      <th>Shrt_Desc</th>\n      <th>Water_(g)</th>\n      <th>Energ_Kcal</th>\n      <th>Protein_(g)</th>\n      <th>Lipid_Tot_(g)</th>\n      <th>Ash_(g)</th>\n      <th>Carbohydrt_(g)</th>\n      <th>Fiber_TD_(g)</th>\n      <th>Sugar_Tot_(g)</th>\n      <th>...</th>\n      <th>Vit_A_IU</th>\n      <th>Vit_A_RAE</th>\n      <th>Vit_E_(mg)</th>\n      <th>Vit_D_mcg</th>\n      <th>Vit_D_IU</th>\n      <th>Vit_K_(mcg)</th>\n      <th>FA_Sat_(g)</th>\n      <th>FA_Mono_(g)</th>\n      <th>FA_Poly_(g)</th>\n      <th>Cholestrl_(mg)</th>\n    </tr>\n  </thead>\n  <tbody>\n    <tr>\n      <th>8612</th>\n      <td>80200</td>\n      <td>FROG LEGS RAW</td>\n      <td>81.90</td>\n      <td>73</td>\n      <td>16.40</td>\n      <td>0.30</td>\n      <td>1.40</td>\n      <td>0.00</td>\n      <td>0.0</td>\n      <td>0.0</td>\n      <td>...</td>\n      <td>50.0</td>\n      <td>15.0</td>\n      <td>1.00</td>\n      <td>0.2</td>\n      <td>8.0</td>\n      <td>0.1</td>\n      <td>0.076</td>\n      <td>0.053</td>\n      <td>0.102</td>\n      <td>50.0</td>\n    </tr>\n    <tr>\n      <th>8613</th>\n      <td>83110</td>\n      <td>MACKEREL SALTED</td>\n      <td>43.00</td>\n      <td>305</td>\n      <td>18.50</td>\n      <td>25.10</td>\n      <td>13.40</td>\n      <td>0.00</td>\n      <td>0.0</td>\n      <td>0.0</td>\n      <td>...</td>\n      <td>157.0</td>\n      <td>47.0</td>\n      <td>2.38</td>\n      <td>25.2</td>\n      <td>1006.0</td>\n      <td>7.8</td>\n      <td>7.148</td>\n      <td>8.320</td>\n      <td>6.210</td>\n      <td>95.0</td>\n    </tr>\n    <tr>\n      <th>8614</th>\n      <td>90240</td>\n      <td>SCALLOP (BAY&amp;SEA) CKD STMD</td>\n      <td>70.25</td>\n      <td>111</td>\n      <td>20.54</td>\n      <td>0.84</td>\n      <td>2.97</td>\n      <td>5.41</td>\n      <td>0.0</td>\n      <td>0.0</td>\n      <td>...</td>\n      <td>5.0</td>\n      <td>2.0</td>\n      <td>0.00</td>\n      <td>0.0</td>\n      <td>2.0</td>\n      <td>0.0</td>\n      <td>0.218</td>\n      <td>0.082</td>\n      <td>0.222</td>\n      <td>41.0</td>\n    </tr>\n    <tr>\n      <th>8615</th>\n      <td>90480</td>\n      <td>SYRUP CANE</td>\n      <td>26.00</td>\n      <td>269</td>\n      <td>0.00</td>\n      <td>0.00</td>\n      <td>0.86</td>\n      <td>73.14</td>\n      <td>0.0</td>\n      <td>73.2</td>\n      <td>...</td>\n      <td>0.0</td>\n      <td>0.0</td>\n      <td>0.00</td>\n      <td>0.0</td>\n      <td>0.0</td>\n      <td>0.0</td>\n      <td>0.000</td>\n      <td>0.000</td>\n      <td>0.000</td>\n      <td>0.0</td>\n    </tr>\n    <tr>\n      <th>8616</th>\n      <td>90560</td>\n      <td>SNAIL RAW</td>\n      <td>79.20</td>\n      <td>90</td>\n      <td>16.10</td>\n      <td>1.40</td>\n      <td>1.30</td>\n      <td>2.00</td>\n      <td>0.0</td>\n      <td>0.0</td>\n      <td>...</td>\n      <td>100.0</td>\n      <td>30.0</td>\n      <td>5.00</td>\n      <td>0.0</td>\n      <td>0.0</td>\n      <td>0.1</td>\n      <td>0.361</td>\n      <td>0.259</td>\n      <td>0.252</td>\n      <td>50.0</td>\n    </tr>\n  </tbody>\n</table>\n<p>5 rows × 36 columns</p>\n</div>"
     },
     "metadata": {},
     "execution_count": 30
    }
   ],
   "source": [
    "num_rows = food_info.shape[0]\n",
    "last_rows = food_info.loc[num_rows-6:num_rows-2]\n",
    "print(type(last_rows))\n",
    "last_rows"
   ]
  },
  {
   "source": [
    "## Sélectionner une colonne plutot qu'une ligne\n",
    "- Assigner la colonne \"protein_(g)\" à la variable protein\n",
    "- Assigner la conolle \"Cholestrl_(mg)\" à la variable cholesterol\n",
    "- Afficher"
   ],
   "cell_type": "markdown",
   "metadata": {}
  },
  {
   "cell_type": "code",
   "execution_count": 37,
   "metadata": {},
   "outputs": [
    {
     "output_type": "stream",
     "name": "stdout",
     "text": [
      "<class 'pandas.core.series.Series'>\n0        0.85\n1        0.85\n2        0.28\n3       21.40\n4       23.24\n        ...  \n8613    18.50\n8614    20.54\n8615     0.00\n8616    16.10\n8617    19.80\nName: Protein_(g), Length: 8618, dtype: float64 \n\n<class 'pandas.core.series.Series'>\n0       215.0\n1       219.0\n2       256.0\n3        75.0\n4        94.0\n        ...  \n8613     95.0\n8614     41.0\n8615      0.0\n8616     50.0\n8617     50.0\nName: Cholestrl_(mg), Length: 8618, dtype: float64\n"
     ]
    }
   ],
   "source": [
    "protein = food_info[\"Protein_(g)\"]\n",
    "print(type(protein))\n",
    "print(protein,\"\\n\")\n",
    "\n",
    "cholesterol = food_info[\"Cholestrl_(mg)\"]\n",
    "print(type(cholesterol))\n",
    "print(cholesterol)\n",
    "\n",
    "# Pas besoin de .loc"
   ]
  },
  {
   "cell_type": "code",
   "execution_count": null,
   "metadata": {},
   "outputs": [],
   "source": []
  }
 ]
}