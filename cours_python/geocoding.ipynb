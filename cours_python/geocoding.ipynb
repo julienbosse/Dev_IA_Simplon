{
 "metadata": {
  "language_info": {
   "codemirror_mode": {
    "name": "ipython",
    "version": 3
   },
   "file_extension": ".py",
   "mimetype": "text/x-python",
   "name": "python",
   "nbconvert_exporter": "python",
   "pygments_lexer": "ipython3",
   "version": "3.8.5"
  },
  "orig_nbformat": 2,
  "kernelspec": {
   "name": "python385jvsc74a57bd064b474f71659f9be32f34132c3eef93d33d176ead871b80ca6db3fa26bc83f65",
   "display_name": "Python 3.8.5 64-bit ('base': conda)"
  }
 },
 "nbformat": 4,
 "nbformat_minor": 2,
 "cells": [
  {
   "cell_type": "code",
   "execution_count": 37,
   "metadata": {},
   "outputs": [
    {
     "output_type": "execute_result",
     "data": {
      "text/plain": [
       "33.949829"
      ]
     },
     "metadata": {},
     "execution_count": 37
    }
   ],
   "source": [
    "import json\n",
    "import http.client, urllib.parse\n",
    "\n",
    "conn = http.client.HTTPConnection('api.positionstack.com')\n",
    "\n",
    "address = '9527 Amsdell Ave, Whittier, CA 90605'\n",
    "\n",
    "params = urllib.parse.urlencode({\n",
    "    'access_key': 'ebdb53cd8ffbdf290d81f2babdc46a25',\n",
    "    'query': address,\n",
    "    'limit': 1,\n",
    "    })\n",
    "\n",
    "conn.request('GET', '/v1/forward?{}'.format(params))\n",
    "\n",
    "res = conn.getresponse()\n",
    "\n",
    "data = res.read().decode('utf-8')\n",
    "\n",
    "location = json.loads(data)\n",
    "\n",
    "float(location[\"data\"][0][\"latitude\"])\n",
    "\n"
   ]
  },
  {
   "cell_type": "code",
   "execution_count": null,
   "metadata": {},
   "outputs": [],
   "source": []
  }
 ]
}