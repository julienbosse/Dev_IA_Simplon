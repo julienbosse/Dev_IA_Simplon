{
 "metadata": {
  "language_info": {
   "codemirror_mode": {
    "name": "ipython",
    "version": 3
   },
   "file_extension": ".py",
   "mimetype": "text/x-python",
   "name": "python",
   "nbconvert_exporter": "python",
   "pygments_lexer": "ipython3",
   "version": "3.8.5"
  },
  "orig_nbformat": 2,
  "kernelspec": {
   "name": "python3",
   "display_name": "Python 3",
   "language": "python"
  }
 },
 "nbformat": 4,
 "nbformat_minor": 2,
 "cells": [
  {
   "source": [
    "## Suite excercices\n",
    "\n",
    "### 1. Calculer la somme des éléments d’une liste\n",
    "Pour une liste de nombres entiers, donnez la somme de ses éléments. Pour effectuer ce type de calcul, il faut utiliser une variable supplémentaire qui accumule les valeurs dans la liste lors du parcours. Pensez à initialiser cette variable correctement. La liste est de taille quelconque, tenez-en compte dans l’écriture du programme.\n"
   ],
   "cell_type": "markdown",
   "metadata": {}
  },
  {
   "cell_type": "code",
   "execution_count": 5,
   "metadata": {},
   "outputs": [
    {
     "output_type": "stream",
     "name": "stdout",
     "text": [
      "15\n"
     ]
    }
   ],
   "source": [
    "l = [1,2,3,4,5]\n",
    "\n",
    "def sommeListe(liste):\n",
    "    s=0\n",
    "    for i in liste:\n",
    "        s+=i\n",
    "    return s\n",
    "\n",
    "print(sommeListe(l))"
   ]
  },
  {
   "source": [
    "### 2. Répartir les nombres pairs et impairs dans deux listes\n",
    "Étant donné une liste de nombres entiers, répartissez ces éléments dans une liste IMPAIR contenant les nombres impairs et une liste PAIR contenant les nombres pairs. Affichez le résultat. Pour tester si un nombre k est pair, l’expression k%2 vous sera utile.\n"
   ],
   "cell_type": "markdown",
   "metadata": {}
  },
  {
   "cell_type": "code",
   "execution_count": 2,
   "metadata": {},
   "outputs": [
    {
     "output_type": "stream",
     "name": "stdout",
     "text": [
      "[2, 4] [1, 3, 5]\n"
     ]
    }
   ],
   "source": [
    "l = [0,1,2,3,4,5]\n",
    "\n",
    "def repartition(liste):\n",
    "\n",
    "    pair = []\n",
    "    impair = []\n",
    "\n",
    "    for n in liste:\n",
    "        if n==0:\n",
    "            pass\n",
    "        elif n%2==0:\n",
    "            pair.append(n)\n",
    "        else:\n",
    "            impair.append(n)\n",
    "\n",
    "    return pair, impair\n",
    "\n",
    "p,i=repartition(l)\n",
    "print(p,i)"
   ]
  },
  {
   "source": [
    "### 3. Compter les occurences de chaque nombre dans une liste\n",
    "Pour une liste de nombres entiers compris entre 0 et 9, comptez le nombre d’occurrences de chaque nombre dans la liste. Ainsi, pour la liste L = [2, 5, 2, 5, 5, 8], nous avons deux occurrences du chiffre 2, trois occurrences du chiffre 5 et une occurrence du chiffre 8. Deux approches"
   ],
   "cell_type": "markdown",
   "metadata": {}
  },
  {
   "cell_type": "code",
   "execution_count": 8,
   "metadata": {},
   "outputs": [
    {
     "output_type": "stream",
     "name": "stdout",
     "text": [
      "{0: 0, 1: 0, 2: 2, 3: 0, 4: 0, 5: 3, 6: 0, 7: 0, 8: 1, 9: 0}\n"
     ]
    }
   ],
   "source": [
    "# Approche n°1 : Effectuez d’abord une boucle principale sur les nombres recherchés. Ensuite, faites une boucle imbriquée qui compte le nombre d’occurrences de ce nombre dans la liste. S’il apparaît au moins une fois, affichez son nombre d’occurrences.\n",
    "\n",
    "\n",
    "\n",
    "# Approche n°2 : Initialisez une liste avec dix valeurs 0, avec la syntaxe L=[0]*10. Chaque case de cette liste sert à compter le nombre d’occurrences de chaque valeur : 0, 1,…, 9. Ensuite, faites une boucle pour parcourir la liste. Chaque fois que vous lisez une valeur v, augmentez le compteur correspondant. Une fois la liste parcourue, parcourez la liste des comptages et affichez les chiffres qui sont apparus au moins une fois.\n",
    "\n",
    "l = [2, 5, 2, 5, 5, 8]\n",
    "\n",
    "def occurences(liste):\n",
    "\n",
    "    occ = {i: 0 for i in range(10)}\n",
    "\n",
    "    for i in liste:\n",
    "        occ[i]+=1\n",
    "\n",
    "    return occ\n",
    "\n",
    "print(occurences(l))"
   ]
  },
  {
   "source": [
    "### 4. Faire apparaître une texture de grillage\n",
    "Nous vous proposons de faire apparaître la texture suivante composée de caractères X et d’espace"
   ],
   "cell_type": "markdown",
   "metadata": {}
  },
  {
   "cell_type": "code",
   "execution_count": 11,
   "metadata": {},
   "outputs": [
    {
     "output_type": "stream",
     "name": "stdout",
     "text": [
      "X X X X X X X X X X X X X X X X X X X X \nX X X X X X X X X X X X X X X X X X X X \nX X X X X X X X X X X X X X X X X X X X \nX X X X X X X X X X X X X X X X X X X X \nX X X X X X X X X X X X X X X X X X X X \nX X X X X X X X X X X X X X X X X X X X \nX X X X X X X X X X X X X X X X X X X X \nX X X X X X X X X X X X X X X X X X X X \nX X X X X X X X X X X X X X X X X X X X \nX X X X X X X X X X X X X X X X X X X X \n\nX X X X X X X X X X X X X X X X X X X X \n X X X X X X X X X X X X X X X X X X X X\nX X X X X X X X X X X X X X X X X X X X \n X X X X X X X X X X X X X X X X X X X X\nX X X X X X X X X X X X X X X X X X X X \n X X X X X X X X X X X X X X X X X X X X\nX X X X X X X X X X X X X X X X X X X X \n X X X X X X X X X X X X X X X X X X X X\nX X X X X X X X X X X X X X X X X X X X \n X X X X X X X X X X X X X X X X X X X X\n"
     ]
    }
   ],
   "source": [
    "for i in range(10):\n",
    "    for j in range(20):\n",
    "        print(\"X \",end=\"\")\n",
    "    print('')\n",
    "\n",
    "print('')\n",
    "\n",
    "for i in range(10):\n",
    "    for j in range(40):\n",
    "        if (i+j)%2 != 1:\n",
    "            print(\"X\",end=\"\")\n",
    "        else:\n",
    "            print(\" \",end=\"\")\n",
    "    print(\"\")"
   ]
  },
  {
   "source": [
    "### 5. Trouver tous les nombres premiers jusqu’à 100\n",
    "Un nombre est premier s’il est divisible uniquement par 1 et lui-même. Ainsi, on peut dire que le nombre k est premier s’il n’est pas divisible par aucun des nombres compris entre 2 et k-1. Si le nombre k est divisible par la valeur b, cela veut dire que le reste de la division de k par b est nul, soit en langage informatique que l’expression k%b est égale à zéro."
   ],
   "cell_type": "markdown",
   "metadata": {}
  },
  {
   "cell_type": "code",
   "execution_count": 51,
   "metadata": {
    "tags": []
   },
   "outputs": [
    {
     "output_type": "stream",
     "name": "stdout",
     "text": [
      "[2, 3, 5, 7, 11, 13, 17, 19, 23, 29, 31, 37, 41, 43, 47, 53, 59, 61, 67, 71, 73, 79, 83, 89, 97]\n"
     ]
    }
   ],
   "source": [
    "def nombresPremiers(n):\n",
    "    liste = [2,3]\n",
    "    \n",
    "    for i in range(4,n+1):\n",
    "        d = []\n",
    "        for j in range(2,i):\n",
    "            if i%j==0:\n",
    "                d.append(j)\n",
    "                break\n",
    "        if d==[]:\n",
    "            liste.append(i)\n",
    "\n",
    "    \n",
    "    return liste\n",
    "\n",
    "print(nombresPremiers(100))\n"
   ]
  },
  {
   "cell_type": "code",
   "execution_count": null,
   "metadata": {},
   "outputs": [],
   "source": []
  }
 ]
}