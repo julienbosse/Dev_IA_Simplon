{
 "metadata": {
  "language_info": {
   "codemirror_mode": {
    "name": "ipython",
    "version": 3
   },
   "file_extension": ".py",
   "mimetype": "text/x-python",
   "name": "python",
   "nbconvert_exporter": "python",
   "pygments_lexer": "ipython3",
   "version": "3.8.5"
  },
  "orig_nbformat": 2,
  "kernelspec": {
   "name": "python3",
   "display_name": "Python 3",
   "language": "python"
  }
 },
 "nbformat": 4,
 "nbformat_minor": 2,
 "cells": [
  {
   "source": [
    "## Suite excercices\n",
    "\n",
    "### 1. Calculer la somme des éléments d’une liste\n",
    "Pour une liste de nombres entiers, donnez la somme de ses éléments. Pour effectuer ce type de calcul, il faut utiliser une variable supplémentaire qui accumule les valeurs dans la liste lors du parcours. Pensez à initialiser cette variable correctement. La liste est de taille quelconque, tenez-en compte dans l’écriture du programme.\n"
   ],
   "cell_type": "markdown",
   "metadata": {}
  },
  {
   "cell_type": "code",
   "execution_count": 5,
   "metadata": {},
   "outputs": [
    {
     "output_type": "stream",
     "name": "stdout",
     "text": [
      "15\n"
     ]
    }
   ],
   "source": [
    "l = [1,2,3,4,5]\n",
    "\n",
    "def sommeListe(liste):\n",
    "    s=0\n",
    "    for i in liste:\n",
    "        s+=i\n",
    "    return s\n",
    "\n",
    "print(sommeListe(l))"
   ]
  },
  {
   "source": [
    "### 2. Répartir les nombres pairs et impairs dans deux listes\n",
    "Étant donné une liste de nombres entiers, répartissez ces éléments dans une liste IMPAIR contenant les nombres impairs et une liste PAIR contenant les nombres pairs. Affichez le résultat. Pour tester si un nombre k est pair, l’expression k%2 vous sera utile.\n"
   ],
   "cell_type": "markdown",
   "metadata": {}
  },
  {
   "cell_type": "code",
   "execution_count": 2,
   "metadata": {},
   "outputs": [
    {
     "output_type": "stream",
     "name": "stdout",
     "text": [
      "[2, 4] [1, 3, 5]\n"
     ]
    }
   ],
   "source": [
    "l = [0,1,2,3,4,5]\n",
    "\n",
    "def repartition(liste):\n",
    "\n",
    "    pair = []\n",
    "    impair = []\n",
    "\n",
    "    for n in liste:\n",
    "        elif n%2==0:\n",
    "            pair.append(n)\n",
    "        else:\n",
    "            impair.append(n)\n",
    "\n",
    "    return pair, impair\n",
    "\n",
    "p,i=repartition(l)\n",
    "print(p,i)"
   ]
  },
  {
   "source": [
    "### 3. Compter les occurences de chaque nombre dans une liste\n",
    "Pour une liste de nombres entiers compris entre 0 et 9, comptez le nombre d’occurrences de chaque nombre dans la liste. Ainsi, pour la liste L = [2, 5, 2, 5, 5, 8], nous avons deux occurrences du chiffre 2, trois occurrences du chiffre 5 et une occurrence du chiffre 8. Deux approches"
   ],
   "cell_type": "markdown",
   "metadata": {}
  },
  {
   "cell_type": "code",
   "execution_count": 4,
   "metadata": {},
   "outputs": [
    {
     "output_type": "stream",
     "name": "stdout",
     "text": [
      "2 : 2\n5 : 3\n8 : 1\n0\n{0: 0, 1: 0, 2: 2, 3: 0, 4: 0, 5: 3, 6: 0, 7: 0, 8: 1, 9: 0}\n"
     ]
    }
   ],
   "source": [
    "# Approche n°1 : Effectuez d’abord une boucle principale sur les nombres recherchés. Ensuite, faites une boucle imbriquée qui compte le nombre d’occurrences de ce nombre dans la liste. S’il apparaît au moins une fois, affichez son nombre d’occurrences.\n",
    "\n",
    "l = [2, 5, 2, 5, 5, 8]\n",
    "\n",
    "def occurences1(liste):\n",
    "\n",
    "    for n in range(10):\n",
    "        count=0\n",
    "        for i in l:\n",
    "            if i==n:\n",
    "                count+=1\n",
    "        if count:\n",
    "            print(n,\":\", count)\n",
    "\n",
    "    return\n",
    "\n",
    "occurences1(l)\n",
    "\n",
    "# Approche n°2 : Initialisez une liste avec dix valeurs 0, avec la syntaxe L=[0]*10. Chaque case de cette liste sert à compter le nombre d’occurrences de chaque valeur : 0, 1,…, 9. Ensuite, faites une boucle pour parcourir la liste. Chaque fois que vous lisez une valeur v, augmentez le compteur correspondant. Une fois la liste parcourue, parcourez la liste des comptages et affichez les chiffres qui sont apparus au moins une fois.\n",
    "\n",
    "l = [2, 5, 2, 5, 5, 8]\n",
    "\n",
    "def occurences2(liste):\n",
    "\n",
    "    occ = {i: 0 for i in range(10)}\n",
    "\n",
    "    for i in liste:\n",
    "        occ[i]+=1\n",
    "\n",
    "    return occ\n",
    "\n",
    "print(occurences2(l))"
   ]
  },
  {
   "source": [
    "### 4. Faire apparaître une texture de grillage\n",
    "Nous vous proposons de faire apparaître la texture suivante composée de caractères X et d’espace"
   ],
   "cell_type": "markdown",
   "metadata": {}
  },
  {
   "cell_type": "code",
   "execution_count": 45,
   "metadata": {},
   "outputs": [
    {
     "output_type": "stream",
     "name": "stdout",
     "text": [
      "X X X X X X X X X X X X X X X X X X X X \nX X X X X X X X X X X X X X X X X X X X \nX X X X X X X X X X X X X X X X X X X X \nX X X X X X X X X X X X X X X X X X X X \nX X X X X X X X X X X X X X X X X X X X \nX X X X X X X X X X X X X X X X X X X X \nX X X X X X X X X X X X X X X X X X X X \nX X X X X X X X X X X X X X X X X X X X \nX X X X X X X X X X X X X X X X X X X X \nX X X X X X X X X X X X X X X X X X X X \n\n X X X X X X X X X X X X X X X X X X X X\nX X X X X X X X X X X X X X X X X X X X \n X X X X X X X X X X X X X X X X X X X X\nX X X X X X X X X X X X X X X X X X X X \n X X X X X X X X X X X X X X X X X X X X\nX X X X X X X X X X X X X X X X X X X X \n X X X X X X X X X X X X X X X X X X X X\nX X X X X X X X X X X X X X X X X X X X \n X X X X X X X X X X X X X X X X X X X X\nX X X X X X X X X X X X X X X X X X X X \n"
     ]
    }
   ],
   "source": [
    "for i in range(10):\n",
    "    for j in range(20):\n",
    "        print(\"X \",end=\"\")\n",
    "    print('')\n",
    "\n",
    "print('')\n",
    "\n",
    "for i in range(10):\n",
    "    for j in range(40):\n",
    "        if (i+j)%2 != 0:\n",
    "            print(\"X\",end=\"\")\n",
    "        else:\n",
    "            print(\" \",end=\"\")\n",
    "    print(\"\")"
   ]
  },
  {
   "source": [
    "### 5. Trouver tous les nombres premiers jusqu’à 100\n",
    "Un nombre est premier s’il est divisible uniquement par 1 et lui-même. Ainsi, on peut dire que le nombre k est premier s’il n’est pas divisible par aucun des nombres compris entre 2 et k-1. Si le nombre k est divisible par la valeur b, cela veut dire que le reste de la division de k par b est nul, soit en langage informatique que l’expression k%b est égale à zéro."
   ],
   "cell_type": "markdown",
   "metadata": {}
  },
  {
   "cell_type": "code",
   "execution_count": 77,
   "metadata": {
    "tags": []
   },
   "outputs": [
    {
     "output_type": "stream",
     "name": "stdout",
     "text": [
      "[2, 3, 5, 7, 11, 13, 17, 19, 23, 29, 31, 37, 41, 43, 47, 53, 59, 61, 67, 71, 73, 79, 83, 89, 97, 101, 103, 107, 109, 113, 127, 131, 137, 139, 149, 151, 157, 163, 167, 173, 179, 181, 191, 193, 197, 199, 211, 223, 227, 229, 233, 239, 241, 251, 257, 263, 269, 271, 277, 281, 283, 293, 307, 311, 313, 317, 331, 337, 347, 349, 353, 359, 367, 373, 379, 383, 389, 397, 401, 409, 419, 421, 431, 433, 439, 443, 449, 457, 461, 463, 467, 479, 487, 491, 499, 503, 509, 521, 523, 541, 547, 557, 563, 569, 571, 577, 587, 593, 599, 601, 607, 613, 617, 619, 631, 641, 643, 647, 653, 659, 661, 673, 677, 683, 691, 701, 709, 719, 727, 733, 739, 743, 751, 757, 761, 769, 773, 787, 797, 809, 811, 821, 823, 827, 829, 839, 853, 857, 859, 863, 877, 881, 883, 887, 907, 911, 919, 929, 937, 941, 947, 953, 967, 971, 977, 983, 991, 997]\n"
     ]
    }
   ],
   "source": [
    "def nombresPremiers(n):\n",
    "    liste = []\n",
    "    \n",
    "    for i in range(2,n+1):\n",
    "        d = []\n",
    "        for j in range(2,i):\n",
    "            if i%j==0:\n",
    "                d.append(j)\n",
    "                break\n",
    "        if d==[]:\n",
    "            liste.append(i)\n",
    "\n",
    "    \n",
    "    return liste\n",
    "\n",
    "print(nombresPremiers(1000))\n"
   ]
  },
  {
   "source": [
    "### 6. Vérifier si une liste est triée\n",
    "Soit une liste de nombres entiers L = [1, 5, 11, 19, 8, 50, 77]. Vérifiez qu’ils sont placés par ordre croissant de gauche à droite. Pour cela, il faut parcourir la liste et comparer chaque élément à l’élément suivant. Il y a un piège lorsque l’on arrive vers la fin de la liste, à vous de trouver lequel. Lorsque vous trouvez deux éléments qui ne sont pas dans le bon ordre, affichez un message d’erreur."
   ],
   "cell_type": "markdown",
   "metadata": {}
  },
  {
   "cell_type": "code",
   "execution_count": 15,
   "metadata": {},
   "outputs": [
    {
     "output_type": "stream",
     "name": "stdout",
     "text": [
      "La liste est triée\n"
     ]
    }
   ],
   "source": [
    "l = [1, 5, 11, 19, 20, 50, 77]\n",
    "\n",
    "def estTriee(l):\n",
    "\n",
    "    estTriee = 1\n",
    "\n",
    "    for i in range(len(l)-1):\n",
    "        if l[i]>l[i+1]:\n",
    "\n",
    "            estTriee = 0\n",
    "            \n",
    "            break\n",
    "    \n",
    "    return estTriee\n",
    "\n",
    "print(\"La liste est triée\") if estTriee(l) else print(\"La liste n'est pas triée\") # Opérateur ternaire : value_if_true if condition else value_if_false"
   ]
  },
  {
   "source": [
    "### 7. Décaler une liste\n",
    "Pour une liste L donnée, décalez ses éléments d’une case vers la droite et affichez le résultat. Recommencez autant de fois qu’il y a d’éléments dans la liste."
   ],
   "cell_type": "markdown",
   "metadata": {}
  },
  {
   "cell_type": "code",
   "execution_count": 91,
   "metadata": {},
   "outputs": [
    {
     "output_type": "stream",
     "name": "stdout",
     "text": [
      "[0, 1, 2, 3, 4, 5, 6, 7]\n[7, 0, 1, 2, 3, 4, 5, 6]\n[6, 7, 0, 1, 2, 3, 4, 5]\n[5, 6, 7, 0, 1, 2, 3, 4]\n[4, 5, 6, 7, 0, 1, 2, 3]\n[3, 4, 5, 6, 7, 0, 1, 2]\n[2, 3, 4, 5, 6, 7, 0, 1]\n[1, 2, 3, 4, 5, 6, 7, 0]\n"
     ]
    }
   ],
   "source": [
    "def decaler(l):\n",
    "    l = l[-1:]+l[:-1]\n",
    "    # a = l.pop()\n",
    "    # l.insert(0,a)\n",
    "    return l\n",
    "\n",
    "l = [0, 1, 2, 3, 4, 5, 6, 7]\n",
    "\n",
    "for i in l:\n",
    "    print(l)\n",
    "    l = decaler(l)\n"
   ]
  },
  {
   "source": [
    "### 8. Construire un tableau de comparaison\n",
    "À partir de deux listes de nombres entiers, disposées l’une verticalement et l’autre horizontalement, remplissez un tableau indiquant si le nombre présent à gauche sur cette ligne est supérieur, inférieur ou égal au nombre en haut de la colonne."
   ],
   "cell_type": "markdown",
   "metadata": {}
  },
  {
   "cell_type": "code",
   "execution_count": 61,
   "metadata": {},
   "outputs": [
    {
     "output_type": "stream",
     "name": "stdout",
     "text": [
      "     1 15 18 55 60 65 77 80 85 93 99\n  5  >  <  <  <  <  <  <  <  <  <  < \n 15  >  =  <  <  <  <  <  <  <  <  < \n 20  >  >  >  <  <  <  <  <  <  <  < \n 77  >  >  >  >  >  >  =  <  <  <  < \n 98  >  >  >  >  >  >  >  >  >  >  < "
     ]
    }
   ],
   "source": [
    "def comparaison(l1,l2):\n",
    "    print(\"   \",end=\"\")\n",
    "\n",
    "    for n in l1:\n",
    "        print(\"{0:3}\".format(n), end =\"\")\n",
    "\n",
    "    for i in l2 :\n",
    "        print(\"\\n{0:3}\".format(i)+\" \", end =\"\")\n",
    "        for j in l1 :\n",
    "            if i>j:\n",
    "                print(\" > \",end=\"\")\n",
    "            elif i<j:\n",
    "                print(\" < \",end=\"\")\n",
    "            else:\n",
    "                print(\" = \",end=\"\")\n",
    "    return\n",
    "\n",
    "l1 = [1, 15, 18, 55, 60, 65, 77, 80, 85, 93, 99]\n",
    "l2 = [5, 15, 20, 77, 98]\n",
    "comparaison(l1,l2)"
   ]
  },
  {
   "source": [
    "### 9. Fusionner deux listes triées\n",
    "À partir de deux listes de nombres triés, créez une troisième liste triée contenant les valeurs des deux listes données. Voici un exercice difficile. Seulement quelques lignes sont nécessaires pour créer ce programme, mais il n’est pas si simple à mettre en place."
   ],
   "cell_type": "markdown",
   "metadata": {}
  },
  {
   "cell_type": "code",
   "execution_count": 15,
   "metadata": {},
   "outputs": [
    {
     "output_type": "stream",
     "name": "stdout",
     "text": [
      "[1, 2, 3, 4, 4, 6, 7, 8, 9, 10]\n"
     ]
    }
   ],
   "source": [
    "def fusion(l1,l2):\n",
    "\n",
    "    l3 =  []\n",
    "\n",
    "    while l1 != [] and l2 != [] : # Il reste des éléments dans les deux listes\n",
    "        if l1[0]<=l2[0]:\n",
    "            l3.append(l1[0])\n",
    "            l1.remove(l1[0])\n",
    "        elif l1[0]>l2[0]:\n",
    "            l3.append(l2[0])\n",
    "            l2.remove(l2[0])\n",
    "\n",
    "    l3 = l3 + l1 + l2 # Soit l1 est vide, soit l2 est vide, soit les deux, donc on reajoute au cas où il en reste\n",
    "\n",
    "    return l3\n",
    "\n",
    "l1 = [1,2,3,4,7,10]\n",
    "l2 = [4,6,8,9]\n",
    "\n",
    "print(fusion(l1,l2))"
   ]
  },
  {
   "cell_type": "code",
   "execution_count": null,
   "metadata": {},
   "outputs": [],
   "source": []
  }
 ]
}