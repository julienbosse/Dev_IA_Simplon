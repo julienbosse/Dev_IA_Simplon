{
 "metadata": {
  "language_info": {
   "codemirror_mode": {
    "name": "ipython",
    "version": 3
   },
   "file_extension": ".py",
   "mimetype": "text/x-python",
   "name": "python",
   "nbconvert_exporter": "python",
   "pygments_lexer": "ipython3",
   "version": "3.8.5"
  },
  "orig_nbformat": 2,
  "kernelspec": {
   "name": "python385jvsc74a57bd064b474f71659f9be32f34132c3eef93d33d176ead871b80ca6db3fa26bc83f65",
   "display_name": "Python 3.8.5 64-bit ('base': conda)"
  }
 },
 "nbformat": 4,
 "nbformat_minor": 2,
 "cells": [
  {
   "source": [
    "# Seaborn\n",
    "\n",
    "## Importation des données et nettoyage"
   ],
   "cell_type": "markdown",
   "metadata": {}
  },
  {
   "cell_type": "code",
   "execution_count": 7,
   "metadata": {},
   "outputs": [
    {
     "output_type": "stream",
     "name": "stdout",
     "text": [
      "(269731, 14)\n(206152, 14)\n"
     ]
    }
   ],
   "source": [
    "import pandas as pd \n",
    "\n",
    "donnees = pd.read_csv(\"jeux_de_donnees/120-years-of-olympic-history-athletes-and-results.csv\", index_col=[1])\n",
    "\n",
    "# Création du nouveau dataset sans les lignes contenant les valeurs manquantes\n",
    "donnees[\"Medal\"] = donnees[\"Medal\"].fillna(\"None\")\n",
    "donnees_NaN_supprimees = donnees.dropna()\n",
    "donnees_NaN_supprimees = donnees_NaN_supprimees.drop_duplicates()\n",
    "\n",
    "# Création du nouveau dataset avec remplacement des variables par la moyenne\n",
    "moyennes = donnees[[\"Age\", \"Height\", \"Weight\"]].mean()\n",
    "donnees[[\"Age\", \"Height\", \"Weight\"]] = donnees[[\"Age\", \"Height\", \"Weight\"]].fillna(moyennes)\n",
    "donnees_NaN_remplacees = donnees.drop_duplicates()\n",
    "\n",
    "print(donnees_NaN_remplacees.shape)\n",
    "print(donnees_NaN_supprimees.shape)"
   ]
  },
  {
   "cell_type": "code",
   "execution_count": null,
   "metadata": {},
   "outputs": [],
   "source": []
  }
 ]
}