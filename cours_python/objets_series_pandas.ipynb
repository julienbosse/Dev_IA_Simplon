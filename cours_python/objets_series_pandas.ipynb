{
 "metadata": {
  "language_info": {
   "codemirror_mode": {
    "name": "ipython",
    "version": 3
   },
   "file_extension": ".py",
   "mimetype": "text/x-python",
   "name": "python",
   "nbconvert_exporter": "python",
   "pygments_lexer": "ipython3",
   "version": "3.8.5"
  },
  "orig_nbformat": 2,
  "kernelspec": {
   "name": "python385jvsc74a57bd04ad1113733ce155ce9cb43bdc3e17679916cd44516b0bf0a5049a72e2a7064d4",
   "display_name": "Python 3.8.5 64-bit ('base': conda)"
  }
 },
 "nbformat": 4,
 "nbformat_minor": 2,
 "cells": [
  {
   "source": [
    "## Tout sur les objets Series Pandas\n",
    "\n",
    "Types de données d'un objet Series :\n",
    "\n",
    "- Float\n",
    "- Int\n",
    "- Bool\n",
    "- Datetime64[ns] : date et horaire sans time zone\n",
    "- Datetime[ns, tz] : date et horaire avec time zone\n",
    "- Timedelta[ns] : différence de date et horaire (seconde, minute...)\n",
    "- Category : pour les variables catégorielles\n",
    "- Object : chaine de caractère\n",
    "\n",
    "Le fichier \"fandango_score_comparison.csv\" contient les notes critiques de films données par différentes plateforme, ainsi que la note moyenne des utilisateur sur ces plateformes.\n",
    "\n",
    "- RT_norm correspond à la note moyenne des films sur Rotten Toamtoes normalisée de 0 à 5\n",
    "- RT_user_norm corrrespond à la note moyenne des films données par les utilisateurs normalisée de 0 à 5\n",
    "\n",
    "- lire le fichier \"fandango_score_comparison.csv\" dans un dataframe qu'on nommera fandango_score_comparison\n",
    "- Afficher les 2 premières ligues\n"
   ],
   "cell_type": "markdown",
   "metadata": {}
  },
  {
   "cell_type": "code",
   "execution_count": 6,
   "metadata": {},
   "outputs": [
    {
     "output_type": "execute_result",
     "data": {
      "text/plain": [
       "                             FILM  RottenTomatoes  RottenTomatoes_User  \\\n",
       "0  Avengers: Age of Ultron (2015)              74                   86   \n",
       "1               Cinderella (2015)              85                   80   \n",
       "\n",
       "   Metacritic  Metacritic_User  IMDB  Fandango_Stars  Fandango_Ratingvalue  \\\n",
       "0          66              7.1   7.8             5.0                   4.5   \n",
       "1          67              7.5   7.1             5.0                   4.5   \n",
       "\n",
       "   RT_norm  RT_user_norm  ...  IMDB_norm  RT_norm_round  RT_user_norm_round  \\\n",
       "0     3.70           4.3  ...       3.90            3.5                 4.5   \n",
       "1     4.25           4.0  ...       3.55            4.5                 4.0   \n",
       "\n",
       "   Metacritic_norm_round  Metacritic_user_norm_round  IMDB_norm_round  \\\n",
       "0                    3.5                         3.5              4.0   \n",
       "1                    3.5                         4.0              3.5   \n",
       "\n",
       "   Metacritic_user_vote_count  IMDB_user_vote_count  Fandango_votes  \\\n",
       "0                        1330                271107           14846   \n",
       "1                         249                 65709           12640   \n",
       "\n",
       "   Fandango_Difference  \n",
       "0                  0.5  \n",
       "1                  0.5  \n",
       "\n",
       "[2 rows x 22 columns]"
      ],
      "text/html": "<div>\n<style scoped>\n    .dataframe tbody tr th:only-of-type {\n        vertical-align: middle;\n    }\n\n    .dataframe tbody tr th {\n        vertical-align: top;\n    }\n\n    .dataframe thead th {\n        text-align: right;\n    }\n</style>\n<table border=\"1\" class=\"dataframe\">\n  <thead>\n    <tr style=\"text-align: right;\">\n      <th></th>\n      <th>FILM</th>\n      <th>RottenTomatoes</th>\n      <th>RottenTomatoes_User</th>\n      <th>Metacritic</th>\n      <th>Metacritic_User</th>\n      <th>IMDB</th>\n      <th>Fandango_Stars</th>\n      <th>Fandango_Ratingvalue</th>\n      <th>RT_norm</th>\n      <th>RT_user_norm</th>\n      <th>...</th>\n      <th>IMDB_norm</th>\n      <th>RT_norm_round</th>\n      <th>RT_user_norm_round</th>\n      <th>Metacritic_norm_round</th>\n      <th>Metacritic_user_norm_round</th>\n      <th>IMDB_norm_round</th>\n      <th>Metacritic_user_vote_count</th>\n      <th>IMDB_user_vote_count</th>\n      <th>Fandango_votes</th>\n      <th>Fandango_Difference</th>\n    </tr>\n  </thead>\n  <tbody>\n    <tr>\n      <th>0</th>\n      <td>Avengers: Age of Ultron (2015)</td>\n      <td>74</td>\n      <td>86</td>\n      <td>66</td>\n      <td>7.1</td>\n      <td>7.8</td>\n      <td>5.0</td>\n      <td>4.5</td>\n      <td>3.70</td>\n      <td>4.3</td>\n      <td>...</td>\n      <td>3.90</td>\n      <td>3.5</td>\n      <td>4.5</td>\n      <td>3.5</td>\n      <td>3.5</td>\n      <td>4.0</td>\n      <td>1330</td>\n      <td>271107</td>\n      <td>14846</td>\n      <td>0.5</td>\n    </tr>\n    <tr>\n      <th>1</th>\n      <td>Cinderella (2015)</td>\n      <td>85</td>\n      <td>80</td>\n      <td>67</td>\n      <td>7.5</td>\n      <td>7.1</td>\n      <td>5.0</td>\n      <td>4.5</td>\n      <td>4.25</td>\n      <td>4.0</td>\n      <td>...</td>\n      <td>3.55</td>\n      <td>4.5</td>\n      <td>4.0</td>\n      <td>3.5</td>\n      <td>4.0</td>\n      <td>3.5</td>\n      <td>249</td>\n      <td>65709</td>\n      <td>12640</td>\n      <td>0.5</td>\n    </tr>\n  </tbody>\n</table>\n<p>2 rows × 22 columns</p>\n</div>"
     },
     "metadata": {},
     "execution_count": 6
    }
   ],
   "source": [
    "import pandas as pd \n",
    "\n",
    "\n",
    "fandango = pd.read_csv(\"jeux_de_donnees/fandango_score_comparison.csv\")\n",
    "\n",
    "fandango[0:2]\n"
   ]
  },
  {
   "source": [
    "## Indexage avec des entiers\n",
    "\n",
    "- Sélectionner la colonne \"FILM\" et assigner la à la variable series_film puis afficher les 5 premières valeurs\n",
    "- Faire de même avec la colonne \"RottenTomatoes\" et assigner la à la variable series_rt puis afficher les 5 premières valeurs"
   ],
   "cell_type": "markdown",
   "metadata": {}
  },
  {
   "cell_type": "code",
   "execution_count": 11,
   "metadata": {},
   "outputs": [
    {
     "output_type": "stream",
     "name": "stdout",
     "text": [
      "<class 'pandas.core.series.Series'> \n\n0    Avengers: Age of Ultron (2015)\n1                 Cinderella (2015)\n2                    Ant-Man (2015)\n3            Do You Believe? (2015)\n4     Hot Tub Time Machine 2 (2015)\nName: FILM, dtype: object\n"
     ]
    }
   ],
   "source": [
    "series_film = fandango[\"FILM\"]\n",
    "print(type(series_film),'\\n')\n",
    "print(series_film[0:5])"
   ]
  },
  {
   "cell_type": "code",
   "execution_count": 13,
   "metadata": {},
   "outputs": [
    {
     "output_type": "stream",
     "name": "stdout",
     "text": [
      "<class 'pandas.core.series.Series'> \n\n0    74\n1    85\n2    80\n3    18\n4    14\nName: RottenTomatoes, dtype: int64\n"
     ]
    }
   ],
   "source": [
    "series_rt = fandango[\"RottenTomatoes\"]\n",
    "print(type(series_rt),'\\n')\n",
    "print(series_rt[0:5])"
   ]
  },
  {
   "source": [
    "## Personnaliser son indexage\n",
    "\n",
    "- Créer un objet Series qu'on nommera series_custom qui aura un indexe de chaines de caractères (basé sur le nom du film qu'on assignera à la variable film_names) et contiendra toutes notes RottenTomatoes de series_rt qu'on assignera à la variable re_score\n",
    "\n",
    "    - Attention de bien utiliser des listes de valeurs pour nos 2 paramètres de la méthode Series()\n",
    "    - Ne pas oublier d'importer l'objet series_custom\n",
    "    "
   ],
   "cell_type": "markdown",
   "metadata": {}
  },
  {
   "cell_type": "code",
   "execution_count": 14,
   "metadata": {},
   "outputs": [],
   "source": [
    "from pandas import Series"
   ]
  },
  {
   "cell_type": "code",
   "execution_count": 16,
   "metadata": {},
   "outputs": [
    {
     "output_type": "stream",
     "name": "stdout",
     "text": [
      "<class 'numpy.ndarray'>\n<class 'numpy.ndarray'>\n"
     ]
    }
   ],
   "source": [
    "film_names = series_film.values\n",
    "print(type(film_names))\n",
    "rt_scores = series_rt.values\n",
    "print(type(rt_scores))"
   ]
  },
  {
   "cell_type": "code",
   "execution_count": 19,
   "metadata": {},
   "outputs": [
    {
     "output_type": "stream",
     "name": "stdout",
     "text": [
      "<class 'pandas.core.series.Series'> \n\nAvengers: Age of Ultron (2015)                74\nCinderella (2015)                             85\nAnt-Man (2015)                                80\nDo You Believe? (2015)                        18\nHot Tub Time Machine 2 (2015)                 14\n                                            ... \nMr. Holmes (2015)                             87\n'71 (2015)                                    97\nTwo Days, One Night (2014)                    97\nGett: The Trial of Viviane Amsalem (2015)    100\nKumiko, The Treasure Hunter (2015)            87\nLength: 146, dtype: int64\n"
     ]
    }
   ],
   "source": [
    "series_custom = Series(rt_scores, index=film_names)\n",
    "print(type(series_custom),\"\\n\")\n",
    "print(series_custom)"
   ]
  },
  {
   "cell_type": "code",
   "execution_count": 20,
   "metadata": {},
   "outputs": [
    {
     "output_type": "execute_result",
     "data": {
      "text/plain": [
       "Avengers: Age of Ultron (2015)                74\n",
       "Gett: The Trial of Viviane Amsalem (2015)    100\n",
       "dtype: int64"
      ]
     },
     "metadata": {},
     "execution_count": 20
    }
   ],
   "source": [
    "series_custom[[\"Avengers: Age of Ultron (2015)\",\"Gett: The Trial of Viviane Amsalem (2015)\"]]"
   ]
  },
  {
   "source": [
    "## Réindexer un objet Series\n",
    "\n",
    "- Créer la liste original_index contenant l'index actuel à partir de l'attribut index\n",
    "- Tier cet index en utilisant la méthode sorted() et assigner le résultat à la variable sorted_index\n",
    "- Puis appliquer la méthode reindex() à notre Series custom_series afin de réindexer selon l'index sorted_index\n",
    "- Stocker le résultat dans la variable sorted_by_index\n",
    "- Afficher"
   ],
   "cell_type": "markdown",
   "metadata": {}
  },
  {
   "cell_type": "code",
   "execution_count": 23,
   "metadata": {},
   "outputs": [
    {
     "output_type": "stream",
     "name": "stdout",
     "text": [
      "'71 (2015)                          97\n5 Flights Up (2015)                 52\nA Little Chaos (2015)               40\nA Most Violent Year (2014)          90\nAbout Elly (2015)                   97\n                                    ..\nWhat We Do in the Shadows (2015)    96\nWhen Marnie Was There (2015)        89\nWhile We're Young (2015)            83\nWild Tales (2014)                   96\nWoman in Gold (2015)                52\nLength: 146, dtype: int64\n"
     ]
    }
   ],
   "source": [
    "original_index = series_custom.index\n",
    "sorted_index = sorted(original_index)\n",
    "sorted_by_index = series_custom.reindex(sorted_index)\n",
    "\n",
    "print(sorted_by_index)\n"
   ]
  },
  {
   "source": [
    "## Trier un objet Series\n",
    "\n",
    "- Trier la Series series_custom par index en utilisant la méthode sort_index() et assigner le résultat à la variable sc2.\n",
    "\n",
    "- Trier la Series series_custom par par valeurs et assigner le résultat à la variable sc3.\n",
    "\n",
    "- Afficher les 10 premières valeurs\n",
    " "
   ],
   "cell_type": "markdown",
   "metadata": {}
  },
  {
   "cell_type": "code",
   "execution_count": 26,
   "metadata": {},
   "outputs": [
    {
     "output_type": "stream",
     "name": "stdout",
     "text": [
      "'71 (2015)                    97\n5 Flights Up (2015)           52\nA Little Chaos (2015)         40\nA Most Violent Year (2014)    90\nAbout Elly (2015)             97\nAloha (2015)                  19\nAmerican Sniper (2015)        72\nAmerican Ultra (2015)         46\nAmy (2015)                    97\nAnnie (2014)                  27\ndtype: int64 \n\nPaul Blart: Mall Cop 2 (2015)     5\nHitman: Agent 47 (2015)           7\nHot Pursuit (2015)                8\nFantastic Four (2015)             9\nTaken 3 (2015)                    9\nThe Boy Next Door (2015)         10\nThe Loft (2015)                  11\nUnfinished Business (2015)       11\nMortdecai (2015)                 12\nSeventh Son (2015)               12\ndtype: int64\n"
     ]
    }
   ],
   "source": [
    "sc2 = series_custom.sort_index()\n",
    "sc3 = series_custom.sort_values()\n",
    "print(sc2[0:10],\"\\n\")\n",
    "print(sc3[0:10])"
   ]
  },
  {
   "source": [
    "## Transformation de colonnes\n",
    "- Normaliser la Series series_custom (échelle de notes de 0 à 100) pour obtenir une échelle de notes de 0 à 5 en divisant l'objet par 20.\n",
    "- Assigner le nouvel objet Series à la variable series_normalized.\n",
    "- Afficher le résultat."
   ],
   "cell_type": "markdown",
   "metadata": {}
  },
  {
   "source": [
    "## Comparer et filtrer\n",
    "- Assigner à la variable criteria_one le critère des valeurs de series_custom supérieurs à 50.\n",
    "- Assigner à la variable criteria_two le critère des valeurs de series_custom inférieurs à 75.\n",
    "- Retourner un nouvel objet Series filtré qu'on nommera both_criteria qui contient seulement les valeurs pour lesquelles les 2 critères sont vrais.\n",
    "- Afficher ce dernier résultat."
   ],
   "cell_type": "markdown",
   "metadata": {}
  },
  {
   "cell_type": "code",
   "execution_count": 28,
   "metadata": {},
   "outputs": [
    {
     "output_type": "execute_result",
     "data": {
      "text/plain": [
       "Avengers: Age of Ultron (2015)                True\n",
       "Cinderella (2015)                             True\n",
       "Ant-Man (2015)                                True\n",
       "Do You Believe? (2015)                       False\n",
       "Hot Tub Time Machine 2 (2015)                False\n",
       "                                             ...  \n",
       "Mr. Holmes (2015)                             True\n",
       "'71 (2015)                                    True\n",
       "Two Days, One Night (2014)                    True\n",
       "Gett: The Trial of Viviane Amsalem (2015)     True\n",
       "Kumiko, The Treasure Hunter (2015)            True\n",
       "Length: 146, dtype: bool"
      ]
     },
     "metadata": {},
     "execution_count": 28
    }
   ],
   "source": [
    "criteria_one = series_custom > 50\n",
    "criteria_two = series_custom < 75\n",
    "\n",
    "criteria_one"
   ]
  },
  {
   "cell_type": "code",
   "execution_count": 29,
   "metadata": {},
   "outputs": [
    {
     "output_type": "execute_result",
     "data": {
      "text/plain": [
       "Avengers: Age of Ultron (2015)                                            74\n",
       "The Water Diviner (2015)                                                  63\n",
       "Unbroken (2014)                                                           51\n",
       "Southpaw (2015)                                                           59\n",
       "Insidious: Chapter 3 (2015)                                               59\n",
       "The Man From U.N.C.L.E. (2015)                                            68\n",
       "Run All Night (2015)                                                      60\n",
       "5 Flights Up (2015)                                                       52\n",
       "Welcome to Me (2015)                                                      71\n",
       "Saint Laurent (2015)                                                      51\n",
       "Maps to the Stars (2015)                                                  60\n",
       "Pitch Perfect 2 (2015)                                                    67\n",
       "The Age of Adaline (2015)                                                 54\n",
       "The DUFF (2015)                                                           71\n",
       "Ricki and the Flash (2015)                                                64\n",
       "Unfriended (2015)                                                         60\n",
       "American Sniper (2015)                                                    72\n",
       "The Hobbit: The Battle of the Five Armies (2014)                          61\n",
       "Paper Towns (2015)                                                        55\n",
       "Big Eyes (2014)                                                           72\n",
       "Maggie (2015)                                                             54\n",
       "Focus (2015)                                                              57\n",
       "The Second Best Exotic Marigold Hotel (2015)                              62\n",
       "The 100-Year-Old Man Who Climbed Out the Window and Disappeared (2015)    67\n",
       "Escobar: Paradise Lost (2015)                                             52\n",
       "Into the Woods (2014)                                                     71\n",
       "Inherent Vice (2014)                                                      73\n",
       "Magic Mike XXL (2015)                                                     62\n",
       "Woman in Gold (2015)                                                      52\n",
       "The Last Five Years (2015)                                                60\n",
       "Jurassic World (2015)                                                     71\n",
       "Minions (2015)                                                            54\n",
       "Spare Parts (2015)                                                        52\n",
       "dtype: int64"
      ]
     },
     "metadata": {},
     "execution_count": 29
    }
   ],
   "source": [
    "both_criteria = series_custom[criteria_one & criteria_two]\n",
    "both_criteria"
   ]
  },
  {
   "source": [
    "## Alignement des données\n",
    "- Créer la Series rt_critics qui index les valeurs des notes de la colonne RottenTomatoes (notes des critiques) avec comme index le nom des films (colonne FILM).\n",
    "- Créer la Series rt_users qui index les valeurs des notes de la colonne RottenTomatoes_User (note des utilisateurs) avec comme index le nom des films (colonne FILM).\n",
    "- rt_critics et rt_users sont donc 2 objets Series contenant la moyenne des notes des critiques et des utilisateurs pour chaque film.\n",
    "- Puisque chaque Series utilise le même index (correspondant aux noms des films), utiliser des opérations mathématiques pour retourner la moyenne des notes des critiques et des utilisateurs pour chaque film.\n",
    "- Assigner la Series résultante à la variable rt_mean.\n",
    "- Afficher le résultat."
   ],
   "cell_type": "markdown",
   "metadata": {}
  },
  {
   "cell_type": "code",
   "execution_count": 31,
   "metadata": {},
   "outputs": [],
   "source": [
    "rt_critics = Series(fandango[\"RottenTomatoes\"].values, index=fandango[\"FILM\"])\n",
    "rt_users = Series(fandango[\"RottenTomatoes_User\"].values, index=fandango[\"FILM\"])"
   ]
  },
  {
   "cell_type": "code",
   "execution_count": 33,
   "metadata": {},
   "outputs": [
    {
     "output_type": "stream",
     "name": "stdout",
     "text": [
      "FILM\nAvengers: Age of Ultron (2015)               80.0\nCinderella (2015)                            82.5\nAnt-Man (2015)                               85.0\nDo You Believe? (2015)                       51.0\nHot Tub Time Machine 2 (2015)                21.0\n                                             ... \nMr. Holmes (2015)                            82.5\n'71 (2015)                                   89.5\nTwo Days, One Night (2014)                   87.5\nGett: The Trial of Viviane Amsalem (2015)    90.5\nKumiko, The Treasure Hunter (2015)           75.0\nLength: 146, dtype: float64\n"
     ]
    }
   ],
   "source": [
    "rt_mean = (rt_critics + rt_users) / 2\n",
    "print(rt_mean)"
   ]
  },
  {
   "cell_type": "code",
   "execution_count": null,
   "metadata": {},
   "outputs": [],
   "source": []
  }
 ]
}