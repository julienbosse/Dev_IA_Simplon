{
 "metadata": {
  "language_info": {
   "codemirror_mode": {
    "name": "ipython",
    "version": 3
   },
   "file_extension": ".py",
   "mimetype": "text/x-python",
   "name": "python",
   "nbconvert_exporter": "python",
   "pygments_lexer": "ipython3",
   "version": "3.8.5"
  },
  "orig_nbformat": 2,
  "kernelspec": {
   "name": "python385jvsc74a57bd04ad1113733ce155ce9cb43bdc3e17679916cd44516b0bf0a5049a72e2a7064d4",
   "display_name": "Python 3.8.5 64-bit ('base': conda)"
  }
 },
 "nbformat": 4,
 "nbformat_minor": 2,
 "cells": [
  {
   "source": [
    "## Tout sur les objets Series Pandas\n",
    "\n",
    "Types de données d'un objet Series :\n",
    "\n",
    "- Float\n",
    "- Int\n",
    "- Bool\n",
    "- Datetime64[ns] : date et horaire sans time zone\n",
    "- Datetime[ns, tz] : date et horaire avec time zone\n",
    "- Timedelta[ns] : différence de date et horaire (seconde, minute...)\n",
    "- Category : pour les variables catégorielles\n",
    "- Object : chaine de caractère\n",
    "\n",
    "Le fichier \"fandango_score_comparison.csv\" contient les notes critiques de films données par différentes plateforme, ainsi que la note moyenne des utilisateur sur ces plateformes.\n",
    "\n",
    "- RT_norm correspond à la note moyenne des films sur Rotten Toamtoes normalisée de 0 à 5\n",
    "- RT_user_norm corrrespond à la note moyenne des films données par les utilisateurs normalisée de 0 à 5\n",
    "\n",
    "- lire le fichier \"fandango_score_comparison.csv\" dans un dataframe qu'on nommera fandango_score_comparison\n",
    "- Afficher les 2 premières ligues\n"
   ],
   "cell_type": "markdown",
   "metadata": {}
  },
  {
   "cell_type": "code",
   "execution_count": 6,
   "metadata": {},
   "outputs": [
    {
     "output_type": "execute_result",
     "data": {
      "text/plain": [
       "                             FILM  RottenTomatoes  RottenTomatoes_User  \\\n",
       "0  Avengers: Age of Ultron (2015)              74                   86   \n",
       "1               Cinderella (2015)              85                   80   \n",
       "\n",
       "   Metacritic  Metacritic_User  IMDB  Fandango_Stars  Fandango_Ratingvalue  \\\n",
       "0          66              7.1   7.8             5.0                   4.5   \n",
       "1          67              7.5   7.1             5.0                   4.5   \n",
       "\n",
       "   RT_norm  RT_user_norm  ...  IMDB_norm  RT_norm_round  RT_user_norm_round  \\\n",
       "0     3.70           4.3  ...       3.90            3.5                 4.5   \n",
       "1     4.25           4.0  ...       3.55            4.5                 4.0   \n",
       "\n",
       "   Metacritic_norm_round  Metacritic_user_norm_round  IMDB_norm_round  \\\n",
       "0                    3.5                         3.5              4.0   \n",
       "1                    3.5                         4.0              3.5   \n",
       "\n",
       "   Metacritic_user_vote_count  IMDB_user_vote_count  Fandango_votes  \\\n",
       "0                        1330                271107           14846   \n",
       "1                         249                 65709           12640   \n",
       "\n",
       "   Fandango_Difference  \n",
       "0                  0.5  \n",
       "1                  0.5  \n",
       "\n",
       "[2 rows x 22 columns]"
      ],
      "text/html": "<div>\n<style scoped>\n    .dataframe tbody tr th:only-of-type {\n        vertical-align: middle;\n    }\n\n    .dataframe tbody tr th {\n        vertical-align: top;\n    }\n\n    .dataframe thead th {\n        text-align: right;\n    }\n</style>\n<table border=\"1\" class=\"dataframe\">\n  <thead>\n    <tr style=\"text-align: right;\">\n      <th></th>\n      <th>FILM</th>\n      <th>RottenTomatoes</th>\n      <th>RottenTomatoes_User</th>\n      <th>Metacritic</th>\n      <th>Metacritic_User</th>\n      <th>IMDB</th>\n      <th>Fandango_Stars</th>\n      <th>Fandango_Ratingvalue</th>\n      <th>RT_norm</th>\n      <th>RT_user_norm</th>\n      <th>...</th>\n      <th>IMDB_norm</th>\n      <th>RT_norm_round</th>\n      <th>RT_user_norm_round</th>\n      <th>Metacritic_norm_round</th>\n      <th>Metacritic_user_norm_round</th>\n      <th>IMDB_norm_round</th>\n      <th>Metacritic_user_vote_count</th>\n      <th>IMDB_user_vote_count</th>\n      <th>Fandango_votes</th>\n      <th>Fandango_Difference</th>\n    </tr>\n  </thead>\n  <tbody>\n    <tr>\n      <th>0</th>\n      <td>Avengers: Age of Ultron (2015)</td>\n      <td>74</td>\n      <td>86</td>\n      <td>66</td>\n      <td>7.1</td>\n      <td>7.8</td>\n      <td>5.0</td>\n      <td>4.5</td>\n      <td>3.70</td>\n      <td>4.3</td>\n      <td>...</td>\n      <td>3.90</td>\n      <td>3.5</td>\n      <td>4.5</td>\n      <td>3.5</td>\n      <td>3.5</td>\n      <td>4.0</td>\n      <td>1330</td>\n      <td>271107</td>\n      <td>14846</td>\n      <td>0.5</td>\n    </tr>\n    <tr>\n      <th>1</th>\n      <td>Cinderella (2015)</td>\n      <td>85</td>\n      <td>80</td>\n      <td>67</td>\n      <td>7.5</td>\n      <td>7.1</td>\n      <td>5.0</td>\n      <td>4.5</td>\n      <td>4.25</td>\n      <td>4.0</td>\n      <td>...</td>\n      <td>3.55</td>\n      <td>4.5</td>\n      <td>4.0</td>\n      <td>3.5</td>\n      <td>4.0</td>\n      <td>3.5</td>\n      <td>249</td>\n      <td>65709</td>\n      <td>12640</td>\n      <td>0.5</td>\n    </tr>\n  </tbody>\n</table>\n<p>2 rows × 22 columns</p>\n</div>"
     },
     "metadata": {},
     "execution_count": 6
    }
   ],
   "source": [
    "import pandas as pd \n",
    "\n",
    "\n",
    "fandango = pd.read_csv(\"jeux_de_donnees/fandango_score_comparison.csv\")\n",
    "\n",
    "fandango[0:2]\n"
   ]
  },
  {
   "source": [
    "## Indexage avec des entiers\n",
    "\n",
    "- Sélectionner la colonne \"FILM\" et assigner la à la variable series_film puis afficher les 5 premières valeurs\n",
    "- Faire de même avec la colonne \"RottenTomatoes\" et assigner la à la variable series_rt puis afficher les 5 premières valeurs"
   ],
   "cell_type": "markdown",
   "metadata": {}
  },
  {
   "cell_type": "code",
   "execution_count": 11,
   "metadata": {},
   "outputs": [
    {
     "output_type": "stream",
     "name": "stdout",
     "text": [
      "<class 'pandas.core.series.Series'> \n\n0    Avengers: Age of Ultron (2015)\n1                 Cinderella (2015)\n2                    Ant-Man (2015)\n3            Do You Believe? (2015)\n4     Hot Tub Time Machine 2 (2015)\nName: FILM, dtype: object\n"
     ]
    }
   ],
   "source": [
    "series_film = fandango[\"FILM\"]\n",
    "print(type(series_film),'\\n')\n",
    "print(series_film[0:5])"
   ]
  },
  {
   "cell_type": "code",
   "execution_count": null,
   "metadata": {},
   "outputs": [],
   "source": []
  }
 ]
}