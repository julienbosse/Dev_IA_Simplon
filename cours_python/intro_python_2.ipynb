{
 "cells": [
  {
   "cell_type": "code",
   "execution_count": 5,
   "metadata": {},
   "outputs": [
    {
     "name": "stdout",
     "output_type": "stream",
     "text": [
      "o\n",
      "j\n",
      "njou\n",
      "BONJOUR\n",
      "Bonsoir\n",
      "3\n"
     ]
    }
   ],
   "source": [
    "# Donnez les valeurs retournées par chacune des expressions suivantes :\n",
    "\n",
    "A = \"Bonjour\"\n",
    "\n",
    "# Comme sur une liste\n",
    "print( A[1] )\n",
    "print( A[-4] )\n",
    "print( A[2:-1] ) # 'Slicing'\n",
    "\n",
    "# Méthodes sur les chaines de caractères\n",
    "print( A.upper())\n",
    "print( A.replace(\"jour\",\"soir\") )\n",
    "print( A.find(\"jour\") )"
   ]
  },
  {
   "cell_type": "code",
   "execution_count": null,
   "metadata": {},
   "outputs": [],
   "source": []
  }
 ],
 "metadata": {
  "kernelspec": {
   "display_name": "Python 3",
   "language": "python",
   "name": "python3"
  },
  "language_info": {
   "codemirror_mode": {
    "name": "ipython",
    "version": 3
   },
   "file_extension": ".py",
   "mimetype": "text/x-python",
   "name": "python",
   "nbconvert_exporter": "python",
   "pygments_lexer": "ipython3",
   "version": "3.8.5"
  }
 },
 "nbformat": 4,
 "nbformat_minor": 4
}
