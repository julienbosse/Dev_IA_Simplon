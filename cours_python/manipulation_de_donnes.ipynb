{
 "metadata": {
  "language_info": {
   "codemirror_mode": {
    "name": "ipython",
    "version": 3
   },
   "file_extension": ".py",
   "mimetype": "text/x-python",
   "name": "python",
   "nbconvert_exporter": "python",
   "pygments_lexer": "ipython3",
   "version": "3.8.5"
  },
  "orig_nbformat": 2,
  "kernelspec": {
   "name": "python385jvsc74a57bd04ad1113733ce155ce9cb43bdc3e17679916cd44516b0bf0a5049a72e2a7064d4",
   "display_name": "Python 3.8.5 64-bit ('base': conda)"
  }
 },
 "nbformat": 4,
 "nbformat_minor": 2,
 "cells": [
  {
   "source": [
    "## Manipulation de données avec Pandas\n",
    "\n",
    "- Importer la librairie Pandas\n",
    "- Lire le fichier \"food_info.csv\" dans un dataframe food_info\n",
    "- Ustiliser l'attribut Dataframe.columns suivi de la méthode index.tolist() pour retourner une liste dcontenant tous les noms de colonne de food_info.\n",
    "- Assigner la liste résultante\n"
   ],
   "cell_type": "markdown",
   "metadata": {}
  },
  {
   "cell_type": "code",
   "execution_count": 2,
   "metadata": {},
   "outputs": [
    {
     "output_type": "execute_result",
     "data": {
      "text/plain": [
       "      NDB_No                   Shrt_Desc  Water_(g)  Energ_Kcal  Protein_(g)  \\\n",
       "0       1001            BUTTER WITH SALT      15.87         717         0.85   \n",
       "1       1002    BUTTER WHIPPED WITH SALT      15.87         717         0.85   \n",
       "2       1003        BUTTER OIL ANHYDROUS       0.24         876         0.28   \n",
       "3       1004                 CHEESE BLUE      42.41         353        21.40   \n",
       "4       1005                CHEESE BRICK      41.11         371        23.24   \n",
       "...      ...                         ...        ...         ...          ...   \n",
       "8613   83110             MACKEREL SALTED      43.00         305        18.50   \n",
       "8614   90240  SCALLOP (BAY&SEA) CKD STMD      70.25         111        20.54   \n",
       "8615   90480                  SYRUP CANE      26.00         269         0.00   \n",
       "8616   90560                   SNAIL RAW      79.20          90        16.10   \n",
       "8617   93600            TURTLE GREEN RAW      78.50          89        19.80   \n",
       "\n",
       "      Lipid_Tot_(g)  Ash_(g)  Carbohydrt_(g)  Fiber_TD_(g)  Sugar_Tot_(g)  \\\n",
       "0             81.11     2.11            0.06           0.0           0.06   \n",
       "1             81.11     2.11            0.06           0.0           0.06   \n",
       "2             99.48     0.00            0.00           0.0           0.00   \n",
       "3             28.74     5.11            2.34           0.0           0.50   \n",
       "4             29.68     3.18            2.79           0.0           0.51   \n",
       "...             ...      ...             ...           ...            ...   \n",
       "8613          25.10    13.40            0.00           0.0           0.00   \n",
       "8614           0.84     2.97            5.41           0.0           0.00   \n",
       "8615           0.00     0.86           73.14           0.0          73.20   \n",
       "8616           1.40     1.30            2.00           0.0           0.00   \n",
       "8617           0.50     1.20            0.00           0.0           0.00   \n",
       "\n",
       "      ...  Vit_A_IU  Vit_A_RAE  Vit_E_(mg)  Vit_D_mcg  Vit_D_IU  Vit_K_(mcg)  \\\n",
       "0     ...    2499.0      684.0        2.32        1.5      60.0          7.0   \n",
       "1     ...    2499.0      684.0        2.32        1.5      60.0          7.0   \n",
       "2     ...    3069.0      840.0        2.80        1.8      73.0          8.6   \n",
       "3     ...     721.0      198.0        0.25        0.5      21.0          2.4   \n",
       "4     ...    1080.0      292.0        0.26        0.5      22.0          2.5   \n",
       "...   ...       ...        ...         ...        ...       ...          ...   \n",
       "8613  ...     157.0       47.0        2.38       25.2    1006.0          7.8   \n",
       "8614  ...       5.0        2.0        0.00        0.0       2.0          0.0   \n",
       "8615  ...       0.0        0.0        0.00        0.0       0.0          0.0   \n",
       "8616  ...     100.0       30.0        5.00        0.0       0.0          0.1   \n",
       "8617  ...     100.0       30.0        0.50        0.0       0.0          0.1   \n",
       "\n",
       "      FA_Sat_(g)  FA_Mono_(g)  FA_Poly_(g)  Cholestrl_(mg)  \n",
       "0         51.368       21.021        3.043           215.0  \n",
       "1         50.489       23.426        3.012           219.0  \n",
       "2         61.924       28.732        3.694           256.0  \n",
       "3         18.669        7.778        0.800            75.0  \n",
       "4         18.764        8.598        0.784            94.0  \n",
       "...          ...          ...          ...             ...  \n",
       "8613       7.148        8.320        6.210            95.0  \n",
       "8614       0.218        0.082        0.222            41.0  \n",
       "8615       0.000        0.000        0.000             0.0  \n",
       "8616       0.361        0.259        0.252            50.0  \n",
       "8617       0.127        0.088        0.170            50.0  \n",
       "\n",
       "[8618 rows x 36 columns]"
      ],
      "text/html": "<div>\n<style scoped>\n    .dataframe tbody tr th:only-of-type {\n        vertical-align: middle;\n    }\n\n    .dataframe tbody tr th {\n        vertical-align: top;\n    }\n\n    .dataframe thead th {\n        text-align: right;\n    }\n</style>\n<table border=\"1\" class=\"dataframe\">\n  <thead>\n    <tr style=\"text-align: right;\">\n      <th></th>\n      <th>NDB_No</th>\n      <th>Shrt_Desc</th>\n      <th>Water_(g)</th>\n      <th>Energ_Kcal</th>\n      <th>Protein_(g)</th>\n      <th>Lipid_Tot_(g)</th>\n      <th>Ash_(g)</th>\n      <th>Carbohydrt_(g)</th>\n      <th>Fiber_TD_(g)</th>\n      <th>Sugar_Tot_(g)</th>\n      <th>...</th>\n      <th>Vit_A_IU</th>\n      <th>Vit_A_RAE</th>\n      <th>Vit_E_(mg)</th>\n      <th>Vit_D_mcg</th>\n      <th>Vit_D_IU</th>\n      <th>Vit_K_(mcg)</th>\n      <th>FA_Sat_(g)</th>\n      <th>FA_Mono_(g)</th>\n      <th>FA_Poly_(g)</th>\n      <th>Cholestrl_(mg)</th>\n    </tr>\n  </thead>\n  <tbody>\n    <tr>\n      <th>0</th>\n      <td>1001</td>\n      <td>BUTTER WITH SALT</td>\n      <td>15.87</td>\n      <td>717</td>\n      <td>0.85</td>\n      <td>81.11</td>\n      <td>2.11</td>\n      <td>0.06</td>\n      <td>0.0</td>\n      <td>0.06</td>\n      <td>...</td>\n      <td>2499.0</td>\n      <td>684.0</td>\n      <td>2.32</td>\n      <td>1.5</td>\n      <td>60.0</td>\n      <td>7.0</td>\n      <td>51.368</td>\n      <td>21.021</td>\n      <td>3.043</td>\n      <td>215.0</td>\n    </tr>\n    <tr>\n      <th>1</th>\n      <td>1002</td>\n      <td>BUTTER WHIPPED WITH SALT</td>\n      <td>15.87</td>\n      <td>717</td>\n      <td>0.85</td>\n      <td>81.11</td>\n      <td>2.11</td>\n      <td>0.06</td>\n      <td>0.0</td>\n      <td>0.06</td>\n      <td>...</td>\n      <td>2499.0</td>\n      <td>684.0</td>\n      <td>2.32</td>\n      <td>1.5</td>\n      <td>60.0</td>\n      <td>7.0</td>\n      <td>50.489</td>\n      <td>23.426</td>\n      <td>3.012</td>\n      <td>219.0</td>\n    </tr>\n    <tr>\n      <th>2</th>\n      <td>1003</td>\n      <td>BUTTER OIL ANHYDROUS</td>\n      <td>0.24</td>\n      <td>876</td>\n      <td>0.28</td>\n      <td>99.48</td>\n      <td>0.00</td>\n      <td>0.00</td>\n      <td>0.0</td>\n      <td>0.00</td>\n      <td>...</td>\n      <td>3069.0</td>\n      <td>840.0</td>\n      <td>2.80</td>\n      <td>1.8</td>\n      <td>73.0</td>\n      <td>8.6</td>\n      <td>61.924</td>\n      <td>28.732</td>\n      <td>3.694</td>\n      <td>256.0</td>\n    </tr>\n    <tr>\n      <th>3</th>\n      <td>1004</td>\n      <td>CHEESE BLUE</td>\n      <td>42.41</td>\n      <td>353</td>\n      <td>21.40</td>\n      <td>28.74</td>\n      <td>5.11</td>\n      <td>2.34</td>\n      <td>0.0</td>\n      <td>0.50</td>\n      <td>...</td>\n      <td>721.0</td>\n      <td>198.0</td>\n      <td>0.25</td>\n      <td>0.5</td>\n      <td>21.0</td>\n      <td>2.4</td>\n      <td>18.669</td>\n      <td>7.778</td>\n      <td>0.800</td>\n      <td>75.0</td>\n    </tr>\n    <tr>\n      <th>4</th>\n      <td>1005</td>\n      <td>CHEESE BRICK</td>\n      <td>41.11</td>\n      <td>371</td>\n      <td>23.24</td>\n      <td>29.68</td>\n      <td>3.18</td>\n      <td>2.79</td>\n      <td>0.0</td>\n      <td>0.51</td>\n      <td>...</td>\n      <td>1080.0</td>\n      <td>292.0</td>\n      <td>0.26</td>\n      <td>0.5</td>\n      <td>22.0</td>\n      <td>2.5</td>\n      <td>18.764</td>\n      <td>8.598</td>\n      <td>0.784</td>\n      <td>94.0</td>\n    </tr>\n    <tr>\n      <th>...</th>\n      <td>...</td>\n      <td>...</td>\n      <td>...</td>\n      <td>...</td>\n      <td>...</td>\n      <td>...</td>\n      <td>...</td>\n      <td>...</td>\n      <td>...</td>\n      <td>...</td>\n      <td>...</td>\n      <td>...</td>\n      <td>...</td>\n      <td>...</td>\n      <td>...</td>\n      <td>...</td>\n      <td>...</td>\n      <td>...</td>\n      <td>...</td>\n      <td>...</td>\n      <td>...</td>\n    </tr>\n    <tr>\n      <th>8613</th>\n      <td>83110</td>\n      <td>MACKEREL SALTED</td>\n      <td>43.00</td>\n      <td>305</td>\n      <td>18.50</td>\n      <td>25.10</td>\n      <td>13.40</td>\n      <td>0.00</td>\n      <td>0.0</td>\n      <td>0.00</td>\n      <td>...</td>\n      <td>157.0</td>\n      <td>47.0</td>\n      <td>2.38</td>\n      <td>25.2</td>\n      <td>1006.0</td>\n      <td>7.8</td>\n      <td>7.148</td>\n      <td>8.320</td>\n      <td>6.210</td>\n      <td>95.0</td>\n    </tr>\n    <tr>\n      <th>8614</th>\n      <td>90240</td>\n      <td>SCALLOP (BAY&amp;SEA) CKD STMD</td>\n      <td>70.25</td>\n      <td>111</td>\n      <td>20.54</td>\n      <td>0.84</td>\n      <td>2.97</td>\n      <td>5.41</td>\n      <td>0.0</td>\n      <td>0.00</td>\n      <td>...</td>\n      <td>5.0</td>\n      <td>2.0</td>\n      <td>0.00</td>\n      <td>0.0</td>\n      <td>2.0</td>\n      <td>0.0</td>\n      <td>0.218</td>\n      <td>0.082</td>\n      <td>0.222</td>\n      <td>41.0</td>\n    </tr>\n    <tr>\n      <th>8615</th>\n      <td>90480</td>\n      <td>SYRUP CANE</td>\n      <td>26.00</td>\n      <td>269</td>\n      <td>0.00</td>\n      <td>0.00</td>\n      <td>0.86</td>\n      <td>73.14</td>\n      <td>0.0</td>\n      <td>73.20</td>\n      <td>...</td>\n      <td>0.0</td>\n      <td>0.0</td>\n      <td>0.00</td>\n      <td>0.0</td>\n      <td>0.0</td>\n      <td>0.0</td>\n      <td>0.000</td>\n      <td>0.000</td>\n      <td>0.000</td>\n      <td>0.0</td>\n    </tr>\n    <tr>\n      <th>8616</th>\n      <td>90560</td>\n      <td>SNAIL RAW</td>\n      <td>79.20</td>\n      <td>90</td>\n      <td>16.10</td>\n      <td>1.40</td>\n      <td>1.30</td>\n      <td>2.00</td>\n      <td>0.0</td>\n      <td>0.00</td>\n      <td>...</td>\n      <td>100.0</td>\n      <td>30.0</td>\n      <td>5.00</td>\n      <td>0.0</td>\n      <td>0.0</td>\n      <td>0.1</td>\n      <td>0.361</td>\n      <td>0.259</td>\n      <td>0.252</td>\n      <td>50.0</td>\n    </tr>\n    <tr>\n      <th>8617</th>\n      <td>93600</td>\n      <td>TURTLE GREEN RAW</td>\n      <td>78.50</td>\n      <td>89</td>\n      <td>19.80</td>\n      <td>0.50</td>\n      <td>1.20</td>\n      <td>0.00</td>\n      <td>0.0</td>\n      <td>0.00</td>\n      <td>...</td>\n      <td>100.0</td>\n      <td>30.0</td>\n      <td>0.50</td>\n      <td>0.0</td>\n      <td>0.0</td>\n      <td>0.1</td>\n      <td>0.127</td>\n      <td>0.088</td>\n      <td>0.170</td>\n      <td>50.0</td>\n    </tr>\n  </tbody>\n</table>\n<p>8618 rows × 36 columns</p>\n</div>"
     },
     "metadata": {},
     "execution_count": 2
    }
   ],
   "source": [
    "import pandas as pd \n",
    "\n",
    "food_info = pd.read_csv(\"jeux_de_donnees/food_info.csv\")\n",
    "food_info"
   ]
  },
  {
   "source": [
    "## Transformer une colonne\n",
    "- Diviser la colonne \"Sodium_(mg)\" par 1000 pour convertir les mg en g et assigner le résultat à la variable sodium_gram\n",
    "- Mutliplier la colonne \"Sugar_Tot_(g)\" par 1000"
   ],
   "cell_type": "markdown",
   "metadata": {}
  },
  {
   "cell_type": "code",
   "execution_count": 8,
   "metadata": {},
   "outputs": [],
   "source": [
    "sodium_gram = food_info[\"Sodium_(mg)\"] / 1000\n",
    "sugar_milligrams = food_info[\"Sugar_Tot_(g)\"] * 1000"
   ]
  },
  {
   "source": [
    "## Opérations mathématiques entre colonnes\n",
    "\n",
    "- Diviser une colonne par une autre\n",
    "- Additionner les colonnes entre elles\n",
    "...\n"
   ],
   "cell_type": "markdown",
   "metadata": {}
  },
  {
   "cell_type": "code",
   "execution_count": 9,
   "metadata": {},
   "outputs": [
    {
     "output_type": "stream",
     "name": "stdout",
     "text": [
      "0       0.053560\n1       0.053560\n2       1.166667\n3       0.504598\n4       0.565313\n          ...   \n8613    0.430233\n8614    0.292384\n8615    0.000000\n8616    0.203283\n8617    0.252229\nLength: 8618, dtype: float64\n"
     ]
    }
   ],
   "source": [
    "grams_of_prothein_per_gram_of_water = food_info[\"Protein_(g)\"] / food_info[\"Water_(g)\"]\n",
    "milligrams_of_calcium_and_iron = food_info[\"Calcium_(mg)\"] + food_info[\"Iron_(mg)\"]\n",
    "\n",
    "print(grams_of_prothein_per_gram_of_water)"
   ]
  },
  {
   "source": [
    "## Créer un indice nutritionnel\n",
    "\n",
    "Score = 2 * (Protein(g)) - 0.75 * (Lipid Tot (g))\n",
    "\n",
    "- Combinaison linéaire de plusieurs colonnes"
   ],
   "cell_type": "markdown",
   "metadata": {}
  },
  {
   "cell_type": "code",
   "execution_count": 12,
   "metadata": {},
   "outputs": [
    {
     "output_type": "stream",
     "name": "stdout",
     "text": [
      "0      -59.1325\n1      -59.1325\n2      -74.0500\n3       21.2450\n4       24.2200\n         ...   \n8613    18.1750\n8614    40.4500\n8615     0.0000\n8616    31.1500\n8617    39.2250\nLength: 8618, dtype: float64\n"
     ]
    }
   ],
   "source": [
    "rating = food_info[\"Protein_(g)\"] * 2 - (.75 * food_info[\"Lipid_Tot_(g)\"])\n"
   ]
  },
  {
   "source": [
    "## Normaliser les colonnes\n",
    "- Diviser une colonne par son max"
   ],
   "cell_type": "markdown",
   "metadata": {}
  },
  {
   "cell_type": "code",
   "execution_count": 13,
   "metadata": {},
   "outputs": [],
   "source": [
    "normalized_protein = food_info[\"Protein_(g)\"] / food_info[\"Protein_(g)\"].max()\n",
    "normalized_fat = food_info[\"Lipid_Tot_(g)\"] / food_info[\"Lipid_Tot_(g)\"].max()"
   ]
  },
  {
   "cell_type": "code",
   "execution_count": 14,
   "metadata": {},
   "outputs": [
    {
     "output_type": "stream",
     "name": "stdout",
     "text": [
      "0       0.8111\n1       0.8111\n2       0.9948\n3       0.2874\n4       0.2968\n         ...  \n8613    0.2510\n8614    0.0084\n8615    0.0000\n8616    0.0140\n8617    0.0050\nName: Lipid_Tot_(g), Length: 8618, dtype: float64\n"
     ]
    }
   ],
   "source": [
    "print(normalized_fat)"
   ]
  },
  {
   "source": [
    "## Créer une nouvelle colonne\n",
    "- Assigner les précédents résultats à une nouvelle colonne"
   ],
   "cell_type": "markdown",
   "metadata": {}
  },
  {
   "cell_type": "code",
   "execution_count": 18,
   "metadata": {},
   "outputs": [],
   "source": [
    "food_info[\"Norm_Protein\"] = normalized_protein\n",
    "food_info[\"Norm_Fat\"] = normalized_fat"
   ]
  },
  {
   "source": [
    "## Créer une colonne pour l'indice nutritionnel normalisé"
   ],
   "cell_type": "markdown",
   "metadata": {}
  },
  {
   "cell_type": "code",
   "execution_count": 20,
   "metadata": {},
   "outputs": [
    {
     "output_type": "execute_result",
     "data": {
      "text/plain": [
       "      NDB_No                   Shrt_Desc  Water_(g)  Energ_Kcal  Protein_(g)  \\\n",
       "0       1001            BUTTER WITH SALT      15.87         717         0.85   \n",
       "1       1002    BUTTER WHIPPED WITH SALT      15.87         717         0.85   \n",
       "2       1003        BUTTER OIL ANHYDROUS       0.24         876         0.28   \n",
       "3       1004                 CHEESE BLUE      42.41         353        21.40   \n",
       "4       1005                CHEESE BRICK      41.11         371        23.24   \n",
       "...      ...                         ...        ...         ...          ...   \n",
       "8613   83110             MACKEREL SALTED      43.00         305        18.50   \n",
       "8614   90240  SCALLOP (BAY&SEA) CKD STMD      70.25         111        20.54   \n",
       "8615   90480                  SYRUP CANE      26.00         269         0.00   \n",
       "8616   90560                   SNAIL RAW      79.20          90        16.10   \n",
       "8617   93600            TURTLE GREEN RAW      78.50          89        19.80   \n",
       "\n",
       "      Lipid_Tot_(g)  Ash_(g)  Carbohydrt_(g)  Fiber_TD_(g)  Sugar_Tot_(g)  \\\n",
       "0             81.11     2.11            0.06           0.0           0.06   \n",
       "1             81.11     2.11            0.06           0.0           0.06   \n",
       "2             99.48     0.00            0.00           0.0           0.00   \n",
       "3             28.74     5.11            2.34           0.0           0.50   \n",
       "4             29.68     3.18            2.79           0.0           0.51   \n",
       "...             ...      ...             ...           ...            ...   \n",
       "8613          25.10    13.40            0.00           0.0           0.00   \n",
       "8614           0.84     2.97            5.41           0.0           0.00   \n",
       "8615           0.00     0.86           73.14           0.0          73.20   \n",
       "8616           1.40     1.30            2.00           0.0           0.00   \n",
       "8617           0.50     1.20            0.00           0.0           0.00   \n",
       "\n",
       "      ...  Vit_D_IU  Vit_K_(mcg)  FA_Sat_(g)  FA_Mono_(g)  FA_Poly_(g)  \\\n",
       "0     ...      60.0          7.0      51.368       21.021        3.043   \n",
       "1     ...      60.0          7.0      50.489       23.426        3.012   \n",
       "2     ...      73.0          8.6      61.924       28.732        3.694   \n",
       "3     ...      21.0          2.4      18.669        7.778        0.800   \n",
       "4     ...      22.0          2.5      18.764        8.598        0.784   \n",
       "...   ...       ...          ...         ...          ...          ...   \n",
       "8613  ...    1006.0          7.8       7.148        8.320        6.210   \n",
       "8614  ...       2.0          0.0       0.218        0.082        0.222   \n",
       "8615  ...       0.0          0.0       0.000        0.000        0.000   \n",
       "8616  ...       0.0          0.1       0.361        0.259        0.252   \n",
       "8617  ...       0.0          0.1       0.127        0.088        0.170   \n",
       "\n",
       "      Cholestrl_(mg)    Score  Norm_Protein  Norm_Fat  Norm_Nutr_Index  \n",
       "0              215.0 -59.1325      0.009624    0.8111        -0.589077  \n",
       "1              219.0 -59.1325      0.009624    0.8111        -0.589077  \n",
       "2              256.0 -74.0500      0.003170    0.9948        -0.739759  \n",
       "3               75.0  21.2450      0.242301    0.2874         0.269051  \n",
       "4               94.0  24.2200      0.263134    0.2968         0.303668  \n",
       "...              ...      ...           ...       ...              ...  \n",
       "8613            95.0  18.1750      0.209466    0.2510         0.230681  \n",
       "8614            41.0  40.4500      0.232563    0.0084         0.458827  \n",
       "8615             0.0   0.0000      0.000000    0.0000         0.000000  \n",
       "8616            50.0  31.1500      0.182292    0.0140         0.354083  \n",
       "8617            50.0  39.2250      0.224185    0.0050         0.444620  \n",
       "\n",
       "[8618 rows x 40 columns]"
      ],
      "text/html": "<div>\n<style scoped>\n    .dataframe tbody tr th:only-of-type {\n        vertical-align: middle;\n    }\n\n    .dataframe tbody tr th {\n        vertical-align: top;\n    }\n\n    .dataframe thead th {\n        text-align: right;\n    }\n</style>\n<table border=\"1\" class=\"dataframe\">\n  <thead>\n    <tr style=\"text-align: right;\">\n      <th></th>\n      <th>NDB_No</th>\n      <th>Shrt_Desc</th>\n      <th>Water_(g)</th>\n      <th>Energ_Kcal</th>\n      <th>Protein_(g)</th>\n      <th>Lipid_Tot_(g)</th>\n      <th>Ash_(g)</th>\n      <th>Carbohydrt_(g)</th>\n      <th>Fiber_TD_(g)</th>\n      <th>Sugar_Tot_(g)</th>\n      <th>...</th>\n      <th>Vit_D_IU</th>\n      <th>Vit_K_(mcg)</th>\n      <th>FA_Sat_(g)</th>\n      <th>FA_Mono_(g)</th>\n      <th>FA_Poly_(g)</th>\n      <th>Cholestrl_(mg)</th>\n      <th>Score</th>\n      <th>Norm_Protein</th>\n      <th>Norm_Fat</th>\n      <th>Norm_Nutr_Index</th>\n    </tr>\n  </thead>\n  <tbody>\n    <tr>\n      <th>0</th>\n      <td>1001</td>\n      <td>BUTTER WITH SALT</td>\n      <td>15.87</td>\n      <td>717</td>\n      <td>0.85</td>\n      <td>81.11</td>\n      <td>2.11</td>\n      <td>0.06</td>\n      <td>0.0</td>\n      <td>0.06</td>\n      <td>...</td>\n      <td>60.0</td>\n      <td>7.0</td>\n      <td>51.368</td>\n      <td>21.021</td>\n      <td>3.043</td>\n      <td>215.0</td>\n      <td>-59.1325</td>\n      <td>0.009624</td>\n      <td>0.8111</td>\n      <td>-0.589077</td>\n    </tr>\n    <tr>\n      <th>1</th>\n      <td>1002</td>\n      <td>BUTTER WHIPPED WITH SALT</td>\n      <td>15.87</td>\n      <td>717</td>\n      <td>0.85</td>\n      <td>81.11</td>\n      <td>2.11</td>\n      <td>0.06</td>\n      <td>0.0</td>\n      <td>0.06</td>\n      <td>...</td>\n      <td>60.0</td>\n      <td>7.0</td>\n      <td>50.489</td>\n      <td>23.426</td>\n      <td>3.012</td>\n      <td>219.0</td>\n      <td>-59.1325</td>\n      <td>0.009624</td>\n      <td>0.8111</td>\n      <td>-0.589077</td>\n    </tr>\n    <tr>\n      <th>2</th>\n      <td>1003</td>\n      <td>BUTTER OIL ANHYDROUS</td>\n      <td>0.24</td>\n      <td>876</td>\n      <td>0.28</td>\n      <td>99.48</td>\n      <td>0.00</td>\n      <td>0.00</td>\n      <td>0.0</td>\n      <td>0.00</td>\n      <td>...</td>\n      <td>73.0</td>\n      <td>8.6</td>\n      <td>61.924</td>\n      <td>28.732</td>\n      <td>3.694</td>\n      <td>256.0</td>\n      <td>-74.0500</td>\n      <td>0.003170</td>\n      <td>0.9948</td>\n      <td>-0.739759</td>\n    </tr>\n    <tr>\n      <th>3</th>\n      <td>1004</td>\n      <td>CHEESE BLUE</td>\n      <td>42.41</td>\n      <td>353</td>\n      <td>21.40</td>\n      <td>28.74</td>\n      <td>5.11</td>\n      <td>2.34</td>\n      <td>0.0</td>\n      <td>0.50</td>\n      <td>...</td>\n      <td>21.0</td>\n      <td>2.4</td>\n      <td>18.669</td>\n      <td>7.778</td>\n      <td>0.800</td>\n      <td>75.0</td>\n      <td>21.2450</td>\n      <td>0.242301</td>\n      <td>0.2874</td>\n      <td>0.269051</td>\n    </tr>\n    <tr>\n      <th>4</th>\n      <td>1005</td>\n      <td>CHEESE BRICK</td>\n      <td>41.11</td>\n      <td>371</td>\n      <td>23.24</td>\n      <td>29.68</td>\n      <td>3.18</td>\n      <td>2.79</td>\n      <td>0.0</td>\n      <td>0.51</td>\n      <td>...</td>\n      <td>22.0</td>\n      <td>2.5</td>\n      <td>18.764</td>\n      <td>8.598</td>\n      <td>0.784</td>\n      <td>94.0</td>\n      <td>24.2200</td>\n      <td>0.263134</td>\n      <td>0.2968</td>\n      <td>0.303668</td>\n    </tr>\n    <tr>\n      <th>...</th>\n      <td>...</td>\n      <td>...</td>\n      <td>...</td>\n      <td>...</td>\n      <td>...</td>\n      <td>...</td>\n      <td>...</td>\n      <td>...</td>\n      <td>...</td>\n      <td>...</td>\n      <td>...</td>\n      <td>...</td>\n      <td>...</td>\n      <td>...</td>\n      <td>...</td>\n      <td>...</td>\n      <td>...</td>\n      <td>...</td>\n      <td>...</td>\n      <td>...</td>\n      <td>...</td>\n    </tr>\n    <tr>\n      <th>8613</th>\n      <td>83110</td>\n      <td>MACKEREL SALTED</td>\n      <td>43.00</td>\n      <td>305</td>\n      <td>18.50</td>\n      <td>25.10</td>\n      <td>13.40</td>\n      <td>0.00</td>\n      <td>0.0</td>\n      <td>0.00</td>\n      <td>...</td>\n      <td>1006.0</td>\n      <td>7.8</td>\n      <td>7.148</td>\n      <td>8.320</td>\n      <td>6.210</td>\n      <td>95.0</td>\n      <td>18.1750</td>\n      <td>0.209466</td>\n      <td>0.2510</td>\n      <td>0.230681</td>\n    </tr>\n    <tr>\n      <th>8614</th>\n      <td>90240</td>\n      <td>SCALLOP (BAY&amp;SEA) CKD STMD</td>\n      <td>70.25</td>\n      <td>111</td>\n      <td>20.54</td>\n      <td>0.84</td>\n      <td>2.97</td>\n      <td>5.41</td>\n      <td>0.0</td>\n      <td>0.00</td>\n      <td>...</td>\n      <td>2.0</td>\n      <td>0.0</td>\n      <td>0.218</td>\n      <td>0.082</td>\n      <td>0.222</td>\n      <td>41.0</td>\n      <td>40.4500</td>\n      <td>0.232563</td>\n      <td>0.0084</td>\n      <td>0.458827</td>\n    </tr>\n    <tr>\n      <th>8615</th>\n      <td>90480</td>\n      <td>SYRUP CANE</td>\n      <td>26.00</td>\n      <td>269</td>\n      <td>0.00</td>\n      <td>0.00</td>\n      <td>0.86</td>\n      <td>73.14</td>\n      <td>0.0</td>\n      <td>73.20</td>\n      <td>...</td>\n      <td>0.0</td>\n      <td>0.0</td>\n      <td>0.000</td>\n      <td>0.000</td>\n      <td>0.000</td>\n      <td>0.0</td>\n      <td>0.0000</td>\n      <td>0.000000</td>\n      <td>0.0000</td>\n      <td>0.000000</td>\n    </tr>\n    <tr>\n      <th>8616</th>\n      <td>90560</td>\n      <td>SNAIL RAW</td>\n      <td>79.20</td>\n      <td>90</td>\n      <td>16.10</td>\n      <td>1.40</td>\n      <td>1.30</td>\n      <td>2.00</td>\n      <td>0.0</td>\n      <td>0.00</td>\n      <td>...</td>\n      <td>0.0</td>\n      <td>0.1</td>\n      <td>0.361</td>\n      <td>0.259</td>\n      <td>0.252</td>\n      <td>50.0</td>\n      <td>31.1500</td>\n      <td>0.182292</td>\n      <td>0.0140</td>\n      <td>0.354083</td>\n    </tr>\n    <tr>\n      <th>8617</th>\n      <td>93600</td>\n      <td>TURTLE GREEN RAW</td>\n      <td>78.50</td>\n      <td>89</td>\n      <td>19.80</td>\n      <td>0.50</td>\n      <td>1.20</td>\n      <td>0.00</td>\n      <td>0.0</td>\n      <td>0.00</td>\n      <td>...</td>\n      <td>0.0</td>\n      <td>0.1</td>\n      <td>0.127</td>\n      <td>0.088</td>\n      <td>0.170</td>\n      <td>50.0</td>\n      <td>39.2250</td>\n      <td>0.224185</td>\n      <td>0.0050</td>\n      <td>0.444620</td>\n    </tr>\n  </tbody>\n</table>\n<p>8618 rows × 40 columns</p>\n</div>"
     },
     "metadata": {},
     "execution_count": 20
    }
   ],
   "source": [
    "food_info[\"Norm_Nutr_Index\"] = 2 * food_info[\"Norm_Protein\"] - 0.75 * food_info[\"Norm_Fat\"]\n",
    "food_info"
   ]
  },
  {
   "source": [
    "## Trier un DataFrame\n",
    "- Remplacer le dataframe food_info en triant par rapport à la colonne Norm_Nutr_index de façon décroissante"
   ],
   "cell_type": "markdown",
   "metadata": {}
  },
  {
   "cell_type": "code",
   "execution_count": 23,
   "metadata": {},
   "outputs": [
    {
     "output_type": "execute_result",
     "data": {
      "text/plain": [
       "      NDB_No                                          Shrt_Desc  Water_(g)  \\\n",
       "4991   16423           SOY PROT ISOLATE K TYPE CRUDE PROT BASIS       4.98   \n",
       "6155   19177                           GELATINS DRY PDR UNSWTND      13.00   \n",
       "216     1258             EGG WHITE DRIED STABILIZED GLUCOSE RED       6.53   \n",
       "124     1136         EGG WHITE DRIED PDR STABILIZED GLUCOSE RED       8.54   \n",
       "8152   35055   SEAL BEARDED (OOGRUK) MEAT DRIED (ALASKA NATIVE)      11.60   \n",
       "...      ...                                                ...        ...   \n",
       "741     4646                               OIL INDUSTRIAL COCNT       0.00   \n",
       "740     4645  OIL INDUS CANOLA (PART HYDROG) OIL FOR DEEP FA...       0.00   \n",
       "739     4644  OIL INDUSTRIAL CANOLA FOR SALADS WOKS & LT FRYING       0.00   \n",
       "738     4643         OIL INDUSTRIAL CANOLA W/ ANTIFOAMING AGENT       0.00   \n",
       "750     4656          OIL INDUSTRIAL PALM KERNEL CONFECTION FAT       0.05   \n",
       "\n",
       "      Energ_Kcal  Protein_(g)  Lipid_Tot_(g)  Ash_(g)  Carbohydrt_(g)  \\\n",
       "4991         321        88.32           0.53     3.58            2.59   \n",
       "6155         335        85.60           0.10     1.30            0.00   \n",
       "216          362        84.63           0.48     3.63            4.72   \n",
       "124          376        82.40           0.04     4.55            4.47   \n",
       "8152         351        82.60           2.30     3.50            0.00   \n",
       "...          ...          ...            ...      ...             ...   \n",
       "741          884         0.00         100.00     0.00            0.00   \n",
       "740          884         0.00         100.00     0.00            0.00   \n",
       "739          884         0.00         100.00     0.00            0.00   \n",
       "738          884         0.00         100.00     0.00            0.00   \n",
       "750          884         0.00         100.00     0.01            0.00   \n",
       "\n",
       "      Fiber_TD_(g)  Sugar_Tot_(g)  ...  Vit_D_IU  Vit_K_(mcg)  FA_Sat_(g)  \\\n",
       "4991           2.0            0.0  ...       0.0          0.0       0.066   \n",
       "6155           0.0            0.0  ...       0.0          0.0       0.070   \n",
       "216            0.0            0.0  ...       0.0          0.0       0.147   \n",
       "124            0.0            0.0  ...       0.0          0.0       0.000   \n",
       "8152           0.0            0.0  ...       NaN          NaN       0.600   \n",
       "...            ...            ...  ...       ...          ...         ...   \n",
       "741            0.0            0.0  ...       NaN          0.5      86.002   \n",
       "740            0.0            0.0  ...       NaN         71.3      10.117   \n",
       "739            0.0            0.0  ...       NaN         71.3       7.758   \n",
       "738            0.0            0.0  ...       NaN        122.0       7.615   \n",
       "750            0.0            0.0  ...       NaN         24.7      87.558   \n",
       "\n",
       "      FA_Mono_(g)  FA_Poly_(g)  Cholestrl_(mg)     Score  Norm_Protein  \\\n",
       "4991        0.101        0.258             0.0  176.2425      1.000000   \n",
       "6155        0.060        0.010             0.0  171.1250      0.969203   \n",
       "216         0.173        0.070            20.0  168.9000      0.958220   \n",
       "124         0.000        0.000             0.0  164.7700      0.932971   \n",
       "8152        1.330        0.370             NaN  163.4750      0.935236   \n",
       "...           ...          ...             ...       ...           ...   \n",
       "741         5.935        1.657             0.0  -75.0000      0.000000   \n",
       "740        71.075       14.038             0.0  -75.0000      0.000000   \n",
       "739        61.150       26.397             0.0  -75.0000      0.000000   \n",
       "738        62.093       25.588             0.0  -75.0000      0.000000   \n",
       "750         5.406        0.834             0.0  -75.0000      0.000000   \n",
       "\n",
       "      Norm_Fat  Norm_Nutr_Index  \n",
       "4991    0.0053         1.996025  \n",
       "6155    0.0010         1.937656  \n",
       "216     0.0048         1.912840  \n",
       "124     0.0004         1.865642  \n",
       "8152    0.0230         1.853221  \n",
       "...        ...              ...  \n",
       "741     1.0000        -0.750000  \n",
       "740     1.0000        -0.750000  \n",
       "739     1.0000        -0.750000  \n",
       "738     1.0000        -0.750000  \n",
       "750     1.0000        -0.750000  \n",
       "\n",
       "[8618 rows x 40 columns]"
      ],
      "text/html": "<div>\n<style scoped>\n    .dataframe tbody tr th:only-of-type {\n        vertical-align: middle;\n    }\n\n    .dataframe tbody tr th {\n        vertical-align: top;\n    }\n\n    .dataframe thead th {\n        text-align: right;\n    }\n</style>\n<table border=\"1\" class=\"dataframe\">\n  <thead>\n    <tr style=\"text-align: right;\">\n      <th></th>\n      <th>NDB_No</th>\n      <th>Shrt_Desc</th>\n      <th>Water_(g)</th>\n      <th>Energ_Kcal</th>\n      <th>Protein_(g)</th>\n      <th>Lipid_Tot_(g)</th>\n      <th>Ash_(g)</th>\n      <th>Carbohydrt_(g)</th>\n      <th>Fiber_TD_(g)</th>\n      <th>Sugar_Tot_(g)</th>\n      <th>...</th>\n      <th>Vit_D_IU</th>\n      <th>Vit_K_(mcg)</th>\n      <th>FA_Sat_(g)</th>\n      <th>FA_Mono_(g)</th>\n      <th>FA_Poly_(g)</th>\n      <th>Cholestrl_(mg)</th>\n      <th>Score</th>\n      <th>Norm_Protein</th>\n      <th>Norm_Fat</th>\n      <th>Norm_Nutr_Index</th>\n    </tr>\n  </thead>\n  <tbody>\n    <tr>\n      <th>4991</th>\n      <td>16423</td>\n      <td>SOY PROT ISOLATE K TYPE CRUDE PROT BASIS</td>\n      <td>4.98</td>\n      <td>321</td>\n      <td>88.32</td>\n      <td>0.53</td>\n      <td>3.58</td>\n      <td>2.59</td>\n      <td>2.0</td>\n      <td>0.0</td>\n      <td>...</td>\n      <td>0.0</td>\n      <td>0.0</td>\n      <td>0.066</td>\n      <td>0.101</td>\n      <td>0.258</td>\n      <td>0.0</td>\n      <td>176.2425</td>\n      <td>1.000000</td>\n      <td>0.0053</td>\n      <td>1.996025</td>\n    </tr>\n    <tr>\n      <th>6155</th>\n      <td>19177</td>\n      <td>GELATINS DRY PDR UNSWTND</td>\n      <td>13.00</td>\n      <td>335</td>\n      <td>85.60</td>\n      <td>0.10</td>\n      <td>1.30</td>\n      <td>0.00</td>\n      <td>0.0</td>\n      <td>0.0</td>\n      <td>...</td>\n      <td>0.0</td>\n      <td>0.0</td>\n      <td>0.070</td>\n      <td>0.060</td>\n      <td>0.010</td>\n      <td>0.0</td>\n      <td>171.1250</td>\n      <td>0.969203</td>\n      <td>0.0010</td>\n      <td>1.937656</td>\n    </tr>\n    <tr>\n      <th>216</th>\n      <td>1258</td>\n      <td>EGG WHITE DRIED STABILIZED GLUCOSE RED</td>\n      <td>6.53</td>\n      <td>362</td>\n      <td>84.63</td>\n      <td>0.48</td>\n      <td>3.63</td>\n      <td>4.72</td>\n      <td>0.0</td>\n      <td>0.0</td>\n      <td>...</td>\n      <td>0.0</td>\n      <td>0.0</td>\n      <td>0.147</td>\n      <td>0.173</td>\n      <td>0.070</td>\n      <td>20.0</td>\n      <td>168.9000</td>\n      <td>0.958220</td>\n      <td>0.0048</td>\n      <td>1.912840</td>\n    </tr>\n    <tr>\n      <th>124</th>\n      <td>1136</td>\n      <td>EGG WHITE DRIED PDR STABILIZED GLUCOSE RED</td>\n      <td>8.54</td>\n      <td>376</td>\n      <td>82.40</td>\n      <td>0.04</td>\n      <td>4.55</td>\n      <td>4.47</td>\n      <td>0.0</td>\n      <td>0.0</td>\n      <td>...</td>\n      <td>0.0</td>\n      <td>0.0</td>\n      <td>0.000</td>\n      <td>0.000</td>\n      <td>0.000</td>\n      <td>0.0</td>\n      <td>164.7700</td>\n      <td>0.932971</td>\n      <td>0.0004</td>\n      <td>1.865642</td>\n    </tr>\n    <tr>\n      <th>8152</th>\n      <td>35055</td>\n      <td>SEAL BEARDED (OOGRUK) MEAT DRIED (ALASKA NATIVE)</td>\n      <td>11.60</td>\n      <td>351</td>\n      <td>82.60</td>\n      <td>2.30</td>\n      <td>3.50</td>\n      <td>0.00</td>\n      <td>0.0</td>\n      <td>0.0</td>\n      <td>...</td>\n      <td>NaN</td>\n      <td>NaN</td>\n      <td>0.600</td>\n      <td>1.330</td>\n      <td>0.370</td>\n      <td>NaN</td>\n      <td>163.4750</td>\n      <td>0.935236</td>\n      <td>0.0230</td>\n      <td>1.853221</td>\n    </tr>\n    <tr>\n      <th>...</th>\n      <td>...</td>\n      <td>...</td>\n      <td>...</td>\n      <td>...</td>\n      <td>...</td>\n      <td>...</td>\n      <td>...</td>\n      <td>...</td>\n      <td>...</td>\n      <td>...</td>\n      <td>...</td>\n      <td>...</td>\n      <td>...</td>\n      <td>...</td>\n      <td>...</td>\n      <td>...</td>\n      <td>...</td>\n      <td>...</td>\n      <td>...</td>\n      <td>...</td>\n      <td>...</td>\n    </tr>\n    <tr>\n      <th>741</th>\n      <td>4646</td>\n      <td>OIL INDUSTRIAL COCNT</td>\n      <td>0.00</td>\n      <td>884</td>\n      <td>0.00</td>\n      <td>100.00</td>\n      <td>0.00</td>\n      <td>0.00</td>\n      <td>0.0</td>\n      <td>0.0</td>\n      <td>...</td>\n      <td>NaN</td>\n      <td>0.5</td>\n      <td>86.002</td>\n      <td>5.935</td>\n      <td>1.657</td>\n      <td>0.0</td>\n      <td>-75.0000</td>\n      <td>0.000000</td>\n      <td>1.0000</td>\n      <td>-0.750000</td>\n    </tr>\n    <tr>\n      <th>740</th>\n      <td>4645</td>\n      <td>OIL INDUS CANOLA (PART HYDROG) OIL FOR DEEP FA...</td>\n      <td>0.00</td>\n      <td>884</td>\n      <td>0.00</td>\n      <td>100.00</td>\n      <td>0.00</td>\n      <td>0.00</td>\n      <td>0.0</td>\n      <td>0.0</td>\n      <td>...</td>\n      <td>NaN</td>\n      <td>71.3</td>\n      <td>10.117</td>\n      <td>71.075</td>\n      <td>14.038</td>\n      <td>0.0</td>\n      <td>-75.0000</td>\n      <td>0.000000</td>\n      <td>1.0000</td>\n      <td>-0.750000</td>\n    </tr>\n    <tr>\n      <th>739</th>\n      <td>4644</td>\n      <td>OIL INDUSTRIAL CANOLA FOR SALADS WOKS &amp; LT FRYING</td>\n      <td>0.00</td>\n      <td>884</td>\n      <td>0.00</td>\n      <td>100.00</td>\n      <td>0.00</td>\n      <td>0.00</td>\n      <td>0.0</td>\n      <td>0.0</td>\n      <td>...</td>\n      <td>NaN</td>\n      <td>71.3</td>\n      <td>7.758</td>\n      <td>61.150</td>\n      <td>26.397</td>\n      <td>0.0</td>\n      <td>-75.0000</td>\n      <td>0.000000</td>\n      <td>1.0000</td>\n      <td>-0.750000</td>\n    </tr>\n    <tr>\n      <th>738</th>\n      <td>4643</td>\n      <td>OIL INDUSTRIAL CANOLA W/ ANTIFOAMING AGENT</td>\n      <td>0.00</td>\n      <td>884</td>\n      <td>0.00</td>\n      <td>100.00</td>\n      <td>0.00</td>\n      <td>0.00</td>\n      <td>0.0</td>\n      <td>0.0</td>\n      <td>...</td>\n      <td>NaN</td>\n      <td>122.0</td>\n      <td>7.615</td>\n      <td>62.093</td>\n      <td>25.588</td>\n      <td>0.0</td>\n      <td>-75.0000</td>\n      <td>0.000000</td>\n      <td>1.0000</td>\n      <td>-0.750000</td>\n    </tr>\n    <tr>\n      <th>750</th>\n      <td>4656</td>\n      <td>OIL INDUSTRIAL PALM KERNEL CONFECTION FAT</td>\n      <td>0.05</td>\n      <td>884</td>\n      <td>0.00</td>\n      <td>100.00</td>\n      <td>0.01</td>\n      <td>0.00</td>\n      <td>0.0</td>\n      <td>0.0</td>\n      <td>...</td>\n      <td>NaN</td>\n      <td>24.7</td>\n      <td>87.558</td>\n      <td>5.406</td>\n      <td>0.834</td>\n      <td>0.0</td>\n      <td>-75.0000</td>\n      <td>0.000000</td>\n      <td>1.0000</td>\n      <td>-0.750000</td>\n    </tr>\n  </tbody>\n</table>\n<p>8618 rows × 40 columns</p>\n</div>"
     },
     "metadata": {},
     "execution_count": 23
    }
   ],
   "source": [
    "food_info.sort_values(\"Norm_Nutr_Index\", inplace=True, ascending=False) # inplace pour remplacer l'existant par celui trié\n",
    "\n",
    "food_info"
   ]
  },
  {
   "cell_type": "code",
   "execution_count": null,
   "metadata": {},
   "outputs": [],
   "source": []
  }
 ]
}