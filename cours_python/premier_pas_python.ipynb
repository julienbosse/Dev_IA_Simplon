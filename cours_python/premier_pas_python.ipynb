{
 "cells": [
  {
   "cell_type": "code",
   "execution_count": 7,
   "metadata": {},
   "outputs": [
    {
     "name": "stdout",
     "output_type": "stream",
     "text": [
      "Vive la Data !\n"
     ]
    }
   ],
   "source": [
    "# Les conditions\n",
    "a = \"devdata\"\n",
    "\n",
    "if a == \"DevData\" :\n",
    "    print(\"Vive la Data avec un grand D !\")\n",
    "elif a == \"devdata\" :\n",
    "    print(\"Vive la Data !\")\n",
    "else :\n",
    "    print(\"AH ! Est-ce qu'il y a de la data à Cannes ?\")\n",
    "    "
   ]
  },
  {
   "cell_type": "code",
   "execution_count": 35,
   "metadata": {},
   "outputs": [
    {
     "name": "stdout",
     "output_type": "stream",
     "text": [
      "[4.7, 53, 2019, 'Manchester', 'Cannes'] \n",
      "\n",
      "4.7\n",
      "53\n",
      "2019\n",
      "Manchester\n",
      "Cannes \n",
      "\n",
      "DevData\n"
     ]
    }
   ],
   "source": [
    "# Les listes\n",
    "\n",
    "maListe = [4.7, 53, 2019, \"Manchester\", \"Cannes\"]\n",
    "print(maListe,\"\\n\")\n",
    "\n",
    "print(maListe[0])\n",
    "print(maListe[1])\n",
    "print(maListe[2])\n",
    "print(maListe[3])\n",
    "print(maListe[4],\"\\n\")\n",
    "\n",
    "maListe[0] = \"DevData\"\n",
    "print(maListe[0])"
   ]
  },
  {
   "cell_type": "code",
   "execution_count": 22,
   "metadata": {},
   "outputs": [
    {
     "name": "stdout",
     "output_type": "stream",
     "text": [
      "DevData\n",
      "53\n",
      "2019\n",
      "Manchester\n",
      "Cannes\n",
      "\n",
      "\n",
      "d\n",
      "e\n",
      "v\n",
      "d\n",
      "a\n",
      "t\n",
      "a\n"
     ]
    }
   ],
   "source": [
    "# La boucle for\n",
    "for i in maListe: # pour une liste\n",
    "    print(i)\n",
    "\n",
    "print(\"\\n\")\n",
    "    \n",
    "for lettre in a: # mais aussi pour une chaîne de caractères\n",
    "    print(lettre)"
   ]
  },
  {
   "cell_type": "code",
   "execution_count": 23,
   "metadata": {},
   "outputs": [
    {
     "name": "stdout",
     "output_type": "stream",
     "text": [
      "x a pour valeur 1\n",
      "x a pour valeur 2\n",
      "x a pour valeur 4\n",
      "x a pour valeur 8\n",
      "Fin\n"
     ]
    }
   ],
   "source": [
    "# La boucle while\n",
    "\n",
    "x = 1\n",
    "\n",
    "while x < 10:\n",
    "    print(\"x a pour valeur\",x)\n",
    "    x = x*2\n",
    "\n",
    "print(\"Fin\")"
   ]
  },
  {
   "cell_type": "code",
   "execution_count": 31,
   "metadata": {},
   "outputs": [
    {
     "name": "stdout",
     "output_type": "stream",
     "text": [
      "1 paramètre : range(5)\n",
      "0\n",
      "1\n",
      "2\n",
      "3\n",
      "4\n",
      "\n",
      "2 paramètres : range(1,5)\n",
      "1\n",
      "2\n",
      "3\n",
      "4\n",
      "\n",
      "3 paramètres : range(1,10,2)\n",
      "1\n",
      "3\n",
      "5\n",
      "7\n",
      "9\n",
      "\n",
      " [2, 3, 10, 29, 66, 127, 218, 345, 514, 731]\n"
     ]
    }
   ],
   "source": [
    "## La fonction range() ##\n",
    "\n",
    "print(\"1 paramètre : range(5)\")\n",
    "for i in range(5):\n",
    "    print(i)\n",
    "    \n",
    "print(\"\\n2 paramètres : range(1,5)\")\n",
    "for i in range(1,5):\n",
    "    print(i)\n",
    "    \n",
    "print(\"\\n3 paramètres : range(1,10,2)\")\n",
    "for i in range(1,10,2):\n",
    "    print(i)\n",
    "    \n",
    "maListe = [i**3 + 2 for i in range(10)]\n",
    "print(\"\\n\", maListe)"
   ]
  },
  {
   "cell_type": "code",
   "execution_count": 42,
   "metadata": {},
   "outputs": [
    {
     "name": "stdout",
     "output_type": "stream",
     "text": [
      "Saisissez un nombre: 0\n",
      "Zéro n'est ni paire ni impaire.\n"
     ]
    }
   ],
   "source": [
    "## PRATIQUE :\n",
    "## 1. Ecrire un programme qui à partir d'une saisie d'un nombre vous dit s'il est paire ou impaire\n",
    "\n",
    "a = float(input(\"Saisissez un nombre: \"))\n",
    "\n",
    "if a == 0:\n",
    "    print(\"Zéro n'est ni paire ni impaire.\")\n",
    "elif a%2 == 0:\n",
    "    print(\"Il est paire.\")\n",
    "else:\n",
    "    print(\"Il est impaire.\")"
   ]
  },
  {
   "cell_type": "code",
   "execution_count": 44,
   "metadata": {},
   "outputs": [
    {
     "name": "stdout",
     "output_type": "stream",
     "text": [
      "Le triangle est rectangle.\n"
     ]
    }
   ],
   "source": [
    "## 2. Etant donné les longueurs des cotés d’un triangle (hypoténuse, coté\n",
    "##    adjacent) écrire un programme qui vérifie si un triangle est rectangle.\n",
    "\n",
    "adj = 4\n",
    "opp = 3\n",
    "hyp = 5\n",
    "\n",
    "if adj**2+opp**2==hyp**2:\n",
    "    print(\"Le triangle est rectangle.\")\n",
    "else: \n",
    "    print(\"Le triangle n'est pas rectangle.\")\n"
   ]
  },
  {
   "cell_type": "code",
   "execution_count": 57,
   "metadata": {},
   "outputs": [
    {
     "name": "stdout",
     "output_type": "stream",
     "text": [
      "Saisissez le prix HT : 16.67\n",
      "20.0\n",
      "Saisissez le prix HT : 0\n"
     ]
    }
   ],
   "source": [
    "## 3. Créer un programme qui donne le prix TTC après avoir saisie le prix HT.\n",
    "##    Ce programme doit se répéter pour pouvoir entrer plusieurs prix à la\n",
    "##    suite et ne s’arrêter que si l’utilisateur rentre 0.\n",
    "\n",
    "a = 1\n",
    "\n",
    "while a :\n",
    "    a = float(input(\"Saisissez le prix HT : \"))\n",
    "    if a == 0 :\n",
    "        break\n",
    "    b = a/0.8335\n",
    "    print(b)"
   ]
  },
  {
   "cell_type": "code",
   "execution_count": 80,
   "metadata": {},
   "outputs": [
    {
     "name": "stdout",
     "output_type": "stream",
     "text": [
      "[2, 7, 3, 1, 5, 8, 9, 4]\n"
     ]
    }
   ],
   "source": [
    "## 4. Soit les listes L1 = [2, 7, 3, 1, 5, 7, 1] et L2 = [8, 5, 9, 4, 1, 1, 5]. Produisez\n",
    "##    une liste L3 qui contient une seul et unique fois tout les éléments de L1 et L2.\n",
    "\n",
    "L1 = [2, 7, 3, 1, 5, 7, 1]\n",
    "L2 = [8, 5, 9, 4, 1, 1, 5]\n",
    "\n",
    "L3 = []\n",
    "\n",
    "for x in L1+L2:\n",
    "    if x not in L3:\n",
    "        L3.append(x)\n",
    "        \n",
    "print(L3)"
   ]
  },
  {
   "cell_type": "code",
   "execution_count": 76,
   "metadata": {},
   "outputs": [
    {
     "name": "stdout",
     "output_type": "stream",
     "text": [
      "[1, 2, 3, 4, 3, 2, 1]\n",
      "\n",
      "La liste est un palindrome\n"
     ]
    }
   ],
   "source": [
    "## 5. Ecrire un programme qui vérifie si la liste [1, 2, 3, 4, 3, 2, 1] et un\n",
    "##    palindrome.\n",
    "\n",
    "L = [1, 2, 3, 4, 3, 2, 1]\n",
    "print(L)\n",
    "\n",
    "if len(L)%2 != 0:\n",
    "    L.remove(int(len(L)/2+0.5))\n",
    "    \n",
    "isPalindrome = True\n",
    "\n",
    "for i in range(len(L)):\n",
    "    if L[i] != L[len(L)-1-i]:\n",
    "        isPalindrome = False\n",
    "             \n",
    "if isPalindrome:\n",
    "    print(\"\\nLa liste est un palindrome\")\n",
    "else:\n",
    "    print(\"\\nLa liste n'est pas un palindrome\")"
   ]
  },
  {
   "cell_type": "code",
   "execution_count": null,
   "metadata": {},
   "outputs": [],
   "source": []
  }
 ],
 "metadata": {
  "kernelspec": {
   "display_name": "Python 3",
   "language": "python",
   "name": "python3"
  },
  "language_info": {
   "codemirror_mode": {
    "name": "ipython",
    "version": 3
   },
   "file_extension": ".py",
   "mimetype": "text/x-python",
   "name": "python",
   "nbconvert_exporter": "python",
   "pygments_lexer": "ipython3",
   "version": "3.8.5"
  }
 },
 "nbformat": 4,
 "nbformat_minor": 4
}
