{
 "cells": [
  {
   "cell_type": "markdown",
   "metadata": {},
   "source": [
    "## COURS :"
   ]
  },
  {
   "cell_type": "code",
   "execution_count": 1,
   "metadata": {},
   "outputs": [
    {
     "output_type": "stream",
     "name": "stdout",
     "text": [
      "Vive la Data !\n"
     ]
    }
   ],
   "source": [
    "# Les conditions\n",
    "\n",
    "a = \"devdata\"\n",
    "\n",
    "if a == \"DevData\" :\n",
    "    print(\"Vive la Data avec un grand D !\")\n",
    "elif a == \"devdata\" :\n",
    "    print(\"Vive la Data !\")\n",
    "else :\n",
    "    print(\"AH ! Est-ce qu'il y a de la data à Cannes ?\")\n",
    "    "
   ]
  },
  {
   "cell_type": "code",
   "execution_count": 35,
   "metadata": {},
   "outputs": [
    {
     "name": "stdout",
     "output_type": "stream",
     "text": [
      "[4.7, 53, 2019, 'Manchester', 'Cannes'] \n",
      "\n",
      "4.7\n",
      "53\n",
      "2019\n",
      "Manchester\n",
      "Cannes \n",
      "\n",
      "DevData\n"
     ]
    }
   ],
   "source": [
    "# Les listes\n",
    "\n",
    "maListe = [4.7, 53, 2019, \"Manchester\", \"Cannes\"]\n",
    "print(maListe,\"\\n\")\n",
    "\n",
    "print(maListe[0])\n",
    "print(maListe[1])\n",
    "print(maListe[2])\n",
    "print(maListe[3])\n",
    "print(maListe[4],\"\\n\")\n",
    "\n",
    "maListe[0] = \"DevData\"\n",
    "print(maListe[0])"
   ]
  },
  {
   "cell_type": "code",
   "execution_count": 22,
   "metadata": {},
   "outputs": [
    {
     "name": "stdout",
     "output_type": "stream",
     "text": [
      "DevData\n",
      "53\n",
      "2019\n",
      "Manchester\n",
      "Cannes\n",
      "\n",
      "\n",
      "d\n",
      "e\n",
      "v\n",
      "d\n",
      "a\n",
      "t\n",
      "a\n"
     ]
    }
   ],
   "source": [
    "# La boucle for\n",
    "for i in maListe: # pour une liste\n",
    "    print(i)\n",
    "\n",
    "print(\"\\n\")\n",
    "    \n",
    "for lettre in a: # mais aussi pour une chaîne de caractères\n",
    "    print(lettre)"
   ]
  },
  {
   "cell_type": "code",
   "execution_count": 23,
   "metadata": {},
   "outputs": [
    {
     "name": "stdout",
     "output_type": "stream",
     "text": [
      "x a pour valeur 1\n",
      "x a pour valeur 2\n",
      "x a pour valeur 4\n",
      "x a pour valeur 8\n",
      "Fin\n"
     ]
    }
   ],
   "source": [
    "# La boucle while\n",
    "\n",
    "x = 1\n",
    "\n",
    "while x < 10:\n",
    "    print(\"x a pour valeur\",x)\n",
    "    x = x*2\n",
    "\n",
    "print(\"Fin\")"
   ]
  },
  {
   "cell_type": "code",
   "execution_count": 31,
   "metadata": {},
   "outputs": [
    {
     "name": "stdout",
     "output_type": "stream",
     "text": [
      "1 paramètre : range(5)\n",
      "0\n",
      "1\n",
      "2\n",
      "3\n",
      "4\n",
      "\n",
      "2 paramètres : range(1,5)\n",
      "1\n",
      "2\n",
      "3\n",
      "4\n",
      "\n",
      "3 paramètres : range(1,10,2)\n",
      "1\n",
      "3\n",
      "5\n",
      "7\n",
      "9\n",
      "\n",
      " [2, 3, 10, 29, 66, 127, 218, 345, 514, 731]\n"
     ]
    }
   ],
   "source": [
    "## La fonction range() ##\n",
    "\n",
    "print(\"1 paramètre : range(5)\")\n",
    "for i in range(5):\n",
    "    print(i)\n",
    "    \n",
    "print(\"\\n2 paramètres : range(1,5)\")\n",
    "for i in range(1,5):\n",
    "    print(i)\n",
    "    \n",
    "print(\"\\n3 paramètres : range(1,10,2)\")\n",
    "for i in range(1,10,2):\n",
    "    print(i)\n",
    "    \n",
    "maListe = [i**3 + 2 for i in range(10)]\n",
    "print(\"\\n\", maListe)"
   ]
  },
  {
   "cell_type": "markdown",
   "metadata": {},
   "source": [
    "## PRATIQUE :\n",
    "### 1. Ecrire un programme qui à partir d'une saisie d'un nombre vous dit s'il est paire ou impaire."
   ]
  },
  {
   "cell_type": "code",
   "execution_count": 10,
   "metadata": {},
   "outputs": [
    {
     "name": "stdout",
     "output_type": "stream",
     "text": [
      "Saisissez un nombre: 2\n",
      "2.0  est paire.\n"
     ]
    }
   ],
   "source": [
    "a = float(input(\"Saisissez un nombre: \"))\n",
    "\n",
    "if a == 0:\n",
    "    print(\"Zéro n'est ni paire ni impaire.\")\n",
    "elif a%2 == 0:\n",
    "    print(a,\"est paire.\")\n",
    "else:\n",
    "    print(a,\"est impaire.\")"
   ]
  },
  {
   "cell_type": "markdown",
   "metadata": {},
   "source": [
    "### 2. Etant donné les longueurs des cotés d’un triangle (hypoténuse, coté adjacent) écrire un programme qui vérifie si un triangle est rectangle."
   ]
  },
  {
   "cell_type": "code",
   "execution_count": 19,
   "metadata": {},
   "outputs": [
    {
     "name": "stdout",
     "output_type": "stream",
     "text": [
      "Côté 1: 3\n",
      "Côté 2: 4\n",
      "Côté 3: 5\n",
      "\n",
      "Le triangle est rectangle.\n"
     ]
    }
   ],
   "source": [
    "a = float(input(\"Côté 1: \"))\n",
    "b = float(input(\"Côté 2: \"))\n",
    "c = float(input(\"Côté 3: \"))\n",
    "\n",
    "#d = np.array([a,b,c])\n",
    "\n",
    "if (a*a+b*b==c*c) or (b*b+c*c==a*a) or (c*c+a*a==b*b):\n",
    "    print(\"\\nLe triangle est rectangle.\")\n",
    "else: \n",
    "    print(\"\\nLe triangle n'est pas rectangle.\")\n"
   ]
  },
  {
   "cell_type": "markdown",
   "metadata": {},
   "source": [
    "### 3. Créer un programme qui donne le prix TTC après avoir saisie le prix HT. Ce programme doit se répéter pour pouvoir entrer plusieurs prix à la suite et ne s’arrêter que si l’utilisateur rentre 0."
   ]
  },
  {
   "cell_type": "code",
   "execution_count": 23,
   "metadata": {},
   "outputs": [
    {
     "name": "stdout",
     "output_type": "stream",
     "text": [
      "Saisissez le prix HT : 0\n"
     ]
    }
   ],
   "source": [
    "## 3. Créer un programme qui donne le prix TTC après avoir saisie le prix HT.\n",
    "##    Ce programme doit se répéter pour pouvoir entrer plusieurs prix à la\n",
    "##    suite et ne s’arrêter que si l’utilisateur rentre 0.\n",
    "\n",
    "a = 1\n",
    "\n",
    "while a :\n",
    "    a = float(input(\"Saisissez le prix HT : \"))\n",
    "    if a == 0 :\n",
    "        break\n",
    "    b = a/0.8335\n",
    "    print(\"Prix TTC : \",b)"
   ]
  },
  {
   "cell_type": "markdown",
   "metadata": {},
   "source": [
    "### 4. Soit les listes L1 = [2, 7, 3, 1, 5, 7, 1] et L2 = [8, 5, 9, 4, 1, 1, 5]. Produisez une liste L3 qui contient une seul et unique fois tout les éléments de L1 et L2."
   ]
  },
  {
   "cell_type": "code",
   "execution_count": 80,
   "metadata": {},
   "outputs": [
    {
     "name": "stdout",
     "output_type": "stream",
     "text": [
      "[2, 7, 3, 1, 5, 8, 9, 4]\n"
     ]
    }
   ],
   "source": [
    "## 4. Soit les listes L1 = [2, 7, 3, 1, 5, 7, 1] et L2 = [8, 5, 9, 4, 1, 1, 5]. Produisez\n",
    "##    une liste L3 qui contient une seul et unique fois tout les éléments de L1 et L2.\n",
    "\n",
    "L1 = [2, 7, 3, 1, 5, 7, 1]\n",
    "L2 = [8, 5, 9, 4, 1, 1, 5]\n",
    "\n",
    "L3 = []\n",
    "\n",
    "for x in L1+L2:\n",
    "    if x not in L3:\n",
    "        L3.append(x)\n",
    "        \n",
    "print(L3)"
   ]
  },
  {
   "cell_type": "markdown",
   "metadata": {},
   "source": [
    "### 5. Ecrire un programme qui vérifie si la liste [1, 2, 3, 4, 3, 2, 1] et un palindrome."
   ]
  },
  {
   "cell_type": "code",
   "execution_count": 26,
   "metadata": {},
   "outputs": [
    {
     "name": "stdout",
     "output_type": "stream",
     "text": [
      "[1, 2, 3, 4, 3, 2, 1]\n",
      "\n",
      "La liste est un palindrome\n"
     ]
    }
   ],
   "source": [
    "## 5. Ecrire un programme qui vérifie si la liste [1, 2, 3, 4, 3, 2, 1] et un\n",
    "##    palindrome.\n",
    "\n",
    "L = [1, 2, 3, 4, 3, 2, 1]\n",
    "print(L)\n",
    "    \n",
    "isPalindrome = True\n",
    "\n",
    "for i in range(len(L)//2): # Vérifie que les paires i:fin-i sont égales et break sinon\n",
    "    if L[i] != L[-1-i]:\n",
    "        isPalindrome = False\n",
    "        break\n",
    "             \n",
    "if isPalindrome:\n",
    "    print(\"\\nLa liste est un palindrome\")\n",
    "else:\n",
    "    print(\"\\nLa liste n'est pas un palindrome\")"
   ]
  },
  {
   "cell_type": "markdown",
   "metadata": {},
   "source": [
    "### 6. Le présent de l'indicatif"
   ]
  },
  {
   "cell_type": "code",
   "execution_count": 9,
   "metadata": {},
   "outputs": [
    {
     "output_type": "stream",
     "name": "stdout",
     "text": [
      "Verbe choisi : casser\n\nJe casse\nTu casses\nIl/Elle casse\nNous cassons\nVous cassez\nIls/Elles cassent\n"
     ]
    }
   ],
   "source": [
    "inf = input(\"Saisissez le verbe à l'infinitif : \").lower()\n",
    "print(\"Verbe choisi :\",inf)\n",
    "inf = inf[0:-2]\n",
    "\n",
    "pronoms = [\"Je\",\"Tu\",\"Il/Elle\",\"Nous\",\"Vous\",\"Ils/Elles\"]\n",
    "terminaisons = [\"e\",\"es\",\"e\",\"ons\",\"ez\",\"ent\"]\n",
    "\n",
    "print(\"\")\n",
    "for terminaison,pronom in zip(terminaisons,pronoms):\n",
    "    print(pronom+\" \"+inf+terminaison)"
   ]
  },
  {
   "cell_type": "markdown",
   "metadata": {},
   "source": [
    "### 7. Distance entre deux mots HAMMING"
   ]
  },
  {
   "cell_type": "code",
   "execution_count": 10,
   "metadata": {},
   "outputs": [
    {
     "output_type": "stream",
     "name": "stdout",
     "text": [
      "Veuillez choisir deux mots de même longueur\n",
      "Premier mot : savon\n",
      "Deuxième mot : japon\n",
      "\n",
      "Hamming distance : 2\n"
     ]
    }
   ],
   "source": [
    "\n",
    "mot1 = \"a\"\n",
    "mot2 = \"aa\"\n",
    "\n",
    "while len(mot1) != len(mot2) :\n",
    "    print(\"Veuillez choisir deux mots de même longueur\")\n",
    "    mot1 = input(\"Premier mot : \")\n",
    "    if mot1 == \"0\" : break\n",
    "    mot2 = input(\"Deuxième mot : \")\n",
    "\n",
    "print(\"Premier mot :\",mot1)\n",
    "print(\"Deuxième mot :\",mot2)\n",
    "hammingDistance = 0\n",
    "\n",
    "for l1,l2 in zip(mot1,mot2):\n",
    "    if l1 != l2 :\n",
    "        hammingDistance+=1\n",
    "\n",
    "print(\"\\nHamming distance :\",hammingDistance)"
   ]
  },
  {
   "cell_type": "markdown",
   "metadata": {},
   "source": [
    "### 8. Afficher un mot à l'envers"
   ]
  },
  {
   "cell_type": "code",
   "execution_count": 12,
   "metadata": {},
   "outputs": [
    {
     "output_type": "stream",
     "name": "stdout",
     "text": [
      "Mot indiqué :  mot\ntom\n"
     ]
    }
   ],
   "source": [
    "mot = input(\"Indiquez un mot : \")\n",
    "nouveauMot = \"\"\n",
    "\n",
    "print(\"Mot indiqué : \",mot)\n",
    "\n",
    "#for i in range(len(mot)):\n",
    "#    nouveauMot = nouveauMot + mot[-1-i]\n",
    "\n",
    "nouveauMot = mot[::-1]\n",
    "    \n",
    "print(nouveauMot)"
   ]
  },
  {
   "cell_type": "markdown",
   "metadata": {},
   "source": [
    "### 9. Calulcer les solutions, si elles existent, les racines du polynome ax2 + bx + c = 0"
   ]
  },
  {
   "cell_type": "code",
   "execution_count": 72,
   "metadata": {},
   "outputs": [
    {
     "name": "stdout",
     "output_type": "stream",
     "text": [
      "a = 1\n",
      "b = 0\n",
      "c = -2\n",
      "\n",
      "Calcul des racines du polynome : 1.0x2 + 0.0x + -2.0 = 0\n",
      "\n",
      "x1 = -1.414\n",
      "x2 = 1.414\n"
     ]
    }
   ],
   "source": [
    "a = float(input(\"a = \"))\n",
    "b = float(input(\"b = \"))\n",
    "c = float(input(\"c = \"))\n",
    "\n",
    "print(\"\\nCalcul des racines du polynome : \"+str(a)+\"x2 + \"+str(b)+\"x + \"+str(c)+\" = 0\\n\")\n",
    "\n",
    "# Calcul déterminant.\n",
    "\n",
    "det = b*b - 4*a*c*c\n",
    "\n",
    "if det < 0 : \n",
    "    print(\"Déterminant inférieur à 0.\")\n",
    "\n",
    "elif det == 0 : # Une seule racine\n",
    "    x1 = -b/(2*a)\n",
    "    print(\"x = \",round(x1,3))\n",
    "else :\n",
    "    x1 = (-b-det**(1/2))/(2*a)\n",
    "    x2 = (-b+det**(1/2))/(2*a)\n",
    "    print(\"x1 =\",round(x1,3))\n",
    "    print(\"x2 =\",round(x2,3))"
   ]
  },
  {
   "cell_type": "markdown",
   "metadata": {},
   "source": [
    "### 10. Additionner les n premiers entiers"
   ]
  },
  {
   "cell_type": "code",
   "execution_count": 14,
   "metadata": {},
   "outputs": [
    {
     "output_type": "stream",
     "name": "stdout",
     "text": [
      "Nombre entier indiqué : 6\nSomme des entiers de 1 à 6 : 21\n"
     ]
    }
   ],
   "source": [
    "n = int(input(\"Veuillez saisir un nombre entier: \"))\n",
    "print(\"Nombre entier indiqué :\",n)\n",
    "\n",
    "s = 0\n",
    "\n",
    "for i in range(n+1):\n",
    "    s+=i\n",
    "    \n",
    "print(\"Somme des entiers de 1 à\",n,\":\",s)"
   ]
  },
  {
   "cell_type": "markdown",
   "metadata": {},
   "source": [
    "### 11. L'infiniment petit : diviser 1 par 2, 50 fois"
   ]
  },
  {
   "cell_type": "code",
   "execution_count": 122,
   "metadata": {},
   "outputs": [
    {
     "name": "stdout",
     "output_type": "stream",
     "text": [
      "XX.0123456789023456789012345678901234567890123456789\n",
      "0.50000000000000000000000000000000000000000000000000\n",
      "0.25000000000000000000000000000000000000000000000000\n",
      "0.12500000000000000000000000000000000000000000000000\n",
      "0.06250000000000000000000000000000000000000000000000\n",
      "0.03125000000000000000000000000000000000000000000000\n",
      "0.01562500000000000000000000000000000000000000000000\n",
      "0.00781250000000000000000000000000000000000000000000\n",
      "0.00390625000000000000000000000000000000000000000000\n",
      "0.00195312500000000000000000000000000000000000000000\n",
      "0.00097656250000000000000000000000000000000000000000\n",
      "0.00048828125000000000000000000000000000000000000000\n",
      "0.00024414062500000000000000000000000000000000000000\n",
      "0.00012207031250000000000000000000000000000000000000\n",
      "0.00006103515625000000000000000000000000000000000000\n",
      "0.00003051757812500000000000000000000000000000000000\n",
      "0.00001525878906250000000000000000000000000000000000\n",
      "0.00000762939453125000000000000000000000000000000000\n",
      "0.00000381469726562500000000000000000000000000000000\n",
      "0.00000190734863281250000000000000000000000000000000\n",
      "0.00000095367431640625000000000000000000000000000000\n",
      "0.00000047683715820312500000000000000000000000000000\n",
      "0.00000023841857910156250000000000000000000000000000\n",
      "0.00000011920928955078125000000000000000000000000000\n",
      "0.00000005960464477539062500000000000000000000000000\n",
      "0.00000002980232238769531250000000000000000000000000\n",
      "0.00000001490116119384765625000000000000000000000000\n",
      "0.00000000745058059692382812500000000000000000000000\n",
      "0.00000000372529029846191406250000000000000000000000\n",
      "0.00000000186264514923095703125000000000000000000000\n",
      "0.00000000093132257461547851562500000000000000000000\n",
      "0.00000000046566128730773925781250000000000000000000\n",
      "0.00000000023283064365386962890625000000000000000000\n",
      "0.00000000011641532182693481445312500000000000000000\n",
      "0.00000000005820766091346740722656250000000000000000\n",
      "0.00000000002910383045673370361328125000000000000000\n",
      "0.00000000001455191522836685180664062500000000000000\n",
      "0.00000000000727595761418342590332031250000000000000\n",
      "0.00000000000363797880709171295166015625000000000000\n",
      "0.00000000000181898940354585647583007812500000000000\n",
      "0.00000000000090949470177292823791503906250000000000\n",
      "0.00000000000045474735088646411895751953125000000000\n",
      "0.00000000000022737367544323205947875976562500000000\n",
      "0.00000000000011368683772161602973937988281250000000\n",
      "0.00000000000005684341886080801486968994140625000000\n",
      "0.00000000000002842170943040400743484497070312500000\n",
      "0.00000000000001421085471520200371742248535156250000\n",
      "0.00000000000000710542735760100185871124267578125000\n",
      "0.00000000000000355271367880050092935562133789062500\n",
      "0.00000000000000177635683940025046467781066894531250\n",
      "0.00000000000000088817841970012523233890533447265625\n"
     ]
    }
   ],
   "source": [
    "n=1\n",
    "\n",
    "print(\"XX.0123456789023456789012345678901234567890123456789\")\n",
    "for i in range(50): \n",
    "    n/=2\n",
    "    print(\"%.50f\"%n)"
   ]
  },
  {
   "cell_type": "markdown",
   "metadata": {},
   "source": [
    "### 12. Compter les nombres à deux chiffres ayant le chiffre 7"
   ]
  },
  {
   "cell_type": "code",
   "execution_count": 103,
   "metadata": {},
   "outputs": [
    {
     "name": "stdout",
     "output_type": "stream",
     "text": [
      "Veuillez entrer un nombre : 99\n",
      "18\n"
     ]
    }
   ],
   "source": [
    "n = int(input(\"Veuillez entrer un nombre : \"))\n",
    "\n",
    "count = 0\n",
    "\n",
    "for i in range(10,n+1):\n",
    "    if i//10 == 7 :\n",
    "        count+=1\n",
    "    elif i-10*(i//10) == 7:\n",
    "        count+=1\n",
    "        \n",
    "print(count)"
   ]
  },
  {
   "cell_type": "markdown",
   "metadata": {},
   "source": [
    "### 13. Compter les consonnes dans un mot"
   ]
  },
  {
   "cell_type": "code",
   "execution_count": 108,
   "metadata": {},
   "outputs": [
    {
     "name": "stdout",
     "output_type": "stream",
     "text": [
      "Veuillez renseigner un mot : test\n",
      "3\n"
     ]
    }
   ],
   "source": [
    "mot = input(\"Veuillez renseigner un mot : \")\n",
    "\n",
    "count = 0\n",
    "\n",
    "for i in mot:\n",
    "    if i not in ['a','e','i','o','u','y']:\n",
    "        count+=1\n",
    "        \n",
    "print(count)"
   ]
  },
  {
   "cell_type": "markdown",
   "metadata": {},
   "source": [
    "### 14. Encoder et décrypter un nom : chaque lettre est décalée de 3 positions vers la fin de l'alphabet"
   ]
  },
  {
   "cell_type": "code",
   "execution_count": 7,
   "metadata": {},
   "outputs": [
    {
     "output_type": "stream",
     "name": "stdout",
     "text": [
      "Mot à encoder : XYZ\n",
      "ABC\n",
      "Mot à décrypter : ABC\n",
      "XYZ\n"
     ]
    }
   ],
   "source": [
    "mot = input(\"Veuillez renseigner un mot à encoder : \")\n",
    "print(\"Mot à encoder :\",mot)\n",
    "nouveauMot = \"\"\n",
    "\n",
    "for i in mot:\n",
    "    if ord(i) > ord('W'):\n",
    "        nouveauMot = nouveauMot + chr(ord(i)-23)\n",
    "    else:\n",
    "        nouveauMot = nouveauMot + chr(ord(i)+3)\n",
    "    \n",
    "print(nouveauMot)\n",
    "\n",
    "mot = input(\"Veuillez renseigner un mot à décrypter : \")\n",
    "print(\"Mot à décrypter :\",mot)\n",
    "nouveauMot = \"\"\n",
    "\n",
    "for i in mot:\n",
    "    if ord(i) < ord('D'):\n",
    "        nouveauMot = nouveauMot + chr(ord(i)+23)\n",
    "    else:\n",
    "        nouveauMot = nouveauMot + chr(ord(i)-3)\n",
    "    \n",
    "print(nouveauMot)"
   ]
  },
  {
   "cell_type": "markdown",
   "metadata": {},
   "source": [
    "### 15. Afficher les balises HTML"
   ]
  },
  {
   "cell_type": "code",
   "execution_count": 120,
   "metadata": {},
   "outputs": [
    {
     "name": "stdout",
     "output_type": "stream",
     "text": [
      "html\n",
      "head\n",
      "title\n",
      "/title\n",
      "/head\n",
      "body\n",
      "/body\n",
      "/html\n"
     ]
    }
   ],
   "source": [
    "texte = \"<html> <head> <title> Mon Titre </title> </head> <body> Texte sur la page </body> </html>\"\n",
    "liste = []\n",
    "\n",
    "for i in range(len(texte)):\n",
    "    \n",
    "    if texte[i] == \"<\":\n",
    "        \n",
    "        j = texte.find(\">\",i)\n",
    "        liste.append(texte[i+1:j])\n",
    "        \n",
    "        print(texte[i+1:j])"
   ]
  },
  {
   "cell_type": "markdown",
   "metadata": {},
   "source": [
    "### 16. Afficher le calendrier du mois"
   ]
  },
  {
   "cell_type": "code",
   "execution_count": 22,
   "metadata": {},
   "outputs": [
    {
     "name": "stdout",
     "output_type": "stream",
     "text": [
      "Veuillez saisir le nombre de jours dans le mois : 28\n",
      "Veuillez saisir le numéro du jour démarrant le mois : 7\n",
      "\n",
      "LUN MAR MER JEU VEN SAM DIM\n",
      "                          1 \n",
      "  2   3   4   5   6   7   8 \n",
      "  9  10  11  12  13  14  15 \n",
      " 16  17  18  19  20  21  22 \n",
      " 23  24  25  26  27  28 "
     ]
    }
   ],
   "source": [
    "nbJours = int(input(\"Veuillez saisir le nombre de jours dans le mois : \"))\n",
    "premierJour = int(input(\"Veuillez saisir le numéro du jour démarrant le mois : \"))\n",
    "\n",
    "coloneCourante = premierJour\n",
    "\n",
    "print(\"\\nLUN MAR MER JEU VEN SAM DIM\")\n",
    "print(\"    \"*(premierJour-1),end=\"\") # {0} and {1}'.format('spam', 'eggs')\n",
    "\n",
    "for i in range(1,nbJours+1):\n",
    "    \n",
    "    if i < 10 :\n",
    "        if coloneCourante == 7 :\n",
    "            print(\"  {0} \".format(i))\n",
    "            coloneCourante=1\n",
    "        else:\n",
    "            print(\"  {0} \".format(i),end=\"\")\n",
    "            coloneCourante+=1\n",
    "\n",
    "    elif i >= 10 :\n",
    "        if coloneCourante == 7 :\n",
    "            print(\" {0} \".format(i))\n",
    "            coloneCourante=1\n",
    "        else:\n",
    "            print(\" {0} \".format(i),end=\"\")\n",
    "            coloneCourante+=1"
   ]
  },
  {
   "cell_type": "markdown",
   "metadata": {},
   "source": [
    "### 17. Statistiques avec pile ou face : Simuler un nombre donnée de tirages pile ou face et calculer la proportion de chaque type de tirage"
   ]
  },
  {
   "cell_type": "code",
   "execution_count": 34,
   "metadata": {},
   "outputs": [
    {
     "name": "stdout",
     "output_type": "stream",
     "text": [
      "Veuillez saisir un nombre de tirage(s) : 10000000\n",
      "Pile : 4998970 , Taux :  49.99 %\n",
      "Face : 5001030 , Taux :  50.01 %\n"
     ]
    }
   ],
   "source": [
    "import random\n",
    "\n",
    "nbTirages = int(input(\"Veuillez saisir un nombre de tirage(s) : \"))\n",
    "\n",
    "nbPile = 0\n",
    "nbFace = 0\n",
    "\n",
    "for i in range(nbTirages):\n",
    "    Pileface = random.randint(0,1)\n",
    "    \n",
    "    if Pileface:\n",
    "        nbPile+=1\n",
    "    else:\n",
    "        nbFace+=1\n",
    "        \n",
    "print(\"Pile :\",nbPile, \", Taux : \", round(nbPile/nbTirages*100,3),\"%\")\n",
    "print(\"Face :\",nbFace, \", Taux : \", round(nbFace/nbTirages*100,3),\"%\")"
   ]
  },
  {
   "cell_type": "code",
   "execution_count": null,
   "metadata": {},
   "outputs": [],
   "source": []
  }
 ],
 "metadata": {
  "kernelspec": {
   "display_name": "Python 3",
   "language": "python",
   "name": "python3"
  },
  "language_info": {
   "codemirror_mode": {
    "name": "ipython",
    "version": 3
   },
   "file_extension": ".py",
   "mimetype": "text/x-python",
   "name": "python",
   "nbconvert_exporter": "python",
   "pygments_lexer": "ipython3",
   "version": "3.8.5-final"
  }
 },
 "nbformat": 4,
 "nbformat_minor": 4
}