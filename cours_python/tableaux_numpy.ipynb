{
 "metadata": {
  "language_info": {
   "codemirror_mode": {
    "name": "ipython",
    "version": 3
   },
   "file_extension": ".py",
   "mimetype": "text/x-python",
   "name": "python",
   "nbconvert_exporter": "python",
   "pygments_lexer": "ipython3",
   "version": "3.8.5"
  },
  "orig_nbformat": 2,
  "kernelspec": {
   "name": "python385jvsc74a57bd04ad1113733ce155ce9cb43bdc3e17679916cd44516b0bf0a5049a72e2a7064d4",
   "display_name": "Python 3.8.5 64-bit ('base': conda)"
  }
 },
 "nbformat": 4,
 "nbformat_minor": 2,
 "cells": [
  {
   "source": [
    "# 1. Les tableaux Numpy\n",
    "\n",
    "## 1.1 Créer un ndarray\n",
    "\n",
    "### 1.1.1. Créer un ndarray à partir de listes"
   ],
   "cell_type": "markdown",
   "metadata": {}
  },
  {
   "cell_type": "code",
   "execution_count": 3,
   "metadata": {},
   "outputs": [
    {
     "output_type": "stream",
     "name": "stdout",
     "text": [
      "[ 1  2  3  4  5  6  7  8  9 10]\n"
     ]
    },
    {
     "output_type": "execute_result",
     "data": {
      "text/plain": [
       "numpy.ndarray"
      ]
     },
     "metadata": {},
     "execution_count": 3
    }
   ],
   "source": [
    "import numpy as np\n",
    "\n",
    "notre_tableau = np.array([1,2,3,4,5,6,7,8,9,10])\n",
    "\n",
    "print(notre_tableau)\n",
    "type(notre_tableau)"
   ]
  },
  {
   "cell_type": "code",
   "execution_count": 7,
   "metadata": {},
   "outputs": [
    {
     "output_type": "stream",
     "name": "stdout",
     "text": [
      "[[1 2 3]\n [4 5 6]\n [7 8 9]]\n"
     ]
    }
   ],
   "source": [
    "mon_array_bidimensionnel = np.array( [ [1,2,3],[4,5,6],[7,8,9] ] )\n",
    "print(mon_array_bidimensionnel)"
   ]
  },
  {
   "cell_type": "code",
   "execution_count": 11,
   "metadata": {},
   "outputs": [
    {
     "output_type": "stream",
     "name": "stdout",
     "text": [
      "3\n3\n[1 4 7]\n[1 2 3]\n"
     ]
    }
   ],
   "source": [
    "# pour sélectionner la valeur de la troisième colonne première ligne\n",
    "\n",
    "print(mon_array_bidimensionnel[0][2])\n",
    "print(mon_array_bidimensionnel[0,2])\n",
    "\n",
    "# pour sélectionner la première ligne\n",
    "\n",
    "print(mon_array_bidimensionnel[:,0])\n",
    "\n",
    "# pour sélectionner la première colonne\n",
    "\n",
    "print(mon_array_bidimensionnel[0,:])"
   ]
  },
  {
   "source": [
    "### Il s'agit d'un tableau d'entiers, on ne peut pas changer une valeur par un string par exemple"
   ],
   "cell_type": "markdown",
   "metadata": {}
  },
  {
   "cell_type": "code",
   "execution_count": 14,
   "metadata": {},
   "outputs": [
    {
     "output_type": "error",
     "ename": "ValueError",
     "evalue": "invalid literal for int() with base 10: 'texte'",
     "traceback": [
      "\u001b[1;31m---------------------------------------------------------------------------\u001b[0m",
      "\u001b[1;31mValueError\u001b[0m                                Traceback (most recent call last)",
      "\u001b[1;32m<ipython-input-14-781e56733282>\u001b[0m in \u001b[0;36m<module>\u001b[1;34m\u001b[0m\n\u001b[1;32m----> 1\u001b[1;33m \u001b[0mmon_array_bidimensionnel\u001b[0m\u001b[1;33m[\u001b[0m\u001b[1;36m0\u001b[0m\u001b[1;33m,\u001b[0m\u001b[1;36m0\u001b[0m\u001b[1;33m]\u001b[0m\u001b[1;33m=\u001b[0m\u001b[1;34m\"texte\"\u001b[0m\u001b[1;33m\u001b[0m\u001b[1;33m\u001b[0m\u001b[0m\n\u001b[0m",
      "\u001b[1;31mValueError\u001b[0m: invalid literal for int() with base 10: 'texte'"
     ]
    }
   ],
   "source": [
    "mon_array_bidimensionnel[0,0]=\"texte\""
   ]
  },
  {
   "cell_type": "code",
   "execution_count": 17,
   "metadata": {},
   "outputs": [
    {
     "output_type": "execute_result",
     "data": {
      "text/plain": [
       "dtype('int32')"
      ]
     },
     "metadata": {},
     "execution_count": 17
    }
   ],
   "source": [
    "# attribut dtype : type de données dans l'array\n",
    "\n",
    "mon_array_bidimensionnel.dtype"
   ]
  },
  {
   "cell_type": "code",
   "execution_count": 18,
   "metadata": {},
   "outputs": [
    {
     "output_type": "stream",
     "name": "stdout",
     "text": [
      "[[1. 2. 3.]\n [4. 5. 6.]]\n"
     ]
    },
    {
     "output_type": "execute_result",
     "data": {
      "text/plain": [
       "dtype('float64')"
      ]
     },
     "metadata": {},
     "execution_count": 18
    }
   ],
   "source": [
    "mon_array_bidimensionnel = np.array([[1,2,3],[4,5,6]], dtype = float)\n",
    "print(mon_array_bidimensionnel)\n",
    "mon_array_bidimensionnel.dtype"
   ]
  },
  {
   "source": [
    "### 1.1.2. Créer un ndarray grâce à des fonctions NumPy"
   ],
   "cell_type": "markdown",
   "metadata": {}
  },
  {
   "cell_type": "code",
   "execution_count": 19,
   "metadata": {},
   "outputs": [
    {
     "output_type": "stream",
     "name": "stdout",
     "text": [
      "[[0. 0. 0. 0. 0. 0.]\n [0. 0. 0. 0. 0. 0.]\n [0. 0. 0. 0. 0. 0.]\n [0. 0. 0. 0. 0. 0.]]\n[[0 0 0 0 0 0]\n [0 0 0 0 0 0]\n [0 0 0 0 0 0]\n [0 0 0 0 0 0]]\n[[1 1 1 1 1 1]\n [1 1 1 1 1 1]\n [1 1 1 1 1 1]\n [1 1 1 1 1 1]]\n"
     ]
    }
   ],
   "source": [
    "# np.zeros() permet de créer un ndarray dont l'ensemble des éléments correspondent à la valeur 0.mon_array_bidimensionnel\n",
    "\n",
    "array_zeros = np.zeros((4,6))\n",
    "print(array_zeros)\n",
    "\n",
    "# on peut spécifier le type aussi\n",
    "\n",
    "array_zeros = np.zeros((4,6), dtype = int)\n",
    "print(array_zeros)\n",
    "\n",
    "# Si on veut seulement des uns, on utilise la fonction ones\n",
    "\n",
    "array_ones = np.ones((4,6), dtype = int)\n",
    "print(array_ones)"
   ]
  },
  {
   "cell_type": "code",
   "execution_count": 24,
   "metadata": {},
   "outputs": [
    {
     "output_type": "stream",
     "name": "stdout",
     "text": [
      "[[0.59920881 0.36915288]\n [0.53925824 0.67163294]\n [0.75536897 0.97031014]\n [0.53985    0.65839206]]\n"
     ]
    }
   ],
   "source": [
    "# np.random/random() permet de réer un ndarray dont les valeurs des éléments sont aléatoires entre 0 et 1\n",
    "\n",
    "array_random = np.random.random((4,2))\n",
    "print(array_random)"
   ]
  },
  {
   "source": [
    "### Fichier iris.csv"
   ],
   "cell_type": "markdown",
   "metadata": {}
  },
  {
   "cell_type": "code",
   "execution_count": 29,
   "metadata": {},
   "outputs": [
    {
     "output_type": "stream",
     "name": "stdout",
     "text": [
      "[[5.1 3.5 1.4 0.2 1. ]\n [4.9 3.  1.4 0.2 1. ]\n [4.7 3.2 1.3 0.2 1. ]\n [4.6 3.1 1.5 0.2 1. ]\n [5.  3.6 1.4 0.2 1. ]\n [5.4 3.9 1.7 0.4 1. ]\n [4.6 3.4 1.4 0.3 1. ]\n [5.  3.4 1.5 0.2 1. ]\n [4.4 2.9 1.4 0.2 1. ]\n [4.9 3.1 1.5 0.1 1. ]\n [5.4 3.7 1.5 0.2 1. ]\n [4.8 3.4 1.6 0.2 1. ]\n [4.8 3.  1.4 0.1 1. ]\n [4.3 3.  1.1 0.1 1. ]\n [5.8 4.  1.2 0.2 1. ]\n [5.7 4.4 1.5 0.4 1. ]\n [5.4 3.9 1.3 0.4 1. ]\n [5.1 3.5 1.4 0.3 1. ]\n [5.7 3.8 1.7 0.3 1. ]\n [5.1 3.8 1.5 0.3 1. ]\n [5.4 3.4 1.7 0.2 1. ]\n [5.1 3.7 1.5 0.4 1. ]\n [4.6 3.6 1.  0.2 1. ]\n [5.1 3.3 1.7 0.5 1. ]\n [4.8 3.4 1.9 0.2 1. ]\n [5.  3.  1.6 0.2 1. ]\n [5.  3.4 1.6 0.4 1. ]\n [5.2 3.5 1.5 0.2 1. ]\n [5.2 3.4 1.4 0.2 1. ]\n [4.7 3.2 1.6 0.2 1. ]\n [4.8 3.1 1.6 0.2 1. ]\n [5.4 3.4 1.5 0.4 1. ]\n [5.2 4.1 1.5 0.1 1. ]\n [5.5 4.2 1.4 0.2 1. ]\n [4.9 3.1 1.5 0.2 1. ]\n [5.  3.2 1.2 0.2 1. ]\n [5.5 3.5 1.3 0.2 1. ]\n [4.9 3.6 1.4 0.1 1. ]\n [4.4 3.  1.3 0.2 1. ]\n [5.1 3.4 1.5 0.2 1. ]\n [5.  3.5 1.3 0.3 1. ]\n [4.5 2.3 1.3 0.3 1. ]\n [4.4 3.2 1.3 0.2 1. ]\n [5.  3.5 1.6 0.6 1. ]\n [5.1 3.8 1.9 0.4 1. ]\n [4.8 3.  1.4 0.3 1. ]\n [5.1 3.8 1.6 0.2 1. ]\n [4.6 3.2 1.4 0.2 1. ]\n [5.3 3.7 1.5 0.2 1. ]\n [5.  3.3 1.4 0.2 1. ]\n [7.  3.2 4.7 1.4 2. ]\n [6.4 3.2 4.5 1.5 2. ]\n [6.9 3.1 4.9 1.5 2. ]\n [5.5 2.3 4.  1.3 2. ]\n [6.5 2.8 4.6 1.5 2. ]\n [5.7 2.8 4.5 1.3 2. ]\n [6.3 3.3 4.7 1.6 2. ]\n [4.9 2.4 3.3 1.  2. ]\n [6.6 2.9 4.6 1.3 2. ]\n [5.2 2.7 3.9 1.4 2. ]\n [5.  2.  3.5 1.  2. ]\n [5.9 3.  4.2 1.5 2. ]\n [6.  2.2 4.  1.  2. ]\n [6.1 2.9 4.7 1.4 2. ]\n [5.6 2.9 3.6 1.3 2. ]\n [6.7 3.1 4.4 1.4 2. ]\n [5.6 3.  4.5 1.5 2. ]\n [5.8 2.7 4.1 1.  2. ]\n [6.2 2.2 4.5 1.5 2. ]\n [5.6 2.5 3.9 1.1 2. ]\n [5.9 3.2 4.8 1.8 2. ]\n [6.1 2.8 4.  1.3 2. ]\n [6.3 2.5 4.9 1.5 2. ]\n [6.1 2.8 4.7 1.2 2. ]\n [6.4 2.9 4.3 1.3 2. ]\n [6.6 3.  4.4 1.4 2. ]\n [6.8 2.8 4.8 1.4 2. ]\n [6.7 3.  5.  1.7 2. ]\n [6.  2.9 4.5 1.5 2. ]\n [5.7 2.6 3.5 1.  2. ]\n [5.5 2.4 3.8 1.1 2. ]\n [5.5 2.4 3.7 1.  2. ]\n [5.8 2.7 3.9 1.2 2. ]\n [6.  2.7 5.1 1.6 2. ]\n [5.4 3.  4.5 1.5 2. ]\n [6.  3.4 4.5 1.6 2. ]\n [6.7 3.1 4.7 1.5 2. ]\n [6.3 2.3 4.4 1.3 2. ]\n [5.6 3.  4.1 1.3 2. ]\n [5.5 2.5 4.  1.3 2. ]\n [5.5 2.6 4.4 1.2 2. ]\n [6.1 3.  4.6 1.4 2. ]\n [5.8 2.6 4.  1.2 2. ]\n [5.  2.3 3.3 1.  2. ]\n [5.6 2.7 4.2 1.3 2. ]\n [5.7 3.  4.2 1.2 2. ]\n [5.7 2.9 4.2 1.3 2. ]\n [6.2 2.9 4.3 1.3 2. ]\n [5.1 2.5 3.  1.1 2. ]\n [5.7 2.8 4.1 1.3 2. ]\n [6.3 3.3 6.  2.5 3. ]\n [5.8 2.7 5.1 1.9 3. ]\n [7.1 3.  5.9 2.1 3. ]\n [6.3 2.9 5.6 1.8 3. ]\n [6.5 3.  5.8 2.2 3. ]\n [7.6 3.  6.6 2.1 3. ]\n [4.9 2.5 4.5 1.7 3. ]\n [7.3 2.9 6.3 1.8 3. ]\n [6.7 2.5 5.8 1.8 3. ]\n [7.2 3.6 6.1 2.5 3. ]\n [6.5 3.2 5.1 2.  3. ]\n [6.4 2.7 5.3 1.9 3. ]\n [6.8 3.  5.5 2.1 3. ]\n [5.7 2.5 5.  2.  3. ]\n [5.8 2.8 5.1 2.4 3. ]\n [6.4 3.2 5.3 2.3 3. ]\n [6.5 3.  5.5 1.8 3. ]\n [7.7 3.8 6.7 2.2 3. ]\n [7.7 2.6 6.9 2.3 3. ]\n [6.  2.2 5.  1.5 3. ]\n [6.9 3.2 5.7 2.3 3. ]\n [5.6 2.8 4.9 2.  3. ]\n [7.7 2.8 6.7 2.  3. ]\n [6.3 2.7 4.9 1.8 3. ]\n [6.7 3.3 5.7 2.1 3. ]\n [7.2 3.2 6.  1.8 3. ]\n [6.2 2.8 4.8 1.8 3. ]\n [6.1 3.  4.9 1.8 3. ]\n [6.4 2.8 5.6 2.1 3. ]\n [7.2 3.  5.8 1.6 3. ]\n [7.4 2.8 6.1 1.9 3. ]\n [7.9 3.8 6.4 2.  3. ]\n [6.4 2.8 5.6 2.2 3. ]\n [6.3 2.8 5.1 1.5 3. ]\n [6.1 2.6 5.6 1.4 3. ]\n [7.7 3.  6.1 2.3 3. ]\n [6.3 3.4 5.6 2.4 3. ]\n [6.4 3.1 5.5 1.8 3. ]\n [6.  3.  4.8 1.8 3. ]\n [6.9 3.1 5.4 2.1 3. ]\n [6.7 3.1 5.6 2.4 3. ]\n [6.9 3.1 5.1 2.3 3. ]\n [5.8 2.7 5.1 1.9 3. ]\n [6.8 3.2 5.9 2.3 3. ]\n [6.7 3.3 5.7 2.5 3. ]\n [6.7 3.  5.2 2.3 3. ]\n [6.3 2.5 5.  1.9 3. ]\n [6.5 3.  5.2 2.  3. ]\n [6.2 3.4 5.4 2.3 3. ]\n [5.9 3.  5.1 1.8 3. ]]\nfloat64\n"
     ]
    },
    {
     "output_type": "execute_result",
     "data": {
      "text/plain": [
       "numpy.ndarray"
      ]
     },
     "metadata": {},
     "execution_count": 29
    }
   ],
   "source": [
    "# Charger les données d'un fichier txt ou csv\n",
    "\n",
    "iris = np.genfromtxt(\"jeux_de_donnees/iris.csv\", delimiter = \";\", skip_header = True)\n",
    "print(iris)\n",
    "print(iris.dtype)\n",
    "type(iris)"
   ]
  },
  {
   "cell_type": "code",
   "execution_count": 31,
   "metadata": {},
   "outputs": [],
   "source": [
    "# Sauvegarder les données dans un fichier txt ou csv\n",
    "\n",
    "np.savetxt(\"jeux_de_donnees/iris_2.csv\", iris, delimiter = \";\")"
   ]
  },
  {
   "source": [
    "## 1.2. Indexation\n",
    "\n",
    "### 1.2.1. Indexation simple"
   ],
   "cell_type": "markdown",
   "metadata": {}
  },
  {
   "cell_type": "code",
   "execution_count": null,
   "metadata": {},
   "outputs": [],
   "source": []
  }
 ]
}