{
 "metadata": {
  "language_info": {
   "codemirror_mode": {
    "name": "ipython",
    "version": 3
   },
   "file_extension": ".py",
   "mimetype": "text/x-python",
   "name": "python",
   "nbconvert_exporter": "python",
   "pygments_lexer": "ipython3",
   "version": "3.8.5"
  },
  "orig_nbformat": 2,
  "kernelspec": {
   "name": "python385jvsc74a57bd04ad1113733ce155ce9cb43bdc3e17679916cd44516b0bf0a5049a72e2a7064d4",
   "display_name": "Python 3.8.5 64-bit ('base': conda)"
  }
 },
 "nbformat": 4,
 "nbformat_minor": 2,
 "cells": [
  {
   "source": [
    "# 1. Les tableaux Numpy\n",
    "\n",
    "## 1.1 Créer un ndarray\n",
    "\n",
    "### 1.1.1. Créer un ndarray à partir de listes"
   ],
   "cell_type": "markdown",
   "metadata": {}
  },
  {
   "cell_type": "code",
   "execution_count": 3,
   "metadata": {},
   "outputs": [
    {
     "output_type": "stream",
     "name": "stdout",
     "text": [
      "[ 1  2  3  4  5  6  7  8  9 10]\n"
     ]
    },
    {
     "output_type": "execute_result",
     "data": {
      "text/plain": [
       "numpy.ndarray"
      ]
     },
     "metadata": {},
     "execution_count": 3
    }
   ],
   "source": [
    "import numpy as np\n",
    "\n",
    "notre_tableau = np.array([1,2,3,4,5,6,7,8,9,10])\n",
    "\n",
    "print(notre_tableau)\n",
    "type(notre_tableau)"
   ]
  },
  {
   "cell_type": "code",
   "execution_count": 3,
   "metadata": {},
   "outputs": [
    {
     "output_type": "stream",
     "name": "stdout",
     "text": [
      "[[1 2 3]\n [4 5 6]\n [7 8 9]]\n"
     ]
    }
   ],
   "source": [
    "mon_array_bidimensionnel = np.array( [ [1,2,3],[4,5,6],[7,8,9] ] )\n",
    "print(mon_array_bidimensionnel)"
   ]
  },
  {
   "cell_type": "code",
   "execution_count": 4,
   "metadata": {},
   "outputs": [
    {
     "output_type": "stream",
     "name": "stdout",
     "text": [
      "3\n3\n[1 4 7]\n[1 2 3]\n"
     ]
    }
   ],
   "source": [
    "# pour sélectionner la valeur de la troisième colonne première ligne\n",
    "\n",
    "print(mon_array_bidimensionnel[0][2])\n",
    "print(mon_array_bidimensionnel[0,2])\n",
    "\n",
    "# pour sélectionner la première ligne\n",
    "\n",
    "print(mon_array_bidimensionnel[:,0])\n",
    "\n",
    "# pour sélectionner la première colonne\n",
    "\n",
    "print(mon_array_bidimensionnel[0,:])"
   ]
  },
  {
   "source": [
    "### Il s'agit d'un tableau d'entiers, on ne peut pas changer une valeur par un string par exemple"
   ],
   "cell_type": "markdown",
   "metadata": {}
  },
  {
   "cell_type": "code",
   "execution_count": 5,
   "metadata": {},
   "outputs": [
    {
     "output_type": "error",
     "ename": "ValueError",
     "evalue": "invalid literal for int() with base 10: 'texte'",
     "traceback": [
      "\u001b[1;31m---------------------------------------------------------------------------\u001b[0m",
      "\u001b[1;31mValueError\u001b[0m                                Traceback (most recent call last)",
      "\u001b[1;32m<ipython-input-5-781e56733282>\u001b[0m in \u001b[0;36m<module>\u001b[1;34m\u001b[0m\n\u001b[1;32m----> 1\u001b[1;33m \u001b[0mmon_array_bidimensionnel\u001b[0m\u001b[1;33m[\u001b[0m\u001b[1;36m0\u001b[0m\u001b[1;33m,\u001b[0m\u001b[1;36m0\u001b[0m\u001b[1;33m]\u001b[0m\u001b[1;33m=\u001b[0m\u001b[1;34m\"texte\"\u001b[0m\u001b[1;33m\u001b[0m\u001b[1;33m\u001b[0m\u001b[0m\n\u001b[0m",
      "\u001b[1;31mValueError\u001b[0m: invalid literal for int() with base 10: 'texte'"
     ]
    }
   ],
   "source": [
    "mon_array_bidimensionnel[0,0]=\"texte\""
   ]
  },
  {
   "cell_type": "code",
   "execution_count": 17,
   "metadata": {},
   "outputs": [
    {
     "output_type": "execute_result",
     "data": {
      "text/plain": [
       "dtype('int32')"
      ]
     },
     "metadata": {},
     "execution_count": 17
    }
   ],
   "source": [
    "# attribut dtype : type de données dans l'array\n",
    "\n",
    "mon_array_bidimensionnel.dtype"
   ]
  },
  {
   "cell_type": "code",
   "execution_count": 18,
   "metadata": {},
   "outputs": [
    {
     "output_type": "stream",
     "name": "stdout",
     "text": [
      "[[1. 2. 3.]\n [4. 5. 6.]]\n"
     ]
    },
    {
     "output_type": "execute_result",
     "data": {
      "text/plain": [
       "dtype('float64')"
      ]
     },
     "metadata": {},
     "execution_count": 18
    }
   ],
   "source": [
    "mon_array_bidimensionnel = np.array([[1,2,3],[4,5,6]], dtype = float)\n",
    "print(mon_array_bidimensionnel)\n",
    "mon_array_bidimensionnel.dtype"
   ]
  },
  {
   "source": [
    "### 1.1.2. Créer un ndarray grâce à des fonctions NumPy"
   ],
   "cell_type": "markdown",
   "metadata": {}
  },
  {
   "cell_type": "code",
   "execution_count": 19,
   "metadata": {},
   "outputs": [
    {
     "output_type": "stream",
     "name": "stdout",
     "text": [
      "[[0. 0. 0. 0. 0. 0.]\n [0. 0. 0. 0. 0. 0.]\n [0. 0. 0. 0. 0. 0.]\n [0. 0. 0. 0. 0. 0.]]\n[[0 0 0 0 0 0]\n [0 0 0 0 0 0]\n [0 0 0 0 0 0]\n [0 0 0 0 0 0]]\n[[1 1 1 1 1 1]\n [1 1 1 1 1 1]\n [1 1 1 1 1 1]\n [1 1 1 1 1 1]]\n"
     ]
    }
   ],
   "source": [
    "# np.zeros() permet de créer un ndarray dont l'ensemble des éléments correspondent à la valeur 0.mon_array_bidimensionnel\n",
    "\n",
    "array_zeros = np.zeros((4,6))\n",
    "print(array_zeros)\n",
    "\n",
    "# on peut spécifier le type aussi\n",
    "\n",
    "array_zeros = np.zeros((4,6), dtype = int)\n",
    "print(array_zeros)\n",
    "\n",
    "# Si on veut seulement des uns, on utilise la fonction ones\n",
    "\n",
    "array_ones = np.ones((4,6), dtype = int)\n",
    "print(array_ones)"
   ]
  },
  {
   "cell_type": "code",
   "execution_count": 24,
   "metadata": {},
   "outputs": [
    {
     "output_type": "stream",
     "name": "stdout",
     "text": [
      "[[0.59920881 0.36915288]\n [0.53925824 0.67163294]\n [0.75536897 0.97031014]\n [0.53985    0.65839206]]\n"
     ]
    }
   ],
   "source": [
    "# np.random/random() permet de réer un ndarray dont les valeurs des éléments sont aléatoires entre 0 et 1\n",
    "\n",
    "array_random = np.random.random((4,2))\n",
    "print(array_random)"
   ]
  },
  {
   "source": [
    "### Fichier iris.csv"
   ],
   "cell_type": "markdown",
   "metadata": {}
  },
  {
   "cell_type": "code",
   "execution_count": 4,
   "metadata": {},
   "outputs": [
    {
     "output_type": "stream",
     "name": "stdout",
     "text": [
      "[[5.1 3.5 1.4 0.2 1. ]\n [4.9 3.  1.4 0.2 1. ]\n [4.7 3.2 1.3 0.2 1. ]\n [4.6 3.1 1.5 0.2 1. ]\n [5.  3.6 1.4 0.2 1. ]\n [5.4 3.9 1.7 0.4 1. ]\n [4.6 3.4 1.4 0.3 1. ]\n [5.  3.4 1.5 0.2 1. ]\n [4.4 2.9 1.4 0.2 1. ]\n [4.9 3.1 1.5 0.1 1. ]\n [5.4 3.7 1.5 0.2 1. ]\n [4.8 3.4 1.6 0.2 1. ]\n [4.8 3.  1.4 0.1 1. ]\n [4.3 3.  1.1 0.1 1. ]\n [5.8 4.  1.2 0.2 1. ]\n [5.7 4.4 1.5 0.4 1. ]\n [5.4 3.9 1.3 0.4 1. ]\n [5.1 3.5 1.4 0.3 1. ]\n [5.7 3.8 1.7 0.3 1. ]\n [5.1 3.8 1.5 0.3 1. ]\n [5.4 3.4 1.7 0.2 1. ]\n [5.1 3.7 1.5 0.4 1. ]\n [4.6 3.6 1.  0.2 1. ]\n [5.1 3.3 1.7 0.5 1. ]\n [4.8 3.4 1.9 0.2 1. ]\n [5.  3.  1.6 0.2 1. ]\n [5.  3.4 1.6 0.4 1. ]\n [5.2 3.5 1.5 0.2 1. ]\n [5.2 3.4 1.4 0.2 1. ]\n [4.7 3.2 1.6 0.2 1. ]\n [4.8 3.1 1.6 0.2 1. ]\n [5.4 3.4 1.5 0.4 1. ]\n [5.2 4.1 1.5 0.1 1. ]\n [5.5 4.2 1.4 0.2 1. ]\n [4.9 3.1 1.5 0.2 1. ]\n [5.  3.2 1.2 0.2 1. ]\n [5.5 3.5 1.3 0.2 1. ]\n [4.9 3.6 1.4 0.1 1. ]\n [4.4 3.  1.3 0.2 1. ]\n [5.1 3.4 1.5 0.2 1. ]\n [5.  3.5 1.3 0.3 1. ]\n [4.5 2.3 1.3 0.3 1. ]\n [4.4 3.2 1.3 0.2 1. ]\n [5.  3.5 1.6 0.6 1. ]\n [5.1 3.8 1.9 0.4 1. ]\n [4.8 3.  1.4 0.3 1. ]\n [5.1 3.8 1.6 0.2 1. ]\n [4.6 3.2 1.4 0.2 1. ]\n [5.3 3.7 1.5 0.2 1. ]\n [5.  3.3 1.4 0.2 1. ]\n [7.  3.2 4.7 1.4 2. ]\n [6.4 3.2 4.5 1.5 2. ]\n [6.9 3.1 4.9 1.5 2. ]\n [5.5 2.3 4.  1.3 2. ]\n [6.5 2.8 4.6 1.5 2. ]\n [5.7 2.8 4.5 1.3 2. ]\n [6.3 3.3 4.7 1.6 2. ]\n [4.9 2.4 3.3 1.  2. ]\n [6.6 2.9 4.6 1.3 2. ]\n [5.2 2.7 3.9 1.4 2. ]\n [5.  2.  3.5 1.  2. ]\n [5.9 3.  4.2 1.5 2. ]\n [6.  2.2 4.  1.  2. ]\n [6.1 2.9 4.7 1.4 2. ]\n [5.6 2.9 3.6 1.3 2. ]\n [6.7 3.1 4.4 1.4 2. ]\n [5.6 3.  4.5 1.5 2. ]\n [5.8 2.7 4.1 1.  2. ]\n [6.2 2.2 4.5 1.5 2. ]\n [5.6 2.5 3.9 1.1 2. ]\n [5.9 3.2 4.8 1.8 2. ]\n [6.1 2.8 4.  1.3 2. ]\n [6.3 2.5 4.9 1.5 2. ]\n [6.1 2.8 4.7 1.2 2. ]\n [6.4 2.9 4.3 1.3 2. ]\n [6.6 3.  4.4 1.4 2. ]\n [6.8 2.8 4.8 1.4 2. ]\n [6.7 3.  5.  1.7 2. ]\n [6.  2.9 4.5 1.5 2. ]\n [5.7 2.6 3.5 1.  2. ]\n [5.5 2.4 3.8 1.1 2. ]\n [5.5 2.4 3.7 1.  2. ]\n [5.8 2.7 3.9 1.2 2. ]\n [6.  2.7 5.1 1.6 2. ]\n [5.4 3.  4.5 1.5 2. ]\n [6.  3.4 4.5 1.6 2. ]\n [6.7 3.1 4.7 1.5 2. ]\n [6.3 2.3 4.4 1.3 2. ]\n [5.6 3.  4.1 1.3 2. ]\n [5.5 2.5 4.  1.3 2. ]\n [5.5 2.6 4.4 1.2 2. ]\n [6.1 3.  4.6 1.4 2. ]\n [5.8 2.6 4.  1.2 2. ]\n [5.  2.3 3.3 1.  2. ]\n [5.6 2.7 4.2 1.3 2. ]\n [5.7 3.  4.2 1.2 2. ]\n [5.7 2.9 4.2 1.3 2. ]\n [6.2 2.9 4.3 1.3 2. ]\n [5.1 2.5 3.  1.1 2. ]\n [5.7 2.8 4.1 1.3 2. ]\n [6.3 3.3 6.  2.5 3. ]\n [5.8 2.7 5.1 1.9 3. ]\n [7.1 3.  5.9 2.1 3. ]\n [6.3 2.9 5.6 1.8 3. ]\n [6.5 3.  5.8 2.2 3. ]\n [7.6 3.  6.6 2.1 3. ]\n [4.9 2.5 4.5 1.7 3. ]\n [7.3 2.9 6.3 1.8 3. ]\n [6.7 2.5 5.8 1.8 3. ]\n [7.2 3.6 6.1 2.5 3. ]\n [6.5 3.2 5.1 2.  3. ]\n [6.4 2.7 5.3 1.9 3. ]\n [6.8 3.  5.5 2.1 3. ]\n [5.7 2.5 5.  2.  3. ]\n [5.8 2.8 5.1 2.4 3. ]\n [6.4 3.2 5.3 2.3 3. ]\n [6.5 3.  5.5 1.8 3. ]\n [7.7 3.8 6.7 2.2 3. ]\n [7.7 2.6 6.9 2.3 3. ]\n [6.  2.2 5.  1.5 3. ]\n [6.9 3.2 5.7 2.3 3. ]\n [5.6 2.8 4.9 2.  3. ]\n [7.7 2.8 6.7 2.  3. ]\n [6.3 2.7 4.9 1.8 3. ]\n [6.7 3.3 5.7 2.1 3. ]\n [7.2 3.2 6.  1.8 3. ]\n [6.2 2.8 4.8 1.8 3. ]\n [6.1 3.  4.9 1.8 3. ]\n [6.4 2.8 5.6 2.1 3. ]\n [7.2 3.  5.8 1.6 3. ]\n [7.4 2.8 6.1 1.9 3. ]\n [7.9 3.8 6.4 2.  3. ]\n [6.4 2.8 5.6 2.2 3. ]\n [6.3 2.8 5.1 1.5 3. ]\n [6.1 2.6 5.6 1.4 3. ]\n [7.7 3.  6.1 2.3 3. ]\n [6.3 3.4 5.6 2.4 3. ]\n [6.4 3.1 5.5 1.8 3. ]\n [6.  3.  4.8 1.8 3. ]\n [6.9 3.1 5.4 2.1 3. ]\n [6.7 3.1 5.6 2.4 3. ]\n [6.9 3.1 5.1 2.3 3. ]\n [5.8 2.7 5.1 1.9 3. ]\n [6.8 3.2 5.9 2.3 3. ]\n [6.7 3.3 5.7 2.5 3. ]\n [6.7 3.  5.2 2.3 3. ]\n [6.3 2.5 5.  1.9 3. ]\n [6.5 3.  5.2 2.  3. ]\n [6.2 3.4 5.4 2.3 3. ]\n [5.9 3.  5.1 1.8 3. ]]\nfloat64\n"
     ]
    },
    {
     "output_type": "execute_result",
     "data": {
      "text/plain": [
       "numpy.ndarray"
      ]
     },
     "metadata": {},
     "execution_count": 4
    }
   ],
   "source": [
    "# Charger les données d'un fichier txt ou csv\n",
    "\n",
    "iris = np.genfromtxt(\"jeux_de_donnees/iris.csv\", delimiter = \";\", skip_header = True)\n",
    "print(iris)\n",
    "print(iris.dtype)\n",
    "type(iris)"
   ]
  },
  {
   "cell_type": "code",
   "execution_count": 31,
   "metadata": {},
   "outputs": [],
   "source": [
    "# Sauvegarder les données dans un fichier txt ou csv\n",
    "\n",
    "np.savetxt(\"jeux_de_donnees/iris_2.csv\", iris, delimiter = \";\")"
   ]
  },
  {
   "source": [
    "## 1.2. Indexation\n",
    "\n",
    "### 1.2.1. Indexation simple"
   ],
   "cell_type": "markdown",
   "metadata": {}
  },
  {
   "cell_type": "code",
   "execution_count": 32,
   "metadata": {},
   "outputs": [
    {
     "output_type": "execute_result",
     "data": {
      "text/plain": [
       "3.2"
      ]
     },
     "metadata": {},
     "execution_count": 32
    }
   ],
   "source": [
    "iris[2,1]"
   ]
  },
  {
   "source": [
    "# Modifier la valeur à la troisième ligne, deuxième colonne\n",
    "\n",
    "iris[2,1] = 4\n",
    "iris[2,1]"
   ],
   "cell_type": "code",
   "metadata": {},
   "execution_count": 37,
   "outputs": [
    {
     "output_type": "execute_result",
     "data": {
      "text/plain": [
       "4.0"
      ]
     },
     "metadata": {},
     "execution_count": 37
    }
   ]
  },
  {
   "source": [
    "### 1.2.2. Indexation booléenne\n",
    "\n",
    "Pour sélectionner une portion de tableau on peut utiliser des masques booléens. == != < > <= >="
   ],
   "cell_type": "markdown",
   "metadata": {}
  },
  {
   "cell_type": "code",
   "execution_count": 39,
   "metadata": {},
   "outputs": [
    {
     "output_type": "execute_result",
     "data": {
      "text/plain": [
       "array([5.1, 3.5, 4.9, 3. , 4.7, 4. , 4.6, 3.1, 5. , 3.6, 5.4, 3.9, 4.6,\n",
       "       3.4, 5. , 3.4, 4.4, 2.9, 4.9, 3.1, 5.4, 3.7, 4.8, 3.4, 4.8, 3. ,\n",
       "       4.3, 3. , 5.8, 4. , 5.7, 4.4, 5.4, 3.9, 5.1, 3.5, 5.7, 3.8, 5.1,\n",
       "       3.8, 5.4, 3.4, 5.1, 3.7, 4.6, 3.6, 5.1, 3.3, 4.8, 3.4, 5. , 3. ,\n",
       "       5. , 3.4, 5.2, 3.5, 5.2, 3.4, 4.7, 3.2, 4.8, 3.1, 5.4, 3.4, 5.2,\n",
       "       4.1, 5.5, 4.2, 4.9, 3.1, 5. , 3.2, 5.5, 3.5, 4.9, 3.6, 4.4, 3. ,\n",
       "       5.1, 3.4, 5. , 3.5, 4.5, 2.3, 4.4, 3.2, 5. , 3.5, 5.1, 3.8, 4.8,\n",
       "       3. , 5.1, 3.8, 4.6, 3.2, 5.3, 3.7, 5. , 3.3, 7. , 3.2, 4.7, 6.4,\n",
       "       3.2, 4.5, 6.9, 3.1, 4.9, 5.5, 2.3, 4. , 6.5, 2.8, 4.6, 5.7, 2.8,\n",
       "       4.5, 6.3, 3.3, 4.7, 4.9, 2.4, 3.3, 6.6, 2.9, 4.6, 5.2, 2.7, 3.9,\n",
       "       5. , 3.5, 5.9, 3. , 4.2, 6. , 2.2, 4. , 6.1, 2.9, 4.7, 5.6, 2.9,\n",
       "       3.6, 6.7, 3.1, 4.4, 5.6, 3. , 4.5, 5.8, 2.7, 4.1, 6.2, 2.2, 4.5,\n",
       "       5.6, 2.5, 3.9, 5.9, 3.2, 4.8, 6.1, 2.8, 4. , 6.3, 2.5, 4.9, 6.1,\n",
       "       2.8, 4.7, 6.4, 2.9, 4.3, 6.6, 3. , 4.4, 6.8, 2.8, 4.8, 6.7, 3. ,\n",
       "       5. , 6. , 2.9, 4.5, 5.7, 2.6, 3.5, 5.5, 2.4, 3.8, 5.5, 2.4, 3.7,\n",
       "       5.8, 2.7, 3.9, 6. , 2.7, 5.1, 5.4, 3. , 4.5, 6. , 3.4, 4.5, 6.7,\n",
       "       3.1, 4.7, 6.3, 2.3, 4.4, 5.6, 3. , 4.1, 5.5, 2.5, 4. , 5.5, 2.6,\n",
       "       4.4, 6.1, 3. , 4.6, 5.8, 2.6, 4. , 5. , 2.3, 3.3, 5.6, 2.7, 4.2,\n",
       "       5.7, 3. , 4.2, 5.7, 2.9, 4.2, 6.2, 2.9, 4.3, 5.1, 2.5, 3. , 5.7,\n",
       "       2.8, 4.1, 6.3, 3.3, 6. , 2.5, 3. , 5.8, 2.7, 5.1, 3. , 7.1, 3. ,\n",
       "       5.9, 2.1, 3. , 6.3, 2.9, 5.6, 3. , 6.5, 3. , 5.8, 2.2, 3. , 7.6,\n",
       "       3. , 6.6, 2.1, 3. , 4.9, 2.5, 4.5, 3. , 7.3, 2.9, 6.3, 3. , 6.7,\n",
       "       2.5, 5.8, 3. , 7.2, 3.6, 6.1, 2.5, 3. , 6.5, 3.2, 5.1, 3. , 6.4,\n",
       "       2.7, 5.3, 3. , 6.8, 3. , 5.5, 2.1, 3. , 5.7, 2.5, 5. , 3. , 5.8,\n",
       "       2.8, 5.1, 2.4, 3. , 6.4, 3.2, 5.3, 2.3, 3. , 6.5, 3. , 5.5, 3. ,\n",
       "       7.7, 3.8, 6.7, 2.2, 3. , 7.7, 2.6, 6.9, 2.3, 3. , 6. , 2.2, 5. ,\n",
       "       3. , 6.9, 3.2, 5.7, 2.3, 3. , 5.6, 2.8, 4.9, 3. , 7.7, 2.8, 6.7,\n",
       "       3. , 6.3, 2.7, 4.9, 3. , 6.7, 3.3, 5.7, 2.1, 3. , 7.2, 3.2, 6. ,\n",
       "       3. , 6.2, 2.8, 4.8, 3. , 6.1, 3. , 4.9, 3. , 6.4, 2.8, 5.6, 2.1,\n",
       "       3. , 7.2, 3. , 5.8, 3. , 7.4, 2.8, 6.1, 3. , 7.9, 3.8, 6.4, 3. ,\n",
       "       6.4, 2.8, 5.6, 2.2, 3. , 6.3, 2.8, 5.1, 3. , 6.1, 2.6, 5.6, 3. ,\n",
       "       7.7, 3. , 6.1, 2.3, 3. , 6.3, 3.4, 5.6, 2.4, 3. , 6.4, 3.1, 5.5,\n",
       "       3. , 6. , 3. , 4.8, 3. , 6.9, 3.1, 5.4, 2.1, 3. , 6.7, 3.1, 5.6,\n",
       "       2.4, 3. , 6.9, 3.1, 5.1, 2.3, 3. , 5.8, 2.7, 5.1, 3. , 6.8, 3.2,\n",
       "       5.9, 2.3, 3. , 6.7, 3.3, 5.7, 2.5, 3. , 6.7, 3. , 5.2, 2.3, 3. ,\n",
       "       6.3, 2.5, 5. , 3. , 6.5, 3. , 5.2, 3. , 6.2, 3.4, 5.4, 2.3, 3. ,\n",
       "       5.9, 3. , 5.1, 3. ])"
      ]
     },
     "metadata": {},
     "execution_count": 39
    }
   ],
   "source": [
    "# On souhaite garder les valeurs supérieures à 2, peu importe la colonne\n",
    "\n",
    "iris[iris>2] # On se retrouver avec un tableau unidimmensionnel"
   ]
  },
  {
   "cell_type": "code",
   "execution_count": 40,
   "metadata": {},
   "outputs": [
    {
     "output_type": "execute_result",
     "data": {
      "text/plain": [
       "472"
      ]
     },
     "metadata": {},
     "execution_count": 40
    }
   ],
   "source": [
    "iris[iris>2].shape[0] # Nombre d'éléments supérieurs à 0"
   ]
  },
  {
   "cell_type": "code",
   "execution_count": 41,
   "metadata": {},
   "outputs": [
    {
     "output_type": "execute_result",
     "data": {
      "text/plain": [
       "array([[ True,  True, False, False, False],\n",
       "       [ True,  True, False, False, False],\n",
       "       [ True,  True, False, False, False],\n",
       "       [ True,  True, False, False, False],\n",
       "       [ True,  True, False, False, False],\n",
       "       [ True,  True, False, False, False],\n",
       "       [ True,  True, False, False, False],\n",
       "       [ True,  True, False, False, False],\n",
       "       [ True,  True, False, False, False],\n",
       "       [ True,  True, False, False, False],\n",
       "       [ True,  True, False, False, False],\n",
       "       [ True,  True, False, False, False],\n",
       "       [ True,  True, False, False, False],\n",
       "       [ True,  True, False, False, False],\n",
       "       [ True,  True, False, False, False],\n",
       "       [ True,  True, False, False, False],\n",
       "       [ True,  True, False, False, False],\n",
       "       [ True,  True, False, False, False],\n",
       "       [ True,  True, False, False, False],\n",
       "       [ True,  True, False, False, False],\n",
       "       [ True,  True, False, False, False],\n",
       "       [ True,  True, False, False, False],\n",
       "       [ True,  True, False, False, False],\n",
       "       [ True,  True, False, False, False],\n",
       "       [ True,  True, False, False, False],\n",
       "       [ True,  True, False, False, False],\n",
       "       [ True,  True, False, False, False],\n",
       "       [ True,  True, False, False, False],\n",
       "       [ True,  True, False, False, False],\n",
       "       [ True,  True, False, False, False],\n",
       "       [ True,  True, False, False, False],\n",
       "       [ True,  True, False, False, False],\n",
       "       [ True,  True, False, False, False],\n",
       "       [ True,  True, False, False, False],\n",
       "       [ True,  True, False, False, False],\n",
       "       [ True,  True, False, False, False],\n",
       "       [ True,  True, False, False, False],\n",
       "       [ True,  True, False, False, False],\n",
       "       [ True,  True, False, False, False],\n",
       "       [ True,  True, False, False, False],\n",
       "       [ True,  True, False, False, False],\n",
       "       [ True,  True, False, False, False],\n",
       "       [ True,  True, False, False, False],\n",
       "       [ True,  True, False, False, False],\n",
       "       [ True,  True, False, False, False],\n",
       "       [ True,  True, False, False, False],\n",
       "       [ True,  True, False, False, False],\n",
       "       [ True,  True, False, False, False],\n",
       "       [ True,  True, False, False, False],\n",
       "       [ True,  True, False, False, False],\n",
       "       [ True,  True,  True, False, False],\n",
       "       [ True,  True,  True, False, False],\n",
       "       [ True,  True,  True, False, False],\n",
       "       [ True,  True,  True, False, False],\n",
       "       [ True,  True,  True, False, False],\n",
       "       [ True,  True,  True, False, False],\n",
       "       [ True,  True,  True, False, False],\n",
       "       [ True,  True,  True, False, False],\n",
       "       [ True,  True,  True, False, False],\n",
       "       [ True,  True,  True, False, False],\n",
       "       [ True, False,  True, False, False],\n",
       "       [ True,  True,  True, False, False],\n",
       "       [ True,  True,  True, False, False],\n",
       "       [ True,  True,  True, False, False],\n",
       "       [ True,  True,  True, False, False],\n",
       "       [ True,  True,  True, False, False],\n",
       "       [ True,  True,  True, False, False],\n",
       "       [ True,  True,  True, False, False],\n",
       "       [ True,  True,  True, False, False],\n",
       "       [ True,  True,  True, False, False],\n",
       "       [ True,  True,  True, False, False],\n",
       "       [ True,  True,  True, False, False],\n",
       "       [ True,  True,  True, False, False],\n",
       "       [ True,  True,  True, False, False],\n",
       "       [ True,  True,  True, False, False],\n",
       "       [ True,  True,  True, False, False],\n",
       "       [ True,  True,  True, False, False],\n",
       "       [ True,  True,  True, False, False],\n",
       "       [ True,  True,  True, False, False],\n",
       "       [ True,  True,  True, False, False],\n",
       "       [ True,  True,  True, False, False],\n",
       "       [ True,  True,  True, False, False],\n",
       "       [ True,  True,  True, False, False],\n",
       "       [ True,  True,  True, False, False],\n",
       "       [ True,  True,  True, False, False],\n",
       "       [ True,  True,  True, False, False],\n",
       "       [ True,  True,  True, False, False],\n",
       "       [ True,  True,  True, False, False],\n",
       "       [ True,  True,  True, False, False],\n",
       "       [ True,  True,  True, False, False],\n",
       "       [ True,  True,  True, False, False],\n",
       "       [ True,  True,  True, False, False],\n",
       "       [ True,  True,  True, False, False],\n",
       "       [ True,  True,  True, False, False],\n",
       "       [ True,  True,  True, False, False],\n",
       "       [ True,  True,  True, False, False],\n",
       "       [ True,  True,  True, False, False],\n",
       "       [ True,  True,  True, False, False],\n",
       "       [ True,  True,  True, False, False],\n",
       "       [ True,  True,  True, False, False],\n",
       "       [ True,  True,  True,  True,  True],\n",
       "       [ True,  True,  True, False,  True],\n",
       "       [ True,  True,  True,  True,  True],\n",
       "       [ True,  True,  True, False,  True],\n",
       "       [ True,  True,  True,  True,  True],\n",
       "       [ True,  True,  True,  True,  True],\n",
       "       [ True,  True,  True, False,  True],\n",
       "       [ True,  True,  True, False,  True],\n",
       "       [ True,  True,  True, False,  True],\n",
       "       [ True,  True,  True,  True,  True],\n",
       "       [ True,  True,  True, False,  True],\n",
       "       [ True,  True,  True, False,  True],\n",
       "       [ True,  True,  True,  True,  True],\n",
       "       [ True,  True,  True, False,  True],\n",
       "       [ True,  True,  True,  True,  True],\n",
       "       [ True,  True,  True,  True,  True],\n",
       "       [ True,  True,  True, False,  True],\n",
       "       [ True,  True,  True,  True,  True],\n",
       "       [ True,  True,  True,  True,  True],\n",
       "       [ True,  True,  True, False,  True],\n",
       "       [ True,  True,  True,  True,  True],\n",
       "       [ True,  True,  True, False,  True],\n",
       "       [ True,  True,  True, False,  True],\n",
       "       [ True,  True,  True, False,  True],\n",
       "       [ True,  True,  True,  True,  True],\n",
       "       [ True,  True,  True, False,  True],\n",
       "       [ True,  True,  True, False,  True],\n",
       "       [ True,  True,  True, False,  True],\n",
       "       [ True,  True,  True,  True,  True],\n",
       "       [ True,  True,  True, False,  True],\n",
       "       [ True,  True,  True, False,  True],\n",
       "       [ True,  True,  True, False,  True],\n",
       "       [ True,  True,  True,  True,  True],\n",
       "       [ True,  True,  True, False,  True],\n",
       "       [ True,  True,  True, False,  True],\n",
       "       [ True,  True,  True,  True,  True],\n",
       "       [ True,  True,  True,  True,  True],\n",
       "       [ True,  True,  True, False,  True],\n",
       "       [ True,  True,  True, False,  True],\n",
       "       [ True,  True,  True,  True,  True],\n",
       "       [ True,  True,  True,  True,  True],\n",
       "       [ True,  True,  True,  True,  True],\n",
       "       [ True,  True,  True, False,  True],\n",
       "       [ True,  True,  True,  True,  True],\n",
       "       [ True,  True,  True,  True,  True],\n",
       "       [ True,  True,  True,  True,  True],\n",
       "       [ True,  True,  True, False,  True],\n",
       "       [ True,  True,  True, False,  True],\n",
       "       [ True,  True,  True,  True,  True],\n",
       "       [ True,  True,  True, False,  True]])"
      ]
     },
     "metadata": {},
     "execution_count": 41
    }
   ],
   "source": [
    "# L'expression booléenne qui suit génère un nouveau tableau, de même dimension que le tableau iris, mais qui contient uniquement des bool\n",
    "\n",
    "iris>2"
   ]
  },
  {
   "cell_type": "code",
   "execution_count": 43,
   "metadata": {},
   "outputs": [
    {
     "output_type": "execute_result",
     "data": {
      "text/plain": [
       "array([[5.1, 3.5, 1.4, 0.2, 1. ],\n",
       "       [5.4, 3.9, 1.7, 0.4, 1. ],\n",
       "       [5.4, 3.7, 1.5, 0.2, 1. ],\n",
       "       [5.8, 4. , 1.2, 0.2, 1. ],\n",
       "       [5.7, 4.4, 1.5, 0.4, 1. ],\n",
       "       [5.4, 3.9, 1.3, 0.4, 1. ],\n",
       "       [5.1, 3.5, 1.4, 0.3, 1. ],\n",
       "       [5.7, 3.8, 1.7, 0.3, 1. ],\n",
       "       [5.1, 3.8, 1.5, 0.3, 1. ],\n",
       "       [5.4, 3.4, 1.7, 0.2, 1. ],\n",
       "       [5.1, 3.7, 1.5, 0.4, 1. ],\n",
       "       [5.1, 3.3, 1.7, 0.5, 1. ],\n",
       "       [5.2, 3.5, 1.5, 0.2, 1. ],\n",
       "       [5.2, 3.4, 1.4, 0.2, 1. ],\n",
       "       [5.4, 3.4, 1.5, 0.4, 1. ],\n",
       "       [5.2, 4.1, 1.5, 0.1, 1. ],\n",
       "       [5.5, 4.2, 1.4, 0.2, 1. ],\n",
       "       [5.5, 3.5, 1.3, 0.2, 1. ],\n",
       "       [5.1, 3.4, 1.5, 0.2, 1. ],\n",
       "       [5.1, 3.8, 1.9, 0.4, 1. ],\n",
       "       [5.1, 3.8, 1.6, 0.2, 1. ],\n",
       "       [5.3, 3.7, 1.5, 0.2, 1. ],\n",
       "       [7. , 3.2, 4.7, 1.4, 2. ],\n",
       "       [6.4, 3.2, 4.5, 1.5, 2. ],\n",
       "       [6.9, 3.1, 4.9, 1.5, 2. ],\n",
       "       [5.5, 2.3, 4. , 1.3, 2. ],\n",
       "       [6.5, 2.8, 4.6, 1.5, 2. ],\n",
       "       [5.7, 2.8, 4.5, 1.3, 2. ],\n",
       "       [6.3, 3.3, 4.7, 1.6, 2. ],\n",
       "       [6.6, 2.9, 4.6, 1.3, 2. ],\n",
       "       [5.2, 2.7, 3.9, 1.4, 2. ],\n",
       "       [5.9, 3. , 4.2, 1.5, 2. ],\n",
       "       [6. , 2.2, 4. , 1. , 2. ],\n",
       "       [6.1, 2.9, 4.7, 1.4, 2. ],\n",
       "       [5.6, 2.9, 3.6, 1.3, 2. ],\n",
       "       [6.7, 3.1, 4.4, 1.4, 2. ],\n",
       "       [5.6, 3. , 4.5, 1.5, 2. ],\n",
       "       [5.8, 2.7, 4.1, 1. , 2. ],\n",
       "       [6.2, 2.2, 4.5, 1.5, 2. ],\n",
       "       [5.6, 2.5, 3.9, 1.1, 2. ],\n",
       "       [5.9, 3.2, 4.8, 1.8, 2. ],\n",
       "       [6.1, 2.8, 4. , 1.3, 2. ],\n",
       "       [6.3, 2.5, 4.9, 1.5, 2. ],\n",
       "       [6.1, 2.8, 4.7, 1.2, 2. ],\n",
       "       [6.4, 2.9, 4.3, 1.3, 2. ],\n",
       "       [6.6, 3. , 4.4, 1.4, 2. ],\n",
       "       [6.8, 2.8, 4.8, 1.4, 2. ],\n",
       "       [6.7, 3. , 5. , 1.7, 2. ],\n",
       "       [6. , 2.9, 4.5, 1.5, 2. ],\n",
       "       [5.7, 2.6, 3.5, 1. , 2. ],\n",
       "       [5.5, 2.4, 3.8, 1.1, 2. ],\n",
       "       [5.5, 2.4, 3.7, 1. , 2. ],\n",
       "       [5.8, 2.7, 3.9, 1.2, 2. ],\n",
       "       [6. , 2.7, 5.1, 1.6, 2. ],\n",
       "       [5.4, 3. , 4.5, 1.5, 2. ],\n",
       "       [6. , 3.4, 4.5, 1.6, 2. ],\n",
       "       [6.7, 3.1, 4.7, 1.5, 2. ],\n",
       "       [6.3, 2.3, 4.4, 1.3, 2. ],\n",
       "       [5.6, 3. , 4.1, 1.3, 2. ],\n",
       "       [5.5, 2.5, 4. , 1.3, 2. ],\n",
       "       [5.5, 2.6, 4.4, 1.2, 2. ],\n",
       "       [6.1, 3. , 4.6, 1.4, 2. ],\n",
       "       [5.8, 2.6, 4. , 1.2, 2. ],\n",
       "       [5.6, 2.7, 4.2, 1.3, 2. ],\n",
       "       [5.7, 3. , 4.2, 1.2, 2. ],\n",
       "       [5.7, 2.9, 4.2, 1.3, 2. ],\n",
       "       [6.2, 2.9, 4.3, 1.3, 2. ],\n",
       "       [5.1, 2.5, 3. , 1.1, 2. ],\n",
       "       [5.7, 2.8, 4.1, 1.3, 2. ],\n",
       "       [6.3, 3.3, 6. , 2.5, 3. ],\n",
       "       [5.8, 2.7, 5.1, 1.9, 3. ],\n",
       "       [7.1, 3. , 5.9, 2.1, 3. ],\n",
       "       [6.3, 2.9, 5.6, 1.8, 3. ],\n",
       "       [6.5, 3. , 5.8, 2.2, 3. ],\n",
       "       [7.6, 3. , 6.6, 2.1, 3. ],\n",
       "       [7.3, 2.9, 6.3, 1.8, 3. ],\n",
       "       [6.7, 2.5, 5.8, 1.8, 3. ],\n",
       "       [7.2, 3.6, 6.1, 2.5, 3. ],\n",
       "       [6.5, 3.2, 5.1, 2. , 3. ],\n",
       "       [6.4, 2.7, 5.3, 1.9, 3. ],\n",
       "       [6.8, 3. , 5.5, 2.1, 3. ],\n",
       "       [5.7, 2.5, 5. , 2. , 3. ],\n",
       "       [5.8, 2.8, 5.1, 2.4, 3. ],\n",
       "       [6.4, 3.2, 5.3, 2.3, 3. ],\n",
       "       [6.5, 3. , 5.5, 1.8, 3. ],\n",
       "       [7.7, 3.8, 6.7, 2.2, 3. ],\n",
       "       [7.7, 2.6, 6.9, 2.3, 3. ],\n",
       "       [6. , 2.2, 5. , 1.5, 3. ],\n",
       "       [6.9, 3.2, 5.7, 2.3, 3. ],\n",
       "       [5.6, 2.8, 4.9, 2. , 3. ],\n",
       "       [7.7, 2.8, 6.7, 2. , 3. ],\n",
       "       [6.3, 2.7, 4.9, 1.8, 3. ],\n",
       "       [6.7, 3.3, 5.7, 2.1, 3. ],\n",
       "       [7.2, 3.2, 6. , 1.8, 3. ],\n",
       "       [6.2, 2.8, 4.8, 1.8, 3. ],\n",
       "       [6.1, 3. , 4.9, 1.8, 3. ],\n",
       "       [6.4, 2.8, 5.6, 2.1, 3. ],\n",
       "       [7.2, 3. , 5.8, 1.6, 3. ],\n",
       "       [7.4, 2.8, 6.1, 1.9, 3. ],\n",
       "       [7.9, 3.8, 6.4, 2. , 3. ],\n",
       "       [6.4, 2.8, 5.6, 2.2, 3. ],\n",
       "       [6.3, 2.8, 5.1, 1.5, 3. ],\n",
       "       [6.1, 2.6, 5.6, 1.4, 3. ],\n",
       "       [7.7, 3. , 6.1, 2.3, 3. ],\n",
       "       [6.3, 3.4, 5.6, 2.4, 3. ],\n",
       "       [6.4, 3.1, 5.5, 1.8, 3. ],\n",
       "       [6. , 3. , 4.8, 1.8, 3. ],\n",
       "       [6.9, 3.1, 5.4, 2.1, 3. ],\n",
       "       [6.7, 3.1, 5.6, 2.4, 3. ],\n",
       "       [6.9, 3.1, 5.1, 2.3, 3. ],\n",
       "       [5.8, 2.7, 5.1, 1.9, 3. ],\n",
       "       [6.8, 3.2, 5.9, 2.3, 3. ],\n",
       "       [6.7, 3.3, 5.7, 2.5, 3. ],\n",
       "       [6.7, 3. , 5.2, 2.3, 3. ],\n",
       "       [6.3, 2.5, 5. , 1.9, 3. ],\n",
       "       [6.5, 3. , 5.2, 2. , 3. ],\n",
       "       [6.2, 3.4, 5.4, 2.3, 3. ],\n",
       "       [5.9, 3. , 5.1, 1.8, 3. ]])"
      ]
     },
     "metadata": {},
     "execution_count": 43
    }
   ],
   "source": [
    "# Pour appliquer une condition sur une colonne particulère du tableau, il faut sélectionner en écrivant le masque booléen comme ceci :\n",
    "\n",
    "iris[iris[:,0]>5] # On conserve la ligne si la première colonne est >5"
   ]
  },
  {
   "cell_type": "code",
   "execution_count": 44,
   "metadata": {},
   "outputs": [
    {
     "output_type": "execute_result",
     "data": {
      "text/plain": [
       "array([ True, False, False, False, False,  True, False, False, False,\n",
       "       False,  True, False, False, False,  True,  True,  True,  True,\n",
       "        True,  True,  True,  True, False,  True, False, False, False,\n",
       "        True,  True, False, False,  True,  True,  True, False, False,\n",
       "        True, False, False,  True, False, False, False, False,  True,\n",
       "       False,  True, False,  True, False,  True,  True,  True,  True,\n",
       "        True,  True,  True, False,  True,  True, False,  True,  True,\n",
       "        True,  True,  True,  True,  True,  True,  True,  True,  True,\n",
       "        True,  True,  True,  True,  True,  True,  True,  True,  True,\n",
       "        True,  True,  True,  True,  True,  True,  True,  True,  True,\n",
       "        True,  True,  True, False,  True,  True,  True,  True,  True,\n",
       "        True,  True,  True,  True,  True,  True,  True, False,  True,\n",
       "        True,  True,  True,  True,  True,  True,  True,  True,  True,\n",
       "        True,  True,  True,  True,  True,  True,  True,  True,  True,\n",
       "        True,  True,  True,  True,  True,  True,  True,  True,  True,\n",
       "        True,  True,  True,  True,  True,  True,  True,  True,  True,\n",
       "        True,  True,  True,  True,  True,  True])"
      ]
     },
     "metadata": {},
     "execution_count": 44
    }
   ],
   "source": [
    "# Si on effectue seulement le test :\n",
    "\n",
    "iris[:,0]>5"
   ]
  },
  {
   "source": [
    "### 1.2.3. Fancy indexing\n",
    "\n",
    "Le but est simple : fonner un tableau d'indices entre corechets à notre ndarray poru sélectionner plusieurs éléments non consécutifs"
   ],
   "cell_type": "markdown",
   "metadata": {}
  },
  {
   "cell_type": "code",
   "execution_count": 46,
   "metadata": {},
   "outputs": [
    {
     "output_type": "stream",
     "name": "stdout",
     "text": [
      "[ 1  2  3  4  5  6  7  8  9 10]\nNotre nouveau tableau après fancy indexing :\n[[ 5 10  6]\n [ 2  9  4]]\n"
     ]
    }
   ],
   "source": [
    "notre_tableau = np.array([1,2,3,4,5,6,7,8,9,10])\n",
    "print(notre_tableau)\n",
    "print(\"Notre nouveau tableau après fancy indexing :\")\n",
    "print(notre_tableau[np.array([[4,9,5],[1,8,3]])])"
   ]
  },
  {
   "source": [
    "## 1.2. Accéder aux éléments par tranche (slicing)\n",
    "\n",
    "### 1.3.1. Slicing sur un tableau NumpY à 1d"
   ],
   "cell_type": "markdown",
   "metadata": {}
  },
  {
   "cell_type": "code",
   "execution_count": 47,
   "metadata": {},
   "outputs": [
    {
     "output_type": "execute_result",
     "data": {
      "text/plain": [
       "array([1, 2, 3])"
      ]
     },
     "metadata": {},
     "execution_count": 47
    }
   ],
   "source": [
    "# Les trois premiers éléments\n",
    "notre_tableau[:3]"
   ]
  },
  {
   "cell_type": "code",
   "execution_count": 49,
   "metadata": {},
   "outputs": [
    {
     "output_type": "execute_result",
     "data": {
      "text/plain": [
       "array([ 6,  7,  8,  9, 10])"
      ]
     },
     "metadata": {},
     "execution_count": 49
    }
   ],
   "source": [
    "# Les derniers éléments à partir de l'index 5\n",
    "notre_tableau[5:]"
   ]
  },
  {
   "cell_type": "code",
   "execution_count": 53,
   "metadata": {},
   "outputs": [
    {
     "output_type": "execute_result",
     "data": {
      "text/plain": [
       "array([4, 5, 6, 7])"
      ]
     },
     "metadata": {},
     "execution_count": 53
    }
   ],
   "source": [
    "# Du troisième au septième indice\n",
    "notre_tableau[3:7]"
   ]
  },
  {
   "cell_type": "code",
   "execution_count": 56,
   "metadata": {},
   "outputs": [
    {
     "output_type": "execute_result",
     "data": {
      "text/plain": [
       "array([ 2,  4,  6,  8, 10])"
      ]
     },
     "metadata": {},
     "execution_count": 56
    }
   ],
   "source": [
    "# Avec un pas de 2 à partir de l'indice 1\n",
    "notre_tableau[1::2]"
   ]
  },
  {
   "source": [
    "### 1.3.2. Slicing sur un tableau NumPy à 2D"
   ],
   "cell_type": "markdown",
   "metadata": {}
  },
  {
   "cell_type": "code",
   "execution_count": 57,
   "metadata": {},
   "outputs": [
    {
     "output_type": "execute_result",
     "data": {
      "text/plain": [
       "array([[5.1, 3.5, 1.4, 0.2],\n",
       "       [4.9, 3. , 1.4, 0.2]])"
      ]
     },
     "metadata": {},
     "execution_count": 57
    }
   ],
   "source": [
    "# Ici on sélectionne les deux première lignes des 4 premières colonnes\n",
    "iris[:2,:4]"
   ]
  },
  {
   "cell_type": "code",
   "execution_count": 58,
   "metadata": {},
   "outputs": [
    {
     "output_type": "execute_result",
     "data": {
      "text/plain": [
       "array([[5.2, 2.3, 3. ],\n",
       "       [5. , 1.9, 3. ],\n",
       "       [5.2, 2. , 3. ],\n",
       "       [5.4, 2.3, 3. ],\n",
       "       [5.1, 1.8, 3. ]])"
      ]
     },
     "metadata": {},
     "execution_count": 58
    }
   ],
   "source": [
    "# Les dernières lignes à partir de l'index 145 et les dernières colonnes à partir de l'indice 2\n",
    "iris[145:,2:]"
   ]
  },
  {
   "cell_type": "code",
   "execution_count": 8,
   "metadata": {},
   "outputs": [
    {
     "output_type": "execute_result",
     "data": {
      "text/plain": [
       "array([5.1, 3.5, 1.4, 0.2, 1. ])"
      ]
     },
     "metadata": {},
     "execution_count": 8
    }
   ],
   "source": [
    "# Affiche toutes les colonnes de la ligne 0\n",
    "iris[0,:]"
   ]
  },
  {
   "cell_type": "code",
   "execution_count": 60,
   "metadata": {},
   "outputs": [
    {
     "output_type": "execute_result",
     "data": {
      "text/plain": [
       "array([5.1, 4.9, 4.7, 4.6, 5. , 5.4, 4.6, 5. , 4.4, 4.9, 5.4, 4.8, 4.8,\n",
       "       4.3, 5.8, 5.7, 5.4, 5.1, 5.7, 5.1, 5.4, 5.1, 4.6, 5.1, 4.8, 5. ,\n",
       "       5. , 5.2, 5.2, 4.7, 4.8, 5.4, 5.2, 5.5, 4.9, 5. , 5.5, 4.9, 4.4,\n",
       "       5.1, 5. , 4.5, 4.4, 5. , 5.1, 4.8, 5.1, 4.6, 5.3, 5. , 7. , 6.4,\n",
       "       6.9, 5.5, 6.5, 5.7, 6.3, 4.9, 6.6, 5.2, 5. , 5.9, 6. , 6.1, 5.6,\n",
       "       6.7, 5.6, 5.8, 6.2, 5.6, 5.9, 6.1, 6.3, 6.1, 6.4, 6.6, 6.8, 6.7,\n",
       "       6. , 5.7, 5.5, 5.5, 5.8, 6. , 5.4, 6. , 6.7, 6.3, 5.6, 5.5, 5.5,\n",
       "       6.1, 5.8, 5. , 5.6, 5.7, 5.7, 6.2, 5.1, 5.7, 6.3, 5.8, 7.1, 6.3,\n",
       "       6.5, 7.6, 4.9, 7.3, 6.7, 7.2, 6.5, 6.4, 6.8, 5.7, 5.8, 6.4, 6.5,\n",
       "       7.7, 7.7, 6. , 6.9, 5.6, 7.7, 6.3, 6.7, 7.2, 6.2, 6.1, 6.4, 7.2,\n",
       "       7.4, 7.9, 6.4, 6.3, 6.1, 7.7, 6.3, 6.4, 6. , 6.9, 6.7, 6.9, 5.8,\n",
       "       6.8, 6.7, 6.7, 6.3, 6.5, 6.2, 5.9])"
      ]
     },
     "metadata": {},
     "execution_count": 60
    }
   ],
   "source": [
    "# Affiche toutes les lignes de la colonne 0\n",
    "iris[:,0]"
   ]
  },
  {
   "cell_type": "code",
   "execution_count": 5,
   "metadata": {},
   "outputs": [
    {
     "output_type": "execute_result",
     "data": {
      "text/plain": [
       "array([5.9, 3. , 5.1, 1.8, 3. ])"
      ]
     },
     "metadata": {},
     "execution_count": 5
    }
   ],
   "source": [
    " iris[-1,:]"
   ]
  },
  {
   "cell_type": "code",
   "execution_count": 6,
   "metadata": {},
   "outputs": [
    {
     "output_type": "execute_result",
     "data": {
      "text/plain": [
       "array([1, 2, 3, 4, 5])"
      ]
     },
     "metadata": {},
     "execution_count": 6
    }
   ],
   "source": [
    "sous_tableau = notre_tableau[:5]\n",
    "sous_tableau"
   ]
  },
  {
   "cell_type": "code",
   "execution_count": 7,
   "metadata": {},
   "outputs": [
    {
     "output_type": "execute_result",
     "data": {
      "text/plain": [
       "array([10,  2,  3,  4,  5])"
      ]
     },
     "metadata": {},
     "execution_count": 7
    }
   ],
   "source": [
    "sous_tableau[0] = 10\n",
    "sous_tableau"
   ]
  },
  {
   "cell_type": "code",
   "execution_count": 8,
   "metadata": {},
   "outputs": [
    {
     "output_type": "execute_result",
     "data": {
      "text/plain": [
       "array([10,  2,  3,  4,  5,  6,  7,  8,  9, 10])"
      ]
     },
     "metadata": {},
     "execution_count": 8
    }
   ],
   "source": [
    " notre_tableau"
   ]
  },
  {
   "cell_type": "code",
   "execution_count": 9,
   "metadata": {},
   "outputs": [
    {
     "output_type": "stream",
     "name": "stdout",
     "text": [
      "[10  2  3  4  5]\n[ 1  2  3  4  5  6  7  8  9 10 11 12 13 14 15 16 17 18 19 20]\n"
     ]
    }
   ],
   "source": [
    "notre_tableau= np.array([1,2,3,4,5,6,7,8,9,10,11,12,13,14,15,16,17,18,19,20])\n",
    "\n",
    "sous_tableau = notre_tableau[:5].copy()\n",
    "sous_tableau[0] = 10\n",
    "print(sous_tableau)\n",
    "print(notre_tableau)"
   ]
  },
  {
   "cell_type": "code",
   "execution_count": 10,
   "metadata": {},
   "outputs": [
    {
     "output_type": "execute_result",
     "data": {
      "text/plain": [
       "array([[10, 11, 12],\n",
       "       [13, 14, 15],\n",
       "       [16, 17, 18]])"
      ]
     },
     "metadata": {},
     "execution_count": 10
    }
   ],
   "source": [
    "mon_tableau = np.array([[10,11,12],[13,14,15],[16,17,18]])\n",
    "mon_tableau"
   ]
  },
  {
   "cell_type": "code",
   "execution_count": 11,
   "metadata": {},
   "outputs": [
    {
     "output_type": "execute_result",
     "data": {
      "text/plain": [
       "array([[20, 21, 22],\n",
       "       [23, 24, 25],\n",
       "       [26, 27, 28]])"
      ]
     },
     "metadata": {},
     "execution_count": 11
    }
   ],
   "source": [
    "np.add(mon_tableau,10)"
   ]
  },
  {
   "cell_type": "code",
   "execution_count": 12,
   "metadata": {},
   "outputs": [
    {
     "output_type": "stream",
     "name": "stdout",
     "text": [
      "[[200 220 240]\n [260 280 300]\n [320 340 360]]\n[[10 11 12]\n [13 14 15]\n [16 17 18]]\n"
     ]
    }
   ],
   "source": [
    "# Multiplier\n",
    "m = np.multiply(mon_tableau,20)\n",
    "print(m)\n",
    "print(mon_tableau)"
   ]
  },
  {
   "cell_type": "code",
   "execution_count": 13,
   "metadata": {},
   "outputs": [
    {
     "output_type": "stream",
     "name": "stdout",
     "text": [
      "[10 20 30]\n[[10 11 12]\n [13 14 15]\n [16 17 18]]\n"
     ]
    }
   ],
   "source": [
    " mon_tableau_2 = np.array([10,20,30])\n",
    "print(mon_tableau_2)\n",
    "print(mon_tableau)"
   ]
  },
  {
   "cell_type": "code",
   "execution_count": 15,
   "metadata": {},
   "outputs": [
    {
     "output_type": "execute_result",
     "data": {
      "text/plain": [
       "array([[  0,  -9, -18],\n",
       "       [  3,  -6, -15],\n",
       "       [  6,  -3, -12]])"
      ]
     },
     "metadata": {},
     "execution_count": 15
    }
   ],
   "source": [
    "# Soustraire\n",
    "np.subtract(mon_tableau,mon_tableau_2)"
   ]
  },
  {
   "cell_type": "code",
   "execution_count": 16,
   "metadata": {},
   "outputs": [
    {
     "output_type": "execute_result",
     "data": {
      "text/plain": [
       "array([[1, 2, 3],\n",
       "       [4, 5, 6],\n",
       "       [7, 8, 9]])"
      ]
     },
     "metadata": {},
     "execution_count": 16
    }
   ],
   "source": [
    "mon_tableau_3 = np.array([[1,2,3],[4,5,6],[7,8,9]])\n",
    "mon_tableau_3"
   ]
  },
  {
   "cell_type": "code",
   "execution_count": 17,
   "metadata": {},
   "outputs": [
    {
     "output_type": "execute_result",
     "data": {
      "text/plain": [
       "array([[ 10,  22,  36],\n",
       "       [ 52,  70,  90],\n",
       "       [112, 136, 162]])"
      ]
     },
     "metadata": {},
     "execution_count": 17
    }
   ],
   "source": [
    "np.multiply(mon_tableau,mon_tableau_3)"
   ]
  },
  {
   "cell_type": "code",
   "execution_count": 19,
   "metadata": {},
   "outputs": [
    {
     "output_type": "stream",
     "name": "stdout",
     "text": [
      "Somme sur les colonnes :\n[876.5 458.6 563.7 179.9 300. ]\nSomme par ligne: \n[11.2 10.5 10.4 10.4 11.2 12.4 10.7 11.1  9.9 10.6 11.8 11.  10.3  9.5\n 12.2 13.  12.  11.3 12.5 11.7 11.7 11.7 10.4 11.6 11.3 10.8 11.4 11.4\n 11.2 10.7 10.7 11.7 11.9 12.3 10.7 10.6 11.5 11.   9.9 11.2 11.1  9.4\n 10.1 11.7 12.2 10.5 11.7 10.4 11.7 10.9 18.3 17.6 18.4 15.1 17.4 16.3\n 17.9 13.6 17.4 15.2 13.5 16.6 15.2 17.1 15.4 17.6 16.6 15.6 16.4 15.1\n 17.7 16.2 17.2 16.8 16.9 17.4 17.8 18.4 16.9 14.8 14.8 14.6 15.6 17.4\n 16.4 17.5 18.  16.3 16.  15.3 15.7 17.1 15.6 13.6 15.8 16.1 16.1 16.7\n 13.7 15.9 21.1 18.5 21.1 19.6 20.5 22.3 16.6 21.3 19.8 22.4 19.8 19.3\n 20.4 18.2 19.1 20.2 19.8 23.4 22.5 17.7 21.1 18.3 22.2 18.7 20.8 21.2\n 18.6 18.8 19.9 20.6 21.2 23.1 20.  18.7 18.7 22.1 20.7 19.8 18.6 20.5\n 20.8 20.4 18.5 21.2 21.2 20.2 18.7 19.7 20.3 18.8]\n"
     ]
    }
   ],
   "source": [
    "print(\"Somme sur les colonnes :\")\n",
    "print(np.sum(iris, axis=0))\n",
    "\n",
    "print(\"Somme par ligne: \")\n",
    "print(np.sum(iris, axis=1))"
   ]
  },
  {
   "cell_type": "code",
   "execution_count": 20,
   "metadata": {},
   "outputs": [
    {
     "output_type": "stream",
     "name": "stdout",
     "text": [
      "[5.84333333 3.05733333 3.758      1.19933333 2.        ]\n[0.82530129 0.43441097 1.75940407 0.75969263 0.81649658]\n"
     ]
    }
   ],
   "source": [
    "# Moyenne et ecartype\n",
    "print(np.mean(iris, axis=0))\n",
    "print(np.std(iris, axis=0))"
   ]
  },
  {
   "cell_type": "code",
   "execution_count": 23,
   "metadata": {},
   "outputs": [
    {
     "output_type": "stream",
     "name": "stdout",
     "text": [
      "\nMoyenne et écartype pour le type 1 :\n[5.006 3.428 1.462 0.246 1.   ]\n[0.34894699 0.37525458 0.17191859 0.10432641 0.        ]\n\nMoyenne et écartype pour le type 2 :\n[5.936 2.77  4.26  1.326 2.   ]\n[0.51098337 0.31064449 0.46518813 0.19576517 0.        ]\n\nMoyenne et écartype pour le type 3 :\n[6.588 2.974 5.552 2.026 3.   ]\n[0.62948868 0.31925538 0.54634787 0.27188968 0.        ]\n"
     ]
    }
   ],
   "source": [
    "for i in range(3):\n",
    "\n",
    "    print(\"\\nMoyenne et écartype pour le type\",i+1,\":\")\n",
    "    moyenne = np.mean(iris[iris[:,4] == i+1], axis=0)\n",
    "    print(moyenne)\n",
    "    std = np.std(iris[iris[:,4] == i+1], axis=0)\n",
    "    print(std)\n"
   ]
  },
  {
   "cell_type": "code",
   "execution_count": null,
   "metadata": {},
   "outputs": [],
   "source": []
  }
 ]
}