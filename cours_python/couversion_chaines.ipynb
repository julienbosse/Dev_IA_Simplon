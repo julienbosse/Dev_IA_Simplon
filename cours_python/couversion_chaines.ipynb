{
 "metadata": {
  "language_info": {
   "codemirror_mode": {
    "name": "ipython",
    "version": 3
   },
   "file_extension": ".py",
   "mimetype": "text/x-python",
   "name": "python",
   "nbconvert_exporter": "python",
   "pygments_lexer": "ipython3",
   "version": "3.8.5"
  },
  "orig_nbformat": 2,
  "kernelspec": {
   "name": "python385jvsc74a57bd04ad1113733ce155ce9cb43bdc3e17679916cd44516b0bf0a5049a72e2a7064d4",
   "display_name": "Python 3.8.5 64-bit ('base': conda)"
  }
 },
 "nbformat": 4,
 "nbformat_minor": 2,
 "cells": [
  {
   "source": [
    "## Conversion de chaines\n",
    "\n",
    "### Liste à partir de chaine"
   ],
   "cell_type": "markdown",
   "metadata": {}
  },
  {
   "cell_type": "code",
   "execution_count": 1,
   "metadata": {},
   "outputs": [
    {
     "output_type": "stream",
     "name": "stdout",
     "text": [
      "D u   p\n['D', 'u', ' ', 'p', 'a', 's', 's', 'é', ' ', 'f', 'a', 'i', 's', 'o', 'n', 's', ' ', 't', 'a', 'b', 'l', 'e', ' ', 'r', 'a', 's', 'e']\n['Du p', 'sé faisons table r', 'e']\n['Du', 'passé', 'faisons', 'table', 'rase']\n"
     ]
    }
   ],
   "source": [
    "s1 = \"Du passé faisons table rase\"\n",
    "l1 = [i for i in s1]\n",
    "l2 = s1.split(\"as\")\n",
    "l3 = s1.split() # séparateur par défaut = ' '\n",
    "\n",
    "print(l1[0], l1[1], l1[2], l1[3])\n",
    "print(l1)\n",
    "print(l2)\n",
    "print(l3)"
   ]
  },
  {
   "source": [
    "### Chaine à partir de liste"
   ],
   "cell_type": "markdown",
   "metadata": {}
  },
  {
   "cell_type": "code",
   "execution_count": 3,
   "metadata": {},
   "outputs": [
    {
     "output_type": "stream",
     "name": "stdout",
     "text": [
      "Hello World\nDu passé faisons table rase\n"
     ]
    }
   ],
   "source": [
    "l1 = ['H','e','l','l','o',' ','W','o','r','l','d']\n",
    "s1 = \"\".join(l1)\n",
    "s3 = \" \".join(l3) # en premier vient le séparateur\n",
    "\n",
    "print(s1)\n",
    "print(s3)"
   ]
  },
  {
   "source": [
    "### Rechercher et remplacer"
   ],
   "cell_type": "markdown",
   "metadata": {}
  },
  {
   "cell_type": "code",
   "execution_count": 4,
   "metadata": {},
   "outputs": [
    {
     "output_type": "stream",
     "name": "stdout",
     "text": [
      "faisons TABLE RASE\n"
     ]
    }
   ],
   "source": [
    "s1 = \"Faisons table rase\"\n",
    "s2 = s1[:8].lower() + s1[8:].upper()\n",
    "print(s2) "
   ]
  },
  {
   "cell_type": "code",
   "execution_count": 5,
   "metadata": {},
   "outputs": [
    {
     "output_type": "stream",
     "name": "stdout",
     "text": [
      "3\n35\n-1\n"
     ]
    }
   ],
   "source": [
    "s1 = \"Ce texte contient deux fois le mot texte.\"\n",
    "print(s1.find(\"texte\", 0))\n",
    "print(s1.find(\"texte\", 4))\n",
    "print(s1.find(\"texte\", 36))"
   ]
  },
  {
   "cell_type": "code",
   "execution_count": 6,
   "metadata": {},
   "outputs": [
    {
     "output_type": "stream",
     "name": "stdout",
     "text": [
      "3\n35\n-1\n"
     ]
    }
   ],
   "source": [
    "max = 0\n",
    "while max > -1:\n",
    "    max = s1.find(\"texte\",max+1)\n",
    "    print(max)"
   ]
  },
  {
   "cell_type": "code",
   "execution_count": 7,
   "metadata": {},
   "outputs": [
    {
     "output_type": "stream",
     "name": "stdout",
     "text": [
      "20\n16\nLe prix est de $3 \n"
     ]
    }
   ],
   "source": [
    "# L'intéret est de pouvoir effectuer des substitutions\n",
    "\n",
    "s1 = \"Le prix est de deux euros.\"\n",
    "if 'euros in s1':\n",
    "    i = s1.index(\"euros\")\n",
    "    print(i)\n",
    "    s2 = s1[:i-5] + '$' + s1[i-5:i]\n",
    "    j = s2.find(\"deux\")\n",
    "    print(j)\n",
    "    s3 = s2[:j] + \"3\" + s2[j+4:]\n",
    "\n",
    "print(s3)"
   ]
  },
  {
   "cell_type": "code",
   "execution_count": 8,
   "metadata": {},
   "outputs": [
    {
     "output_type": "stream",
     "name": "stdout",
     "text": [
      "Le prix est de $3\n"
     ]
    }
   ],
   "source": [
    "# Méthode replace()\n",
    "\n",
    "s1 = \"Le prix est de deux euros\"\n",
    "s2 = s1.replace(\"deux euros\",\"$3\")\n",
    "print(s2)"
   ]
  },
  {
   "cell_type": "code",
   "execution_count": 13,
   "metadata": {},
   "outputs": [
    {
     "output_type": "stream",
     "name": "stdout",
     "text": [
      "['seulement', '300', '?']\n\nseulement\nmot\n\n300\nnombre\n\n?\nnot word nor num\n"
     ]
    }
   ],
   "source": [
    "# Méthode pour vérifier des ous-chaines \n",
    "\n",
    "s = \"seulement 300 ?\"\n",
    "l = s.split()\n",
    "print(l)\n",
    "for mot in l:\n",
    "    print(\"\\n\"+mot)\n",
    "    if mot.isalpha():\n",
    "        print(\"mot\")\n",
    "    if mot.isnumeric():\n",
    "        print(\"nombre\")\n",
    "    if not mot.isalnum():\n",
    "        print('not word nor num')"
   ]
  },
  {
   "source": [
    "## Expressions rationnelles"
   ],
   "cell_type": "markdown",
   "metadata": {}
  },
  {
   "cell_type": "code",
   "execution_count": 9,
   "metadata": {},
   "outputs": [
    {
     "output_type": "stream",
     "name": "stdout",
     "text": [
      "['Le', 'Argentine']\n['PIB', 'Argentine', 'baisse', 'depuis']\n"
     ]
    }
   ],
   "source": [
    "from re import findall\n",
    "\n",
    "s = \"Le PIB de l'Argentine baisse depuis 3 ans\"\n",
    "\n",
    "l1 = findall(\"[A-Z][a-z]+\",s)\n",
    "l2 = findall(\"[A-z]*[iI][A-z]*\",s) # [a-zA-Z] = [A-Za-z] = [A-z]\n",
    "print(l1)\n",
    "print(l2)\n"
   ]
  },
  {
   "cell_type": "code",
   "execution_count": 10,
   "metadata": {},
   "outputs": [
    {
     "output_type": "stream",
     "name": "stdout",
     "text": [
      "['0678828383', '09.34.67.12.11', '03 11 23 20 38', '03.11 23 2038', '03-23-20-20-38']\n"
     ]
    }
   ],
   "source": [
    "# Exemple \n",
    "\n",
    "motif = \"0[1-9](?:[\\s\\.\\-]?[0-9]{2}){4}\"\n",
    "n1 = \"0678828383\"\n",
    "n2 = \"09.34.67.12.11\"\n",
    "n3 = \"03 11 23 20 38,\"\n",
    "n4 = \"03 11 23 20,\"\n",
    "n5 = \"03.11 23 2038\"\n",
    "n6 = \"03-23-20-20-38\"\n",
    "s = n1+n2+n3+n4+n5+n6\n",
    "print(findall(motif,s))"
   ]
  },
  {
   "cell_type": "code",
   "execution_count": 11,
   "metadata": {},
   "outputs": [
    {
     "output_type": "stream",
     "name": "stdout",
     "text": [
      "Un texte  HTML </strong> avec des balies et même <script type ='text/javascript'>var i= 5; </script> du javascript dedans.\n"
     ]
    }
   ],
   "source": [
    "# Fonction sub() qui prend 3 arguments  : motif de recherche, une valeur de remplacement, la chaine à scanner\n",
    "\n",
    "from re import sub\n",
    "\n",
    "s = \"Un texte <strong> HTML </strong> avec des balies\"\n",
    "s += \" et même <script type ='text/javascript'>\"\n",
    "s += \"var i= 5; </script> du javascript dedans.\"\n",
    "s1 = sub(\"<[a-z]*>\",\"\", s)\n",
    "print(s1)"
   ]
  },
  {
   "cell_type": "code",
   "execution_count": 12,
   "metadata": {},
   "outputs": [
    {
     "output_type": "stream",
     "name": "stdout",
     "text": [
      "Un texte  du javascript dedans.\nUn texte  HTML  avec des balies et même var i= 5;  du javascript dedans.\nUn texte  HTML  avec des balies et même var i= 5;  du javascript dedans.\n"
     ]
    }
   ],
   "source": [
    "s1 = sub(\"<.*>\", \"\", s)\n",
    "s2 = sub(\"<[a-z\\\\/'=\\s]*>\",\"\",s)\n",
    "s3 = sub('<[^>]*>', \"\", s)\n",
    "print(s1)\n",
    "print(s2)\n",
    "print(s3)"
   ]
  },
  {
   "cell_type": "code",
   "execution_count": null,
   "metadata": {},
   "outputs": [],
   "source": []
  }
 ]
}