{
 "metadata": {
  "language_info": {
   "codemirror_mode": {
    "name": "ipython",
    "version": 3
   },
   "file_extension": ".py",
   "mimetype": "text/x-python",
   "name": "python",
   "nbconvert_exporter": "python",
   "pygments_lexer": "ipython3",
   "version": "3.8.5"
  },
  "orig_nbformat": 2,
  "kernelspec": {
   "name": "python385jvsc74a57bd064b474f71659f9be32f34132c3eef93d33d176ead871b80ca6db3fa26bc83f65",
   "display_name": "Python 3.8.5 64-bit ('base': conda)"
  }
 },
 "nbformat": 4,
 "nbformat_minor": 2,
 "cells": [
  {
   "source": [
    "## Encapsulation : "
   ],
   "cell_type": "markdown",
   "metadata": {}
  },
  {
   "cell_type": "code",
   "execution_count": 7,
   "metadata": {},
   "outputs": [],
   "source": [
    "class Formulaire:\n",
    "    def __init__(self, nom, prenom, anneeNaissance):\n",
    "        self.nom = nom.upper()\n",
    "        self.prenom = prenom.upper()\n",
    "\n",
    "        na = str(anneeNaissance)\n",
    "\n",
    "        if na.isnumeric():\n",
    "            self.anneeNaissance = int(na)\n",
    "        else:\n",
    "            self.anneeNaissance = 1900\n",
    "\n",
    "    def age(self):\n",
    "        return 2021 - self.anneeNaissance\n",
    "    def majeur(self):\n",
    "        return self.age() >= 18\n",
    "    def memeFamille(self, formulaire):\n",
    "        return self.nom == formulaire.nom\n",
    "\n",
    "    def memePersonne(self, formulaire):\n",
    "        return all( [ self.nom == formulaire.nom, self.prenom == formulaire.prenom, self.anneeNaissance == formulaire.anneeNaissance ] )\n",
    "\n",
    "    def __str__(self):\n",
    "        return ( \"[\" + self.nom + \", \" + self.prenom + \", \" + str(self.anneeNaissance) + \"]\" )"
   ]
  },
  {
   "cell_type": "code",
   "execution_count": 10,
   "metadata": {},
   "outputs": [
    {
     "output_type": "stream",
     "name": "stdout",
     "text": [
      "16\n17\n121\n"
     ]
    }
   ],
   "source": [
    "jd = Formulaire(\"Doe\", \"John\", 2005)\n",
    "jn = Formulaire(\"Noob\", \"John\", \"2004\")\n",
    "ad = Formulaire(\"Doe\", \"alice\", \"yolo\")\n",
    "\n",
    "print(jd.age())\n",
    "print(jn.age())\n",
    "print(ad.age())"
   ]
  },
  {
   "cell_type": "code",
   "execution_count": 16,
   "metadata": {},
   "outputs": [
    {
     "output_type": "error",
     "ename": "TypeError",
     "evalue": "unsupported operand type(s) for -: 'int' and 'str'",
     "traceback": [
      "\u001b[0;31m---------------------------------------------------------------------------\u001b[0m",
      "\u001b[0;31mTypeError\u001b[0m                                 Traceback (most recent call last)",
      "\u001b[0;32m<ipython-input-16-1c7076dca221>\u001b[0m in \u001b[0;36m<module>\u001b[0;34m\u001b[0m\n\u001b[1;32m      1\u001b[0m \u001b[0mad\u001b[0m\u001b[0;34m.\u001b[0m\u001b[0manneeNaissance\u001b[0m \u001b[0;34m=\u001b[0m \u001b[0;34m\"yolo\"\u001b[0m\u001b[0;34m\u001b[0m\u001b[0;34m\u001b[0m\u001b[0m\n\u001b[0;32m----> 2\u001b[0;31m \u001b[0mprint\u001b[0m\u001b[0;34m(\u001b[0m\u001b[0mad\u001b[0m\u001b[0;34m.\u001b[0m\u001b[0mage\u001b[0m\u001b[0;34m(\u001b[0m\u001b[0;34m)\u001b[0m\u001b[0;34m)\u001b[0m\u001b[0;34m\u001b[0m\u001b[0;34m\u001b[0m\u001b[0m\n\u001b[0m",
      "\u001b[0;32m<ipython-input-7-3bc3f38e803b>\u001b[0m in \u001b[0;36mage\u001b[0;34m(self)\u001b[0m\n\u001b[1;32m     12\u001b[0m \u001b[0;34m\u001b[0m\u001b[0m\n\u001b[1;32m     13\u001b[0m     \u001b[0;32mdef\u001b[0m \u001b[0mage\u001b[0m\u001b[0;34m(\u001b[0m\u001b[0mself\u001b[0m\u001b[0;34m)\u001b[0m\u001b[0;34m:\u001b[0m\u001b[0;34m\u001b[0m\u001b[0;34m\u001b[0m\u001b[0m\n\u001b[0;32m---> 14\u001b[0;31m         \u001b[0;32mreturn\u001b[0m \u001b[0;36m2021\u001b[0m \u001b[0;34m-\u001b[0m \u001b[0mself\u001b[0m\u001b[0;34m.\u001b[0m\u001b[0manneeNaissance\u001b[0m\u001b[0;34m\u001b[0m\u001b[0;34m\u001b[0m\u001b[0m\n\u001b[0m\u001b[1;32m     15\u001b[0m     \u001b[0;32mdef\u001b[0m \u001b[0mmajeur\u001b[0m\u001b[0;34m(\u001b[0m\u001b[0mself\u001b[0m\u001b[0;34m)\u001b[0m\u001b[0;34m:\u001b[0m\u001b[0;34m\u001b[0m\u001b[0;34m\u001b[0m\u001b[0m\n\u001b[1;32m     16\u001b[0m         \u001b[0;32mreturn\u001b[0m \u001b[0mself\u001b[0m\u001b[0;34m.\u001b[0m\u001b[0mage\u001b[0m\u001b[0;34m(\u001b[0m\u001b[0;34m)\u001b[0m \u001b[0;34m>=\u001b[0m \u001b[0;36m18\u001b[0m\u001b[0;34m\u001b[0m\u001b[0;34m\u001b[0m\u001b[0m\n",
      "\u001b[0;31mTypeError\u001b[0m: unsupported operand type(s) for -: 'int' and 'str'"
     ]
    }
   ],
   "source": [
    "ad.anneeNaissance = \"yolo\"\n",
    "print(ad.age())"
   ]
  },
  {
   "source": [
    "## Pour éviter ça, on utilise l'encapsulation\n",
    "Eviter les essais d ebords, et les modifications non controlées en restreignant les accès en lecture et surtout en écriture des différents attributs.\n",
    "\n",
    "On utilise :\n",
    "\n",
    "- _get_naissance() pour définir comment se fait la lecture\n",
    "- _set_naissance() pour définir la définition"
   ],
   "cell_type": "markdown",
   "metadata": {}
  },
  {
   "cell_type": "code",
   "execution_count": 22,
   "metadata": {},
   "outputs": [],
   "source": [
    "class Formulaire:\n",
    "    def __init__(self, nom, prenom, anneeNaissance):\n",
    "        self.nom = nom.upper()\n",
    "        self.prenom = prenom.upper()\n",
    "        self.anneeNaissance = anneeNaissance\n",
    "\n",
    "    def _set_anneeNaissance(self, anneeNaissance):\n",
    "        na = str(anneeNaissance)\n",
    "        if na.isnumeric():\n",
    "            self._anneeNaissance = int(na)\n",
    "        else:\n",
    "            self._anneeNaissance = 1900\n",
    "\n",
    "    def _get_anneeNaissance(self):\n",
    "        return self._anneeNaissance\n",
    "    \n",
    "    anneeNaissance = property(_get_anneeNaissance, _set_anneeNaissance)\n",
    "\n",
    "    def age(self):\n",
    "        return 2021 - self.anneeNaissance\n",
    "    def majeur(self):\n",
    "        return self.age() >= 18\n",
    "    def memeFamille(self, formulaire):\n",
    "        return self.nom == formulaire.nom\n",
    "\n",
    "    def memePersonne(self, formulaire):\n",
    "        return all( [ self.nom == formulaire.nom, self.prenom == formulaire.prenom, self.anneeNaissance == formulaire.anneeNaissance ] )\n",
    "\n",
    "    def __str__(self):\n",
    "        return ( \"[\" + self.nom + \", \" + self.prenom + \", \" + str(self.anneeNaissance) + \"]\" )"
   ]
  },
  {
   "cell_type": "code",
   "execution_count": 24,
   "metadata": {},
   "outputs": [
    {
     "output_type": "stream",
     "name": "stdout",
     "text": [
      "16\n17\n121\n121\n"
     ]
    }
   ],
   "source": [
    "jd = Formulaire(\"Doe\", \"John\", 2005)\n",
    "jn = Formulaire(\"Noob\", \"John\", \"2004\")\n",
    "ad = Formulaire(\"Doe\", \"alice\", \"yolo\")\n",
    "\n",
    "print(jd.age())\n",
    "print(jn.age())\n",
    "print(ad.age())\n",
    "\n",
    "ad.anneeNaissance = \"yolo\"\n",
    "print(ad.age())"
   ]
  },
  {
   "source": [
    "## Exercice\n",
    "\n",
    "1. Modifier _get_naissance de sorte qu'il provoque un affichage dans la console avant de renvoyer la valeur. L'appel au calcul de l'âge provoque-i-il un afficahe supplémentaire ? Pourquoi?\n",
    "2. Modifier _set_naissance de sorte qu'il gère aussi le cas où la date de naissance est donnée comme une liste\n",
    "3. Utiliser des propriétés similaire pour encapsuler le nom et le prénom"
   ],
   "cell_type": "markdown",
   "metadata": {}
  },
  {
   "cell_type": "code",
   "execution_count": 98,
   "metadata": {},
   "outputs": [],
   "source": [
    "class Formulaire2:\n",
    "    def __init__(self, nom, prenom, anneeNaissance):\n",
    "        self.nom = nom\n",
    "        self.prenom = prenom\n",
    "        self.anneeNaissance = anneeNaissance\n",
    "\n",
    "    def _set_anneeNaissance(self, anneeNaissance):\n",
    "        if type(anneeNaissance)==list:\n",
    "            self._anneeNaissance = int(''.join(map(str,anneeNaissance)))\n",
    "        else:\n",
    "            na = str(anneeNaissance)\n",
    "            if na.isnumeric():\n",
    "                self._anneeNaissance = int(na)\n",
    "            else :\n",
    "                self._anneeNaissance = 1900\n",
    "\n",
    "    def _get_anneeNaissance(self):\n",
    "        print(\"Année de naissance:\", str(self._anneeNaissance))\n",
    "        return self._anneeNaissance\n",
    "\n",
    "\n",
    "    def _set_nom(self,nom):\n",
    "        if type(nom) != str:\n",
    "            nom = str(nom)\n",
    "        \n",
    "        self._nom = nom.upper()\n",
    "\n",
    "    def _get_nom(self):\n",
    "        return self._nom\n",
    "\n",
    "    def _set_prenom(self,prenom):\n",
    "        if type(prenom) != str:\n",
    "            prenom = str(prenom)\n",
    "        \n",
    "        self._prenom = prenom.upper()\n",
    "\n",
    "    def _get_prenom(self):\n",
    "        return self._prenom\n",
    "    \n",
    "    anneeNaissance = property(_get_anneeNaissance, _set_anneeNaissance)\n",
    "    prenom = property(_get_prenom, _set_prenom)\n",
    "    nom = property(_get_nom, _set_nom)\n",
    "\n",
    "    def age(self):\n",
    "        return 2021 - self.anneeNaissance\n",
    "    def majeur(self):\n",
    "        return self.age() >= 18\n",
    "    def memeFamille(self, formulaire):\n",
    "        return self.nom == formulaire.nom\n",
    "\n",
    "    def memePersonne(self, formulaire):\n",
    "        return all( [ self.nom == formulaire.nom, self.prenom == formulaire.prenom, self.anneeNaissance == formulaire.anneeNaissance ] )\n",
    "\n",
    "    def __str__(self):\n",
    "        return ( \"[\" + self.nom + \", \" + self.prenom + \", \" + str(self.anneeNaissance) + \"]\" )"
   ]
  },
  {
   "cell_type": "code",
   "execution_count": 101,
   "metadata": {},
   "outputs": [
    {
     "output_type": "stream",
     "name": "stdout",
     "text": [
      "Année de naissance: 2005\n[X Æ A-XII, JOHN, 2005]\nAnnée de naissance: 2004\n[42, JOHN, 2004]\nAnnée de naissance: 1900\n[DOE, ALICE, 1900]\n"
     ]
    }
   ],
   "source": [
    "jd = Formulaire2(\"X Æ A-XII\", \"John\", 2005)\n",
    "jn = Formulaire2(42, \"John\", [2,0,0,4])\n",
    "ad = Formulaire2(\"Doe\", \"alice\", \"yolo\")\n",
    "\n",
    "\n",
    "print(jd)\n",
    "print(jn)\n",
    "print(ad)"
   ]
  },
  {
   "cell_type": "code",
   "execution_count": null,
   "metadata": {},
   "outputs": [],
   "source": []
  }
 ]
}