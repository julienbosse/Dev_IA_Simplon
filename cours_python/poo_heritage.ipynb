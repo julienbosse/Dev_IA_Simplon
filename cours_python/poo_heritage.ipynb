{
 "metadata": {
  "language_info": {
   "codemirror_mode": {
    "name": "ipython",
    "version": 3
   },
   "file_extension": ".py",
   "mimetype": "text/x-python",
   "name": "python",
   "nbconvert_exporter": "python",
   "pygments_lexer": "ipython3",
   "version": "3.8.5"
  },
  "orig_nbformat": 2,
  "kernelspec": {
   "name": "python385jvsc74a57bd064b474f71659f9be32f34132c3eef93d33d176ead871b80ca6db3fa26bc83f65",
   "display_name": "Python 3.8.5 64-bit ('base': conda)"
  }
 },
 "nbformat": 4,
 "nbformat_minor": 2,
 "cells": [
  {
   "source": [
    "## Héritage : une classe hérite de toutes les méthodes de la classe dont elle est fille"
   ],
   "cell_type": "markdown",
   "metadata": {}
  },
  {
   "cell_type": "code",
   "execution_count": 1,
   "metadata": {},
   "outputs": [
    {
     "output_type": "stream",
     "name": "stdout",
     "text": [
      "DEBOUT LES DORMANTS\n"
     ]
    }
   ],
   "source": [
    "class Superstring(list) :\n",
    "    \n",
    "    def __init__(self,chaine):\n",
    "        list.__init__(self,chaine)\n",
    "\n",
    "    def upper(self):\n",
    "        for (i,c) in enumerate(self):\n",
    "            self[i] = c.upper()\n",
    "\n",
    "    def __str__(self):\n",
    "        return \"\".join(self)\n",
    "\n",
    "s1 = Superstring(\"Debout le dormant\")\n",
    "s1.append('s')\n",
    "s1.insert(9,'s')\n",
    "s1.upper()\n",
    "\n",
    "print(s1)"
   ]
  },
  {
   "cell_type": "code",
   "execution_count": null,
   "metadata": {},
   "outputs": [],
   "source": []
  }
 ]
}