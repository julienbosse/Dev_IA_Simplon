{
 "metadata": {
  "language_info": {
   "codemirror_mode": {
    "name": "ipython",
    "version": 3
   },
   "file_extension": ".py",
   "mimetype": "text/x-python",
   "name": "python",
   "nbconvert_exporter": "python",
   "pygments_lexer": "ipython3",
   "version": "3.8.5"
  },
  "orig_nbformat": 2,
  "kernelspec": {
   "name": "python385jvsc74a57bd064b474f71659f9be32f34132c3eef93d33d176ead871b80ca6db3fa26bc83f65",
   "display_name": "Python 3.8.5 64-bit ('base': conda)"
  }
 },
 "nbformat": 4,
 "nbformat_minor": 2,
 "cells": [
  {
   "source": [
    "## Héritage : une classe hérite de toutes les méthodes de la classe dont elle est fille"
   ],
   "cell_type": "markdown",
   "metadata": {}
  },
  {
   "cell_type": "code",
   "execution_count": 1,
   "metadata": {},
   "outputs": [
    {
     "output_type": "stream",
     "name": "stdout",
     "text": [
      "DEBOUT LES DORMANTS\n"
     ]
    }
   ],
   "source": [
    "class Superstring(list) :\n",
    "\n",
    "    def __init__(self, chaine):\n",
    "        list.__init__(self, chaine)\n",
    "\n",
    "    def upper(self):\n",
    "        for (i,c) in enumerate(self):\n",
    "            self[i] = c.upper()\n",
    "\n",
    "    def __str__(self):\n",
    "        return \"\".join(self)\n",
    "\n",
    "s1 = Superstring(\"Debout le dormant\")\n",
    "s1.append('s')\n",
    "s1.insert(9,'s')\n",
    "s1.upper()\n",
    "\n",
    "print(s1)"
   ]
  },
  {
   "source": [
    "### Mise en pratique\n",
    "1. Créer une class data qui hérite du formulaire et possède un attribut supplémentaire id. Une méthode doit permettre d'initiitliaser cet identifiant comme une combiansiase de cractères pris dans chaque autre attibut."
   ],
   "cell_type": "markdown",
   "metadata": {}
  },
  {
   "cell_type": "code",
   "execution_count": 17,
   "metadata": {},
   "outputs": [],
   "source": [
    "class Formulaire:\n",
    "    def __init__(self, nom, prenom, anneeNaissance):\n",
    "        self.nom = nom\n",
    "        self.prenom = prenom\n",
    "        self.anneeNaissance = anneeNaissance\n",
    "\n",
    "\n",
    "    def _set_anneeNaissance(self, anneeNaissance):\n",
    "        if type(anneeNaissance)==list:\n",
    "            na = ''.join(map(str,anneeNaissance))\n",
    "        else:\n",
    "            na = str(anneeNaissance)\n",
    "\n",
    "        if na.isnumeric():\n",
    "            self._anneeNaissance = int(na)\n",
    "        else :\n",
    "            self._anneeNaissance = 1900\n",
    "\n",
    "    def _get_anneeNaissance(self):\n",
    "        return self._anneeNaissance\n",
    "\n",
    "\n",
    "    def _set_nom(self,nom):\n",
    "        if type(nom) != str:\n",
    "            nom = str(nom)\n",
    "        self._nom = nom.upper()\n",
    "\n",
    "    def _get_nom(self):\n",
    "        return str(self._nom).upper()\n",
    "\n",
    "\n",
    "    def _set_prenom(self,prenom):\n",
    "        if type(prenom) != str:\n",
    "            prenom = str(prenom)\n",
    "        self._prenom = prenom.upper()\n",
    "\n",
    "    def _get_prenom(self):\n",
    "        return str(self._prenom).upper()\n",
    "    \n",
    "    anneeNaissance = property(_get_anneeNaissance, _set_anneeNaissance)\n",
    "    prenom = property(_get_prenom, _set_prenom)\n",
    "    nom = property(_get_nom, _set_nom)\n",
    "\n",
    "    def age(self):\n",
    "        return 2021 - self.anneeNaissance\n",
    "    def majeur(self):\n",
    "        return self.age() >= 18\n",
    "    def memeFamille(self, formulaire):\n",
    "        return self.nom == formulaire.nom\n",
    "\n",
    "    def memePersonne(self, formulaire):\n",
    "        return all( [ self.nom == formulaire.nom, self.prenom == formulaire.prenom, self.anneeNaissance == formulaire.anneeNaissance ] )\n",
    "\n",
    "    def __str__(self):\n",
    "        return ( \"[\" + self.nom + \", \" + self.prenom + \", \" + str(self.anneeNaissance) + \"]\" )"
   ]
  },
  {
   "cell_type": "code",
   "execution_count": 18,
   "metadata": {},
   "outputs": [],
   "source": [
    "jd = Formulaire(\"X Æ A-XII\", \"John\", 2005)"
   ]
  },
  {
   "cell_type": "code",
   "execution_count": 19,
   "metadata": {},
   "outputs": [],
   "source": [
    "class Data(Formulaire):\n",
    "\n",
    "    def __init__(self,nom,prenom,anneeNaissance):\n",
    "        Formulaire.__init__(self,nom,prenom,anneeNaissance)\n",
    "\n",
    "    def buildID(self):\n",
    "        return self.nom[0:1]+self.prenom[0:1]+str(self.anneeNaissance)"
   ]
  },
  {
   "cell_type": "code",
   "execution_count": 20,
   "metadata": {},
   "outputs": [
    {
     "output_type": "stream",
     "name": "stdout",
     "text": [
      "BJ1996\n"
     ]
    }
   ],
   "source": [
    "jb = Data(\"Bosse\",\"Julien\",1996)\n",
    "\n",
    "print(jb.buildID())"
   ]
  },
  {
   "cell_type": "code",
   "execution_count": null,
   "metadata": {},
   "outputs": [],
   "source": []
  }
 ]
}