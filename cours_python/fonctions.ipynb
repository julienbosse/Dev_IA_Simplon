{
 "metadata": {
  "language_info": {
   "codemirror_mode": {
    "name": "ipython",
    "version": 3
   },
   "file_extension": ".py",
   "mimetype": "text/x-python",
   "name": "python",
   "nbconvert_exporter": "python",
   "pygments_lexer": "ipython3",
   "version": "3.8.5"
  },
  "orig_nbformat": 2,
  "kernelspec": {
   "name": "python385jvsc74a57bd04ad1113733ce155ce9cb43bdc3e17679916cd44516b0bf0a5049a72e2a7064d4",
   "display_name": "Python 3.8.5 64-bit ('base': conda)"
  }
 },
 "nbformat": 4,
 "nbformat_minor": 2,
 "cells": [
  {
   "source": [
    "## Les fonctions"
   ],
   "cell_type": "markdown",
   "metadata": {}
  },
  {
   "cell_type": "code",
   "execution_count": 6,
   "metadata": {},
   "outputs": [
    {
     "output_type": "stream",
     "name": "stdout",
     "text": [
      "intérieur de test: 3\naprès test: 3\n"
     ]
    }
   ],
   "source": [
    "# variable global\n",
    "\n",
    "a = 2\n",
    "\n",
    "def test():\n",
    "    global a\n",
    "    a = 3\n",
    "    print(\"intérieur de test:\",a)\n",
    "\n",
    "test()\n",
    "print(\"après test:\",a)"
   ]
  },
  {
   "source": [
    "## Les fonctions récursives\n",
    "\n",
    "Une fonction peut être récursive: elle s'appelle elle-même. Mais il est importat de savoir qu'il existe un cas dans lequel elle ne s'appelle pas pour arrêter la récursion.\n"
   ],
   "cell_type": "markdown",
   "metadata": {}
  },
  {
   "cell_type": "code",
   "execution_count": 10,
   "metadata": {},
   "outputs": [
    {
     "output_type": "stream",
     "name": "stdout",
     "text": [
      "je m'appelle pour x = 10\nje m'appelle pour x = 5.0\nje m'appelle pour x = 2.5\nje ne m'appelle pas pour x = 1.25\n"
     ]
    },
    {
     "output_type": "execute_result",
     "data": {
      "text/plain": [
       "4"
      ]
     },
     "metadata": {},
     "execution_count": 10
    }
   ],
   "source": [
    "def recursive(x):\n",
    "    if x/2 < 1 : \n",
    "        print(\"je ne m'appelle pas pour x =\",x)\n",
    "        return 1\n",
    "    else:\n",
    "        print(\"je m'appelle pour x =\",x)\n",
    "        return recursive(x/2) + 1 # le + 1 est un compteur \n",
    "\n",
    "recursive(10)"
   ]
  },
  {
   "cell_type": "code",
   "execution_count": 39,
   "metadata": {},
   "outputs": [
    {
     "output_type": "stream",
     "name": "stdout",
     "text": [
      "Le prix est de $3\n"
     ]
    }
   ],
   "source": [
    "s1 = \"Le prix est de deux euros\"\n",
    "s2 = s1.replace(\"deux euros\",\"$3\")\n",
    "print(s2)"
   ]
  }
 ]
}