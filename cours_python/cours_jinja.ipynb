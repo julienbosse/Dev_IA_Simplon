{
 "metadata": {
  "language_info": {
   "codemirror_mode": {
    "name": "ipython",
    "version": 3
   },
   "file_extension": ".py",
   "mimetype": "text/x-python",
   "name": "python",
   "nbconvert_exporter": "python",
   "pygments_lexer": "ipython3",
   "version": "3.8.5"
  },
  "orig_nbformat": 2,
  "kernelspec": {
   "name": "python385jvsc74a57bd064b474f71659f9be32f34132c3eef93d33d176ead871b80ca6db3fa26bc83f65",
   "display_name": "Python 3.8.5 64-bit ('base': conda)"
  }
 },
 "nbformat": 4,
 "nbformat_minor": 2,
 "cells": [
  {
   "cell_type": "code",
   "execution_count": 3,
   "metadata": {},
   "outputs": [
    {
     "output_type": "stream",
     "name": "stdout",
     "text": [
      "Bonjour Julien\n"
     ]
    }
   ],
   "source": [
    "from jinja2 import Template\n",
    "\n",
    "reponse = input(\"Votre nom :\")\n",
    "\n",
    "tm = Template(\"Bonjour {{ nom }}\")\n",
    "texte = tm.render(nom=reponse)\n",
    "\n",
    "print(texte)"
   ]
  },
  {
   "cell_type": "code",
   "execution_count": 8,
   "metadata": {},
   "outputs": [
    {
     "output_type": "stream",
     "name": "stdout",
     "text": [
      "<!DOCTYPE html>\n<title>Hello from Flask</title>\n\n  <h1>Salut Julien!</h1>\n  <h1>Il est 06/14/21 15:13:33!</h1>\n\n"
     ]
    }
   ],
   "source": [
    "from jinja2 import Environment, FileSystemLoader\n",
    "\n",
    "## Nécessaire pour les dates en frnçais\n",
    "import datetime\n",
    "\n",
    "TMPL_DIR = \"tmpl\"\n",
    "fichier = \"base.jinja\"\n",
    "\n",
    "reponse = input(\"Votre nom : \")\n",
    "templateLoader = FileSystemLoader(searchpath=TMPL_DIR)\n",
    "templateEnv = Environment(loader=templateLoader)\n",
    "template = templateEnv.get_template(fichier)\n",
    "\n",
    "data={\n",
    "    \"nom\":reponse,\n",
    "    \"time_stamp\":datetime.datetime.now().strftime(\"%x %X\")\n",
    "}\n",
    "\n",
    "print( template.render( data ) )"
   ]
  },
  {
   "cell_type": "code",
   "execution_count": 9,
   "metadata": {},
   "outputs": [],
   "source": [
    "outputText = template.render( data )\n",
    "html_file = open('index.html','w')\n",
    "html_file.write(outputText)\n",
    "html_file.close()"
   ]
  },
  {
   "cell_type": "code",
   "execution_count": null,
   "metadata": {},
   "outputs": [],
   "source": []
  }
 ]
}