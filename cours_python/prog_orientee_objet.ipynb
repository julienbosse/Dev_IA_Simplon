{
 "metadata": {
  "language_info": {
   "codemirror_mode": {
    "name": "ipython",
    "version": 3
   },
   "file_extension": ".py",
   "mimetype": "text/x-python",
   "name": "python",
   "nbconvert_exporter": "python",
   "pygments_lexer": "ipython3",
   "version": "3.8.5"
  },
  "orig_nbformat": 2,
  "kernelspec": {
   "name": "python385jvsc74a57bd064b474f71659f9be32f34132c3eef93d33d176ead871b80ca6db3fa26bc83f65",
   "display_name": "Python 3.8.5 64-bit ('base': conda)"
  }
 },
 "nbformat": 4,
 "nbformat_minor": 2,
 "cells": [
  {
   "source": [
    "## Introduction\n",
    "Certaines méthodes sont définies pour des classes et d'autres non"
   ],
   "cell_type": "markdown",
   "metadata": {}
  },
  {
   "cell_type": "code",
   "execution_count": 187,
   "metadata": {},
   "outputs": [],
   "source": [
    "\n",
    "class Superstring :\n",
    "    \n",
    "    def __init__(self, chaine):\n",
    "        self.ch = chaine\n",
    "\n",
    "    def ajoute(self, char):\n",
    "        self.ch += char\n",
    "    def insert(self,char,i):\n",
    "        self.ch = self.ch[:i] + char + self.ch[i:]\n",
    "    def upper(self):\n",
    "        self.ch = self.ch.upper()\n",
    "    def capsdown(self):\n",
    "        self.ch = self.ch.lower()\n",
    "    def tri(self):\n",
    "        self.ch = \" \".join(sorted(self.ch.split(), key=str.lower))\n",
    "        \n",
    "\n",
    "    def __str__(self):\n",
    "        return \"type : \" + type(self).__name__ + \", content : \" + self.ch\n",
    "\n",
    "    "
   ]
  },
  {
   "cell_type": "code",
   "execution_count": 66,
   "metadata": {},
   "outputs": [
    {
     "output_type": "stream",
     "name": "stdout",
     "text": [
      "type : Superstring, content : ! bien c'est ce dis ecoutez important je que très\n"
     ]
    }
   ],
   "source": [
    "s1 = Superstring(\"Ecoutez bien c'est important\")\n",
    "s1.ajoute(\" ce que je dis !\")\n",
    "s1.insert(\" très\", 18)\n",
    "s1.capsdown()\n",
    "s1.tri()\n",
    "print(s1)"
   ]
  },
  {
   "cell_type": "code",
   "execution_count": 145,
   "metadata": {},
   "outputs": [],
   "source": [
    "class Formulaire:\n",
    "    def __init__(self, nom, prenom, anneeNaissance):\n",
    "        self.nom = nom.upper()\n",
    "        self.prenom = prenom.upper()\n",
    "        self.anneeNaissance = anneeNaissance\n",
    "    def age(self):\n",
    "        return 2021 - self.anneeNaissance\n",
    "    def majeur(self):\n",
    "        return self.age() >= 18\n",
    "    def memeFamille(self, formulaire):\n",
    "        return self.nom == formulaire.nom\n",
    "\n",
    "    def memePersonne(self, formulaire):\n",
    "        return all( [ self.nom == formulaire.nom, self.prenom == formulaire.prenom, self.anneeNaissance == formulaire.anneeNaissance ] )\n",
    "\n",
    "    def __str__(self):\n",
    "        return ( \"[\" + self.nom + \", \" + self.prenom + \", \" + str(self.anneeNaissance) + \"]\" )\n",
    "        # return [self.nom, self.prenom, self.anneeNaissance]\n"
   ]
  },
  {
   "cell_type": "code",
   "execution_count": 146,
   "metadata": {},
   "outputs": [
    {
     "output_type": "stream",
     "name": "stdout",
     "text": [
      "False\nTrue\nTrue\nFalse\n[DOE, JOHN, 2005]\n"
     ]
    }
   ],
   "source": [
    "jd = Formulaire(\"Doe\", \"John\", 2005)\n",
    "ad = Formulaire(\"doe\", \"Alice\", 2000)\n",
    "\n",
    "print(jd.majeur())\n",
    "print(ad.majeur())\n",
    "print(jd.memeFamille(ad))\n",
    "print(jd.memePersonne(ad))\n",
    "print(jd)"
   ]
  },
  {
   "source": [
    "Exercie :\n",
    "- Ajouter une méthode qui vérifie si deux formulaires renvoient à la même personne\n",
    "- Faire en sorte qu'on puisse afficher les formulaires sous la forme [nom, prenom, anneeNaissance]. Créer une liste de formulaires et la trier par année de naissance."
   ],
   "cell_type": "markdown",
   "metadata": {}
  },
  {
   "cell_type": "code",
   "execution_count": 135,
   "metadata": {},
   "outputs": [
    {
     "output_type": "stream",
     "name": "stdout",
     "text": [
      "[HUGO, CHERQUI, 1995]\n[JULIEN, BOSSE, 1996]\n[MATHIEU, BOSSE, 1998]\n"
     ]
    }
   ],
   "source": [
    "l = [\n",
    "    Formulaire(\"Julien\", \"Bosse\", 1996),\n",
    "    Formulaire(\"Mathieu\", \"Bosse\", 1998),\n",
    "    Formulaire(\"Hugo\", \"Cherqui\", 1995)\n",
    "    ]\n",
    "\n",
    "l.sort(key=lambda f: f.anneeNaissance)\n",
    "\n",
    "for f in l :\n",
    "    print(f)"
   ]
  },
  {
   "source": [
    "## Composer des objets, déléguer des méthodes\n",
    "# Jeu de bataille\n",
    "- Au début de la partie, on initialise une main de 7 cartes pour chaun des deux joueurs\n",
    "- Puis à chaque manche on pioche une carte par joueurs\n",
    "- Enfin, on compare chacune des cartes piochées entre elles.\n",
    "- Le gagnant est celui qui remporte le plus de manches."
   ],
   "cell_type": "markdown",
   "metadata": {}
  },
  {
   "cell_type": "code",
   "execution_count": 160,
   "metadata": {},
   "outputs": [
    {
     "output_type": "stream",
     "name": "stdout",
     "text": [
      "[(3, 4), (8, 2), (3, 3), (4, 4), (5, 3), (1, 3), (5, 4)]\n[(9, 1), (8, 4), (8, 1), (1, 4), (10, 2), (2, 2), (7, 1)]\n-5\nVainqueur : Joueur 2\n"
     ]
    }
   ],
   "source": [
    "from random import randrange\n",
    "\n",
    "# On tinitialise toutes les vlauers et les que peuvent prendre les cartes\n",
    "valeurs = [i for i in range(1,11)] # De l'As jusqu'au 10\n",
    "couleurs = [i for i in range(1,5)] # Pique 1, Coeur 2, Carreau 3, Trèfle 4\n",
    "\n",
    "# On choisi le nombre de tour que va durer la partie et on initialise le score à 0\n",
    "nbTours = 7\n",
    "score = 0\n",
    "\n",
    "# Efnin on crée une liste de tuple pour représenter le paquet de cartes\n",
    "paquet = [(v,c) for v in valeurs for c in couleurs]\n",
    "main1, main2 = [], []\n",
    "\n",
    "for i in range(nbTours):\n",
    "\n",
    "    # Le joueur 1 tire une carte aléatoirement dans le paquet\n",
    "    x = paquet[randrange(len(paquet))]\n",
    "    main1.append(x)\n",
    "    paquet.remove(x)\n",
    "\n",
    "    # Idem pour le joueur 2\n",
    "    y = paquet[randrange(len(paquet))]\n",
    "    main2.append(y)\n",
    "    paquet.remove(y)\n",
    "\n",
    "print(main1)\n",
    "print(main2)\n",
    "\n",
    "for i in range(nbTours):\n",
    "    if main1[i][0] > main2[i][0] or (main1[i][0] == main2[i][0] and main1[i][1] > main2[i][1]):\n",
    "        score += 1\n",
    "    else :\n",
    "        score -= 1\n",
    "\n",
    "print(score)\n",
    "print(\"Vainqueur : \" + ( \"Joueur 1\" if score > 0 else \"Joueur 2\"))"
   ]
  },
  {
   "source": [
    "## Composer des objets, déléguer des méthodes\n",
    "# Exercice :\n",
    "- Créer une fonctions plusGrandQue() qui doit faire la comparaison entre deux cartes. \n",
    "- Créer une fonction piocher() qui doit sélectionner l'ensemble des cartes tirées par un joueur et remplacer la deuxième partie du code. \n",
    "- Créer une classe Carte ayant les attibuts couleurs et valeur."
   ],
   "cell_type": "markdown",
   "metadata": {}
  },
  {
   "cell_type": "code",
   "execution_count": 221,
   "metadata": {},
   "outputs": [],
   "source": [
    "# def plusGrandQue(main1, main2):\n",
    "#    if main1[i][0] > main2[i][0] or (main1[i][0] == main2[i][0] and main1[i][1] > main2[i][1]):\n",
    "#        return True\n",
    "#    else :\n",
    "#        return False\n",
    "\n",
    "def piocher(paquet, nbTours):\n",
    "    main1 = []\n",
    "    main2 = []\n",
    "\n",
    "    for i in range(nbTours):\n",
    "        # Le joueur 1 tire une carte aléatoirement dans le paquet\n",
    "        x = paquet[randrange(len(paquet))]\n",
    "        main1.append(x)\n",
    "        paquet.remove(x)\n",
    "\n",
    "        # Idem pour le joueur 2\n",
    "        y = paquet[randrange(len(paquet))]\n",
    "        main2.append(y)\n",
    "        paquet.remove(y)\n",
    "\n",
    "\n"
   ]
  },
  {
   "cell_type": "code",
   "execution_count": 200,
   "metadata": {},
   "outputs": [],
   "source": [
    "\n"
   ]
  },
  {
   "cell_type": "code",
   "execution_count": 244,
   "metadata": {},
   "outputs": [
    {
     "output_type": "stream",
     "name": "stdout",
     "text": [
      "Main 1 :\nV: 1, C: 2\nV: 10, C: 1\nV: 5, C: 3\nV: 4, C: 1\nV: 7, C: 3\nMain 2 :\nV: 4, C: 4\nV: 10, C: 2\nV: 5, C: 4\nV: 9, C: 3\nV: 9, C: 4\nScore :\n-5\n"
     ]
    }
   ],
   "source": [
    "class Carte():\n",
    "    def __init__(self,valeur,couleur):\n",
    "        self.valeur = valeur \n",
    "        self.couleur = couleur   \n",
    "\n",
    "    def __str__(self):\n",
    "        return (\"V: \"+str(self.valeur)+\", C: \"+str(self.couleur))\n",
    "\n",
    "class Partie():\n",
    "    def __init__(self, nbValeurs = 10, nbCouleurs = 4, nbTours = 7):\n",
    "        self.nbValeurs = nbValeurs\n",
    "        self.nbCouleurs = nbCouleurs\n",
    "        self.nbTours = nbTours\n",
    "\n",
    "    def _piocher(self):\n",
    "\n",
    "        self.valeurs = [i for i in range(1,self.nbValeurs+1)]\n",
    "        self.couleurs = [i for i in range(1,self.nbCouleurs+1)]\n",
    "\n",
    "        self.paquet = [Carte(v,c) for v in self.valeurs for c in self.couleurs]\n",
    "\n",
    "        # for i in self.paquet: print(i)\n",
    "\n",
    "        self.main1 = []\n",
    "        self.main2 = []\n",
    "\n",
    "        for i in range(self.nbTours):\n",
    "            # Le joueur 1 tire une carte aléatoirement dans le paquet\n",
    "            x = self.paquet[randrange(len(self.paquet))]\n",
    "            self.main1.append(x)\n",
    "            self.paquet.remove(x)\n",
    "\n",
    "            # Idem pour le joueur 2\n",
    "            y = self.paquet[randrange(len(self.paquet))]\n",
    "            self.main2.append(y)\n",
    "            self.paquet.remove(y)\n",
    "\n",
    "        print(\"Main 1 :\")\n",
    "        for i in self.main1 : print(i)\n",
    "        print(\"Main 2 :\")\n",
    "        for j in self.main2 : print(j)\n",
    "\n",
    "    def _plusGrandQue(self, carte1, carte2):\n",
    "        if carte1.valeur > carte2.valeur or (carte1.valeur == carte2.valeur and carte1.couleur > carte2.couleur):\n",
    "            return True\n",
    "        else :\n",
    "            return False\n",
    "\n",
    "    def _score(self):\n",
    "        self.score=0\n",
    "        for i in range(len(self.main1)) :\n",
    "            if self._plusGrandQue(self.main1[i], self.main2[i]) : self.score += 1 \n",
    "            else : self.score -= 1\n",
    "\n",
    "        print(\"Score :\")\n",
    "        print(self.score)\n",
    "\n",
    "    def jouer(self):\n",
    "        self._piocher()\n",
    "        self._score()\n",
    "\n",
    "\n",
    "\n",
    "p = Partie(13,4,5)\n",
    "p.jouer()"
   ]
  },
  {
   "cell_type": "code",
   "execution_count": 252,
   "metadata": {},
   "outputs": [
    {
     "output_type": "stream",
     "name": "stdout",
     "text": [
      "Main 1 :\nV: 3, C: 3\nV: 5, C: 3\nV: 2, C: 3\nV: 12, C: 1\nV: 5, C: 1\nMain 2 :\nV: 1, C: 1\nV: 5, C: 4\nV: 11, C: 3\nV: 8, C: 3\nV: 8, C: 1\nScore :\n-1\n"
     ]
    }
   ],
   "source": [
    "p.jouer()"
   ]
  },
  {
   "cell_type": "code",
   "execution_count": null,
   "metadata": {},
   "outputs": [],
   "source": []
  }
 ]
}