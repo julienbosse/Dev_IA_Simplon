{
 "metadata": {
  "language_info": {
   "codemirror_mode": {
    "name": "ipython",
    "version": 3
   },
   "file_extension": ".py",
   "mimetype": "text/x-python",
   "name": "python",
   "nbconvert_exporter": "python",
   "pygments_lexer": "ipython3",
   "version": "3.8.5"
  },
  "orig_nbformat": 2,
  "kernelspec": {
   "name": "python385jvsc74a57bd064b474f71659f9be32f34132c3eef93d33d176ead871b80ca6db3fa26bc83f65",
   "display_name": "Python 3.8.5 64-bit ('base': conda)"
  }
 },
 "nbformat": 4,
 "nbformat_minor": 2,
 "cells": [
  {
   "source": [
    "## Introduction\n",
    "Certaines méthodes sont définies pour des classes et d'autres non"
   ],
   "cell_type": "markdown",
   "metadata": {}
  },
  {
   "cell_type": "code",
   "execution_count": 65,
   "metadata": {},
   "outputs": [],
   "source": [
    "\n",
    "class Superstring :\n",
    "    from re import sub\n",
    "    def __init__(self, chaine):\n",
    "        self.ch = chaine\n",
    "\n",
    "    def ajoute(self, char):\n",
    "        self.ch += char\n",
    "    def insert(self,char,i):\n",
    "        self.ch = self.ch[:i] + char + self.ch[i:]\n",
    "    def upper(self):\n",
    "        self.ch = self.ch.upper()\n",
    "    def capsdown(self):\n",
    "        self.ch = self.ch.lower()\n",
    "    def tri(self):\n",
    "        self.ch = \" \".join(sorted(self.ch.split(), key=str.lower))\n",
    "        \n",
    "\n",
    "    def __str__(self):\n",
    "        return \"type : \" + type(self).__name__ + \", content : \" + self.ch\n",
    "\n",
    "    "
   ]
  },
  {
   "cell_type": "code",
   "execution_count": 66,
   "metadata": {},
   "outputs": [
    {
     "output_type": "stream",
     "name": "stdout",
     "text": [
      "type : Superstring, content : ! bien c'est ce dis ecoutez important je que très\n"
     ]
    }
   ],
   "source": [
    "s1 = Superstring(\"Ecoutez bien c'est important\")\n",
    "s1.ajoute(\" ce que je dis !\")\n",
    "s1.insert(\" très\", 18)\n",
    "s1.capsdown()\n",
    "s1.tri()\n",
    "print(s1)"
   ]
  },
  {
   "cell_type": "code",
   "execution_count": 145,
   "metadata": {},
   "outputs": [],
   "source": [
    "class Formulaire:\n",
    "    def __init__(self, nom, prenom, anneeNaissance):\n",
    "        self.nom = nom.upper()\n",
    "        self.prenom = prenom.upper()\n",
    "        self.anneeNaissance = anneeNaissance\n",
    "    def age(self):\n",
    "        return 2021 - self.anneeNaissance\n",
    "    def majeur(self):\n",
    "        return self.age() >= 18\n",
    "    def memeFamille(self, formulaire):\n",
    "        return self.nom == formulaire.nom\n",
    "\n",
    "    def memePersonne(self, formulaire):\n",
    "        return all( [ self.nom == formulaire.nom, self.prenom == formulaire.prenom, self.anneeNaissance == formulaire.anneeNaissance ] )\n",
    "\n",
    "    def __str__(self):\n",
    "        return ( \"[\" + self.nom + \", \" + self.prenom + \", \" + str(self.anneeNaissance) + \"]\" )\n",
    "        # return [self.nom, self.prenom, self.anneeNaissance]\n"
   ]
  },
  {
   "cell_type": "code",
   "execution_count": 146,
   "metadata": {},
   "outputs": [
    {
     "output_type": "stream",
     "name": "stdout",
     "text": [
      "False\nTrue\nTrue\nFalse\n[DOE, JOHN, 2005]\n"
     ]
    }
   ],
   "source": [
    "jd = Formulaire(\"Doe\", \"John\", 2005)\n",
    "ad = Formulaire(\"doe\", \"Alice\", 2000)\n",
    "\n",
    "print(jd.majeur())\n",
    "print(ad.majeur())\n",
    "print(jd.memeFamille(ad))\n",
    "print(jd.memePersonne(ad))\n",
    "print(jd)"
   ]
  },
  {
   "source": [
    "Exercie :\n",
    "- Ajouter une méthode qui vérifie si deux formulaires renvoient à la même personne\n",
    "- Faire en sorte qu'on puisse afficher les formulaires sous la forme [nom, prenom, anneeNaissance]. Créer une liste de formulaires et la trier par année de naissance."
   ],
   "cell_type": "markdown",
   "metadata": {}
  },
  {
   "cell_type": "code",
   "execution_count": 135,
   "metadata": {},
   "outputs": [
    {
     "output_type": "stream",
     "name": "stdout",
     "text": [
      "[HUGO, CHERQUI, 1995]\n[JULIEN, BOSSE, 1996]\n[MATHIEU, BOSSE, 1998]\n"
     ]
    }
   ],
   "source": [
    "l = [\n",
    "    Formulaire(\"Julien\", \"Bosse\", 1996),\n",
    "    Formulaire(\"Mathieu\", \"Bosse\", 1998),\n",
    "    Formulaire(\"Hugo\", \"Cherqui\", 1995)\n",
    "    ]\n",
    "\n",
    "l.sort(key=lambda f: f.anneeNaissance)\n",
    "\n",
    "for f in l :\n",
    "    print(f)"
   ]
  },
  {
   "source": [
    "## Composer des objets, déléguer des méthodes\n",
    "# Jeu de bataille\n",
    "- Au début de la partie, on initialise une main de 7 cartes pour chaun des deux joueurs\n",
    "- Puis à chaque manche on pioche une carte par joueurs\n",
    "- Enfin, on compare chacune des cartes piochées entre elles.\n",
    "- Le gagnant est celui qui remporte le plus de manches."
   ],
   "cell_type": "markdown",
   "metadata": {}
  },
  {
   "cell_type": "code",
   "execution_count": 147,
   "metadata": {},
   "outputs": [],
   "source": [
    "from random import randrange\n",
    "\n",
    "# On tinitialise toutes les vlauers et les que peuvent prendre les cartes\n",
    "valeurs = [i for i in range(1,11)] # De l'As jusqu'à 10\n",
    "couleurs = [i for i in range(1,5)] # Pique 1, Coeur 2, Carreau 3, Trèfle 4\n",
    "\n",
    "# On choisi le nombre de tour que va durer la partie et on initialise le score à 0\n",
    "nbTours = 7\n",
    "score = 0\n",
    "\n",
    "# Efnin on crée une liste de tuple pour représenter le paquet de cartes\n",
    "paquet = [(v,c) for v in valeurs for c in couleurs]\n",
    "main1, main2 = [], []"
   ]
  },
  {
   "cell_type": "code",
   "execution_count": 150,
   "metadata": {},
   "outputs": [
    {
     "output_type": "stream",
     "name": "stdout",
     "text": [
      "[1, 2, 3, 4]\n[1, 2, 3, 4, 5, 6, 7, 8, 9, 10]\n"
     ]
    }
   ],
   "source": [
    "print(couleurs)\n",
    "print(valeurs)"
   ]
  },
  {
   "cell_type": "code",
   "execution_count": null,
   "metadata": {},
   "outputs": [],
   "source": []
  }
 ]
}