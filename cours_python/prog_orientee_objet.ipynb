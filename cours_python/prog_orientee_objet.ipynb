{
 "metadata": {
  "language_info": {
   "codemirror_mode": {
    "name": "ipython",
    "version": 3
   },
   "file_extension": ".py",
   "mimetype": "text/x-python",
   "name": "python",
   "nbconvert_exporter": "python",
   "pygments_lexer": "ipython3",
   "version": "3.8.5"
  },
  "orig_nbformat": 2,
  "kernelspec": {
   "name": "python385jvsc74a57bd064b474f71659f9be32f34132c3eef93d33d176ead871b80ca6db3fa26bc83f65",
   "display_name": "Python 3.8.5 64-bit ('base': conda)"
  }
 },
 "nbformat": 4,
 "nbformat_minor": 2,
 "cells": [
  {
   "source": [
    "Certaines méthodes sont définies pour des classes et d'autres non"
   ],
   "cell_type": "markdown",
   "metadata": {}
  },
  {
   "cell_type": "code",
   "execution_count": 65,
   "metadata": {},
   "outputs": [],
   "source": [
    "\n",
    "class Superstring :\n",
    "    from re import sub\n",
    "    def __init__(self, chaine):\n",
    "        self.ch = chaine\n",
    "\n",
    "    def ajoute(self, char):\n",
    "        self.ch += char\n",
    "    def insert(self,char,i):\n",
    "        self.ch = self.ch[:i] + char + self.ch[i:]\n",
    "    def upper(self):\n",
    "        self.ch = self.ch.upper()\n",
    "    def capsdown(self):\n",
    "        self.ch = self.ch.lower()\n",
    "    def tri(self):\n",
    "        self.ch = \" \".join(sorted(self.ch.split(), key=str.lower))\n",
    "        \n",
    "\n",
    "    def __str__(self):\n",
    "        return \"type : \" + type(self).__name__ + \", content : \" + self.ch\n",
    "\n",
    "    "
   ]
  },
  {
   "cell_type": "code",
   "execution_count": 66,
   "metadata": {},
   "outputs": [
    {
     "output_type": "stream",
     "name": "stdout",
     "text": [
      "type : Superstring, content : ! bien c'est ce dis ecoutez important je que très\n"
     ]
    }
   ],
   "source": [
    "s1 = Superstring(\"Ecoutez bien c'est important\")\n",
    "s1.ajoute(\" ce que je dis !\")\n",
    "s1.insert(\" très\", 18)\n",
    "s1.capsdown()\n",
    "s1.tri()\n",
    "print(s1)"
   ]
  },
  {
   "cell_type": "code",
   "execution_count": null,
   "metadata": {},
   "outputs": [],
   "source": []
  }
 ]
}