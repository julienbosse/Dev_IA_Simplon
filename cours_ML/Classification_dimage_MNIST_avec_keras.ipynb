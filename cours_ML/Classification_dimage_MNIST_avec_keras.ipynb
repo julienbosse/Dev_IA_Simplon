{
 "cells": [
  {
   "cell_type": "markdown",
   "source": [
    "## Classification d'image et convolutions\n",
    "\n",
    "On veut faire un modèle de machine learning pour classer des chiffres afin de pouvoir faire de la lecture de compteur electrique automatiquement. \n",
    "\n",
    "Pour cela on va faire un premier modèle capable de classer des images contenant un seul chiffre."
   ],
   "metadata": {}
  },
  {
   "cell_type": "markdown",
   "source": [
    "## Chargement des données\n",
    "\n",
    "Keras met à disposition le dataset mnist. \n",
    "\n",
    "Importer la fonction load_data du sous module tensorflow.keras.datasets.mnist "
   ],
   "metadata": {}
  },
  {
   "cell_type": "code",
   "execution_count": 91,
   "source": [
    "from tensorflow.keras.datasets.mnist import load_data\r\n",
    "(x_train, y_train),(x_test, y_test) = load_data()\r\n",
    "x_train = x_train.reshape((-1,28,28,1))\r\n",
    "x_test = x_test.reshape((-1,28,28,1))"
   ],
   "outputs": [],
   "metadata": {}
  },
  {
   "cell_type": "code",
   "execution_count": 71,
   "source": [
    "print(type(x_train))\r\n",
    "print(x_train.shape)"
   ],
   "outputs": [
    {
     "output_type": "stream",
     "name": "stdout",
     "text": [
      "<class 'numpy.ndarray'>\n",
      "(60000, 28, 28)\n"
     ]
    }
   ],
   "metadata": {}
  },
  {
   "cell_type": "code",
   "execution_count": 55,
   "source": [
    "print(type(y_train))\r\n",
    "print(y_train.shape)"
   ],
   "outputs": [
    {
     "output_type": "stream",
     "name": "stdout",
     "text": [
      "<class 'numpy.ndarray'>\n",
      "(60000,)\n"
     ]
    }
   ],
   "metadata": {}
  },
  {
   "cell_type": "code",
   "execution_count": 23,
   "source": [
    "import matplotlib.pyplot as plt\r\n",
    "\r\n",
    "plt.imshow(x_train[0])"
   ],
   "outputs": [
    {
     "output_type": "execute_result",
     "data": {
      "text/plain": [
       "<matplotlib.image.AxesImage at 0x23a86398370>"
      ]
     },
     "metadata": {},
     "execution_count": 23
    },
    {
     "output_type": "display_data",
     "data": {
      "image/png": "[encoded data removed]",
      "text/plain": [
       "<Figure size 432x288 with 1 Axes>"
      ]
     },
     "metadata": {
      "needs_background": "light"
     }
    }
   ],
   "metadata": {}
  },
  {
   "cell_type": "markdown",
   "source": [
    "## le modèle \n",
    "\n",
    "importer la class Sequential de keras"
   ],
   "metadata": {}
  },
  {
   "cell_type": "code",
   "execution_count": 80,
   "source": [
    "from tensorflow.keras.models import Sequential\r\n",
    "from tensorflow.keras.layers import Dense, Flatten, Conv2D"
   ],
   "outputs": [],
   "metadata": {}
  },
  {
   "cell_type": "code",
   "execution_count": 93,
   "source": [
    "model = Sequential()\r\n",
    "\r\n",
    "model.add(Conv2D(8, kernel_size=(3,3), activation=\"relu\", input_shape=(28,28,1)))\r\n",
    "model.add(Flatten())\r\n",
    "model.add(Dense(50, activation=\"relu\"))\r\n",
    "model.add(Dense(10, activation=\"softmax\"))\r\n",
    "\r\n",
    "model.compile(loss=\"sparse_categorical_crossentropy\", optimizer=\"sgd\", metrics=[\"accuracy\"])\r\n",
    "\r\n",
    "model.fit(x_train,y_train,epochs=10, validation_data=(x_test,y_test))"
   ],
   "outputs": [
    {
     "output_type": "stream",
     "name": "stdout",
     "text": [
      "Epoch 1/10\n",
      "1875/1875 [==============================] - 8s 4ms/step - loss: 0.3226 - accuracy: 0.9101 - val_loss: 0.1250 - val_accuracy: 0.9607\n",
      "Epoch 2/10\n",
      "1875/1875 [==============================] - 9s 5ms/step - loss: 0.0944 - accuracy: 0.9708 - val_loss: 0.1262 - val_accuracy: 0.9647\n",
      "Epoch 3/10\n",
      "1875/1875 [==============================] - 8s 4ms/step - loss: 0.0552 - accuracy: 0.9823 - val_loss: 0.1082 - val_accuracy: 0.9727\n",
      "Epoch 4/10\n",
      "1875/1875 [==============================] - 8s 4ms/step - loss: 0.0334 - accuracy: 0.9887 - val_loss: 0.1429 - val_accuracy: 0.9670\n",
      "Epoch 5/10\n",
      "1875/1875 [==============================] - 8s 4ms/step - loss: 0.0263 - accuracy: 0.9914 - val_loss: 0.1388 - val_accuracy: 0.9705\n",
      "Epoch 6/10\n",
      "1875/1875 [==============================] - 8s 4ms/step - loss: 0.0205 - accuracy: 0.9935 - val_loss: 0.1620 - val_accuracy: 0.9689\n",
      "Epoch 7/10\n",
      "1875/1875 [==============================] - 8s 4ms/step - loss: 0.0132 - accuracy: 0.9959 - val_loss: 0.1560 - val_accuracy: 0.9701\n",
      "Epoch 8/10\n",
      "1875/1875 [==============================] - 8s 4ms/step - loss: 0.0120 - accuracy: 0.9959 - val_loss: 0.1875 - val_accuracy: 0.9682\n",
      "Epoch 9/10\n",
      "1875/1875 [==============================] - 8s 4ms/step - loss: 0.0101 - accuracy: 0.9963 - val_loss: 0.2149 - val_accuracy: 0.9676\n",
      "Epoch 10/10\n",
      "1875/1875 [==============================] - 8s 4ms/step - loss: 0.0109 - accuracy: 0.9962 - val_loss: 0.1887 - val_accuracy: 0.9701\n"
     ]
    },
    {
     "output_type": "execute_result",
     "data": {
      "text/plain": [
       "<keras.callbacks.History at 0x23a9230dc40>"
      ]
     },
     "metadata": {},
     "execution_count": 93
    }
   ],
   "metadata": {}
  }
 ],
 "metadata": {
  "kernelspec": {
   "name": "python3",
   "display_name": "Python 3.9.7 64-bit ('venv': venv)"
  },
  "language_info": {
   "codemirror_mode": {
    "name": "ipython",
    "version": 3
   },
   "file_extension": ".py",
   "mimetype": "text/x-python",
   "name": "python",
   "nbconvert_exporter": "python",
   "pygments_lexer": "ipython3",
   "version": "3.9.7"
  },
  "interpreter": {
   "hash": "7a1d43260dbb52f8d497dc243e2f923d02feb1b118db3293a70471221f8e6028"
  }
 },
 "nbformat": 4,
 "nbformat_minor": 4
}