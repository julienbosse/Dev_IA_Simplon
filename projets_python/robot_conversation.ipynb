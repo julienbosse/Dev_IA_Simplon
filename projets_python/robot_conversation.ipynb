{
 "metadata": {
  "language_info": {
   "codemirror_mode": {
    "name": "ipython",
    "version": 3
   },
   "file_extension": ".py",
   "mimetype": "text/x-python",
   "name": "python",
   "nbconvert_exporter": "python",
   "pygments_lexer": "ipython3",
   "version": "3.8.5"
  },
  "orig_nbformat": 2,
  "kernelspec": {
   "name": "python3",
   "display_name": "Python 3.8.5 64-bit ('base': conda)",
   "metadata": {
    "interpreter": {
     "hash": "4ad1113733ce155ce9cb43bdc3e17679916cd44516b0bf0a5049a72e2a7064d4"
    }
   }
  }
 },
 "nbformat": 4,
 "nbformat_minor": 2,
 "cells": [
  {
   "source": [
    "## Chatbot\n",
    "\n",
    "Essayons de reproduire notre premier chatbot. Pour qu’il ne donne pas l’impression de répéter toujours la même phrase, nous allons lui faire sélectionner au hasard des réponses possibles parmi une liste de phrases"
   ],
   "cell_type": "markdown",
   "metadata": {}
  },
  {
   "cell_type": "code",
   "execution_count": 34,
   "metadata": {},
   "outputs": [
    {
     "output_type": "stream",
     "name": "stdout",
     "text": [
      "Chatbot - Comment s’est passée votre journée ?\n",
      "\n",
      "Vous -  père ?\n",
      "\n",
      "Chatbot - La relation avec père vous pose-t-elle problème ?\n",
      "\n",
      "Vous - ?\n",
      "\n",
      "Chatbot - Je ne peux malheureusement pas répondre à cette question.\n",
      "\n",
      "Vous - e\n",
      "\n",
      "Chatbot - Hum… Il se peut.\n",
      "\n",
      "Vous - e\n",
      "\n",
      "Chatbot - J’entends bien.\n",
      "\n",
      "Vous - e\n",
      "\n",
      "Chatbot - J’entends bien.\n",
      "\n",
      "Vous - e\n",
      "\n",
      "Chatbot - Est-ce une bonne nouvelle ?\n",
      "\n",
      "Vous - e\n",
      "\n",
      "Chatbot - Oui, c’est ça le problème.\n",
      "\n",
      "Vous - e\n",
      "\n",
      "Chatbot - Hum… Il se peut.\n",
      "\n",
      "Vous - 0\n",
      "\n",
      "Chatbot - Oui, c’est ça le problème.\n"
     ]
    }
   ],
   "source": [
    "from random import choice\n",
    "\n",
    "phrase = \"\"\n",
    "\n",
    "intro = [\n",
    "    \"Comment allez-vous ?\",\n",
    "    \"Pourquoi venez-vous me voir ?\",\n",
    "    \"Comment s’est passée votre journée ?\"\n",
    "]\n",
    "\n",
    "motClés = [\n",
    "    \"père\",\n",
    "    \"mère\",\n",
    "    \"copain\",\n",
    "    \"copine\",\n",
    "    \"maman\",\n",
    "    \"papa\",\n",
    "    \"ami\",\n",
    "    \"amie\"\n",
    "]\n",
    "\n",
    "repMotClés = [\n",
    "    \"Comment va votre X ?\",\n",
    "    \"La relation avec X vous pose-t-elle problème ?\",\n",
    "    \"Pourquoi pensez-vous en ce moment à votre X ?\"\n",
    "]\n",
    "\n",
    "question = [\n",
    "    \"Pourquoi me posez-vous cette question ?\",\n",
    "    \"Oseriez-vous poser cette question à un humain ?\",\n",
    "    \"Je ne peux malheureusement pas répondre à cette question.\"\n",
    "]\n",
    "\n",
    "vague = [\n",
    "    \"J’entends bien.\",\n",
    "    \"Je sens une pointe de regret.\",\n",
    "    \"Est-ce une bonne nouvelle ?\",\n",
    "    \"Oui, c’est ça le problème.\",\n",
    "    \"Pensez-vous ce que vous dites ?\",\n",
    "    \"Hum… Il se peut.\"\n",
    "]\n",
    "\n",
    "\n",
    "print(\"Chatbot - \"+choice(intro))\n",
    "\n",
    "while phrase != \"0\" :\n",
    "\n",
    "    phrase = input(\"Votre message : \")\n",
    "    print(\"\\nVous - \"+phrase)\n",
    "\n",
    "    answered = False\n",
    "\n",
    "    for mot in motClés :\n",
    "        if  \" \"+mot.lower()+\" \" in phrase or mot.lower()+\".\" in phrase:\n",
    "            print(\"\\nChatbot - \"+choice(repMotClés).replace(\"X\",mot))\n",
    "            answered = True\n",
    "            break\n",
    "\n",
    "    if answered: continue\n",
    "\n",
    "    if \"?\" in phrase:\n",
    "        print(\"\\nChatbot - \"+choice(question))\n",
    "    else:\n",
    "        print(\"\\nChatbot - \"+choice(vague))\n"
   ]
  },
  {
   "cell_type": "code",
   "execution_count": null,
   "metadata": {},
   "outputs": [],
   "source": []
  }
 ]
}