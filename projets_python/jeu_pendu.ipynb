{
 "metadata": {
  "language_info": {
   "codemirror_mode": {
    "name": "ipython",
    "version": 3
   },
   "file_extension": ".py",
   "mimetype": "text/x-python",
   "name": "python",
   "nbconvert_exporter": "python",
   "pygments_lexer": "ipython3",
   "version": "3.9.2"
  },
  "orig_nbformat": 2,
  "kernelspec": {
   "name": "python3",
   "display_name": "Python 3.9.2 64-bit (windows store)",
   "metadata": {
    "interpreter": {
     "hash": "573797387f4d626279ccb9a2b9003bf2eb8d8d757dfafe04a876963e5b7976cc"
    }
   }
  }
 },
 "nbformat": 4,
 "nbformat_minor": 2,
 "cells": [
  {
   "source": [
    "### Jeu du pendu"
   ],
   "cell_type": "markdown",
   "metadata": {}
  },
  {
   "cell_type": "code",
   "execution_count": 9,
   "metadata": {},
   "outputs": [
    {
     "output_type": "stream",
     "name": "stdout",
     "text": [
      "Salut et bienvenue dans le jeu du pendu !\n",
      "Vous avez jusqu'à 6 essais pour deviner les lettres avant de nous donner la réponse finale.\n",
      "# # # # # \n",
      "\n",
      "P  lettre ajoutée\n",
      "  lettre ajoutée\n",
      "Vous avez déjà deviné cette lettre !\n",
      "\n",
      "Vous avez déjà deviné cette lettre !\n",
      "\n",
      "Vous avez déjà deviné cette lettre !\n",
      "\n",
      "Vous avez déjà deviné cette lettre !\n",
      "\n",
      "Vous avez déjà deviné cette lettre !\n",
      "\n",
      "Vous avez déjà deviné cette lettre !\n",
      "\n",
      "Vous avez déjà deviné cette lettre !\n",
      "\n",
      "Vous avez déjà deviné cette lettre !\n",
      "\n",
      "Vous avez déjà deviné cette lettre !\n",
      "\n",
      "Vous avez déjà deviné cette lettre !\n",
      "\n",
      "Vous avez déjà deviné cette lettre !\n",
      "\n",
      "Vous avez déjà deviné cette lettre !\n",
      "\n",
      "Vous avez déjà deviné cette lettre !\n",
      "\n",
      "Vous avez déjà deviné cette lettre !\n",
      "\n",
      "Vous avez déjà deviné cette lettre !\n",
      "\n"
     ]
    },
    {
     "output_type": "error",
     "ename": "KeyboardInterrupt",
     "evalue": "Interrupted by user",
     "traceback": [
      "\u001b[1;31m---------------------------------------------------------------------------\u001b[0m",
      "\u001b[1;31mKeyboardInterrupt\u001b[0m                         Traceback (most recent call last)",
      "\u001b[1;32m<ipython-input-9-802f5b414560>\u001b[0m in \u001b[0;36m<module>\u001b[1;34m\u001b[0m\n\u001b[0;32m     33\u001b[0m     \u001b[1;32mwhile\u001b[0m \u001b[0mlen\u001b[0m\u001b[1;33m(\u001b[0m\u001b[0mletter\u001b[0m\u001b[1;33m)\u001b[0m \u001b[1;33m!=\u001b[0m \u001b[1;36m1\u001b[0m \u001b[1;32mor\u001b[0m \u001b[0mletter\u001b[0m \u001b[1;32min\u001b[0m \u001b[0mguessed_letters\u001b[0m\u001b[1;33m:\u001b[0m\u001b[1;33m\u001b[0m\u001b[1;33m\u001b[0m\u001b[0m\n\u001b[0;32m     34\u001b[0m \u001b[1;33m\u001b[0m\u001b[0m\n\u001b[1;32m---> 35\u001b[1;33m         \u001b[0mletter\u001b[0m \u001b[1;33m=\u001b[0m \u001b[0minput\u001b[0m\u001b[1;33m(\u001b[0m\u001b[1;34m\"Taper une lettre : \"\u001b[0m\u001b[1;33m)\u001b[0m\u001b[1;33m.\u001b[0m\u001b[0mupper\u001b[0m\u001b[1;33m(\u001b[0m\u001b[1;33m)\u001b[0m\u001b[1;33m\u001b[0m\u001b[1;33m\u001b[0m\u001b[0m\n\u001b[0m\u001b[0;32m     36\u001b[0m \u001b[1;33m\u001b[0m\u001b[0m\n\u001b[0;32m     37\u001b[0m         \u001b[1;32mif\u001b[0m \u001b[0mletter\u001b[0m \u001b[1;32min\u001b[0m \u001b[0mguessed_letters\u001b[0m\u001b[1;33m:\u001b[0m\u001b[1;33m\u001b[0m\u001b[1;33m\u001b[0m\u001b[0m\n",
      "\u001b[1;32m~\\AppData\\Local\\Packages\\PythonSoftwareFoundation.Python.3.9_qbz5n2kfra8p0\\LocalCache\\local-packages\\Python39\\site-packages\\ipykernel\\kernelbase.py\u001b[0m in \u001b[0;36mraw_input\u001b[1;34m(self, prompt)\u001b[0m\n\u001b[0;32m    846\u001b[0m                 \u001b[1;34m\"raw_input was called, but this frontend does not support input requests.\"\u001b[0m\u001b[1;33m\u001b[0m\u001b[1;33m\u001b[0m\u001b[0m\n\u001b[0;32m    847\u001b[0m             )\n\u001b[1;32m--> 848\u001b[1;33m         return self._input_request(str(prompt),\n\u001b[0m\u001b[0;32m    849\u001b[0m             \u001b[0mself\u001b[0m\u001b[1;33m.\u001b[0m\u001b[0m_parent_ident\u001b[0m\u001b[1;33m,\u001b[0m\u001b[1;33m\u001b[0m\u001b[1;33m\u001b[0m\u001b[0m\n\u001b[0;32m    850\u001b[0m             \u001b[0mself\u001b[0m\u001b[1;33m.\u001b[0m\u001b[0m_parent_header\u001b[0m\u001b[1;33m,\u001b[0m\u001b[1;33m\u001b[0m\u001b[1;33m\u001b[0m\u001b[0m\n",
      "\u001b[1;32m~\\AppData\\Local\\Packages\\PythonSoftwareFoundation.Python.3.9_qbz5n2kfra8p0\\LocalCache\\local-packages\\Python39\\site-packages\\ipykernel\\kernelbase.py\u001b[0m in \u001b[0;36m_input_request\u001b[1;34m(self, prompt, ident, parent, password)\u001b[0m\n\u001b[0;32m    890\u001b[0m             \u001b[1;32mexcept\u001b[0m \u001b[0mKeyboardInterrupt\u001b[0m\u001b[1;33m:\u001b[0m\u001b[1;33m\u001b[0m\u001b[1;33m\u001b[0m\u001b[0m\n\u001b[0;32m    891\u001b[0m                 \u001b[1;31m# re-raise KeyboardInterrupt, to truncate traceback\u001b[0m\u001b[1;33m\u001b[0m\u001b[1;33m\u001b[0m\u001b[1;33m\u001b[0m\u001b[0m\n\u001b[1;32m--> 892\u001b[1;33m                 \u001b[1;32mraise\u001b[0m \u001b[0mKeyboardInterrupt\u001b[0m\u001b[1;33m(\u001b[0m\u001b[1;34m\"Interrupted by user\"\u001b[0m\u001b[1;33m)\u001b[0m \u001b[1;32mfrom\u001b[0m \u001b[1;32mNone\u001b[0m\u001b[1;33m\u001b[0m\u001b[1;33m\u001b[0m\u001b[0m\n\u001b[0m\u001b[0;32m    893\u001b[0m             \u001b[1;32mexcept\u001b[0m \u001b[0mException\u001b[0m \u001b[1;32mas\u001b[0m \u001b[0me\u001b[0m\u001b[1;33m:\u001b[0m\u001b[1;33m\u001b[0m\u001b[1;33m\u001b[0m\u001b[0m\n\u001b[0;32m    894\u001b[0m                 \u001b[0mself\u001b[0m\u001b[1;33m.\u001b[0m\u001b[0mlog\u001b[0m\u001b[1;33m.\u001b[0m\u001b[0mwarning\u001b[0m\u001b[1;33m(\u001b[0m\u001b[1;34m\"Invalid Message:\"\u001b[0m\u001b[1;33m,\u001b[0m \u001b[0mexc_info\u001b[0m\u001b[1;33m=\u001b[0m\u001b[1;32mTrue\u001b[0m\u001b[1;33m)\u001b[0m\u001b[1;33m\u001b[0m\u001b[1;33m\u001b[0m\u001b[0m\n",
      "\u001b[1;31mKeyboardInterrupt\u001b[0m: Interrupted by user"
     ]
    }
   ],
   "source": [
    "from random import randrange\n",
    "\n",
    "listeMots = [\n",
    "    \"POMMES\",\n",
    "    \"ARBRE\",\n",
    "    \"ECOLE\",\n",
    "    \"INTELLIGENCE\",\n",
    "    \"ARTIFICIELLE\"\n",
    "]\n",
    "\n",
    "MAX_TRIES = 6\n",
    "\n",
    "print(\"Salut et bienvenue dans le jeu du pendu !\")\n",
    "print(\"Vous avez jusqu'à 6 essais pour deviner les lettres avant de nous donner la réponse finale.\")\n",
    "input(\"Dès que vous êtes prêts, appuyez sur entrée...\")\n",
    "\n",
    "rand = randrange(0, len(listeMots))\n",
    "# mot à trouver\n",
    "word_to_guess = listeMots[rand]\n",
    "# lettres dans le mots à trouver\n",
    "liste_lettre = list(set(word_to_guess))\n",
    "# liste des lettres devinees\n",
    "guessed_letters = []\n",
    "\n",
    "i = 0\n",
    "\n",
    "print(\"# \" * len(word_to_guess) + \"\\n\")\n",
    "\n",
    "while i < MAX_TRIES and len(liste_lettre) > 0:\n",
    "\n",
    "    letter = \"no\"\n",
    "\n",
    "    while len(letter) != 1 :\n",
    "\n",
    "        letter = input(\"Taper une lettre : \").upper()\n",
    "\n",
    "    if letter in guessed_letters:\n",
    "        print(\"Vous avez déjà deviné cette lettre !\\n\")\n",
    "        i-=1\n",
    "    else:\n",
    "        guessed_letters.append(letter)\n",
    "\n",
    "    if letter in liste_lettre:\n",
    "        liste_lettre.remove(letter)\n",
    "\n",
    "    for l in word_to_guess:\n",
    "        if l in liste_lettre:\n",
    "            print(\"# \", end=\"\")\n",
    "        else:\n",
    "            print(f\"{l} \", end=\"\")\n",
    "    print(f\"\\nIl vous reste {MAX_TRIES - i - 1} essai(s)...\\n\")\n",
    "    i += 1\n",
    "\n",
    "guessed = input(\"Devinez maintenant le mot : \").upper()\n",
    "\n",
    "if guessed == word_to_guess:\n",
    "    print(\"GAGNÉ !\")\n",
    "else:\n",
    "    print(\"PERDU !!!\")\n",
    "    "
   ]
  },
  {
   "cell_type": "code",
   "execution_count": null,
   "metadata": {},
   "outputs": [],
   "source": []
  }
 ]
}