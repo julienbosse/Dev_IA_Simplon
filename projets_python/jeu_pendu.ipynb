{
 "metadata": {
  "language_info": {
   "codemirror_mode": {
    "name": "ipython",
    "version": 3
   },
   "file_extension": ".py",
   "mimetype": "text/x-python",
   "name": "python",
   "nbconvert_exporter": "python",
   "pygments_lexer": "ipython3",
   "version": "3.9.2"
  },
  "orig_nbformat": 2,
  "kernelspec": {
   "name": "python3",
   "display_name": "Python 3.9.2 64-bit (windows store)",
   "metadata": {
    "interpreter": {
     "hash": "573797387f4d626279ccb9a2b9003bf2eb8d8d757dfafe04a876963e5b7976cc"
    }
   }
  }
 },
 "nbformat": 4,
 "nbformat_minor": 2,
 "cells": [
  {
   "source": [
    "### Jeu du pendu"
   ],
   "cell_type": "markdown",
   "metadata": {}
  },
  {
   "cell_type": "code",
   "execution_count": 4,
   "metadata": {},
   "outputs": [
    {
     "output_type": "stream",
     "name": "stdout",
     "text": [
      "Salut et bienvenue dans le jeu du pendu !\n",
      "Vous avez jusqu'à 6 essais pour deviner les lettres avant de nous donner la réponse finale.\n",
      "# # # # # # \n",
      "\n",
      "P # # # # # \n",
      "Il vous reste 5 essai(s)...\n",
      "\n",
      "P O # # # # \n",
      "Il vous reste 4 essai(s)...\n",
      "\n",
      "P O M M # # \n",
      "Il vous reste 3 essai(s)...\n",
      "\n",
      "Vous avez déjà deviné cette lettre !\n",
      "\n",
      "P O M M # # \n",
      "Il vous reste 3 essai(s)...\n",
      "\n",
      "P O M M E # \n",
      "Il vous reste 2 essai(s)...\n",
      "\n",
      "P O M M E S \n",
      "Il vous reste 1 essai(s)...\n",
      "\n",
      "GAGNÉ !\n"
     ]
    }
   ],
   "source": [
    "from random import randrange\n",
    "\n",
    "listeMots = [\n",
    "    \"POMMES\",\n",
    "    \"ARBRE\",\n",
    "    \"ECOLE\",\n",
    "    \"INTELLIGENCE\",\n",
    "    \"ARTIFICIELLE\"\n",
    "]\n",
    "\n",
    "maxEssais = 6\n",
    "\n",
    "print(\"Salut et bienvenue dans le jeu du pendu !\")\n",
    "print(\"Vous avez jusqu'à 6 essais pour deviner les lettres avant de nous donner la réponse finale.\")\n",
    "input(\"Dès que vous êtes prêts, appuyez sur entrée...\")\n",
    "\n",
    "rand = randrange(0, len(listeMots))\n",
    "\n",
    "# mot à trouver\n",
    "mot = listeMots[rand]\n",
    "# lettres dans le mots à trouver\n",
    "listeLettres = list(set(mot))\n",
    "# liste des lettres devinees\n",
    "lettreDevinee = []\n",
    "\n",
    "i = 0\n",
    "\n",
    "print(\"# \" * len(mot) + \"\\n\")\n",
    "\n",
    "while i < maxEssais and len(listeLettres) > 0:\n",
    "\n",
    "    lettre = \"no\"\n",
    "\n",
    "    while len(lettre) != 1 :\n",
    "\n",
    "        lettre = input(\"Taper une lettre : \").upper()\n",
    "        # print(\"Lettre rentrée : \",lettre)\n",
    "\n",
    "    if lettre in lettreDevinee:\n",
    "        print(\"Vous avez déjà deviné cette lettre !\\n\")\n",
    "        i-=1\n",
    "    else:\n",
    "        lettreDevinee.append(lettre)\n",
    "\n",
    "    if lettre in listeLettres:\n",
    "        listeLettres.remove(lettre)\n",
    "\n",
    "    for l in mot:\n",
    "        if l in listeLettres:\n",
    "            print(\"# \", end=\"\")\n",
    "        else:\n",
    "            print(f\"{l} \", end=\"\")\n",
    "    print(f\"\\nIl vous reste {maxEssais - i - 1} essai(s)...\\n\")\n",
    "    i += 1\n",
    "\n",
    "motDevine = input(\"Devinez maintenant le mot : \").upper()\n",
    "\n",
    "if motDevine == mot:\n",
    "    print(\"GAGNÉ !\")\n",
    "else:\n",
    "    print(\"PERDU !\")\n",
    "    print(\"Le mot était \",mot)\n",
    "    "
   ]
  },
  {
   "cell_type": "code",
   "execution_count": null,
   "metadata": {},
   "outputs": [],
   "source": []
  }
 ]
}