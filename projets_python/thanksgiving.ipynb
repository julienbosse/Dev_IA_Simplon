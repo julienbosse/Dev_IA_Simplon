{
 "metadata": {
  "language_info": {
   "codemirror_mode": {
    "name": "ipython",
    "version": 3
   },
   "file_extension": ".py",
   "mimetype": "text/x-python",
   "name": "python",
   "nbconvert_exporter": "python",
   "pygments_lexer": "ipython3",
   "version": "3.8.5"
  },
  "orig_nbformat": 2,
  "kernelspec": {
   "name": "python385jvsc74a57bd04ad1113733ce155ce9cb43bdc3e17679916cd44516b0bf0a5049a72e2a7064d4",
   "display_name": "Python 3.8.5 64-bit ('base': conda)"
  }
 },
 "nbformat": 4,
 "nbformat_minor": 2,
 "cells": [
  {
   "source": [
    "# Projet guidé: Analyse de data\n",
    "## Sondage Thanksgiving\n",
    "\n",
    "# Partie 1 : Partie 1 : filtrer et explorer les tendance\n",
    "\n",
    "## Introduction au dataset\n",
    "- Utiliser la fonction pandas.read_csv () pour lire le fichier thanksgiving.csv.\n",
    "- Spécifier dans les paramètres de la fonction l'argument encoding ='latin 1' car ce dataset n'est pas encodé normalement\n",
    "- Assigner le dataframe à la variable data\n",
    "- Afficher les premières lignes de data.\n",
    "- Afficher le nom des colonnes avec l'attribut columns"
   ],
   "cell_type": "markdown",
   "metadata": {}
  },
  {
   "cell_type": "code",
   "execution_count": 21,
   "metadata": {},
   "outputs": [
    {
     "output_type": "execute_result",
     "data": {
      "text/plain": [
       "   RespondentID Do you celebrate Thanksgiving?  \\\n",
       "0    4337954960                            Yes   \n",
       "1    4337951949                            Yes   \n",
       "2    4337935621                            Yes   \n",
       "3    4337933040                            Yes   \n",
       "4    4337931983                            Yes   \n",
       "\n",
       "  What is typically the main dish at your Thanksgiving dinner?  \\\n",
       "0                                             Turkey             \n",
       "1                                             Turkey             \n",
       "2                                             Turkey             \n",
       "3                                             Turkey             \n",
       "4                                           Tofurkey             \n",
       "\n",
       "  What is typically the main dish at your Thanksgiving dinner? - Other (please specify)  \\\n",
       "0                                                NaN                                      \n",
       "1                                                NaN                                      \n",
       "2                                                NaN                                      \n",
       "3                                                NaN                                      \n",
       "4                                                NaN                                      \n",
       "\n",
       "  How is the main dish typically cooked?  \\\n",
       "0                                  Baked   \n",
       "1                                  Baked   \n",
       "2                                Roasted   \n",
       "3                                  Baked   \n",
       "4                                  Baked   \n",
       "\n",
       "  How is the main dish typically cooked? - Other (please specify)  \\\n",
       "0                                                NaN                \n",
       "1                                                NaN                \n",
       "2                                                NaN                \n",
       "3                                                NaN                \n",
       "4                                                NaN                \n",
       "\n",
       "  What kind of stuffing/dressing do you typically have?  \\\n",
       "0                                        Bread-based      \n",
       "1                                        Bread-based      \n",
       "2                                         Rice-based      \n",
       "3                                        Bread-based      \n",
       "4                                        Bread-based      \n",
       "\n",
       "  What kind of stuffing/dressing do you typically have? - Other (please specify)  \\\n",
       "0                                                NaN                               \n",
       "1                                                NaN                               \n",
       "2                                                NaN                               \n",
       "3                                                NaN                               \n",
       "4                                                NaN                               \n",
       "\n",
       "  What type of cranberry saucedo you typically have?  \\\n",
       "0                                               None   \n",
       "1                             Other (please specify)   \n",
       "2                                           Homemade   \n",
       "3                                           Homemade   \n",
       "4                                             Canned   \n",
       "\n",
       "  What type of cranberry saucedo you typically have? - Other (please specify)  \\\n",
       "0                                                NaN                            \n",
       "1                    Homemade cranberry gelatin ring                            \n",
       "2                                                NaN                            \n",
       "3                                                NaN                            \n",
       "4                                                NaN                            \n",
       "\n",
       "   ...  \\\n",
       "0  ...   \n",
       "1  ...   \n",
       "2  ...   \n",
       "3  ...   \n",
       "4  ...   \n",
       "\n",
       "  Have you ever tried to meet up with hometown friends on Thanksgiving night?  \\\n",
       "0                                                Yes                            \n",
       "1                                                 No                            \n",
       "2                                                Yes                            \n",
       "3                                                Yes                            \n",
       "4                                                Yes                            \n",
       "\n",
       "  Have you ever attended a \"Friendsgiving?\"  \\\n",
       "0                                        No   \n",
       "1                                        No   \n",
       "2                                       Yes   \n",
       "3                                        No   \n",
       "4                                        No   \n",
       "\n",
       "  Will you shop any Black Friday sales on Thanksgiving Day?  \\\n",
       "0                                                 No          \n",
       "1                                                Yes          \n",
       "2                                                Yes          \n",
       "3                                                 No          \n",
       "4                                                 No          \n",
       "\n",
       "  Do you work in retail? Will you employer make you work on Black Friday?  \\\n",
       "0                     No                                              NaN   \n",
       "1                     No                                              NaN   \n",
       "2                     No                                              NaN   \n",
       "3                     No                                              NaN   \n",
       "4                     No                                              NaN   \n",
       "\n",
       "  How would you describe where you live?      Age What is your gender?  \\\n",
       "0                               Suburban  18 - 29                 Male   \n",
       "1                                  Rural  18 - 29               Female   \n",
       "2                               Suburban  18 - 29                 Male   \n",
       "3                                  Urban  30 - 44                 Male   \n",
       "4                                  Urban  30 - 44                 Male   \n",
       "\n",
       "  How much total combined money did all members of your HOUSEHOLD earn last year?  \\\n",
       "0                                 $75,000 to $99,999                                \n",
       "1                                 $50,000 to $74,999                                \n",
       "2                                       $0 to $9,999                                \n",
       "3                                    $200,000 and up                                \n",
       "4                               $100,000 to $124,999                                \n",
       "\n",
       "            US Region  \n",
       "0     Middle Atlantic  \n",
       "1  East South Central  \n",
       "2            Mountain  \n",
       "3             Pacific  \n",
       "4             Pacific  \n",
       "\n",
       "[5 rows x 65 columns]"
      ],
      "text/html": "<div>\n<style scoped>\n    .dataframe tbody tr th:only-of-type {\n        vertical-align: middle;\n    }\n\n    .dataframe tbody tr th {\n        vertical-align: top;\n    }\n\n    .dataframe thead th {\n        text-align: right;\n    }\n</style>\n<table border=\"1\" class=\"dataframe\">\n  <thead>\n    <tr style=\"text-align: right;\">\n      <th></th>\n      <th>RespondentID</th>\n      <th>Do you celebrate Thanksgiving?</th>\n      <th>What is typically the main dish at your Thanksgiving dinner?</th>\n      <th>What is typically the main dish at your Thanksgiving dinner? - Other (please specify)</th>\n      <th>How is the main dish typically cooked?</th>\n      <th>How is the main dish typically cooked? - Other (please specify)</th>\n      <th>What kind of stuffing/dressing do you typically have?</th>\n      <th>What kind of stuffing/dressing do you typically have? - Other (please specify)</th>\n      <th>What type of cranberry saucedo you typically have?</th>\n      <th>What type of cranberry saucedo you typically have? - Other (please specify)</th>\n      <th>...</th>\n      <th>Have you ever tried to meet up with hometown friends on Thanksgiving night?</th>\n      <th>Have you ever attended a \"Friendsgiving?\"</th>\n      <th>Will you shop any Black Friday sales on Thanksgiving Day?</th>\n      <th>Do you work in retail?</th>\n      <th>Will you employer make you work on Black Friday?</th>\n      <th>How would you describe where you live?</th>\n      <th>Age</th>\n      <th>What is your gender?</th>\n      <th>How much total combined money did all members of your HOUSEHOLD earn last year?</th>\n      <th>US Region</th>\n    </tr>\n  </thead>\n  <tbody>\n    <tr>\n      <th>0</th>\n      <td>4337954960</td>\n      <td>Yes</td>\n      <td>Turkey</td>\n      <td>NaN</td>\n      <td>Baked</td>\n      <td>NaN</td>\n      <td>Bread-based</td>\n      <td>NaN</td>\n      <td>None</td>\n      <td>NaN</td>\n      <td>...</td>\n      <td>Yes</td>\n      <td>No</td>\n      <td>No</td>\n      <td>No</td>\n      <td>NaN</td>\n      <td>Suburban</td>\n      <td>18 - 29</td>\n      <td>Male</td>\n      <td>$75,000 to $99,999</td>\n      <td>Middle Atlantic</td>\n    </tr>\n    <tr>\n      <th>1</th>\n      <td>4337951949</td>\n      <td>Yes</td>\n      <td>Turkey</td>\n      <td>NaN</td>\n      <td>Baked</td>\n      <td>NaN</td>\n      <td>Bread-based</td>\n      <td>NaN</td>\n      <td>Other (please specify)</td>\n      <td>Homemade cranberry gelatin ring</td>\n      <td>...</td>\n      <td>No</td>\n      <td>No</td>\n      <td>Yes</td>\n      <td>No</td>\n      <td>NaN</td>\n      <td>Rural</td>\n      <td>18 - 29</td>\n      <td>Female</td>\n      <td>$50,000 to $74,999</td>\n      <td>East South Central</td>\n    </tr>\n    <tr>\n      <th>2</th>\n      <td>4337935621</td>\n      <td>Yes</td>\n      <td>Turkey</td>\n      <td>NaN</td>\n      <td>Roasted</td>\n      <td>NaN</td>\n      <td>Rice-based</td>\n      <td>NaN</td>\n      <td>Homemade</td>\n      <td>NaN</td>\n      <td>...</td>\n      <td>Yes</td>\n      <td>Yes</td>\n      <td>Yes</td>\n      <td>No</td>\n      <td>NaN</td>\n      <td>Suburban</td>\n      <td>18 - 29</td>\n      <td>Male</td>\n      <td>$0 to $9,999</td>\n      <td>Mountain</td>\n    </tr>\n    <tr>\n      <th>3</th>\n      <td>4337933040</td>\n      <td>Yes</td>\n      <td>Turkey</td>\n      <td>NaN</td>\n      <td>Baked</td>\n      <td>NaN</td>\n      <td>Bread-based</td>\n      <td>NaN</td>\n      <td>Homemade</td>\n      <td>NaN</td>\n      <td>...</td>\n      <td>Yes</td>\n      <td>No</td>\n      <td>No</td>\n      <td>No</td>\n      <td>NaN</td>\n      <td>Urban</td>\n      <td>30 - 44</td>\n      <td>Male</td>\n      <td>$200,000 and up</td>\n      <td>Pacific</td>\n    </tr>\n    <tr>\n      <th>4</th>\n      <td>4337931983</td>\n      <td>Yes</td>\n      <td>Tofurkey</td>\n      <td>NaN</td>\n      <td>Baked</td>\n      <td>NaN</td>\n      <td>Bread-based</td>\n      <td>NaN</td>\n      <td>Canned</td>\n      <td>NaN</td>\n      <td>...</td>\n      <td>Yes</td>\n      <td>No</td>\n      <td>No</td>\n      <td>No</td>\n      <td>NaN</td>\n      <td>Urban</td>\n      <td>30 - 44</td>\n      <td>Male</td>\n      <td>$100,000 to $124,999</td>\n      <td>Pacific</td>\n    </tr>\n  </tbody>\n</table>\n<p>5 rows × 65 columns</p>\n</div>"
     },
     "metadata": {},
     "execution_count": 21
    }
   ],
   "source": [
    "import pandas as pd \n",
    "\n",
    "data = pd.read_csv(\"jeux_donnees/thanksgiving.csv\", encoding=\"latin-1\")\n",
    "data.head()"
   ]
  },
  {
   "cell_type": "code",
   "execution_count": 2,
   "metadata": {},
   "outputs": [
    {
     "output_type": "execute_result",
     "data": {
      "text/plain": [
       "Index(['RespondentID', 'Do you celebrate Thanksgiving?',\n",
       "       'What is typically the main dish at your Thanksgiving dinner?',\n",
       "       'What is typically the main dish at your Thanksgiving dinner? - Other (please specify)',\n",
       "       'How is the main dish typically cooked?',\n",
       "       'How is the main dish typically cooked? - Other (please specify)',\n",
       "       'What kind of stuffing/dressing do you typically have?',\n",
       "       'What kind of stuffing/dressing do you typically have? - Other (please specify)',\n",
       "       'What type of cranberry saucedo you typically have?',\n",
       "       'What type of cranberry saucedo you typically have? - Other (please specify)',\n",
       "       'Do you typically have gravy?',\n",
       "       'Which of these side dishes aretypically served at your Thanksgiving dinner? Please select all that apply. - Brussel sprouts',\n",
       "       'Which of these side dishes aretypically served at your Thanksgiving dinner? Please select all that apply. - Carrots',\n",
       "       'Which of these side dishes aretypically served at your Thanksgiving dinner? Please select all that apply. - Cauliflower',\n",
       "       'Which of these side dishes aretypically served at your Thanksgiving dinner? Please select all that apply. - Corn',\n",
       "       'Which of these side dishes aretypically served at your Thanksgiving dinner? Please select all that apply. - Cornbread',\n",
       "       'Which of these side dishes aretypically served at your Thanksgiving dinner? Please select all that apply. - Fruit salad',\n",
       "       'Which of these side dishes aretypically served at your Thanksgiving dinner? Please select all that apply. - Green beans/green bean casserole',\n",
       "       'Which of these side dishes aretypically served at your Thanksgiving dinner? Please select all that apply. - Macaroni and cheese',\n",
       "       'Which of these side dishes aretypically served at your Thanksgiving dinner? Please select all that apply. - Mashed potatoes',\n",
       "       'Which of these side dishes aretypically served at your Thanksgiving dinner? Please select all that apply. - Rolls/biscuits',\n",
       "       'Which of these side dishes aretypically served at your Thanksgiving dinner? Please select all that apply. - Squash',\n",
       "       'Which of these side dishes aretypically served at your Thanksgiving dinner? Please select all that apply. - Vegetable salad',\n",
       "       'Which of these side dishes aretypically served at your Thanksgiving dinner? Please select all that apply. - Yams/sweet potato casserole',\n",
       "       'Which of these side dishes aretypically served at your Thanksgiving dinner? Please select all that apply. - Other (please specify)',\n",
       "       'Which of these side dishes aretypically served at your Thanksgiving dinner? Please select all that apply. - Other (please specify).1',\n",
       "       'Which type of pie is typically served at your Thanksgiving dinner? Please select all that apply. - Apple',\n",
       "       'Which type of pie is typically served at your Thanksgiving dinner? Please select all that apply. - Buttermilk',\n",
       "       'Which type of pie is typically served at your Thanksgiving dinner? Please select all that apply. - Cherry',\n",
       "       'Which type of pie is typically served at your Thanksgiving dinner? Please select all that apply. - Chocolate',\n",
       "       'Which type of pie is typically served at your Thanksgiving dinner? Please select all that apply. - Coconut cream',\n",
       "       'Which type of pie is typically served at your Thanksgiving dinner? Please select all that apply. - Key lime',\n",
       "       'Which type of pie is typically served at your Thanksgiving dinner? Please select all that apply. - Peach',\n",
       "       'Which type of pie is typically served at your Thanksgiving dinner? Please select all that apply. - Pecan',\n",
       "       'Which type of pie is typically served at your Thanksgiving dinner? Please select all that apply. - Pumpkin',\n",
       "       'Which type of pie is typically served at your Thanksgiving dinner? Please select all that apply. - Sweet Potato',\n",
       "       'Which type of pie is typically served at your Thanksgiving dinner? Please select all that apply. - None',\n",
       "       'Which type of pie is typically served at your Thanksgiving dinner? Please select all that apply. - Other (please specify)',\n",
       "       'Which type of pie is typically served at your Thanksgiving dinner? Please select all that apply. - Other (please specify).1',\n",
       "       'Which of these desserts do you typically have at Thanksgiving dinner? Please select all that apply.   - Apple cobbler',\n",
       "       'Which of these desserts do you typically have at Thanksgiving dinner? Please select all that apply.   - Blondies',\n",
       "       'Which of these desserts do you typically have at Thanksgiving dinner? Please select all that apply.   - Brownies',\n",
       "       'Which of these desserts do you typically have at Thanksgiving dinner? Please select all that apply.   - Carrot cake',\n",
       "       'Which of these desserts do you typically have at Thanksgiving dinner? Please select all that apply.   - Cheesecake',\n",
       "       'Which of these desserts do you typically have at Thanksgiving dinner? Please select all that apply.   - Cookies',\n",
       "       'Which of these desserts do you typically have at Thanksgiving dinner? Please select all that apply.   - Fudge',\n",
       "       'Which of these desserts do you typically have at Thanksgiving dinner? Please select all that apply.   - Ice cream',\n",
       "       'Which of these desserts do you typically have at Thanksgiving dinner? Please select all that apply.   - Peach cobbler',\n",
       "       'Which of these desserts do you typically have at Thanksgiving dinner? Please select all that apply.   - None',\n",
       "       'Which of these desserts do you typically have at Thanksgiving dinner? Please select all that apply.   - Other (please specify)',\n",
       "       'Which of these desserts do you typically have at Thanksgiving dinner? Please select all that apply.   - Other (please specify).1',\n",
       "       'Do you typically pray before or after the Thanksgiving meal?',\n",
       "       'How far will you travel for Thanksgiving?',\n",
       "       'Will you watch any of the following programs on Thanksgiving? Please select all that apply. - Macy's Parade',\n",
       "       'What's the age cutoff at your \"kids' table\" at Thanksgiving?',\n",
       "       'Have you ever tried to meet up with hometown friends on Thanksgiving night?',\n",
       "       'Have you ever attended a \"Friendsgiving?\"',\n",
       "       'Will you shop any Black Friday sales on Thanksgiving Day?',\n",
       "       'Do you work in retail?',\n",
       "       'Will you employer make you work on Black Friday?',\n",
       "       'How would you describe where you live?', 'Age', 'What is your gender?',\n",
       "       'How much total combined money did all members of your HOUSEHOLD earn last year?',\n",
       "       'US Region'],\n",
       "      dtype='object')"
      ]
     },
     "metadata": {},
     "execution_count": 2
    }
   ],
   "source": [
    "data.columns"
   ]
  },
  {
   "source": [
    "## Filtrer des données\n",
    "\n",
    "- Utiliser la méthode Series.value_counts () pour afficher le décompte du nombre de réponses pour chaque catégorie de la colonne 'Do you celebrate Thanksgiving?'\n",
    "- Filtrer et garder toutes les lignes du dataframe data pour lesquelles la réponse à la question 'Do you celebrate Thanksgiving?' est ' Yes\n",
    "- Assigner ce nouveau dataframe à data et afficher le."
   ],
   "cell_type": "markdown",
   "metadata": {}
  },
  {
   "cell_type": "code",
   "execution_count": 3,
   "metadata": {},
   "outputs": [
    {
     "output_type": "execute_result",
     "data": {
      "text/plain": [
       "Yes    980\n",
       "No      78\n",
       "Name: Do you celebrate Thanksgiving?, dtype: int64"
      ]
     },
     "metadata": {},
     "execution_count": 3
    }
   ],
   "source": [
    "count_celebrate_tg = data[\"Do you celebrate Thanksgiving?\"].value_counts()\n",
    "count_celebrate_tg"
   ]
  },
  {
   "cell_type": "code",
   "execution_count": 4,
   "metadata": {},
   "outputs": [
    {
     "output_type": "execute_result",
     "data": {
      "text/plain": [
       "   RespondentID Do you celebrate Thanksgiving?  \\\n",
       "0    4337954960                            Yes   \n",
       "1    4337951949                            Yes   \n",
       "2    4337935621                            Yes   \n",
       "3    4337933040                            Yes   \n",
       "4    4337931983                            Yes   \n",
       "\n",
       "  What is typically the main dish at your Thanksgiving dinner?  \\\n",
       "0                                             Turkey             \n",
       "1                                             Turkey             \n",
       "2                                             Turkey             \n",
       "3                                             Turkey             \n",
       "4                                           Tofurkey             \n",
       "\n",
       "  What is typically the main dish at your Thanksgiving dinner? - Other (please specify)  \\\n",
       "0                                                NaN                                      \n",
       "1                                                NaN                                      \n",
       "2                                                NaN                                      \n",
       "3                                                NaN                                      \n",
       "4                                                NaN                                      \n",
       "\n",
       "  How is the main dish typically cooked?  \\\n",
       "0                                  Baked   \n",
       "1                                  Baked   \n",
       "2                                Roasted   \n",
       "3                                  Baked   \n",
       "4                                  Baked   \n",
       "\n",
       "  How is the main dish typically cooked? - Other (please specify)  \\\n",
       "0                                                NaN                \n",
       "1                                                NaN                \n",
       "2                                                NaN                \n",
       "3                                                NaN                \n",
       "4                                                NaN                \n",
       "\n",
       "  What kind of stuffing/dressing do you typically have?  \\\n",
       "0                                        Bread-based      \n",
       "1                                        Bread-based      \n",
       "2                                         Rice-based      \n",
       "3                                        Bread-based      \n",
       "4                                        Bread-based      \n",
       "\n",
       "  What kind of stuffing/dressing do you typically have? - Other (please specify)  \\\n",
       "0                                                NaN                               \n",
       "1                                                NaN                               \n",
       "2                                                NaN                               \n",
       "3                                                NaN                               \n",
       "4                                                NaN                               \n",
       "\n",
       "  What type of cranberry saucedo you typically have?  \\\n",
       "0                                               None   \n",
       "1                             Other (please specify)   \n",
       "2                                           Homemade   \n",
       "3                                           Homemade   \n",
       "4                                             Canned   \n",
       "\n",
       "  What type of cranberry saucedo you typically have? - Other (please specify)  \\\n",
       "0                                                NaN                            \n",
       "1                    Homemade cranberry gelatin ring                            \n",
       "2                                                NaN                            \n",
       "3                                                NaN                            \n",
       "4                                                NaN                            \n",
       "\n",
       "   ...  \\\n",
       "0  ...   \n",
       "1  ...   \n",
       "2  ...   \n",
       "3  ...   \n",
       "4  ...   \n",
       "\n",
       "  Have you ever tried to meet up with hometown friends on Thanksgiving night?  \\\n",
       "0                                                Yes                            \n",
       "1                                                 No                            \n",
       "2                                                Yes                            \n",
       "3                                                Yes                            \n",
       "4                                                Yes                            \n",
       "\n",
       "  Have you ever attended a \"Friendsgiving?\"  \\\n",
       "0                                        No   \n",
       "1                                        No   \n",
       "2                                       Yes   \n",
       "3                                        No   \n",
       "4                                        No   \n",
       "\n",
       "  Will you shop any Black Friday sales on Thanksgiving Day?  \\\n",
       "0                                                 No          \n",
       "1                                                Yes          \n",
       "2                                                Yes          \n",
       "3                                                 No          \n",
       "4                                                 No          \n",
       "\n",
       "  Do you work in retail? Will you employer make you work on Black Friday?  \\\n",
       "0                     No                                              NaN   \n",
       "1                     No                                              NaN   \n",
       "2                     No                                              NaN   \n",
       "3                     No                                              NaN   \n",
       "4                     No                                              NaN   \n",
       "\n",
       "  How would you describe where you live?      Age What is your gender?  \\\n",
       "0                               Suburban  18 - 29                 Male   \n",
       "1                                  Rural  18 - 29               Female   \n",
       "2                               Suburban  18 - 29                 Male   \n",
       "3                                  Urban  30 - 44                 Male   \n",
       "4                                  Urban  30 - 44                 Male   \n",
       "\n",
       "  How much total combined money did all members of your HOUSEHOLD earn last year?  \\\n",
       "0                                 $75,000 to $99,999                                \n",
       "1                                 $50,000 to $74,999                                \n",
       "2                                       $0 to $9,999                                \n",
       "3                                    $200,000 and up                                \n",
       "4                               $100,000 to $124,999                                \n",
       "\n",
       "            US Region  \n",
       "0     Middle Atlantic  \n",
       "1  East South Central  \n",
       "2            Mountain  \n",
       "3             Pacific  \n",
       "4             Pacific  \n",
       "\n",
       "[5 rows x 65 columns]"
      ],
      "text/html": "<div>\n<style scoped>\n    .dataframe tbody tr th:only-of-type {\n        vertical-align: middle;\n    }\n\n    .dataframe tbody tr th {\n        vertical-align: top;\n    }\n\n    .dataframe thead th {\n        text-align: right;\n    }\n</style>\n<table border=\"1\" class=\"dataframe\">\n  <thead>\n    <tr style=\"text-align: right;\">\n      <th></th>\n      <th>RespondentID</th>\n      <th>Do you celebrate Thanksgiving?</th>\n      <th>What is typically the main dish at your Thanksgiving dinner?</th>\n      <th>What is typically the main dish at your Thanksgiving dinner? - Other (please specify)</th>\n      <th>How is the main dish typically cooked?</th>\n      <th>How is the main dish typically cooked? - Other (please specify)</th>\n      <th>What kind of stuffing/dressing do you typically have?</th>\n      <th>What kind of stuffing/dressing do you typically have? - Other (please specify)</th>\n      <th>What type of cranberry saucedo you typically have?</th>\n      <th>What type of cranberry saucedo you typically have? - Other (please specify)</th>\n      <th>...</th>\n      <th>Have you ever tried to meet up with hometown friends on Thanksgiving night?</th>\n      <th>Have you ever attended a \"Friendsgiving?\"</th>\n      <th>Will you shop any Black Friday sales on Thanksgiving Day?</th>\n      <th>Do you work in retail?</th>\n      <th>Will you employer make you work on Black Friday?</th>\n      <th>How would you describe where you live?</th>\n      <th>Age</th>\n      <th>What is your gender?</th>\n      <th>How much total combined money did all members of your HOUSEHOLD earn last year?</th>\n      <th>US Region</th>\n    </tr>\n  </thead>\n  <tbody>\n    <tr>\n      <th>0</th>\n      <td>4337954960</td>\n      <td>Yes</td>\n      <td>Turkey</td>\n      <td>NaN</td>\n      <td>Baked</td>\n      <td>NaN</td>\n      <td>Bread-based</td>\n      <td>NaN</td>\n      <td>None</td>\n      <td>NaN</td>\n      <td>...</td>\n      <td>Yes</td>\n      <td>No</td>\n      <td>No</td>\n      <td>No</td>\n      <td>NaN</td>\n      <td>Suburban</td>\n      <td>18 - 29</td>\n      <td>Male</td>\n      <td>$75,000 to $99,999</td>\n      <td>Middle Atlantic</td>\n    </tr>\n    <tr>\n      <th>1</th>\n      <td>4337951949</td>\n      <td>Yes</td>\n      <td>Turkey</td>\n      <td>NaN</td>\n      <td>Baked</td>\n      <td>NaN</td>\n      <td>Bread-based</td>\n      <td>NaN</td>\n      <td>Other (please specify)</td>\n      <td>Homemade cranberry gelatin ring</td>\n      <td>...</td>\n      <td>No</td>\n      <td>No</td>\n      <td>Yes</td>\n      <td>No</td>\n      <td>NaN</td>\n      <td>Rural</td>\n      <td>18 - 29</td>\n      <td>Female</td>\n      <td>$50,000 to $74,999</td>\n      <td>East South Central</td>\n    </tr>\n    <tr>\n      <th>2</th>\n      <td>4337935621</td>\n      <td>Yes</td>\n      <td>Turkey</td>\n      <td>NaN</td>\n      <td>Roasted</td>\n      <td>NaN</td>\n      <td>Rice-based</td>\n      <td>NaN</td>\n      <td>Homemade</td>\n      <td>NaN</td>\n      <td>...</td>\n      <td>Yes</td>\n      <td>Yes</td>\n      <td>Yes</td>\n      <td>No</td>\n      <td>NaN</td>\n      <td>Suburban</td>\n      <td>18 - 29</td>\n      <td>Male</td>\n      <td>$0 to $9,999</td>\n      <td>Mountain</td>\n    </tr>\n    <tr>\n      <th>3</th>\n      <td>4337933040</td>\n      <td>Yes</td>\n      <td>Turkey</td>\n      <td>NaN</td>\n      <td>Baked</td>\n      <td>NaN</td>\n      <td>Bread-based</td>\n      <td>NaN</td>\n      <td>Homemade</td>\n      <td>NaN</td>\n      <td>...</td>\n      <td>Yes</td>\n      <td>No</td>\n      <td>No</td>\n      <td>No</td>\n      <td>NaN</td>\n      <td>Urban</td>\n      <td>30 - 44</td>\n      <td>Male</td>\n      <td>$200,000 and up</td>\n      <td>Pacific</td>\n    </tr>\n    <tr>\n      <th>4</th>\n      <td>4337931983</td>\n      <td>Yes</td>\n      <td>Tofurkey</td>\n      <td>NaN</td>\n      <td>Baked</td>\n      <td>NaN</td>\n      <td>Bread-based</td>\n      <td>NaN</td>\n      <td>Canned</td>\n      <td>NaN</td>\n      <td>...</td>\n      <td>Yes</td>\n      <td>No</td>\n      <td>No</td>\n      <td>No</td>\n      <td>NaN</td>\n      <td>Urban</td>\n      <td>30 - 44</td>\n      <td>Male</td>\n      <td>$100,000 to $124,999</td>\n      <td>Pacific</td>\n    </tr>\n  </tbody>\n</table>\n<p>5 rows × 65 columns</p>\n</div>"
     },
     "metadata": {},
     "execution_count": 4
    }
   ],
   "source": [
    "data = data[data[\"Do you celebrate Thanksgiving?\"] == \"Yes\"]\n",
    "data.head()"
   ]
  },
  {
   "source": [
    "## Exploration des repas de thanksgiving\n",
    "\n",
    "- Utiliser la méthode Series.value_counts () pour afficher combien de fois chaque résultat apparaît pour la question et colonne 'What is typically the main dish at your Thanksgiving dinner?'\n",
    "- Afficher la colonne 'Do you typically have gravy ?' pour les lignes du dataframe data pour lesquelles la colonne ' What is typically the main dish at your Thanksgiving dinner ?'vaut Tofurkey ' pour la dinde de tofu.\n",
    "    - Créer un filtre qui sélectionne seulement les lignes du dataframe data où 'What is typically the main dish at your Thanksgiving dinner ?' vaut 'Tofurkey'\n",
    "    - Assigner le résultat à la variable tofurkey\n",
    "    - Afficher la colonne 'Do you typically have gravy ?' de ce nouveau dataframe tofurkey"
   ],
   "cell_type": "markdown",
   "metadata": {}
  },
  {
   "cell_type": "code",
   "execution_count": 5,
   "metadata": {},
   "outputs": [
    {
     "output_type": "stream",
     "name": "stdout",
     "text": [
      "Turkey                    859\nOther (please specify)     35\nHam/Pork                   29\nTofurkey                   20\nChicken                    12\nRoast beef                 11\nI don't know                5\nTurducken                   3\nName: What is typically the main dish at your Thanksgiving dinner?, dtype: int64\n"
     ]
    }
   ],
   "source": [
    "main_dish_count = data[\"What is typically the main dish at your Thanksgiving dinner?\"].value_counts()\n",
    "print(main_dish_count)"
   ]
  },
  {
   "cell_type": "code",
   "execution_count": 6,
   "metadata": {},
   "outputs": [
    {
     "output_type": "stream",
     "name": "stdout",
     "text": [
      "4      Yes\n33     Yes\n69      No\n72      No\n77     Yes\n145    Yes\n175    Yes\n218     No\n243    Yes\n275     No\n393    Yes\n399    Yes\n571    Yes\n594    Yes\n628     No\n774     No\n820     No\n837    Yes\n860     No\n953    Yes\nName: Do you typically have gravy?, dtype: object\n"
     ]
    }
   ],
   "source": [
    "tofurkey = data[data[\"What is typically the main dish at your Thanksgiving dinner?\"] == \"Tofurkey\"]\n",
    "print(tofurkey[\"Do you typically have gravy?\"])"
   ]
  },
  {
   "source": [
    "## Tendances des desserts pour Thanksgiving\n",
    "\n",
    "- Créer un objet Series indiquant avec des booléens les valeurs de la colonne 'Which type of pie is typically served at your Thanksgiving dinner ? Please select all that apply . Apple' qui sont nulles. Assigner le résultat à la variable apple_isnull.\n",
    "- Créer un objet Series indiquant avec des booléens les valeurs de la colonne ' Which type of pie is typically served at your Thanksgiving dinner ? Please select all that apply . Pumpkin ' qui sont nulles. Assigner le résultat à la variable pumpkin_isnull.\n",
    "- Créer un objet Series indiquant avec des booléens les valeurs de la colonne ' Which type of pie is typically served at your Thanksgiving dinner ? Please select all that apply . Pecan' qui sont nulles. Assigner le résultat à la variable pecan_isnull.\n",
    "- Combiner ces 3 objets Series avec l'opérateur & et assigner le résultat à la variable pies.\n",
    "- Afficher les valeurs uniques et combien de fois elles apparaissent dans la colonne de pies."
   ],
   "cell_type": "markdown",
   "metadata": {}
  },
  {
   "cell_type": "code",
   "execution_count": 7,
   "metadata": {},
   "outputs": [
    {
     "output_type": "stream",
     "name": "stdout",
     "text": [
      "(980,)\n"
     ]
    }
   ],
   "source": [
    "\n",
    "apple_isnull = pd.isna(data['Which type of pie is typically served at your Thanksgiving dinner? Please select all that apply. - Apple'])\n",
    "pumpkin_isnull = pd.isna(data['Which type of pie is typically served at your Thanksgiving dinner? Please select all that apply. - Pumpkin'])\n",
    "pecan_isnull = pd.isna(data['Which type of pie is typically served at your Thanksgiving dinner? Please select all that apply. - Pecan'])\n",
    "\n",
    "pies = apple_isnull & pumpkin_isnull & pecan_isnull\n",
    "print(pies.shape)"
   ]
  },
  {
   "cell_type": "code",
   "execution_count": 8,
   "metadata": {},
   "outputs": [
    {
     "output_type": "execute_result",
     "data": {
      "text/plain": [
       "False    876\n",
       "True     104\n",
       "dtype: int64"
      ]
     },
     "metadata": {},
     "execution_count": 8
    }
   ],
   "source": [
    "pies.value_counts()"
   ]
  },
  {
   "source": [
    "# Partie 2 : Liens et corrélations entre variables\n",
    "\n",
    "## Convertir l'âge en une valeur numérique\n",
    "\n",
    "- Ecrire une fonction qui convertit une chaine de caractères en une valeur entière. Cela permettra de convertir les valeurs de la colonne 'Age' en entiers. Cette fonction prendra en paramètre une chaine de caractères (les valeurs actuelles de la colonne 'Age')\n",
    "    - Utiliser la fonction isnull () pour vérifier si les valeurs sont nulles. Ajouter une condition if qui retourne 'None' si la valeur est nulle\n",
    "    - Séparer les chaines de caractères en fonction de l'espace (' ') et extraire le premier élément de la liste résultante (méthode split())\n",
    "    - Remplacer le caractère '+' dans le résultat avec une chaine de caractères vide en remplacement pour le supprimer (méthode replace())\n",
    "    - utiliser int() pour convertir le résultat en entier\n",
    "    - Retourner le résultat\n",
    "- Utiliser la méthode Series.apply () pour appliquer la fonction à chaque valeur de la colonne 'Age' du dataframe data.\n",
    "    - Assigner le résultat à la nouvelle colonne int_age du dataframe data\n",
    "- Appeler la méthode Series.describe () sur la colonne int_age ' du dataframe data et afficher le résultat."
   ],
   "cell_type": "markdown",
   "metadata": {}
  },
  {
   "cell_type": "code",
   "execution_count": 45,
   "metadata": {},
   "outputs": [
    {
     "output_type": "execute_result",
     "data": {
      "text/plain": [
       "count    1025.000000\n",
       "mean       39.383415\n",
       "std        15.398493\n",
       "min        18.000000\n",
       "25%        30.000000\n",
       "50%        45.000000\n",
       "75%        60.000000\n",
       "max        60.000000\n",
       "Name: int_age, dtype: float64"
      ]
     },
     "metadata": {},
     "execution_count": 45
    }
   ],
   "source": [
    "from re import split, sub\n",
    "\n",
    "def str_to_int(s):\n",
    "\n",
    "    if pd.isnull(s): return None\n",
    "    s = sub(\"[+]\",\"\",s).split()[0]\n",
    "\n",
    "    return int(s)\n",
    "\n",
    "data[\"int_age\"] = data[\"Age\"].apply(str_to_int)\n",
    "\n",
    "data[\"int_age\"].describe()"
   ]
  },
  {
   "source": [
    "## Convertir les revenus en valeurs numériques\n",
    "\n",
    "- Ecrire une fonction pour convertir les revenus en valeur unique de format entier.\n",
    "    - Utiliser la fonction isnull () pour vérifier si la valeur est nulle. Si c'est le cas, retourner 'None'\n",
    "    - Séparer la chaine de caractères en prenant l'espace comme délimiteur et extraire le premier élément de la liste résultante\n",
    "    - Si le résultat vaut ' Prefer ', retourner '\n",
    "    - Remplacer les caractères '$' et ',' par des chaines de caractères vides pour les supprimer\n",
    "    - Utiliser int() pour convertir le résultat en entier\n",
    "    - Retourner le résultat\n",
    "- Utiliser la méthode Series.apply () pour appliquer la fonction précédente à chaque valeur de la colonne 'How much total combined money did all members of your HOUSEHOLD earn last year ?' du dataframe data.\n",
    "    - Assigner le résultat à la nouvelle colonne ' int_income ' du dataframe data\n",
    "- Appeler la méthode Series.describe () à la colonne int_income du dataframe data et afficher le résultat."
   ],
   "cell_type": "markdown",
   "metadata": {}
  },
  {
   "cell_type": "code",
   "execution_count": 49,
   "metadata": {},
   "outputs": [
    {
     "output_type": "execute_result",
     "data": {
      "text/plain": [
       "count       889.000000\n",
       "mean      74077.615298\n",
       "std       59360.742902\n",
       "min           0.000000\n",
       "25%       25000.000000\n",
       "50%       50000.000000\n",
       "75%      100000.000000\n",
       "max      200000.000000\n",
       "Name: int_income, dtype: float64"
      ]
     },
     "metadata": {},
     "execution_count": 49
    }
   ],
   "source": [
    "def revenus(s):\n",
    "\n",
    "    if pd.isnull(s): return None\n",
    "\n",
    "    s = sub(\"[$]?[,]?\",\"\",s).split()[0]\n",
    "\n",
    "    if s == \"Prefer\": return None\n",
    "\n",
    "    return int(s)\n",
    "\n",
    "data[\"int_income\"] = data[\"How much total combined money did all members of your HOUSEHOLD earn last year?\"].apply(revenus)\n",
    "\n",
    "data[\"int_income\"].describe()\n"
   ]
  },
  {
   "source": [
    "## Corrélation entre distance et revenus\n",
    "\n",
    "- Regarder de quelle manière les personnes gagnant moins de 150000 dollars voyagent.\n",
    "    - Filtrer data en sélectionnant seulement les valeurs de ' int_income ' inférieures à 150000\n",
    "    - Sélectionner la colonne 'How far will you travel for Thanksgiving?' en prenant en compte le filtre\n",
    "    - Utiliser la méthode value_counts () pour compter combien de fois chaque valeur apparaît dans la colonne\n",
    "    - Afficher les résultats\n",
    "- Faire de même avec les personnes gagnant plus de 150000 dollars."
   ],
   "cell_type": "markdown",
   "metadata": {}
  },
  {
   "cell_type": "code",
   "execution_count": 68,
   "metadata": {},
   "outputs": [
    {
     "output_type": "stream",
     "name": "stdout",
     "text": [
      "Bas revenus:\nThanksgiving is happening at my home--I won't travel at all                         281\nThanksgiving is local--it will take place in the town I live in                     203\nThanksgiving is out of town but not too far--it's a drive of a few hours or less    150\nThanksgiving is out of town and far away--I have to drive several hours or fly       55\nName: How far will you travel for Thanksgiving?, dtype: int64\n\nHauts revenus:\nThanksgiving is happening at my home--I won't travel at all                         49\nThanksgiving is local--it will take place in the town I live in                     25\nThanksgiving is out of town but not too far--it's a drive of a few hours or less    16\nThanksgiving is out of town and far away--I have to drive several hours or fly      12\nName: How far will you travel for Thanksgiving?, dtype: int64\n"
     ]
    }
   ],
   "source": [
    "low_income = data[\"int_income\"][ data[\"int_income\"]<150000 ]\n",
    "travel_low_income = data[\"How far will you travel for Thanksgiving?\"][ data[\"int_income\"]<150000 ]\n",
    "\n",
    "print(\"Bas revenus:\")\n",
    "print(travel_low_income.value_counts())\n",
    "\n",
    "high_income = data[\"int_income\"][ data[\"int_income\"]>150000 ]\n",
    "travel_high_income = data[\"How far will you travel for Thanksgiving?\"][ data[\"int_income\"]>150000 ]\n",
    "\n",
    "print(\"\\nHauts revenus:\")\n",
    "print(travel_high_income.value_counts())"
   ]
  },
  {
   "source": [
    "## Lien entre passer Thanksgiving entre amis avec l'âge et le revenu\n",
    "\n",
    "- Générer un pivot de table montrant la moyenne d'âge des sondés pour chaque catégorie des questions 'Have you ever tried to meet up with hometown friends on Thanksgiving night?' et 'Have you ever attended a \"Friendsgiving?\".'\n",
    "    - Appeler la méthode pivot_table () sur le dataframe data\n",
    "    - Passer au paramètre 'index' la valeur 'Have you ever tried to meet up with hometown friends on Thanksgiving night?'\n",
    "    - Passer au paramètre ' columns ' la valeur 'Have you ever attended a \"Friendsgiving?\"'\n",
    "    - Passer au paramètre 'values' la valeur ' int_age\n",
    "    - Afficher les résultats\n",
    "- Faire de même pour les revenues avec ces 2 questions."
   ],
   "cell_type": "markdown",
   "metadata": {}
  },
  {
   "cell_type": "code",
   "execution_count": 85,
   "metadata": {},
   "outputs": [
    {
     "output_type": "execute_result",
     "data": {
      "text/plain": [
       "Have you ever attended a \"Friendsgiving?\"                  No        Yes\n",
       "Have you ever tried to meet up with hometown fr...                      \n",
       "No                                                  42.283702  37.010526\n",
       "Yes                                                 41.475410  33.976744"
      ],
      "text/html": "<div>\n<style scoped>\n    .dataframe tbody tr th:only-of-type {\n        vertical-align: middle;\n    }\n\n    .dataframe tbody tr th {\n        vertical-align: top;\n    }\n\n    .dataframe thead th {\n        text-align: right;\n    }\n</style>\n<table border=\"1\" class=\"dataframe\">\n  <thead>\n    <tr style=\"text-align: right;\">\n      <th>Have you ever attended a \"Friendsgiving?\"</th>\n      <th>No</th>\n      <th>Yes</th>\n    </tr>\n    <tr>\n      <th>Have you ever tried to meet up with hometown friends on Thanksgiving night?</th>\n      <th></th>\n      <th></th>\n    </tr>\n  </thead>\n  <tbody>\n    <tr>\n      <th>No</th>\n      <td>42.283702</td>\n      <td>37.010526</td>\n    </tr>\n    <tr>\n      <th>Yes</th>\n      <td>41.475410</td>\n      <td>33.976744</td>\n    </tr>\n  </tbody>\n</table>\n</div>"
     },
     "metadata": {},
     "execution_count": 85
    }
   ],
   "source": [
    "print(data.pivot_table(index = \"Have you ever tried to meet up with hometown friends on Thanksgiving night?\", columns='Have you ever attended a \"Friendsgiving?\"', values = \"int_age\"))"
   ]
  },
  {
   "cell_type": "code",
   "execution_count": 86,
   "metadata": {},
   "outputs": [
    {
     "output_type": "execute_result",
     "data": {
      "text/plain": [
       "Have you ever attended a \"Friendsgiving?\"                     No           Yes\n",
       "Have you ever tried to meet up with hometown fr...                            \n",
       "No                                                  78914.549654  72894.736842\n",
       "Yes                                                 78750.000000  66019.736842"
      ],
      "text/html": "<div>\n<style scoped>\n    .dataframe tbody tr th:only-of-type {\n        vertical-align: middle;\n    }\n\n    .dataframe tbody tr th {\n        vertical-align: top;\n    }\n\n    .dataframe thead th {\n        text-align: right;\n    }\n</style>\n<table border=\"1\" class=\"dataframe\">\n  <thead>\n    <tr style=\"text-align: right;\">\n      <th>Have you ever attended a \"Friendsgiving?\"</th>\n      <th>No</th>\n      <th>Yes</th>\n    </tr>\n    <tr>\n      <th>Have you ever tried to meet up with hometown friends on Thanksgiving night?</th>\n      <th></th>\n      <th></th>\n    </tr>\n  </thead>\n  <tbody>\n    <tr>\n      <th>No</th>\n      <td>78914.549654</td>\n      <td>72894.736842</td>\n    </tr>\n    <tr>\n      <th>Yes</th>\n      <td>78750.000000</td>\n      <td>66019.736842</td>\n    </tr>\n  </tbody>\n</table>\n</div>"
     },
     "metadata": {},
     "execution_count": 86
    }
   ],
   "source": [
    "data.pivot_table(index = \"Have you ever tried to meet up with hometown friends on Thanksgiving night?\", columns='Have you ever attended a \"Friendsgiving?\"', values = \"int_income\")"
   ]
  },
  {
   "cell_type": "code",
   "execution_count": null,
   "metadata": {},
   "outputs": [],
   "source": []
  }
 ]
}