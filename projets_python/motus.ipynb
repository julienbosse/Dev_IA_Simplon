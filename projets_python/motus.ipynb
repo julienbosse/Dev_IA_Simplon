{
 "metadata": {
  "language_info": {
   "codemirror_mode": {
    "name": "ipython",
    "version": 3
   },
   "file_extension": ".py",
   "mimetype": "text/x-python",
   "name": "python",
   "nbconvert_exporter": "python",
   "pygments_lexer": "ipython3",
   "version": "3.9.4"
  },
  "orig_nbformat": 2,
  "kernelspec": {
   "name": "python3",
   "display_name": "Python 3.9.4 64-bit (windows store)",
   "metadata": {
    "interpreter": {
     "hash": "573797387f4d626279ccb9a2b9003bf2eb8d8d757dfafe04a876963e5b7976cc"
    }
   }
  }
 },
 "nbformat": 4,
 "nbformat_minor": 2,
 "cells": [
  {
   "source": [
    "## Motus\n",
    "\n",
    "Ce jeu télévisuel qui a traversé plusieurs décennies consiste à trouver un mot mystère de taille connue en proposant divers mots de même longueur jusqu’à trouver la solution. Pour cela, comme dans l’esprit du jeu MasterMind, à chaque proposition du joueur, on indique pour chaque lettre si elle est bien placée, incorrectement placée ou absente du mot.\n",
    "\n",
    "Dans l’exemple ci-après, les lettres bien placées sont suivies d’un symbole # ; si elles sont mal placées, elles sont suivies d’un symbole ? ; et si elle n’appartient pas au mot recherché, la lettre est écrite en minuscule suivie d’un espace.\n"
   ],
   "cell_type": "markdown",
   "metadata": {}
  },
  {
   "cell_type": "code",
   "execution_count": 49,
   "metadata": {
    "tags": []
   },
   "outputs": [
    {
     "output_type": "stream",
     "name": "stdout",
     "text": [
      "Salut et bienvenue dans le jeu du motus !\n",
      "Vous avez jusqu'à 8 essais pour deviner le mot.\n",
      "\n",
      "_  _  _  _  _  _  \n",
      "m  A? i  S? O? n        (reste 7 essais)\n",
      "O? i  S# E? A? u        (reste 6 essais)\n",
      "c  A? b  A# n  E#       (reste 5 essais)\n",
      "D# O# S# A# G# E#       (reste 4 essais)\n",
      "\n",
      "\n",
      "Ah oui oui oui ! Et c'est gagnééé !\n"
     ]
    }
   ],
   "source": [
    "from random import randrange\n",
    "\n",
    "listeMots = [\n",
    "    \"ACTEUR\", \"AVIRON\", \"BOXEUR\", \"BRONZE\", \"BUDGET\", \"CARTON\", \"CHAQUE\", \"CHEVAL\",\n",
    "    \"CIMENT\", \"CLIENT\", \"COMPTE\", \"CONTRE\", \"CUPIDE\", \"DESIGN\", \"DICTER\", \"DOSAGE\",\n",
    "    \"DOUCHE\", \"DROITE\", \"EXPORT\", \"FLAQUE\", \"FORAGE\", \"GLAIVE\", \"GRAINE\", \"GROUPE\",\n",
    "    \"JARDIN\", \"JUNGLE\", \"LUCIDE\", \"MANCHE\", \"MARQUE\", \"MIRAGE\", \"MOUCHE\", \"NIVEAU\",\n",
    "    \"NOVICE\", \"OISEAU\", \"PAQUET\", \"PILOTE\", \"PLANTE\", \"POTEAU\", \"PROJET\", \"PUBLIC\",\n",
    "    \"REGAIN\", \"RYTHME\", \"SATIRE\", \"SENTIR\", \"SIMPLE\", \"SONGER\", \"SOUPLE\", \"SQUARE\"\n",
    "]\n",
    "\n",
    "count = 8 # Nombre d'essais\n",
    "\n",
    "print(\"Salut et bienvenue dans le jeu du motus !\")\n",
    "print(\"Vous avez jusqu'à 8 essais pour deviner le mot.\")\n",
    "\n",
    "rand = randrange(0, len(listeMots))\n",
    "mot = listeMots[rand] # Mot au hasard dans la liste\n",
    "\n",
    "motJoueur = \"\"\n",
    "historiqueMots = []\n",
    "\n",
    "print(\"\\n_  _  _  _  _  _  \")\n",
    "\n",
    "# Tant que le mot n'a pas été deviné et que tous les essais n'ont pas été faits\n",
    "\n",
    "while motJoueur != mot and count > 0 :\n",
    "\n",
    "    motJoueur = \"\"\n",
    "\n",
    "    # Deuxième boucle while au cas où le joeur rentre un mot qui ne fait pas 6 lettres ou un mot qu'il a déjà rentré, on redemande un mot sans décompter d'essai\n",
    "\n",
    "    while len(motJoueur) != 6 or motJoueur in historiqueMots :\n",
    "\n",
    "        motJoueur = input(\"Rentrez un mot de 6 lettres :\").upper()\n",
    "\n",
    "        if len(motJoueur) != 6 :\n",
    "            print(motJoueur,\"?? On a dit 6 lettres !\")\n",
    "\n",
    "        if motJoueur in historiqueMots:\n",
    "            print(\"Un mot différent\")\n",
    "\n",
    "    # Boucle sur les lettres pour identifier celles qui sont bien/mal placées par rapport au mot\n",
    "\n",
    "    for i in range(len(mot)):\n",
    "        if motJoueur[i] == mot[i]:\n",
    "            print(motJoueur[i]+\"# \",end=\"\")\n",
    "        elif motJoueur[i] in mot:\n",
    "            print(motJoueur[i]+\"? \",end=\"\")\n",
    "        else:\n",
    "            print(motJoueur[i].lower()+\"  \",end=\"\")\n",
    "\n",
    "    print(\"      (reste\",count-1,\"essais)\")\n",
    "\n",
    "    historiqueMots.append(motJoueur)\n",
    "    if motJoueur == mot:\n",
    "        print(\"\\n\\nAh oui oui oui ! Et c'est gagnééé !\")\n",
    "\n",
    "    count = count-1\n",
    "\n",
    "    if count == 0 and motJoueur != mot:\n",
    "        print(\"\\n\\nDommage, c'est perdu !\")\n",
    "\n"
   ]
  },
  {
   "cell_type": "code",
   "execution_count": null,
   "metadata": {},
   "outputs": [],
   "source": []
  }
 ]
}