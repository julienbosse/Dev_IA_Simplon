{
 "metadata": {
  "language_info": {
   "codemirror_mode": {
    "name": "ipython",
    "version": 3
   },
   "file_extension": ".py",
   "mimetype": "text/x-python",
   "name": "python",
   "nbconvert_exporter": "python",
   "pygments_lexer": "ipython3",
   "version": "3.9.4"
  },
  "orig_nbformat": 2,
  "kernelspec": {
   "name": "python3",
   "display_name": "Python 3.9.4 64-bit (windows store)",
   "metadata": {
    "interpreter": {
     "hash": "573797387f4d626279ccb9a2b9003bf2eb8d8d757dfafe04a876963e5b7976cc"
    }
   }
  }
 },
 "nbformat": 4,
 "nbformat_minor": 2,
 "cells": [
  {
   "source": [
    "## Motus\n",
    "\n",
    "Ce jeu télévisuel qui a traversé plusieurs décennies consiste à trouver un mot mystère de taille connue en proposant divers mots de même longueur jusqu’à trouver la solution. Pour cela, comme dans l’esprit du jeu MasterMind, à chaque proposition du joueur, on indique pour chaque lettre si elle est bien placée, incorrectement placée ou absente du mot.\n",
    "\n",
    "Dans l’exemple ci-après, les lettres bien placées sont suivies d’un symbole # ; si elles sont mal placées, elles sont suivies d’un symbole ? ; et si elle n’appartient pas au mot recherché, la lettre est écrite en minuscule suivie d’un espace.\n"
   ],
   "cell_type": "markdown",
   "metadata": {}
  },
  {
   "cell_type": "code",
   "execution_count": 5,
   "metadata": {},
   "outputs": [
    {
     "output_type": "stream",
     "name": "stdout",
     "text": [
      "Salut et bienvenue dans le jeu du motus !\n",
      "Vous avez jusqu'à 8 essais pour deviner le mot.\n",
      "CARTON\n"
     ]
    }
   ],
   "source": [
    "from random import randrange\n",
    "\n",
    "listeMots = [\n",
    "    \"ACTEUR\", \"AVIRON\", \"BOXEUR\", \"BRONZE\", \"BUDGET\", \"CARTON\", \"CHAQUE\", \"CHEVAL\",\n",
    "    \"CIMENT\", \"CLIENT\", \"COMPTE\", \"CONTRE\", \"CUPIDE\", \"DESIGN\", \"DICTER\", \"DOSAGE\",\n",
    "    \"DOUCHE\", \"DROITE\", \"EXPORT\", \"FLAQUE\", \"FORAGE\", \"GLAIVE\", \"GRAINE\", \"GROUPE\",\n",
    "    \"JARDIN\", \"JUNGLE\", \"LUCIDE\", \"MANCHE\", \"MARQUE\", \"MIRAGE\", \"MOUCHE\", \"NIVEAU\",\n",
    "    \"NOVICE\", \"OISEAU\", \"PAQUET\", \"PILOTE\", \"PLANTE\", \"POTEAU\", \"PROJET\", \"PUBLIC\",\n",
    "    \"REGAIN\", \"RYTHME\", \"SATIRE\", \"SENTIR\", \"SIMPLE\", \"SONGER\", \"SOUPLE\", \"SQUARE\"\n",
    "]\n",
    "\n",
    "maxEssais = 8\n",
    "\n",
    "print(\"Salut et bienvenue dans le jeu du motus !\")\n",
    "print(\"Vous avez jusqu'à 8 essais pour deviner le mot.\")\n",
    "input(\"Dès que vous êtes prêts, appuyez sur entrée...\")\n",
    "\n",
    "rand = randrange(0, len(listeMots))\n",
    "\n",
    "mot = listeMots[rand]"
   ]
  },
  {
   "cell_type": "code",
   "execution_count": null,
   "metadata": {},
   "outputs": [],
   "source": []
  }
 ]
}