{
 "metadata": {
  "language_info": {
   "codemirror_mode": {
    "name": "ipython",
    "version": 3
   },
   "file_extension": ".py",
   "mimetype": "text/x-python",
   "name": "python",
   "nbconvert_exporter": "python",
   "pygments_lexer": "ipython3",
   "version": "3.8.5"
  },
  "orig_nbformat": 2,
  "kernelspec": {
   "name": "python385jvsc74a57bd04ad1113733ce155ce9cb43bdc3e17679916cd44516b0bf0a5049a72e2a7064d4",
   "display_name": "Python 3.8.5 64-bit ('base': conda)"
  }
 },
 "nbformat": 4,
 "nbformat_minor": 2,
 "cells": [
  {
   "source": [
    "# Analyse de données avec NumPy\n",
    "\n",
    "### Mission :\n",
    "\n",
    "Analyser la consommation d'alcool apr pays. Pour ce faire nous allons travailler sur le fichier world_alcohol.csv qui contient 4 variables :\n",
    "\n",
    "- l'année\n",
    "- la zone géographique ou le continent\n",
    "- le pays\n",
    "- la quantité d'alcohol\n",
    "\n",
    "Commençons par lire le dataset wolrd_alcohol. Puis isolons le sous-tableau contenant uniquement les lignes concernant le Canada et assignons le à countris_canada. Enfin isolons le sous-tableau contenant uniquement les lignes concernant l'année 1984 et assignons le à years_1984."
   ],
   "cell_type": "markdown",
   "metadata": {}
  },
  {
   "cell_type": "code",
   "execution_count": 1,
   "metadata": {},
   "outputs": [
    {
     "output_type": "stream",
     "name": "stdout",
     "text": [
      "[['1986' 'Western Pacific' 'Viet Nam' 'Wine' '0']\n",
      " ['1986' 'Americas' 'Uruguay' 'Other' '0.5']\n",
      " ['1985' 'Africa' \"Cte d'Ivoire\" 'Wine' '1.62']\n",
      " ...\n",
      " ['1986' 'Europe' 'Switzerland' 'Spirits' '2.54']\n",
      " ['1987' 'Western Pacific' 'Papua New Guinea' 'Other' '0']\n",
      " ['1986' 'Africa' 'Swaziland' 'Other' '5.15']]\n"
     ]
    }
   ],
   "source": [
    "import numpy as np \n",
    "\n",
    "world_alcohol = np.genfromtxt(\"jeux_donnees/world_alcohol.csv\", delimiter=',', dtype=\"U75\", skip_header=1)\n",
    "print(world_alcohol)"
   ]
  },
  {
   "cell_type": "code",
   "execution_count": 2,
   "metadata": {},
   "outputs": [
    {
     "output_type": "stream",
     "name": "stdout",
     "text": [
      "[['1984' 'Americas' 'Canada' 'Spirits' '3.35']\n ['1989' 'Americas' 'Canada' 'Wine' '1.27']\n ['1984' 'Americas' 'Canada' 'Beer' '5']\n ['1985' 'Americas' 'Canada' 'Beer' '4.94']\n ['1987' 'Americas' 'Canada' 'Wine' '1.3']\n ['1987' 'Americas' 'Canada' 'Beer' '4.83']\n ['1986' 'Americas' 'Canada' 'Other' '']\n ['1986' 'Americas' 'Canada' 'Spirits' '3.11']\n ['1985' 'Americas' 'Canada' 'Spirits' '3.21']\n ['1985' 'Americas' 'Canada' 'Other' '']\n ['1986' 'Americas' 'Canada' 'Beer' '4.87']\n ['1984' 'Americas' 'Canada' 'Wine' '1.24']\n ['1989' 'Americas' 'Canada' 'Spirits' '2.91']\n ['1984' 'Americas' 'Canada' 'Other' '']\n ['1985' 'Americas' 'Canada' 'Wine' '1.29']\n ['1987' 'Americas' 'Canada' 'Spirits' '2.99']\n ['1989' 'Americas' 'Canada' 'Beer' '4.82']\n ['1989' 'Americas' 'Canada' 'Other' '']\n ['1986' 'Americas' 'Canada' 'Wine' '1.33']\n ['1987' 'Americas' 'Canada' 'Other' '']]\n"
     ]
    }
   ],
   "source": [
    "countries_canada = world_alcohol[ world_alcohol[:,2] == \"Canada\" ]\n",
    "print(countries_canada)"
   ]
  },
  {
   "source": [
    "## Sélectionner des éléments\n",
    "\n",
    "- Comparer la troisièeme colonne de wolrd_alcohol à la chaine de caractères \"Algeria\".\n",
    "- Assigner le résultat à la variable country_is_algeria\n",
    "- Sélectionner seulement les lignes de wolrd_alcohol pour lesquelles country_is_algeria vaut True\n",
    "- Assigner le résultat à la variable country_algeria\n",
    "- Afficher les résultats\n",
    "- Faire le même travail pour récuperer toutes les lignes correspondantes à l'année \"1984\". assigner le résultat à la variable years_1984.\n"
   ],
   "cell_type": "markdown",
   "metadata": {}
  },
  {
   "source": [
    "# Algeria\n",
    "print(\"Algeria :\\n\")\n",
    "country_is_algeria = world_alcohol[:,2]==\"Algeria\"\n",
    "country_algeria = world_alcohol[country_is_algeria]\n",
    "print(country_algeria)\n",
    "print(country_algeria.shape[0])\n",
    "\n",
    "# Année 1984\n",
    "print(\"\\n1984 :\\n\")\n",
    "years_1984 = world_alcohol[ world_alcohol[:,0] == \"1984\" ]\n",
    "print(years_1984)\n",
    "print(years_1984.shape[0])"
   ],
   "cell_type": "code",
   "metadata": {},
   "execution_count": 3,
   "outputs": [
    {
     "output_type": "stream",
     "name": "stdout",
     "text": [
      "Algeria :\n\n[['1984' 'Africa' 'Algeria' 'Spirits' '0.01']\n ['1987' 'Africa' 'Algeria' 'Beer' '0.17']\n ['1987' 'Africa' 'Algeria' 'Spirits' '0.01']\n ['1986' 'Africa' 'Algeria' 'Wine' '0.1']\n ['1984' 'Africa' 'Algeria' 'Other' '0']\n ['1989' 'Africa' 'Algeria' 'Beer' '0.16']\n ['1989' 'Africa' 'Algeria' 'Spirits' '0.01']\n ['1989' 'Africa' 'Algeria' 'Wine' '0.23']\n ['1986' 'Africa' 'Algeria' 'Spirits' '0.01']\n ['1984' 'Africa' 'Algeria' 'Wine' '0.12']\n ['1985' 'Africa' 'Algeria' 'Beer' '0.19']\n ['1985' 'Africa' 'Algeria' 'Other' '0']\n ['1986' 'Africa' 'Algeria' 'Beer' '0.18']\n ['1985' 'Africa' 'Algeria' 'Wine' '0.11']\n ['1986' 'Africa' 'Algeria' 'Other' '0']\n ['1989' 'Africa' 'Algeria' 'Other' '0']\n ['1987' 'Africa' 'Algeria' 'Other' '0']\n ['1984' 'Africa' 'Algeria' 'Beer' '0.2']\n ['1985' 'Africa' 'Algeria' 'Spirits' '0.01']\n ['1987' 'Africa' 'Algeria' 'Wine' '0.1']]\n20\n\n1984 :\n\n[['1984' 'Africa' 'Nigeria' 'Other' '6.1']\n ['1984' 'Eastern Mediterranean' 'Afghanistan' 'Other' '0']\n ['1984' 'Americas' 'Costa Rica' 'Wine' '0.06']\n ...\n ['1984' 'Europe' 'Latvia' 'Spirits' '7.5']\n ['1984' 'Africa' 'Angola' 'Wine' '0.57']\n ['1984' 'Africa' 'Central African Republic' 'Wine' '0.46']]\n646\n"
     ]
    }
   ]
  },
  {
   "source": [
    "## Sélectionner avec plusieurs conditions\n",
    "\n",
    "- Sélectionner les lignes qui contionnent \"Algeria\" et \"1986\""
   ],
   "cell_type": "markdown",
   "metadata": {}
  },
  {
   "cell_type": "code",
   "execution_count": 4,
   "metadata": {},
   "outputs": [
    {
     "output_type": "stream",
     "name": "stdout",
     "text": [
      "[['1986' 'Africa' 'Algeria' 'Wine' '0.1']\n ['1986' 'Africa' 'Algeria' 'Spirits' '0.01']\n ['1986' 'Africa' 'Algeria' 'Beer' '0.18']\n ['1986' 'Africa' 'Algeria' 'Other' '0']]\n"
     ]
    }
   ],
   "source": [
    "is_algeria_and_1986 = (world_alcohol[:,2] == \"Algeria\") & (world_alcohol[:,0] == \"1986\")\n",
    "rows_with_algeria_and_1986 = world_alcohol[is_algeria_and_1986]\n",
    "print(rows_with_algeria_and_1986)"
   ]
  },
  {
   "cell_type": "code",
   "execution_count": 5,
   "metadata": {},
   "outputs": [
    {
     "output_type": "stream",
     "name": "stdout",
     "text": [
      "[['1984' 'Americas' 'Canada' 'Spirits' '3.35']\n ['1984' 'Africa' 'Algeria' 'Spirits' '0.01']\n ['1987' 'Africa' 'Algeria' 'Beer' '0.17']\n ['1987' 'Africa' 'Algeria' 'Spirits' '0.01']\n ['1986' 'Africa' 'Algeria' 'Wine' '0.1']\n ['1989' 'Americas' 'Canada' 'Wine' '1.27']\n ['1984' 'Americas' 'Canada' 'Beer' '5']\n ['1985' 'Americas' 'Canada' 'Beer' '4.94']\n ['1987' 'Americas' 'Canada' 'Wine' '1.3']\n ['1984' 'Africa' 'Algeria' 'Other' '0']\n ['1989' 'Africa' 'Algeria' 'Beer' '0.16']\n ['1989' 'Africa' 'Algeria' 'Spirits' '0.01']\n ['1989' 'Africa' 'Algeria' 'Wine' '0.23']\n ['1987' 'Americas' 'Canada' 'Beer' '4.83']\n ['1986' 'Africa' 'Algeria' 'Spirits' '0.01']\n ['1984' 'Africa' 'Algeria' 'Wine' '0.12']\n ['1986' 'Americas' 'Canada' 'Other' '']\n ['1985' 'Africa' 'Algeria' 'Beer' '0.19']\n ['1986' 'Americas' 'Canada' 'Spirits' '3.11']\n ['1985' 'Africa' 'Algeria' 'Other' '0']\n ['1985' 'Americas' 'Canada' 'Spirits' '3.21']\n ['1985' 'Americas' 'Canada' 'Other' '']\n ['1986' 'Americas' 'Canada' 'Beer' '4.87']\n ['1986' 'Africa' 'Algeria' 'Beer' '0.18']\n ['1985' 'Africa' 'Algeria' 'Wine' '0.11']\n ['1984' 'Americas' 'Canada' 'Wine' '1.24']\n ['1986' 'Africa' 'Algeria' 'Other' '0']\n ['1989' 'Africa' 'Algeria' 'Other' '0']\n ['1987' 'Africa' 'Algeria' 'Other' '0']\n ['1989' 'Americas' 'Canada' 'Spirits' '2.91']\n ['1984' 'Africa' 'Algeria' 'Beer' '0.2']\n ['1985' 'Africa' 'Algeria' 'Spirits' '0.01']\n ['1987' 'Africa' 'Algeria' 'Wine' '0.1']\n ['1984' 'Americas' 'Canada' 'Other' '']\n ['1985' 'Americas' 'Canada' 'Wine' '1.29']\n ['1987' 'Americas' 'Canada' 'Spirits' '2.99']\n ['1989' 'Americas' 'Canada' 'Beer' '4.82']\n ['1989' 'Americas' 'Canada' 'Other' '']\n ['1986' 'Americas' 'Canada' 'Wine' '1.33']\n ['1987' 'Americas' 'Canada' 'Other' '']]\n"
     ]
    }
   ],
   "source": [
    "is_algeria_or_canada = (world_alcohol[:,2] == \"Algeria\") | (world_alcohol[:,2] == \"Canada\")\n",
    "rows_algeria_or_canada = world_alcohol[is_algeria_or_canada]\n",
    "print(rows_algeria_or_canada)"
   ]
  },
  {
   "source": [
    "## Remplacer des valeurs dans un tableau NumPy\n",
    "\n",
    "- Faire une copie world_alcohol_2 égal à world_alcohol pour le dupliquer sous un autre nom\n",
    "- Remplacer dans ce tableau les "
   ],
   "cell_type": "markdown",
   "metadata": {}
  },
  {
   "cell_type": "code",
   "execution_count": 6,
   "metadata": {},
   "outputs": [],
   "source": [
    "world_alcohol_2 = world_alcohol.copy()"
   ]
  },
  {
   "cell_type": "code",
   "execution_count": 7,
   "metadata": {},
   "outputs": [
    {
     "output_type": "stream",
     "name": "stdout",
     "text": [
      "['1986' '1986' '1985' ... '1986' '1987' '1986']\n"
     ]
    }
   ],
   "source": [
    "print(world_alcohol_2[:,0])"
   ]
  },
  {
   "cell_type": "code",
   "execution_count": 8,
   "metadata": {},
   "outputs": [
    {
     "output_type": "stream",
     "name": "stdout",
     "text": [
      "[['1986' 'Western Pacific' 'Viet Nam' 'Wine' '0']\n ['1986' 'Americas' 'Uruguay' 'Other' '0.5']\n ['1986' 'Americas' 'Colombia' 'Beer' '4.27']\n ...\n ['1986' 'Western Pacific' 'Fiji' 'Spirits' '0.05']\n ['1986' 'Europe' 'Switzerland' 'Spirits' '2.54']\n ['1986' 'Africa' 'Swaziland' 'Other' '5.15']]\n"
     ]
    }
   ],
   "source": [
    "print(world_alcohol_2[world_alcohol_2[:,0] == \"1986\"])"
   ]
  },
  {
   "cell_type": "code",
   "execution_count": 9,
   "metadata": {},
   "outputs": [
    {
     "output_type": "stream",
     "name": "stdout",
     "text": [
      "['1986' '1986' '1986' '1986' '1986' '1986' '1986' '1986' '1986' '1986'\n '1986' '1986' '1986' '1986' '1986' '1986' '1986' '1986' '1986' '1986'\n '1986' '1986' '1986' '1986' '1986' '1986' '1986' '1986' '1986' '1986'\n '1986' '1986' '1986' '1986' '1986' '1986' '1986' '1986' '1986' '1986'\n '1986' '1986' '1986' '1986' '1986' '1986' '1986' '1986' '1986' '1986'\n '1986' '1986' '1986' '1986' '1986' '1986' '1986' '1986' '1986' '1986'\n '1986' '1986' '1986' '1986' '1986' '1986' '1986' '1986' '1986' '1986'\n '1986' '1986' '1986' '1986' '1986' '1986' '1986' '1986' '1986' '1986'\n '1986' '1986' '1986' '1986' '1986' '1986' '1986' '1986' '1986' '1986'\n '1986' '1986' '1986' '1986' '1986' '1986' '1986' '1986' '1986' '1986'\n '1986' '1986' '1986' '1986' '1986' '1986' '1986' '1986' '1986' '1986'\n '1986' '1986' '1986' '1986' '1986' '1986' '1986' '1986' '1986' '1986'\n '1986' '1986' '1986' '1986' '1986' '1986' '1986' '1986' '1986' '1986'\n '1986' '1986' '1986' '1986' '1986' '1986' '1986' '1986' '1986' '1986'\n '1986' '1986' '1986' '1986' '1986' '1986' '1986' '1986' '1986' '1986'\n '1986' '1986' '1986' '1986' '1986' '1986' '1986' '1986' '1986' '1986'\n '1986' '1986' '1986' '1986' '1986' '1986' '1986' '1986' '1986' '1986'\n '1986' '1986' '1986' '1986' '1986' '1986' '1986' '1986' '1986' '1986'\n '1986' '1986' '1986' '1986' '1986' '1986' '1986' '1986' '1986' '1986'\n '1986' '1986' '1986' '1986' '1986' '1986' '1986' '1986' '1986' '1986'\n '1986' '1986' '1986' '1986' '1986' '1986' '1986' '1986' '1986' '1986'\n '1986' '1986' '1986' '1986' '1986' '1986' '1986' '1986' '1986' '1986'\n '1986' '1986' '1986' '1986' '1986' '1986' '1986' '1986' '1986' '1986'\n '1986' '1986' '1986' '1986' '1986' '1986' '1986' '1986' '1986' '1986'\n '1986' '1986' '1986' '1986' '1986' '1986' '1986' '1986' '1986' '1986'\n '1986' '1986' '1986' '1986' '1986' '1986' '1986' '1986' '1986' '1986'\n '1986' '1986' '1986' '1986' '1986' '1986' '1986' '1986' '1986' '1986'\n '1986' '1986' '1986' '1986' '1986' '1986' '1986' '1986' '1986' '1986'\n '1986' '1986' '1986' '1986' '1986' '1986' '1986' '1986' '1986' '1986'\n '1986' '1986' '1986' '1986' '1986' '1986' '1986' '1986' '1986' '1986'\n '1986' '1986' '1986' '1986' '1986' '1986' '1986' '1986' '1986' '1986'\n '1986' '1986' '1986' '1986' '1986' '1986' '1986' '1986' '1986' '1986'\n '1986' '1986' '1986' '1986' '1986' '1986' '1986' '1986' '1986' '1986'\n '1986' '1986' '1986' '1986' '1986' '1986' '1986' '1986' '1986' '1986'\n '1986' '1986' '1986' '1986' '1986' '1986' '1986' '1986' '1986' '1986'\n '1986' '1986' '1986' '1986' '1986' '1986' '1986' '1986' '1986' '1986'\n '1986' '1986' '1986' '1986' '1986' '1986' '1986' '1986' '1986' '1986'\n '1986' '1986' '1986' '1986' '1986' '1986' '1986' '1986' '1986' '1986'\n '1986' '1986' '1986' '1986' '1986' '1986' '1986' '1986' '1986' '1986'\n '1986' '1986' '1986' '1986' '1986' '1986' '1986' '1986' '1986' '1986'\n '1986' '1986' '1986' '1986' '1986' '1986' '1986' '1986' '1986' '1986'\n '1986' '1986' '1986' '1986' '1986' '1986' '1986' '1986' '1986' '1986'\n '1986' '1986' '1986' '1986' '1986' '1986' '1986' '1986' '1986' '1986'\n '1986' '1986' '1986' '1986' '1986' '1986' '1986' '1986' '1986' '1986'\n '1986' '1986' '1986' '1986' '1986' '1986' '1986' '1986' '1986' '1986'\n '1986' '1986' '1986' '1986' '1986' '1986' '1986' '1986' '1986' '1986'\n '1986' '1986' '1986' '1986' '1986' '1986' '1986' '1986' '1986' '1986'\n '1986' '1986' '1986' '1986' '1986' '1986' '1986' '1986' '1986' '1986'\n '1986' '1986' '1986' '1986' '1986' '1986' '1986' '1986' '1986' '1986'\n '1986' '1986' '1986' '1986' '1986' '1986' '1986' '1986' '1986' '1986'\n '1986' '1986' '1986' '1986' '1986' '1986' '1986' '1986' '1986' '1986'\n '1986' '1986' '1986' '1986' '1986' '1986' '1986' '1986' '1986' '1986'\n '1986' '1986' '1986' '1986' '1986' '1986' '1986' '1986' '1986' '1986'\n '1986' '1986' '1986' '1986' '1986' '1986' '1986' '1986' '1986' '1986'\n '1986' '1986' '1986' '1986' '1986' '1986' '1986' '1986' '1986' '1986'\n '1986' '1986' '1986' '1986' '1986' '1986' '1986' '1986' '1986' '1986'\n '1986' '1986' '1986' '1986' '1986' '1986' '1986' '1986' '1986' '1986'\n '1986' '1986' '1986' '1986' '1986' '1986' '1986' '1986' '1986' '1986'\n '1986' '1986' '1986' '1986' '1986' '1986' '1986' '1986' '1986' '1986'\n '1986' '1986' '1986' '1986' '1986' '1986' '1986' '1986' '1986' '1986'\n '1986' '1986' '1986' '1986' '1986' '1986' '1986' '1986' '1986' '1986'\n '1986' '1986' '1986' '1986' '1986' '1986' '1986' '1986' '1986' '1986'\n '1986' '1986' '1986' '1986' '1986' '1986' '1986' '1986' '1986' '1986'\n '1986' '1986' '1986' '1986' '1986' '1986' '1986' '1986' '1986' '1986'\n '1986' '1986' '1986' '1986' '1986' '1986' '1986' '1986' '1986' '1986'\n '1986']\n"
     ]
    }
   ],
   "source": [
    "print(world_alcohol_2[:,0][world_alcohol_2[:,0] == \"1986\"])"
   ]
  },
  {
   "cell_type": "code",
   "execution_count": 10,
   "metadata": {},
   "outputs": [
    {
     "output_type": "stream",
     "name": "stdout",
     "text": [
      "[['2018' 'Western Pacific' 'Viet Nam' 'Wine' '0']\n ['2018' 'Americas' 'Uruguay' 'Other' '0.5']\n ['1985' 'Africa' \"Cte d'Ivoire\" 'Wine' '1.62']\n ...\n ['2018' 'Europe' 'Switzerland' 'Spirits' '2.54']\n ['1987' 'Western Pacific' 'Papua New Guinea' 'Other' '0']\n ['2018' 'Africa' 'Swaziland' 'Other' '5.15']]\n"
     ]
    }
   ],
   "source": [
    "masque = world_alcohol_2[:,0] == \"1986\"\n",
    "world_alcohol_2[:,0][masque] = \"2018\"\n",
    "print(world_alcohol_2)"
   ]
  },
  {
   "cell_type": "code",
   "execution_count": 11,
   "metadata": {},
   "outputs": [
    {
     "output_type": "stream",
     "name": "stdout",
     "text": [
      "['2018' '2018' '1985' ... '2018' '1987' '2018']\n"
     ]
    }
   ],
   "source": [
    "# Equivalement avec replace\n",
    "\n",
    "x = np.char.replace( world_alcohol_2[:,0], \"1986\", \"2018\" )\n",
    "print(x)"
   ]
  },
  {
   "cell_type": "code",
   "execution_count": 12,
   "metadata": {},
   "outputs": [
    {
     "output_type": "stream",
     "name": "stdout",
     "text": [
      "[['2018' 'Western Pacific' 'Viet Nam' 'Beer' '0']\n ['2018' 'Americas' 'Uruguay' 'Other' '0.5']\n ['1985' 'Africa' \"Cte d'Ivoire\" 'Beer' '1.62']\n ...\n ['2018' 'Europe' 'Switzerland' 'Spirits' '2.54']\n ['1987' 'Western Pacific' 'Papua New Guinea' 'Other' '0']\n ['2018' 'Africa' 'Swaziland' 'Other' '5.15']]\n"
     ]
    }
   ],
   "source": [
    "# Même exercie avec Wine et beer\n",
    "\n",
    "world_alcohol_2[:,3][world_alcohol_2[:,3] == \"Wine\"] = \"Beer\"\n",
    "print(world_alcohol_2)"
   ]
  },
  {
   "source": [
    "## Remplacer les chaines de caractères vides\n",
    "\n",
    "- Comparer tous les éléments de la 5è colonne de wolrd_alcohol avec la str vide. Assigner le résultat à la variable is_value_empty\n",
    "- Sélectionner toutes les valeurs de wolrd_alcohol pour lesquelles is_value_empty est True et les remplacer par 0"
   ],
   "cell_type": "markdown",
   "metadata": {}
  },
  {
   "cell_type": "code",
   "execution_count": 25,
   "metadata": {},
   "outputs": [
    {
     "output_type": "stream",
     "name": "stdout",
     "text": [
      "[['1986' 'Western Pacific' 'Viet Nam' 'Wine' '0']\n ['1986' 'Americas' 'Uruguay' 'Other' '0.5']\n ['1985' 'Africa' \"Cte d'Ivoire\" 'Wine' '1.62']\n ...\n ['1986' 'Europe' 'Switzerland' 'Spirits' '2.54']\n ['1987' 'Western Pacific' 'Papua New Guinea' 'Other' '0']\n ['1986' 'Africa' 'Swaziland' 'Other' '5.15']]\n"
     ]
    }
   ],
   "source": [
    "is_value_empty = (world_alcohol[:,4]==\"\")\n",
    "world_alcohol[is_value_empty,4] = \"0\"\n",
    "print(world_alcohol)"
   ]
  },
  {
   "source": [
    "## Convertir des types de données\n",
    "\n",
    "- Extraire la 5è colonne de world_alcohol et assigner le resutlat à alcohol_consumption\n",
    "- Utiliser la méthode astype() pour convertir en float"
   ],
   "cell_type": "markdown",
   "metadata": {}
  },
  {
   "cell_type": "code",
   "execution_count": 14,
   "metadata": {},
   "outputs": [
    {
     "output_type": "stream",
     "name": "stdout",
     "text": [
      "[0.   0.5  1.62 ... 2.54 0.   5.15]\n"
     ]
    }
   ],
   "source": [
    "alcohol_consumption = world_alcohol[:,4]\n",
    "alcohol_consumption = alcohol_consumption.astype(float)\n",
    "print(alcohol_consumption)"
   ]
  },
  {
   "source": [
    "## Calcul de la somme et de la moyenne\n",
    "\n",
    "- total_acohol\n",
    "- average_alcohol"
   ],
   "cell_type": "markdown",
   "metadata": {}
  },
  {
   "cell_type": "code",
   "execution_count": 15,
   "metadata": {},
   "outputs": [
    {
     "output_type": "stream",
     "name": "stdout",
     "text": [
      "3908.96\n1.2001719373656738\n"
     ]
    }
   ],
   "source": [
    "total_alcohol = alcohol_consumption.sum()\n",
    "print(total_alcohol)\n",
    "average_alcohol = alcohol_consumption.mean()\n",
    "print(average_alcohol)"
   ]
  },
  {
   "cell_type": "code",
   "execution_count": 19,
   "metadata": {},
   "outputs": [
    {
     "output_type": "stream",
     "name": "stdout",
     "text": [
      "[False False False ... False False False]\n"
     ]
    }
   ],
   "source": [
    "# Consommation moyenne et totale du Canada sur l'année 1987\n",
    "\n",
    "is_canada_and_1987 = (world_alcohol[:,0] == \"1987\") & (world_alcohol[:,2] == \"Canada\")\n",
    "print(is_canada_and_1987)"
   ]
  },
  {
   "cell_type": "code",
   "execution_count": 26,
   "metadata": {},
   "outputs": [
    {
     "output_type": "stream",
     "name": "stdout",
     "text": [
      "[['1987' 'Americas' 'Canada' 'Wine' '1.3']\n ['1987' 'Americas' 'Canada' 'Beer' '4.83']\n ['1987' 'Americas' 'Canada' 'Spirits' '2.99']\n ['1987' 'Americas' 'Canada' 'Other' '0']]\n"
     ]
    }
   ],
   "source": [
    "canada_1987 = world_alcohol[is_canada_and_1987]\n",
    "print(canada_1987)"
   ]
  },
  {
   "cell_type": "code",
   "execution_count": 28,
   "metadata": {},
   "outputs": [
    {
     "output_type": "stream",
     "name": "stdout",
     "text": [
      "Total : 9.120000000000001\nMoyenne : 2.2800000000000002\n"
     ]
    }
   ],
   "source": [
    "alcohol_consumption_canada_1987 = canada_1987[:,4]\n",
    "alcohol_consumption_canada_1987 = alcohol_consumption_canada_1987.astype(float)\n",
    "\n",
    "total_alcohol_canada_1987 = alcohol_consumption_canada_1987.sum()\n",
    "print(\"Total :\", total_alcohol_canada_1987)\n",
    "\n",
    "average_alcohol_canada_1987 = alcohol_consumption_canada_1987.mean()\n",
    "print(\"Moyenne :\",average_alcohol_canada_1987)"
   ]
  },
  {
   "cell_type": "code",
   "execution_count": 34,
   "metadata": {},
   "outputs": [
    {
     "output_type": "stream",
     "name": "stdout",
     "text": [
      "[['1986' 'Americas' 'Colombia' 'Beer' '4.27']\n ['1987' 'Americas' 'Saint Kitts and Nevis' 'Beer' '1.98']\n ['1989' 'Americas' 'Guatemala' 'Beer' '0.62']\n ['1987' 'Americas' 'Nicaragua' 'Beer' '0.7']\n ['1989' 'Americas' 'Bolivia (Plurinational State of)' 'Beer' '1.26']\n ['1987' 'Americas' 'Chile' 'Beer' '1.49']\n ['1985' 'Americas' 'Brazil' 'Beer' '1.42']\n ['1985' 'Americas' 'Chile' 'Beer' '1.17']\n ['1986' 'Americas' 'Bolivia (Plurinational State of)' 'Beer' '1.14']\n ['1987' 'Americas' 'Costa Rica' 'Beer' '0.83']\n ['1986' 'Americas' 'Saint Kitts and Nevis' 'Beer' '1.25']\n ['1989' 'Americas' 'Trinidad and Tobago' 'Beer' '2.27']\n ['1984' 'Americas' 'Costa Rica' 'Beer' '0.58']\n ['1987' 'Americas' 'Peru' 'Beer' '3.12']\n ['1987' 'Americas' 'Honduras' 'Beer' '1.02']\n ['1986' 'Americas' 'Dominican Republic' 'Beer' '1.24']\n ['1987' 'Americas' 'Colombia' 'Beer' '4.36']\n ['1989' 'Americas' 'Peru' 'Beer' '1.89']\n ['1985' 'Americas' 'Haiti' 'Beer' '0']\n ['1984' 'Americas' 'Canada' 'Beer' '5']\n ['1989' 'Americas' 'Chile' 'Beer' '1.63']\n ['1989' 'Americas' 'Uruguay' 'Beer' '1.45']\n ['1989' 'Americas' 'Suriname' 'Beer' '2.1']\n ['1984' 'Americas' 'Suriname' 'Beer' '2.95']\n ['1987' 'Americas' 'Belize' 'Beer' '1.41']\n ['1987' 'Americas' 'Haiti' 'Beer' '0.01']\n ['1987' 'Americas' 'Dominican Republic' 'Beer' '1.32']\n ['1989' 'Americas' 'Dominican Republic' 'Beer' '1.54']\n ['1985' 'Americas' 'Canada' 'Beer' '4.94']\n ['1989' 'Americas' 'El Salvador' 'Beer' '0.81']\n ['1985' 'Americas' 'Venezuela (Bolivarian Republic of)' 'Beer' '4.04']\n ['1987' 'Americas' 'Trinidad and Tobago' 'Beer' '2.03']\n ['1989' 'Americas' 'Nicaragua' 'Beer' '0.7']\n ['1986' 'Americas' 'United States of America' 'Beer' '5.07']\n ['1989' 'Americas' 'Ecuador' 'Beer' '1.59']\n ['1986' 'Americas' 'Uruguay' 'Beer' '1.38']\n ['1987' 'Americas' 'Mexico' 'Beer' '3.05']\n ['1985' 'Americas' 'Antigua and Barbuda' 'Beer' '1.69']\n ['1989' 'Americas' 'Antigua and Barbuda' 'Beer' '1.83']\n ['1987' 'Americas' 'Panama' 'Beer' '3.19']\n ['1987' 'Americas' 'El Salvador' 'Beer' '0.9']\n ['1984' 'Americas' 'Belize' 'Beer' '1.65']\n ['1989' 'Americas' 'Saint Lucia' 'Beer' '2.36']\n ['1984' 'Americas' 'Venezuela (Bolivarian Republic of)' 'Beer' '5.27']\n ['1989' 'Americas' 'Brazil' 'Beer' '2.89']\n ['1987' 'Americas' 'Uruguay' 'Beer' '1.41']\n ['1987' 'Americas' 'Guatemala' 'Beer' '0.82']\n ['1986' 'Americas' 'Mexico' 'Beer' '2.97']\n ['1989' 'Americas' 'Bahamas' 'Beer' '3.33']\n ['1985' 'Americas' 'Nicaragua' 'Beer' '0.74']\n ['1984' 'Americas' 'Chile' 'Beer' '1.09']\n ['1985' 'Americas' 'Honduras' 'Beer' '0.94']\n ['1984' 'Americas' 'United States of America' 'Beer' '5.22']\n ['1986' 'Americas' 'Costa Rica' 'Beer' '0.85']\n ['1985' 'Americas' 'Belize' 'Beer' '1.5']\n ['1989' 'Americas' 'Belize' 'Beer' '0']\n ['1987' 'Americas' 'Guyana' 'Beer' '0.93']\n ['1989' 'Americas' 'Jamaica' 'Beer' '2.3']\n ['1987' 'Americas' 'Canada' 'Beer' '4.83']\n ['1987' 'Americas' 'Venezuela (Bolivarian Republic of)' 'Beer' '5.14']\n ['1987' 'Americas' 'Cuba' 'Beer' '1.92']\n ['1985' 'Americas' 'Saint Lucia' 'Beer' '2.12']\n ['1985' 'Americas' 'Paraguay' 'Beer' '1.73']\n ['1984' 'Americas' 'Brazil' 'Beer' '1.4']\n ['1989' 'Americas' 'Cuba' 'Beer' '1.87']\n ['1986' 'Americas' 'Venezuela (Bolivarian Republic of)' 'Beer' '4.49']\n ['1987' 'Americas' 'Bahamas' 'Beer' '4.11']\n ['1986' 'Americas' 'Ecuador' 'Beer' '1.38']\n ['1989' 'Americas' 'Saint Kitts and Nevis' 'Beer' '2.27']\n ['1984' 'Americas' 'Mexico' 'Beer' '2.68']\n ['1985' 'Americas' 'Bahamas' 'Beer' '4.31']\n ['1985' 'Americas' 'Costa Rica' 'Beer' '0.56']\n ['1987' 'Americas' 'Jamaica' 'Beer' '1.92']\n ['1986' 'Americas' 'Peru' 'Beer' '2.81']\n ['1986' 'Americas' 'Guatemala' 'Beer' '0.65']\n ['1989' 'Americas' 'Paraguay' 'Beer' '2.03']\n ['1985' 'Americas' 'Suriname' 'Beer' '2.75']\n ['1984' 'Americas' 'Uruguay' 'Beer' '0.99']\n ['1984' 'Americas' 'Honduras' 'Beer' '1.05']\n ['1987' 'Americas' 'Brazil' 'Beer' '1.69']\n ['1985' 'Americas' 'Panama' 'Beer' '2.64']\n ['1986' 'Americas' 'Antigua and Barbuda' 'Beer' '1.69']\n ['1989' 'Americas' 'Panama' 'Beer' '3.1']\n ['1987' 'Americas' 'Paraguay' 'Beer' '1.92']\n ['1989' 'Americas' 'Honduras' 'Beer' '1.17']\n ['1985' 'Americas' 'Saint Kitts and Nevis' 'Beer' '1.08']\n ['1987' 'Americas' 'Saint Lucia' 'Beer' '1.75']\n ['1985' 'Americas' 'Mexico' 'Beer' '2.8']\n ['1989' 'Americas' 'Guyana' 'Beer' '1.04']\n ['1985' 'Americas' 'Guatemala' 'Beer' '0.77']\n ['1985' 'Americas' 'Uruguay' 'Beer' '1.21']\n ['1989' 'Americas' 'Mexico' 'Beer' '3.57']\n ['1985' 'Americas' 'Peru' 'Beer' '2.21']\n ['1989' 'Americas' 'Haiti' 'Beer' '0.03']\n ['1987' 'Americas' 'Ecuador' 'Beer' '1.47']\n ['1985' 'Americas' 'Guyana' 'Beer' '1.17']\n ['1984' 'Americas' 'Bahamas' 'Beer' '4.25']\n ['1989' 'Americas' 'Costa Rica' 'Beer' '0.79']\n ['1987' 'Americas' 'United States of America' 'Beer' '5.07']\n ['1986' 'Americas' 'Canada' 'Beer' '4.87']\n ['1986' 'Americas' 'Panama' 'Beer' '2.98']\n ['1986' 'Americas' 'Suriname' 'Beer' '2.14']\n ['1984' 'Americas' 'Haiti' 'Beer' '0']\n ['1989' 'Americas' 'Venezuela (Bolivarian Republic of)' 'Beer' '4.24']\n ['1984' 'Americas' 'Trinidad and Tobago' 'Beer' '1.93']\n ['1986' 'Americas' 'Nicaragua' 'Beer' '0.75']\n ['1985' 'Americas' 'Dominican Republic' 'Beer' '1.2']\n ['1984' 'Americas' 'Peru' 'Beer' '2.14']\n ['1986' 'Americas' 'Honduras' 'Beer' '1']\n ['1985' 'Americas' 'Cuba' 'Beer' '1.67']\n ['1984' 'Americas' 'Cuba' 'Beer' '1.63']\n ['1986' 'Americas' 'El Salvador' 'Beer' '0.9']\n ['1986' 'Americas' 'Haiti' 'Beer' '0']\n ['1984' 'Americas' 'Saint Lucia' 'Beer' '1.75']\n ['1984' 'Americas' 'Antigua and Barbuda' 'Beer' '1.71']\n ['1986' 'Americas' 'Guyana' 'Beer' '1.33']\n ['1986' 'Americas' 'Jamaica' 'Beer' '1.67']\n ['1986' 'Americas' 'Brazil' 'Beer' '1.74']\n ['1987' 'Americas' 'Argentina' 'Beer' '1.21']\n ['1985' 'Americas' 'Argentina' 'Beer' '0.85']\n ['1984' 'Americas' 'Jamaica' 'Beer' '1.52']\n ['1985' 'Americas' 'Trinidad and Tobago' 'Beer' '1.94']\n ['1984' 'Americas' 'Panama' 'Beer' '2.52']\n ['1986' 'Americas' 'Chile' 'Beer' '1.2']\n ['1989' 'Americas' 'United States of America' 'Beer' '4.96']\n ['1984' 'Americas' 'Nicaragua' 'Beer' '0.77']\n ['1984' 'Americas' 'Guatemala' 'Beer' '0.75']\n ['1985' 'Americas' 'El Salvador' 'Beer' '0.77']\n ['1984' 'Americas' 'El Salvador' 'Beer' '0.71']\n ['1986' 'Americas' 'Trinidad and Tobago' 'Beer' '2']\n ['1985' 'Americas' 'Jamaica' 'Beer' '1.66']\n ['1984' 'Americas' 'Argentina' 'Beer' '0.86']\n ['1986' 'Americas' 'Cuba' 'Beer' '1.75']\n ['1984' 'Americas' 'Saint Kitts and Nevis' 'Beer' '0.96']\n ['1986' 'Americas' 'Bahamas' 'Beer' '4.16']\n ['1984' 'Americas' 'Dominican Republic' 'Beer' '1.08']\n ['1984' 'Americas' 'Ecuador' 'Beer' '1.3']\n ['1986' 'Americas' 'Argentina' 'Beer' '1.14']\n ['1985' 'Americas' 'Bolivia (Plurinational State of)' 'Beer' '1']\n ['1984' 'Americas' 'Paraguay' 'Beer' '1.74']\n ['1985' 'Americas' 'Colombia' 'Beer' '4.12']\n ['1987' 'Americas' 'Antigua and Barbuda' 'Beer' '1.79']\n ['1986' 'Americas' 'Paraguay' 'Beer' '1.94']\n ['1985' 'Americas' 'Ecuador' 'Beer' '1.26']\n ['1989' 'Americas' 'Argentina' 'Beer' '1.21']\n ['1985' 'Americas' 'United States of America' 'Beer' '5.03']\n ['1984' 'Americas' 'Guyana' 'Beer' '0.98']\n ['1986' 'Americas' 'Saint Lucia' 'Beer' '2.32']\n ['1989' 'Americas' 'Colombia' 'Beer' '4.4']\n ['1989' 'Americas' 'Canada' 'Beer' '4.82']\n ['1987' 'Americas' 'Suriname' 'Beer' '2.27']\n ['1984' 'Americas' 'Bolivia (Plurinational State of)' 'Beer' '0.94']\n ['1984' 'Americas' 'Colombia' 'Beer' '3.99']\n ['1987' 'Americas' 'Bolivia (Plurinational State of)' 'Beer' '1.16']\n ['1986' 'Americas' 'Belize' 'Beer' '1.35']]\nTotal : 310.02\nMoyenne : 2.0001290322580645\n"
     ]
    }
   ],
   "source": [
    "# Consommation totale et moyenne de bière pour le continent américain\n",
    "\n",
    "is_america_beer = (world_alcohol[:,1] == \"Americas\") & (world_alcohol[:,3] == \"Beer\")\n",
    "rows_americas_beer = world_alcohol[is_america_beer]\n",
    "\n",
    "print(rows_americas_beer)\n",
    "consumtion_americas_beer = rows_americas_beer[:,4]\n",
    "consumtion_americas_beer = consumtion_americas_beer.astype(float)\n",
    "\n",
    "total_alcohol_americas_beer = consumtion_americas_beer.sum()\n",
    "print(\"Total :\", total_alcohol_americas_beer)\n",
    "\n",
    "average_alcohol_americas_beer = consumtion_americas_beer.mean()\n",
    "print(\"Moyenne :\",average_alcohol_americas_beer)"
   ]
  },
  {
   "source": [
    "## Calculer la consommation par pays\n",
    "\n",
    "- Tout d'abord, on crée un dictionnaire vide qui va contenir tous les pays et leurs consommations d'alcool associées, on le nommera totals\n",
    "- Sélectionner ensuite les lignes de world_alcohol correspondant à l'année donnée. Assigner le resultat à la variable year.\n",
    "- Sélectionner dans une liste qu'on nommera countries tous les pays.\n",
    "- Parcourir tous les pays de la liste à l'aide d'une boucle. Pour chaque pays :\n",
    "    - Sélectionner les lignes de year correspondant à chaque pays\n",
    "    - Assigner le résultat à la variable country_consumption\n",
    "    - Extraire la 5ème colonne de country_consumption\n",
    "    - Remplacer toute chaine de caractère vide dans cette colonne par 0\n",
    "    - Convertir la colonne en décimal (float)\n",
    "    - Convertir la somme de la colonne\n",
    "    - Ajouter la somme au dictionnaire totals, avec comme clé le nom du pays et en valeur cette somme\n",
    "- Afficher le dictionnaire totals"
   ],
   "cell_type": "markdown",
   "metadata": {}
  },
  {
   "cell_type": "code",
   "execution_count": 63,
   "metadata": {},
   "outputs": [
    {
     "output_type": "stream",
     "name": "stdout",
     "text": [
      "{'Afghanistan': 0.0, 'Albania': 1.73, 'Algeria': 0.4, 'Angola': 2.28, 'Antigua and Barbuda': 4.69, 'Argentina': 10.82, 'Australia': 12.09, 'Austria': 13.9, 'Bahamas': 12.29, 'Bahrain': 4.89, 'Bangladesh': 0.0, 'Belarus': 7.98, 'Belgium': 11.61, 'Belize': 0.0, 'Benin': 1.38, 'Bhutan': 0.31, 'Bolivia (Plurinational State of)': 3.05, 'Botswana': 4.63, 'Brazil': 5.52, 'Brunei Darussalam': 2.78, 'Bulgaria': 11.43, 'Burkina Faso': 3.99, 'Burundi': 8.16, 'Cabo Verde': 2.79, 'Cambodia': 0.33, 'Cameroon': 6.36, 'Canada': 9.0, 'Central African Republic': 2.52, 'Chad': 0.3, 'Chile': 8.65, 'China': 3.33, 'Colombia': 6.96, 'Comoros': 0.11, 'Congo': 3.15, 'Costa Rica': 5.4, 'Croatia': 10.92, \"Cte d'Ivoire\": 2.2, 'Cuba': 4.37, 'Cyprus': 9.29, 'Czech Republic': 13.01, \"Democratic People's Republic of Korea\": 3.68, 'Democratic Republic of the Congo': 1.92, 'Denmark': 11.65, 'Djibouti': 0.87, 'Dominican Republic': 4.53, 'Ecuador': 2.54, 'Egypt': 0.42, 'El Salvador': 1.77, 'Equatorial Guinea': 6.49, 'Eritrea': 0.29, 'Ethiopia': 0.86, 'Fiji': 1.96, 'Finland': 9.42, 'France': 16.05, 'Gabon': 9.34, 'Gambia': 1.63, 'Germany': 14.64, 'Ghana': 1.86, 'Greece': 10.15, 'Guatemala': 2.47, 'Guinea': 0.21, 'Guinea-Bissau': 2.67, 'Guyana': 9.94, 'Haiti': 5.81, 'Honduras': 2.15, 'Hungary': 16.29, 'Iceland': 5.36, 'India': 1.66, 'Indonesia': 0.07, 'Iran (Islamic Republic of)': 0.0, 'Iraq': 0.75, 'Ireland': 11.79, 'Israel': 2.03, 'Italy': 10.9, 'Jamaica': 3.03, 'Japan': 7.74, 'Jordan': 0.19, 'Kenya': 2.82, 'Kiribati': 0.48, 'Kuwait': 0.0, 'Kyrgyzstan': 4.28, \"Lao People's Democratic Republic\": 5.95, 'Latvia': 7.04, 'Lebanon': 3.94, 'Lesotho': 2.02, 'Liberia': 5.61, 'Libya': 0.0, 'Lithuania': 0.0, 'Luxembourg': 15.21, 'Madagascar': 1.38, 'Malawi': 1.02, 'Malaysia': 0.68, 'Mali': 0.67, 'Malta': 7.13, 'Mauritania': 0.02, 'Mauritius': 3.54, 'Mexico': 5.1, 'Micronesia (Federated States of)': 0.0, 'Mongolia': 2.59, 'Morocco': 0.7, 'Mozambique': 0.39, 'Myanmar': 0.16, 'Namibia': 0.24, 'Nepal': 0.03, 'Netherlands': 10.03, 'New Zealand': 11.52, 'Nicaragua': 2.5, 'Niger': 0.11, 'Nigeria': 6.74, 'Norway': 5.08, 'Oman': 1.03, 'Pakistan': 0.02, 'Panama': 4.6, 'Papua New Guinea': 1.11, 'Paraguay': 6.51, 'Peru': 4.99, 'Philippines': 3.78, 'Poland': 9.33, 'Portugal': 15.35, 'Qatar': 1.45, 'Republic of Korea': 9.62, 'Romania': 8.41, 'Russian Federation': 5.35, 'Rwanda': 7.55, 'Saint Kitts and Nevis': 4.65, 'Saint Lucia': 11.62, 'Samoa': 2.63, 'Sao Tome and Principe': 2.57, 'Saudi Arabia': 0.15, 'Senegal': 0.61, 'Seychelles': 3.3, 'Sierra Leone': 4.38, 'Singapore': 1.61, 'Slovakia': 12.7, 'Slovenia': 12.97, 'Solomon Islands': 0.58, 'Somalia': 0.0, 'South Africa': 9.21, 'Spain': 13.28, 'Sri Lanka': 0.14, 'Sudan': 0.15, 'Suriname': 3.67, 'Swaziland': 6.68, 'Sweden': 7.47, 'Switzerland': 13.85, 'Syrian Arab Republic': 0.54, 'Thailand': 3.92, 'Togo': 2.22, 'Trinidad and Tobago': 4.68, 'Tunisia': 0.95, 'Turkey': 0.72, 'Uganda': 7.8, 'Ukraine': 5.32, 'United Arab Emirates': 4.43, 'United Kingdom of Great Britain and Northern Ireland': 9.99, 'United Republic of Tanzania': 5.9, 'United States of America': 9.16, 'Uruguay': 7.44, 'Vanuatu': 1.74, 'Venezuela (Bolivarian Republic of)': 7.87, 'Viet Nam': 0.16, 'Yemen': 0.2, 'Zambia': 3.37, 'Zimbabwe': 4.92}\n"
     ]
    }
   ],
   "source": [
    "\n",
    "def consommation_pays(annee,world_alcohol):\n",
    "\n",
    "    return totals\n",
    "\n",
    "annee = 1989\n",
    "\n",
    "totals = {}\n",
    "year = world_alcohol[world_alcohol[:,0] == \"1989\"]\n",
    "countries = list(set(world_alcohol[:,2]))\n",
    "countries.sort()\n",
    "\n",
    "for country in countries:\n",
    "\n",
    "    country_consumption = year[year[:,2] == country][:,4]\n",
    "    is_value_empty = (country_consumption==\"\")\n",
    "    country_consumption[is_value_empty] = \"0\"\n",
    "    country_consumption = country_consumption.astype(float)\n",
    "    totals[country] = round(country_consumption.sum(),4)\n",
    "\n",
    "print(totals)\n",
    "\n"
   ]
  },
  {
   "cell_type": "code",
   "execution_count": null,
   "metadata": {},
   "outputs": [],
   "source": []
  }
 ]
}