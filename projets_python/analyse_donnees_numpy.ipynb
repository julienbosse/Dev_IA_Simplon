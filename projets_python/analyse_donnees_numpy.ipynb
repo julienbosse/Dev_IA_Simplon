{
 "metadata": {
  "language_info": {
   "codemirror_mode": {
    "name": "ipython",
    "version": 3
   },
   "file_extension": ".py",
   "mimetype": "text/x-python",
   "name": "python",
   "nbconvert_exporter": "python",
   "pygments_lexer": "ipython3",
   "version": "3.8.5"
  },
  "orig_nbformat": 2,
  "kernelspec": {
   "name": "python385jvsc74a57bd04ad1113733ce155ce9cb43bdc3e17679916cd44516b0bf0a5049a72e2a7064d4",
   "display_name": "Python 3.8.5 64-bit ('base': conda)"
  }
 },
 "nbformat": 4,
 "nbformat_minor": 2,
 "cells": [
  {
   "source": [
    "# Analyse de données avec NumPy\n",
    "\n",
    "### Mission :\n",
    "\n",
    "Analyser la consommation d'alcool apr pays. Pour ce faire nous allons travailler sur le fichier world_alcohol.csv qui contient 4 variables :\n",
    "\n",
    "- l'année\n",
    "- la zone géographique ou le continent\n",
    "- le pays\n",
    "- la quantité d'alcohol\n",
    "\n",
    "Commençons par lire le dataset wolrd_alcohol. Puis isolons le sous-tableau contenant uniquement les lignes concernant le Canada et assignons le à countris_canada. Enfin isolons le sous-tableau contenant uniquement les lignes concernant l'année 1984 et assignons le à years_1984."
   ],
   "cell_type": "markdown",
   "metadata": {}
  },
  {
   "cell_type": "code",
   "execution_count": 32,
   "metadata": {},
   "outputs": [
    {
     "output_type": "stream",
     "name": "stdout",
     "text": [
      "[['1986' 'Western Pacific' 'Viet Nam' 'Wine' '0']\n ['1986' 'Americas' 'Uruguay' 'Other' '0.5']\n ['1985' 'Africa' \"Cte d'Ivoire\" 'Wine' '1.62']\n ...\n ['1986' 'Europe' 'Switzerland' 'Spirits' '2.54']\n ['1987' 'Western Pacific' 'Papua New Guinea' 'Other' '0']\n ['1986' 'Africa' 'Swaziland' 'Other' '5.15']]\n"
     ]
    }
   ],
   "source": [
    "import numpy as np \n",
    "\n",
    "world_alcohol = np.genfromtxt(\"jeux_donnees/world_alcohol.csv\", delimiter=',', dtype=\"U75\", skip_header=1)\n",
    "print(world_alcohol)"
   ]
  },
  {
   "cell_type": "code",
   "execution_count": 33,
   "metadata": {},
   "outputs": [
    {
     "output_type": "stream",
     "name": "stdout",
     "text": [
      "[['1985' 'Europe' 'France' 'Spirits' '2.7']\n ['1989' 'Europe' 'France' 'Wine' '10.24']\n ['1986' 'Europe' 'France' 'Other' '0.25']\n ['1989' 'Europe' 'France' 'Other' '0.27']\n ['1984' 'Europe' 'France' 'Spirits' '2.58']\n ['1987' 'Europe' 'France' 'Beer' '2.45']\n ['1986' 'Europe' 'France' 'Spirits' '2.71']\n ['1989' 'Europe' 'France' 'Beer' '2.56']\n ['1986' 'Europe' 'France' 'Beer' '2.55']\n ['1984' 'Europe' 'France' 'Beer' '2.62']\n ['1984' 'Europe' 'France' 'Other' '0.24']\n ['1985' 'Europe' 'France' 'Wine' '11.1']\n ['1985' 'Europe' 'France' 'Other' '0.25']\n ['1986' 'Europe' 'France' 'Wine' '10.62']\n ['1989' 'Europe' 'France' 'Spirits' '2.98']\n ['1985' 'Europe' 'France' 'Beer' '2.54']\n ['1987' 'Europe' 'France' 'Wine' '10.42']\n ['1984' 'Europe' 'France' 'Wine' '11.45']\n ['1987' 'Europe' 'France' 'Other' '0.26']\n ['1987' 'Europe' 'France' 'Spirits' '2.77']]\n"
     ]
    }
   ],
   "source": [
    "countries_canada = world_alcohol[ world_alcohol[:,2] == \"France\" ]\n",
    "print(countries_canada)"
   ]
  },
  {
   "source": [
    "## Sélectionner des éléments\n",
    "\n",
    "- Comparer la troisièeme colonne de wolrd_alcohol à la chaine de caractères \"Algeria\".\n",
    "- Assigner le résultat à la variable country_is_algeria\n",
    "- Sélectionner seulement les lignes de wolrd_alcohol pour lesquelles country_is_algeria vaut True\n",
    "- Assigner le résultat à la variable country_algeria\n",
    "- Afficher les résultats\n",
    "- Faire le même travail pour récuperer toutes les lignes correspondantes à l'année \"1984\". assigner le résultat à la variable years_1984.\n"
   ],
   "cell_type": "markdown",
   "metadata": {}
  },
  {
   "source": [
    "# Algeria\n",
    "print(\"Algeria :\\n\")\n",
    "country_is_algeria = world_alcohol[:,2]==\"Algeria\"\n",
    "country_algeria = world_alcohol[country_is_algeria]\n",
    "print(country_algeria)\n",
    "print(country_algeria.shape[0])\n",
    "\n",
    "# Année 1984\n",
    "print(\"\\n1984 :\\n\")\n",
    "years_1984 = world_alcohol[ world_alcohol[:,0] == \"1984\" ]\n",
    "print(years_1984)\n",
    "print(years_1984.shape[0])"
   ],
   "cell_type": "code",
   "metadata": {},
   "execution_count": 34,
   "outputs": [
    {
     "output_type": "stream",
     "name": "stdout",
     "text": [
      "Algeria :\n\n[['1984' 'Africa' 'Algeria' 'Spirits' '0.01']\n ['1987' 'Africa' 'Algeria' 'Beer' '0.17']\n ['1987' 'Africa' 'Algeria' 'Spirits' '0.01']\n ['1986' 'Africa' 'Algeria' 'Wine' '0.1']\n ['1984' 'Africa' 'Algeria' 'Other' '0']\n ['1989' 'Africa' 'Algeria' 'Beer' '0.16']\n ['1989' 'Africa' 'Algeria' 'Spirits' '0.01']\n ['1989' 'Africa' 'Algeria' 'Wine' '0.23']\n ['1986' 'Africa' 'Algeria' 'Spirits' '0.01']\n ['1984' 'Africa' 'Algeria' 'Wine' '0.12']\n ['1985' 'Africa' 'Algeria' 'Beer' '0.19']\n ['1985' 'Africa' 'Algeria' 'Other' '0']\n ['1986' 'Africa' 'Algeria' 'Beer' '0.18']\n ['1985' 'Africa' 'Algeria' 'Wine' '0.11']\n ['1986' 'Africa' 'Algeria' 'Other' '0']\n ['1989' 'Africa' 'Algeria' 'Other' '0']\n ['1987' 'Africa' 'Algeria' 'Other' '0']\n ['1984' 'Africa' 'Algeria' 'Beer' '0.2']\n ['1985' 'Africa' 'Algeria' 'Spirits' '0.01']\n ['1987' 'Africa' 'Algeria' 'Wine' '0.1']]\n20\n\n1984 :\n\n[['1984' 'Africa' 'Nigeria' 'Other' '6.1']\n ['1984' 'Eastern Mediterranean' 'Afghanistan' 'Other' '0']\n ['1984' 'Americas' 'Costa Rica' 'Wine' '0.06']\n ...\n ['1984' 'Europe' 'Latvia' 'Spirits' '7.5']\n ['1984' 'Africa' 'Angola' 'Wine' '0.57']\n ['1984' 'Africa' 'Central African Republic' 'Wine' '0.46']]\n646\n"
     ]
    }
   ]
  },
  {
   "source": [
    "## Sélectionner avec plusieurs conditions\n",
    "\n",
    "- Sélectionner les lignes qui contionnent \"Algeria\" et \"1986\""
   ],
   "cell_type": "markdown",
   "metadata": {}
  },
  {
   "cell_type": "code",
   "execution_count": 35,
   "metadata": {},
   "outputs": [
    {
     "output_type": "stream",
     "name": "stdout",
     "text": [
      "[['1986' 'Africa' 'Algeria' 'Wine' '0.1']\n ['1986' 'Africa' 'Algeria' 'Spirits' '0.01']\n ['1986' 'Africa' 'Algeria' 'Beer' '0.18']\n ['1986' 'Africa' 'Algeria' 'Other' '0']]\n"
     ]
    }
   ],
   "source": [
    "is_algeria_and_1986 = (world_alcohol[:,2] == \"Algeria\") & (world_alcohol[:,0] == \"1986\")\n",
    "rows_with_algeria_and_1986 = world_alcohol[is_algeria_and_1986]\n",
    "print(rows_with_algeria_and_1986)"
   ]
  },
  {
   "cell_type": "code",
   "execution_count": 36,
   "metadata": {},
   "outputs": [
    {
     "output_type": "stream",
     "name": "stdout",
     "text": [
      "[['1984' 'Americas' 'Canada' 'Spirits' '3.35']\n ['1984' 'Africa' 'Algeria' 'Spirits' '0.01']\n ['1987' 'Africa' 'Algeria' 'Beer' '0.17']\n ['1987' 'Africa' 'Algeria' 'Spirits' '0.01']\n ['1986' 'Africa' 'Algeria' 'Wine' '0.1']\n ['1989' 'Americas' 'Canada' 'Wine' '1.27']\n ['1984' 'Americas' 'Canada' 'Beer' '5']\n ['1985' 'Americas' 'Canada' 'Beer' '4.94']\n ['1987' 'Americas' 'Canada' 'Wine' '1.3']\n ['1984' 'Africa' 'Algeria' 'Other' '0']\n ['1989' 'Africa' 'Algeria' 'Beer' '0.16']\n ['1989' 'Africa' 'Algeria' 'Spirits' '0.01']\n ['1989' 'Africa' 'Algeria' 'Wine' '0.23']\n ['1987' 'Americas' 'Canada' 'Beer' '4.83']\n ['1986' 'Africa' 'Algeria' 'Spirits' '0.01']\n ['1984' 'Africa' 'Algeria' 'Wine' '0.12']\n ['1986' 'Americas' 'Canada' 'Other' '']\n ['1985' 'Africa' 'Algeria' 'Beer' '0.19']\n ['1986' 'Americas' 'Canada' 'Spirits' '3.11']\n ['1985' 'Africa' 'Algeria' 'Other' '0']\n ['1985' 'Americas' 'Canada' 'Spirits' '3.21']\n ['1985' 'Americas' 'Canada' 'Other' '']\n ['1986' 'Americas' 'Canada' 'Beer' '4.87']\n ['1986' 'Africa' 'Algeria' 'Beer' '0.18']\n ['1985' 'Africa' 'Algeria' 'Wine' '0.11']\n ['1984' 'Americas' 'Canada' 'Wine' '1.24']\n ['1986' 'Africa' 'Algeria' 'Other' '0']\n ['1989' 'Africa' 'Algeria' 'Other' '0']\n ['1987' 'Africa' 'Algeria' 'Other' '0']\n ['1989' 'Americas' 'Canada' 'Spirits' '2.91']\n ['1984' 'Africa' 'Algeria' 'Beer' '0.2']\n ['1985' 'Africa' 'Algeria' 'Spirits' '0.01']\n ['1987' 'Africa' 'Algeria' 'Wine' '0.1']\n ['1984' 'Americas' 'Canada' 'Other' '']\n ['1985' 'Americas' 'Canada' 'Wine' '1.29']\n ['1987' 'Americas' 'Canada' 'Spirits' '2.99']\n ['1989' 'Americas' 'Canada' 'Beer' '4.82']\n ['1989' 'Americas' 'Canada' 'Other' '']\n ['1986' 'Americas' 'Canada' 'Wine' '1.33']\n ['1987' 'Americas' 'Canada' 'Other' '']]\n"
     ]
    }
   ],
   "source": [
    "is_algeria_or_canada = (world_alcohol[:,2] == \"Algeria\") | (world_alcohol[:,2] == \"Canada\")\n",
    "rows_algeria_or_canada = world_alcohol[is_algeria_or_canada]\n",
    "print(rows_algeria_or_canada)"
   ]
  },
  {
   "source": [
    "## Remplacer des valeurs dans un tableau NumPy\n",
    "\n",
    "- Faire une copie world_alcohol_2 égal à world_alcohol pour le dupliquer sous un autre nom\n",
    "- Remplacer dans ce tableau les "
   ],
   "cell_type": "markdown",
   "metadata": {}
  },
  {
   "cell_type": "code",
   "execution_count": 37,
   "metadata": {},
   "outputs": [],
   "source": [
    "world_alcohol_2 = world_alcohol.copy()"
   ]
  },
  {
   "cell_type": "code",
   "execution_count": 38,
   "metadata": {},
   "outputs": [
    {
     "output_type": "stream",
     "name": "stdout",
     "text": [
      "['1986' '1986' '1985' ... '1986' '1987' '1986']\n"
     ]
    }
   ],
   "source": [
    "print(world_alcohol_2[:,0])"
   ]
  },
  {
   "cell_type": "code",
   "execution_count": 39,
   "metadata": {},
   "outputs": [
    {
     "output_type": "stream",
     "name": "stdout",
     "text": [
      "[['1986' 'Western Pacific' 'Viet Nam' 'Wine' '0']\n ['1986' 'Americas' 'Uruguay' 'Other' '0.5']\n ['1986' 'Americas' 'Colombia' 'Beer' '4.27']\n ...\n ['1986' 'Western Pacific' 'Fiji' 'Spirits' '0.05']\n ['1986' 'Europe' 'Switzerland' 'Spirits' '2.54']\n ['1986' 'Africa' 'Swaziland' 'Other' '5.15']]\n"
     ]
    }
   ],
   "source": [
    "print(world_alcohol_2[world_alcohol_2[:,0] == \"1986\"])"
   ]
  },
  {
   "cell_type": "code",
   "execution_count": 40,
   "metadata": {},
   "outputs": [
    {
     "output_type": "stream",
     "name": "stdout",
     "text": [
      "['1986' '1986' '1986' '1986' '1986' '1986' '1986' '1986' '1986' '1986'\n '1986' '1986' '1986' '1986' '1986' '1986' '1986' '1986' '1986' '1986'\n '1986' '1986' '1986' '1986' '1986' '1986' '1986' '1986' '1986' '1986'\n '1986' '1986' '1986' '1986' '1986' '1986' '1986' '1986' '1986' '1986'\n '1986' '1986' '1986' '1986' '1986' '1986' '1986' '1986' '1986' '1986'\n '1986' '1986' '1986' '1986' '1986' '1986' '1986' '1986' '1986' '1986'\n '1986' '1986' '1986' '1986' '1986' '1986' '1986' '1986' '1986' '1986'\n '1986' '1986' '1986' '1986' '1986' '1986' '1986' '1986' '1986' '1986'\n '1986' '1986' '1986' '1986' '1986' '1986' '1986' '1986' '1986' '1986'\n '1986' '1986' '1986' '1986' '1986' '1986' '1986' '1986' '1986' '1986'\n '1986' '1986' '1986' '1986' '1986' '1986' '1986' '1986' '1986' '1986'\n '1986' '1986' '1986' '1986' '1986' '1986' '1986' '1986' '1986' '1986'\n '1986' '1986' '1986' '1986' '1986' '1986' '1986' '1986' '1986' '1986'\n '1986' '1986' '1986' '1986' '1986' '1986' '1986' '1986' '1986' '1986'\n '1986' '1986' '1986' '1986' '1986' '1986' '1986' '1986' '1986' '1986'\n '1986' '1986' '1986' '1986' '1986' '1986' '1986' '1986' '1986' '1986'\n '1986' '1986' '1986' '1986' '1986' '1986' '1986' '1986' '1986' '1986'\n '1986' '1986' '1986' '1986' '1986' '1986' '1986' '1986' '1986' '1986'\n '1986' '1986' '1986' '1986' '1986' '1986' '1986' '1986' '1986' '1986'\n '1986' '1986' '1986' '1986' '1986' '1986' '1986' '1986' '1986' '1986'\n '1986' '1986' '1986' '1986' '1986' '1986' '1986' '1986' '1986' '1986'\n '1986' '1986' '1986' '1986' '1986' '1986' '1986' '1986' '1986' '1986'\n '1986' '1986' '1986' '1986' '1986' '1986' '1986' '1986' '1986' '1986'\n '1986' '1986' '1986' '1986' '1986' '1986' '1986' '1986' '1986' '1986'\n '1986' '1986' '1986' '1986' '1986' '1986' '1986' '1986' '1986' '1986'\n '1986' '1986' '1986' '1986' '1986' '1986' '1986' '1986' '1986' '1986'\n '1986' '1986' '1986' '1986' '1986' '1986' '1986' '1986' '1986' '1986'\n '1986' '1986' '1986' '1986' '1986' '1986' '1986' '1986' '1986' '1986'\n '1986' '1986' '1986' '1986' '1986' '1986' '1986' '1986' '1986' '1986'\n '1986' '1986' '1986' '1986' '1986' '1986' '1986' '1986' '1986' '1986'\n '1986' '1986' '1986' '1986' '1986' '1986' '1986' '1986' '1986' '1986'\n '1986' '1986' '1986' '1986' '1986' '1986' '1986' '1986' '1986' '1986'\n '1986' '1986' '1986' '1986' '1986' '1986' '1986' '1986' '1986' '1986'\n '1986' '1986' '1986' '1986' '1986' '1986' '1986' '1986' '1986' '1986'\n '1986' '1986' '1986' '1986' '1986' '1986' '1986' '1986' '1986' '1986'\n '1986' '1986' '1986' '1986' '1986' '1986' '1986' '1986' '1986' '1986'\n '1986' '1986' '1986' '1986' '1986' '1986' '1986' '1986' '1986' '1986'\n '1986' '1986' '1986' '1986' '1986' '1986' '1986' '1986' '1986' '1986'\n '1986' '1986' '1986' '1986' '1986' '1986' '1986' '1986' '1986' '1986'\n '1986' '1986' '1986' '1986' '1986' '1986' '1986' '1986' '1986' '1986'\n '1986' '1986' '1986' '1986' '1986' '1986' '1986' '1986' '1986' '1986'\n '1986' '1986' '1986' '1986' '1986' '1986' '1986' '1986' '1986' '1986'\n '1986' '1986' '1986' '1986' '1986' '1986' '1986' '1986' '1986' '1986'\n '1986' '1986' '1986' '1986' '1986' '1986' '1986' '1986' '1986' '1986'\n '1986' '1986' '1986' '1986' '1986' '1986' '1986' '1986' '1986' '1986'\n '1986' '1986' '1986' '1986' '1986' '1986' '1986' '1986' '1986' '1986'\n '1986' '1986' '1986' '1986' '1986' '1986' '1986' '1986' '1986' '1986'\n '1986' '1986' '1986' '1986' '1986' '1986' '1986' '1986' '1986' '1986'\n '1986' '1986' '1986' '1986' '1986' '1986' '1986' '1986' '1986' '1986'\n '1986' '1986' '1986' '1986' '1986' '1986' '1986' '1986' '1986' '1986'\n '1986' '1986' '1986' '1986' '1986' '1986' '1986' '1986' '1986' '1986'\n '1986' '1986' '1986' '1986' '1986' '1986' '1986' '1986' '1986' '1986'\n '1986' '1986' '1986' '1986' '1986' '1986' '1986' '1986' '1986' '1986'\n '1986' '1986' '1986' '1986' '1986' '1986' '1986' '1986' '1986' '1986'\n '1986' '1986' '1986' '1986' '1986' '1986' '1986' '1986' '1986' '1986'\n '1986' '1986' '1986' '1986' '1986' '1986' '1986' '1986' '1986' '1986'\n '1986' '1986' '1986' '1986' '1986' '1986' '1986' '1986' '1986' '1986'\n '1986' '1986' '1986' '1986' '1986' '1986' '1986' '1986' '1986' '1986'\n '1986' '1986' '1986' '1986' '1986' '1986' '1986' '1986' '1986' '1986'\n '1986' '1986' '1986' '1986' '1986' '1986' '1986' '1986' '1986' '1986'\n '1986' '1986' '1986' '1986' '1986' '1986' '1986' '1986' '1986' '1986'\n '1986' '1986' '1986' '1986' '1986' '1986' '1986' '1986' '1986' '1986'\n '1986' '1986' '1986' '1986' '1986' '1986' '1986' '1986' '1986' '1986'\n '1986' '1986' '1986' '1986' '1986' '1986' '1986' '1986' '1986' '1986'\n '1986' '1986' '1986' '1986' '1986' '1986' '1986' '1986' '1986' '1986'\n '1986']\n"
     ]
    }
   ],
   "source": [
    "print(world_alcohol_2[:,0][world_alcohol_2[:,0] == \"1986\"])"
   ]
  },
  {
   "cell_type": "code",
   "execution_count": 41,
   "metadata": {},
   "outputs": [
    {
     "output_type": "stream",
     "name": "stdout",
     "text": [
      "[['2018' 'Western Pacific' 'Viet Nam' 'Wine' '0']\n ['2018' 'Americas' 'Uruguay' 'Other' '0.5']\n ['1985' 'Africa' \"Cte d'Ivoire\" 'Wine' '1.62']\n ...\n ['2018' 'Europe' 'Switzerland' 'Spirits' '2.54']\n ['1987' 'Western Pacific' 'Papua New Guinea' 'Other' '0']\n ['2018' 'Africa' 'Swaziland' 'Other' '5.15']]\n"
     ]
    }
   ],
   "source": [
    "masque = world_alcohol_2[:,0] == \"1986\"\n",
    "world_alcohol_2[:,0][masque] = \"2018\"\n",
    "print(world_alcohol_2)"
   ]
  },
  {
   "cell_type": "code",
   "execution_count": 42,
   "metadata": {},
   "outputs": [
    {
     "output_type": "stream",
     "name": "stdout",
     "text": [
      "['2018' '2018' '1985' ... '2018' '1987' '2018']\n"
     ]
    }
   ],
   "source": [
    "# Equivalement avec replace\n",
    "\n",
    "x = np.char.replace( world_alcohol_2[:,0], \"1986\", \"2018\" )\n",
    "print(x)"
   ]
  },
  {
   "cell_type": "code",
   "execution_count": 43,
   "metadata": {},
   "outputs": [
    {
     "output_type": "stream",
     "name": "stdout",
     "text": [
      "[['2018' 'Western Pacific' 'Viet Nam' 'Beer' '0']\n ['2018' 'Americas' 'Uruguay' 'Other' '0.5']\n ['1985' 'Africa' \"Cte d'Ivoire\" 'Beer' '1.62']\n ...\n ['2018' 'Europe' 'Switzerland' 'Spirits' '2.54']\n ['1987' 'Western Pacific' 'Papua New Guinea' 'Other' '0']\n ['2018' 'Africa' 'Swaziland' 'Other' '5.15']]\n"
     ]
    }
   ],
   "source": [
    "# Même exercie avec Wine et beer\n",
    "\n",
    "world_alcohol_2[:,3][world_alcohol_2[:,3] == \"Wine\"] = \"Beer\"\n",
    "print(world_alcohol_2)"
   ]
  },
  {
   "source": [
    "## Remplacer les chaines de caractères vides\n",
    "\n",
    "- Comparer tous les éléments de la 5è colonne de wolrd_alcohol avec la str vide. Assigner le résultat à la variable is_value_empty\n",
    "- Sélectionner toutes les valeurs de wolrd_alcohol pour lesquelles is_value_empty est True et les remplacer par 0"
   ],
   "cell_type": "markdown",
   "metadata": {}
  },
  {
   "cell_type": "code",
   "execution_count": 44,
   "metadata": {},
   "outputs": [
    {
     "output_type": "stream",
     "name": "stdout",
     "text": [
      "[['1986' 'Western Pacific' 'Viet Nam' 'Wine' '0']\n ['1986' 'Americas' 'Uruguay' 'Other' '0.5']\n ['1985' 'Africa' \"Cte d'Ivoire\" 'Wine' '1.62']\n ...\n ['1986' 'Europe' 'Switzerland' 'Spirits' '2.54']\n ['1987' 'Western Pacific' 'Papua New Guinea' 'Other' '0']\n ['1986' 'Africa' 'Swaziland' 'Other' '5.15']]\n"
     ]
    }
   ],
   "source": [
    "is_value_empty = (world_alcohol[:,4]==\"\")\n",
    "world_alcohol[is_value_empty,4] = \"0\"\n",
    "print(world_alcohol)"
   ]
  },
  {
   "source": [
    "## Convertir des types de données\n",
    "\n",
    "- Extraire la 5è colonne de world_alcohol et assigner le resutlat à alcohol_consumption\n",
    "- Utiliser la méthode astype() pour convertir en float"
   ],
   "cell_type": "markdown",
   "metadata": {}
  },
  {
   "cell_type": "code",
   "execution_count": 45,
   "metadata": {},
   "outputs": [
    {
     "output_type": "stream",
     "name": "stdout",
     "text": [
      "[0.   0.5  1.62 ... 2.54 0.   5.15]\n"
     ]
    }
   ],
   "source": [
    "alcohol_consumption = world_alcohol[:,4]\n",
    "alcohol_consumption = alcohol_consumption.astype(float)\n",
    "print(alcohol_consumption)"
   ]
  },
  {
   "source": [
    "## Calcul de la somme et de la moyenne\n",
    "\n",
    "- total_acohol\n",
    "- average_alcohol"
   ],
   "cell_type": "markdown",
   "metadata": {}
  },
  {
   "cell_type": "code",
   "execution_count": 46,
   "metadata": {},
   "outputs": [
    {
     "output_type": "stream",
     "name": "stdout",
     "text": [
      "3908.96\n1.2001719373656738\n"
     ]
    }
   ],
   "source": [
    "total_alcohol = alcohol_consumption.sum()\n",
    "print(total_alcohol)\n",
    "average_alcohol = alcohol_consumption.mean()\n",
    "print(average_alcohol)"
   ]
  },
  {
   "cell_type": "code",
   "execution_count": 47,
   "metadata": {},
   "outputs": [
    {
     "output_type": "stream",
     "name": "stdout",
     "text": [
      "Total : 9.120000000000001\nMoyenne : 2.2800000000000002\n"
     ]
    }
   ],
   "source": [
    "# Consommation moyenne et totale du Canada sur l'année 1987\n",
    "\n",
    "is_canada_and_1987 = (world_alcohol[:,0] == \"1987\") & (world_alcohol[:,2] == \"Canada\")\n",
    "canada_1987 = world_alcohol[is_canada_and_1987]\n",
    "\n",
    "alcohol_consumption_canada_1987 = canada_1987[:,4]\n",
    "alcohol_consumption_canada_1987 = alcohol_consumption_canada_1987.astype(float)\n",
    "\n",
    "total_alcohol_canada_1987 = alcohol_consumption_canada_1987.sum()\n",
    "print(\"Total :\", total_alcohol_canada_1987)\n",
    "\n",
    "average_alcohol_canada_1987 = alcohol_consumption_canada_1987.mean()\n",
    "print(\"Moyenne :\",average_alcohol_canada_1987)"
   ]
  },
  {
   "cell_type": "code",
   "execution_count": 9,
   "metadata": {},
   "outputs": [
    {
     "output_type": "stream",
     "name": "stdout",
     "text": [
      "Total : 310.02\nMoyenne : 2.0001290322580645\n"
     ]
    }
   ],
   "source": [
    "# Consommation totale et moyenne de bière pour le continent américain\n",
    "\n",
    "is_america_beer = (world_alcohol[:,1] == \"Americas\") & (world_alcohol[:,3] == \"Beer\")\n",
    "rows_americas_beer = world_alcohol[is_america_beer]\n",
    "\n",
    "consumtion_americas_beer = rows_americas_beer[:,4]\n",
    "consumtion_americas_beer = consumtion_americas_beer.astype(float)\n",
    "\n",
    "total_alcohol_americas_beer = consumtion_americas_beer.sum()\n",
    "print(\"Total :\", total_alcohol_americas_beer)\n",
    "\n",
    "average_alcohol_americas_beer = consumtion_americas_beer.mean()\n",
    "print(\"Moyenne :\",average_alcohol_americas_beer)"
   ]
  },
  {
   "source": [
    "## Calculer la consommation par pays\n",
    "\n",
    "- Tout d'abord, on crée un dictionnaire vide qui va contenir tous les pays et leurs consommations d'alcool associées, on le nommera totals\n",
    "- Sélectionner ensuite les lignes de world_alcohol correspondant à l'année donnée. Assigner le resultat à la variable year.\n",
    "- Sélectionner dans une liste qu'on nommera countries tous les pays.\n",
    "- Parcourir tous les pays de la liste à l'aide d'une boucle. Pour chaque pays :\n",
    "    - Sélectionner les lignes de year correspondant à chaque pays\n",
    "    - Assigner le résultat à la variable country_consumption\n",
    "    - Extraire la 5ème colonne de country_consumption\n",
    "    - Remplacer toute chaine de caractère vide dans cette colonne par 0\n",
    "    - Convertir la colonne en décimal (float)\n",
    "    - Convertir la somme de la colonne\n",
    "    - Ajouter la somme au dictionnaire totals, avec comme clé le nom du pays et en valeur cette somme\n",
    "- Afficher le dictionnaire totals"
   ],
   "cell_type": "markdown",
   "metadata": {}
  },
  {
   "cell_type": "code",
   "execution_count": 48,
   "metadata": {},
   "outputs": [
    {
     "output_type": "stream",
     "name": "stdout",
     "text": [
      "{'Afghanistan': 0.0, 'Albania': 1.73, 'Algeria': 0.4, 'Angola': 2.28, 'Antigua and Barbuda': 4.69, 'Argentina': 10.82, 'Australia': 12.09, 'Austria': 13.9, 'Bahamas': 12.29, 'Bahrain': 4.89, 'Bangladesh': 0.0, 'Belarus': 7.98, 'Belgium': 11.61, 'Belize': 0.0, 'Benin': 1.38, 'Bhutan': 0.31, 'Bolivia (Plurinational State of)': 3.05, 'Botswana': 4.63, 'Brazil': 5.52, 'Brunei Darussalam': 2.78, 'Bulgaria': 11.43, 'Burkina Faso': 3.99, 'Burundi': 8.16, 'Cabo Verde': 2.79, 'Cambodia': 0.33, 'Cameroon': 6.36, 'Canada': 9.0, 'Central African Republic': 2.52, 'Chad': 0.3, 'Chile': 8.65, 'China': 3.33, 'Colombia': 6.96, 'Comoros': 0.11, 'Congo': 3.15, 'Costa Rica': 5.4, 'Croatia': 10.92, \"Cte d'Ivoire\": 2.2, 'Cuba': 4.37, 'Cyprus': 9.29, 'Czech Republic': 13.01, \"Democratic People's Republic of Korea\": 3.68, 'Democratic Republic of the Congo': 1.92, 'Denmark': 11.65, 'Djibouti': 0.87, 'Dominican Republic': 4.53, 'Ecuador': 2.54, 'Egypt': 0.42, 'El Salvador': 1.77, 'Equatorial Guinea': 6.49, 'Eritrea': 0.29, 'Ethiopia': 0.86, 'Fiji': 1.96, 'Finland': 9.42, 'France': 16.05, 'Gabon': 9.34, 'Gambia': 1.63, 'Germany': 14.64, 'Ghana': 1.86, 'Greece': 10.15, 'Guatemala': 2.47, 'Guinea': 0.21, 'Guinea-Bissau': 2.67, 'Guyana': 9.94, 'Haiti': 5.81, 'Honduras': 2.15, 'Hungary': 16.29, 'Iceland': 5.36, 'India': 1.66, 'Indonesia': 0.07, 'Iran (Islamic Republic of)': 0.0, 'Iraq': 0.75, 'Ireland': 11.79, 'Israel': 2.03, 'Italy': 10.9, 'Jamaica': 3.03, 'Japan': 7.74, 'Jordan': 0.19, 'Kenya': 2.82, 'Kiribati': 0.48, 'Kuwait': 0.0, 'Kyrgyzstan': 4.28, \"Lao People's Democratic Republic\": 5.95, 'Latvia': 7.04, 'Lebanon': 3.94, 'Lesotho': 2.02, 'Liberia': 5.61, 'Libya': 0.0, 'Lithuania': 0.0, 'Luxembourg': 15.21, 'Madagascar': 1.38, 'Malawi': 1.02, 'Malaysia': 0.68, 'Mali': 0.67, 'Malta': 7.13, 'Mauritania': 0.02, 'Mauritius': 3.54, 'Mexico': 5.1, 'Micronesia (Federated States of)': 0.0, 'Mongolia': 2.59, 'Morocco': 0.7, 'Mozambique': 0.39, 'Myanmar': 0.16, 'Namibia': 0.24, 'Nepal': 0.03, 'Netherlands': 10.03, 'New Zealand': 11.52, 'Nicaragua': 2.5, 'Niger': 0.11, 'Nigeria': 6.74, 'Norway': 5.08, 'Oman': 1.03, 'Pakistan': 0.02, 'Panama': 4.6, 'Papua New Guinea': 1.11, 'Paraguay': 6.51, 'Peru': 4.99, 'Philippines': 3.78, 'Poland': 9.33, 'Portugal': 15.35, 'Qatar': 1.45, 'Republic of Korea': 9.62, 'Romania': 8.41, 'Russian Federation': 5.35, 'Rwanda': 7.55, 'Saint Kitts and Nevis': 4.65, 'Saint Lucia': 11.62, 'Samoa': 2.63, 'Sao Tome and Principe': 2.57, 'Saudi Arabia': 0.15, 'Senegal': 0.61, 'Seychelles': 3.3, 'Sierra Leone': 4.38, 'Singapore': 1.61, 'Slovakia': 12.7, 'Slovenia': 12.97, 'Solomon Islands': 0.58, 'Somalia': 0.0, 'South Africa': 9.21, 'Spain': 13.28, 'Sri Lanka': 0.14, 'Sudan': 0.15, 'Suriname': 3.67, 'Swaziland': 6.68, 'Sweden': 7.47, 'Switzerland': 13.85, 'Syrian Arab Republic': 0.54, 'Thailand': 3.92, 'Togo': 2.22, 'Trinidad and Tobago': 4.68, 'Tunisia': 0.95, 'Turkey': 0.72, 'Uganda': 7.8, 'Ukraine': 5.32, 'United Arab Emirates': 4.43, 'United Kingdom of Great Britain and Northern Ireland': 9.99, 'United Republic of Tanzania': 5.9, 'United States of America': 9.16, 'Uruguay': 7.44, 'Vanuatu': 1.74, 'Venezuela (Bolivarian Republic of)': 7.87, 'Viet Nam': 0.16, 'Yemen': 0.2, 'Zambia': 3.37, 'Zimbabwe': 4.92}\n\n Hungary : 16.29\n"
     ]
    }
   ],
   "source": [
    "\n",
    "# consommation_annee(annee,world_alcohol) donne deux dictionnaire de la consommation totale (totals) et moyenne (means) de tous les pays sur une année\n",
    "\n",
    "def consommation_annee(annee,world_alcohol):\n",
    "\n",
    "    totals = {}\n",
    "    means = {}\n",
    "    year = world_alcohol[world_alcohol[:,0] == str(annee)] # on garde surement les lignes qui vérifient le masque colonne 1 = annee\n",
    "    countries = list(set(world_alcohol[:,2])) # Crée une liste des pays sans doublon grâce à set\n",
    "    countries.sort()\n",
    "\n",
    "    for country in countries:\n",
    "        country_consumption = year[year[:,2] == country][:,4] \n",
    "        is_value_empty = (country_consumption==\"\")\n",
    "        country_consumption[is_value_empty] = \"0\"\n",
    "        country_consumption = country_consumption.astype(float)\n",
    "        totals[country] = round(country_consumption.sum(),3)\n",
    "        means[country] = round(country_consumption.mean(),3)\n",
    "\n",
    "    return totals, means\n",
    "\n",
    "# max_consommation(annee,world_alcohol) renvoie le pays qui consomme le plus d'alcol (au total) sur une année\n",
    "\n",
    "def max_consommation(annee,world_alcohol):\n",
    "\n",
    "    totals, means = consommation_annee(annee,world_alcohol)\n",
    "\n",
    "    highest_value = 0\n",
    "    pays = \"\"\n",
    "\n",
    "    for key, value in totals.items():\n",
    "        if value > highest_value:\n",
    "            highest_value = value\n",
    "            pays = key\n",
    "\n",
    "    return pays, highest_value\n",
    "\n",
    "annee = 1989 # Entre 1984 et 1989\n",
    "\n",
    "totals, means = consommation_annee(annee,world_alcohol)\n",
    "pays1, highest_value = max_consommation(annee,world_alcohol)\n",
    "\n",
    "print(totals)\n",
    "print(\"\\n\",pays1,\":\", highest_value)\n"
   ]
  },
  {
   "cell_type": "code",
   "execution_count": null,
   "metadata": {},
   "outputs": [],
   "source": []
  }
 ]
}