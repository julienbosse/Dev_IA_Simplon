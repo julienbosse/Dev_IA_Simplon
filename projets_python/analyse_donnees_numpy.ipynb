{
 "metadata": {
  "language_info": {
   "codemirror_mode": {
    "name": "ipython",
    "version": 3
   },
   "file_extension": ".py",
   "mimetype": "text/x-python",
   "name": "python",
   "nbconvert_exporter": "python",
   "pygments_lexer": "ipython3",
   "version": "3.8.5"
  },
  "orig_nbformat": 2,
  "kernelspec": {
   "name": "python385jvsc74a57bd04ad1113733ce155ce9cb43bdc3e17679916cd44516b0bf0a5049a72e2a7064d4",
   "display_name": "Python 3.8.5 64-bit ('base': conda)"
  }
 },
 "nbformat": 4,
 "nbformat_minor": 2,
 "cells": [
  {
   "source": [
    "# Analyse de données avec NumPy\n",
    "\n",
    "### Mission :\n",
    "\n",
    "Analyser la consommation d'alcool apr pays. Pour ce faire nous allons travailler sur le fichier world_alcohol.csv qui contient 4 variables :\n",
    "\n",
    "- l'année\n",
    "- la zone géographique ou le continent\n",
    "- le pays\n",
    "- la quantité d'alcohol\n",
    "\n",
    "Commençons par lire le dataset wolrd_alcohol. Puis isolons le sous-tableau contenant uniquement les lignes concernant le Canada et assignons le à countris_canada. Enfin isolons le sous-tableau contenant uniquement les lignes concernant l'année 1984 et assignons le à years_1984."
   ],
   "cell_type": "markdown",
   "metadata": {}
  },
  {
   "cell_type": "code",
   "execution_count": 1,
   "metadata": {},
   "outputs": [
    {
     "output_type": "stream",
     "name": "stdout",
     "text": [
      "[['1986' 'Western Pacific' 'Viet Nam' 'Wine' '0']\n ['1986' 'Americas' 'Uruguay' 'Other' '0.5']\n ['1985' 'Africa' \"Cte d'Ivoire\" 'Wine' '1.62']\n ...\n ['1986' 'Europe' 'Switzerland' 'Spirits' '2.54']\n ['1987' 'Western Pacific' 'Papua New Guinea' 'Other' '0']\n ['1986' 'Africa' 'Swaziland' 'Other' '5.15']]\n"
     ]
    }
   ],
   "source": [
    "import numpy as np \n",
    "\n",
    "world_alcohol = np.genfromtxt(\"jeux_donnees/world_alcohol.csv\", delimiter=',', dtype=\"U75\", skip_header=1)\n",
    "print(world_alcohol)"
   ]
  },
  {
   "cell_type": "code",
   "execution_count": 3,
   "metadata": {},
   "outputs": [
    {
     "output_type": "stream",
     "name": "stdout",
     "text": [
      "[['1984' 'Americas' 'Canada' 'Spirits' '3.35']\n ['1989' 'Americas' 'Canada' 'Wine' '1.27']\n ['1984' 'Americas' 'Canada' 'Beer' '5']\n ['1985' 'Americas' 'Canada' 'Beer' '4.94']\n ['1987' 'Americas' 'Canada' 'Wine' '1.3']\n ['1987' 'Americas' 'Canada' 'Beer' '4.83']\n ['1986' 'Americas' 'Canada' 'Other' '']\n ['1986' 'Americas' 'Canada' 'Spirits' '3.11']\n ['1985' 'Americas' 'Canada' 'Spirits' '3.21']\n ['1985' 'Americas' 'Canada' 'Other' '']\n ['1986' 'Americas' 'Canada' 'Beer' '4.87']\n ['1984' 'Americas' 'Canada' 'Wine' '1.24']\n ['1989' 'Americas' 'Canada' 'Spirits' '2.91']\n ['1984' 'Americas' 'Canada' 'Other' '']\n ['1985' 'Americas' 'Canada' 'Wine' '1.29']\n ['1987' 'Americas' 'Canada' 'Spirits' '2.99']\n ['1989' 'Americas' 'Canada' 'Beer' '4.82']\n ['1989' 'Americas' 'Canada' 'Other' '']\n ['1986' 'Americas' 'Canada' 'Wine' '1.33']\n ['1987' 'Americas' 'Canada' 'Other' '']]\n"
     ]
    }
   ],
   "source": [
    "countries_canada = world_alcohol[ world_alcohol[:,2] == \"Canada\" ]\n",
    "print(countries_canada)"
   ]
  },
  {
   "source": [
    "## Sélectionner des éléments\n",
    "\n",
    "- Comparer la troisièeme colonne de wolrd_alcohol à la chaine de caractères \"Algeria\".\n",
    "- Assigner le résultat à la variable country_is_algeria\n",
    "- Sélectionner seulement les lignes de wolrd_alcohol pour lesquelles country_is_algeria vaut True\n",
    "- Assigner le résultat à la variable country_algeria\n",
    "- Afficher les résultats\n",
    "- Faire le même travail pour récuperer toutes les lignes correspondantes à l'année \"1984\". assigner le résultat à la variable years_1984.\n"
   ],
   "cell_type": "markdown",
   "metadata": {}
  },
  {
   "source": [
    "# Algeria\n",
    "print(\"Algeria :\\n\")\n",
    "country_is_algeria = world_alcohol[:,2]==\"Algeria\"\n",
    "country_algeria = world_alcohol[country_is_algeria]\n",
    "print(country_algeria)\n",
    "print(country_algeria.shape[0])\n",
    "\n",
    "# Année 1984\n",
    "print(\"\\n1984 :\\n\")\n",
    "years_1984 = world_alcohol[ world_alcohol[:,0] == \"1984\" ]\n",
    "print(years_1984)\n",
    "print(years_1984.shape[0])"
   ],
   "cell_type": "code",
   "metadata": {},
   "execution_count": 5,
   "outputs": [
    {
     "output_type": "stream",
     "name": "stdout",
     "text": [
      "Algeria :\n\n[['1984' 'Africa' 'Algeria' 'Spirits' '0.01']\n ['1987' 'Africa' 'Algeria' 'Beer' '0.17']\n ['1987' 'Africa' 'Algeria' 'Spirits' '0.01']\n ['1986' 'Africa' 'Algeria' 'Wine' '0.1']\n ['1984' 'Africa' 'Algeria' 'Other' '0']\n ['1989' 'Africa' 'Algeria' 'Beer' '0.16']\n ['1989' 'Africa' 'Algeria' 'Spirits' '0.01']\n ['1989' 'Africa' 'Algeria' 'Wine' '0.23']\n ['1986' 'Africa' 'Algeria' 'Spirits' '0.01']\n ['1984' 'Africa' 'Algeria' 'Wine' '0.12']\n ['1985' 'Africa' 'Algeria' 'Beer' '0.19']\n ['1985' 'Africa' 'Algeria' 'Other' '0']\n ['1986' 'Africa' 'Algeria' 'Beer' '0.18']\n ['1985' 'Africa' 'Algeria' 'Wine' '0.11']\n ['1986' 'Africa' 'Algeria' 'Other' '0']\n ['1989' 'Africa' 'Algeria' 'Other' '0']\n ['1987' 'Africa' 'Algeria' 'Other' '0']\n ['1984' 'Africa' 'Algeria' 'Beer' '0.2']\n ['1985' 'Africa' 'Algeria' 'Spirits' '0.01']\n ['1987' 'Africa' 'Algeria' 'Wine' '0.1']]\n20\n\n1984 :\n\n[['1984' 'Africa' 'Nigeria' 'Other' '6.1']\n ['1984' 'Eastern Mediterranean' 'Afghanistan' 'Other' '0']\n ['1984' 'Americas' 'Costa Rica' 'Wine' '0.06']\n ...\n ['1984' 'Europe' 'Latvia' 'Spirits' '7.5']\n ['1984' 'Africa' 'Angola' 'Wine' '0.57']\n ['1984' 'Africa' 'Central African Republic' 'Wine' '0.46']]\n646\n"
     ]
    }
   ]
  },
  {
   "source": [
    "## Sélectionner avec plusieurs conditions\n",
    "\n",
    "- Sélectionner les lignes qui contionnent \"Algeria\" et \"1986\""
   ],
   "cell_type": "markdown",
   "metadata": {}
  },
  {
   "cell_type": "code",
   "execution_count": 2,
   "metadata": {},
   "outputs": [
    {
     "output_type": "stream",
     "name": "stdout",
     "text": [
      "[['1986' 'Africa' 'Algeria' 'Wine' '0.1']\n ['1986' 'Africa' 'Algeria' 'Spirits' '0.01']\n ['1986' 'Africa' 'Algeria' 'Beer' '0.18']\n ['1986' 'Africa' 'Algeria' 'Other' '0']]\n"
     ]
    }
   ],
   "source": [
    "is_algeria_and_1986 = (world_alcohol[:,2] == \"Algeria\") & (world_alcohol[:,0] == \"1986\")\n",
    "rows_with_algeria_and_1986 = world_alcohol[is_algeria_and_1986]\n",
    "print(rows_with_algeria_and_1986)"
   ]
  },
  {
   "cell_type": "code",
   "execution_count": 3,
   "metadata": {},
   "outputs": [
    {
     "output_type": "stream",
     "name": "stdout",
     "text": [
      "[['1984' 'Americas' 'Canada' 'Spirits' '3.35']\n ['1984' 'Africa' 'Algeria' 'Spirits' '0.01']\n ['1987' 'Africa' 'Algeria' 'Beer' '0.17']\n ['1987' 'Africa' 'Algeria' 'Spirits' '0.01']\n ['1986' 'Africa' 'Algeria' 'Wine' '0.1']\n ['1989' 'Americas' 'Canada' 'Wine' '1.27']\n ['1984' 'Americas' 'Canada' 'Beer' '5']\n ['1985' 'Americas' 'Canada' 'Beer' '4.94']\n ['1987' 'Americas' 'Canada' 'Wine' '1.3']\n ['1984' 'Africa' 'Algeria' 'Other' '0']\n ['1989' 'Africa' 'Algeria' 'Beer' '0.16']\n ['1989' 'Africa' 'Algeria' 'Spirits' '0.01']\n ['1989' 'Africa' 'Algeria' 'Wine' '0.23']\n ['1987' 'Americas' 'Canada' 'Beer' '4.83']\n ['1986' 'Africa' 'Algeria' 'Spirits' '0.01']\n ['1984' 'Africa' 'Algeria' 'Wine' '0.12']\n ['1986' 'Americas' 'Canada' 'Other' '']\n ['1985' 'Africa' 'Algeria' 'Beer' '0.19']\n ['1986' 'Americas' 'Canada' 'Spirits' '3.11']\n ['1985' 'Africa' 'Algeria' 'Other' '0']\n ['1985' 'Americas' 'Canada' 'Spirits' '3.21']\n ['1985' 'Americas' 'Canada' 'Other' '']\n ['1986' 'Americas' 'Canada' 'Beer' '4.87']\n ['1986' 'Africa' 'Algeria' 'Beer' '0.18']\n ['1985' 'Africa' 'Algeria' 'Wine' '0.11']\n ['1984' 'Americas' 'Canada' 'Wine' '1.24']\n ['1986' 'Africa' 'Algeria' 'Other' '0']\n ['1989' 'Africa' 'Algeria' 'Other' '0']\n ['1987' 'Africa' 'Algeria' 'Other' '0']\n ['1989' 'Americas' 'Canada' 'Spirits' '2.91']\n ['1984' 'Africa' 'Algeria' 'Beer' '0.2']\n ['1985' 'Africa' 'Algeria' 'Spirits' '0.01']\n ['1987' 'Africa' 'Algeria' 'Wine' '0.1']\n ['1984' 'Americas' 'Canada' 'Other' '']\n ['1985' 'Americas' 'Canada' 'Wine' '1.29']\n ['1987' 'Americas' 'Canada' 'Spirits' '2.99']\n ['1989' 'Americas' 'Canada' 'Beer' '4.82']\n ['1989' 'Americas' 'Canada' 'Other' '']\n ['1986' 'Americas' 'Canada' 'Wine' '1.33']\n ['1987' 'Americas' 'Canada' 'Other' '']]\n"
     ]
    }
   ],
   "source": [
    "is_algeria_or_canada = (world_alcohol[:,2] == \"Algeria\") | (world_alcohol[:,2] == \"Canada\")\n",
    "rows_algeria_or_canada = world_alcohol[is_algeria_or_canada]\n",
    "print(rows_algeria_or_canada)"
   ]
  },
  {
   "source": [
    "## Remplacer des valeurs dans un tableau NumPy\n",
    "\n",
    "- Faire une copie world_alcohol_2 égal à world_alcohol pour le dupliquer sous un autre nom\n",
    "- Remplacer dans ce tableau les "
   ],
   "cell_type": "markdown",
   "metadata": {}
  },
  {
   "cell_type": "code",
   "execution_count": 10,
   "metadata": {},
   "outputs": [],
   "source": [
    "world_alcohol_2 = world_alcohol.copy()"
   ]
  },
  {
   "cell_type": "code",
   "execution_count": 3,
   "metadata": {},
   "outputs": [
    {
     "output_type": "stream",
     "name": "stdout",
     "text": [
      "['1986' '1986' '1985' ... '1986' '1987' '1986']\n"
     ]
    }
   ],
   "source": [
    "print(world_alcohol_2[:,0])"
   ]
  },
  {
   "cell_type": "code",
   "execution_count": 5,
   "metadata": {},
   "outputs": [
    {
     "output_type": "stream",
     "name": "stdout",
     "text": [
      "[['1986' 'Western Pacific' 'Viet Nam' 'Wine' '0']\n ['1986' 'Americas' 'Uruguay' 'Other' '0.5']\n ['1986' 'Americas' 'Colombia' 'Beer' '4.27']\n ...\n ['1986' 'Western Pacific' 'Fiji' 'Spirits' '0.05']\n ['1986' 'Europe' 'Switzerland' 'Spirits' '2.54']\n ['1986' 'Africa' 'Swaziland' 'Other' '5.15']]\n"
     ]
    }
   ],
   "source": [
    "print(world_alcohol_2[world_alcohol_2[:,0] == \"1986\"])"
   ]
  },
  {
   "cell_type": "code",
   "execution_count": 6,
   "metadata": {},
   "outputs": [
    {
     "output_type": "stream",
     "name": "stdout",
     "text": [
      "['1986' '1986' '1986' '1986' '1986' '1986' '1986' '1986' '1986' '1986'\n '1986' '1986' '1986' '1986' '1986' '1986' '1986' '1986' '1986' '1986'\n '1986' '1986' '1986' '1986' '1986' '1986' '1986' '1986' '1986' '1986'\n '1986' '1986' '1986' '1986' '1986' '1986' '1986' '1986' '1986' '1986'\n '1986' '1986' '1986' '1986' '1986' '1986' '1986' '1986' '1986' '1986'\n '1986' '1986' '1986' '1986' '1986' '1986' '1986' '1986' '1986' '1986'\n '1986' '1986' '1986' '1986' '1986' '1986' '1986' '1986' '1986' '1986'\n '1986' '1986' '1986' '1986' '1986' '1986' '1986' '1986' '1986' '1986'\n '1986' '1986' '1986' '1986' '1986' '1986' '1986' '1986' '1986' '1986'\n '1986' '1986' '1986' '1986' '1986' '1986' '1986' '1986' '1986' '1986'\n '1986' '1986' '1986' '1986' '1986' '1986' '1986' '1986' '1986' '1986'\n '1986' '1986' '1986' '1986' '1986' '1986' '1986' '1986' '1986' '1986'\n '1986' '1986' '1986' '1986' '1986' '1986' '1986' '1986' '1986' '1986'\n '1986' '1986' '1986' '1986' '1986' '1986' '1986' '1986' '1986' '1986'\n '1986' '1986' '1986' '1986' '1986' '1986' '1986' '1986' '1986' '1986'\n '1986' '1986' '1986' '1986' '1986' '1986' '1986' '1986' '1986' '1986'\n '1986' '1986' '1986' '1986' '1986' '1986' '1986' '1986' '1986' '1986'\n '1986' '1986' '1986' '1986' '1986' '1986' '1986' '1986' '1986' '1986'\n '1986' '1986' '1986' '1986' '1986' '1986' '1986' '1986' '1986' '1986'\n '1986' '1986' '1986' '1986' '1986' '1986' '1986' '1986' '1986' '1986'\n '1986' '1986' '1986' '1986' '1986' '1986' '1986' '1986' '1986' '1986'\n '1986' '1986' '1986' '1986' '1986' '1986' '1986' '1986' '1986' '1986'\n '1986' '1986' '1986' '1986' '1986' '1986' '1986' '1986' '1986' '1986'\n '1986' '1986' '1986' '1986' '1986' '1986' '1986' '1986' '1986' '1986'\n '1986' '1986' '1986' '1986' '1986' '1986' '1986' '1986' '1986' '1986'\n '1986' '1986' '1986' '1986' '1986' '1986' '1986' '1986' '1986' '1986'\n '1986' '1986' '1986' '1986' '1986' '1986' '1986' '1986' '1986' '1986'\n '1986' '1986' '1986' '1986' '1986' '1986' '1986' '1986' '1986' '1986'\n '1986' '1986' '1986' '1986' '1986' '1986' '1986' '1986' '1986' '1986'\n '1986' '1986' '1986' '1986' '1986' '1986' '1986' '1986' '1986' '1986'\n '1986' '1986' '1986' '1986' '1986' '1986' '1986' '1986' '1986' '1986'\n '1986' '1986' '1986' '1986' '1986' '1986' '1986' '1986' '1986' '1986'\n '1986' '1986' '1986' '1986' '1986' '1986' '1986' '1986' '1986' '1986'\n '1986' '1986' '1986' '1986' '1986' '1986' '1986' '1986' '1986' '1986'\n '1986' '1986' '1986' '1986' '1986' '1986' '1986' '1986' '1986' '1986'\n '1986' '1986' '1986' '1986' '1986' '1986' '1986' '1986' '1986' '1986'\n '1986' '1986' '1986' '1986' '1986' '1986' '1986' '1986' '1986' '1986'\n '1986' '1986' '1986' '1986' '1986' '1986' '1986' '1986' '1986' '1986'\n '1986' '1986' '1986' '1986' '1986' '1986' '1986' '1986' '1986' '1986'\n '1986' '1986' '1986' '1986' '1986' '1986' '1986' '1986' '1986' '1986'\n '1986' '1986' '1986' '1986' '1986' '1986' '1986' '1986' '1986' '1986'\n '1986' '1986' '1986' '1986' '1986' '1986' '1986' '1986' '1986' '1986'\n '1986' '1986' '1986' '1986' '1986' '1986' '1986' '1986' '1986' '1986'\n '1986' '1986' '1986' '1986' '1986' '1986' '1986' '1986' '1986' '1986'\n '1986' '1986' '1986' '1986' '1986' '1986' '1986' '1986' '1986' '1986'\n '1986' '1986' '1986' '1986' '1986' '1986' '1986' '1986' '1986' '1986'\n '1986' '1986' '1986' '1986' '1986' '1986' '1986' '1986' '1986' '1986'\n '1986' '1986' '1986' '1986' '1986' '1986' '1986' '1986' '1986' '1986'\n '1986' '1986' '1986' '1986' '1986' '1986' '1986' '1986' '1986' '1986'\n '1986' '1986' '1986' '1986' '1986' '1986' '1986' '1986' '1986' '1986'\n '1986' '1986' '1986' '1986' '1986' '1986' '1986' '1986' '1986' '1986'\n '1986' '1986' '1986' '1986' '1986' '1986' '1986' '1986' '1986' '1986'\n '1986' '1986' '1986' '1986' '1986' '1986' '1986' '1986' '1986' '1986'\n '1986' '1986' '1986' '1986' '1986' '1986' '1986' '1986' '1986' '1986'\n '1986' '1986' '1986' '1986' '1986' '1986' '1986' '1986' '1986' '1986'\n '1986' '1986' '1986' '1986' '1986' '1986' '1986' '1986' '1986' '1986'\n '1986' '1986' '1986' '1986' '1986' '1986' '1986' '1986' '1986' '1986'\n '1986' '1986' '1986' '1986' '1986' '1986' '1986' '1986' '1986' '1986'\n '1986' '1986' '1986' '1986' '1986' '1986' '1986' '1986' '1986' '1986'\n '1986' '1986' '1986' '1986' '1986' '1986' '1986' '1986' '1986' '1986'\n '1986' '1986' '1986' '1986' '1986' '1986' '1986' '1986' '1986' '1986'\n '1986' '1986' '1986' '1986' '1986' '1986' '1986' '1986' '1986' '1986'\n '1986' '1986' '1986' '1986' '1986' '1986' '1986' '1986' '1986' '1986'\n '1986' '1986' '1986' '1986' '1986' '1986' '1986' '1986' '1986' '1986'\n '1986' '1986' '1986' '1986' '1986' '1986' '1986' '1986' '1986' '1986'\n '1986']\n"
     ]
    }
   ],
   "source": [
    "print(world_alcohol_2[:,0][world_alcohol_2[:,0] == \"1986\"])"
   ]
  },
  {
   "cell_type": "code",
   "execution_count": 9,
   "metadata": {},
   "outputs": [
    {
     "output_type": "stream",
     "name": "stdout",
     "text": [
      "[['2018' 'Western Pacific' 'Viet Nam' 'Wine' '0']\n ['2018' 'Americas' 'Uruguay' 'Other' '0.5']\n ['1985' 'Africa' \"Cte d'Ivoire\" 'Wine' '1.62']\n ...\n ['2018' 'Europe' 'Switzerland' 'Spirits' '2.54']\n ['1987' 'Western Pacific' 'Papua New Guinea' 'Other' '0']\n ['2018' 'Africa' 'Swaziland' 'Other' '5.15']]\n"
     ]
    }
   ],
   "source": [
    "masque = world_alcohol_2[:,0] == \"1986\"\n",
    "world_alcohol_2[:,0][masque] = \"2018\"\n",
    "print(world_alcohol_2)"
   ]
  },
  {
   "cell_type": "code",
   "execution_count": 11,
   "metadata": {},
   "outputs": [
    {
     "output_type": "stream",
     "name": "stdout",
     "text": [
      "['2018' '2018' '1985' ... '2018' '1987' '2018']\n"
     ]
    }
   ],
   "source": [
    "# Equivalement avec replace\n",
    "\n",
    "x = np.char.replace( world_alcohol_2[:,0], \"1986\", \"2018\")\n",
    "print(x)"
   ]
  },
  {
   "cell_type": "code",
   "execution_count": 13,
   "metadata": {},
   "outputs": [
    {
     "output_type": "stream",
     "name": "stdout",
     "text": [
      "[['1986' 'Western Pacific' 'Viet Nam' 'Beer' '0']\n ['1986' 'Americas' 'Uruguay' 'Other' '0.5']\n ['1985' 'Africa' \"Cte d'Ivoire\" 'Beer' '1.62']\n ...\n ['1986' 'Europe' 'Switzerland' 'Spirits' '2.54']\n ['1987' 'Western Pacific' 'Papua New Guinea' 'Other' '0']\n ['1986' 'Africa' 'Swaziland' 'Other' '5.15']]\n"
     ]
    }
   ],
   "source": [
    "# Même exercie avec Wine et beer\n",
    "\n",
    "world_alcohol_2[:,3][world_alcohol_2[:,3] == \"Wine\"] = \"Beer\"\n",
    "print(world_alcohol_2)"
   ]
  },
  {
   "source": [
    "## Remplacer les chaines de caractères vides\n",
    "\n",
    "- Comparer tous les éléments de la 5è colonne de wolrd_alcohol avec la str vide. Assigner le résultat à la variable is_value_empty\n",
    "- Sélectionner toutes les valeurs de wolrd_alcohol pour lesquelles is_value_empty est True et les remplacer par 0"
   ],
   "cell_type": "markdown",
   "metadata": {}
  },
  {
   "cell_type": "code",
   "execution_count": 14,
   "metadata": {},
   "outputs": [
    {
     "output_type": "stream",
     "name": "stdout",
     "text": [
      "[['1986' 'Western Pacific' 'Viet Nam' 'Wine' '0']\n ['1986' 'Americas' 'Uruguay' 'Other' '0.5']\n ['1985' 'Africa' \"Cte d'Ivoire\" 'Wine' '1.62']\n ...\n ['1986' 'Europe' 'Switzerland' 'Spirits' '2.54']\n ['1987' 'Western Pacific' 'Papua New Guinea' 'Other' '0']\n ['1986' 'Africa' 'Swaziland' 'Other' '5.15']]\n"
     ]
    }
   ],
   "source": [
    "is_value_empty = (world_alcohol[:,4]==\"\")\n",
    "world_alcohol[is_value_empty,4] = \"0\"\n",
    "print(world_alcohol)"
   ]
  },
  {
   "source": [
    "## Convertir des types de données\n",
    "\n",
    "- Extraire la 5è colonne de world_alcohol et assigner le resutlat à alcohol_consumption\n",
    "- Utiliser la méthode astype() pour convertir en float"
   ],
   "cell_type": "markdown",
   "metadata": {}
  },
  {
   "cell_type": "code",
   "execution_count": 16,
   "metadata": {},
   "outputs": [
    {
     "output_type": "stream",
     "name": "stdout",
     "text": [
      "[0.   0.5  1.62 ... 2.54 0.   5.15]\n"
     ]
    }
   ],
   "source": [
    "alcohol_consumption = world_alcohol[:,4]\n",
    "alcohol_consumption = alcohol_consumption.astype(float)\n",
    "print(alcohol_consumption)"
   ]
  },
  {
   "cell_type": "code",
   "execution_count": null,
   "metadata": {},
   "outputs": [],
   "source": []
  }
 ]
}