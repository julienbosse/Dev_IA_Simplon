{
 "metadata": {
  "language_info": {
   "codemirror_mode": {
    "name": "ipython",
    "version": 3
   },
   "file_extension": ".py",
   "mimetype": "text/x-python",
   "name": "python",
   "nbconvert_exporter": "python",
   "pygments_lexer": "ipython3",
   "version": "3.8.5"
  },
  "orig_nbformat": 2,
  "kernelspec": {
   "name": "python385jvsc74a57bd04ad1113733ce155ce9cb43bdc3e17679916cd44516b0bf0a5049a72e2a7064d4",
   "display_name": "Python 3.8.5 64-bit ('base': conda)"
  }
 },
 "nbformat": 4,
 "nbformat_minor": 2,
 "cells": [
  {
   "source": [
    "# SimplonSearch : Le nouveau moteur de recherche\n",
    "## Contexte :\n",
    "La société Simplon, organisme de formation réputé, a mis à disposition de ses chargés de projet et de ses formateurs un ensemble de documents contenant toutes les informations nécessaires pour mener à bien une formation. On y trouve des documents expliquant comment mettre en place une alternance, comment composer un jury, ou préparer une bonne rentré.\n",
    "Le seul soucis, c’est qu’avec tous ces documents les salariés de Simplon n’arrive plus à s’y retrouver et à savoir quel est le document qui contient les informations les plus pertinentes vis-à-vis de leurs questionnement.\n",
    "Vous avez donc été mandaté pour créer un moteur de recherche : « SimplonSearch ».\n",
    "## L’objectif :\n",
    "Trouver dans un texte non pas des phrases exactes, mais des phrases ressemblant autant que possible à un contenu recherché et d’évaluer par un score la pertinence des différentes suggestions.\n",
    "Le but de ce breif est de vous faire travailler l’usage des expressions régulières (très utilisé dans le traitement des données) dans un contexte de mise en situation réelle.\n",
    "La pertinence des mots clés n’est qu’un critère d’un moteur de recherche efficaces, mais n’en demeure pas moins primordiale. Ici c’est ce seul critère qui sera abordé.\n",
    "\n",
    "### 1. Proposer une fonction almost(mot, s) qui trouve dans un texte s toute les occurrence d’un mot dont une lettre a pu éventuellement être enlevée. Exemple : si mot vaut « alphonse », une réponse acceptable vaut est « alponse ». "
   ],
   "cell_type": "markdown",
   "metadata": {}
  },
  {
   "cell_type": "code",
   "execution_count": 4,
   "metadata": {},
   "outputs": [
    {
     "output_type": "stream",
     "name": "stdout",
     "text": [
      "3\n"
     ]
    }
   ],
   "source": [
    "from re import split, match\n",
    "\n",
    "def almost(m,s):\n",
    "\n",
    "    if len(m) <= 1 :\n",
    "        return 0\n",
    "\n",
    "    n=0\n",
    "    liste = []\n",
    "    words = s.split()\n",
    "    \n",
    "    for i in range(len(m)) :\n",
    "        liste.append(m[:i]+m[i+1:])\n",
    "\n",
    "    for w in words:\n",
    "        if w in liste : \n",
    "            n+=1\n",
    "\n",
    "    return n\n",
    "\n",
    "print(almost(\"alphonse\",\"alponse a b cfddfz alhonse aphonse\"))"
   ]
  },
  {
   "source": [
    "### 2. Proposez une fonction pluslarge(mot, s) qui trouve dans un texte s toutes les occurrences d’un mot dont une lettre a pu éventuellement être enlevée, ajouté ou remplacé par une autre. "
   ],
   "cell_type": "markdown",
   "metadata": {}
  },
  {
   "cell_type": "code",
   "execution_count": 58,
   "metadata": {},
   "outputs": [
    {
     "output_type": "stream",
     "name": "stdout",
     "text": [
      "5\n"
     ]
    }
   ],
   "source": [
    "def pluslarge(m,s):\n",
    "\n",
    "    if len(m) <= 1 :\n",
    "        return 0\n",
    "\n",
    "    n=0\n",
    "\n",
    "    words = s.split()\n",
    "\n",
    "    # w mot dans le texte, m mot que je cherche\n",
    "\n",
    "    for w in words:\n",
    "        # Si w fait une lettre de moins que m\n",
    "        if len(w) == len(m)-1 :\n",
    "            liste_almostm = []\n",
    "            for i in range(len(m)) :\n",
    "                liste_almostm.append(m[:i]+m[i+1:])\n",
    "\n",
    "            if w in liste_almostm : n+=1\n",
    "\n",
    "        # Si w fait la même taille que m\n",
    "        if len(w) == len(m):\n",
    "            for i in range(len(m)):\n",
    "                motif = m[:i]+'[^'+m[i]+']?'+m[i+1:]\n",
    "                if match(motif,w) != None :\n",
    "                    n+=1\n",
    "                    break\n",
    "\n",
    "        # Si w fait une lettre de plus que m\n",
    "        if len(w) == len(m)+1:\n",
    "            # Une lettre en plus à la fin\n",
    "            motif = m+\"[^\\s]?\"\n",
    "            if match(motif,w) != None :\n",
    "                n+=1\n",
    "                break\n",
    "\n",
    "            for i in range(len(m)):\n",
    "                motif = m[:i]+\"[^\\s]\"+m[i:]\n",
    "                if match(motif,w) != None :\n",
    "                    n+=1\n",
    "                    break\n",
    "\n",
    "                \n",
    "\n",
    "    return n\n",
    "\n",
    "print(pluslarge(\"alphonse\",\"alponse a b cfddfz alphonse alphwonse alphone alphonses\"))"
   ]
  },
  {
   "cell_type": "code",
   "execution_count": 1,
   "metadata": {},
   "outputs": [],
   "source": [
    "# Cas 1 : une lettre en plus à la fin\n",
    "# motif = \"\\s\"+mot+\"[^\\s]?\\s\"\n",
    "# Cas 2 : une lettre remplacée\n",
    "# motif = \"\\s\"+mot[:i]+\"[^\"+mot[i]+\"]?\"+mot[i+1:]+\"\\s\"\n",
    "# Cas 3 : une lettre en plus\n",
    "# motif = \"\\s\"+mot[:i]+\"[^\\s]\"+mot[i:]+\"\\s\""
   ]
  },
  {
   "cell_type": "code",
   "execution_count": 46,
   "metadata": {},
   "outputs": [
    {
     "output_type": "stream",
     "name": "stdout",
     "text": [
      "alponse\na\nb\ncfddfz\nalphonse\nalphwonse\n[^\\s]alphonse\na[^\\s]lphonse\nal[^\\s]phonse\nalp[^\\s]honse\nalph[^\\s]onse\nalphone\nalpphonse\n[^\\s]alphonse\na[^\\s]lphonse\nal[^\\s]phonse\n5\n"
     ]
    }
   ],
   "source": [
    "def score(p,s):\n",
    "    "
   ]
  },
  {
   "cell_type": "code",
   "execution_count": 26,
   "metadata": {},
   "outputs": [
    {
     "output_type": "stream",
     "name": "stdout",
     "text": [
      "<re.Match object; span=(0, 8), match='olivier@'>\n"
     ]
    }
   ],
   "source": []
  },
  {
   "cell_type": "code",
   "execution_count": null,
   "metadata": {},
   "outputs": [],
   "source": []
  }
 ]
}