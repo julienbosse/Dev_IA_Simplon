{
 "metadata": {
  "language_info": {
   "codemirror_mode": {
    "name": "ipython",
    "version": 3
   },
   "file_extension": ".py",
   "mimetype": "text/x-python",
   "name": "python",
   "nbconvert_exporter": "python",
   "pygments_lexer": "ipython3",
   "version": "3.8.5"
  },
  "orig_nbformat": 2,
  "kernelspec": {
   "name": "python385jvsc74a57bd064b474f71659f9be32f34132c3eef93d33d176ead871b80ca6db3fa26bc83f65",
   "display_name": "Python 3.8.5 64-bit ('base': conda)"
  }
 },
 "nbformat": 4,
 "nbformat_minor": 2,
 "cells": [
  {
   "source": [
    "# SimplonSearch : Le nouveau moteur de recherche\n",
    "## Contexte :\n",
    "La société Simplon, organisme de formation réputé, a mis à disposition de ses chargés de projet et de ses formateurs un ensemble de documents contenant toutes les informations nécessaires pour mener à bien une formation. On y trouve des documents expliquant comment mettre en place une alternance, comment composer un jury, ou préparer une bonne rentré.\n",
    "Le seul soucis, c’est qu’avec tous ces documents les salariés de Simplon n’arrive plus à s’y retrouver et à savoir quel est le document qui contient les informations les plus pertinentes vis-à-vis de leurs questionnement.\n",
    "Vous avez donc été mandaté pour créer un moteur de recherche : « SimplonSearch ».\n",
    "## L’objectif :\n",
    "Trouver dans un texte non pas des phrases exactes, mais des phrases ressemblant autant que possible à un contenu recherché et d’évaluer par un score la pertinence des différentes suggestions.\n",
    "Le but de ce breif est de vous faire travailler l’usage des expressions régulières (très utilisé dans le traitement des données) dans un contexte de mise en situation réelle.\n",
    "La pertinence des mots clés n’est qu’un critère d’un moteur de recherche efficaces, mais n’en demeure pas moins primordiale. Ici c’est ce seul critère qui sera abordé.\n",
    "\n",
    "### 1. Proposer une fonction almost(mot, s) qui trouve dans un texte s toute les occurrence d’un mot dont une lettre a pu éventuellement être enlevée. Exemple : si mot vaut « alphonse », une réponse acceptable vaut est « alponse ». "
   ],
   "cell_type": "markdown",
   "metadata": {}
  },
  {
   "cell_type": "code",
   "execution_count": 4,
   "metadata": {},
   "outputs": [
    {
     "output_type": "stream",
     "name": "stdout",
     "text": [
      "3\n"
     ]
    }
   ],
   "source": [
    "from re import split, match, sub, findall\n",
    "\n",
    "def almost(m,s):\n",
    "\n",
    "    if len(m) <= 1 :\n",
    "        return 0\n",
    "\n",
    "    n=0\n",
    "    liste = []\n",
    "    words = s.split()\n",
    "    \n",
    "    for i in range(len(m)) :\n",
    "        liste.append(m[:i]+m[i+1:])\n",
    "\n",
    "    for w in words:\n",
    "        if w in liste : \n",
    "            n+=1\n",
    "\n",
    "    return n\n",
    "\n",
    "print(almost(\"alphonse\",\"alponse a b cfddfz alhonse aphonse\"))"
   ]
  },
  {
   "source": [
    "### 2. Proposez une fonction pluslarge(mot, s) qui trouve dans un texte s toutes les occurrences d’un mot dont une lettre a pu éventuellement être enlevée, ajouté ou remplacé par une autre. "
   ],
   "cell_type": "markdown",
   "metadata": {}
  },
  {
   "cell_type": "code",
   "execution_count": 97,
   "metadata": {},
   "outputs": [
    {
     "output_type": "stream",
     "name": "stdout",
     "text": [
      "[]\n"
     ]
    }
   ],
   "source": [
    "def pluslarge(mot, s):\n",
    "    z = \" \"+sub(\"[,.]\", \"\", s)+ \" \"\n",
    "    found = findall(\"\\s\"+mot+\"[^\\s]?\\s\", z)\n",
    "    for i in range(len(mot)):\n",
    "        # Je cherche le mot avec une lettre remplacé\n",
    "        motif = \"\\s\"+mot[:i]+\"[^\"+mot[i]+\"]?\"\n",
    "        motif += mot[i+1:]+\"\\s\"\n",
    "        found += findall(motif, \" \"+z)\n",
    "        # Je cherche le mot avec une lettre en plus\n",
    "        motif += \"\\s\"+mot[:i]+\"[^\\s]\"+mot[i:]+\"\\s\"\n",
    "        found += findall(motif, \" \"+z)\n",
    "    return found\n",
    "\n",
    "p = \"Le petit bonhomme en mousse\"\n",
    "s = \"Ce superbe matelas en mousse naturelle\"\n",
    "\n",
    "print(pluslarge(p,s))"
   ]
  },
  {
   "source": [
    "### 3. Proposez une fonction score(p, s) qui prend en argument une phrase p et lui attribue un score en fonction de la présence des mots qu’elle contient dans s : cinq points par mot exact, un point par mot approché."
   ],
   "cell_type": "markdown",
   "metadata": {}
  },
  {
   "cell_type": "code",
   "execution_count": 95,
   "metadata": {},
   "outputs": [
    {
     "output_type": "stream",
     "name": "stdout",
     "text": [
      "Le\n[' Ce ']\npetit\nbonhomme\nen\n[' en ']\nmouse\n6\n"
     ]
    }
   ],
   "source": [
    "def score(p,s) : \n",
    "\n",
    "    sc = 0\n",
    "    q = \" \"+sub(\"[,.]\",\"\", p)+\" \"\n",
    "    z = \" \" + sub(\"[,.]\",\"\", s)+\" \"\n",
    "\n",
    "    mot = p.split()\n",
    "\n",
    "    for x in mot:\n",
    "        print(x)\n",
    "        for i in pluslarge(x, z):\n",
    "            print(pluslarge(x,z))\n",
    "            sc += 5 if i in q else 1\n",
    "    \n",
    "    for y in range(len(mot)-1):\n",
    "        sc += 20 if \" \"+mot[y]+\" \"+mot[y+1]+\" \" in z else 0\n",
    "\n",
    "    return sc\n",
    "\n",
    "p = \"Le petit bonhomme en mouse\"\n",
    "s = \"Ce superbe matelas en mousse naturelle\"\n",
    "\n",
    "print(score(p, s))\n"
   ]
  },
  {
   "source": [
    "### 4. Modifiez les fonctions précédentes de façons à ce qu’elles donnent un bonus de 20 points si deux mots successifs dans la phrase initial sont également successif dans le texte parcouru (les mots exacts). Exemple : Si on cherche « Le petit bonhomme en mouse » dans « Ce superbe matelas en mousse naturelle »."
   ],
   "cell_type": "markdown",
   "metadata": {}
  },
  {
   "cell_type": "code",
   "execution_count": null,
   "metadata": {},
   "outputs": [],
   "source": []
  }
 ]
}