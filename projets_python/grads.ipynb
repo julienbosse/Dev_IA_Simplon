{
 "metadata": {
  "language_info": {
   "codemirror_mode": {
    "name": "ipython",
    "version": 3
   },
   "file_extension": ".py",
   "mimetype": "text/x-python",
   "name": "python",
   "nbconvert_exporter": "python",
   "pygments_lexer": "ipython3",
   "version": "3.8.5"
  },
  "orig_nbformat": 2,
  "kernelspec": {
   "name": "python385jvsc74a57bd04ad1113733ce155ce9cb43bdc3e17679916cd44516b0bf0a5049a72e2a7064d4",
   "display_name": "Python 3.8.5 64-bit ('base': conda)"
  }
 },
 "nbformat": 4,
 "nbformat_minor": 2,
 "cells": [
  {
   "source": [
    "## Introduction au dataset\n",
    "\n",
    "- Lire all-ages.csv dans un DataFrame et l'assigner à la variable all_ages.\n",
    "- Lire recent-grads.csv dans un DataFrame et l'assigner à la variable recent_grads.\n",
    "- Afficher les 5 premières lignes de all_ages et recent_grads.\n"
   ],
   "cell_type": "markdown",
   "metadata": {}
  },
  {
   "cell_type": "code",
   "execution_count": 59,
   "metadata": {},
   "outputs": [
    {
     "output_type": "execute_result",
     "data": {
      "text/plain": [
       "     Major_code                                            Major  \\\n",
       "0          1100                              GENERAL AGRICULTURE   \n",
       "1          1101            AGRICULTURE PRODUCTION AND MANAGEMENT   \n",
       "2          1102                           AGRICULTURAL ECONOMICS   \n",
       "3          1103                                  ANIMAL SCIENCES   \n",
       "4          1104                                     FOOD SCIENCE   \n",
       "..          ...                                              ...   \n",
       "168        6211                           HOSPITALITY MANAGEMENT   \n",
       "169        6212    MANAGEMENT INFORMATION SYSTEMS AND STATISTICS   \n",
       "170        6299  MISCELLANEOUS BUSINESS & MEDICAL ADMINISTRATION   \n",
       "171        6402                                          HISTORY   \n",
       "172        6403                            UNITED STATES HISTORY   \n",
       "\n",
       "                      Major_category   Total  Employed  \\\n",
       "0    Agriculture & Natural Resources  128148     90245   \n",
       "1    Agriculture & Natural Resources   95326     76865   \n",
       "2    Agriculture & Natural Resources   33955     26321   \n",
       "3    Agriculture & Natural Resources  103549     81177   \n",
       "4    Agriculture & Natural Resources   24280     17281   \n",
       "..                               ...     ...       ...   \n",
       "168                         Business  200854    163393   \n",
       "169                         Business  156673    134478   \n",
       "170                         Business  102753     77471   \n",
       "171        Humanities & Liberal Arts  712509    478416   \n",
       "172        Humanities & Liberal Arts   17746     11887   \n",
       "\n",
       "     Employed_full_time_year_round  Unemployed  Unemployment_rate  Median  \\\n",
       "0                            74078      2423.0           0.026147   50000   \n",
       "1                            64240      2266.0           0.028636   54000   \n",
       "2                            22810       821.0           0.030248   63000   \n",
       "3                            64937      3619.0           0.042679   46000   \n",
       "4                            12722       894.0           0.049188   62000   \n",
       "..                             ...         ...                ...     ...   \n",
       "168                         122499      8862.0           0.051447   49000   \n",
       "169                         118249      6186.0           0.043977   72000   \n",
       "170                          61603      4308.0           0.052679   53000   \n",
       "171                         354163     33725.0           0.065851   50000   \n",
       "172                           8204       943.0           0.073500   50000   \n",
       "\n",
       "     P25th     P75th  \n",
       "0    34000   80000.0  \n",
       "1    36000   80000.0  \n",
       "2    40000   98000.0  \n",
       "3    30000   72000.0  \n",
       "4    38500   90000.0  \n",
       "..     ...       ...  \n",
       "168  33000   70000.0  \n",
       "169  50000  100000.0  \n",
       "170  36000   83000.0  \n",
       "171  35000   80000.0  \n",
       "172  39000   81000.0  \n",
       "\n",
       "[173 rows x 11 columns]"
      ],
      "text/html": "<div>\n<style scoped>\n    .dataframe tbody tr th:only-of-type {\n        vertical-align: middle;\n    }\n\n    .dataframe tbody tr th {\n        vertical-align: top;\n    }\n\n    .dataframe thead th {\n        text-align: right;\n    }\n</style>\n<table border=\"1\" class=\"dataframe\">\n  <thead>\n    <tr style=\"text-align: right;\">\n      <th></th>\n      <th>Major_code</th>\n      <th>Major</th>\n      <th>Major_category</th>\n      <th>Total</th>\n      <th>Employed</th>\n      <th>Employed_full_time_year_round</th>\n      <th>Unemployed</th>\n      <th>Unemployment_rate</th>\n      <th>Median</th>\n      <th>P25th</th>\n      <th>P75th</th>\n    </tr>\n  </thead>\n  <tbody>\n    <tr>\n      <th>0</th>\n      <td>1100</td>\n      <td>GENERAL AGRICULTURE</td>\n      <td>Agriculture &amp; Natural Resources</td>\n      <td>128148</td>\n      <td>90245</td>\n      <td>74078</td>\n      <td>2423.0</td>\n      <td>0.026147</td>\n      <td>50000</td>\n      <td>34000</td>\n      <td>80000.0</td>\n    </tr>\n    <tr>\n      <th>1</th>\n      <td>1101</td>\n      <td>AGRICULTURE PRODUCTION AND MANAGEMENT</td>\n      <td>Agriculture &amp; Natural Resources</td>\n      <td>95326</td>\n      <td>76865</td>\n      <td>64240</td>\n      <td>2266.0</td>\n      <td>0.028636</td>\n      <td>54000</td>\n      <td>36000</td>\n      <td>80000.0</td>\n    </tr>\n    <tr>\n      <th>2</th>\n      <td>1102</td>\n      <td>AGRICULTURAL ECONOMICS</td>\n      <td>Agriculture &amp; Natural Resources</td>\n      <td>33955</td>\n      <td>26321</td>\n      <td>22810</td>\n      <td>821.0</td>\n      <td>0.030248</td>\n      <td>63000</td>\n      <td>40000</td>\n      <td>98000.0</td>\n    </tr>\n    <tr>\n      <th>3</th>\n      <td>1103</td>\n      <td>ANIMAL SCIENCES</td>\n      <td>Agriculture &amp; Natural Resources</td>\n      <td>103549</td>\n      <td>81177</td>\n      <td>64937</td>\n      <td>3619.0</td>\n      <td>0.042679</td>\n      <td>46000</td>\n      <td>30000</td>\n      <td>72000.0</td>\n    </tr>\n    <tr>\n      <th>4</th>\n      <td>1104</td>\n      <td>FOOD SCIENCE</td>\n      <td>Agriculture &amp; Natural Resources</td>\n      <td>24280</td>\n      <td>17281</td>\n      <td>12722</td>\n      <td>894.0</td>\n      <td>0.049188</td>\n      <td>62000</td>\n      <td>38500</td>\n      <td>90000.0</td>\n    </tr>\n    <tr>\n      <th>...</th>\n      <td>...</td>\n      <td>...</td>\n      <td>...</td>\n      <td>...</td>\n      <td>...</td>\n      <td>...</td>\n      <td>...</td>\n      <td>...</td>\n      <td>...</td>\n      <td>...</td>\n      <td>...</td>\n    </tr>\n    <tr>\n      <th>168</th>\n      <td>6211</td>\n      <td>HOSPITALITY MANAGEMENT</td>\n      <td>Business</td>\n      <td>200854</td>\n      <td>163393</td>\n      <td>122499</td>\n      <td>8862.0</td>\n      <td>0.051447</td>\n      <td>49000</td>\n      <td>33000</td>\n      <td>70000.0</td>\n    </tr>\n    <tr>\n      <th>169</th>\n      <td>6212</td>\n      <td>MANAGEMENT INFORMATION SYSTEMS AND STATISTICS</td>\n      <td>Business</td>\n      <td>156673</td>\n      <td>134478</td>\n      <td>118249</td>\n      <td>6186.0</td>\n      <td>0.043977</td>\n      <td>72000</td>\n      <td>50000</td>\n      <td>100000.0</td>\n    </tr>\n    <tr>\n      <th>170</th>\n      <td>6299</td>\n      <td>MISCELLANEOUS BUSINESS &amp; MEDICAL ADMINISTRATION</td>\n      <td>Business</td>\n      <td>102753</td>\n      <td>77471</td>\n      <td>61603</td>\n      <td>4308.0</td>\n      <td>0.052679</td>\n      <td>53000</td>\n      <td>36000</td>\n      <td>83000.0</td>\n    </tr>\n    <tr>\n      <th>171</th>\n      <td>6402</td>\n      <td>HISTORY</td>\n      <td>Humanities &amp; Liberal Arts</td>\n      <td>712509</td>\n      <td>478416</td>\n      <td>354163</td>\n      <td>33725.0</td>\n      <td>0.065851</td>\n      <td>50000</td>\n      <td>35000</td>\n      <td>80000.0</td>\n    </tr>\n    <tr>\n      <th>172</th>\n      <td>6403</td>\n      <td>UNITED STATES HISTORY</td>\n      <td>Humanities &amp; Liberal Arts</td>\n      <td>17746</td>\n      <td>11887</td>\n      <td>8204</td>\n      <td>943.0</td>\n      <td>0.073500</td>\n      <td>50000</td>\n      <td>39000</td>\n      <td>81000.0</td>\n    </tr>\n  </tbody>\n</table>\n<p>173 rows × 11 columns</p>\n</div>"
     },
     "metadata": {},
     "execution_count": 59
    }
   ],
   "source": [
    "import pandas as pd \n",
    "\n",
    "all_ages = pd.read_csv(\"jeux_donnees/all-ages.csv\")\n",
    "all_ages"
   ]
  },
  {
   "cell_type": "code",
   "execution_count": 60,
   "metadata": {},
   "outputs": [
    {
     "output_type": "execute_result",
     "data": {
      "text/plain": [
       "     Rank  Major_code                                      Major  \\\n",
       "0       1        2419                      PETROLEUM ENGINEERING   \n",
       "1       2        2416             MINING AND MINERAL ENGINEERING   \n",
       "2       3        2415                  METALLURGICAL ENGINEERING   \n",
       "3       4        2417  NAVAL ARCHITECTURE AND MARINE ENGINEERING   \n",
       "4       5        2405                       CHEMICAL ENGINEERING   \n",
       "..    ...         ...                                        ...   \n",
       "168   169        3609                                    ZOOLOGY   \n",
       "169   170        5201                     EDUCATIONAL PSYCHOLOGY   \n",
       "170   171        5202                        CLINICAL PSYCHOLOGY   \n",
       "171   172        5203                      COUNSELING PSYCHOLOGY   \n",
       "172   173        3501                            LIBRARY SCIENCE   \n",
       "\n",
       "               Major_category  Total  Sample_size    Men  Women  ShareWomen  \\\n",
       "0                 Engineering   2339           36   2057    282    0.120564   \n",
       "1                 Engineering    756            7    679     77    0.101852   \n",
       "2                 Engineering    856            3    725    131    0.153037   \n",
       "3                 Engineering   1258           16   1123    135    0.107313   \n",
       "4                 Engineering  32260          289  21239  11021    0.341631   \n",
       "..                        ...    ...          ...    ...    ...         ...   \n",
       "168    Biology & Life Science   8409           47   3050   5359    0.637293   \n",
       "169  Psychology & Social Work   2854            7    522   2332    0.817099   \n",
       "170  Psychology & Social Work   2838           13    568   2270    0.799859   \n",
       "171  Psychology & Social Work   4626           21    931   3695    0.798746   \n",
       "172                 Education   1098            2    134    964    0.877960   \n",
       "\n",
       "     Employed  ...  Part_time  Full_time_year_round  Unemployed  \\\n",
       "0        1976  ...        270                  1207          37   \n",
       "1         640  ...        170                   388          85   \n",
       "2         648  ...        133                   340          16   \n",
       "3         758  ...        150                   692          40   \n",
       "4       25694  ...       5180                 16697        1672   \n",
       "..        ...  ...        ...                   ...         ...   \n",
       "168      6259  ...       2190                  3602         304   \n",
       "169      2125  ...        572                  1211         148   \n",
       "170      2101  ...        648                  1293         368   \n",
       "171      3777  ...        965                  2738         214   \n",
       "172       742  ...        237                   410          87   \n",
       "\n",
       "     Unemployment_rate  Median  P25th   P75th  College_jobs  Non_college_jobs  \\\n",
       "0             0.018381  110000  95000  125000          1534               364   \n",
       "1             0.117241   75000  55000   90000           350               257   \n",
       "2             0.024096   73000  50000  105000           456               176   \n",
       "3             0.050125   70000  43000   80000           529               102   \n",
       "4             0.061098   65000  50000   75000         18314              4440   \n",
       "..                 ...     ...    ...     ...           ...               ...   \n",
       "168           0.046320   26000  20000   39000          2771              2947   \n",
       "169           0.065112   25000  24000   34000          1488               615   \n",
       "170           0.149048   25000  25000   40000           986               870   \n",
       "171           0.053621   23400  19200   26000          2403              1245   \n",
       "172           0.104946   22000  20000   22000           288               338   \n",
       "\n",
       "     Low_wage_jobs  \n",
       "0              193  \n",
       "1               50  \n",
       "2                0  \n",
       "3                0  \n",
       "4              972  \n",
       "..             ...  \n",
       "168            743  \n",
       "169             82  \n",
       "170            622  \n",
       "171            308  \n",
       "172            192  \n",
       "\n",
       "[173 rows x 21 columns]"
      ],
      "text/html": "<div>\n<style scoped>\n    .dataframe tbody tr th:only-of-type {\n        vertical-align: middle;\n    }\n\n    .dataframe tbody tr th {\n        vertical-align: top;\n    }\n\n    .dataframe thead th {\n        text-align: right;\n    }\n</style>\n<table border=\"1\" class=\"dataframe\">\n  <thead>\n    <tr style=\"text-align: right;\">\n      <th></th>\n      <th>Rank</th>\n      <th>Major_code</th>\n      <th>Major</th>\n      <th>Major_category</th>\n      <th>Total</th>\n      <th>Sample_size</th>\n      <th>Men</th>\n      <th>Women</th>\n      <th>ShareWomen</th>\n      <th>Employed</th>\n      <th>...</th>\n      <th>Part_time</th>\n      <th>Full_time_year_round</th>\n      <th>Unemployed</th>\n      <th>Unemployment_rate</th>\n      <th>Median</th>\n      <th>P25th</th>\n      <th>P75th</th>\n      <th>College_jobs</th>\n      <th>Non_college_jobs</th>\n      <th>Low_wage_jobs</th>\n    </tr>\n  </thead>\n  <tbody>\n    <tr>\n      <th>0</th>\n      <td>1</td>\n      <td>2419</td>\n      <td>PETROLEUM ENGINEERING</td>\n      <td>Engineering</td>\n      <td>2339</td>\n      <td>36</td>\n      <td>2057</td>\n      <td>282</td>\n      <td>0.120564</td>\n      <td>1976</td>\n      <td>...</td>\n      <td>270</td>\n      <td>1207</td>\n      <td>37</td>\n      <td>0.018381</td>\n      <td>110000</td>\n      <td>95000</td>\n      <td>125000</td>\n      <td>1534</td>\n      <td>364</td>\n      <td>193</td>\n    </tr>\n    <tr>\n      <th>1</th>\n      <td>2</td>\n      <td>2416</td>\n      <td>MINING AND MINERAL ENGINEERING</td>\n      <td>Engineering</td>\n      <td>756</td>\n      <td>7</td>\n      <td>679</td>\n      <td>77</td>\n      <td>0.101852</td>\n      <td>640</td>\n      <td>...</td>\n      <td>170</td>\n      <td>388</td>\n      <td>85</td>\n      <td>0.117241</td>\n      <td>75000</td>\n      <td>55000</td>\n      <td>90000</td>\n      <td>350</td>\n      <td>257</td>\n      <td>50</td>\n    </tr>\n    <tr>\n      <th>2</th>\n      <td>3</td>\n      <td>2415</td>\n      <td>METALLURGICAL ENGINEERING</td>\n      <td>Engineering</td>\n      <td>856</td>\n      <td>3</td>\n      <td>725</td>\n      <td>131</td>\n      <td>0.153037</td>\n      <td>648</td>\n      <td>...</td>\n      <td>133</td>\n      <td>340</td>\n      <td>16</td>\n      <td>0.024096</td>\n      <td>73000</td>\n      <td>50000</td>\n      <td>105000</td>\n      <td>456</td>\n      <td>176</td>\n      <td>0</td>\n    </tr>\n    <tr>\n      <th>3</th>\n      <td>4</td>\n      <td>2417</td>\n      <td>NAVAL ARCHITECTURE AND MARINE ENGINEERING</td>\n      <td>Engineering</td>\n      <td>1258</td>\n      <td>16</td>\n      <td>1123</td>\n      <td>135</td>\n      <td>0.107313</td>\n      <td>758</td>\n      <td>...</td>\n      <td>150</td>\n      <td>692</td>\n      <td>40</td>\n      <td>0.050125</td>\n      <td>70000</td>\n      <td>43000</td>\n      <td>80000</td>\n      <td>529</td>\n      <td>102</td>\n      <td>0</td>\n    </tr>\n    <tr>\n      <th>4</th>\n      <td>5</td>\n      <td>2405</td>\n      <td>CHEMICAL ENGINEERING</td>\n      <td>Engineering</td>\n      <td>32260</td>\n      <td>289</td>\n      <td>21239</td>\n      <td>11021</td>\n      <td>0.341631</td>\n      <td>25694</td>\n      <td>...</td>\n      <td>5180</td>\n      <td>16697</td>\n      <td>1672</td>\n      <td>0.061098</td>\n      <td>65000</td>\n      <td>50000</td>\n      <td>75000</td>\n      <td>18314</td>\n      <td>4440</td>\n      <td>972</td>\n    </tr>\n    <tr>\n      <th>...</th>\n      <td>...</td>\n      <td>...</td>\n      <td>...</td>\n      <td>...</td>\n      <td>...</td>\n      <td>...</td>\n      <td>...</td>\n      <td>...</td>\n      <td>...</td>\n      <td>...</td>\n      <td>...</td>\n      <td>...</td>\n      <td>...</td>\n      <td>...</td>\n      <td>...</td>\n      <td>...</td>\n      <td>...</td>\n      <td>...</td>\n      <td>...</td>\n      <td>...</td>\n      <td>...</td>\n    </tr>\n    <tr>\n      <th>168</th>\n      <td>169</td>\n      <td>3609</td>\n      <td>ZOOLOGY</td>\n      <td>Biology &amp; Life Science</td>\n      <td>8409</td>\n      <td>47</td>\n      <td>3050</td>\n      <td>5359</td>\n      <td>0.637293</td>\n      <td>6259</td>\n      <td>...</td>\n      <td>2190</td>\n      <td>3602</td>\n      <td>304</td>\n      <td>0.046320</td>\n      <td>26000</td>\n      <td>20000</td>\n      <td>39000</td>\n      <td>2771</td>\n      <td>2947</td>\n      <td>743</td>\n    </tr>\n    <tr>\n      <th>169</th>\n      <td>170</td>\n      <td>5201</td>\n      <td>EDUCATIONAL PSYCHOLOGY</td>\n      <td>Psychology &amp; Social Work</td>\n      <td>2854</td>\n      <td>7</td>\n      <td>522</td>\n      <td>2332</td>\n      <td>0.817099</td>\n      <td>2125</td>\n      <td>...</td>\n      <td>572</td>\n      <td>1211</td>\n      <td>148</td>\n      <td>0.065112</td>\n      <td>25000</td>\n      <td>24000</td>\n      <td>34000</td>\n      <td>1488</td>\n      <td>615</td>\n      <td>82</td>\n    </tr>\n    <tr>\n      <th>170</th>\n      <td>171</td>\n      <td>5202</td>\n      <td>CLINICAL PSYCHOLOGY</td>\n      <td>Psychology &amp; Social Work</td>\n      <td>2838</td>\n      <td>13</td>\n      <td>568</td>\n      <td>2270</td>\n      <td>0.799859</td>\n      <td>2101</td>\n      <td>...</td>\n      <td>648</td>\n      <td>1293</td>\n      <td>368</td>\n      <td>0.149048</td>\n      <td>25000</td>\n      <td>25000</td>\n      <td>40000</td>\n      <td>986</td>\n      <td>870</td>\n      <td>622</td>\n    </tr>\n    <tr>\n      <th>171</th>\n      <td>172</td>\n      <td>5203</td>\n      <td>COUNSELING PSYCHOLOGY</td>\n      <td>Psychology &amp; Social Work</td>\n      <td>4626</td>\n      <td>21</td>\n      <td>931</td>\n      <td>3695</td>\n      <td>0.798746</td>\n      <td>3777</td>\n      <td>...</td>\n      <td>965</td>\n      <td>2738</td>\n      <td>214</td>\n      <td>0.053621</td>\n      <td>23400</td>\n      <td>19200</td>\n      <td>26000</td>\n      <td>2403</td>\n      <td>1245</td>\n      <td>308</td>\n    </tr>\n    <tr>\n      <th>172</th>\n      <td>173</td>\n      <td>3501</td>\n      <td>LIBRARY SCIENCE</td>\n      <td>Education</td>\n      <td>1098</td>\n      <td>2</td>\n      <td>134</td>\n      <td>964</td>\n      <td>0.877960</td>\n      <td>742</td>\n      <td>...</td>\n      <td>237</td>\n      <td>410</td>\n      <td>87</td>\n      <td>0.104946</td>\n      <td>22000</td>\n      <td>20000</td>\n      <td>22000</td>\n      <td>288</td>\n      <td>338</td>\n      <td>192</td>\n    </tr>\n  </tbody>\n</table>\n<p>173 rows × 21 columns</p>\n</div>"
     },
     "metadata": {},
     "execution_count": 60
    }
   ],
   "source": [
    "recent_grads = pd.read_csv(\"jeux_donnees/recent-grads.csv\")\n",
    "recent_grads"
   ]
  },
  {
   "source": [
    "## Nombre d'étudiants par catégorie de Major\n",
    "- Retourner les valeurs uniques de Major_category.\n",
    "    - Utiliser la méthode Series.unique() (équivalent du distinct en SQL) pour retourner les valeurs uniques d'une Series.\n"
   ],
   "cell_type": "markdown",
   "metadata": {}
  },
  {
   "cell_type": "code",
   "execution_count": 61,
   "metadata": {},
   "outputs": [
    {
     "output_type": "stream",
     "name": "stdout",
     "text": [
      "['Agriculture & Natural Resources' 'Biology & Life Science' 'Engineering'\n 'Humanities & Liberal Arts' 'Communications & Journalism'\n 'Computers & Mathematics' 'Industrial Arts & Consumer Services'\n 'Education' 'Law & Public Policy' 'Interdisciplinary' 'Health'\n 'Social Science' 'Physical Sciences' ' Physical Sciences'\n 'Psychology & Social Work' '15726' 'Arts' 'Business'] \n\n<class 'numpy.ndarray'>\n['Engineering' 'Business' 'Physical Sciences' 'Law & Public Policy'\n 'Computers & Mathematics' 'Agriculture & Natural Resources'\n 'Industrial Arts & Consumer Services' 'Arts' 'Health' 'Social Science'\n 'Biology & Life Science' 'Education' 'Humanities & Liberal Arts'\n 'Psychology & Social Work' 'Communications & Journalism'\n 'Interdisciplinary']\n"
     ]
    }
   ],
   "source": [
    "aa_major_categories = all_ages[\"Major_category\"].unique()\n",
    "print(aa_major_categories,\"\\n\")\n",
    "print(type(aa_major_categories))\n",
    "\n",
    "rg_major_categories = recent_grads[\"Major_category\"].unique()\n",
    "print(rg_major_categories)"
   ]
  },
  {
   "source": [
    "- Pour chaque valeur unique (utilisation d'une boucle for?):\n",
    "    - Retourner toutes les lignes où Major_category vaut cette valeur unique.\n",
    "    - Calculer le nombre total d'étudiants représentant cette catégorie de major (colonne Total à sommer).\n",
    "    - Vous garderez en mémoire ce résultat sous la forme d'un dictionnaire contenant une Major_category en clé et le nombre d'étudiants en valeur."
   ],
   "cell_type": "markdown",
   "metadata": {}
  },
  {
   "cell_type": "code",
   "execution_count": 62,
   "metadata": {},
   "outputs": [
    {
     "output_type": "stream",
     "name": "stdout",
     "text": [
      "all_ages :\n{'Agriculture & Natural Resources': 632437, 'Biology & Life Science': 1338186, 'Engineering': 3576013, 'Humanities & Liberal Arts': 3738335, 'Communications & Journalism': 1803822, 'Computers & Mathematics': 1781378, 'Industrial Arts & Consumer Services': 1018072, 'Education': 4700118, 'Law & Public Policy': 902926, 'Interdisciplinary': 45199, 'Health': 2950859, 'Social Science': 2654125, 'Physical Sciences': 1013152, ' Physical Sciences': 12166, 'Psychology & Social Work': 1987278, '15726': 12607, 'Arts': 1805865, 'Business': 9858741}\n\nrecent_grads :\n{'Engineering': 537583, 'Business': 1302376, 'Physical Sciences': 185479, 'Law & Public Policy': 179107, 'Computers & Mathematics': 299008, 'Agriculture & Natural Resources': 79981, 'Industrial Arts & Consumer Services': 229792, 'Arts': 357130, 'Health': 463230, 'Social Science': 529966, 'Biology & Life Science': 453862, 'Education': 559129, 'Humanities & Liberal Arts': 713468, 'Psychology & Social Work': 481007, 'Communications & Journalism': 392601, 'Interdisciplinary': 12296}\n"
     ]
    }
   ],
   "source": [
    "aa_cat_counts = {}\n",
    "rg_cat_counts = {}\n",
    "\n",
    "for major_category in aa_major_categories:\n",
    "    aa_cat = all_ages[all_ages[\"Major_category\"]==major_category]\n",
    "    aa_cat_counts[major_category] = aa_cat[\"Total\"].sum()\n",
    "\n",
    "for major_category in rg_major_categories:\n",
    "    rg_cat = recent_grads[recent_grads[\"Major_category\"]==major_category]\n",
    "    rg_cat_counts[major_category] = rg_cat[\"Total\"].sum()\n",
    "\n",
    "print(\"all_ages :\")\n",
    "print(aa_cat_counts)\n",
    "\n",
    "print(\"\\nrecent_grads :\")\n",
    "print(rg_cat_counts)"
   ]
  },
  {
   "cell_type": "code",
   "execution_count": 63,
   "metadata": {},
   "outputs": [
    {
     "output_type": "stream",
     "name": "stdout",
     "text": [
      "all_ages :\n{'Agriculture & Natural Resources': 632437, 'Biology & Life Science': 1338186, 'Engineering': 3576013, 'Humanities & Liberal Arts': 3738335, 'Communications & Journalism': 1803822, 'Computers & Mathematics': 1781378, 'Industrial Arts & Consumer Services': 1018072, 'Education': 4700118, 'Law & Public Policy': 902926, 'Interdisciplinary': 45199, 'Health': 2950859, 'Social Science': 2654125, 'Physical Sciences': 1013152, ' Physical Sciences': 12166, 'Psychology & Social Work': 1987278, '15726': 12607, 'Arts': 1805865, 'Business': 9858741}\n\nrecent_grads :\n{'Engineering': 537583, 'Business': 1302376, 'Physical Sciences': 185479, 'Law & Public Policy': 179107, 'Computers & Mathematics': 299008, 'Agriculture & Natural Resources': 79981, 'Industrial Arts & Consumer Services': 229792, 'Arts': 357130, 'Health': 463230, 'Social Science': 529966, 'Biology & Life Science': 453862, 'Education': 559129, 'Humanities & Liberal Arts': 713468, 'Psychology & Social Work': 481007, 'Communications & Journalism': 392601, 'Interdisciplinary': 12296}\n"
     ]
    }
   ],
   "source": [
    "# Fonction qui renvoie ces dictionnaires :\n",
    "\n",
    "def cat_count(data):\n",
    "\n",
    "    major_categories = data[\"Major_category\"].unique()\n",
    "    counts = {}\n",
    "\n",
    "    for major_category in major_categories:\n",
    "        data_cat = data[data[\"Major_category\"]==major_category]\n",
    "        counts[major_category] = data_cat[\"Total\"].sum()\n",
    "\n",
    "    return counts \n",
    "        \n",
    "aa_cat_counts2 = cat_count(all_ages)\n",
    "rg_cat_counts2 = cat_count(recent_grads)\n",
    "\n",
    "print(\"all_ages :\")\n",
    "print(aa_cat_counts2)\n",
    "\n",
    "print(\"\\nrecent_grads :\")\n",
    "print(rg_cat_counts2)"
   ]
  },
  {
   "source": [
    "## Taux de jobs à faible salaire\n",
    "\n",
    "- Utiliser les colonnes \"Low_wage_jobs\" et \"Total\" pour calculer la proportion de jeunes diplômés qui ont du trouver des jobs à faible salaire (recent_grads).\n",
    "    - Souvenez-vous que vous pouvez utiliser la méthode Series.sum() pour retourner la somme des valeurs d'une colonne\n",
    "- Stocker le résultat dans la variable low_wage_proportion et afficher le.\n"
   ],
   "cell_type": "markdown",
   "metadata": {}
  },
  {
   "cell_type": "code",
   "execution_count": 64,
   "metadata": {},
   "outputs": [
    {
     "output_type": "stream",
     "name": "stdout",
     "text": [
      " Taux de jobs à faible salaire : 9.85 %\n"
     ]
    }
   ],
   "source": [
    "low_wage_proportion = recent_grads[\"Low_wage_jobs\"].sum() / recent_grads[\"Total\"].sum()\n",
    "\n",
    "print(\" Taux de jobs à faible salaire :\", round(low_wage_proportion*100,2),\"%\")"
   ]
  },
  {
   "source": [
    "## Comparer des datasets\n",
    "\n",
    "- Utiliser une boucle for pour parcourir toutes les majors.\n",
    "    - Pour chaque Major et chaque DataFrame, filtrer seulement les lignes du DataFrame correspondant à cette major\n",
    "    - Comparer les valeurs pour la colonne \"Unemployment_rate\" pour voir lequel des 2 DataFrames possèdent la valeur la plus basse\n",
    "    - Incrémenter (cad ajouter 1) à la variable rg_lower_count si la valeur pour Unemployment_rate est plus petite dans le dataframe recent_grads que dans le dataframe all_ages\n",
    "- Afficher le résultat rg_lower_count.\n"
   ],
   "cell_type": "markdown",
   "metadata": {}
  },
  {
   "cell_type": "code",
   "execution_count": 102,
   "metadata": {},
   "outputs": [
    {
     "output_type": "stream",
     "name": "stdout",
     "text": [
      "42\n"
     ]
    }
   ],
   "source": [
    "aa_majors = all_ages[\"Major\"].unique()\n",
    "rg_majors = recent_grads[\"Major\"].unique()\n",
    "\n",
    "rg_lower_count = 0\n",
    "\n",
    "for major in aa_majors:\n",
    "    if major in rg_majors :\n",
    "        \n",
    "        aa_major = all_ages[all_ages[\"Major\"] == major]\n",
    "        rg_major = recent_grads[recent_grads[\"Major\"] == major]\n",
    "\n",
    "        if rg_major.iloc[0][\"Unemployment_rate\"] < aa_major.iloc[0][\"Unemployment_rate\"] : rg_lower_count += 1\n",
    "\n",
    "print(rg_lower_count)"
   ]
  },
  {
   "cell_type": "code",
   "execution_count": null,
   "metadata": {},
   "outputs": [],
   "source": []
  }
 ]
}