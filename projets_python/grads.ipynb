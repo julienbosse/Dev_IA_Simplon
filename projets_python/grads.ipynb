{
 "metadata": {
  "language_info": {
   "codemirror_mode": {
    "name": "ipython",
    "version": 3
   },
   "file_extension": ".py",
   "mimetype": "text/x-python",
   "name": "python",
   "nbconvert_exporter": "python",
   "pygments_lexer": "ipython3",
   "version": "3.8.5"
  },
  "orig_nbformat": 2,
  "kernelspec": {
   "name": "python385jvsc74a57bd04ad1113733ce155ce9cb43bdc3e17679916cd44516b0bf0a5049a72e2a7064d4",
   "display_name": "Python 3.8.5 64-bit ('base': conda)"
  }
 },
 "nbformat": 4,
 "nbformat_minor": 2,
 "cells": [
  {
   "source": [
    "## Introduction au dataset\n",
    "\n",
    "- Lire all-ages.csv dans un DataFrame et l'assigner à la variable all_ages.\n",
    "- Lire recent-grads.csv dans un DataFrame et l'assigner à la variable recent_grads.\n",
    "- Afficher les 5 premières lignes de all_ages et recent_grads.\n"
   ],
   "cell_type": "markdown",
   "metadata": {}
  },
  {
   "cell_type": "code",
   "execution_count": 11,
   "metadata": {},
   "outputs": [
    {
     "output_type": "execute_result",
     "data": {
      "text/plain": [
       "   Major_code                                  Major  \\\n",
       "0        1100                    GENERAL AGRICULTURE   \n",
       "1        1101  AGRICULTURE PRODUCTION AND MANAGEMENT   \n",
       "2        1102                 AGRICULTURAL ECONOMICS   \n",
       "3        1103                        ANIMAL SCIENCES   \n",
       "4        1104                           FOOD SCIENCE   \n",
       "\n",
       "                    Major_category   Total  Employed  \\\n",
       "0  Agriculture & Natural Resources  128148     90245   \n",
       "1  Agriculture & Natural Resources   95326     76865   \n",
       "2  Agriculture & Natural Resources   33955     26321   \n",
       "3  Agriculture & Natural Resources  103549     81177   \n",
       "4  Agriculture & Natural Resources   24280     17281   \n",
       "\n",
       "   Employed_full_time_year_round  Unemployed  Unemployment_rate  Median  \\\n",
       "0                          74078      2423.0           0.026147   50000   \n",
       "1                          64240      2266.0           0.028636   54000   \n",
       "2                          22810       821.0           0.030248   63000   \n",
       "3                          64937      3619.0           0.042679   46000   \n",
       "4                          12722       894.0           0.049188   62000   \n",
       "\n",
       "   P25th    P75th  \n",
       "0  34000  80000.0  \n",
       "1  36000  80000.0  \n",
       "2  40000  98000.0  \n",
       "3  30000  72000.0  \n",
       "4  38500  90000.0  "
      ],
      "text/html": "<div>\n<style scoped>\n    .dataframe tbody tr th:only-of-type {\n        vertical-align: middle;\n    }\n\n    .dataframe tbody tr th {\n        vertical-align: top;\n    }\n\n    .dataframe thead th {\n        text-align: right;\n    }\n</style>\n<table border=\"1\" class=\"dataframe\">\n  <thead>\n    <tr style=\"text-align: right;\">\n      <th></th>\n      <th>Major_code</th>\n      <th>Major</th>\n      <th>Major_category</th>\n      <th>Total</th>\n      <th>Employed</th>\n      <th>Employed_full_time_year_round</th>\n      <th>Unemployed</th>\n      <th>Unemployment_rate</th>\n      <th>Median</th>\n      <th>P25th</th>\n      <th>P75th</th>\n    </tr>\n  </thead>\n  <tbody>\n    <tr>\n      <th>0</th>\n      <td>1100</td>\n      <td>GENERAL AGRICULTURE</td>\n      <td>Agriculture &amp; Natural Resources</td>\n      <td>128148</td>\n      <td>90245</td>\n      <td>74078</td>\n      <td>2423.0</td>\n      <td>0.026147</td>\n      <td>50000</td>\n      <td>34000</td>\n      <td>80000.0</td>\n    </tr>\n    <tr>\n      <th>1</th>\n      <td>1101</td>\n      <td>AGRICULTURE PRODUCTION AND MANAGEMENT</td>\n      <td>Agriculture &amp; Natural Resources</td>\n      <td>95326</td>\n      <td>76865</td>\n      <td>64240</td>\n      <td>2266.0</td>\n      <td>0.028636</td>\n      <td>54000</td>\n      <td>36000</td>\n      <td>80000.0</td>\n    </tr>\n    <tr>\n      <th>2</th>\n      <td>1102</td>\n      <td>AGRICULTURAL ECONOMICS</td>\n      <td>Agriculture &amp; Natural Resources</td>\n      <td>33955</td>\n      <td>26321</td>\n      <td>22810</td>\n      <td>821.0</td>\n      <td>0.030248</td>\n      <td>63000</td>\n      <td>40000</td>\n      <td>98000.0</td>\n    </tr>\n    <tr>\n      <th>3</th>\n      <td>1103</td>\n      <td>ANIMAL SCIENCES</td>\n      <td>Agriculture &amp; Natural Resources</td>\n      <td>103549</td>\n      <td>81177</td>\n      <td>64937</td>\n      <td>3619.0</td>\n      <td>0.042679</td>\n      <td>46000</td>\n      <td>30000</td>\n      <td>72000.0</td>\n    </tr>\n    <tr>\n      <th>4</th>\n      <td>1104</td>\n      <td>FOOD SCIENCE</td>\n      <td>Agriculture &amp; Natural Resources</td>\n      <td>24280</td>\n      <td>17281</td>\n      <td>12722</td>\n      <td>894.0</td>\n      <td>0.049188</td>\n      <td>62000</td>\n      <td>38500</td>\n      <td>90000.0</td>\n    </tr>\n  </tbody>\n</table>\n</div>"
     },
     "metadata": {},
     "execution_count": 11
    }
   ],
   "source": [
    "import pandas as pd \n",
    "\n",
    "all_ages = pd.read_csv(\"jeux_donnees/all-ages.csv\")\n",
    "all_ages[0:5]"
   ]
  },
  {
   "cell_type": "code",
   "execution_count": 12,
   "metadata": {},
   "outputs": [
    {
     "output_type": "execute_result",
     "data": {
      "text/plain": [
       "   Rank  Major_code                                      Major Major_category  \\\n",
       "0     1        2419                      PETROLEUM ENGINEERING    Engineering   \n",
       "1     2        2416             MINING AND MINERAL ENGINEERING    Engineering   \n",
       "2     3        2415                  METALLURGICAL ENGINEERING    Engineering   \n",
       "3     4        2417  NAVAL ARCHITECTURE AND MARINE ENGINEERING    Engineering   \n",
       "4     5        2405                       CHEMICAL ENGINEERING    Engineering   \n",
       "\n",
       "   Total  Sample_size    Men  Women  ShareWomen  Employed  ...  Part_time  \\\n",
       "0   2339           36   2057    282    0.120564      1976  ...        270   \n",
       "1    756            7    679     77    0.101852       640  ...        170   \n",
       "2    856            3    725    131    0.153037       648  ...        133   \n",
       "3   1258           16   1123    135    0.107313       758  ...        150   \n",
       "4  32260          289  21239  11021    0.341631     25694  ...       5180   \n",
       "\n",
       "   Full_time_year_round  Unemployed  Unemployment_rate  Median  P25th   P75th  \\\n",
       "0                  1207          37           0.018381  110000  95000  125000   \n",
       "1                   388          85           0.117241   75000  55000   90000   \n",
       "2                   340          16           0.024096   73000  50000  105000   \n",
       "3                   692          40           0.050125   70000  43000   80000   \n",
       "4                 16697        1672           0.061098   65000  50000   75000   \n",
       "\n",
       "   College_jobs  Non_college_jobs  Low_wage_jobs  \n",
       "0          1534               364            193  \n",
       "1           350               257             50  \n",
       "2           456               176              0  \n",
       "3           529               102              0  \n",
       "4         18314              4440            972  \n",
       "\n",
       "[5 rows x 21 columns]"
      ],
      "text/html": "<div>\n<style scoped>\n    .dataframe tbody tr th:only-of-type {\n        vertical-align: middle;\n    }\n\n    .dataframe tbody tr th {\n        vertical-align: top;\n    }\n\n    .dataframe thead th {\n        text-align: right;\n    }\n</style>\n<table border=\"1\" class=\"dataframe\">\n  <thead>\n    <tr style=\"text-align: right;\">\n      <th></th>\n      <th>Rank</th>\n      <th>Major_code</th>\n      <th>Major</th>\n      <th>Major_category</th>\n      <th>Total</th>\n      <th>Sample_size</th>\n      <th>Men</th>\n      <th>Women</th>\n      <th>ShareWomen</th>\n      <th>Employed</th>\n      <th>...</th>\n      <th>Part_time</th>\n      <th>Full_time_year_round</th>\n      <th>Unemployed</th>\n      <th>Unemployment_rate</th>\n      <th>Median</th>\n      <th>P25th</th>\n      <th>P75th</th>\n      <th>College_jobs</th>\n      <th>Non_college_jobs</th>\n      <th>Low_wage_jobs</th>\n    </tr>\n  </thead>\n  <tbody>\n    <tr>\n      <th>0</th>\n      <td>1</td>\n      <td>2419</td>\n      <td>PETROLEUM ENGINEERING</td>\n      <td>Engineering</td>\n      <td>2339</td>\n      <td>36</td>\n      <td>2057</td>\n      <td>282</td>\n      <td>0.120564</td>\n      <td>1976</td>\n      <td>...</td>\n      <td>270</td>\n      <td>1207</td>\n      <td>37</td>\n      <td>0.018381</td>\n      <td>110000</td>\n      <td>95000</td>\n      <td>125000</td>\n      <td>1534</td>\n      <td>364</td>\n      <td>193</td>\n    </tr>\n    <tr>\n      <th>1</th>\n      <td>2</td>\n      <td>2416</td>\n      <td>MINING AND MINERAL ENGINEERING</td>\n      <td>Engineering</td>\n      <td>756</td>\n      <td>7</td>\n      <td>679</td>\n      <td>77</td>\n      <td>0.101852</td>\n      <td>640</td>\n      <td>...</td>\n      <td>170</td>\n      <td>388</td>\n      <td>85</td>\n      <td>0.117241</td>\n      <td>75000</td>\n      <td>55000</td>\n      <td>90000</td>\n      <td>350</td>\n      <td>257</td>\n      <td>50</td>\n    </tr>\n    <tr>\n      <th>2</th>\n      <td>3</td>\n      <td>2415</td>\n      <td>METALLURGICAL ENGINEERING</td>\n      <td>Engineering</td>\n      <td>856</td>\n      <td>3</td>\n      <td>725</td>\n      <td>131</td>\n      <td>0.153037</td>\n      <td>648</td>\n      <td>...</td>\n      <td>133</td>\n      <td>340</td>\n      <td>16</td>\n      <td>0.024096</td>\n      <td>73000</td>\n      <td>50000</td>\n      <td>105000</td>\n      <td>456</td>\n      <td>176</td>\n      <td>0</td>\n    </tr>\n    <tr>\n      <th>3</th>\n      <td>4</td>\n      <td>2417</td>\n      <td>NAVAL ARCHITECTURE AND MARINE ENGINEERING</td>\n      <td>Engineering</td>\n      <td>1258</td>\n      <td>16</td>\n      <td>1123</td>\n      <td>135</td>\n      <td>0.107313</td>\n      <td>758</td>\n      <td>...</td>\n      <td>150</td>\n      <td>692</td>\n      <td>40</td>\n      <td>0.050125</td>\n      <td>70000</td>\n      <td>43000</td>\n      <td>80000</td>\n      <td>529</td>\n      <td>102</td>\n      <td>0</td>\n    </tr>\n    <tr>\n      <th>4</th>\n      <td>5</td>\n      <td>2405</td>\n      <td>CHEMICAL ENGINEERING</td>\n      <td>Engineering</td>\n      <td>32260</td>\n      <td>289</td>\n      <td>21239</td>\n      <td>11021</td>\n      <td>0.341631</td>\n      <td>25694</td>\n      <td>...</td>\n      <td>5180</td>\n      <td>16697</td>\n      <td>1672</td>\n      <td>0.061098</td>\n      <td>65000</td>\n      <td>50000</td>\n      <td>75000</td>\n      <td>18314</td>\n      <td>4440</td>\n      <td>972</td>\n    </tr>\n  </tbody>\n</table>\n<p>5 rows × 21 columns</p>\n</div>"
     },
     "metadata": {},
     "execution_count": 12
    }
   ],
   "source": [
    "recent_grads = pd.read_csv(\"jeux_donnees/recent-grads.csv\")\n",
    "recent_grads[0:5]"
   ]
  },
  {
   "source": [
    "## Nombre d'étudiants par catégorie de Major\n",
    "- Retourner les valeurs uniques de Major_category.\n",
    "    - Utiliser la méthode Series.unique() (équivalent du distinct en SQL) pour retourner les valeurs uniques d'une Series.\n"
   ],
   "cell_type": "markdown",
   "metadata": {}
  },
  {
   "cell_type": "code",
   "execution_count": 61,
   "metadata": {},
   "outputs": [
    {
     "output_type": "stream",
     "name": "stdout",
     "text": [
      "['Agriculture & Natural Resources' 'Biology & Life Science' 'Engineering'\n 'Humanities & Liberal Arts' 'Communications & Journalism'\n 'Computers & Mathematics' 'Industrial Arts & Consumer Services'\n 'Education' 'Law & Public Policy' 'Interdisciplinary' 'Health'\n 'Social Science' 'Physical Sciences' ' Physical Sciences'\n 'Psychology & Social Work' '15726' 'Arts' 'Business'] \n\n<class 'numpy.ndarray'>\n['Engineering' 'Business' 'Physical Sciences' 'Law & Public Policy'\n 'Computers & Mathematics' 'Agriculture & Natural Resources'\n 'Industrial Arts & Consumer Services' 'Arts' 'Health' 'Social Science'\n 'Biology & Life Science' 'Education' 'Humanities & Liberal Arts'\n 'Psychology & Social Work' 'Communications & Journalism'\n 'Interdisciplinary']\n"
     ]
    }
   ],
   "source": [
    "aa_major_categories = all_ages[\"Major_category\"].unique()\n",
    "print(aa_major_categories,\"\\n\")\n",
    "print(type(aa_major_categories))\n",
    "\n",
    "rg_major_categories = recent_grads[\"Major_category\"].unique()\n",
    "print(rg_major_categories)"
   ]
  },
  {
   "source": [
    "- Pour chaque valeur unique (utilisation d'une boucle for?):\n",
    "    - Retourner toutes les lignes où Major_category vaut cette valeur unique.\n",
    "    - Calculer le nombre total d'étudiants représentant cette catégorie de major (colonne Total à sommer).\n",
    "    - Vous garderez en mémoire ce résultat sous la forme d'un dictionnaire contenant une Major_category en clé et le nombre d'étudiants en valeur."
   ],
   "cell_type": "markdown",
   "metadata": {}
  },
  {
   "cell_type": "code",
   "execution_count": 62,
   "metadata": {},
   "outputs": [
    {
     "output_type": "stream",
     "name": "stdout",
     "text": [
      "all_ages :\n{'Agriculture & Natural Resources': 632437, 'Biology & Life Science': 1338186, 'Engineering': 3576013, 'Humanities & Liberal Arts': 3738335, 'Communications & Journalism': 1803822, 'Computers & Mathematics': 1781378, 'Industrial Arts & Consumer Services': 1018072, 'Education': 4700118, 'Law & Public Policy': 902926, 'Interdisciplinary': 45199, 'Health': 2950859, 'Social Science': 2654125, 'Physical Sciences': 1013152, ' Physical Sciences': 12166, 'Psychology & Social Work': 1987278, '15726': 12607, 'Arts': 1805865, 'Business': 9858741}\n\nrecent_grads :\n{'Engineering': 537583, 'Business': 1302376, 'Physical Sciences': 185479, 'Law & Public Policy': 179107, 'Computers & Mathematics': 299008, 'Agriculture & Natural Resources': 79981, 'Industrial Arts & Consumer Services': 229792, 'Arts': 357130, 'Health': 463230, 'Social Science': 529966, 'Biology & Life Science': 453862, 'Education': 559129, 'Humanities & Liberal Arts': 713468, 'Psychology & Social Work': 481007, 'Communications & Journalism': 392601, 'Interdisciplinary': 12296}\n"
     ]
    }
   ],
   "source": [
    "aa_cat_counts = {}\n",
    "rg_cat_counts = {}\n",
    "\n",
    "for major_category in aa_major_categories:\n",
    "    aa_cat = all_ages[all_ages[\"Major_category\"]==major_category]\n",
    "    aa_cat_counts[major_category] = aa_cat[\"Total\"].sum()\n",
    "\n",
    "for major_category in rg_major_categories:\n",
    "    rg_cat = recent_grads[recent_grads[\"Major_category\"]==major_category]\n",
    "    rg_cat_counts[major_category] = rg_cat[\"Total\"].sum()\n",
    "\n",
    "print(\"all_ages :\")\n",
    "print(aa_cat_counts)\n",
    "\n",
    "print(\"\\nrecent_grads :\")\n",
    "print(rg_cat_counts)"
   ]
  },
  {
   "cell_type": "code",
   "execution_count": 63,
   "metadata": {},
   "outputs": [
    {
     "output_type": "stream",
     "name": "stdout",
     "text": [
      "all_ages :\n{'Agriculture & Natural Resources': 632437, 'Biology & Life Science': 1338186, 'Engineering': 3576013, 'Humanities & Liberal Arts': 3738335, 'Communications & Journalism': 1803822, 'Computers & Mathematics': 1781378, 'Industrial Arts & Consumer Services': 1018072, 'Education': 4700118, 'Law & Public Policy': 902926, 'Interdisciplinary': 45199, 'Health': 2950859, 'Social Science': 2654125, 'Physical Sciences': 1013152, ' Physical Sciences': 12166, 'Psychology & Social Work': 1987278, '15726': 12607, 'Arts': 1805865, 'Business': 9858741}\n\nrecent_grads :\n{'Engineering': 537583, 'Business': 1302376, 'Physical Sciences': 185479, 'Law & Public Policy': 179107, 'Computers & Mathematics': 299008, 'Agriculture & Natural Resources': 79981, 'Industrial Arts & Consumer Services': 229792, 'Arts': 357130, 'Health': 463230, 'Social Science': 529966, 'Biology & Life Science': 453862, 'Education': 559129, 'Humanities & Liberal Arts': 713468, 'Psychology & Social Work': 481007, 'Communications & Journalism': 392601, 'Interdisciplinary': 12296}\n"
     ]
    }
   ],
   "source": [
    "# Fonction qui renvoie ces dictionnaires :\n",
    "\n",
    "def cat_count(data):\n",
    "\n",
    "    major_categories = data[\"Major_category\"].unique()\n",
    "    counts = {}\n",
    "\n",
    "    for major_category in major_categories:\n",
    "        data_cat = data[data[\"Major_category\"]==major_category]\n",
    "        counts[major_category] = data_cat[\"Total\"].sum()\n",
    "\n",
    "    return counts \n",
    "        \n",
    "aa_cat_counts2 = cat_count(all_ages)\n",
    "rg_cat_counts2 = cat_count(recent_grads)\n",
    "\n",
    "print(\"all_ages :\")\n",
    "print(aa_cat_counts2)\n",
    "\n",
    "print(\"\\nrecent_grads :\")\n",
    "print(rg_cat_counts2)"
   ]
  },
  {
   "source": [
    "## Taux de jobs à faible salaire\n",
    "\n",
    "- Utiliser les colonnes \"Low_wage_jobs\" et \"Total\" pour calculer la proportion de jeunes diplômés qui ont du trouver des jobs à faible salaire (recent_grads).\n",
    "    - Souvenez-vous que vous pouvez utiliser la méthode Series.sum() pour retourner la somme des valeurs d'une colonne\n",
    "- Stocker le résultat dans la variable low_wage_proportion et afficher le.\n"
   ],
   "cell_type": "markdown",
   "metadata": {}
  },
  {
   "cell_type": "code",
   "execution_count": 64,
   "metadata": {},
   "outputs": [
    {
     "output_type": "stream",
     "name": "stdout",
     "text": [
      " Taux de jobs à faible salaire : 9.85 %\n"
     ]
    }
   ],
   "source": [
    "low_wage_proportion = recent_grads[\"Low_wage_jobs\"].sum() / recent_grads[\"Total\"].sum()\n",
    "\n",
    "print(\" Taux de jobs à faible salaire :\", round(low_wage_proportion*100,2),\"%\")"
   ]
  },
  {
   "source": [
    "## Comparer des datasets\n",
    "\n",
    "- Utiliser une boucle for pour parcourir toutes les majors.\n",
    "    - Pour chaque Major et chaque DataFrame, filtrer seulement les lignes du DataFrame correspondant à cette major\n",
    "    - Comparer les valeurs pour la colonne \"Unemployment_rate\" pour voir lequel des 2 DataFrames possèdent la valeur la plus basse\n",
    "    - Incrémenter (cad ajouter 1) à la variable rg_lower_count si la valeur pour Unemployment_rate est plus petite dans le dataframe recent_grads que dans le dataframe all_ages\n",
    "- Afficher le résultat rg_lower_count.\n"
   ],
   "cell_type": "markdown",
   "metadata": {}
  },
  {
   "cell_type": "code",
   "execution_count": 10,
   "metadata": {},
   "outputs": [
    {
     "output_type": "stream",
     "name": "stdout",
     "text": [
      "42\n"
     ]
    }
   ],
   "source": [
    "aa_majors = all_ages[\"Major\"].unique()\n",
    "rg_majors = recent_grads[\"Major\"].unique()\n",
    "\n",
    "rg_lower_count = 0\n",
    "\n",
    "for major in aa_majors:\n",
    "    if major in rg_majors :\n",
    "        \n",
    "        aa_major = all_ages[all_ages[\"Major\"] == major]\n",
    "        rg_major = recent_grads[recent_grads[\"Major\"] == major]\n",
    "\n",
    "        if rg_major.iloc[0][\"Unemployment_rate\"] < aa_major.iloc[0][\"Unemployment_rate\"] : rg_lower_count += 1\n",
    "        # if rg_major[\"Unemployment_rate\"].values[0] < aa_major[\"Unemployment_rate\"].values[0] : rg_lower_count += 1\n",
    "\n",
    "print(rg_lower_count)"
   ]
  },
  {
   "cell_type": "code",
   "execution_count": null,
   "metadata": {},
   "outputs": [],
   "source": []
  }
 ]
}