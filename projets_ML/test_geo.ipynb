{
 "metadata": {
  "language_info": {
   "codemirror_mode": {
    "name": "ipython",
    "version": 3
   },
   "file_extension": ".py",
   "mimetype": "text/x-python",
   "name": "python",
   "nbconvert_exporter": "python",
   "pygments_lexer": "ipython3",
   "version": "3.8.5"
  },
  "orig_nbformat": 2,
  "kernelspec": {
   "name": "python385jvsc74a57bd064b474f71659f9be32f34132c3eef93d33d176ead871b80ca6db3fa26bc83f65",
   "display_name": "Python 3.8.5 64-bit ('base': conda)"
  }
 },
 "nbformat": 4,
 "nbformat_minor": 2,
 "cells": [
  {
   "cell_type": "code",
   "execution_count": 11,
   "metadata": {},
   "outputs": [
    {
     "output_type": "stream",
     "name": "stdout",
     "text": [
      "El Rancho High School, Passons Boulevard, Pico Rivera, California, 90660, United States\n-118.0870125\n33.983902\n"
     ]
    }
   ],
   "source": [
    "from geopy.geocoders import Nominatim\n",
    "\n",
    "address = \"1451-1401 Seventh St, Berkeley, CA 94710, États-Unis\"\n",
    "address = \"499 Avenue Janvier Passero 06210 Mandelieu France\"\n",
    "address = \"El Rancho, Pico Rivera, Californie, États-Unis\"\n",
    "\n",
    "geolocator = Nominatim(user_agent=\"Estimaison\")\n",
    "location = geolocator.geocode(address)\n",
    "print(location)\n",
    "print(location.longitude)\n",
    "print(location.latitude)"
   ]
  },
  {
   "cell_type": "code",
   "execution_count": null,
   "metadata": {},
   "outputs": [],
   "source": []
  }
 ]
}