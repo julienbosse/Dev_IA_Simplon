{
 "cells": [
  {
   "cell_type": "code",
   "execution_count": 1,
   "source": [
    "import json\n",
    "from sqlalchemy import create_engine\n",
    "import pandas as pd \n",
    "import numpy as np\n",
    "\n",
    "with open(\"sql_credentials.json\") as file:\n",
    "    data = json.load(file)\n",
    "    myUser = data[\"user\"]\n",
    "    myPassword = data[\"password\"]\n",
    "    myHost = data[\"host\"]\n",
    "\n",
    "def connect_db(user, password, host, bd):\n",
    "    s = \"mysql+pymysql://\"\n",
    "    s += user+\":\"+password+\"@\"+host+\"/\"+bd\n",
    "    return create_engine(s)\n",
    "\n",
    "accidents = connect_db(myUser,myPassword,myHost,\"accidents\")\n",
    "\n",
    "data = pd.read_csv(\"donnees/grav_class.csv\")\n",
    "data = data.drop([\"index\",\"Unnamed: 0\"],axis=1)\n",
    "\n",
    "data.to_sql('accident', if_exists='append', con=accidents, index=False)\n",
    "\n",
    "pd.read_sql_query(\"select * from accident\", accidents)"
   ],
   "outputs": [],
   "metadata": {}
  }
 ],
 "metadata": {
  "orig_nbformat": 4,
  "language_info": {
   "name": "python",
   "version": "3.8.5",
   "mimetype": "text/x-python",
   "codemirror_mode": {
    "name": "ipython",
    "version": 3
   },
   "pygments_lexer": "ipython3",
   "nbconvert_exporter": "python",
   "file_extension": ".py"
  },
  "kernelspec": {
   "name": "python3",
   "display_name": "Python 3.8.5 64-bit ('base': conda)"
  },
  "interpreter": {
   "hash": "64b474f71659f9be32f34132c3eef93d33d176ead871b80ca6db3fa26bc83f65"
  }
 },
 "nbformat": 4,
 "nbformat_minor": 2
}