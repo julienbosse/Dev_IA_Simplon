{
 "cells": [
  {
   "cell_type": "markdown",
   "source": [
    "# ML supervisé pour les timeseries"
   ],
   "metadata": {}
  },
  {
   "cell_type": "markdown",
   "source": [
    "Dans ce premier notebook on va créer un modèle simple de la forme  $ Y_t = f(Y_{t-1}, Y_{t-2}, Y_{t-3}) $"
   ],
   "metadata": {}
  },
  {
   "cell_type": "markdown",
   "source": [
    "Charger le dataset 'univariate_time_series.csv'. On utilisera les argument index_col et parse_dates"
   ],
   "metadata": {}
  },
  {
   "cell_type": "code",
   "execution_count": 52,
   "source": [
    "import pandas as pd\r\n",
    "\r\n",
    "data = pd.read_csv(\"donnees/univariate_time_series.csv\",parse_dates=[\"timestamp\"],index_col=[\"timestamp\"])"
   ],
   "outputs": [],
   "metadata": {}
  },
  {
   "cell_type": "markdown",
   "source": [
    "Afficher la time series"
   ],
   "metadata": {}
  },
  {
   "cell_type": "code",
   "execution_count": 9,
   "source": [
    "import matplotlib.pyplot as plt\r\n",
    "\r\n",
    "plt.plot(data)"
   ],
   "outputs": [
    {
     "output_type": "execute_result",
     "data": {
      "text/plain": [
       "[<matplotlib.lines.Line2D at 0x2717f57e730>]"
      ]
     },
     "metadata": {},
     "execution_count": 9
    },
    {
     "output_type": "display_data",
     "data": {
      "image/png": "[encoded data removed]",
      "text/plain": [
       "<Figure size 432x288 with 1 Axes>"
      ]
     },
     "metadata": {
      "needs_background": "light"
     }
    }
   ],
   "metadata": {}
  },
  {
   "cell_type": "markdown",
   "source": [
    "Avec la méthode shift de pandas créer les colonnes correspondants à $Y_{t-1}, Y_{t-2}, Y_{t-3}$ avec la méthode shift de pandas"
   ],
   "metadata": {}
  },
  {
   "cell_type": "code",
   "execution_count": 53,
   "source": [
    "data[\"yt-1\"]=data[\"count\"].shift(periods=1)\r\n",
    "data[\"yt-2\"]=data[\"count\"].shift(periods=2)\r\n",
    "data[\"yt-3\"]=data[\"count\"].shift(periods=3)"
   ],
   "outputs": [],
   "metadata": {}
  },
  {
   "cell_type": "markdown",
   "source": [
    "On va normaliser les données de la série temporelle avec le scaler MinMaxScaler. Importer le MinMaxScaler du module preprocessing de sklearn et normaliser les données du dataframe"
   ],
   "metadata": {}
  },
  {
   "cell_type": "code",
   "execution_count": 54,
   "source": [
    "from sklearn.preprocessing import MinMaxScaler\r\n",
    "\r\n",
    "scaler = MinMaxScaler()\r\n",
    "scaler.fit(data[[\"yt-1\",\"yt-2\",\"yt-3\",\"count\"]])\r\n",
    "data_scaled = scaler.transform(data[[\"yt-1\",\"yt-2\",\"yt-3\",\"count\"]])\r\n",
    "\r\n",
    "data_scaled\r\n"
   ],
   "outputs": [
    {
     "output_type": "execute_result",
     "data": {
      "text/plain": [
       "array([[       nan,        nan,        nan, 0.70469147],\n",
       "       [0.70469147,        nan,        nan, 0.67737012],\n",
       "       [0.67737012, 0.70469147,        nan, 0.71098496],\n",
       "       ...,\n",
       "       [0.57018837, 0.56917371, 0.5617781 , 0.57916282],\n",
       "       [0.57916282, 0.57018837, 0.56917371, 0.56475209],\n",
       "       [0.56475209, 0.57916282, 0.57018837, 0.54794467]])"
      ]
     },
     "metadata": {},
     "execution_count": 54
    }
   ],
   "metadata": {}
  },
  {
   "cell_type": "markdown",
   "source": [
    "Le scaler retourne-t-il un dataframe ? Sinon le recréer à partir des données normalisées"
   ],
   "metadata": {}
  },
  {
   "cell_type": "code",
   "execution_count": 55,
   "source": [
    "data_scaled = pd.DataFrame(data_scaled,columns=[\"yt-1\",\"yt-2\",\"yt-3\",\"count\"])\r\n",
    "data_scaled.index = data.index\r\n",
    "\r\n",
    "data_scaled = data_scaled.dropna()\r\n"
   ],
   "outputs": [],
   "metadata": {}
  },
  {
   "cell_type": "markdown",
   "source": [
    "Sauvegarder le dataframe dans un fichier \"time_series_preprocessed.csv\""
   ],
   "metadata": {}
  },
  {
   "cell_type": "code",
   "execution_count": 56,
   "source": [
    "data_scaled.to_csv(\"donnees/time_series_preprocessed.csv\")\r\n",
    "data_scaled"
   ],
   "outputs": [
    {
     "output_type": "execute_result",
     "data": {
      "text/html": [
       "<div>\n",
       "<style scoped>\n",
       "    .dataframe tbody tr th:only-of-type {\n",
       "        vertical-align: middle;\n",
       "    }\n",
       "\n",
       "    .dataframe tbody tr th {\n",
       "        vertical-align: top;\n",
       "    }\n",
       "\n",
       "    .dataframe thead th {\n",
       "        text-align: right;\n",
       "    }\n",
       "</style>\n",
       "<table border=\"1\" class=\"dataframe\">\n",
       "  <thead>\n",
       "    <tr style=\"text-align: right;\">\n",
       "      <th></th>\n",
       "      <th>yt-1</th>\n",
       "      <th>yt-2</th>\n",
       "      <th>yt-3</th>\n",
       "      <th>count</th>\n",
       "    </tr>\n",
       "    <tr>\n",
       "      <th>timestamp</th>\n",
       "      <th></th>\n",
       "      <th></th>\n",
       "      <th></th>\n",
       "      <th></th>\n",
       "    </tr>\n",
       "  </thead>\n",
       "  <tbody>\n",
       "    <tr>\n",
       "      <th>2018-09-25 14:04:00</th>\n",
       "      <td>0.710985</td>\n",
       "      <td>0.677370</td>\n",
       "      <td>0.704691</td>\n",
       "      <td>0.684223</td>\n",
       "    </tr>\n",
       "    <tr>\n",
       "      <th>2018-09-25 14:05:00</th>\n",
       "      <td>0.684223</td>\n",
       "      <td>0.710985</td>\n",
       "      <td>0.677370</td>\n",
       "      <td>0.630302</td>\n",
       "    </tr>\n",
       "    <tr>\n",
       "      <th>2018-09-25 14:06:00</th>\n",
       "      <td>0.630302</td>\n",
       "      <td>0.684223</td>\n",
       "      <td>0.710985</td>\n",
       "      <td>0.702067</td>\n",
       "    </tr>\n",
       "    <tr>\n",
       "      <th>2018-09-25 14:07:00</th>\n",
       "      <td>0.702067</td>\n",
       "      <td>0.630302</td>\n",
       "      <td>0.684223</td>\n",
       "      <td>0.713543</td>\n",
       "    </tr>\n",
       "    <tr>\n",
       "      <th>2018-09-25 14:08:00</th>\n",
       "      <td>0.713543</td>\n",
       "      <td>0.702067</td>\n",
       "      <td>0.630302</td>\n",
       "      <td>0.708300</td>\n",
       "    </tr>\n",
       "    <tr>\n",
       "      <th>...</th>\n",
       "      <td>...</td>\n",
       "      <td>...</td>\n",
       "      <td>...</td>\n",
       "      <td>...</td>\n",
       "    </tr>\n",
       "    <tr>\n",
       "      <th>2018-10-05 13:54:00</th>\n",
       "      <td>0.561778</td>\n",
       "      <td>0.570468</td>\n",
       "      <td>0.579871</td>\n",
       "      <td>0.569174</td>\n",
       "    </tr>\n",
       "    <tr>\n",
       "      <th>2018-10-05 13:55:00</th>\n",
       "      <td>0.569174</td>\n",
       "      <td>0.561778</td>\n",
       "      <td>0.570468</td>\n",
       "      <td>0.570188</td>\n",
       "    </tr>\n",
       "    <tr>\n",
       "      <th>2018-10-05 13:56:00</th>\n",
       "      <td>0.570188</td>\n",
       "      <td>0.569174</td>\n",
       "      <td>0.561778</td>\n",
       "      <td>0.579163</td>\n",
       "    </tr>\n",
       "    <tr>\n",
       "      <th>2018-10-05 13:57:00</th>\n",
       "      <td>0.579163</td>\n",
       "      <td>0.570188</td>\n",
       "      <td>0.569174</td>\n",
       "      <td>0.564752</td>\n",
       "    </tr>\n",
       "    <tr>\n",
       "      <th>2018-10-05 13:58:00</th>\n",
       "      <td>0.564752</td>\n",
       "      <td>0.579163</td>\n",
       "      <td>0.570188</td>\n",
       "      <td>0.547945</td>\n",
       "    </tr>\n",
       "  </tbody>\n",
       "</table>\n",
       "<p>14395 rows × 4 columns</p>\n",
       "</div>"
      ],
      "text/plain": [
       "                         yt-1      yt-2      yt-3     count\n",
       "timestamp                                                  \n",
       "2018-09-25 14:04:00  0.710985  0.677370  0.704691  0.684223\n",
       "2018-09-25 14:05:00  0.684223  0.710985  0.677370  0.630302\n",
       "2018-09-25 14:06:00  0.630302  0.684223  0.710985  0.702067\n",
       "2018-09-25 14:07:00  0.702067  0.630302  0.684223  0.713543\n",
       "2018-09-25 14:08:00  0.713543  0.702067  0.630302  0.708300\n",
       "...                       ...       ...       ...       ...\n",
       "2018-10-05 13:54:00  0.561778  0.570468  0.579871  0.569174\n",
       "2018-10-05 13:55:00  0.569174  0.561778  0.570468  0.570188\n",
       "2018-10-05 13:56:00  0.570188  0.569174  0.561778  0.579163\n",
       "2018-10-05 13:57:00  0.579163  0.570188  0.569174  0.564752\n",
       "2018-10-05 13:58:00  0.564752  0.579163  0.570188  0.547945\n",
       "\n",
       "[14395 rows x 4 columns]"
      ]
     },
     "metadata": {},
     "execution_count": 56
    }
   ],
   "metadata": {}
  },
  {
   "cell_type": "markdown",
   "source": [
    "Séparer les données en train et test "
   ],
   "metadata": {}
  },
  {
   "cell_type": "code",
   "execution_count": 57,
   "source": [
    "from sklearn.model_selection import train_test_split\r\n",
    "\r\n",
    "train, test = train_test_split(data_scaled, test_size=0.2)"
   ],
   "outputs": [],
   "metadata": {}
  },
  {
   "cell_type": "markdown",
   "source": [
    "Entrainer une régression linéaire sur les données de train"
   ],
   "metadata": {}
  },
  {
   "cell_type": "code",
   "execution_count": 58,
   "source": [
    "from sklearn.linear_model import LinearRegression\r\n",
    "\r\n",
    "# Select a linear model\r\n",
    "model = LinearRegression()\r\n",
    "\r\n",
    "# Train the model\r\n",
    "model.fit(train[[\"yt-1\",\"yt-2\",\"yt-3\"]], train[\"count\"])"
   ],
   "outputs": [
    {
     "output_type": "execute_result",
     "data": {
      "text/plain": [
       "LinearRegression()"
      ]
     },
     "metadata": {},
     "execution_count": 58
    }
   ],
   "metadata": {}
  },
  {
   "cell_type": "markdown",
   "source": [
    "Avec la méthode score du modèle, afficher le score de train et le score de test"
   ],
   "metadata": {}
  },
  {
   "cell_type": "code",
   "execution_count": 77,
   "source": [
    "from sklearn.metrics import accuracy_score\r\n",
    "import numpy as np\r\n",
    "\r\n",
    "print(\"Train :\")\r\n",
    "print(model.score(train[[\"yt-1\",\"yt-2\",\"yt-3\"]],train[\"count\"]))\r\n",
    "\r\n",
    "print(\"Test :\")\r\n",
    "print(model.score(test[[\"yt-1\",\"yt-2\",\"yt-3\"]],test[\"count\"]))"
   ],
   "outputs": [
    {
     "output_type": "stream",
     "name": "stdout",
     "text": [
      "Train :\n",
      "0.9386186078238171\n",
      "Test :\n",
      "0.9372811090415232\n"
     ]
    }
   ],
   "metadata": {}
  },
  {
   "cell_type": "markdown",
   "source": [
    "Afficher les coefficients du modèle"
   ],
   "metadata": {}
  },
  {
   "cell_type": "code",
   "execution_count": 78,
   "source": [
    "print(model.coef_)"
   ],
   "outputs": [
    {
     "output_type": "stream",
     "name": "stdout",
     "text": [
      "[0.54163023 0.21584516 0.22238733]\n"
     ]
    }
   ],
   "metadata": {}
  },
  {
   "cell_type": "markdown",
   "source": [
    "On va maintenant voir comment faire pour faire des prédiction à plusieurs time step. L'idée est similaire à avant. On va simplement shift du nombre de time step qu'on veut prédire. "
   ],
   "metadata": {}
  },
  {
   "cell_type": "code",
   "execution_count": null,
   "source": [],
   "outputs": [],
   "metadata": {}
  },
  {
   "cell_type": "markdown",
   "source": [
    "Réentraîner une regression linéaire"
   ],
   "metadata": {}
  },
  {
   "cell_type": "code",
   "execution_count": null,
   "source": [],
   "outputs": [],
   "metadata": {}
  },
  {
   "cell_type": "markdown",
   "source": [
    "A la place d'une régression linéaire on va utiliser un arbre de décision. Importer le modèle DecisionTreeRegressor"
   ],
   "metadata": {}
  },
  {
   "cell_type": "code",
   "execution_count": null,
   "source": [],
   "outputs": [],
   "metadata": {}
  }
 ],
 "metadata": {
  "kernelspec": {
   "name": "python3",
   "display_name": "Python 3.9.7 64-bit ('venv': venv)"
  },
  "language_info": {
   "codemirror_mode": {
    "name": "ipython",
    "version": 3
   },
   "file_extension": ".py",
   "mimetype": "text/x-python",
   "name": "python",
   "nbconvert_exporter": "python",
   "pygments_lexer": "ipython3",
   "version": "3.9.7"
  },
  "interpreter": {
   "hash": "7a1d43260dbb52f8d497dc243e2f923d02feb1b118db3293a70471221f8e6028"
  }
 },
 "nbformat": 4,
 "nbformat_minor": 4
}