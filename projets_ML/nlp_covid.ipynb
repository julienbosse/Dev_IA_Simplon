{
 "metadata": {
  "language_info": {
   "codemirror_mode": {
    "name": "ipython",
    "version": 3
   },
   "file_extension": ".py",
   "mimetype": "text/x-python",
   "name": "python",
   "nbconvert_exporter": "python",
   "pygments_lexer": "ipython3",
   "version": "3.8.5"
  },
  "orig_nbformat": 4,
  "kernelspec": {
   "name": "python3",
   "display_name": "Python 3.8.5 64-bit ('base': conda)"
  },
  "interpreter": {
   "hash": "64b474f71659f9be32f34132c3eef93d33d176ead871b80ca6db3fa26bc83f65"
  }
 },
 "nbformat": 4,
 "nbformat_minor": 2,
 "cells": [
  {
   "cell_type": "code",
   "execution_count": 161,
   "metadata": {},
   "outputs": [],
   "source": [
    "import os\n",
    "import numpy as np\n",
    "import pandas as pd\n",
    "import re\n",
    "\n",
    "from sklearn import metrics\n",
    "from sklearn.feature_extraction.text import CountVectorizer, TfidfTransformer\n",
    "from sklearn.model_selection import train_test_split, cross_val_score\n",
    "from sklearn.linear_model import SGDClassifier\n",
    "from sklearn.pipeline import Pipeline\n",
    "from sklearn.metrics import accuracy_score"
   ]
  },
  {
   "cell_type": "code",
   "execution_count": 162,
   "metadata": {},
   "outputs": [],
   "source": [
    "from sklearn.naive_bayes import MultinomialNB"
   ]
  },
  {
   "cell_type": "code",
   "execution_count": 163,
   "metadata": {},
   "outputs": [
    {
     "output_type": "stream",
     "name": "stdout",
     "text": [
      "(41157, 6)\n(3798, 6)\n"
     ]
    },
    {
     "output_type": "execute_result",
     "data": {
      "text/plain": [
       "       UserName  ScreenName                      Location     TweetAt  \\\n",
       "0          3799       48751                        London  16-03-2020   \n",
       "1          3800       48752                            UK  16-03-2020   \n",
       "2          3801       48753                     Vagabonds  16-03-2020   \n",
       "3          3802       48754                           NaN  16-03-2020   \n",
       "4          3803       48755                           NaN  16-03-2020   \n",
       "...         ...         ...                           ...         ...   \n",
       "41152     44951       89903  Wellington City, New Zealand  14-04-2020   \n",
       "41153     44952       89904                           NaN  14-04-2020   \n",
       "41154     44953       89905                           NaN  14-04-2020   \n",
       "41155     44954       89906                           NaN  14-04-2020   \n",
       "41156     44955       89907  i love you so much || he/him  14-04-2020   \n",
       "\n",
       "                                           OriginalTweet           Sentiment  \n",
       "0      @MeNyrbie @Phil_Gahan @Chrisitv https://t.co/i...             Neutral  \n",
       "1      advice Talk to your neighbours family to excha...            Positive  \n",
       "2      Coronavirus Australia: Woolworths to give elde...            Positive  \n",
       "3      My food stock is not the only one which is emp...            Positive  \n",
       "4      Me, ready to go at supermarket during the #COV...  Extremely Negative  \n",
       "...                                                  ...                 ...  \n",
       "41152  Airline pilots offering to stock supermarket s...             Neutral  \n",
       "41153  Response to complaint not provided citing COVI...  Extremely Negative  \n",
       "41154  You know itÂs getting tough when @KameronWild...            Positive  \n",
       "41155  Is it wrong that the smell of hand sanitizer i...             Neutral  \n",
       "41156  @TartiiCat Well new/used Rift S are going for ...            Negative  \n",
       "\n",
       "[41157 rows x 6 columns]"
      ],
      "text/html": "<div>\n<style scoped>\n    .dataframe tbody tr th:only-of-type {\n        vertical-align: middle;\n    }\n\n    .dataframe tbody tr th {\n        vertical-align: top;\n    }\n\n    .dataframe thead th {\n        text-align: right;\n    }\n</style>\n<table border=\"1\" class=\"dataframe\">\n  <thead>\n    <tr style=\"text-align: right;\">\n      <th></th>\n      <th>UserName</th>\n      <th>ScreenName</th>\n      <th>Location</th>\n      <th>TweetAt</th>\n      <th>OriginalTweet</th>\n      <th>Sentiment</th>\n    </tr>\n  </thead>\n  <tbody>\n    <tr>\n      <th>0</th>\n      <td>3799</td>\n      <td>48751</td>\n      <td>London</td>\n      <td>16-03-2020</td>\n      <td>@MeNyrbie @Phil_Gahan @Chrisitv https://t.co/i...</td>\n      <td>Neutral</td>\n    </tr>\n    <tr>\n      <th>1</th>\n      <td>3800</td>\n      <td>48752</td>\n      <td>UK</td>\n      <td>16-03-2020</td>\n      <td>advice Talk to your neighbours family to excha...</td>\n      <td>Positive</td>\n    </tr>\n    <tr>\n      <th>2</th>\n      <td>3801</td>\n      <td>48753</td>\n      <td>Vagabonds</td>\n      <td>16-03-2020</td>\n      <td>Coronavirus Australia: Woolworths to give elde...</td>\n      <td>Positive</td>\n    </tr>\n    <tr>\n      <th>3</th>\n      <td>3802</td>\n      <td>48754</td>\n      <td>NaN</td>\n      <td>16-03-2020</td>\n      <td>My food stock is not the only one which is emp...</td>\n      <td>Positive</td>\n    </tr>\n    <tr>\n      <th>4</th>\n      <td>3803</td>\n      <td>48755</td>\n      <td>NaN</td>\n      <td>16-03-2020</td>\n      <td>Me, ready to go at supermarket during the #COV...</td>\n      <td>Extremely Negative</td>\n    </tr>\n    <tr>\n      <th>...</th>\n      <td>...</td>\n      <td>...</td>\n      <td>...</td>\n      <td>...</td>\n      <td>...</td>\n      <td>...</td>\n    </tr>\n    <tr>\n      <th>41152</th>\n      <td>44951</td>\n      <td>89903</td>\n      <td>Wellington City, New Zealand</td>\n      <td>14-04-2020</td>\n      <td>Airline pilots offering to stock supermarket s...</td>\n      <td>Neutral</td>\n    </tr>\n    <tr>\n      <th>41153</th>\n      <td>44952</td>\n      <td>89904</td>\n      <td>NaN</td>\n      <td>14-04-2020</td>\n      <td>Response to complaint not provided citing COVI...</td>\n      <td>Extremely Negative</td>\n    </tr>\n    <tr>\n      <th>41154</th>\n      <td>44953</td>\n      <td>89905</td>\n      <td>NaN</td>\n      <td>14-04-2020</td>\n      <td>You know itÂs getting tough when @KameronWild...</td>\n      <td>Positive</td>\n    </tr>\n    <tr>\n      <th>41155</th>\n      <td>44954</td>\n      <td>89906</td>\n      <td>NaN</td>\n      <td>14-04-2020</td>\n      <td>Is it wrong that the smell of hand sanitizer i...</td>\n      <td>Neutral</td>\n    </tr>\n    <tr>\n      <th>41156</th>\n      <td>44955</td>\n      <td>89907</td>\n      <td>i love you so much || he/him</td>\n      <td>14-04-2020</td>\n      <td>@TartiiCat Well new/used Rift S are going for ...</td>\n      <td>Negative</td>\n    </tr>\n  </tbody>\n</table>\n<p>41157 rows × 6 columns</p>\n</div>"
     },
     "metadata": {},
     "execution_count": 163
    }
   ],
   "source": [
    "data_test = pd.read_csv(\"donnees/Corona_NLP_test.csv\",encoding='latin-1')\n",
    "data_train = pd.read_csv(\"donnees/Corona_NLP_train.csv\",encoding='latin-1')\n",
    "\n",
    "print(data_train.shape)\n",
    "print(data_test.shape)\n",
    "\n",
    "data_train"
   ]
  },
  {
   "cell_type": "code",
   "execution_count": 164,
   "metadata": {},
   "outputs": [
    {
     "output_type": "stream",
     "name": "stdout",
     "text": [
      "(41157, 6)\n"
     ]
    }
   ],
   "source": [
    "#Replace Extremely\n",
    "data_test[\"Sentiment\"] = data_test[\"Sentiment\"].replace(\"Extremely Negative\",\"Negative\")\n",
    "data_test[\"Sentiment\"] = data_test[\"Sentiment\"].replace(\"Extremely Positive\",\"Positive\")\n",
    "\n",
    "data_train[\"Sentiment\"] = data_train[\"Sentiment\"].replace(\"Extremely Negative\",\"Negative\")\n",
    "data_train[\"Sentiment\"] = data_train[\"Sentiment\"].replace(\"Extremely Positive\",\"Positive\")\n",
    "\n",
    "\n",
    "#Remove Urls and HTML links\n",
    "def remove_urls(text):\n",
    "    url_remove = re.compile(r'https?://\\S+|www\\.\\S+')\n",
    "    return url_remove.sub(r'', text)\n",
    "\n",
    "data_train[\"OriginalTweet\"]=data_train[\"OriginalTweet\"].apply(lambda x:remove_urls(x))\n",
    "data_test[\"OriginalTweet\"]=data_test[\"OriginalTweet\"].apply(lambda x:remove_urls(x))\n",
    "\n",
    "def remove_html(text):\n",
    "    html=re.compile(r'<.*?>')\n",
    "    return html.sub(r'',text)\n",
    "\n",
    "data_train[\"OriginalTweet\"]=data_train[\"OriginalTweet\"].apply(lambda x:remove_html(x))\n",
    "data_test[\"OriginalTweet\"]=data_test[\"OriginalTweet\"].apply(lambda x:remove_html(x))\n",
    "\n",
    "# Lower casing\n",
    "def lower(text):\n",
    "    low_text= text.lower()\n",
    "    return low_text\n",
    "\n",
    "data_train[\"OriginalTweet\"]=data_train[\"OriginalTweet\"].apply(lambda x:lower(x))\n",
    "data_test[\"OriginalTweet\"]=data_test[\"OriginalTweet\"].apply(lambda x:lower(x))\n",
    "\n",
    "\n",
    "# Number removal\n",
    "def remove_num(text):\n",
    "    remove= re.sub(r'\\d+', '', text)\n",
    "    return remove\n",
    "\n",
    "data_train[\"OriginalTweet\"]=data_train[\"OriginalTweet\"].apply(lambda x:remove_num(x))\n",
    "data_test[\"OriginalTweet\"]=data_test[\"OriginalTweet\"].apply(lambda x:remove_num(x))\n",
    "\n",
    "#Remove stopwords & Punctuations\n",
    "from nltk.corpus import stopwords\n",
    "\", \".join(stopwords.words('english'))\n",
    "STOPWORDS = set(stopwords.words('english'))\n",
    "\n",
    "def remove_stopwords(text):\n",
    "    \"\"\"custom function to remove the stopwords\"\"\"\n",
    "    return \" \".join([word for word in str(text).split() if word not in STOPWORDS])\n",
    "data_train[\"OriginalTweet\"]=data_train[\"OriginalTweet\"].apply(lambda x:remove_stopwords(x))\n",
    "data_test[\"OriginalTweet\"]=data_test[\"OriginalTweet\"].apply(lambda x:remove_stopwords(x))\n",
    "\n",
    "def punct_remove(text):\n",
    "    punct = re.sub(r\"[^\\w\\s\\d]\",\"\", text)\n",
    "    return punct\n",
    "data_train[\"OriginalTweet\"]=data_train[\"OriginalTweet\"].apply(lambda x:punct_remove(x))\n",
    "data_test[\"OriginalTweet\"]=data_test[\"OriginalTweet\"].apply(lambda x:punct_remove(x))\n",
    "\n",
    "print(data_train.shape)\n"
   ]
  },
  {
   "cell_type": "code",
   "execution_count": 165,
   "metadata": {},
   "outputs": [
    {
     "output_type": "stream",
     "name": "stdout",
     "text": [
      "  (0, 32427)\t1\n  (0, 39073)\t1\n  (0, 8714)\t1\n  (1, 755)\t1\n  (1, 51067)\t1\n  (1, 34935)\t2\n  (1, 18071)\t1\n  (1, 17562)\t1\n  (1, 39118)\t2\n  (1, 36122)\t2\n  (1, 11917)\t1\n  (1, 10387)\t1\n  (1, 29926)\t1\n  (1, 45517)\t1\n  (1, 16647)\t1\n  (1, 8411)\t1\n  (1, 21740)\t1\n  (1, 46274)\t1\n  (1, 36894)\t1\n  (1, 46838)\t1\n  (1, 375)\t1\n  (1, 39963)\t1\n  (1, 601)\t1\n  (1, 50437)\t1\n  (1, 42720)\t1\n  :\t:\n  (41156, 11464)\t1\n  (41156, 35755)\t1\n  (41156, 1719)\t1\n  (41156, 43785)\t1\n  (41156, 21403)\t1\n  (41156, 40508)\t1\n  (41156, 47271)\t1\n  (41156, 40481)\t1\n  (41156, 31492)\t1\n  (41156, 56885)\t1\n  (41156, 11898)\t1\n  (41156, 42272)\t1\n  (41156, 43959)\t1\n  (41156, 1648)\t1\n  (41156, 57945)\t1\n  (41156, 2219)\t1\n  (41156, 55242)\t1\n  (41156, 56157)\t1\n  (41156, 1378)\t1\n  (41156, 23689)\t1\n  (41156, 23059)\t1\n  (41156, 51186)\t1\n  (41156, 35177)\t1\n  (41156, 43779)\t1\n  (41156, 57191)\t1\n"
     ]
    }
   ],
   "source": [
    "X_train = data_train[\"OriginalTweet\"]\n",
    "y_train = data_train[\"Sentiment\"]\n",
    "count_vec = CountVectorizer()\n",
    "X_train_counts = count_vec.fit_transform(X_train)\n",
    "print(X_train_counts)"
   ]
  },
  {
   "cell_type": "code",
   "execution_count": 166,
   "metadata": {},
   "outputs": [
    {
     "output_type": "stream",
     "name": "stdout",
     "text": [
      "advice talk neighbours family exchange phone numbers create contact list phone numbers neighbours schools employer chemist gp set online shopping accounts poss adequate supplies regular meds order\n\n  (0, 755)\t1\n  (0, 51067)\t1\n  (0, 34935)\t2\n  (0, 18071)\t1\n  (0, 17562)\t1\n  (0, 39118)\t2\n  (0, 36122)\t2\n  (0, 11917)\t1\n  (0, 10387)\t1\n  (0, 29926)\t1\n  (0, 45517)\t1\n  (0, 16647)\t1\n  (0, 8411)\t1\n  (0, 21740)\t1\n  (0, 46274)\t1\n  (0, 36894)\t1\n  (0, 46838)\t1\n  (0, 375)\t1\n  (0, 39963)\t1\n  (0, 601)\t1\n  (0, 50437)\t1\n  (0, 42720)\t1\n  (0, 32255)\t1\n  (0, 37172)\t1\n"
     ]
    }
   ],
   "source": [
    "print(X_train[1])\n",
    "print()\n",
    "print(X_train_counts[1])"
   ]
  },
  {
   "cell_type": "code",
   "execution_count": 167,
   "metadata": {},
   "outputs": [
    {
     "output_type": "stream",
     "name": "stdout",
     "text": [
      "  (0, 51067)\t0.16266273760720704\n  (0, 50437)\t0.12155836858353725\n  (0, 46838)\t0.08606697659992589\n  (0, 46274)\t0.14662095272400702\n  (0, 45517)\t0.17143398061045428\n  (0, 42720)\t0.16675598189435184\n  (0, 39963)\t0.26883710743892564\n  (0, 39118)\t0.3266548371872603\n  (0, 37172)\t0.12816491978007186\n  (0, 36894)\t0.08812285189685298\n  (0, 36122)\t0.3447782362318782\n  (0, 34935)\t0.39033391979659116\n  (0, 32255)\t0.2030752477133528\n  (0, 29926)\t0.14168611930371636\n  (0, 21740)\t0.2162092436597497\n  (0, 18071)\t0.13129939899926027\n  (0, 17562)\t0.19775795402750743\n  (0, 16647)\t0.20877564332564164\n  (0, 11917)\t0.1677437331183683\n  (0, 10387)\t0.1444954305240548\n  (0, 8411)\t0.20483254507471538\n  (0, 755)\t0.14885403759536747\n  (0, 601)\t0.20143519347940886\n  (0, 375)\t0.191201102090543\n"
     ]
    }
   ],
   "source": [
    "tfidf_transformer = TfidfTransformer()\n",
    "X_train_tfidf = tfidf_transformer.fit_transform(X_train_counts)\n",
    "print(X_train_tfidf[1])"
   ]
  },
  {
   "cell_type": "code",
   "execution_count": 168,
   "metadata": {},
   "outputs": [
    {
     "output_type": "execute_result",
     "data": {
      "text/plain": [
       "MultinomialNB()"
      ]
     },
     "metadata": {},
     "execution_count": 168
    }
   ],
   "source": [
    "model = MultinomialNB()\n",
    "model.fit(X_train_tfidf, y_train)"
   ]
  },
  {
   "cell_type": "code",
   "execution_count": 169,
   "metadata": {},
   "outputs": [
    {
     "output_type": "stream",
     "name": "stdout",
     "text": [
      "0.6324381253291206\n"
     ]
    }
   ],
   "source": [
    "X_test = data_test[\"OriginalTweet\"]\n",
    "y_test = data_test[\"Sentiment\"]\n",
    "\n",
    "X_test_counts = count_vec.transform(X_test)\n",
    "X_test_tfidf = tfidf_transformer.transform(X_test_counts)\n",
    "y_pred = model.predict(X_test_tfidf)\n",
    "\n",
    "print(accuracy_score(y_test, y_pred))"
   ]
  },
  {
   "cell_type": "code",
   "execution_count": 170,
   "metadata": {},
   "outputs": [
    {
     "output_type": "stream",
     "name": "stdout",
     "text": [
      "0.721958925750395\n"
     ]
    }
   ],
   "source": [
    "text_model = Pipeline([('count_vec', CountVectorizer()), \n",
    "                     ('tfidf_transformer', TfidfTransformer()),\n",
    "                     ('text_model', SGDClassifier(tol=None, loss='log'))])\n",
    "\n",
    "text_model.fit(X_train, y_train)\n",
    "y_pred = text_model.predict(X_test)\n",
    "print(accuracy_score(y_test, y_pred))"
   ]
  },
  {
   "cell_type": "code",
   "execution_count": 172,
   "metadata": {},
   "outputs": [],
   "source": [
    "y_pred = pd.DataFrame(y_pred)"
   ]
  },
  {
   "cell_type": "code",
   "execution_count": 173,
   "metadata": {},
   "outputs": [
    {
     "output_type": "execute_result",
     "data": {
      "text/plain": [
       "Positive    1826\n",
       "Negative    1703\n",
       "Neutral      269\n",
       "dtype: int64"
      ]
     },
     "metadata": {},
     "execution_count": 173
    }
   ],
   "source": [
    "y_pred.value_counts()"
   ]
  },
  {
   "cell_type": "code",
   "execution_count": 174,
   "metadata": {},
   "outputs": [
    {
     "output_type": "execute_result",
     "data": {
      "text/plain": [
       "Negative    1633\n",
       "Positive    1546\n",
       "Neutral      619\n",
       "Name: Sentiment, dtype: int64"
      ]
     },
     "metadata": {},
     "execution_count": 174
    }
   ],
   "source": [
    "y_test.value_counts()"
   ]
  },
  {
   "cell_type": "code",
   "execution_count": null,
   "metadata": {},
   "outputs": [],
   "source": []
  }
 ]
}