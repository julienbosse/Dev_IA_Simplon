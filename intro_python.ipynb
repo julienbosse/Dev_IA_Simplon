{
 "cells": [
  {
   "cell_type": "code",
   "execution_count": 50,
   "metadata": {},
   "outputs": [
    {
     "name": "stdout",
     "output_type": "stream",
     "text": [
      "<class 'int'>\n",
      "<class 'float'>\n",
      "<class 'str'>\n"
     ]
    }
   ],
   "source": [
    "a = 1\n",
    "b = 1.0\n",
    "c = \"hello world\"\n",
    "\n",
    "print(type(a))\n",
    "print(type(b))\n",
    "print(type(c))"
   ]
  },
  {
   "cell_type": "code",
   "execution_count": 51,
   "metadata": {},
   "outputs": [
    {
     "name": "stdout",
     "output_type": "stream",
     "text": [
      "<class 'float'>\n",
      "4.140000000000001\n"
     ]
    }
   ],
   "source": [
    "# Opérations entre différents types\n",
    "\n",
    "a = 1\n",
    "b = 3.14\n",
    "c = a+b\n",
    "\n",
    "print(type(c))\n",
    "print(c)"
   ]
  },
  {
   "cell_type": "code",
   "execution_count": 52,
   "metadata": {},
   "outputs": [
    {
     "name": "stdout",
     "output_type": "stream",
     "text": [
      "4.5\n",
      "<class 'float'>\n",
      "4\n",
      "<class 'int'>\n"
     ]
    }
   ],
   "source": [
    "# Opérations entre différents types\n",
    "\n",
    "a = 9\n",
    "\n",
    "b = a/2\n",
    "print(b)\n",
    "print(type(b))\n",
    "\n",
    "b = a//2\n",
    "print(b)\n",
    "print(type(b))"
   ]
  },
  {
   "cell_type": "code",
   "execution_count": 5,
   "metadata": {},
   "outputs": [
    {
     "name": "stdout",
     "output_type": "stream",
     "text": [
      "124\n",
      "<class 'int'>\n"
     ]
    }
   ],
   "source": [
    "# Changement de type str to int\n",
    "\n",
    "a = \"123\"\n",
    "b = int(a)\n",
    "print(b+1)\n",
    "print(type(b))"
   ]
  },
  {
   "cell_type": "code",
   "execution_count": 53,
   "metadata": {},
   "outputs": [
    {
     "name": "stdout",
     "output_type": "stream",
     "text": [
      "124.5\n",
      "<class 'float'>\n"
     ]
    }
   ],
   "source": [
    "# Changement de type str to float\n",
    "\n",
    "a = \"123.5\"\n",
    "b = float(a)\n",
    "print(b+1)\n",
    "print(type(b))"
   ]
  },
  {
   "cell_type": "code",
   "execution_count": 7,
   "metadata": {},
   "outputs": [
    {
     "name": "stdout",
     "output_type": "stream",
     "text": [
      "123\n",
      "<class 'int'>\n"
     ]
    }
   ],
   "source": [
    "# Changement de type str to int\n",
    "\n",
    "a = 123.5\n",
    "b = int(a)\n",
    "print(b)\n",
    "print(type(b))"
   ]
  },
  {
   "cell_type": "code",
   "execution_count": 54,
   "metadata": {},
   "outputs": [
    {
     "name": "stdout",
     "output_type": "stream",
     "text": [
      "<class 'str'>\n",
      "<class 'str'>\n",
      "7 3.14\n"
     ]
    }
   ],
   "source": [
    "# Changement de type int/float to str\n",
    "\n",
    "a = 7\n",
    "b = 3.14\n",
    "\n",
    "c = str(a)\n",
    "d = str(b)\n",
    "print(type(c))\n",
    "print(type(d))\n",
    "print(c, d)"
   ]
  },
  {
   "cell_type": "code",
   "execution_count": 9,
   "metadata": {},
   "outputs": [
    {
     "name": "stdout",
     "output_type": "stream",
     "text": [
      "False\n",
      "True\n",
      "False\n",
      "True\n",
      "False\n"
     ]
    }
   ],
   "source": [
    "# Opérations booléens\n",
    "\n",
    "A = B = True\n",
    "C = D = False\n",
    "\n",
    "print( (A or B) and (C or D) )\n",
    "print( A or (B and C) )\n",
    "print( A and B and (C or D) )\n",
    "print( (A and B) or (not C) )\n",
    "print( (not A) or D )"
   ]
  },
  {
   "cell_type": "code",
   "execution_count": 55,
   "metadata": {},
   "outputs": [
    {
     "name": "stdout",
     "output_type": "stream",
     "text": [
      "7\n",
      "-2\n",
      "7\n",
      "17\n",
      "8.988\n"
     ]
    }
   ],
   "source": [
    "# Fonctions abs max min et round\n",
    "\n",
    "print( abs(-3) + max(3, 4) )\n",
    "print( min(4, 8, 0, -2) )\n",
    "print( max( min(7, 8), min(4, 6) ) )\n",
    "print( round(8.324) + round(8.88) )\n",
    "print( round(8.98795136, 3) )"
   ]
  },
  {
   "cell_type": "code",
   "execution_count": 46,
   "metadata": {},
   "outputs": [
    {
     "name": "stdout",
     "output_type": "stream",
     "text": [
      "Selon nous :\n",
      "x1 = 4.17129 , x2 = -1.83796\n",
      "Selon numpy :\n",
      "x1 = 4.17129 , x2 = -1.83796\n"
     ]
    }
   ],
   "source": [
    "# Racine d'un polynome\n",
    "\n",
    "import numpy as np\n",
    "\n",
    "a = 3\n",
    "b = -7\n",
    "c = -23\n",
    "\n",
    "delta = b**2 - (4*a*c)\n",
    "x1 = (-b + delta ** 0.5) / (2*a)\n",
    "x2 = (-b - delta ** 0.5) / (2*a)\n",
    "\n",
    "print(\"Selon nous :\")\n",
    "print(\"x1 =\", round(x1,5),\",\",\"x2 =\",round(x2,5))\n",
    "print(\"Selon numpy :\")\n",
    "print(\"x1 =\", round(np.roots([a,b,c])[0],5),\",\",\"x2 =\",round(np.roots([a,b,c])[1],5)) # On vérifie quand même"
   ]
  },
  {
   "cell_type": "code",
   "execution_count": 56,
   "metadata": {},
   "outputs": [
    {
     "name": "stdout",
     "output_type": "stream",
     "text": [
      "Rayon (en cm): 2\n",
      "Hauteur (en cm): 2\n",
      "\n",
      "Volume: 8.3776 cm3\n"
     ]
    }
   ],
   "source": [
    "# Volume d'un cône\n",
    "\n",
    "import numpy as np\n",
    "\n",
    "r = float(input(\"Rayon (en cm): \"))\n",
    "h = float(input(\"Hauteur (en cm): \"))\n",
    "\n",
    "def volume(r,h):\n",
    "    x = (np.pi*r*r*h/3)\n",
    "    return round(x,4)\n",
    "\n",
    "print(\"\\nVolume:\",volume(r,h),\"cm3\")"
   ]
  },
  {
   "cell_type": "code",
   "execution_count": null,
   "metadata": {},
   "outputs": [],
   "source": []
  }
 ],
 "metadata": {
  "kernelspec": {
   "display_name": "Python 3",
   "language": "python",
   "name": "python3"
  },
  "language_info": {
   "codemirror_mode": {
    "name": "ipython",
    "version": 3
   },
   "file_extension": ".py",
   "mimetype": "text/x-python",
   "name": "python",
   "nbconvert_exporter": "python",
   "pygments_lexer": "ipython3",
   "version": "3.8.5"
  }
 },
 "nbformat": 4,
 "nbformat_minor": 4
}
